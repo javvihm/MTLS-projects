<!DOCTYPE html>
<!-- saved from url=(0085)https://colab.research.google.com/drive/1h5ksUlmDUfDsHRWdIw18bMIQ0ZSdZNEm?usp=sharing -->
<html lang="es" theme="light" editor="Default Light"><head><meta http-equiv="Content-Type" content="text/html; charset=UTF-8"><meta name="og-profile-acct" content="javierhidalgomoreno5@gmail.com"><script type="text/javascript" async="" charset="utf-8" src="./SSP_files/recaptcha__es.js.descargar" crossorigin="anonymous" integrity="sha384-Bygla+GepA+PfuIiK8K+TpBiRQjqLV1gEma1QAx50PokVrieAcaK8thVj7Gc/TqJ" nonce=""></script><script type="text/javascript" async="" charset="utf-8" src="./SSP_files/recaptcha__es.js.descargar" crossorigin="anonymous" integrity="sha384-Bygla+GepA+PfuIiK8K+TpBiRQjqLV1gEma1QAx50PokVrieAcaK8thVj7Gc/TqJ" nonce=""></script><script src="./SSP_files/cb=gapi.loaded_1" nonce="" async=""></script><script src="./SSP_files/cb=gapi.loaded_0" nonce="" async=""></script><script type="text/javascript" async="" src="./SSP_files/js" nonce=""></script><script async="" src="./SSP_files/analytics.js.descargar"></script><script nonce="">
      document.addEventListener('keydown', (e) => {
        // Stop propagation on ESC because otherwise it will halt outbound XHRs
        // See b/131755324 for more info.
        if (e.key === 'Escape') {
          e.stopPropagation();
          e.preventDefault();
        }
      });
    </script><meta name="referrer" content="origin"><meta name="viewport" content="width=device-width, initial-scale=1"><title>SSP.ipynb - Colab</title><link href="./SSP_files/css2" rel="stylesheet"><link href="./SSP_files/css" rel="stylesheet"><link rel="search" type="application/opensearchdescription+xml" href="https://colab.research.google.com/opensearch.xml" title="Google Colab"><style>.gb_3d{font:13px/27px Roboto,Arial,sans-serif;z-index:986}@-webkit-keyframes gb__a{0%{opacity:0}50%{opacity:1}}@keyframes gb__a{0%{opacity:0}50%{opacity:1}}a.gb_Qa{border:none;color:#4285f4;cursor:default;font-weight:bold;outline:none;position:relative;text-align:center;text-decoration:none;text-transform:uppercase;white-space:nowrap;-webkit-user-select:none}a.gb_Qa:hover::after,a.gb_Qa:focus::after{background-color:rgba(0,0,0,.12);content:"";height:100%;left:0;position:absolute;top:0;width:100%}a.gb_Qa:hover,a.gb_Qa:focus{text-decoration:none}a.gb_Qa:active{background-color:rgba(153,153,153,.4);text-decoration:none}a.gb_Ra{background-color:#4285f4;color:#fff}a.gb_Ra:active{background-color:#0043b2}.gb_Sa{box-shadow:0 1px 1px rgba(0,0,0,.16)}.gb_Qa,.gb_Ra,.gb_Ta,.gb_Ua{display:inline-block;line-height:28px;padding:0 12px;border-radius:2px}.gb_Ta{background:#f8f8f8;border:1px solid #c6c6c6}.gb_Ua{background:#f8f8f8}.gb_Ta,#gb a.gb_Ta.gb_Ta,.gb_Ua{color:#666;cursor:default;text-decoration:none}#gb a.gb_Ua{cursor:default;text-decoration:none}.gb_Ua{border:1px solid #4285f4;font-weight:bold;outline:none;background:#4285f4;background:-webkit-gradient(linear,left top,left bottom,from(top),color-stop(#4387fd),to(#4683ea));background:-webkit-linear-gradient(top,#4387fd,#4683ea);background:linear-gradient(top,#4387fd,#4683ea);filter:progid:DXImageTransform.Microsoft.gradient(startColorstr=#4387fd,endColorstr=#4683ea,GradientType=0)}#gb a.gb_Ua{color:#fff}.gb_Ua:hover{box-shadow:0 1px 0 rgba(0,0,0,.15)}.gb_Ua:active{box-shadow:inset 0 2px 0 rgba(0,0,0,.15);background:#3c78dc;background:-webkit-gradient(linear,left top,left bottom,from(top),color-stop(#3c7ae4),to(#3f76d3));background:-webkit-linear-gradient(top,#3c7ae4,#3f76d3);background:linear-gradient(top,#3c7ae4,#3f76d3);filter:progid:DXImageTransform.Microsoft.gradient(startColorstr=#3c7ae4,endColorstr=#3f76d3,GradientType=0)}#gb .gb_Va{background:#fff;border:1px solid #dadce0;color:#1a73e8;display:inline-block;text-decoration:none}#gb .gb_Va:hover{background:#f8fbff;border-color:#dadce0;color:#174ea6}#gb .gb_Va:focus{background:#f4f8ff;color:#174ea6;outline:1px solid #174ea6}#gb .gb_Va:active,#gb .gb_Va:focus:active{background:#ecf3fe;color:#174ea6}#gb .gb_Va.gb_H{background:transparent;border:1px solid #5f6368;color:#8ab4f8;text-decoration:none}#gb .gb_Va.gb_H:hover{background:rgba(255,255,255,.04);color:#e8eaed}#gb .gb_Va.gb_H:focus{background:rgba(232,234,237,.12);color:#e8eaed;outline:1px solid #e8eaed}#gb .gb_Va.gb_H:active,#gb .gb_Va.gb_H:focus:active{background:rgba(232,234,237,.1);color:#e8eaed}.gb_dd{display:inline-block;vertical-align:middle}.gb_Oe .gb_Q{bottom:-3px;right:-5px}.gb_D{position:relative}.gb_B{display:inline-block;outline:none;vertical-align:middle;border-radius:2px;box-sizing:border-box;height:40px;width:40px;cursor:pointer;text-decoration:none}#gb#gb a.gb_B{cursor:pointer;text-decoration:none}.gb_B,a.gb_B{color:#000}.gb_ed{border-color:transparent;border-bottom-color:#fff;border-style:dashed dashed solid;border-width:0 8.5px 8.5px;display:none;position:absolute;left:11.5px;top:33px;z-index:1;height:0;width:0;-webkit-animation:gb__a .2s;animation:gb__a .2s}.gb_fd{border-color:transparent;border-style:dashed dashed solid;border-width:0 8.5px 8.5px;display:none;position:absolute;left:11.5px;z-index:1;height:0;width:0;-webkit-animation:gb__a .2s;animation:gb__a .2s;border-bottom-color:rgba(0,0,0,.2);top:32px}x:-o-prefocus,div.gb_fd{border-bottom-color:#ccc}.gb_la{background:#fff;border:1px solid #ccc;border-color:rgba(0,0,0,.2);color:#000;-webkit-box-shadow:0 2px 10px rgba(0,0,0,.2);box-shadow:0 2px 10px rgba(0,0,0,.2);display:none;outline:none;overflow:hidden;position:absolute;right:8px;top:62px;-webkit-animation:gb__a .2s;animation:gb__a .2s;border-radius:2px;-webkit-user-select:text}.gb_dd.gb_Uc .gb_ed,.gb_dd.gb_Uc .gb_fd,.gb_dd.gb_Uc .gb_la,.gb_Uc.gb_la{display:block}.gb_dd.gb_Uc.gb_gd .gb_ed,.gb_dd.gb_Uc.gb_gd .gb_fd{display:none}.gb_Pe{position:absolute;right:8px;top:62px;z-index:-1}.gb_hd .gb_ed,.gb_hd .gb_fd,.gb_hd .gb_la{margin-top:-10px}.gb_dd:first-child,#gbsfw:first-child+.gb_dd{padding-left:4px}.gb_Fa.gb_Qe .gb_dd:first-child{padding-left:0}.gb_Re{position:relative}.gb_3c .gb_Re,.gb_Kd .gb_Re{float:right}.gb_B{padding:8px;cursor:pointer}.gb_B::after{content:"";position:absolute;top:-4px;bottom:-4px;left:-4px;right:-4px}.gb_Fa .gb_id:not(.gb_Qa):focus img{background-color:rgba(0,0,0,.2);outline:none;-webkit-border-radius:50%;border-radius:50%}.gb_jd button svg,.gb_B{-webkit-border-radius:50%;border-radius:50%}.gb_jd button:focus:not(:focus-visible) svg,.gb_jd button:hover svg,.gb_jd button:active svg,.gb_B:focus:not(:focus-visible),.gb_B:hover,.gb_B:active,.gb_B[aria-expanded=true]{outline:none}.gb_Mc .gb_jd.gb_kd button:focus-visible svg,.gb_jd button:focus-visible svg,.gb_B:focus-visible{outline:1px solid #202124}.gb_Mc .gb_jd button:focus-visible svg,.gb_Mc .gb_B:focus-visible{outline:1px solid #f1f3f4}@media (forced-colors:active){.gb_Mc .gb_jd.gb_kd button:focus-visible svg,.gb_jd button:focus-visible svg,.gb_Mc .gb_jd button:focus-visible svg{outline:1px solid currentcolor}}.gb_Mc .gb_jd.gb_kd button:focus svg,.gb_Mc .gb_jd.gb_kd button:focus:hover svg,.gb_jd button:focus svg,.gb_jd button:focus:hover svg,.gb_B:focus,.gb_B:focus:hover{background-color:rgba(60,64,67,.1)}.gb_Mc .gb_jd.gb_kd button:active svg,.gb_jd button:active svg,.gb_B:active{background-color:rgba(60,64,67,.12)}.gb_Mc .gb_jd.gb_kd button:hover svg,.gb_jd button:hover svg,.gb_B:hover{background-color:rgba(60,64,67,.08)}.gb_Wa .gb_B.gb_Za:hover{background-color:transparent}.gb_B[aria-expanded=true],.gb_B:hover[aria-expanded=true]{background-color:rgba(95,99,104,.24)}.gb_B[aria-expanded=true] .gb_F{fill:#5f6368;opacity:1}.gb_Mc .gb_jd button:hover svg,.gb_Mc .gb_B:hover{background-color:rgba(232,234,237,.08)}.gb_Mc .gb_jd button:focus svg,.gb_Mc .gb_jd button:focus:hover svg,.gb_Mc .gb_B:focus,.gb_Mc .gb_B:focus:hover{background-color:rgba(232,234,237,.1)}.gb_Mc .gb_jd button:active svg,.gb_Mc .gb_B:active{background-color:rgba(232,234,237,.12)}.gb_Mc .gb_B[aria-expanded=true],.gb_Mc .gb_B:hover[aria-expanded=true]{background-color:rgba(255,255,255,.12)}.gb_Mc .gb_B[aria-expanded=true] .gb_F{fill:#fff;opacity:1}.gb_dd{padding:4px}.gb_Fa.gb_Qe .gb_dd{padding:4px 2px}.gb_Fa.gb_Qe .gb_z.gb_dd{padding-left:6px}.gb_la{z-index:991;line-height:normal}.gb_la.gb_ld{left:0;right:auto}@media (max-width:350px){.gb_la.gb_ld{left:0}}.gb_Se .gb_la{top:56px}.gb_R{display:none!important}.gb_od{visibility:hidden}.gb_J .gb_B,.gb_ka .gb_J .gb_B{background-position:-64px -29px}.gb_1 .gb_J .gb_B{background-position:-29px -29px;opacity:1}.gb_J .gb_B,.gb_J .gb_B:hover,.gb_J .gb_B:focus{opacity:1}.gb_L{display:none}@media screen and (max-width:319px){.gb_md:not(.gb_nd) .gb_J{display:none;visibility:hidden}}.gb_Q{display:none}.gb_ad{font-family:Google Sans,Roboto,Helvetica,Arial,sans-serif;font-size:20px;font-weight:400;letter-spacing:0.25px;line-height:48px;margin-bottom:2px;opacity:1;overflow:hidden;padding-left:16px;position:relative;text-overflow:ellipsis;vertical-align:middle;top:2px;white-space:nowrap;-webkit-flex:1 1 auto;-webkit-box-flex:1;flex:1 1 auto}.gb_ad.gb_bd{color:#3c4043}.gb_Fa.gb_cc .gb_ad{margin-bottom:0}.gb_td.gb_vd .gb_ad{padding-left:4px}.gb_Fa.gb_cc .gb_wd{position:relative;top:-2px}.gb_cd{display:none}.gb_Fa{color:black;min-width:160px;position:relative;-webkit-transition:box-shadow 250ms;transition:box-shadow 250ms}.gb_Fa.gb_Tc{min-width:120px}.gb_Fa.gb_xd .gb_yd{display:none}.gb_Fa.gb_xd .gb_md{height:56px}header.gb_Fa{display:block}.gb_Fa svg{fill:currentColor}.gb_Ed{position:fixed;top:0;width:100%}.gb_zd{-webkit-box-shadow:0 4px 5px 0 rgba(0,0,0,.14),0 1px 10px 0 rgba(0,0,0,.12),0 2px 4px -1px rgba(0,0,0,.2);box-shadow:0 4px 5px 0 rgba(0,0,0,.14),0 1px 10px 0 rgba(0,0,0,.12),0 2px 4px -1px rgba(0,0,0,.2)}.gb_Fd{height:64px}.gb_md{-webkit-box-sizing:border-box;box-sizing:border-box;position:relative;width:100%;display:-webkit-box;display:-webkit-flex;display:flex;-webkit-box-pack:space-between;-webkit-justify-content:space-between;justify-content:space-between;min-width:-webkit-min-content;min-width:min-content}.gb_Fa:not(.gb_cc) .gb_md{padding:8px}.gb_Fa.gb_Hd .gb_md{-webkit-flex:1 0 auto;-webkit-box-flex:1;flex:1 0 auto}.gb_Fa .gb_md.gb_nd.gb_Id{min-width:0}.gb_Fa.gb_cc .gb_md{padding:4px;padding-left:8px;min-width:0}.gb_yd{height:48px;vertical-align:middle;white-space:nowrap;-webkit-box-align:center;-webkit-align-items:center;align-items:center;display:-webkit-box;display:-webkit-flex;display:flex;-webkit-user-select:none}.gb_Bd>.gb_yd{display:table-cell;width:100%}.gb_td{padding-right:30px;box-sizing:border-box;-webkit-flex:1 0 auto;-webkit-box-flex:1;flex:1 0 auto}.gb_Fa.gb_cc .gb_td{padding-right:14px}.gb_Cd{-webkit-flex:1 1 100%;-webkit-box-flex:1;flex:1 1 100%}.gb_Cd>:only-child{display:inline-block}.gb_Dd.gb_4c{padding-left:4px}.gb_Dd.gb_Jd,.gb_Fa.gb_Hd .gb_Dd,.gb_Fa.gb_cc:not(.gb_Kd) .gb_Dd{padding-left:0}.gb_Fa.gb_cc .gb_Dd.gb_Jd{padding-right:0}.gb_Fa.gb_cc .gb_Dd.gb_Jd .gb_Wa{margin-left:10px}.gb_4c{display:inline}.gb_Fa.gb_Xc .gb_Dd.gb_Ld,.gb_Fa.gb_Kd .gb_Dd.gb_Ld{padding-left:2px}.gb_ad{display:inline-block}.gb_Dd{-webkit-box-sizing:border-box;box-sizing:border-box;height:48px;line-height:normal;padding:0 4px;padding-left:30px;-webkit-flex:0 0 auto;-webkit-box-flex:0;flex:0 0 auto;-webkit-box-pack:flex-end;-webkit-justify-content:flex-end;justify-content:flex-end}.gb_Kd{height:48px}.gb_Fa.gb_Kd{min-width:auto}.gb_Kd .gb_Dd{float:right;padding-left:32px}.gb_Kd .gb_Dd.gb_Md{padding-left:0}.gb_Nd{font-size:14px;max-width:200px;overflow:hidden;padding:0 12px;text-overflow:ellipsis;white-space:nowrap;-webkit-user-select:text}.gb_qd{-webkit-transition:background-color .4s;-webkit-transition:background-color .4s;transition:background-color .4s}.gb_Od{color:black}.gb_Mc{color:white}.gb_Fa a,.gb_Qc a{color:inherit}.gb_ba{color:rgba(0,0,0,.87)}.gb_Fa svg,.gb_Qc svg,.gb_td .gb_ud,.gb_3c .gb_ud{color:#5f6368;opacity:1}.gb_Mc svg,.gb_Qc.gb_Vc svg,.gb_Mc .gb_td .gb_ud,.gb_Mc .gb_td .gb_Lc,.gb_Mc .gb_td .gb_wd,.gb_Qc.gb_Vc .gb_ud{color:rgba(255,255,255,.87)}.gb_Mc .gb_td .gb_Pd:not(.gb_Qd){opacity:.87}.gb_bd{color:inherit;opacity:1;text-rendering:optimizeLegibility;-webkit-font-smoothing:antialiased}.gb_Mc .gb_bd,.gb_Od .gb_bd{opacity:1}.gb_Rd{position:relative}.gb_M{font-family:arial,sans-serif;line-height:normal;padding-right:15px}a.gb_X,span.gb_X{color:rgba(0,0,0,.87);text-decoration:none}.gb_Mc a.gb_X,.gb_Mc span.gb_X{color:white}a.gb_X:focus{outline-offset:2px}a.gb_X:hover{text-decoration:underline}.gb_Z{display:inline-block;padding-left:15px}.gb_Z .gb_X{display:inline-block;line-height:24px;vertical-align:middle}.gb_rd{font-family:Google Sans,Roboto,Helvetica,Arial,sans-serif;font-weight:500;font-size:14px;letter-spacing:.25px;line-height:16px;margin-left:10px;margin-right:8px;min-width:96px;padding:9px 23px;text-align:center;vertical-align:middle;border-radius:4px;box-sizing:border-box}.gb_Fa.gb_Kd .gb_rd{margin-left:8px}#gb a.gb_Ua.gb_rd{cursor:pointer}.gb_Ua.gb_rd:hover{background:#1b66c9;-webkit-box-shadow:0 1px 3px 1px rgba(66,64,67,.15),0 1px 2px 0 rgba(60,64,67,.3);box-shadow:0 1px 3px 1px rgba(66,64,67,.15),0 1px 2px 0 rgba(60,64,67,.3)}.gb_Ua.gb_rd:focus,.gb_Ua.gb_rd:hover:focus{background:#1c5fba;-webkit-box-shadow:0 1px 3px 1px rgba(66,64,67,.15),0 1px 2px 0 rgba(60,64,67,.3);box-shadow:0 1px 3px 1px rgba(66,64,67,.15),0 1px 2px 0 rgba(60,64,67,.3)}.gb_Ua.gb_rd:active{background:#1b63c1;-webkit-box-shadow:0 1px 3px 1px rgba(66,64,67,.15),0 1px 2px 0 rgba(60,64,67,.3);box-shadow:0 1px 3px 1px rgba(66,64,67,.15),0 1px 2px 0 rgba(60,64,67,.3)}.gb_rd{background:#1a73e8;border:1px solid transparent}.gb_Fa.gb_cc .gb_rd{padding:9px 15px;min-width:80px}.gb_Sd{text-align:left}#gb .gb_Mc a.gb_rd:not(.gb_H),#gb.gb_Mc a.gb_rd{background:#fff;border-color:#dadce0;-webkit-box-shadow:none;box-shadow:none;color:#1a73e8}#gb a.gb_Ua.gb_H.gb_rd{background:#8ab4f8;border:1px solid transparent;-webkit-box-shadow:none;box-shadow:none;color:#202124}#gb .gb_Mc a.gb_rd:hover:not(.gb_H),#gb.gb_Mc a.gb_rd:hover{background:#f8fbff;border-color:#cce0fc}#gb a.gb_Ua.gb_H.gb_rd:hover{background:#93baf9;border-color:transparent;-webkit-box-shadow:0 1px 3px 1px rgba(0,0,0,.15),0 1px 2px rgba(0,0,0,.3);box-shadow:0 1px 3px 1px rgba(0,0,0,.15),0 1px 2px rgba(0,0,0,.3)}#gb .gb_Mc a.gb_rd:focus:not(.gb_H),#gb .gb_Mc a.gb_rd:focus:hover:not(.gb_H),#gb.gb_Mc a.gb_rd:focus:not(.gb_H),#gb.gb_Mc a.gb_rd:focus:hover:not(.gb_H){background:#f4f8ff;outline:1px solid #c9ddfc}#gb a.gb_Ua.gb_H.gb_rd:focus,#gb a.gb_Ua.gb_H.gb_rd:focus:hover{background:#a6c6fa;border-color:transparent;-webkit-box-shadow:none;box-shadow:none}#gb .gb_Mc a.gb_rd:active:not(.gb_H),#gb.gb_Mc a.gb_rd:active{background:#ecf3fe}#gb a.gb_Ua.gb_H.gb_rd:active{background:#a1c3f9;-webkit-box-shadow:0 1px 2px rgba(60,64,67,.3),0 2px 6px 2px rgba(60,64,67,.15);box-shadow:0 1px 2px rgba(60,64,67,.3),0 2px 6px 2px rgba(60,64,67,.15)}.gb_K{display:none}@media screen and (max-width:319px){.gb_md .gb_J{display:none;visibility:hidden}}.gb_Wa{background-color:rgba(255,255,255,.88);border:1px solid #dadce0;-webkit-box-sizing:border-box;box-sizing:border-box;cursor:pointer;display:inline-block;max-height:48px;overflow:hidden;outline:none;padding:0;vertical-align:middle;width:134px;-webkit-border-radius:8px;border-radius:8px}.gb_Wa.gb_H{background-color:transparent;border:1px solid #5f6368}.gb_3a{display:inherit}.gb_Wa.gb_H .gb_3a{background:#fff;-webkit-border-radius:4px;border-radius:4px;display:inline-block;left:8px;margin-right:5px;position:relative;padding:3px;top:-1px}.gb_Wa:hover{border:1px solid #d2e3fc;background-color:rgba(248,250,255,.88)}.gb_Wa.gb_H:hover{background-color:rgba(241,243,244,.04);border:1px solid #5f6368}.gb_Wa:focus-visible,.gb_Wa:focus{background-color:#fff;outline:1px solid #202124;-webkit-box-shadow:0 1px 2px 0 rgba(60,64,67,.3),0 1px 3px 1px rgba(60,64,67,.15);box-shadow:0 1px 2px 0 rgba(60,64,67,.3),0 1px 3px 1px rgba(60,64,67,.15)}.gb_Wa.gb_H:focus-visible,.gb_Wa.gb_H:focus{background-color:rgba(241,243,244,.12);outline:1px solid #f1f3f4;-webkit-box-shadow:0 1px 3px 1px rgba(0,0,0,.15),0 1px 2px 0 rgba(0,0,0,.3);box-shadow:0 1px 3px 1px rgba(0,0,0,.15),0 1px 2px 0 rgba(0,0,0,.3)}.gb_Wa.gb_H:active,.gb_Wa.gb_Uc.gb_H:focus{background-color:rgba(241,243,244,.1);border:1px solid #5f6368}.gb_4a{display:inline-block;padding-bottom:2px;padding-left:7px;padding-top:2px;text-align:center;vertical-align:middle;line-height:32px;width:78px}.gb_Wa.gb_H .gb_4a{line-height:26px;margin-left:0;padding-bottom:0;padding-left:0;padding-top:0;width:72px}.gb_4a.gb_5a{background-color:#f1f3f4;-webkit-border-radius:4px;border-radius:4px;margin-left:8px;padding-left:0;line-height:30px}.gb_4a.gb_5a .gb_Jc{vertical-align:middle}.gb_Fa:not(.gb_cc) .gb_Wa{margin-left:10px;margin-right:4px}.gb_Td{max-height:32px;width:78px}.gb_Wa.gb_H .gb_Td{max-height:26px;width:72px}.gb_P{-webkit-background-size:32px 32px;background-size:32px 32px;border:0;-webkit-border-radius:50%;border-radius:50%;display:block;margin:0px;position:relative;height:32px;width:32px;z-index:0}.gb_eb{background-color:#e8f0fe;border:1px solid rgba(32,33,36,.08);position:relative}.gb_eb.gb_P{height:30px;width:30px}.gb_eb.gb_P:hover,.gb_eb.gb_P:active{-webkit-box-shadow:none;box-shadow:none}.gb_fb{background:#fff;border:none;-webkit-border-radius:50%;border-radius:50%;bottom:2px;-webkit-box-shadow:0px 1px 2px 0px rgba(60,64,67,.30),0px 1px 3px 1px rgba(60,64,67,.15);box-shadow:0px 1px 2px 0px rgba(60,64,67,.30),0px 1px 3px 1px rgba(60,64,67,.15);height:14px;margin:2px;position:absolute;right:0;width:14px}.gb_wc{color:#1f71e7;font:400 22px/32px Google Sans,Roboto,Helvetica,Arial,sans-serif;text-align:center;text-transform:uppercase}@media (-webkit-min-device-pixel-ratio:1.25),(min-resolution:1.25dppx),(min-device-pixel-ratio:1.25){.gb_P::before,.gb_gb::before{display:inline-block;-webkit-transform:scale(0.5);-webkit-transform:scale(0.5);transform:scale(0.5);-webkit-transform-origin:left 0;-webkit-transform-origin:left 0;transform-origin:left 0}.gb_3 .gb_gb::before{-webkit-transform:scale(scale(0.416666667));-webkit-transform:scale(scale(0.416666667));transform:scale(scale(0.416666667))}}.gb_P:hover,.gb_P:focus{-webkit-box-shadow:0 1px 0 rgba(0,0,0,.15);box-shadow:0 1px 0 rgba(0,0,0,.15)}.gb_P:active{-webkit-box-shadow:inset 0 2px 0 rgba(0,0,0,.15);box-shadow:inset 0 2px 0 rgba(0,0,0,.15)}.gb_P:active::after{background:rgba(0,0,0,.1);-webkit-border-radius:50%;border-radius:50%;content:"";display:block;height:100%}.gb_hb{cursor:pointer;line-height:40px;min-width:30px;opacity:.75;overflow:hidden;vertical-align:middle;text-overflow:ellipsis}.gb_B.gb_hb{width:auto}.gb_hb:hover,.gb_hb:focus{opacity:.85}.gb_hd .gb_hb,.gb_hd .gb_Vd{line-height:26px}#gb#gb.gb_hd a.gb_hb,.gb_hd .gb_Vd{font-size:11px;height:auto}.gb_ib{border-top:4px solid #000;border-left:4px dashed transparent;border-right:4px dashed transparent;display:inline-block;margin-left:6px;opacity:.75;vertical-align:middle}.gb_Za:hover .gb_ib{opacity:.85}.gb_Wa>.gb_z{padding:3px 3px 3px 4px}.gb_Wd.gb_od{color:#fff}.gb_1 .gb_hb,.gb_1 .gb_ib{opacity:1}#gb#gb.gb_1.gb_1 a.gb_hb,#gb#gb .gb_1.gb_1 a.gb_hb{color:#fff}.gb_1.gb_1 .gb_ib{border-top-color:#fff;opacity:1}.gb_ka .gb_P:hover,.gb_1 .gb_P:hover,.gb_ka .gb_P:focus,.gb_1 .gb_P:focus{-webkit-box-shadow:0 1px 0 rgba(0,0,0,.15),0 1px 2px rgba(0,0,0,.2);box-shadow:0 1px 0 rgba(0,0,0,.15),0 1px 2px rgba(0,0,0,.2)}.gb_Xd .gb_z,.gb_Zd .gb_z{position:absolute;right:1px}.gb_z.gb_0,.gb_jb.gb_0,.gb_Za.gb_0{-webkit-flex:0 1 auto;-webkit-box-flex:0;flex:0 1 auto}.gb_0d.gb_1d .gb_hb{width:30px!important}.gb_2d{height:40px;position:absolute;right:-5px;top:-5px;width:40px}.gb_3d .gb_2d,.gb_4d .gb_2d{right:0;top:0}.gb_z .gb_B{padding:4px}.gb_S{display:none}sentinel{}</style><script nonce="">;this.gbar_={CONFIG:[[[0,"www.gstatic.com","og.qtm.en_US.5MDp2wjsNx8.2019.O","se","es","425",0,[4,2,"","","","768919215","0"],null,"Ed1PaILFHaqQp84PwbfauAw",null,0,"og.qtm.iKf-j4fvYQ4.L.W.O","AA2YrTv8f8ZUbipJWUaxHHl3oxLPlmHPDA","AA2YrTsKeM0fuGSyAulS_7nCvnwvUw1LAA","",2,1,200,"SWE",null,null,"425","425",1,null,null,114591953,null,0,0],null,[1,0.1000000014901161,2,1],null,[1,0,0,null,"0","javierhidalgomoreno5@gmail.com","","AIhRldLa1cumI6YYqJQX6kTGqRwASLF6yts4ikcMIHdJv8TWy-8SnkLcayqQlYxSrUi8Kf6AlKZVaH_9wnm4zm9FpbOnCErkRg",0,0,0,""],[0,0,"",1,0,0,0,0,0,0,null,0,0,null,0,0,null,null,0,0,0,"","","","","","",null,0,0,0,0,0,null,null,null,"rgba(32,33,36,1)","rgba(255,255,255,1)",0,0,0,null,null,null,0],["%1$s (predeterminada)","Cuenta de marca",1,"%1$s (delegada)",1,null,83,"https://colab.research.google.com/drive/1h5ksUlmDUfDsHRWdIw18bMIQ0ZSdZNEm?usp=sharing\u0026authuser=$authuser",null,null,null,1,"https://accounts.google.com/ListAccounts?listPages=0\u0026pid=425\u0026gpsia=1\u0026source=ogb\u0026atic=1\u0026mo=1\u0026mn=1\u0026hl=es\u0026ts=250",0,"dashboard",null,null,null,null,"Perfil","",1,null,"Se ha cerrado la sesión","https://accounts.google.com/AccountChooser?source=ogb\u0026continue=$continue\u0026Email=$email\u0026ec=GAhAqQM","https://accounts.google.com/RemoveLocalAccount?source=ogb","Quitar","Iniciar sesión",0,1,1,0,1,1,0,null,null,null,"La sesión ha caducado",null,null,null,"Visitante",null,"Predeterminada","Delegada","Cerrar sesión en todas las cuentas",0,null,null,0,null,null,"myaccount.google.com","https",0,1,0],null,["1","gci_91f30755d6a6b787dcc2a4062e6e9824.js","googleapis.client:gapi.iframes","0","es"],null,null,null,null,["m;/_/scs/abc-static/_/js/k=gapi.gapi.en.citSWp3NP7U.O/d=1/rs=AHpOoo9xL6HUJcSIDSbTUlNBOsamhv5RMA/m=__features__","https://apis.google.com","","","1","",null,1,"es_plusone_gc_20250505.0_p1","es",null,0],[0.009999999776482582,"se","425",[null,"","0",null,1,5184000,null,null,"",null,null,null,null,null,0,null,0,null,1,0,0,0,null,null,0,0,null,0,0,0,0,0],null,null,null,0],[1,null,null,40400,425,"SWE","es","768919215.0",8,null,1,0,null,null,null,null,"3700942,103133349,103133351,103247483,103247486",null,null,null,"Ed1PaILFHaqQp84PwbfauAw",0,0,0,null,2,5,"nn",130,0,0,0,0,1,114591953,0,0],[[null,null,null,"https://www.gstatic.com/og/_/js/k=og.qtm.en_US.5MDp2wjsNx8.2019.O/rt=j/m=qabr,qgl,q_dnp,qcwid,qbd,qapid,qads,qrcd,q_dg/exm=qaaw,qadd,qaid,qein,qhaw,qhba,qhbr,qhch,qhga,qhid,qhin/d=1/ed=1/rs=AA2YrTv8f8ZUbipJWUaxHHl3oxLPlmHPDA"],[null,null,null,"https://www.gstatic.com/og/_/ss/k=og.qtm.iKf-j4fvYQ4.L.W.O/m=qcwid,qba/excm=qaaw,qadd,qaid,qein,qhaw,qhba,qhbr,qhch,qhga,qhid,qhin/d=1/ed=1/ct=zgms/rs=AA2YrTsKeM0fuGSyAulS_7nCvnwvUw1LAA"]],null,null,null,[[[null,null,[null,null,null,"https://ogs.google.com/u/0/widget/account?yac=1\u0026bac=1\u0026amb=1\u0026acsl=1\u0026gdafe=1"],0,414,436,57,4,1,0,0,65,66,8000,"https://accounts.google.com/SignOutOptions?hl=es\u0026continue=https://colab.research.google.com/drive/1h5ksUlmDUfDsHRWdIw18bMIQ0ZSdZNEm%3Fusp%3Dsharing\u0026ec=GBRAqQM",68,2,null,null,1,113,"Se ha producido un error.%1$s Actualiza la página para intentarlo de nuevo o %2$selige otra cuenta%3$s.",3,null,null,75,0,null,null,null,null,null,null,null,"/widget/account",["https","myaccount.google.com",0,32,83,0],0,0,1,["Alerta de seguridad crítica","Alerta importante de la cuenta","Alerta de uso del espacio de almacenamiento",1,1],0,1,null,1,1,1,1,null,null,0,0,0,null,0,0],[null,null,[null,null,null,"https://ogs.google.com/u/0/widget/callout/sid?dc=1"],null,280,420,70,25,0,null,0,null,null,8000,null,71,4,null,null,null,null,null,null,null,null,76,null,null,null,107,108,109,"",null,null,null,null,null,null,null,null,null,null,null,null,null,null,null,null,null,null,null,null,0]],null,null,"425","425",1,0,null,"es",0,["https://colab.research.google.com/drive/1h5ksUlmDUfDsHRWdIw18bMIQ0ZSdZNEm?usp=sharing\u0026authuser=$authuser","https://accounts.google.com/AddSession?hl=es\u0026continue=https://colab.research.google.com/drive/1h5ksUlmDUfDsHRWdIw18bMIQ0ZSdZNEm%3Fusp%3Dsharing\u0026ec=GAlAqQM","https://accounts.google.com/Logout?hl=es\u0026continue=https://colab.research.google.com/drive/1h5ksUlmDUfDsHRWdIw18bMIQ0ZSdZNEm%3Fusp%3Dsharing\u0026timeStmp=1750064401\u0026secTok=.AG5fkS_iAg0wqAt0AG-vdXr79vVl4Z4UZA\u0026ec=GAdAqQM","https://accounts.google.com/ListAccounts?listPages=0\u0026pid=425\u0026gpsia=1\u0026source=ogb\u0026atic=1\u0026mo=1\u0026mn=1\u0026hl=es\u0026ts=250",0,0,"",0,0,null,0,0,"https://accounts.google.com/ServiceLogin?passive=true\u0026continue=https%3A%2F%2Fcolab.research.google.com%2Fdrive%2F1h5ksUlmDUfDsHRWdIw18bMIQ0ZSdZNEm%3Fusp%3Dsharing\u0026ec=GAZAqQM",1,1,0,0,null,0],0,0,0,[null,"",null,null,null,1,null,0,0,"","","","https://ogads-pa.clients6.google.com",0,0,0,"","",0,0,null,86400,null,1,1,null,0,null,0,0,"8559284470",0,0],0,null,null,null,1,0,"javierhidalgomoreno5@gmail.com"],null,[["mousedown","touchstart","touchmove","wheel","keydown"],300000],[[null,null,null,"https://accounts.google.com/RotateCookiesPage"],3,null,null,null,0,1]]],};this.gbar_=this.gbar_||{};(function(_){var window=this;
try{
_._F_toggles_initialize=function(a){(typeof globalThis!=="undefined"?globalThis:typeof self!=="undefined"?self:this)._F_toggles=a||[]};(0,_._F_toggles_initialize)([]);
/*

 Copyright The Closure Library Authors.
 SPDX-License-Identifier: Apache-2.0
*/
var ja,pa,qa,ua,wa,xa,Ga,Ha,ab,db,fb,kb,gb,lb,rb,Fb,Gb,Hb,Ib;_.aa=function(a,b){if(Error.captureStackTrace)Error.captureStackTrace(this,_.aa);else{const c=Error().stack;c&&(this.stack=c)}a&&(this.message=String(a));b!==void 0&&(this.cause=b)};_.ba=function(a){a.Qj=!0;return a};_.ia=function(a){var b=a;if(da(b)){if(!/^\s*(?:-?[1-9]\d*|0)?\s*$/.test(b))throw Error(String(b));}else if(ea(b)&&!Number.isSafeInteger(b))throw Error(String(b));return fa?BigInt(a):a=ha(a)?a?"1":"0":da(a)?a.trim()||"0":String(a)};
ja=function(a,b){if(a.length>b.length)return!1;if(a.length<b.length||a===b)return!0;for(let c=0;c<a.length;c++){const d=a[c],e=b[c];if(d>e)return!1;if(d<e)return!0}};_.ka=function(a){_.t.setTimeout(()=>{throw a;},0)};_.ma=function(){return _.la().toLowerCase().indexOf("webkit")!=-1};_.la=function(){var a=_.t.navigator;return a&&(a=a.userAgent)?a:""};pa=function(a){if(!na||!oa)return!1;for(let b=0;b<oa.brands.length;b++){const {brand:c}=oa.brands[b];if(c&&c.indexOf(a)!=-1)return!0}return!1};
_.u=function(a){return _.la().indexOf(a)!=-1};qa=function(){return na?!!oa&&oa.brands.length>0:!1};_.ra=function(){return qa()?!1:_.u("Opera")};_.sa=function(){return qa()?!1:_.u("Trident")||_.u("MSIE")};_.ta=function(){return _.u("Firefox")||_.u("FxiOS")};_.va=function(){return _.u("Safari")&&!(ua()||(qa()?0:_.u("Coast"))||_.ra()||(qa()?0:_.u("Edge"))||(qa()?pa("Microsoft Edge"):_.u("Edg/"))||(qa()?pa("Opera"):_.u("OPR"))||_.ta()||_.u("Silk")||_.u("Android"))};
ua=function(){return qa()?pa("Chromium"):(_.u("Chrome")||_.u("CriOS"))&&!(qa()?0:_.u("Edge"))||_.u("Silk")};wa=function(){return na?!!oa&&!!oa.platform:!1};xa=function(){return _.u("iPhone")&&!_.u("iPod")&&!_.u("iPad")};_.ya=function(){return xa()||_.u("iPad")||_.u("iPod")};_.za=function(){return wa()?oa.platform==="macOS":_.u("Macintosh")};_.Ba=function(a,b){return _.Aa(a,b)>=0};_.Ca=function(a,b=!1){return b&&Symbol.for&&a?Symbol.for(a):a!=null?Symbol(a):Symbol()};
_.Da=function(a){if(4&a)return 512&a?512:1024&a?1024:0};_.Fa=function(a,b){return b===void 0?a.i!==Ea&&!!(2&(a.ha[_.v]|0)):!!(2&b)&&a.i!==Ea};Ga=function(a){return a};Ha=function(a,b){a.__closure__error__context__984382||(a.__closure__error__context__984382={});a.__closure__error__context__984382.severity=b};_.Ia=function(a){a=Error(a);Ha(a,"warning");return a};_.Ka=function(a,b){if(a!=null){var c;var d=(c=Ja)!=null?c:Ja={};c=d[a]||0;c>=b||(d[a]=c+1,a=Error(),Ha(a,"incident"),_.ka(a))}};
_.Ma=function(a){if(typeof a!=="boolean")throw Error("r`"+_.La(a)+"`"+a);return a};_.Na=function(a){if(a==null||typeof a==="boolean")return a;if(typeof a==="number")return!!a};_.Pa=function(a){if(!(0,_.Oa)(a))throw _.Ia("enum");return a|0};_.Qa=function(a){return a==null?a:(0,_.Oa)(a)?a|0:void 0};_.Ra=function(a){if(typeof a!=="number")throw _.Ia("int32");if(!(0,_.Oa)(a))throw _.Ia("int32");return a|0};_.Sa=function(a){if(a!=null&&typeof a!=="string")throw Error();return a};
_.Ta=function(a){return a==null||typeof a==="string"?a:void 0};_.Wa=function(a,b,c){if(a!=null&&a[_.Ua]===_.Va)return a;if(Array.isArray(a)){var d=a[_.v]|0;c=d|c&32|c&2;c!==d&&(a[_.v]=c);return new b(a)}};_.Za=function(a){const b=_.Xa(_.Ya);return b?a[b]:void 0};ab=function(a,b){b<100||_.Ka($a,1)};
db=function(a,b,c,d){const e=d!==void 0;d=!!d;var f=_.Xa(_.Ya),g;!e&&f&&(g=a[f])&&g.qd(ab);f=[];var h=a.length;let k;g=4294967295;let l=!1;const m=!!(b&64),p=m?b&128?0:-1:void 0;if(!(b&1||(k=h&&a[h-1],k!=null&&typeof k==="object"&&k.constructor===Object?(h--,g=h):k=void 0,!m||b&128||e))){l=!0;var r;g=((r=bb)!=null?r:Ga)(g-p,p,a,k)+p}b=void 0;for(r=0;r<h;r++){let w=a[r];if(w!=null&&(w=c(w,d))!=null)if(m&&r>=g){const E=r-p;var q=void 0;((q=b)!=null?q:b={})[E]=w}else f[r]=w}if(k)for(let w in k){q=k[w];
if(q==null||(q=c(q,d))==null)continue;h=+w;let E;if(m&&!Number.isNaN(h)&&(E=h+p)<g)f[E]=q;else{let K;((K=b)!=null?K:b={})[w]=q}}b&&(l?f.push(b):f[g]=b);e&&_.Xa(_.Ya)&&(a=_.Za(a))&&"function"==typeof _.cb&&a instanceof _.cb&&(f[_.Ya]=a.i());return f};
fb=function(a){switch(typeof a){case "number":return Number.isFinite(a)?a:""+a;case "bigint":return(0,_.eb)(a)?Number(a):""+a;case "boolean":return a?1:0;case "object":if(Array.isArray(a)){const b=a[_.v]|0;return a.length===0&&b&1?void 0:db(a,b,fb)}if(a!=null&&a[_.Ua]===_.Va)return gb(a);if("function"==typeof _.hb&&a instanceof _.hb)return a.j();return}return a};kb=function(a,b){if(b){bb=b==null||b===Ga||b[ib]!==jb?Ga:b;try{return gb(a)}finally{bb=void 0}}return gb(a)};
gb=function(a){a=a.ha;return db(a,a[_.v]|0,fb)};
_.mb=function(a,b,c,d=0){if(a==null){var e=32;c?(a=[c],e|=128):a=[];b&&(e=e&-8380417|(b&1023)<<13)}else{if(!Array.isArray(a))throw Error("s");e=a[_.v]|0;2048&e&&!(2&e)&&lb();if(e&256)throw Error("u");if(e&64)return d!==0||e&2048||(a[_.v]=e|2048),a;if(c&&(e|=128,c!==a[0]))throw Error("v");a:{c=a;e|=64;var f=c.length;if(f){var g=f-1;const k=c[g];if(k!=null&&typeof k==="object"&&k.constructor===Object){b=e&128?0:-1;g-=b;if(g>=1024)throw Error("x");for(var h in k)if(f=+h,f<g)c[f+b]=k[h],delete k[h];else break;
e=e&-8380417|(g&1023)<<13;break a}}if(b){h=Math.max(b,f-(e&128?0:-1));if(h>1024)throw Error("y");e=e&-8380417|(h&1023)<<13}}}e|=64;d===0&&(e|=2048);a[_.v]=e;return a};lb=function(){_.Ka(nb,5)};
rb=function(a,b){if(typeof a!=="object")return a;if(Array.isArray(a)){var c=a[_.v]|0;a.length===0&&c&1?a=void 0:c&2||(!b||4096&c||16&c?a=_.ob(a,c,!1,b&&!(c&16)):(a[_.v]|=34,c&4&&Object.freeze(a)));return a}if(a!=null&&a[_.Ua]===_.Va)return b=a.ha,c=b[_.v]|0,_.Fa(a,c)?a:_.pb(a,b,c)?_.qb(a,b):_.ob(b,c);if("function"==typeof _.hb&&a instanceof _.hb)return a};_.qb=function(a,b,c){a=new a.constructor(b);c&&(a.i=Ea);a.o=Ea;return a};
_.ob=function(a,b,c,d){d!=null||(d=!!(34&b));a=db(a,b,rb,d);d=32;c&&(d|=2);b=b&8380609|d;a[_.v]=b;return a};_.tb=function(a){const b=a.ha,c=b[_.v]|0;return _.Fa(a,c)?_.pb(a,b,c)?_.qb(a,b,!0):new a.constructor(_.ob(b,c,!1)):a};_.ub=function(a){if(a.i!==Ea)return!1;var b=a.ha;b=_.ob(b,b[_.v]|0);b[_.v]|=2048;a.ha=b;a.i=void 0;a.o=void 0;return!0};_.vb=function(a){if(!_.ub(a)&&_.Fa(a,a.ha[_.v]|0))throw Error();};_.wb=function(a,b){b===void 0&&(b=a[_.v]|0);b&32&&!(b&4096)&&(a[_.v]=b|4096)};
_.pb=function(a,b,c){return c&2?!0:c&32&&!(c&4096)?(b[_.v]=c|2,a.i=Ea,!0):!1};_.xb=function(a,b,c,d,e){const f=c+(e?0:-1);var g=a.length-1;if(g>=1+(e?0:-1)&&f>=g){const h=a[g];if(h!=null&&typeof h==="object"&&h.constructor===Object)return h[c]=d,b}if(f<=g)return a[f]=d,b;if(d!==void 0){let h;g=((h=b)!=null?h:b=a[_.v]|0)>>13&1023||536870912;c>=g?d!=null&&(a[g+(e?0:-1)]={[c]:d}):a[f]=d}return b};_.yb=function(a){return!!(2&a)&&!!(4&a)||!!(256&a)};
_.Ab=function(a,b,c,d,e){let f=!1;d=_.zb(a,d,e,g=>{const h=_.Wa(g,c,b);f=h!==g&&h!=null;return h});if(d!=null)return f&&!_.Fa(d)&&_.wb(a,b),d};_.Bb=function(a,b){return a=(2&b?a|2:a&-3)&-273};_.Cb=function(){const a=class{constructor(){throw Error();}};Object.setPrototypeOf(a,a.prototype);return a};_.x=function(a,b){return a!=null?!!a:!!b};_.y=function(a,b){b==void 0&&(b="");return a!=null?a:b};_.Db=function(a,b,c){for(const d in a)b.call(c,a[d],d,a)};_.Eb=function(a){for(const b in a)return!1;return!0};
Fb=Object.defineProperty;Gb=function(a){a=["object"==typeof globalThis&&globalThis,a,"object"==typeof window&&window,"object"==typeof self&&self,"object"==typeof global&&global];for(var b=0;b<a.length;++b){var c=a[b];if(c&&c.Math==Math)return c}throw Error("a");};Hb=Gb(this);Ib=function(a,b){if(b)a:{var c=Hb;a=a.split(".");for(var d=0;d<a.length-1;d++){var e=a[d];if(!(e in c))break a;c=c[e]}a=a[a.length-1];d=c[a];b=b(d);b!=d&&b!=null&&Fb(c,a,{configurable:!0,writable:!0,value:b})}};
Ib("globalThis",function(a){return a||Hb});Ib("Symbol.dispose",function(a){return a?a:Symbol("b")});Ib("Promise.prototype.finally",function(a){return a?a:function(b){return this.then(function(c){return Promise.resolve(b()).then(function(){return c})},function(c){return Promise.resolve(b()).then(function(){throw c;})})}});
Ib("Array.prototype.flat",function(a){return a?a:function(b){b=b===void 0?1:b;var c=[];Array.prototype.forEach.call(this,function(d){Array.isArray(d)&&b>0?(d=Array.prototype.flat.call(d,b-1),c.push.apply(c,d)):c.push(d)});return c}});var Kb,Ob;_.Jb=_.Jb||{};_.t=this||self;Kb=_.t._F_toggles||[];_.Lb=function(a,b){a=a.split(".");b=b||_.t;for(var c=0;c<a.length;c++)if(b=b[a[c]],b==null)return null;return b};_.La=function(a){var b=typeof a;return b!="object"?b:a?Array.isArray(a)?"array":b:"null"};_.Mb=function(a){var b=typeof a;return b=="object"&&a!=null||b=="function"};_.Nb="closure_uid_"+(Math.random()*1E9>>>0);Ob=function(a,b,c){return a.call.apply(a.bind,arguments)};_.z=function(a,b,c){_.z=Ob;return _.z.apply(null,arguments)};
_.Pb=function(a,b){var c=Array.prototype.slice.call(arguments,1);return function(){var d=c.slice();d.push.apply(d,arguments);return a.apply(this,d)}};_.A=function(a,b){a=a.split(".");for(var c=_.t,d;a.length&&(d=a.shift());)a.length||b===void 0?c[d]&&c[d]!==Object.prototype[d]?c=c[d]:c=c[d]={}:c[d]=b};_.Xa=function(a){return a};
_.B=function(a,b){function c(){}c.prototype=b.prototype;a.X=b.prototype;a.prototype=new c;a.prototype.constructor=a;a.Ij=function(d,e,f){for(var g=Array(arguments.length-2),h=2;h<arguments.length;h++)g[h-2]=arguments[h];return b.prototype[e].apply(d,g)}};_.B(_.aa,Error);_.aa.prototype.name="CustomError";var ea=_.ba(a=>typeof a==="number"),da=_.ba(a=>typeof a==="string"),ha=_.ba(a=>typeof a==="boolean");var fa=typeof _.t.BigInt==="function"&&typeof _.t.BigInt(0)==="bigint";var Sb,Qb,Tb,Rb;_.eb=_.ba(a=>fa?a>=Qb&&a<=Rb:a[0]==="-"?ja(a,Sb):ja(a,Tb));Sb=Number.MIN_SAFE_INTEGER.toString();Qb=fa?BigInt(Number.MIN_SAFE_INTEGER):void 0;Tb=Number.MAX_SAFE_INTEGER.toString();Rb=fa?BigInt(Number.MAX_SAFE_INTEGER):void 0;_.Ub=typeof TextDecoder!=="undefined";_.Vb=typeof TextEncoder!=="undefined";var Wb=!!(Kb[0]>>16&1);var Xb;if(Kb[0]>>15&1)Xb=Wb;else{var Yb=_.Lb("WIZ_global_data.oxN3nb"),Zb=Yb&&Yb[610401301];Xb=Zb!=null?Zb:!1}var na=Xb;var oa,$b=_.t.navigator;oa=$b?$b.userAgentData||null:null;_.Aa=function(a,b){return Array.prototype.indexOf.call(a,b,void 0)};_.ac=function(a,b,c){Array.prototype.forEach.call(a,b,c)};_.bc=function(a,b){return Array.prototype.some.call(a,b,void 0)};_.cc=function(a){_.cc[" "](a);return a};_.cc[" "]=function(){};var qc;_.dc=_.ra();_.ec=_.sa();_.fc=_.u("Edge");_.hc=_.u("Gecko")&&!(_.ma()&&!_.u("Edge"))&&!(_.u("Trident")||_.u("MSIE"))&&!_.u("Edge");_.ic=_.ma()&&!_.u("Edge");_.jc=_.za();_.kc=wa()?oa.platform==="Windows":_.u("Windows");_.lc=wa()?oa.platform==="Android":_.u("Android");_.mc=xa();_.nc=_.u("iPad");_.oc=_.u("iPod");_.pc=_.ya();
a:{let a="";const b=function(){const c=_.la();if(_.hc)return/rv:([^\);]+)(\)|;)/.exec(c);if(_.fc)return/Edge\/([\d\.]+)/.exec(c);if(_.ec)return/\b(?:MSIE|rv)[: ]([^\);]+)(\)|;)/.exec(c);if(_.ic)return/WebKit\/(\S+)/.exec(c);if(_.dc)return/(?:Version)[ \/]?(\S+)/.exec(c)}();b&&(a=b?b[1]:"");if(_.ec){var rc;const c=_.t.document;rc=c?c.documentMode:void 0;if(rc!=null&&rc>parseFloat(a)){qc=String(rc);break a}}qc=a}_.sc=qc;_.tc=_.ta();_.uc=xa()||_.u("iPod");_.vc=_.u("iPad");_.wc=_.u("Android")&&!(ua()||_.ta()||_.ra()||_.u("Silk"));_.xc=ua();_.yc=_.va()&&!_.ya();var $a,nb,ib;_.Ya=_.Ca();_.zc=_.Ca();$a=_.Ca();_.Ac=_.Ca();nb=_.Ca();_.Ua=_.Ca("m_m",!0);ib=_.Ca();_.Bc=_.Ca();var Dc;_.v=_.Ca("jas",!0);Dc=[];Dc[_.v]=7;_.Cc=Object.freeze(Dc);var Ea;_.Va={};Ea={};_.Ec=Object.freeze({});var jb={};var Ja=void 0;_.Fc=typeof BigInt==="function"?BigInt.asIntN:void 0;_.Gc=Number.isSafeInteger;_.Oa=Number.isFinite;_.Hc=Math.trunc;var bb;_.Ic=_.ia(0);_.Jc={};_.Kc=function(a,b,c,d,e){b=_.zb(a.ha,b,c,e);if(b!==null||d&&a.o!==Ea)return b};_.zb=function(a,b,c,d){if(b===-1)return null;const e=b+(c?0:-1),f=a.length-1;let g,h;if(!(f<1+(c?0:-1))){if(e>=f)if(g=a[f],g!=null&&typeof g==="object"&&g.constructor===Object)c=g[b],h=!0;else if(e===f)c=g;else return;else c=a[e];if(d&&c!=null){d=d(c);if(d==null)return d;if(!Object.is(d,c))return h?g[b]=d:a[e]=d,d}return c}};_.Lc=function(a,b,c,d){_.vb(a);const e=a.ha;_.xb(e,e[_.v]|0,b,c,d);return a};
_.C=function(a,b,c,d){let e=a.ha,f=e[_.v]|0;b=_.Ab(e,f,b,c,d);if(b==null)return b;f=e[_.v]|0;if(!_.Fa(a,f)){const g=_.tb(b);g!==b&&(_.ub(a)&&(e=a.ha,f=e[_.v]|0),b=g,f=_.xb(e,f,c,b,d),_.wb(e,f))}return b};_.D=function(a,b,c){c==null&&(c=void 0);_.Lc(a,b,c);c&&!_.Fa(c)&&_.wb(a.ha);return a};_.Nc=function(a,b,c,d){return _.Qa(_.Kc(a,b,c,d))};_.F=function(a,b,c=!1,d){let e;return(e=_.Na(_.Kc(a,b,d)))!=null?e:c};_.G=function(a,b,c="",d){let e;return(e=_.Ta(_.Kc(a,b,d)))!=null?e:c};
_.H=function(a,b,c){return _.Ta(_.Kc(a,b,c,_.Jc))};_.J=function(a,b,c,d){return _.Lc(a,b,c==null?c:_.Ma(c),d)};_.L=function(a,b,c){return _.Lc(a,b,c==null?c:_.Ra(c))};_.M=function(a,b,c,d){return _.Lc(a,b,_.Sa(c),d)};_.N=function(a,b,c,d){return _.Lc(a,b,c==null?c:_.Pa(c),d)};_.O=class{constructor(a,b,c){this.ha=_.mb(a,b,c)}toJSON(){return kb(this)}va(a){return JSON.stringify(kb(this,a))}};_.O.prototype[_.Ua]=_.Va;_.O.prototype.toString=function(){return this.ha.toString()};_.Oc=_.Cb();_.Pc=_.Cb();_.Qc=_.Cb();_.Rc=Symbol();var Sc=class extends _.O{constructor(a){super(a)}};_.Tc=class extends _.O{constructor(a){super(a)}D(a){return _.L(this,3,a)}};var Uc=class extends _.O{constructor(a){super(a)}Hc(a){return _.M(this,24,a)}};_.Vc=class extends _.O{constructor(a){super(a)}};_.Q=function(){this.qa=this.qa;this.Y=this.Y};_.Q.prototype.qa=!1;_.Q.prototype.isDisposed=function(){return this.qa};_.Q.prototype.dispose=function(){this.qa||(this.qa=!0,this.R())};_.Q.prototype[Symbol.dispose]=function(){this.dispose()};_.Q.prototype.R=function(){if(this.Y)for(;this.Y.length;)this.Y.shift()()};var Wc=class extends _.Q{constructor(){var a=window;super();this.o=a;this.i=[];this.j={}}resolve(a){let b=this.o;a=a.split(".");const c=a.length;for(let d=0;d<c;++d)if(b[a[d]])b=b[a[d]];else return null;return b instanceof Function?b:null}ob(){const a=this.i.length,b=this.i,c=[];for(let d=0;d<a;++d){const e=b[d].i(),f=this.resolve(e);if(f&&f!=this.j[e])try{b[d].ob(f)}catch(g){}else c.push(b[d])}this.i=c.concat(b.slice(a))}};var Yc=class extends _.Q{constructor(){var a=_.Xc;super();this.o=a;this.A=this.i=null;this.v=0;this.B={};this.j=!1;a=window.navigator.userAgent;a.indexOf("MSIE")>=0&&a.indexOf("Trident")>=0&&(a=/\b(?:MSIE|rv)[: ]([^\);]+)(\)|;)/.exec(a))&&a[1]&&parseFloat(a[1])<9&&(this.j=!0)}C(a,b){this.i=b;this.A=a;b.preventDefault?b.preventDefault():b.returnValue=!1}};_.Zc=class extends _.O{constructor(a){super(a)}};var $c=class extends _.O{constructor(a){super(a)}};var cd;_.ad=function(a,b,c=98,d=new _.Tc){if(a.i){const e=new Sc;_.M(e,1,b.message);_.M(e,2,b.stack);_.L(e,3,b.lineNumber);_.N(e,5,1);_.D(d,40,e);a.i.log(c,d)}};cd=class{constructor(){var a=bd;this.i=null;_.F(a,4,!0)}log(a,b,c=new _.Tc){_.ad(this,a,98,c)}};var dd,ed;dd=function(a){if(a.o.length>0){var b=a.i!==void 0,c=a.j!==void 0;if(b||c){b=b?a.v:a.A;c=a.o;a.o=[];try{_.ac(c,b,a)}catch(d){console.error(d)}}}};_.fd=class{constructor(a){this.i=a;this.j=void 0;this.o=[]}then(a,b,c){this.o.push(new ed(a,b,c));dd(this)}resolve(a){if(this.i!==void 0||this.j!==void 0)throw Error("C");this.i=a;dd(this)}reject(a){if(this.i!==void 0||this.j!==void 0)throw Error("C");this.j=a;dd(this)}v(a){a.j&&a.j.call(a.i,this.i)}A(a){a.o&&a.o.call(a.i,this.j)}};
ed=class{constructor(a,b,c){this.j=a;this.o=b;this.i=c}};_.gd=a=>{var b="lc";if(a.lc&&a.hasOwnProperty(b))return a.lc;b=new a;return a.lc=b};_.hd=class{constructor(){this.v=new _.fd;this.i=new _.fd;this.D=new _.fd;this.B=new _.fd;this.C=new _.fd;this.A=new _.fd;this.o=new _.fd;this.j=new _.fd;this.F=new _.fd}Y(){return this.v}M(){return this.i}N(){return this.D}L(){return this.B}qa(){return this.C}K(){return this.A}J(){return this.o}G(){return this.j}static i(){return _.gd(_.hd)}};var ld;_.jd=function(){return _.C(_.id,Uc,1)};_.kd=function(){return _.C(_.id,_.Vc,5)};ld=class extends _.O{constructor(a){super(a)}};var md;window.gbar_&&window.gbar_.CONFIG?md=window.gbar_.CONFIG[0]||{}:md=[];_.id=new ld(md);var bd=_.C(_.id,$c,3)||new $c;_.jd()||new Uc;_.Xc=new cd;_.A("gbar_._DumpException",function(a){_.Xc?_.Xc.log(a):console.error(a)});_.nd=new Yc;var pd;_.qd=function(a,b){var c=_.od.i();if(a in c.i){if(c.i[a]!=b)throw new pd;}else{c.i[a]=b;const h=c.j[a];if(h)for(let k=0,l=h.length;k<l;k++){b=h[k];var d=c.i;delete b.i[a];if(_.Eb(b.i)){for(var e=b.j.length,f=Array(e),g=0;g<e;g++)f[g]=d[b.j[g]];b.o.apply(b.v,f)}}delete c.j[a]}};_.od=class{constructor(){this.i={};this.j={}}static i(){return _.gd(_.od)}};_.rd=class extends _.aa{constructor(){super()}};pd=class extends _.rd{};_.A("gbar.A",_.fd);_.fd.prototype.aa=_.fd.prototype.then;_.A("gbar.B",_.hd);_.hd.prototype.ba=_.hd.prototype.M;_.hd.prototype.bb=_.hd.prototype.N;_.hd.prototype.bd=_.hd.prototype.qa;_.hd.prototype.bf=_.hd.prototype.Y;_.hd.prototype.bg=_.hd.prototype.L;_.hd.prototype.bh=_.hd.prototype.K;_.hd.prototype.bj=_.hd.prototype.J;_.hd.prototype.bk=_.hd.prototype.G;_.A("gbar.a",_.hd.i());window.gbar&&window.gbar.ap&&window.gbar.ap(window.gbar.a);var sd=new Wc;_.qd("api",sd);
var td=_.kd()||new _.Vc,ud=window,vd=_.y(_.H(td,8));ud.__PVT=vd;_.qd("eq",_.nd);
}catch(e){_._DumpException(e)}
try{
_.wd=class extends _.O{constructor(a){super(a)}};
}catch(e){_._DumpException(e)}
try{
var xd=class extends _.O{constructor(a){super(a)}};var yd=class extends _.Q{constructor(){super();this.j=[];this.i=[]}o(a,b){this.j.push({features:a,options:b!=null?b:null})}init(a,b,c){window.gapi={};const d=window.___jsl={};d.h=_.y(_.H(a,1));_.Na(_.Kc(a,12))!=null&&(d.dpo=_.x(_.F(a,12)));d.ms=_.y(_.H(a,2));d.m=_.y(_.H(a,3));d.l=[];_.G(b,1)&&(a=_.H(b,3))&&this.i.push(a);_.G(c,1)&&(c=_.H(c,2))&&this.i.push(c);_.A("gapi.load",(0,_.z)(this.o,this));return this}};var zd=_.C(_.id,_.Zc,14);if(zd){var Bd=_.C(_.id,_.wd,9)||new _.wd,Cd=new xd,Dd=new yd;Dd.init(zd,Bd,Cd);_.qd("gs",Dd)};
}catch(e){_._DumpException(e)}
})(this.gbar_);
// Google Inc.
</script><script nonce="">try {const preferences = JSON.parse(window.localStorage.getItem("datalab_prefs_Javierhidalgomoreno5@gmail.com")); document.querySelector('html') .setAttribute('theme', preferences['siteTheme'] || 'default');} catch (e) {}</script><script nonce="">window.performance.mark('head_start');</script><link rel="stylesheet" href="./SSP_files/bundle.css"><script nonce="">var colabVersionTag = 'colab_20250612-060058_RC00_770574881'; var colabScsVersion = '0d62d8ce9a6873c4fde6a6bd0d1075e6'; var hl = 'es'; var colabExperiments = JSON.parse('\x7b\x22add_df_vars_in_ai_conversation_context\x22: false, \x22add_df_vars_in_ai_generate_context\x22: false, \x22add_notebook_diffs_to_chat_history\x22: false, \x22add_nvidia_cudf_facts_to_chat_context\x22: true, \x22add_prompt_cell\x22: false, \x22agent_scroll_delay_ms\x22: 200, \x22ai_banner\x22: false, \x22ai_characters_per_token\x22: 3.0, \x22ai_prompt_token_limit\x22: 32000, \x22ai_unsubscribed_warning\x22: false, \x22ai_user_input_char_limit\x22: 2000, \x22aida_complete_code_model_id\x22: \x22\x22, \x22aida_converse_max_facts\x22: 20, \x22aida_do_conversation_model_id\x22: \x22aida_v3p1s_streaming\x22, \x22aida_dsa_model_strategy\x22: -1, \x22aida_generate_code_model_id\x22: \x22aida_v3p1s\x22, \x22aida_generate_code_no_max_tokens\x22: true, \x22allow_dsa_page_interaction\x22: true, \x22allow_readonly_cells\x22: true, \x22allow_subpaths_in_kernel_url\x22: false, \x22allowed_public_url_domains\x22: \x5b\x22huggingface.co\x22, \x22dagshub.com\x22, \x22storage.googleapis.com\x22\x5d, \x22backend_url_allowlist\x22: \x5b\x22localhost\x22, \x22127.0.0.1\x22, \x22\x5b::1\x5d\x22, \x22kkb-production.jupyter-proxy.kaggle.net\x22, \x22kkb-staging.jupyter-proxy.kaggle.net\x22, \x22isolabs-kernels.corp.goog\x22\x5d, \x22backend_version\x22: \x22next\x22, \x22backtracking_strategy\x22: \x22non-literals\x22, \x22bigquery_sql_engine\x22: false, \x22bigquery_sql_engine_library\x22: \x22\x22, \x22ccu_info_abort_timeout_ms\x22: 3000, \x22cell_tags\x22: false, \x22cell_toolbar_ai_menu\x22: true, \x22cell_ui_refresh\x22: false, \x22chat_explain_error_temp\x22: \x221.0\x22, \x22chat_model_id_override\x22: \x22\x22, \x22chat_reduce_refusals\x22: true, \x22classified_generate\x22: false, \x22classroom_iframe_parent_origin\x22: \x22\x22, \x22client_text_compose\x22: true, \x22client_trim_completion_text\x22: 400, \x22cloud_origin\x22: \x22\x22, \x22cloud_run\x22: false, \x22code_report_millis\x22: 600000, \x22comment_poll_long\x22: 900000, \x22comment_poll_short\x22: 60000, \x22complete_code\x22: true, \x22compose_skip_suffix_check\x22: false, \x22composer\x22: false, \x22composer_auto_code\x22: false, \x22composer_context_max_variable_length\x22: 500000, \x22composer_debug_info\x22: false, \x22composer_entrypoint_explain_cell\x22: false, \x22composer_entrypoint_explain_error\x22: false, \x22composer_entrypoint_gemini_spark\x22: false, \x22composer_focused_cell_context\x22: false, \x22composer_fp_ai_demo\x22: false, \x22composer_fp_context\x22: false, \x22composer_generate_code\x22: false, \x22composer_on_empty\x22: true, \x22composer_resize_notebook_footer\x22: true, \x22composer_show_debug_info\x22: false, \x22composer_static_content\x22: true, \x22composer_transform_code\x22: false, \x22converse_notebook_context_length\x22: 40000, \x22converse_server_side_history\x22: false, \x22converse_temp\x22: \x22\x22, \x22corp_third_party_widgets\x22: false, \x22crawler\x22: false, \x22create_gemini_api_key\x22: false, \x22critique_comments\x22: false, \x22data_inspector\x22: false, \x22dbu\x22: \x22\x22, \x22debug_adapter\x22: false, \x22debug_external\x22: \x22external\x22, \x22debug_prod\x22: \x22prod\x22, \x22debugger_server_side_globals\x22: true, \x22dep_cells_commands\x22: true, \x22dep_cells_enabled\x22: false, \x22dep_graph\x22: false, \x22deprecate_prompt\x22: true, \x22deprecate_unpin\x22: false, \x22development\x22: false, \x22dialog_ui_refresh\x22: false, \x22document_change_poll_interval\x22: 30000, \x22drive_anon_api_key\x22: \x22AIzaSyB10s2vWUTwP0pj20wZoxmpZIt3rRodYeg\x22, \x22drive_api_key\x22: \x22AIzaSyCN_sSPJMpYrAzC5AtTrltNC8oRmLtoqBk\x22, \x22drive_background_save_project_number\x22: \x22948411933973\x22, \x22drive_realtime_project_number\x22: \x22903414543955\x22, \x22drop_chat_links\x22: true, \x22dsa\x22: true, \x22dsa_file_not_sent_survey_timeout\x22: 60000, \x22dsa_sample_datasets_toast\x22: true, \x22embedded_toolbar_customization\x22: false, \x22embedded_use_websockets\x22: false, \x22embedding_app\x22: \x22\x22, \x22enable_adhoc_backends\x22: false, \x22enable_agent_connect_to_new_vm\x22: true, \x22enable_completions_backend_switching\x22: false, \x22enable_dasher_subscription_ui\x22: true, \x22enable_edu_subscription_ui\x22: false, \x22enable_more_reprs\x22: true, \x22enable_mpp_orc_model_overrides\x22: true, \x22enable_rt_on_create\x22: false, \x22execution_status_propagation\x22: true, \x22explain_cell\x22: true, \x22explain_error\x22: true, \x22explain_error_model_id_override\x22: \x22\x22, \x22explain_error_trim_traceback\x22: true, \x22explicit_ai_backend\x22: \x22\x22, \x22external_trusted_github_org_repos_quick_add\x22: \x22GoogleChrome\/CrUX,google\/generative-ai-docs,google-health\/cxr-foundation,google-health\/derm-foundation,google-health\/path-foundation\x22, \x22file_browser_poll_interval_millis\x22: 10000, \x22file_upload_rate_limit\x22: 5, \x22filter_repetitive_suggestions\x22: false, \x22first_party_auth\x22: true, \x22fix_imports\x22: false, \x22fp_context\x22: false, \x22generate_code\x22: true, \x22generate_df\x22: true, \x22generate_prompt_reduce_blank_responses\x22: false, \x22generate_prompt_reduce_name_errors\x22: false, \x22generate_temp\x22: \x22\x22, \x22get_started\x22: false, \x22gis_auth\x22: true, \x22github_client_id\x22: \x225036cf6d81e65aaa6340\x22, \x22gpu_utilization_check_interval_ms\x22: 600000, \x22hats_surveys\x22: true, \x22hrc\x22: false, \x22i18n_runtime_labels\x22: true, \x22import_data\x22: false, \x22import_gemini_api_key\x22: true, \x22inline_completion_ai_campaign_max_views\x22: 3, \x22inline_completion_ai_campaign_throttle_ms\x22: 600000, \x22interactive_sheet_next_steps\x22: true, \x22is_prober\x22: false, \x22jspb_analytics\x22: false, \x22jsraw\x22: \x22compiled\x22, \x22kaggle_backend_runtime_selector\x22: false, \x22kaggle_client_id\x22: \x22\x22, \x22kaggle_integrations\x22: false, \x22kaggle_resource_picker\x22: false, \x22kaggle_submit_to_competition\x22: false, \x22kernel_use_connected_endpoint_for_unassign\x22: true, \x22key_promoter\x22: false, \x22kr\x22: false, \x22link_id_assignments\x22: true, \x22link_imports_to_installs\x22: true, \x22local_cloud_apis\x22: false, \x22local_service_worker\x22: false, \x22lsp_diagnostics_reporting\x22: false, \x22lsp_inlay_hint\x22: false, \x22makersuite_api_key\x22: \x22AIzaSyAmDcruecW4rCL1KdwcbIVHL4LkXxahIgw\x22, \x22makersuite_service_url\x22: \x22https:\/\/alkalimakersuite-pa.clients6.google.com\x22, \x22markdown_spellchecker\x22: false, \x22min_dep_cells_runtime_kernel_cl\x22: 694609395, \x22ml_enabled\x22: true, \x22mlpp_multiline\x22: false, \x22mobile\x22: false, \x22moma_rag\x22: false, \x22mpp_orc_temperature_override\x22: \x221.0\x22, \x22multi_modal_context_for_composer\x22: false, \x22multi_modal_context_for_transform\x22: false, \x22next_steps\x22: true, \x22nl2code_missing_imports\x22: false, \x22no_fun\x22: false, \x22notebook_context_length\x22: 40000, \x22outage_notification\x22: \x22\x22, \x22outage_notification_link\x22: \x22\x22, \x22outputframe_version\x22: \x22\x22, \x22override_suf_params_for_test\x22: false, \x22parallel_prompting\x22: true, \x22pds_minting\x22: false, \x22prepare_runtime_for_notebook\x22: false, \x22prereq_cells_next_steps\x22: true, \x22presentation_mode\x22: false, \x22prevent_ai_long_response_generate\x22: false, \x22prevent_ai_long_response_generate_with_df\x22: false, \x22prevent_ai_long_response_suggest_fix\x22: false, \x22prompt_for_dsa_trusted_tester_consent\x22: false, \x22recaptcha_polling_frequency_ms\x22: 300000, \x22recaptcha_v2_site_key\x22: \x226LfQttQUAAAAADuPanA_VZMaZgBAOnHZNuuqUewp\x22, \x22recaptcha_v3_site_key\x22: \x226LfQPtEUAAAAAHBpAdFng54jyuB1V5w5dofknpip\x22, \x22reconnect_max_delay_seconds\x22: 300, \x22remove_ai_explain_cell_fencing\x22: true, \x22remove_ai_explain_error_fencing\x22: true, \x22remove_ai_generate_fencing\x22: true, \x22require_ai_consent\x22: true, \x22resource_poll_interval_ms\x22: 10000, \x22rp_kws\x22: true, \x22rp_kxhr_skip_fallback\x22: false, \x22rp_serve_kernel_port\x22: true, \x22rp_socketio_fallback\x22: true, \x22rp_token_refresh_headroom_millis\x22: 300000, \x22rt_opt_in\x22: \x22OFF\x22, \x22run_mode\x22: false, \x22runtime_env_overrides\x22: \x22\\n          \x5b\\n            \x5b\\\x22ENABLE_DIRECTORYPREFETCHER\\\x22, \\\x221\\\x22\x5d\\n          \x5d\\n        \x22, \x22runtime_type_for_test\x22: \x22\x22, \x22server_execution_queue\x22: true, \x22server_side_generate_prompt_formatting_cloud\x22: false, \x22session_resume_coalesce\x22: true, \x22show_edu_signup_link\x22: false, \x22show_empty_notebook_actions\x22: true, \x22show_gemini_button_text_label\x22: true, \x22show_payments_interstitial\x22: false, \x22show_rel_notes_on_open\x22: true, \x22show_signup_survey\x22: true, \x22show_subscription_renewal_time\x22: false, \x22show_switch_to_prod_link\x22: false, \x22signup_ccu_increase\x22: true, \x22single_page_consent_form\x22: true, \x22smartpaste\x22: false, \x22smartpaste_serving_config\x22: \x22pl_700m_smart_paste_3.0.32_60\x22, \x22sql_cell\x22: false, \x22sql_cell_buttons\x22: false, \x22sql_completion_lsp\x22: false, \x22status_bar_ui_refresh\x22: true, \x22storage_partition_trial\x22: true, \x22storage_partition_trial_token\x22: \x22Agk\/t4Bt05W7j6CHeqXH9+6ccDayrBsQPqCLDPSElphe\/7cUobayuvN0A3huajTbJenIjp6qibLteh6e0IEWrgIAAAB4eyJvcmlnaW4iOiJodHRwczovL2NvbGFiLnJlc2VhcmNoLmdvb2dsZS5jb206NDQzIiwiZmVhdHVyZSI6IkRpc2FibGVUaGlyZFBhcnR5U3RvcmFnZVBhcnRpdGlvbmluZzIiLCJleHBpcnkiOjE3NDIzNDIzOTl9\x22, \x22suggest_plots\x22: true, \x22task_service_initial_poll_interval_ms\x22: 500, \x22task_service_max_poll_count\x22: 180, \x22task_service_max_poll_interval_ms\x22: 500, \x22task_service_poll_interval_growth_factor\x22: 1.0, \x22task_service_poll_interval_ms\x22: 500, \x22task_service_poll_timeout_ms\x22: 90000, \x22task_service_wait_before_polling_ms\x22: 1000, \x22term4all\x22: false, \x22terminate_session_on_connect_to_new_vm\x22: true, \x22text_compose_report_changes_millis\x22: 10000, \x22text_span_comments\x22: false, \x22toolbar_run_button\x22: true, \x22tpu_node_redirect\x22: true, \x22tpu_resource_stats\x22: false, \x22tpu_v5e1\x22: true, \x22transform_code\x22: false, \x22transform_code_context_file_per_cell\x22: false, \x22trim_filename_extension\x22: false, \x22turn_off_agent_mode_when_safe\x22: true, \x22unmanaged_vm_min_label_block\x22: \x22\x22, \x22unmanaged_vm_min_label_warn\x22: \x22\x22, \x22unmanaged_vm_min_release_tag_block\x22: \x22\x22, \x22unmanaged_vm_min_release_tag_warn\x22: \x22\x22, \x22unsupported_magics_check\x22: true, \x22updated_inline_cell_diff\x22: true, \x22use_corplogin\x22: true, \x22use_tpu_eligibility_lists\x22: true, \x22user_visible_accelerator_models\x22: \x5b\x22T4\x22, \x22A100\x22, \x22L4\x22, \x22V28\x22, \x22V5E1\x22, \x22V6E1\x22\x5d, \x22user_visible_gpu_types\x22: \x5b\x22T4\x22, \x22A100\x22, \x22L4\x22\x5d, \x22v_100_redirect\x22: true, \x22verbose_warnings\x22: false, \x22vertex_ai_api_environment_override\x22: \x22\x22, \x22viz_cell\x22: false, \x22want_completions_ai_consent_campaign\x22: true, \x22workstations\x22: false, \x22ids\x22: \x5b20730375, 20730182, 20730177, 20730396, 20730363, 20730393, 20730150, 20730425, 20730369, 20730324, 20730265\x5d, \x22flag_ids\x22: \x7b\x22add_df_vars_in_ai_conversation_context\x22: 45678289, \x22add_df_vars_in_ai_generate_context\x22: 45687604, \x22add_notebook_diffs_to_chat_history\x22: 45691117, \x22add_nvidia_cudf_facts_to_chat_context\x22: 45685179, \x22add_prompt_cell\x22: 45644995, \x22agent_scroll_delay_ms\x22: 45680776, \x22ai_banner\x22: 45670540, \x22ai_characters_per_token\x22: 45692654, \x22ai_prompt_token_limit\x22: 45692138, \x22ai_unsubscribed_warning\x22: 45504730, \x22ai_user_input_char_limit\x22: 45661098, \x22aida_complete_code_model_id\x22: 45427660, \x22aida_converse_max_facts\x22: 45680037, \x22aida_do_conversation_model_id\x22: 45427664, \x22aida_dsa_model_strategy\x22: 45693665, \x22aida_generate_code_model_id\x22: 45427663, \x22aida_generate_code_no_max_tokens\x22: 45694652, \x22allow_dsa_page_interaction\x22: 45675785, \x22allow_readonly_cells\x22: 45671718, \x22allow_subpaths_in_kernel_url\x22: 45699272, \x22allowed_public_url_domains\x22: 45425558, \x22backend_url_allowlist\x22: 45660303, \x22backend_version\x22: 45425541, \x22backtracking_strategy\x22: 45644832, \x22bigquery_sql_engine\x22: 45697421, \x22bigquery_sql_engine_library\x22: 45700104, \x22ccu_info_abort_timeout_ms\x22: 45691627, \x22cell_tags\x22: 45425779, \x22cell_toolbar_ai_menu\x22: 45647581, \x22cell_ui_refresh\x22: 45673630, \x22chat_explain_error_temp\x22: 45655973, \x22chat_model_id_override\x22: 45631876, \x22chat_reduce_refusals\x22: 45656767, \x22classified_generate\x22: 45425499, \x22classroom_iframe_parent_origin\x22: 45425537, \x22client_text_compose\x22: 45425512, \x22client_trim_completion_text\x22: 45425628, \x22cloud_origin\x22: 45425538, \x22cloud_run\x22: 45697172, \x22code_report_millis\x22: 45658073, \x22comment_poll_long\x22: 45425588, \x22comment_poll_short\x22: 45425587, \x22complete_code\x22: 45686676, \x22compose_skip_suffix_check\x22: 45615470, \x22composer\x22: 45683351, \x22composer_auto_code\x22: 45693768, \x22composer_context_max_variable_length\x22: 45688573, \x22composer_debug_info\x22: 45688718, \x22composer_entrypoint_explain_cell\x22: 45693388, \x22composer_entrypoint_explain_error\x22: 45692068, \x22composer_entrypoint_gemini_spark\x22: 45691834, \x22composer_focused_cell_context\x22: 45697545, \x22composer_fp_ai_demo\x22: 45697025, \x22composer_fp_context\x22: 45701859, \x22composer_generate_code\x22: 45702500, \x22composer_on_empty\x22: 45690576, \x22composer_resize_notebook_footer\x22: 45696289, \x22composer_show_debug_info\x22: 45700003, \x22composer_static_content\x22: 45697502, \x22composer_transform_code\x22: 45700458, \x22converse_notebook_context_length\x22: 45705427, \x22converse_server_side_history\x22: 45634472, \x22converse_temp\x22: 45425509, \x22corp_third_party_widgets\x22: 45678906, \x22crawler\x22: 45425491, \x22create_gemini_api_key\x22: 45654552, \x22critique_comments\x22: 45612076, \x22data_inspector\x22: 45697206, \x22dbu\x22: 45425545, \x22debug_adapter\x22: 45690097, \x22debug_external\x22: 45425470, \x22debug_prod\x22: 45425471, \x22debugger_server_side_globals\x22: 45687360, \x22dep_cells_commands\x22: 45622249, \x22dep_cells_enabled\x22: 45653551, \x22dep_graph\x22: 45629071, \x22deprecate_prompt\x22: 45679897, \x22deprecate_unpin\x22: 45701465, \x22development\x22: 45425544, \x22dialog_ui_refresh\x22: 45698577, \x22document_change_poll_interval\x22: 45425589, \x22drive_anon_api_key\x22: 45425478, \x22drive_api_key\x22: 45425473, \x22drive_background_save_project_number\x22: 45425479, \x22drive_realtime_project_number\x22: 45425629, \x22drop_chat_links\x22: 45646864, \x22dsa\x22: 45656258, \x22dsa_file_not_sent_survey_timeout\x22: 45688578, \x22dsa_sample_datasets_toast\x22: 45682045, \x22embedded_toolbar_customization\x22: 45692827, \x22embedded_use_websockets\x22: 45691694, \x22enable_adhoc_backends\x22: 45425506, \x22enable_agent_connect_to_new_vm\x22: 45670252, \x22enable_completions_backend_switching\x22: 45662651, \x22enable_dasher_subscription_ui\x22: 45639531, \x22enable_edu_subscription_ui\x22: 45693272, \x22enable_more_reprs\x22: 45613354, \x22enable_mpp_orc_model_overrides\x22: 45649913, \x22enable_rt_on_create\x22: 45667583, \x22execution_status_propagation\x22: 45644828, \x22explain_cell\x22: 45425505, \x22explain_error\x22: 45425487, \x22explain_error_model_id_override\x22: 45631875, \x22explain_error_trim_traceback\x22: 45618831, \x22explicit_ai_backend\x22: 45638548, \x22external_trusted_github_org_repos_quick_add\x22: 45425555, \x22file_browser_poll_interval_millis\x22: 45643722, \x22file_upload_rate_limit\x22: 45637799, \x22filter_repetitive_suggestions\x22: 45615781, \x22first_party_auth\x22: 45425560, \x22fix_imports\x22: 45624140, \x22fp_context\x22: 45684902, \x22generate_code\x22: 45425492, \x22generate_df\x22: 45425503, \x22generate_prompt_reduce_blank_responses\x22: 45643396, \x22generate_prompt_reduce_name_errors\x22: 45634392, \x22generate_temp\x22: 45425508, \x22get_started\x22: 45430267, \x22gis_auth\x22: 45425625, \x22github_client_id\x22: 45425556, \x22gpu_utilization_check_interval_ms\x22: 45425561, \x22hats_surveys\x22: 45425559, \x22i18n_runtime_labels\x22: 45662916, \x22import_data\x22: 45430411, \x22import_gemini_api_key\x22: 45654551, \x22inline_completion_ai_campaign_max_views\x22: 45676328, \x22inline_completion_ai_campaign_throttle_ms\x22: 45671534, \x22interactive_sheet_next_steps\x22: 45634324, \x22is_prober\x22: 45429104, \x22jspb_analytics\x22: 45704358, \x22jsraw\x22: 45425557, \x22kaggle_backend_runtime_selector\x22: 45704319, \x22kaggle_client_id\x22: 45690272, \x22kaggle_integrations\x22: 45690259, \x22kaggle_resource_picker\x22: 45697311, \x22kaggle_submit_to_competition\x22: 45693906, \x22kernel_use_connected_endpoint_for_unassign\x22: 45684913, \x22key_promoter\x22: 45425570, \x22link_id_assignments\x22: 45644831, \x22link_imports_to_installs\x22: 45644830, \x22local_cloud_apis\x22: 45425630, \x22local_service_worker\x22: 45425550, \x22lsp_diagnostics_reporting\x22: 45425604, \x22lsp_inlay_hint\x22: 45614695, \x22makersuite_api_key\x22: 45655361, \x22makersuite_service_url\x22: 45655362, \x22markdown_spellchecker\x22: 45671479, \x22min_dep_cells_runtime_kernel_cl\x22: 45654240, \x22ml_enabled\x22: 45425493, \x22mlpp_multiline\x22: 45425623, \x22mobile\x22: 45425562, \x22moma_rag\x22: 45686203, \x22mpp_orc_temperature_override\x22: 45649914, \x22multi_modal_context_for_composer\x22: 45691122, \x22multi_modal_context_for_transform\x22: 45687634, \x22next_steps\x22: 45428239, \x22nl2code_missing_imports\x22: 45615676, \x22no_fun\x22: 45425540, \x22notebook_context_length\x22: 45633457, \x22outage_notification\x22: 45425584, \x22outage_notification_link\x22: 45425585, \x22outputframe_version\x22: 45425591, \x22override_suf_params_for_test\x22: 45425592, \x22parallel_prompting\x22: 45666384, \x22pds_minting\x22: 45648255, \x22prepare_runtime_for_notebook\x22: 45699118, \x22prereq_cells_next_steps\x22: 45640400, \x22presentation_mode\x22: 45699417, \x22prevent_ai_long_response_generate\x22: 45680972, \x22prevent_ai_long_response_generate_with_df\x22: 45681123, \x22prevent_ai_long_response_suggest_fix\x22: 45681124, \x22prompt_for_dsa_trusted_tester_consent\x22: 45670923, \x22recaptcha_polling_frequency_ms\x22: 45425582, \x22recaptcha_v2_site_key\x22: 45425581, \x22recaptcha_v3_site_key\x22: 45425580, \x22reconnect_max_delay_seconds\x22: 45425539, \x22remove_ai_explain_cell_fencing\x22: 45677303, \x22remove_ai_explain_error_fencing\x22: 45677302, \x22remove_ai_generate_fencing\x22: 45673079, \x22require_ai_consent\x22: 45425489, \x22resource_poll_interval_ms\x22: 45425590, \x22rp_kws\x22: 45650184, \x22rp_kxhr_skip_fallback\x22: 45656329, \x22rp_serve_kernel_port\x22: 45572083, \x22rp_socketio_fallback\x22: 45658495, \x22rp_token_refresh_headroom_millis\x22: 45517773, \x22rt_opt_in\x22: 45667546, \x22run_mode\x22: 45642857, \x22runtime_env_overrides\x22: 45425583, \x22runtime_type_for_test\x22: 45425586, \x22server_execution_queue\x22: 45425600, \x22server_side_generate_prompt_formatting_cloud\x22: 45655196, \x22session_resume_coalesce\x22: 45425603, \x22show_edu_signup_link\x22: 45692615, \x22show_empty_notebook_actions\x22: 45677304, \x22show_gemini_button_text_label\x22: 45681647, \x22show_payments_interstitial\x22: 45425543, \x22show_rel_notes_on_open\x22: 45644210, \x22show_signup_survey\x22: 45425620, \x22show_subscription_renewal_time\x22: 45425569, \x22show_switch_to_prod_link\x22: 45425483, \x22signup_ccu_increase\x22: 45689970, \x22single_page_consent_form\x22: 45656775, \x22smartpaste\x22: 45627425, \x22smartpaste_serving_config\x22: 45630585, \x22sql_cell\x22: 45425497, \x22sql_cell_buttons\x22: 45425498, \x22sql_completion_lsp\x22: 45688254, \x22status_bar_ui_refresh\x22: 45685043, \x22suggest_plots\x22: 45696393, \x22task_service_initial_poll_interval_ms\x22: 45696534, \x22task_service_max_poll_count\x22: 45669592, \x22task_service_max_poll_interval_ms\x22: 45696536, \x22task_service_poll_interval_growth_factor\x22: 45696535, \x22task_service_poll_interval_ms\x22: 45669591, \x22task_service_poll_timeout_ms\x22: 45696537, \x22task_service_wait_before_polling_ms\x22: 45669590, \x22term4all\x22: 45425542, \x22terminate_session_on_connect_to_new_vm\x22: 45683597, \x22text_compose_report_changes_millis\x22: 45425568, \x22text_span_comments\x22: 45545873, \x22toolbar_run_button\x22: 45697404, \x22tpu_node_redirect\x22: 45634372, \x22tpu_resource_stats\x22: 45655215, \x22tpu_v5e1\x22: 45652002, \x22transform_code\x22: 45667102, \x22transform_code_context_file_per_cell\x22: 45671260, \x22trim_filename_extension\x22: 45691676, \x22turn_off_agent_mode_when_safe\x22: 45679577, \x22unmanaged_vm_min_label_block\x22: 45425546, \x22unmanaged_vm_min_label_warn\x22: 45425547, \x22unmanaged_vm_min_release_tag_block\x22: 45425548, \x22unmanaged_vm_min_release_tag_warn\x22: 45425549, \x22unsupported_magics_check\x22: 45644829, \x22updated_inline_cell_diff\x22: 45667103, \x22use_corplogin\x22: 45425606, \x22use_tpu_eligibility_lists\x22: 45682573, \x22user_visible_accelerator_models\x22: 45682571, \x22user_visible_gpu_types\x22: 45620529, \x22v_100_redirect\x22: 45644963, \x22verbose_warnings\x22: 45425551, \x22vertex_ai_api_environment_override\x22: 45612077, \x22viz_cell\x22: 45690754, \x22want_completions_ai_consent_campaign\x22: 45671138, \x22workstations\x22: 45425626\x7d\x7d'); var colabUserEmail = 'Javierhidalgomoreno5@gmail.com'; var colabRenderDataToken = 'AFWLbD0yFTaL-xgNojvyqt3SSG9ySJ5DYtSrob5qbLNZMSp0mv_dGp7zlVx0AhRo8GoCH8ABYeRkCcr25yLrfGm-7GX7CjVyLnKB'; var colabConfig = '\x5b\x5b\x22Javierhidalgomoreno5@gmail.com\x22,\x5b1,\x22AHXL0D1UH6ke9P\/+fv6AoiYg22zrrEkskKdcLFj4e3eb9C5Z5wEbnosexMMv7pZDV8X3UAJiqOhG3CMl4FE3nYx4aB8EAdDMLdgXmkS\/93JRTdsLHHj\/xGyahpRKhw6V2rBb4aNbDR3GVAqEcQo3hJsBhgGxpz6kGB5GCOkyGHegLACTNaNCsJ7zSeZSXD\/jsKveRtMX2ZkW8h6n7\/WDCqg6aknPtrkl0Es4lmpUPyx2Q0zwsqZCA1d+58z4ZFSIayXQmd\/yXGVYgu\/v+ECrW4n0F+QcEC+Ekod2QY\/zML8y697LYA\/BnEgho69JNooFrOR9l+CkwLTScGXTvV+AjjIjbhltsXWM3tbQaqNm34RmNb\/r1UgAvCAE6FwF+fGTdIRo69tC09yRaZ+lbLRUj2D0lh7TwjNlWrNypthFBpvqhjayIMtAsg5nHJoH58sWBDuU0jee\/7HNf4\/6BSuRKQ0eGBTz5uOtpHtjtGsLwz1uEhxX3QcI3CmzJE44Kxn\/P1eA\/6xOnF\/FMxBJTgLSO21IbPiCG012bMkXiupqwuu73HkZzlFVZhu5Y+QSysKvNJIE6C\/pQVgylh1W+thacLJTv4vSEvCnJ+hkI86vq4H3L3OWKJkr\/MydDA8BpmMd9EyMVJxrBZrEvzFPIZ\/wLXnksl1FPgCOxcQlYoloF0ZKB5oRBkTWxRtvFn5zTPyHCpNYh\/cv+3Zcvig1vJ6zYeZsoi8i71rsYaPUD1jPxM7pb8Nx\/qvR4X7rUOhbyjkt46wXzIoBtHwmzqqId4yIHW\/0RlNV9xitOCbjB6sMpxQjxhs4OIRiUmHeil6ubM200P5hO55IWwAkMm8T5fG4dOTMTz5mbq4+1+Er\/xngymE9fQwUJQpb1H1g+fg+Vhd9n8N87q+8sQAbBjXRKmkgS0cZ5S+AGtPYeKi1RAF8Lmdq3+DMLnaNXFcILeaXgNilysMNjqP1pY6q0iTxd+ZthDuDEj5tkOu421KIGlzlpbke5I7XYjDJij94FUXAOOSswOCQKZoZiSW\/dick8iX6+Mpddo2bo91YZDTobjOZSX\/vKBvCsEDdmZxgaquJ06vy\/VxVSkSE5+pISNZ7ijOwcMldQfhMPMAu\/nMswa+0C7aiOSlBioZ6t5EvJOMw6wDBakzLLO\/5V+E+eF44DNteu+7M7Ngrsu\/6MVkPvUp0TR0GtTm2Vi2D9UcUFPV+jmHXFjCpgwQMNk1LZ9fZVk1+bMnDVFy51qyJsNFVgXSxaCw44aQlOkRi6pe2gq\/C24Q8b432YkDGs6\/2Mo1KCqGfNqYErkPHRE1AcSLbckaz4AL\/w5EaGsOph3cvColbfOjcHgt\/BvlyFGTW3guehcCZBZT6GBuHHPAGHfMPwRPZLeJANv1PydfTR4PHTbJMqqhYPCsueISiLO29agMFSjb6Gy9Vfh6VJO56UWkZH1UXUVKSA+4hSvrN9N1c9XJhrMaPTBMcKt\/Jd8Ok692BKwfpn3tVCCYwN+I\/H5CsOoB7hqFE0w4fXCpWJd\/UAQATbCk4RHsv70D2rPq6cYZbhL8lUfpxovr1QLBtehgI6WUh62Vi+BxRcDF0AZ+mywA5QbnC2vL7jLRXO1+xBC8JZNRAmN5y+r3S45eKvvalhN67GvFNePEz63MMUoaKGun\/22p32b+EFEEFQTI0dn0pfcU0ZzYCJFJR8ny0ks7O0JaUdbcVvqNjDL4sthuDdt6XyCLHnmrsCmdS3\/x7xB1xpmlAl9wffTpJBsYtd6IkFrY8T6Kd3qcAdptY5Xjb\/SauFQUVK0jYGBmFni2AdFbSY0iNSIZgwk91Y82t3+CLbCuCWyOQDyUZ7yBVs60NqsId0fwL+mIKqhbNgtHjk3clYaBxhNRIqLS3pE3Q733Bb59j\/l2\/Vf5rXCqtAJygjBiJvVnnRdVsgU1rllYdWzdNWjcisCyZZzRtR1BtUDGPYv+EZAQxdgTjCd5B9x35FUc31uTOY86L28dgHgxPaf+qSvNsxEv6Pz88H2vdxJjCcrCmmALtP2eEIxxhamg\x3d\x22,\x22AJ9oCCyyuNCYV98clqpaLQaLOt+kI2jZN2ExLzL2+cGKDbTpCrf9dZsBPP4oanL0XIGVJPEs3lNn3PZPP7LFKW4541GQ\/0QjiTo1UA6yBeStpUC5JlPPPQOvREKN4Z\/sAc+ha4rkuDL8\x22,\x22https:\/\/payments.google.com\/payments\x22,0,0,null,null,null,\x2211,56 €\x22,\x2252,81 €\x22,\x2211,56 €\x22,\x2252,81 €\x22,0,0,0\x5d,\x5b1,4\x5d,\x22SE\x22,0\x5d\x5d';</script><link id="favicon-link" rel="shortcut icon" href="https://ssl.gstatic.com/colaboratory-static/common/0d62d8ce9a6873c4fde6a6bd0d1075e6/img/favicon.ico"><meta name="google-site-verification" content="wRgpUU3mIRZPD1GORBPNonaotM72092B_DsqQFWNa4s"><meta name="google-site-verification" content="f5qdvL6RAXlBgHezvCLpPtvx2wU5ZgIzzPULroprlnA"><meta name="google-site-verification" content="dsf7CRwnDkQv6Ot4gXTXx8_nVf8A9cb5o30hZ7cGAIo"><meta name="google-site-verification" content="K1UdZBHJXQYnJGXIK1KuutmVy6dn3vG2sEyV9D1C6dM"><meta name="google-site-verification" content="wdGthzzfu0IjM3qpFqTuQL9poAQZAvAaFKyuzetLpIM"><meta name="google-site-verification" content="qZJ77guHGO0TObHUBRYVdXQlIhXBBuz8dahJVmIlzCo"><meta name="google-site-verification" content="7ahoeOOKT2ZR781GZ5xK4L9t7yO1ZOHc-gaoUALEYgw"><meta name="google-site-verification" content="PHgaSKwdxZELS21aixtLhfpvaHtKen9pnVJ25EI35Zs"><meta name="google-site-verification" content="qylwTsZSLomIg1JrChne7cPcXmtC2Xh_5ZxlJWLlAH0"><meta name="google-site-verification" content="BQfukMqFy1nu2Q2gjGbNTDA8MJ_Y4L2brCYA1h6ewkY"><meta name="google-site-verification" content="pIZq7V_Vt54MAfdQe5afm8zeJrl3o4GkRW-etNvnlKI"><meta name="google-site-verification" content="Ozey1ptWUQW13_lCEhpPMOcmRBLqdyB3WEL-TJUjskU"><meta name="google-site-verification" content="z-WR3zzv8XZ5FFfBLLDbyTiN35UXm01nWUS2Uej5pwg"><meta name="google-site-verification" content="rF5iXzWe9KZXJes1dQNhOUkS4_z_e97IrsVoCx2trek"><meta name="google-site-verification" content="vsXaeD7OD0m3iK8Z54fG8TYGC5eT17KeL_xMHtdiyWI"><meta name="google-site-verification" content="cpB5oulaGwqSxsg4E-9q2MVbK87iE9NAUUVxdveucPw"><meta name="google-site-verification" content="b6bOMRzMVX2bJABYDGBPtpGcB_AUZ-o2SOTggQXErkg"><meta name="google-site-verification" content="88fgsZDoVRBuRnDPMIEjcHCxsEXzODOqEsJoqtvQsDc"><meta name="google-site-verification" content="hZkpVtQ8gdGznkTfUekRWeGY05QyeLXb6q946CFw2-c"><meta name="google-site-verification" content="sMarhZgb4va_L_7UTdMR43gDZ2gVqc_5GHN4REpQPGY"><meta name="google-site-verification" content="26aKGBCw3XblB5Ou01UhxY5WDtMqHjoTm6P-lvF6AqE"><meta name="google-site-verification" content="DGionF7db9g0dOgeBXwOAN2tmCzWBdo5yOdc_-5UcuE"><meta name="google-site-verification" content="Q9LlidR0toR7UtSyVO23xNeaqJmRp8I6r4ghBQTtntU"><meta name="google-site-verification" content="rQawcZaTEK_UrDG30cz_7nVKOVvBass61QEes0Tm04g"><meta name="google-site-verification" content="-N1hdkiHJQ6kwJALkHVh2ZzV2fFNER0schZl2AU6zvc"><meta name="google-site-verification" content="8L3ghjzKIj241AYAmEygniTe604tsXFkIrb1v-DBtGo"><meta name="google-site-verification" content="Gz6pcDgVFH_aS-aPTYW21rSHcWl0LAgKCWJtdXPVTNo"><meta name="google-site-verification" content="KiunYPvrY5x8umvAWcjhwPrB677xCar2LeT_8yaVrDg"><meta name="google-site-verification" content="LypEVvHhYiLSzDs9PabhmOmsfMfEjVGq2rLXJbtqdzY"><meta name="google-site-verification" content="v2MQvJk6wTiBarKTbe1mdivqYCVtw-5m6w0HDzV5X_4"><meta property="og:type" content="article"><meta property="og:image" content="https://colab.research.google.com/img/colab_favicon_256px.png"><meta property="og:title" content="Google Colab"><meta http-equiv="origin-trial" content="Agk/t4Bt05W7j6CHeqXH9+6ccDayrBsQPqCLDPSElphe/7cUobayuvN0A3huajTbJenIjp6qibLteh6e0IEWrgIAAAB4eyJvcmlnaW4iOiJodHRwczovL2NvbGFiLnJlc2VhcmNoLmdvb2dsZS5jb206NDQzIiwiZmVhdHVyZSI6IkRpc2FibGVUaGlyZFBhcnR5U3RvcmFnZVBhcnRpdGlvbmluZzIiLCJleHBpcnkiOjE3NDIzNDIzOTl9"><script nonce="">window.performance.mark('head_end'); window.performance.measure('head', 'head_start', 'head_end');</script><script async="" src="./SSP_files/lazy.min.js.descargar" nonce=""></script><style id="inert-style">
[inert] {
  pointer-events: none;
  cursor: default;
}

[inert], [inert] * {
  user-select: none;
  -webkit-user-select: none;
  -moz-user-select: none;
  -ms-user-select: none;
}
</style><style type="text/css">.MathJax_Hover_Frame {border-radius: .25em; -webkit-border-radius: .25em; -moz-border-radius: .25em; -khtml-border-radius: .25em; box-shadow: 0px 0px 15px #83A; -webkit-box-shadow: 0px 0px 15px #83A; -moz-box-shadow: 0px 0px 15px #83A; -khtml-box-shadow: 0px 0px 15px #83A; border: 1px solid #A6D ! important; display: inline-block; position: absolute}
.MathJax_Menu_Button .MathJax_Hover_Arrow {position: absolute; cursor: pointer; display: inline-block; border: 2px solid #AAA; border-radius: 4px; -webkit-border-radius: 4px; -moz-border-radius: 4px; -khtml-border-radius: 4px; font-family: 'Courier New',Courier; font-size: 9px; color: #F0F0F0}
.MathJax_Menu_Button .MathJax_Hover_Arrow span {display: block; background-color: #AAA; border: 1px solid; border-radius: 3px; line-height: 0; padding: 4px}
.MathJax_Hover_Arrow:hover {color: white!important; border: 2px solid #CCC!important}
.MathJax_Hover_Arrow:hover span {background-color: #CCC!important}
</style><style type="text/css">#MathJax_About {position: fixed; left: 50%; width: auto; text-align: center; border: 3px outset; padding: 1em 2em; background-color: #DDDDDD; color: black; cursor: default; font-family: message-box; font-size: 120%; font-style: normal; text-indent: 0; text-transform: none; line-height: normal; letter-spacing: normal; word-spacing: normal; word-wrap: normal; white-space: nowrap; float: none; z-index: 201; border-radius: 15px; -webkit-border-radius: 15px; -moz-border-radius: 15px; -khtml-border-radius: 15px; box-shadow: 0px 10px 20px #808080; -webkit-box-shadow: 0px 10px 20px #808080; -moz-box-shadow: 0px 10px 20px #808080; -khtml-box-shadow: 0px 10px 20px #808080; filter: progid:DXImageTransform.Microsoft.dropshadow(OffX=2, OffY=2, Color='gray', Positive='true')}
#MathJax_About.MathJax_MousePost {outline: none}
.MathJax_Menu {position: absolute; background-color: white; color: black; width: auto; padding: 2px; border: 1px solid #CCCCCC; margin: 0; cursor: default; font: menu; text-align: left; text-indent: 0; text-transform: none; line-height: normal; letter-spacing: normal; word-spacing: normal; word-wrap: normal; white-space: nowrap; float: none; z-index: 201; box-shadow: 0px 10px 20px #808080; -webkit-box-shadow: 0px 10px 20px #808080; -moz-box-shadow: 0px 10px 20px #808080; -khtml-box-shadow: 0px 10px 20px #808080; filter: progid:DXImageTransform.Microsoft.dropshadow(OffX=2, OffY=2, Color='gray', Positive='true')}
.MathJax_MenuItem {padding: 2px 2em; background: transparent}
.MathJax_MenuArrow {position: absolute; right: .5em; padding-top: .25em; color: #666666; font-size: .75em}
.MathJax_MenuActive .MathJax_MenuArrow {color: white}
.MathJax_MenuArrow.RTL {left: .5em; right: auto}
.MathJax_MenuCheck {position: absolute; left: .7em}
.MathJax_MenuCheck.RTL {right: .7em; left: auto}
.MathJax_MenuRadioCheck {position: absolute; left: 1em}
.MathJax_MenuRadioCheck.RTL {right: 1em; left: auto}
.MathJax_MenuLabel {padding: 2px 2em 4px 1.33em; font-style: italic}
.MathJax_MenuRule {border-top: 1px solid #CCCCCC; margin: 4px 1px 0px}
.MathJax_MenuDisabled {color: GrayText}
.MathJax_MenuActive {background-color: Highlight; color: HighlightText}
.MathJax_MenuDisabled:focus, .MathJax_MenuLabel:focus {background-color: #E8E8E8}
.MathJax_ContextMenu:focus {outline: none}
.MathJax_ContextMenu .MathJax_MenuItem:focus {outline: none}
#MathJax_AboutClose {top: .2em; right: .2em}
.MathJax_Menu .MathJax_MenuClose {top: -10px; left: -10px}
.MathJax_MenuClose {position: absolute; cursor: pointer; display: inline-block; border: 2px solid #AAA; border-radius: 18px; -webkit-border-radius: 18px; -moz-border-radius: 18px; -khtml-border-radius: 18px; font-family: 'Courier New',Courier; font-size: 24px; color: #F0F0F0}
.MathJax_MenuClose span {display: block; background-color: #AAA; border: 1.5px solid; border-radius: 18px; -webkit-border-radius: 18px; -moz-border-radius: 18px; -khtml-border-radius: 18px; line-height: 0; padding: 8px 0 6px}
.MathJax_MenuClose:hover {color: white!important; border: 2px solid #CCC!important}
.MathJax_MenuClose:hover span {background-color: #CCC!important}
.MathJax_MenuClose:hover:focus {outline: none}
</style><style type="text/css">.MJX_Assistive_MathML {position: absolute!important; top: 0; left: 0; clip: rect(1px, 1px, 1px, 1px); padding: 1px 0 0 0!important; border: 0!important; height: 1px!important; width: 1px!important; overflow: hidden!important; display: block!important; -webkit-touch-callout: none; -webkit-user-select: none; -khtml-user-select: none; -moz-user-select: none; -ms-user-select: none; user-select: none}
.MJX_Assistive_MathML.MJX_Assistive_MathML_Block {width: 100%!important}
</style><style type="text/css">#MathJax_Zoom {position: absolute; background-color: #F0F0F0; overflow: auto; display: block; z-index: 301; padding: .5em; border: 1px solid black; margin: 0; font-weight: normal; font-style: normal; text-align: left; text-indent: 0; text-transform: none; line-height: normal; letter-spacing: normal; word-spacing: normal; word-wrap: normal; white-space: nowrap; float: none; -webkit-box-sizing: content-box; -moz-box-sizing: content-box; box-sizing: content-box; box-shadow: 5px 5px 15px #AAAAAA; -webkit-box-shadow: 5px 5px 15px #AAAAAA; -moz-box-shadow: 5px 5px 15px #AAAAAA; -khtml-box-shadow: 5px 5px 15px #AAAAAA; filter: progid:DXImageTransform.Microsoft.dropshadow(OffX=2, OffY=2, Color='gray', Positive='true')}
#MathJax_ZoomOverlay {position: absolute; left: 0; top: 0; z-index: 300; display: inline-block; width: 100%; height: 100%; border: 0; padding: 0; margin: 0; background-color: white; opacity: 0; filter: alpha(opacity=0)}
#MathJax_ZoomFrame {position: relative; display: inline-block; height: 0; width: 0}
#MathJax_ZoomEventTrap {position: absolute; left: 0; top: 0; z-index: 302; display: inline-block; border: 0; padding: 0; margin: 0; background-color: white; opacity: 0; filter: alpha(opacity=0)}
</style><style type="text/css">.MathJax_Preview {color: #888}
#MathJax_Message {position: fixed; left: 1em; bottom: 1.5em; background-color: #E6E6E6; border: 1px solid #959595; margin: 0px; padding: 2px 8px; z-index: 102; color: black; font-size: 80%; width: auto; white-space: nowrap}
#MathJax_MSIE_Frame {position: absolute; top: 0; left: 0; width: 0px; z-index: 101; border: 0px; margin: 0px; padding: 0px}
.MathJax_Error {color: #CC0000; font-style: italic}
</style><script async="async" type="text/javascript" src="./SSP_files/editor.main.js.descargar"></script><script async="" type="text/javascript" charset="UTF-8" src="./SSP_files/rs=AA2YrTv8f8ZUbipJWUaxHHl3oxLPlmHPDA" nonce=""></script><link type="text/css" href="./SSP_files/rs=AA2YrTsKeM0fuGSyAulS_7nCvnwvUw1LAA" rel="stylesheet"><style type="text/css">.MJXp-script {font-size: .8em}
.MJXp-right {-webkit-transform-origin: right; -moz-transform-origin: right; -ms-transform-origin: right; -o-transform-origin: right; transform-origin: right}
.MJXp-bold {font-weight: bold}
.MJXp-italic {font-style: italic}
.MJXp-scr {font-family: MathJax_Script,'Times New Roman',Times,STIXGeneral,serif}
.MJXp-frak {font-family: MathJax_Fraktur,'Times New Roman',Times,STIXGeneral,serif}
.MJXp-sf {font-family: MathJax_SansSerif,'Times New Roman',Times,STIXGeneral,serif}
.MJXp-cal {font-family: MathJax_Caligraphic,'Times New Roman',Times,STIXGeneral,serif}
.MJXp-mono {font-family: MathJax_Typewriter,'Times New Roman',Times,STIXGeneral,serif}
.MJXp-largeop {font-size: 150%}
.MJXp-largeop.MJXp-int {vertical-align: -.2em}
.MJXp-math {display: inline-block; line-height: 1.2; text-indent: 0; font-family: 'Times New Roman',Times,STIXGeneral,serif; white-space: nowrap; border-collapse: collapse}
.MJXp-display {display: block; text-align: center; margin: 1em 0}
.MJXp-math span {display: inline-block}
.MJXp-box {display: block!important; text-align: center}
.MJXp-box:after {content: " "}
.MJXp-rule {display: block!important; margin-top: .1em}
.MJXp-char {display: block!important}
.MJXp-mo {margin: 0 .15em}
.MJXp-mfrac {margin: 0 .125em; vertical-align: .25em}
.MJXp-denom {display: inline-table!important; width: 100%}
.MJXp-denom > * {display: table-row!important}
.MJXp-surd {vertical-align: top}
.MJXp-surd > * {display: block!important}
.MJXp-script-box > *  {display: table!important; height: 50%}
.MJXp-script-box > * > * {display: table-cell!important; vertical-align: top}
.MJXp-script-box > *:last-child > * {vertical-align: bottom}
.MJXp-script-box > * > * > * {display: block!important}
.MJXp-mphantom {visibility: hidden}
.MJXp-munderover, .MJXp-munder {display: inline-table!important}
.MJXp-over {display: inline-block!important; text-align: center}
.MJXp-over > * {display: block!important}
.MJXp-munderover > *, .MJXp-munder > * {display: table-row!important}
.MJXp-mtable {vertical-align: .25em; margin: 0 .125em}
.MJXp-mtable > * {display: inline-table!important; vertical-align: middle}
.MJXp-mtr {display: table-row!important}
.MJXp-mtd {display: table-cell!important; text-align: center; padding: .5em 0 0 .5em}
.MJXp-mtr > .MJXp-mtd:first-child {padding-left: 0}
.MJXp-mtr:first-child > .MJXp-mtd {padding-top: 0}
.MJXp-mlabeledtr {display: table-row!important}
.MJXp-mlabeledtr > .MJXp-mtd:first-child {padding-left: 0}
.MJXp-mlabeledtr:first-child > .MJXp-mtd {padding-top: 0}
.MJXp-merror {background-color: #FFFF88; color: #CC0000; border: 1px solid #CC0000; padding: 1px 3px; font-style: normal; font-size: 90%}
.MJXp-scale0 {-webkit-transform: scaleX(.0); -moz-transform: scaleX(.0); -ms-transform: scaleX(.0); -o-transform: scaleX(.0); transform: scaleX(.0)}
.MJXp-scale1 {-webkit-transform: scaleX(.1); -moz-transform: scaleX(.1); -ms-transform: scaleX(.1); -o-transform: scaleX(.1); transform: scaleX(.1)}
.MJXp-scale2 {-webkit-transform: scaleX(.2); -moz-transform: scaleX(.2); -ms-transform: scaleX(.2); -o-transform: scaleX(.2); transform: scaleX(.2)}
.MJXp-scale3 {-webkit-transform: scaleX(.3); -moz-transform: scaleX(.3); -ms-transform: scaleX(.3); -o-transform: scaleX(.3); transform: scaleX(.3)}
.MJXp-scale4 {-webkit-transform: scaleX(.4); -moz-transform: scaleX(.4); -ms-transform: scaleX(.4); -o-transform: scaleX(.4); transform: scaleX(.4)}
.MJXp-scale5 {-webkit-transform: scaleX(.5); -moz-transform: scaleX(.5); -ms-transform: scaleX(.5); -o-transform: scaleX(.5); transform: scaleX(.5)}
.MJXp-scale6 {-webkit-transform: scaleX(.6); -moz-transform: scaleX(.6); -ms-transform: scaleX(.6); -o-transform: scaleX(.6); transform: scaleX(.6)}
.MJXp-scale7 {-webkit-transform: scaleX(.7); -moz-transform: scaleX(.7); -ms-transform: scaleX(.7); -o-transform: scaleX(.7); transform: scaleX(.7)}
.MJXp-scale8 {-webkit-transform: scaleX(.8); -moz-transform: scaleX(.8); -ms-transform: scaleX(.8); -o-transform: scaleX(.8); transform: scaleX(.8)}
.MJXp-scale9 {-webkit-transform: scaleX(.9); -moz-transform: scaleX(.9); -ms-transform: scaleX(.9); -o-transform: scaleX(.9); transform: scaleX(.9)}
.MathJax_PHTML .noError {vertical-align: ; font-size: 90%; text-align: left; color: black; padding: 1px 3px; border: 1px solid}
</style><style type="text/css">.MathJax_Display {text-align: center; margin: 0; position: relative; display: block!important; text-indent: 0; max-width: none; max-height: none; min-width: 0; min-height: 0; width: 100%}
.MathJax .merror {background-color: #FFFF88; color: #CC0000; border: 1px solid #CC0000; padding: 1px 3px; font-style: normal; font-size: 90%}
.MathJax .MJX-monospace {font-family: monospace}
.MathJax .MJX-sans-serif {font-family: sans-serif}
#MathJax_Tooltip {background-color: InfoBackground; color: InfoText; border: 1px solid black; box-shadow: 2px 2px 5px #AAAAAA; -webkit-box-shadow: 2px 2px 5px #AAAAAA; -moz-box-shadow: 2px 2px 5px #AAAAAA; -khtml-box-shadow: 2px 2px 5px #AAAAAA; filter: progid:DXImageTransform.Microsoft.dropshadow(OffX=2, OffY=2, Color='gray', Positive='true'); padding: 3px 4px; z-index: 401; position: absolute; left: 0; top: 0; width: auto; height: auto; display: none}
.MathJax {display: inline; font-style: normal; font-weight: normal; line-height: normal; font-size: 100%; font-size-adjust: none; text-indent: 0; text-align: left; text-transform: none; letter-spacing: normal; word-spacing: normal; word-wrap: normal; white-space: nowrap; float: none; direction: ltr; max-width: none; max-height: none; min-width: 0; min-height: 0; border: 0; padding: 0; margin: 0}
.MathJax:focus, body :focus .MathJax {display: inline-table}
.MathJax.MathJax_FullWidth {text-align: center; display: table-cell!important; width: 10000em!important}
.MathJax img, .MathJax nobr, .MathJax a {border: 0; padding: 0; margin: 0; max-width: none; max-height: none; min-width: 0; min-height: 0; vertical-align: 0; line-height: normal; text-decoration: none}
img.MathJax_strut {border: 0!important; padding: 0!important; margin: 0!important; vertical-align: 0!important}
.MathJax span {display: inline; position: static; border: 0; padding: 0; margin: 0; vertical-align: 0; line-height: normal; text-decoration: none; box-sizing: content-box}
.MathJax nobr {white-space: nowrap!important}
.MathJax img {display: inline!important; float: none!important}
.MathJax * {transition: none; -webkit-transition: none; -moz-transition: none; -ms-transition: none; -o-transition: none}
.MathJax_Processing {visibility: hidden; position: fixed; width: 0; height: 0; overflow: hidden}
.MathJax_Processed {display: none!important}
.MathJax_test {font-style: normal; font-weight: normal; font-size: 100%; font-size-adjust: none; text-indent: 0; text-transform: none; letter-spacing: normal; word-spacing: normal; overflow: hidden; height: 1px}
.MathJax_test.mjx-test-display {display: table!important}
.MathJax_test.mjx-test-inline {display: inline!important; margin-right: -1px}
.MathJax_test.mjx-test-default {display: block!important; clear: both}
.MathJax_ex_box {display: inline-block!important; position: absolute; overflow: hidden; min-height: 0; max-height: none; padding: 0; border: 0; margin: 0; width: 1px; height: 60ex}
.MathJax_em_box {display: inline-block!important; position: absolute; overflow: hidden; min-height: 0; max-height: none; padding: 0; border: 0; margin: 0; width: 1px; height: 60em}
.mjx-test-inline .MathJax_left_box {display: inline-block; width: 0; float: left}
.mjx-test-inline .MathJax_right_box {display: inline-block; width: 0; float: right}
.mjx-test-display .MathJax_right_box {display: table-cell!important; width: 10000em!important; min-width: 0; max-width: none; padding: 0; border: 0; margin: 0}
.MathJax .MathJax_HitBox {cursor: text; background: white; opacity: 0; filter: alpha(opacity=0)}
.MathJax .MathJax_HitBox * {filter: none; opacity: 1; background: transparent}
#MathJax_Tooltip * {filter: none; opacity: 1; background: transparent}
@font-face {font-family: MathJax_Main; src: url('https://colab.research.google.com/static/mathjax/fonts/HTML-CSS/TeX/woff/MathJax_Main-Regular.woff?V=2.7.5') format('woff'), url('https://colab.research.google.com/static/mathjax/fonts/HTML-CSS/TeX/otf/MathJax_Main-Regular.otf?V=2.7.5') format('opentype')}
@font-face {font-family: MathJax_Main-bold; src: url('https://colab.research.google.com/static/mathjax/fonts/HTML-CSS/TeX/woff/MathJax_Main-Bold.woff?V=2.7.5') format('woff'), url('https://colab.research.google.com/static/mathjax/fonts/HTML-CSS/TeX/otf/MathJax_Main-Bold.otf?V=2.7.5') format('opentype')}
@font-face {font-family: MathJax_Main-italic; src: url('https://colab.research.google.com/static/mathjax/fonts/HTML-CSS/TeX/woff/MathJax_Main-Italic.woff?V=2.7.5') format('woff'), url('https://colab.research.google.com/static/mathjax/fonts/HTML-CSS/TeX/otf/MathJax_Main-Italic.otf?V=2.7.5') format('opentype')}
@font-face {font-family: MathJax_Math-italic; src: url('https://colab.research.google.com/static/mathjax/fonts/HTML-CSS/TeX/woff/MathJax_Math-Italic.woff?V=2.7.5') format('woff'), url('https://colab.research.google.com/static/mathjax/fonts/HTML-CSS/TeX/otf/MathJax_Math-Italic.otf?V=2.7.5') format('opentype')}
@font-face {font-family: MathJax_Caligraphic; src: url('https://colab.research.google.com/static/mathjax/fonts/HTML-CSS/TeX/woff/MathJax_Caligraphic-Regular.woff?V=2.7.5') format('woff'), url('https://colab.research.google.com/static/mathjax/fonts/HTML-CSS/TeX/otf/MathJax_Caligraphic-Regular.otf?V=2.7.5') format('opentype')}
@font-face {font-family: MathJax_Size1; src: url('https://colab.research.google.com/static/mathjax/fonts/HTML-CSS/TeX/woff/MathJax_Size1-Regular.woff?V=2.7.5') format('woff'), url('https://colab.research.google.com/static/mathjax/fonts/HTML-CSS/TeX/otf/MathJax_Size1-Regular.otf?V=2.7.5') format('opentype')}
@font-face {font-family: MathJax_Size2; src: url('https://colab.research.google.com/static/mathjax/fonts/HTML-CSS/TeX/woff/MathJax_Size2-Regular.woff?V=2.7.5') format('woff'), url('https://colab.research.google.com/static/mathjax/fonts/HTML-CSS/TeX/otf/MathJax_Size2-Regular.otf?V=2.7.5') format('opentype')}
@font-face {font-family: MathJax_Size3; src: url('https://colab.research.google.com/static/mathjax/fonts/HTML-CSS/TeX/woff/MathJax_Size3-Regular.woff?V=2.7.5') format('woff'), url('https://colab.research.google.com/static/mathjax/fonts/HTML-CSS/TeX/otf/MathJax_Size3-Regular.otf?V=2.7.5') format('opentype')}
@font-face {font-family: MathJax_Size4; src: url('https://colab.research.google.com/static/mathjax/fonts/HTML-CSS/TeX/woff/MathJax_Size4-Regular.woff?V=2.7.5') format('woff'), url('https://colab.research.google.com/static/mathjax/fonts/HTML-CSS/TeX/otf/MathJax_Size4-Regular.otf?V=2.7.5') format('opentype')}
.MathJax .noError {vertical-align: ; font-size: 90%; text-align: left; color: black; padding: 1px 3px; border: 1px solid}
</style><link rel="stylesheet" type="text/css" data-name="vs/editor/editor.main" href="./SSP_files/editor.main.css"><script async="async" type="text/javascript" src="./SSP_files/editor.main.nls.js.descargar"></script><script async="async" type="text/javascript" src="./SSP_files/markdown.js.descargar"></script><script src="./SSP_files/api.js.descargar" nonce=""></script><script src="./SSP_files/api(1).js.descargar" nonce=""></script><style type="text/css" media="screen" class="monaco-colors">.codicon-add:before { content: '\ea60'; }
.codicon-plus:before { content: '\ea60'; }
.codicon-gist-new:before { content: '\ea60'; }
.codicon-repo-create:before { content: '\ea60'; }
.codicon-lightbulb:before { content: '\ea61'; }
.codicon-light-bulb:before { content: '\ea61'; }
.codicon-repo:before { content: '\ea62'; }
.codicon-repo-delete:before { content: '\ea62'; }
.codicon-gist-fork:before { content: '\ea63'; }
.codicon-repo-forked:before { content: '\ea63'; }
.codicon-git-pull-request:before { content: '\ea64'; }
.codicon-git-pull-request-abandoned:before { content: '\ea64'; }
.codicon-record-keys:before { content: '\ea65'; }
.codicon-keyboard:before { content: '\ea65'; }
.codicon-tag:before { content: '\ea66'; }
.codicon-tag-add:before { content: '\ea66'; }
.codicon-tag-remove:before { content: '\ea66'; }
.codicon-person:before { content: '\ea67'; }
.codicon-person-follow:before { content: '\ea67'; }
.codicon-person-outline:before { content: '\ea67'; }
.codicon-person-filled:before { content: '\ea67'; }
.codicon-git-branch:before { content: '\ea68'; }
.codicon-git-branch-create:before { content: '\ea68'; }
.codicon-git-branch-delete:before { content: '\ea68'; }
.codicon-source-control:before { content: '\ea68'; }
.codicon-mirror:before { content: '\ea69'; }
.codicon-mirror-public:before { content: '\ea69'; }
.codicon-star:before { content: '\ea6a'; }
.codicon-star-add:before { content: '\ea6a'; }
.codicon-star-delete:before { content: '\ea6a'; }
.codicon-star-empty:before { content: '\ea6a'; }
.codicon-comment:before { content: '\ea6b'; }
.codicon-comment-add:before { content: '\ea6b'; }
.codicon-alert:before { content: '\ea6c'; }
.codicon-warning:before { content: '\ea6c'; }
.codicon-search:before { content: '\ea6d'; }
.codicon-search-save:before { content: '\ea6d'; }
.codicon-log-out:before { content: '\ea6e'; }
.codicon-sign-out:before { content: '\ea6e'; }
.codicon-log-in:before { content: '\ea6f'; }
.codicon-sign-in:before { content: '\ea6f'; }
.codicon-eye:before { content: '\ea70'; }
.codicon-eye-unwatch:before { content: '\ea70'; }
.codicon-eye-watch:before { content: '\ea70'; }
.codicon-circle-filled:before { content: '\ea71'; }
.codicon-primitive-dot:before { content: '\ea71'; }
.codicon-close-dirty:before { content: '\ea71'; }
.codicon-debug-breakpoint:before { content: '\ea71'; }
.codicon-debug-breakpoint-disabled:before { content: '\ea71'; }
.codicon-debug-hint:before { content: '\ea71'; }
.codicon-primitive-square:before { content: '\ea72'; }
.codicon-edit:before { content: '\ea73'; }
.codicon-pencil:before { content: '\ea73'; }
.codicon-info:before { content: '\ea74'; }
.codicon-issue-opened:before { content: '\ea74'; }
.codicon-gist-private:before { content: '\ea75'; }
.codicon-git-fork-private:before { content: '\ea75'; }
.codicon-lock:before { content: '\ea75'; }
.codicon-mirror-private:before { content: '\ea75'; }
.codicon-close:before { content: '\ea76'; }
.codicon-remove-close:before { content: '\ea76'; }
.codicon-x:before { content: '\ea76'; }
.codicon-repo-sync:before { content: '\ea77'; }
.codicon-sync:before { content: '\ea77'; }
.codicon-clone:before { content: '\ea78'; }
.codicon-desktop-download:before { content: '\ea78'; }
.codicon-beaker:before { content: '\ea79'; }
.codicon-microscope:before { content: '\ea79'; }
.codicon-vm:before { content: '\ea7a'; }
.codicon-device-desktop:before { content: '\ea7a'; }
.codicon-file:before { content: '\ea7b'; }
.codicon-file-text:before { content: '\ea7b'; }
.codicon-more:before { content: '\ea7c'; }
.codicon-ellipsis:before { content: '\ea7c'; }
.codicon-kebab-horizontal:before { content: '\ea7c'; }
.codicon-mail-reply:before { content: '\ea7d'; }
.codicon-reply:before { content: '\ea7d'; }
.codicon-organization:before { content: '\ea7e'; }
.codicon-organization-filled:before { content: '\ea7e'; }
.codicon-organization-outline:before { content: '\ea7e'; }
.codicon-new-file:before { content: '\ea7f'; }
.codicon-file-add:before { content: '\ea7f'; }
.codicon-new-folder:before { content: '\ea80'; }
.codicon-file-directory-create:before { content: '\ea80'; }
.codicon-trash:before { content: '\ea81'; }
.codicon-trashcan:before { content: '\ea81'; }
.codicon-history:before { content: '\ea82'; }
.codicon-clock:before { content: '\ea82'; }
.codicon-folder:before { content: '\ea83'; }
.codicon-file-directory:before { content: '\ea83'; }
.codicon-symbol-folder:before { content: '\ea83'; }
.codicon-logo-github:before { content: '\ea84'; }
.codicon-mark-github:before { content: '\ea84'; }
.codicon-github:before { content: '\ea84'; }
.codicon-terminal:before { content: '\ea85'; }
.codicon-console:before { content: '\ea85'; }
.codicon-repl:before { content: '\ea85'; }
.codicon-zap:before { content: '\ea86'; }
.codicon-symbol-event:before { content: '\ea86'; }
.codicon-error:before { content: '\ea87'; }
.codicon-stop:before { content: '\ea87'; }
.codicon-variable:before { content: '\ea88'; }
.codicon-symbol-variable:before { content: '\ea88'; }
.codicon-array:before { content: '\ea8a'; }
.codicon-symbol-array:before { content: '\ea8a'; }
.codicon-symbol-module:before { content: '\ea8b'; }
.codicon-symbol-package:before { content: '\ea8b'; }
.codicon-symbol-namespace:before { content: '\ea8b'; }
.codicon-symbol-object:before { content: '\ea8b'; }
.codicon-symbol-method:before { content: '\ea8c'; }
.codicon-symbol-function:before { content: '\ea8c'; }
.codicon-symbol-constructor:before { content: '\ea8c'; }
.codicon-symbol-boolean:before { content: '\ea8f'; }
.codicon-symbol-null:before { content: '\ea8f'; }
.codicon-symbol-numeric:before { content: '\ea90'; }
.codicon-symbol-number:before { content: '\ea90'; }
.codicon-symbol-structure:before { content: '\ea91'; }
.codicon-symbol-struct:before { content: '\ea91'; }
.codicon-symbol-parameter:before { content: '\ea92'; }
.codicon-symbol-type-parameter:before { content: '\ea92'; }
.codicon-symbol-key:before { content: '\ea93'; }
.codicon-symbol-text:before { content: '\ea93'; }
.codicon-symbol-reference:before { content: '\ea94'; }
.codicon-go-to-file:before { content: '\ea94'; }
.codicon-symbol-enum:before { content: '\ea95'; }
.codicon-symbol-value:before { content: '\ea95'; }
.codicon-symbol-ruler:before { content: '\ea96'; }
.codicon-symbol-unit:before { content: '\ea96'; }
.codicon-activate-breakpoints:before { content: '\ea97'; }
.codicon-archive:before { content: '\ea98'; }
.codicon-arrow-both:before { content: '\ea99'; }
.codicon-arrow-down:before { content: '\ea9a'; }
.codicon-arrow-left:before { content: '\ea9b'; }
.codicon-arrow-right:before { content: '\ea9c'; }
.codicon-arrow-small-down:before { content: '\ea9d'; }
.codicon-arrow-small-left:before { content: '\ea9e'; }
.codicon-arrow-small-right:before { content: '\ea9f'; }
.codicon-arrow-small-up:before { content: '\eaa0'; }
.codicon-arrow-up:before { content: '\eaa1'; }
.codicon-bell:before { content: '\eaa2'; }
.codicon-bold:before { content: '\eaa3'; }
.codicon-book:before { content: '\eaa4'; }
.codicon-bookmark:before { content: '\eaa5'; }
.codicon-debug-breakpoint-conditional-unverified:before { content: '\eaa6'; }
.codicon-debug-breakpoint-conditional:before { content: '\eaa7'; }
.codicon-debug-breakpoint-conditional-disabled:before { content: '\eaa7'; }
.codicon-debug-breakpoint-data-unverified:before { content: '\eaa8'; }
.codicon-debug-breakpoint-data:before { content: '\eaa9'; }
.codicon-debug-breakpoint-data-disabled:before { content: '\eaa9'; }
.codicon-debug-breakpoint-log-unverified:before { content: '\eaaa'; }
.codicon-debug-breakpoint-log:before { content: '\eaab'; }
.codicon-debug-breakpoint-log-disabled:before { content: '\eaab'; }
.codicon-briefcase:before { content: '\eaac'; }
.codicon-broadcast:before { content: '\eaad'; }
.codicon-browser:before { content: '\eaae'; }
.codicon-bug:before { content: '\eaaf'; }
.codicon-calendar:before { content: '\eab0'; }
.codicon-case-sensitive:before { content: '\eab1'; }
.codicon-check:before { content: '\eab2'; }
.codicon-checklist:before { content: '\eab3'; }
.codicon-chevron-down:before { content: '\eab4'; }
.codicon-drop-down-button:before { content: '\eab4'; }
.codicon-chevron-left:before { content: '\eab5'; }
.codicon-chevron-right:before { content: '\eab6'; }
.codicon-chevron-up:before { content: '\eab7'; }
.codicon-chrome-close:before { content: '\eab8'; }
.codicon-chrome-maximize:before { content: '\eab9'; }
.codicon-chrome-minimize:before { content: '\eaba'; }
.codicon-chrome-restore:before { content: '\eabb'; }
.codicon-circle:before { content: '\eabc'; }
.codicon-circle-outline:before { content: '\eabc'; }
.codicon-debug-breakpoint-unverified:before { content: '\eabc'; }
.codicon-circle-slash:before { content: '\eabd'; }
.codicon-circuit-board:before { content: '\eabe'; }
.codicon-clear-all:before { content: '\eabf'; }
.codicon-clippy:before { content: '\eac0'; }
.codicon-close-all:before { content: '\eac1'; }
.codicon-cloud-download:before { content: '\eac2'; }
.codicon-cloud-upload:before { content: '\eac3'; }
.codicon-code:before { content: '\eac4'; }
.codicon-collapse-all:before { content: '\eac5'; }
.codicon-color-mode:before { content: '\eac6'; }
.codicon-comment-discussion:before { content: '\eac7'; }
.codicon-compare-changes:before { content: '\eafd'; }
.codicon-credit-card:before { content: '\eac9'; }
.codicon-dash:before { content: '\eacc'; }
.codicon-dashboard:before { content: '\eacd'; }
.codicon-database:before { content: '\eace'; }
.codicon-debug-continue:before { content: '\eacf'; }
.codicon-debug-disconnect:before { content: '\ead0'; }
.codicon-debug-pause:before { content: '\ead1'; }
.codicon-debug-restart:before { content: '\ead2'; }
.codicon-debug-start:before { content: '\ead3'; }
.codicon-debug-step-into:before { content: '\ead4'; }
.codicon-debug-step-out:before { content: '\ead5'; }
.codicon-debug-step-over:before { content: '\ead6'; }
.codicon-debug-stop:before { content: '\ead7'; }
.codicon-debug:before { content: '\ead8'; }
.codicon-device-camera-video:before { content: '\ead9'; }
.codicon-device-camera:before { content: '\eada'; }
.codicon-device-mobile:before { content: '\eadb'; }
.codicon-diff-added:before { content: '\eadc'; }
.codicon-diff-ignored:before { content: '\eadd'; }
.codicon-diff-modified:before { content: '\eade'; }
.codicon-diff-removed:before { content: '\eadf'; }
.codicon-diff-renamed:before { content: '\eae0'; }
.codicon-diff:before { content: '\eae1'; }
.codicon-discard:before { content: '\eae2'; }
.codicon-editor-layout:before { content: '\eae3'; }
.codicon-empty-window:before { content: '\eae4'; }
.codicon-exclude:before { content: '\eae5'; }
.codicon-extensions:before { content: '\eae6'; }
.codicon-eye-closed:before { content: '\eae7'; }
.codicon-file-binary:before { content: '\eae8'; }
.codicon-file-code:before { content: '\eae9'; }
.codicon-file-media:before { content: '\eaea'; }
.codicon-file-pdf:before { content: '\eaeb'; }
.codicon-file-submodule:before { content: '\eaec'; }
.codicon-file-symlink-directory:before { content: '\eaed'; }
.codicon-file-symlink-file:before { content: '\eaee'; }
.codicon-file-zip:before { content: '\eaef'; }
.codicon-files:before { content: '\eaf0'; }
.codicon-filter:before { content: '\eaf1'; }
.codicon-flame:before { content: '\eaf2'; }
.codicon-fold-down:before { content: '\eaf3'; }
.codicon-fold-up:before { content: '\eaf4'; }
.codicon-fold:before { content: '\eaf5'; }
.codicon-folder-active:before { content: '\eaf6'; }
.codicon-folder-opened:before { content: '\eaf7'; }
.codicon-gear:before { content: '\eaf8'; }
.codicon-gift:before { content: '\eaf9'; }
.codicon-gist-secret:before { content: '\eafa'; }
.codicon-gist:before { content: '\eafb'; }
.codicon-git-commit:before { content: '\eafc'; }
.codicon-git-compare:before { content: '\eafd'; }
.codicon-git-merge:before { content: '\eafe'; }
.codicon-github-action:before { content: '\eaff'; }
.codicon-github-alt:before { content: '\eb00'; }
.codicon-globe:before { content: '\eb01'; }
.codicon-grabber:before { content: '\eb02'; }
.codicon-graph:before { content: '\eb03'; }
.codicon-gripper:before { content: '\eb04'; }
.codicon-heart:before { content: '\eb05'; }
.codicon-home:before { content: '\eb06'; }
.codicon-horizontal-rule:before { content: '\eb07'; }
.codicon-hubot:before { content: '\eb08'; }
.codicon-inbox:before { content: '\eb09'; }
.codicon-issue-closed:before { content: '\eba4'; }
.codicon-issue-reopened:before { content: '\eb0b'; }
.codicon-issues:before { content: '\eb0c'; }
.codicon-italic:before { content: '\eb0d'; }
.codicon-jersey:before { content: '\eb0e'; }
.codicon-json:before { content: '\eb0f'; }
.codicon-bracket:before { content: '\eb0f'; }
.codicon-kebab-vertical:before { content: '\eb10'; }
.codicon-key:before { content: '\eb11'; }
.codicon-law:before { content: '\eb12'; }
.codicon-lightbulb-autofix:before { content: '\eb13'; }
.codicon-link-external:before { content: '\eb14'; }
.codicon-link:before { content: '\eb15'; }
.codicon-list-ordered:before { content: '\eb16'; }
.codicon-list-unordered:before { content: '\eb17'; }
.codicon-live-share:before { content: '\eb18'; }
.codicon-loading:before { content: '\eb19'; }
.codicon-location:before { content: '\eb1a'; }
.codicon-mail-read:before { content: '\eb1b'; }
.codicon-mail:before { content: '\eb1c'; }
.codicon-markdown:before { content: '\eb1d'; }
.codicon-megaphone:before { content: '\eb1e'; }
.codicon-mention:before { content: '\eb1f'; }
.codicon-milestone:before { content: '\eb20'; }
.codicon-mortar-board:before { content: '\eb21'; }
.codicon-move:before { content: '\eb22'; }
.codicon-multiple-windows:before { content: '\eb23'; }
.codicon-mute:before { content: '\eb24'; }
.codicon-no-newline:before { content: '\eb25'; }
.codicon-note:before { content: '\eb26'; }
.codicon-octoface:before { content: '\eb27'; }
.codicon-open-preview:before { content: '\eb28'; }
.codicon-package:before { content: '\eb29'; }
.codicon-paintcan:before { content: '\eb2a'; }
.codicon-pin:before { content: '\eb2b'; }
.codicon-play:before { content: '\eb2c'; }
.codicon-run:before { content: '\eb2c'; }
.codicon-plug:before { content: '\eb2d'; }
.codicon-preserve-case:before { content: '\eb2e'; }
.codicon-preview:before { content: '\eb2f'; }
.codicon-project:before { content: '\eb30'; }
.codicon-pulse:before { content: '\eb31'; }
.codicon-question:before { content: '\eb32'; }
.codicon-quote:before { content: '\eb33'; }
.codicon-radio-tower:before { content: '\eb34'; }
.codicon-reactions:before { content: '\eb35'; }
.codicon-references:before { content: '\eb36'; }
.codicon-refresh:before { content: '\eb37'; }
.codicon-regex:before { content: '\eb38'; }
.codicon-remote-explorer:before { content: '\eb39'; }
.codicon-remote:before { content: '\eb3a'; }
.codicon-remove:before { content: '\eb3b'; }
.codicon-replace-all:before { content: '\eb3c'; }
.codicon-replace:before { content: '\eb3d'; }
.codicon-repo-clone:before { content: '\eb3e'; }
.codicon-repo-force-push:before { content: '\eb3f'; }
.codicon-repo-pull:before { content: '\eb40'; }
.codicon-repo-push:before { content: '\eb41'; }
.codicon-report:before { content: '\eb42'; }
.codicon-request-changes:before { content: '\eb43'; }
.codicon-rocket:before { content: '\eb44'; }
.codicon-root-folder-opened:before { content: '\eb45'; }
.codicon-root-folder:before { content: '\eb46'; }
.codicon-rss:before { content: '\eb47'; }
.codicon-ruby:before { content: '\eb48'; }
.codicon-save-all:before { content: '\eb49'; }
.codicon-save-as:before { content: '\eb4a'; }
.codicon-save:before { content: '\eb4b'; }
.codicon-screen-full:before { content: '\eb4c'; }
.codicon-screen-normal:before { content: '\eb4d'; }
.codicon-search-stop:before { content: '\eb4e'; }
.codicon-server:before { content: '\eb50'; }
.codicon-settings-gear:before { content: '\eb51'; }
.codicon-settings:before { content: '\eb52'; }
.codicon-shield:before { content: '\eb53'; }
.codicon-smiley:before { content: '\eb54'; }
.codicon-sort-precedence:before { content: '\eb55'; }
.codicon-split-horizontal:before { content: '\eb56'; }
.codicon-split-vertical:before { content: '\eb57'; }
.codicon-squirrel:before { content: '\eb58'; }
.codicon-star-full:before { content: '\eb59'; }
.codicon-star-half:before { content: '\eb5a'; }
.codicon-symbol-class:before { content: '\eb5b'; }
.codicon-symbol-color:before { content: '\eb5c'; }
.codicon-symbol-customcolor:before { content: '\eb5c'; }
.codicon-symbol-constant:before { content: '\eb5d'; }
.codicon-symbol-enum-member:before { content: '\eb5e'; }
.codicon-symbol-field:before { content: '\eb5f'; }
.codicon-symbol-file:before { content: '\eb60'; }
.codicon-symbol-interface:before { content: '\eb61'; }
.codicon-symbol-keyword:before { content: '\eb62'; }
.codicon-symbol-misc:before { content: '\eb63'; }
.codicon-symbol-operator:before { content: '\eb64'; }
.codicon-symbol-property:before { content: '\eb65'; }
.codicon-wrench:before { content: '\eb65'; }
.codicon-wrench-subaction:before { content: '\eb65'; }
.codicon-symbol-snippet:before { content: '\eb66'; }
.codicon-tasklist:before { content: '\eb67'; }
.codicon-telescope:before { content: '\eb68'; }
.codicon-text-size:before { content: '\eb69'; }
.codicon-three-bars:before { content: '\eb6a'; }
.codicon-thumbsdown:before { content: '\eb6b'; }
.codicon-thumbsup:before { content: '\eb6c'; }
.codicon-tools:before { content: '\eb6d'; }
.codicon-triangle-down:before { content: '\eb6e'; }
.codicon-triangle-left:before { content: '\eb6f'; }
.codicon-triangle-right:before { content: '\eb70'; }
.codicon-triangle-up:before { content: '\eb71'; }
.codicon-twitter:before { content: '\eb72'; }
.codicon-unfold:before { content: '\eb73'; }
.codicon-unlock:before { content: '\eb74'; }
.codicon-unmute:before { content: '\eb75'; }
.codicon-unverified:before { content: '\eb76'; }
.codicon-verified:before { content: '\eb77'; }
.codicon-versions:before { content: '\eb78'; }
.codicon-vm-active:before { content: '\eb79'; }
.codicon-vm-outline:before { content: '\eb7a'; }
.codicon-vm-running:before { content: '\eb7b'; }
.codicon-watch:before { content: '\eb7c'; }
.codicon-whitespace:before { content: '\eb7d'; }
.codicon-whole-word:before { content: '\eb7e'; }
.codicon-window:before { content: '\eb7f'; }
.codicon-word-wrap:before { content: '\eb80'; }
.codicon-zoom-in:before { content: '\eb81'; }
.codicon-zoom-out:before { content: '\eb82'; }
.codicon-list-filter:before { content: '\eb83'; }
.codicon-list-flat:before { content: '\eb84'; }
.codicon-list-selection:before { content: '\eb85'; }
.codicon-selection:before { content: '\eb85'; }
.codicon-list-tree:before { content: '\eb86'; }
.codicon-debug-breakpoint-function-unverified:before { content: '\eb87'; }
.codicon-debug-breakpoint-function:before { content: '\eb88'; }
.codicon-debug-breakpoint-function-disabled:before { content: '\eb88'; }
.codicon-debug-stackframe-active:before { content: '\eb89'; }
.codicon-circle-small-filled:before { content: '\eb8a'; }
.codicon-debug-stackframe-dot:before { content: '\eb8a'; }
.codicon-debug-stackframe:before { content: '\eb8b'; }
.codicon-debug-stackframe-focused:before { content: '\eb8b'; }
.codicon-debug-breakpoint-unsupported:before { content: '\eb8c'; }
.codicon-symbol-string:before { content: '\eb8d'; }
.codicon-debug-reverse-continue:before { content: '\eb8e'; }
.codicon-debug-step-back:before { content: '\eb8f'; }
.codicon-debug-restart-frame:before { content: '\eb90'; }
.codicon-call-incoming:before { content: '\eb92'; }
.codicon-call-outgoing:before { content: '\eb93'; }
.codicon-menu:before { content: '\eb94'; }
.codicon-expand-all:before { content: '\eb95'; }
.codicon-feedback:before { content: '\eb96'; }
.codicon-group-by-ref-type:before { content: '\eb97'; }
.codicon-ungroup-by-ref-type:before { content: '\eb98'; }
.codicon-account:before { content: '\eb99'; }
.codicon-bell-dot:before { content: '\eb9a'; }
.codicon-debug-console:before { content: '\eb9b'; }
.codicon-library:before { content: '\eb9c'; }
.codicon-output:before { content: '\eb9d'; }
.codicon-run-all:before { content: '\eb9e'; }
.codicon-sync-ignored:before { content: '\eb9f'; }
.codicon-pinned:before { content: '\eba0'; }
.codicon-github-inverted:before { content: '\eba1'; }
.codicon-debug-alt:before { content: '\eb91'; }
.codicon-server-process:before { content: '\eba2'; }
.codicon-server-environment:before { content: '\eba3'; }
.codicon-pass:before { content: '\eba4'; }
.codicon-stop-circle:before { content: '\eba5'; }
.codicon-play-circle:before { content: '\eba6'; }
.codicon-record:before { content: '\eba7'; }
.codicon-debug-alt-small:before { content: '\eba8'; }
.codicon-vm-connect:before { content: '\eba9'; }
.codicon-cloud:before { content: '\ebaa'; }
.codicon-merge:before { content: '\ebab'; }
.codicon-export:before { content: '\ebac'; }
.codicon-graph-left:before { content: '\ebad'; }
.codicon-magnet:before { content: '\ebae'; }
.codicon-notebook:before { content: '\ebaf'; }
.codicon-redo:before { content: '\ebb0'; }
.codicon-check-all:before { content: '\ebb1'; }
.codicon-pinned-dirty:before { content: '\ebb2'; }
.codicon-pass-filled:before { content: '\ebb3'; }
.codicon-circle-large-filled:before { content: '\ebb4'; }
.codicon-circle-large:before { content: '\ebb5'; }
.codicon-circle-large-outline:before { content: '\ebb5'; }
.codicon-combine:before { content: '\ebb6'; }
.codicon-gather:before { content: '\ebb6'; }
.codicon-table:before { content: '\ebb7'; }
.codicon-variable-group:before { content: '\ebb8'; }
.codicon-type-hierarchy:before { content: '\ebb9'; }
.codicon-type-hierarchy-sub:before { content: '\ebba'; }
.codicon-type-hierarchy-super:before { content: '\ebbb'; }
.codicon-git-pull-request-create:before { content: '\ebbc'; }
.codicon-run-above:before { content: '\ebbd'; }
.codicon-run-below:before { content: '\ebbe'; }
.codicon-notebook-template:before { content: '\ebbf'; }
.codicon-debug-rerun:before { content: '\ebc0'; }
.codicon-workspace-trusted:before { content: '\ebc1'; }
.codicon-workspace-untrusted:before { content: '\ebc2'; }
.codicon-workspace-unspecified:before { content: '\ebc3'; }
.codicon-terminal-cmd:before { content: '\ebc4'; }
.codicon-terminal-debian:before { content: '\ebc5'; }
.codicon-terminal-linux:before { content: '\ebc6'; }
.codicon-terminal-powershell:before { content: '\ebc7'; }
.codicon-terminal-tmux:before { content: '\ebc8'; }
.codicon-terminal-ubuntu:before { content: '\ebc9'; }
.codicon-terminal-bash:before { content: '\ebca'; }
.codicon-arrow-swap:before { content: '\ebcb'; }
.codicon-copy:before { content: '\ebcc'; }
.codicon-person-add:before { content: '\ebcd'; }
.codicon-filter-filled:before { content: '\ebce'; }
.codicon-wand:before { content: '\ebcf'; }
.codicon-debug-line-by-line:before { content: '\ebd0'; }
.codicon-inspect:before { content: '\ebd1'; }
.codicon-layers:before { content: '\ebd2'; }
.codicon-layers-dot:before { content: '\ebd3'; }
.codicon-layers-active:before { content: '\ebd4'; }
.codicon-compass:before { content: '\ebd5'; }
.codicon-compass-dot:before { content: '\ebd6'; }
.codicon-compass-active:before { content: '\ebd7'; }
.codicon-azure:before { content: '\ebd8'; }
.codicon-issue-draft:before { content: '\ebd9'; }
.codicon-git-pull-request-closed:before { content: '\ebda'; }
.codicon-git-pull-request-draft:before { content: '\ebdb'; }
.codicon-debug-all:before { content: '\ebdc'; }
.codicon-debug-coverage:before { content: '\ebdd'; }
.codicon-run-errors:before { content: '\ebde'; }
.codicon-folder-library:before { content: '\ebdf'; }
.codicon-debug-continue-small:before { content: '\ebe0'; }
.codicon-beaker-stop:before { content: '\ebe1'; }
.codicon-graph-line:before { content: '\ebe2'; }
.codicon-graph-scatter:before { content: '\ebe3'; }
.codicon-pie-chart:before { content: '\ebe4'; }
.codicon-bracket-dot:before { content: '\ebe5'; }
.codicon-bracket-error:before { content: '\ebe6'; }
.codicon-lock-small:before { content: '\ebe7'; }
.codicon-azure-devops:before { content: '\ebe8'; }
.codicon-verified-filled:before { content: '\ebe9'; }
.codicon-newline:before { content: '\ebea'; }
.codicon-layout:before { content: '\ebeb'; }
.codicon-layout-activitybar-left:before { content: '\ebec'; }
.codicon-layout-activitybar-right:before { content: '\ebed'; }
.codicon-layout-panel-left:before { content: '\ebee'; }
.codicon-layout-panel-center:before { content: '\ebef'; }
.codicon-layout-panel-justify:before { content: '\ebf0'; }
.codicon-layout-panel-right:before { content: '\ebf1'; }
.codicon-layout-panel:before { content: '\ebf2'; }
.codicon-layout-sidebar-left:before { content: '\ebf3'; }
.codicon-layout-sidebar-right:before { content: '\ebf4'; }
.codicon-layout-statusbar:before { content: '\ebf5'; }
.codicon-layout-menubar:before { content: '\ebf6'; }
.codicon-layout-centered:before { content: '\ebf7'; }
.codicon-layout-sidebar-right-off:before { content: '\ec00'; }
.codicon-layout-panel-off:before { content: '\ec01'; }
.codicon-layout-sidebar-left-off:before { content: '\ec02'; }
.codicon-target:before { content: '\ebf8'; }
.codicon-indent:before { content: '\ebf9'; }
.codicon-record-small:before { content: '\ebfa'; }
.codicon-error-small:before { content: '\ebfb'; }
.codicon-arrow-circle-down:before { content: '\ebfc'; }
.codicon-arrow-circle-left:before { content: '\ebfd'; }
.codicon-arrow-circle-right:before { content: '\ebfe'; }
.codicon-arrow-circle-up:before { content: '\ebff'; }
.codicon-heart-filled:before { content: '\ec04'; }
.codicon-map:before { content: '\ec05'; }
.codicon-map-filled:before { content: '\ec06'; }
.codicon-circle-small:before { content: '\ec07'; }
.codicon-bell-slash:before { content: '\ec08'; }
.codicon-bell-slash-dot:before { content: '\ec09'; }
.codicon-comment-unresolved:before { content: '\ec0a'; }
.codicon-git-pull-request-go-to-changes:before { content: '\ec0b'; }
.codicon-git-pull-request-new-changes:before { content: '\ec0c'; }
.codicon-search-fuzzy:before { content: '\ec0d'; }
.codicon-comment-draft:before { content: '\ec0e'; }
.codicon-send:before { content: '\ec0f'; }
.codicon-sparkle:before { content: '\ec10'; }
.codicon-insert:before { content: '\ec11'; }
.codicon-dialog-error:before { content: '\ea87'; }
.codicon-dialog-warning:before { content: '\ea6c'; }
.codicon-dialog-info:before { content: '\ea74'; }
.codicon-dialog-close:before { content: '\ea76'; }
.codicon-tree-item-expanded:before { content: '\eab4'; }
.codicon-tree-filter-on-type-on:before { content: '\eb83'; }
.codicon-tree-filter-on-type-off:before { content: '\eb85'; }
.codicon-tree-filter-clear:before { content: '\ea76'; }
.codicon-tree-item-loading:before { content: '\eb19'; }
.codicon-menu-selection:before { content: '\eab2'; }
.codicon-menu-submenu:before { content: '\eab6'; }
.codicon-menubar-more:before { content: '\ea7c'; }
.codicon-scrollbar-button-left:before { content: '\eb6f'; }
.codicon-scrollbar-button-right:before { content: '\eb70'; }
.codicon-scrollbar-button-up:before { content: '\eb71'; }
.codicon-scrollbar-button-down:before { content: '\eb6e'; }
.codicon-toolbar-more:before { content: '\ea7c'; }
.codicon-quick-input-back:before { content: '\ea9b'; }
.codicon-widget-close:before { content: '\ea76'; }
.codicon-goto-previous-location:before { content: '\eaa1'; }
.codicon-goto-next-location:before { content: '\ea9a'; }
.codicon-diff-review-insert:before { content: '\ea60'; }
.codicon-diff-review-remove:before { content: '\eb3b'; }
.codicon-diff-review-close:before { content: '\ea76'; }
.codicon-parameter-hints-next:before { content: '\eab4'; }
.codicon-parameter-hints-previous:before { content: '\eab7'; }
.codicon-suggest-more-info:before { content: '\eab6'; }
.codicon-inline-suggestion-hints-next:before { content: '\eab6'; }
.codicon-inline-suggestion-hints-previous:before { content: '\eab5'; }
.codicon-diff-insert:before { content: '\ea60'; }
.codicon-diff-remove:before { content: '\eb3b'; }
.codicon-find-selection:before { content: '\eb85'; }
.codicon-find-collapsed:before { content: '\eab6'; }
.codicon-find-expanded:before { content: '\eab4'; }
.codicon-find-replace:before { content: '\eb3d'; }
.codicon-find-replace-all:before { content: '\eb3c'; }
.codicon-find-previous-match:before { content: '\eaa1'; }
.codicon-find-next-match:before { content: '\ea9a'; }
.codicon-folding-expanded:before { content: '\eab4'; }
.codicon-folding-collapsed:before { content: '\eab6'; }
.codicon-folding-manual-collapsed:before { content: '\eab6'; }
.codicon-folding-manual-expanded:before { content: '\eab4'; }
.codicon-marker-navigation-next:before { content: '\ea9a'; }
.codicon-marker-navigation-previous:before { content: '\eaa1'; }
.codicon-extensions-warning-message:before { content: '\ea6c'; }
.monaco-editor .inputarea.ime-input { background-color: #f7f7f7; }
.monaco-editor .view-overlays .current-line { border: 2px solid #eeeeee; }
.monaco-editor .margin-view-overlays .current-line-margin { border: 2px solid #eeeeee; }
.monaco-editor .bracket-indent-guide.lvl-0 { --guide-color: rgba(4, 49, 250, 0.3); --guide-color-active: #0431fa; }
.monaco-editor .bracket-indent-guide.lvl-1 { --guide-color: rgba(49, 147, 49, 0.3); --guide-color-active: #319331; }
.monaco-editor .bracket-indent-guide.lvl-2 { --guide-color: rgba(123, 56, 20, 0.3); --guide-color-active: #7b3814; }
.monaco-editor .bracket-indent-guide.lvl-3 { --guide-color: rgba(4, 49, 250, 0.3); --guide-color-active: #0431fa; }
.monaco-editor .bracket-indent-guide.lvl-4 { --guide-color: rgba(49, 147, 49, 0.3); --guide-color-active: #319331; }
.monaco-editor .bracket-indent-guide.lvl-5 { --guide-color: rgba(123, 56, 20, 0.3); --guide-color-active: #7b3814; }
.monaco-editor .bracket-indent-guide.lvl-6 { --guide-color: rgba(4, 49, 250, 0.3); --guide-color-active: #0431fa; }
.monaco-editor .bracket-indent-guide.lvl-7 { --guide-color: rgba(49, 147, 49, 0.3); --guide-color-active: #319331; }
.monaco-editor .bracket-indent-guide.lvl-8 { --guide-color: rgba(123, 56, 20, 0.3); --guide-color-active: #7b3814; }
.monaco-editor .bracket-indent-guide.lvl-9 { --guide-color: rgba(4, 49, 250, 0.3); --guide-color-active: #0431fa; }
.monaco-editor .bracket-indent-guide.lvl-10 { --guide-color: rgba(49, 147, 49, 0.3); --guide-color-active: #319331; }
.monaco-editor .bracket-indent-guide.lvl-11 { --guide-color: rgba(123, 56, 20, 0.3); --guide-color-active: #7b3814; }
.monaco-editor .bracket-indent-guide.lvl-12 { --guide-color: rgba(4, 49, 250, 0.3); --guide-color-active: #0431fa; }
.monaco-editor .bracket-indent-guide.lvl-13 { --guide-color: rgba(49, 147, 49, 0.3); --guide-color-active: #319331; }
.monaco-editor .bracket-indent-guide.lvl-14 { --guide-color: rgba(123, 56, 20, 0.3); --guide-color-active: #7b3814; }
.monaco-editor .bracket-indent-guide.lvl-15 { --guide-color: rgba(4, 49, 250, 0.3); --guide-color-active: #0431fa; }
.monaco-editor .bracket-indent-guide.lvl-16 { --guide-color: rgba(49, 147, 49, 0.3); --guide-color-active: #319331; }
.monaco-editor .bracket-indent-guide.lvl-17 { --guide-color: rgba(123, 56, 20, 0.3); --guide-color-active: #7b3814; }
.monaco-editor .bracket-indent-guide.lvl-18 { --guide-color: rgba(4, 49, 250, 0.3); --guide-color-active: #0431fa; }
.monaco-editor .bracket-indent-guide.lvl-19 { --guide-color: rgba(49, 147, 49, 0.3); --guide-color-active: #319331; }
.monaco-editor .bracket-indent-guide.lvl-20 { --guide-color: rgba(123, 56, 20, 0.3); --guide-color-active: #7b3814; }
.monaco-editor .bracket-indent-guide.lvl-21 { --guide-color: rgba(4, 49, 250, 0.3); --guide-color-active: #0431fa; }
.monaco-editor .bracket-indent-guide.lvl-22 { --guide-color: rgba(49, 147, 49, 0.3); --guide-color-active: #319331; }
.monaco-editor .bracket-indent-guide.lvl-23 { --guide-color: rgba(123, 56, 20, 0.3); --guide-color-active: #7b3814; }
.monaco-editor .bracket-indent-guide.lvl-24 { --guide-color: rgba(4, 49, 250, 0.3); --guide-color-active: #0431fa; }
.monaco-editor .bracket-indent-guide.lvl-25 { --guide-color: rgba(49, 147, 49, 0.3); --guide-color-active: #319331; }
.monaco-editor .bracket-indent-guide.lvl-26 { --guide-color: rgba(123, 56, 20, 0.3); --guide-color-active: #7b3814; }
.monaco-editor .bracket-indent-guide.lvl-27 { --guide-color: rgba(4, 49, 250, 0.3); --guide-color-active: #0431fa; }
.monaco-editor .bracket-indent-guide.lvl-28 { --guide-color: rgba(49, 147, 49, 0.3); --guide-color-active: #319331; }
.monaco-editor .bracket-indent-guide.lvl-29 { --guide-color: rgba(123, 56, 20, 0.3); --guide-color-active: #7b3814; }
.monaco-editor .vertical { box-shadow: 1px 0 0 0 var(--guide-color) inset; }
.monaco-editor .horizontal-top { border-top: 1px solid var(--guide-color); }
.monaco-editor .horizontal-bottom { border-bottom: 1px solid var(--guide-color); }
.monaco-editor .vertical.indent-active { box-shadow: 1px 0 0 0 var(--guide-color-active) inset; }
.monaco-editor .horizontal-top.indent-active { border-top: 1px solid var(--guide-color-active); }
.monaco-editor .horizontal-bottom.indent-active { border-bottom: 1px solid var(--guide-color-active); }
.monaco-editor .line-numbers.dimmed-line-number { color: rgba(153, 153, 153, 0.4); }
.monaco-editor .cursors-layer .cursor { background-color: #000000; border-color: #000000; color: #ffffff; }
.monaco-editor .unexpected-closing-bracket { color: rgba(255, 18, 18, 0.8); }
.monaco-editor .bracket-highlighting-0 { color: #0431fa; }
.monaco-editor .bracket-highlighting-1 { color: #319331; }
.monaco-editor .bracket-highlighting-2 { color: #7b3814; }
.monaco-editor .bracket-highlighting-3 { color: #0431fa; }
.monaco-editor .bracket-highlighting-4 { color: #319331; }
.monaco-editor .bracket-highlighting-5 { color: #7b3814; }
.monaco-editor .bracket-highlighting-6 { color: #0431fa; }
.monaco-editor .bracket-highlighting-7 { color: #319331; }
.monaco-editor .bracket-highlighting-8 { color: #7b3814; }
.monaco-editor .bracket-highlighting-9 { color: #0431fa; }
.monaco-editor .bracket-highlighting-10 { color: #319331; }
.monaco-editor .bracket-highlighting-11 { color: #7b3814; }
.monaco-editor .bracket-highlighting-12 { color: #0431fa; }
.monaco-editor .bracket-highlighting-13 { color: #319331; }
.monaco-editor .bracket-highlighting-14 { color: #7b3814; }
.monaco-editor .bracket-highlighting-15 { color: #0431fa; }
.monaco-editor .bracket-highlighting-16 { color: #319331; }
.monaco-editor .bracket-highlighting-17 { color: #7b3814; }
.monaco-editor .bracket-highlighting-18 { color: #0431fa; }
.monaco-editor .bracket-highlighting-19 { color: #319331; }
.monaco-editor .bracket-highlighting-20 { color: #7b3814; }
.monaco-editor .bracket-highlighting-21 { color: #0431fa; }
.monaco-editor .bracket-highlighting-22 { color: #319331; }
.monaco-editor .bracket-highlighting-23 { color: #7b3814; }
.monaco-editor .bracket-highlighting-24 { color: #0431fa; }
.monaco-editor .bracket-highlighting-25 { color: #319331; }
.monaco-editor .bracket-highlighting-26 { color: #7b3814; }
.monaco-editor .bracket-highlighting-27 { color: #0431fa; }
.monaco-editor .bracket-highlighting-28 { color: #319331; }
.monaco-editor .bracket-highlighting-29 { color: #7b3814; }
.monaco-editor .squiggly-error { background: url("data:image/svg+xml,%3Csvg%20xmlns%3D'http%3A%2F%2Fwww.w3.org%2F2000%2Fsvg'%20viewBox%3D'0%200%206%203'%20enable-background%3D'new%200%200%206%203'%20height%3D'3'%20width%3D'6'%3E%3Cg%20fill%3D'%23e51400'%3E%3Cpolygon%20points%3D'5.5%2C0%202.5%2C3%201.1%2C3%204.1%2C0'%2F%3E%3Cpolygon%20points%3D'4%2C0%206%2C2%206%2C0.6%205.4%2C0'%2F%3E%3Cpolygon%20points%3D'0%2C2%201%2C3%202.4%2C3%200%2C0.6'%2F%3E%3C%2Fg%3E%3C%2Fsvg%3E") repeat-x bottom left; }
.monaco-editor .squiggly-warning { background: url("data:image/svg+xml,%3Csvg%20xmlns%3D'http%3A%2F%2Fwww.w3.org%2F2000%2Fsvg'%20viewBox%3D'0%200%206%203'%20enable-background%3D'new%200%200%206%203'%20height%3D'3'%20width%3D'6'%3E%3Cg%20fill%3D'%23bf8803'%3E%3Cpolygon%20points%3D'5.5%2C0%202.5%2C3%201.1%2C3%204.1%2C0'%2F%3E%3Cpolygon%20points%3D'4%2C0%206%2C2%206%2C0.6%205.4%2C0'%2F%3E%3Cpolygon%20points%3D'0%2C2%201%2C3%202.4%2C3%200%2C0.6'%2F%3E%3C%2Fg%3E%3C%2Fsvg%3E") repeat-x bottom left; }
.monaco-editor .squiggly-info { background: url("data:image/svg+xml,%3Csvg%20xmlns%3D'http%3A%2F%2Fwww.w3.org%2F2000%2Fsvg'%20viewBox%3D'0%200%206%203'%20enable-background%3D'new%200%200%206%203'%20height%3D'3'%20width%3D'6'%3E%3Cg%20fill%3D'%231a85ff'%3E%3Cpolygon%20points%3D'5.5%2C0%202.5%2C3%201.1%2C3%204.1%2C0'%2F%3E%3Cpolygon%20points%3D'4%2C0%206%2C2%206%2C0.6%205.4%2C0'%2F%3E%3Cpolygon%20points%3D'0%2C2%201%2C3%202.4%2C3%200%2C0.6'%2F%3E%3C%2Fg%3E%3C%2Fsvg%3E") repeat-x bottom left; }
.monaco-editor .squiggly-hint { background: url("data:image/svg+xml,%3Csvg%20xmlns%3D%22http%3A%2F%2Fwww.w3.org%2F2000%2Fsvg%22%20height%3D%223%22%20width%3D%2212%22%3E%3Cg%20fill%3D%22%236c6c6c%22%3E%3Ccircle%20cx%3D%221%22%20cy%3D%221%22%20r%3D%221%22%2F%3E%3Ccircle%20cx%3D%225%22%20cy%3D%221%22%20r%3D%221%22%2F%3E%3Ccircle%20cx%3D%229%22%20cy%3D%221%22%20r%3D%221%22%2F%3E%3C%2Fg%3E%3C%2Fsvg%3E") no-repeat bottom left; }
.monaco-editor.showUnused .squiggly-inline-unnecessary { opacity: 0.467; }
.monaco-editor .selectionHighlight { background-color: rgba(173, 214, 255, 0.15); }

	.monaco-editor .diagonal-fill {
		background-image: linear-gradient(
			-45deg,
			rgba(34, 34, 34, 0.2) 12.5%,
			#0000 12.5%, #0000 50%,
			rgba(34, 34, 34, 0.2) 50%, rgba(34, 34, 34, 0.2) 62.5%,
			#0000 62.5%, #0000 100%
		);
		background-size: 8px 8px;
	}
	
.monaco-editor .findMatch { background-color: rgba(234, 92, 0, 0.33); }
.monaco-editor .currentFindMatch { background-color: #a8ac94; }
.monaco-editor .findScope { background-color: rgba(180, 180, 180, 0.3); }
.monaco-editor .find-widget { background-color: #f3f3f3; }
.monaco-editor .find-widget { box-shadow: 0 0 8px 2px rgba(0, 0, 0, 0.16); }
.monaco-editor .find-widget { color: #616161; }
.monaco-editor .find-widget.no-results .matchesCount { color: #a1260d; }
.monaco-editor .find-widget .monaco-sash { background-color: #c8c8c8; }

		.monaco-editor .find-widget .button:not(.disabled):hover,
		.monaco-editor .find-widget .codicon-find-selection:hover {
			background-color: rgba(184, 184, 184, 0.31) !important;
		}
	
.monaco-editor .find-widget .monaco-inputbox.synthetic-focus { outline-color: #0090f1; }
.monaco-editor .monaco-hover .hover-row:not(:first-child):not(:empty) { border-top: 1px solid rgba(200, 200, 200, 0.5); }
.monaco-editor .monaco-hover hr { border-top: 1px solid rgba(200, 200, 200, 0.5); }
.monaco-editor .monaco-hover hr { border-bottom: 0px solid rgba(200, 200, 200, 0.5); }
.monaco-editor { --vscode-foreground: #616161;
--vscode-disabledForeground: rgba(97, 97, 97, 0.5);
--vscode-errorForeground: #a1260d;
--vscode-descriptionForeground: #717171;
--vscode-icon-foreground: #424242;
--vscode-focusBorder: #0090f1;
--vscode-textSeparator-foreground: rgba(0, 0, 0, 0.18);
--vscode-textLink-foreground: #006ab1;
--vscode-textLink-activeForeground: #006ab1;
--vscode-textPreformat-foreground: #a31515;
--vscode-textBlockQuote-background: rgba(127, 127, 127, 0.1);
--vscode-textBlockQuote-border: rgba(0, 122, 204, 0.5);
--vscode-textCodeBlock-background: rgba(220, 220, 220, 0.4);
--vscode-widget-shadow: rgba(0, 0, 0, 0.16);
--vscode-input-background: #ffffff;
--vscode-input-foreground: #616161;
--vscode-inputOption-activeBorder: #007acc;
--vscode-inputOption-hoverBackground: rgba(184, 184, 184, 0.31);
--vscode-inputOption-activeBackground: rgba(0, 144, 241, 0.2);
--vscode-inputOption-activeForeground: #000000;
--vscode-input-placeholderForeground: rgba(97, 97, 97, 0.5);
--vscode-inputValidation-infoBackground: #d6ecf2;
--vscode-inputValidation-infoBorder: #007acc;
--vscode-inputValidation-warningBackground: #f6f5d2;
--vscode-inputValidation-warningBorder: #b89500;
--vscode-inputValidation-errorBackground: #f2dede;
--vscode-inputValidation-errorBorder: #be1100;
--vscode-dropdown-background: #ffffff;
--vscode-dropdown-foreground: #616161;
--vscode-dropdown-border: #cecece;
--vscode-button-foreground: #ffffff;
--vscode-button-separator: rgba(255, 255, 255, 0.4);
--vscode-button-background: #007acc;
--vscode-button-hoverBackground: #0062a3;
--vscode-button-secondaryForeground: #ffffff;
--vscode-button-secondaryBackground: #5f6a79;
--vscode-button-secondaryHoverBackground: #4c5561;
--vscode-badge-background: #c4c4c4;
--vscode-badge-foreground: #333333;
--vscode-scrollbar-shadow: #dddddd;
--vscode-scrollbarSlider-background: rgba(100, 100, 100, 0.4);
--vscode-scrollbarSlider-hoverBackground: rgba(100, 100, 100, 0.7);
--vscode-scrollbarSlider-activeBackground: rgba(0, 0, 0, 0.6);
--vscode-progressBar-background: #0e70c0;
--vscode-editorError-foreground: #e51400;
--vscode-editorWarning-foreground: #bf8803;
--vscode-editorInfo-foreground: #1a85ff;
--vscode-editorHint-foreground: #6c6c6c;
--vscode-sash-hoverBorder: #0090f1;
--vscode-editor-background: #f7f7f7;
--vscode-editor-foreground: #000000;
--vscode-editorStickyScroll-background: #f7f7f7;
--vscode-editorStickyScrollHover-background: #f0f0f0;
--vscode-editorWidget-background: #f3f3f3;
--vscode-editorWidget-foreground: #616161;
--vscode-editorWidget-border: #c8c8c8;
--vscode-quickInput-background: #f3f3f3;
--vscode-quickInput-foreground: #616161;
--vscode-quickInputTitle-background: rgba(0, 0, 0, 0.06);
--vscode-pickerGroup-foreground: #0066bf;
--vscode-pickerGroup-border: #cccedb;
--vscode-keybindingLabel-background: rgba(221, 221, 221, 0.4);
--vscode-keybindingLabel-foreground: #555555;
--vscode-keybindingLabel-border: rgba(204, 204, 204, 0.4);
--vscode-keybindingLabel-bottomBorder: rgba(187, 187, 187, 0.4);
--vscode-editor-selectionBackground: #add6ff;
--vscode-editor-inactiveSelectionBackground: #e5ebf1;
--vscode-editor-selectionHighlightBackground: rgba(173, 214, 255, 0.3);
--vscode-editor-findMatchBackground: #a8ac94;
--vscode-editor-findMatchHighlightBackground: rgba(234, 92, 0, 0.33);
--vscode-editor-findRangeHighlightBackground: rgba(180, 180, 180, 0.3);
--vscode-searchEditor-findMatchBackground: rgba(234, 92, 0, 0.22);
--vscode-search-resultsInfoForeground: #616161;
--vscode-editor-hoverHighlightBackground: rgba(173, 214, 255, 0.15);
--vscode-editorHoverWidget-background: #f3f3f3;
--vscode-editorHoverWidget-foreground: #616161;
--vscode-editorHoverWidget-border: #c8c8c8;
--vscode-editorHoverWidget-statusBarBackground: #e7e7e7;
--vscode-editorLink-activeForeground: #0000ff;
--vscode-editorInlayHint-foreground: #616161;
--vscode-editorInlayHint-background: rgba(196, 196, 196, 0.3);
--vscode-editorInlayHint-typeForeground: #616161;
--vscode-editorInlayHint-typeBackground: rgba(196, 196, 196, 0.3);
--vscode-editorInlayHint-parameterForeground: #616161;
--vscode-editorInlayHint-parameterBackground: rgba(196, 196, 196, 0.3);
--vscode-editorLightBulb-foreground: #ddb100;
--vscode-editorLightBulbAutoFix-foreground: #007acc;
--vscode-diffEditor-insertedTextBackground: #aceebb;
--vscode-diffEditor-removedTextBackground: #ffcecb;
--vscode-diffEditor-insertedLineBackground: #dafbe1;
--vscode-diffEditor-removedLineBackground: #ffebe9;
--vscode-diffEditor-diagonalFill: rgba(34, 34, 34, 0.2);
--vscode-diffEditor-unchangedRegionBackground: #e4e4e4;
--vscode-diffEditor-unchangedRegionForeground: #4d4c4c;
--vscode-diffEditor-unchangedCodeBackground: rgba(184, 184, 184, 0.16);
--vscode-list-focusOutline: #0090f1;
--vscode-list-activeSelectionBackground: #d6ebff;
--vscode-list-activeSelectionForeground: #000000;
--vscode-list-inactiveSelectionBackground: #e4e6f1;
--vscode-list-hoverBackground: #f0f0f0;
--vscode-list-dropBackground: #d6ebff;
--vscode-list-highlightForeground: #0066bf;
--vscode-list-focusHighlightForeground: #0066bf;
--vscode-list-invalidItemForeground: #b89500;
--vscode-list-errorForeground: #b01011;
--vscode-list-warningForeground: #855f00;
--vscode-listFilterWidget-background: #f3f3f3;
--vscode-listFilterWidget-outline: rgba(0, 0, 0, 0);
--vscode-listFilterWidget-noMatchesOutline: #be1100;
--vscode-listFilterWidget-shadow: rgba(0, 0, 0, 0.16);
--vscode-list-filterMatchBackground: rgba(234, 92, 0, 0.33);
--vscode-tree-indentGuidesStroke: #a9a9a9;
--vscode-tree-inactiveIndentGuidesStroke: rgba(169, 169, 169, 0.4);
--vscode-tree-tableColumnsBorder: rgba(97, 97, 97, 0.13);
--vscode-tree-tableOddRowsBackground: rgba(97, 97, 97, 0.04);
--vscode-list-deemphasizedForeground: #8e8e90;
--vscode-checkbox-background: #ffffff;
--vscode-checkbox-selectBackground: #f3f3f3;
--vscode-checkbox-foreground: #616161;
--vscode-checkbox-border: #cecece;
--vscode-checkbox-selectBorder: #424242;
--vscode-quickInputList-focusForeground: #000000;
--vscode-quickInputList-focusBackground: #d6ebff;
--vscode-menu-foreground: #616161;
--vscode-menu-background: #ffffff;
--vscode-menu-selectionForeground: #000000;
--vscode-menu-selectionBackground: #d6ebff;
--vscode-menu-separatorBackground: #d4d4d4;
--vscode-toolbar-hoverBackground: rgba(184, 184, 184, 0.31);
--vscode-toolbar-activeBackground: rgba(166, 166, 166, 0.31);
--vscode-editor-snippetTabstopHighlightBackground: rgba(10, 50, 100, 0.2);
--vscode-editor-snippetFinalTabstopHighlightBorder: rgba(10, 50, 100, 0.5);
--vscode-breadcrumb-foreground: rgba(97, 97, 97, 0.8);
--vscode-breadcrumb-background: #f7f7f7;
--vscode-breadcrumb-focusForeground: #4e4e4e;
--vscode-breadcrumb-activeSelectionForeground: #4e4e4e;
--vscode-breadcrumbPicker-background: #f3f3f3;
--vscode-merge-currentHeaderBackground: rgba(64, 200, 174, 0.5);
--vscode-merge-currentContentBackground: rgba(64, 200, 174, 0.2);
--vscode-merge-incomingHeaderBackground: rgba(64, 166, 255, 0.5);
--vscode-merge-incomingContentBackground: rgba(64, 166, 255, 0.2);
--vscode-merge-commonHeaderBackground: rgba(96, 96, 96, 0.4);
--vscode-merge-commonContentBackground: rgba(96, 96, 96, 0.16);
--vscode-editorOverviewRuler-currentContentForeground: rgba(64, 200, 174, 0.5);
--vscode-editorOverviewRuler-incomingContentForeground: rgba(64, 166, 255, 0.5);
--vscode-editorOverviewRuler-commonContentForeground: rgba(96, 96, 96, 0.4);
--vscode-editorOverviewRuler-findMatchForeground: rgba(209, 134, 22, 0.49);
--vscode-editorOverviewRuler-selectionHighlightForeground: rgba(0, 0, 0, 0);
--vscode-minimap-findMatchHighlight: #d18616;
--vscode-minimap-selectionOccurrenceHighlight: #c9c9c9;
--vscode-minimap-selectionHighlight: #add6ff;
--vscode-minimap-errorHighlight: rgba(255, 18, 18, 0.7);
--vscode-minimap-warningHighlight: #bf8803;
--vscode-minimap-foregroundOpacity: #000000;
--vscode-minimapSlider-background: rgba(100, 100, 100, 0.2);
--vscode-minimapSlider-hoverBackground: rgba(100, 100, 100, 0.35);
--vscode-minimapSlider-activeBackground: rgba(0, 0, 0, 0.3);
--vscode-problemsErrorIcon-foreground: #e51400;
--vscode-problemsWarningIcon-foreground: #bf8803;
--vscode-problemsInfoIcon-foreground: #1a85ff;
--vscode-charts-foreground: #616161;
--vscode-charts-lines: rgba(97, 97, 97, 0.5);
--vscode-charts-red: #e51400;
--vscode-charts-blue: #1a85ff;
--vscode-charts-yellow: #bf8803;
--vscode-charts-orange: #d18616;
--vscode-charts-green: #388a34;
--vscode-charts-purple: #652d90;
--vscode-symbolIcon-arrayForeground: #616161;
--vscode-symbolIcon-booleanForeground: #616161;
--vscode-symbolIcon-classForeground: #d67e00;
--vscode-symbolIcon-colorForeground: #616161;
--vscode-symbolIcon-constantForeground: #616161;
--vscode-symbolIcon-constructorForeground: #652d90;
--vscode-symbolIcon-enumeratorForeground: #d67e00;
--vscode-symbolIcon-enumeratorMemberForeground: #007acc;
--vscode-symbolIcon-eventForeground: #d67e00;
--vscode-symbolIcon-fieldForeground: #007acc;
--vscode-symbolIcon-fileForeground: #616161;
--vscode-symbolIcon-folderForeground: #616161;
--vscode-symbolIcon-functionForeground: #652d90;
--vscode-symbolIcon-interfaceForeground: #007acc;
--vscode-symbolIcon-keyForeground: #616161;
--vscode-symbolIcon-keywordForeground: #616161;
--vscode-symbolIcon-methodForeground: #652d90;
--vscode-symbolIcon-moduleForeground: #616161;
--vscode-symbolIcon-namespaceForeground: #616161;
--vscode-symbolIcon-nullForeground: #616161;
--vscode-symbolIcon-numberForeground: #616161;
--vscode-symbolIcon-objectForeground: #616161;
--vscode-symbolIcon-operatorForeground: #616161;
--vscode-symbolIcon-packageForeground: #616161;
--vscode-symbolIcon-propertyForeground: #616161;
--vscode-symbolIcon-referenceForeground: #616161;
--vscode-symbolIcon-snippetForeground: #616161;
--vscode-symbolIcon-stringForeground: #616161;
--vscode-symbolIcon-structForeground: #616161;
--vscode-symbolIcon-textForeground: #616161;
--vscode-symbolIcon-typeParameterForeground: #616161;
--vscode-symbolIcon-unitForeground: #616161;
--vscode-symbolIcon-variableForeground: #007acc;
--vscode-editor-lineHighlightBorder: #eeeeee;
--vscode-editor-rangeHighlightBackground: rgba(253, 255, 0, 0.2);
--vscode-editor-symbolHighlightBackground: rgba(234, 92, 0, 0.33);
--vscode-editorCursor-foreground: #000000;
--vscode-editorWhitespace-foreground: rgba(51, 51, 51, 0.2);
--vscode-editorIndentGuide-background: #d3d3d3;
--vscode-editorIndentGuide-activeBackground: #939393;
--vscode-editorLineNumber-foreground: #999999;
--vscode-editorActiveLineNumber-foreground: #0b216f;
--vscode-editorLineNumber-activeForeground: #0b216f;
--vscode-editorRuler-foreground: #d3d3d3;
--vscode-editorCodeLens-foreground: #919191;
--vscode-editorBracketMatch-background: rgba(0, 100, 0, 0.1);
--vscode-editorBracketMatch-border: #b9b9b9;
--vscode-editorOverviewRuler-border: rgba(127, 127, 127, 0.3);
--vscode-editorGutter-background: #f7f7f7;
--vscode-editorUnnecessaryCode-opacity: rgba(0, 0, 0, 0.47);
--vscode-editorGhostText-foreground: rgba(0, 0, 0, 0.47);
--vscode-editorOverviewRuler-rangeHighlightForeground: rgba(0, 122, 204, 0.6);
--vscode-editorOverviewRuler-errorForeground: rgba(255, 18, 18, 0.7);
--vscode-editorOverviewRuler-warningForeground: #bf8803;
--vscode-editorOverviewRuler-infoForeground: #1a85ff;
--vscode-editorBracketHighlight-foreground1: #0431fa;
--vscode-editorBracketHighlight-foreground2: #319331;
--vscode-editorBracketHighlight-foreground3: #7b3814;
--vscode-editorBracketHighlight-foreground4: rgba(0, 0, 0, 0);
--vscode-editorBracketHighlight-foreground5: rgba(0, 0, 0, 0);
--vscode-editorBracketHighlight-foreground6: rgba(0, 0, 0, 0);
--vscode-editorBracketHighlight-unexpectedBracket-foreground: rgba(255, 18, 18, 0.8);
--vscode-editorBracketPairGuide-background1: rgba(0, 0, 0, 0);
--vscode-editorBracketPairGuide-background2: rgba(0, 0, 0, 0);
--vscode-editorBracketPairGuide-background3: rgba(0, 0, 0, 0);
--vscode-editorBracketPairGuide-background4: rgba(0, 0, 0, 0);
--vscode-editorBracketPairGuide-background5: rgba(0, 0, 0, 0);
--vscode-editorBracketPairGuide-background6: rgba(0, 0, 0, 0);
--vscode-editorBracketPairGuide-activeBackground1: rgba(0, 0, 0, 0);
--vscode-editorBracketPairGuide-activeBackground2: rgba(0, 0, 0, 0);
--vscode-editorBracketPairGuide-activeBackground3: rgba(0, 0, 0, 0);
--vscode-editorBracketPairGuide-activeBackground4: rgba(0, 0, 0, 0);
--vscode-editorBracketPairGuide-activeBackground5: rgba(0, 0, 0, 0);
--vscode-editorBracketPairGuide-activeBackground6: rgba(0, 0, 0, 0);
--vscode-editorUnicodeHighlight-border: #cea33d;
--vscode-editorUnicodeHighlight-background: rgba(206, 163, 61, 0.08);
--vscode-editorOverviewRuler-bracketMatchForeground: #a0a0a0;
--vscode-editor-linkedEditingBackground: rgba(255, 0, 0, 0.3);
--vscode-editor-wordHighlightBackground: rgba(87, 87, 87, 0.25);
--vscode-editor-wordHighlightStrongBackground: #d6ebff;
--vscode-editor-wordHighlightTextBackground: rgba(173, 214, 255, 0.45);
--vscode-editorOverviewRuler-wordHighlightForeground: rgba(160, 160, 160, 0.8);
--vscode-editorOverviewRuler-wordHighlightStrongForeground: rgba(192, 160, 192, 0.8);
--vscode-editorOverviewRuler-wordHighlightTextForeground: rgba(0, 0, 0, 0);
--vscode-peekViewTitle-background: #f3f3f3;
--vscode-peekViewTitleLabel-foreground: #000000;
--vscode-peekViewTitleDescription-foreground: #616161;
--vscode-peekView-border: #1a85ff;
--vscode-peekViewResult-background: #f3f3f3;
--vscode-peekViewResult-lineForeground: #646465;
--vscode-peekViewResult-fileForeground: #1e1e1e;
--vscode-peekViewResult-selectionBackground: rgba(51, 153, 255, 0.2);
--vscode-peekViewResult-selectionForeground: #6c6c6c;
--vscode-peekViewEditor-background: #f2f8fc;
--vscode-peekViewEditorGutter-background: #f2f8fc;
--vscode-peekViewEditorStickyScroll-background: #f2f8fc;
--vscode-peekViewResult-matchHighlightBackground: rgba(234, 92, 0, 0.3);
--vscode-peekViewEditor-matchHighlightBackground: rgba(245, 216, 2, 0.87);
--vscode-editorMarkerNavigationError-background: #e51400;
--vscode-editorMarkerNavigationError-headerBackground: rgba(229, 20, 0, 0.1);
--vscode-editorMarkerNavigationWarning-background: #bf8803;
--vscode-editorMarkerNavigationWarning-headerBackground: rgba(191, 136, 3, 0.1);
--vscode-editorMarkerNavigationInfo-background: #1a85ff;
--vscode-editorMarkerNavigationInfo-headerBackground: rgba(26, 133, 255, 0.1);
--vscode-editorMarkerNavigation-background: #f7f7f7;
--vscode-editorHoverWidget-highlightForeground: #0066bf;
--vscode-editorSuggestWidget-background: #f3f3f3;
--vscode-editorSuggestWidget-border: #c8c8c8;
--vscode-editorSuggestWidget-foreground: #000000;
--vscode-editorSuggestWidget-selectedForeground: #000000;
--vscode-editorSuggestWidget-selectedBackground: #d6ebff;
--vscode-editorSuggestWidget-highlightForeground: #0066bf;
--vscode-editorSuggestWidget-focusHighlightForeground: #0066bf;
--vscode-editorSuggestWidgetStatus-foreground: rgba(0, 0, 0, 0.5);
--vscode-editor-foldBackground: rgba(173, 214, 255, 0.3);
--vscode-editorGutter-foldingControlForeground: #424242; }

.mtk1 { color: #000000; }
.mtk2 { color: #f7f7f7; }
.mtk3 { color: #808080; }
.mtk4 { color: #ff0000; }
.mtk5 { color: #0451a5; }
.mtk6 { color: #0000ff; }
.mtk7 { color: #098658; }
.mtk8 { color: #008000; }
.mtk9 { color: #dd0000; }
.mtk10 { color: #811f3f; }
.mtk11 { color: #a53434; }
.mtk12 { color: #116644; }
.mtk13 { color: #383838; }
.mtk14 { color: #257693; }
.mtk15 { color: #6a5221; }
.mtk16 { color: #001080; }
.mtk17 { color: #cd3131; }
.mtk18 { color: #863b00; }
.mtk19 { color: #9723b4; }
.mtk20 { color: #af00db; }
.mtk21 { color: #a31515; }
.mtk22 { color: #800000; }
.mtk23 { color: #e00000; }
.mtk24 { color: #3030c0; }
.mtk25 { color: #666666; }
.mtk26 { color: #778899; }
.mtk27 { color: #c700c7; }
.mtk28 { color: #4f76ac; }
.mtk29 { color: #008080; }
.mtk30 { color: #001188; }
.mtk31 { color: #4864aa; }
.mtki { font-style: italic; }
.mtkb { font-weight: bold; }
.mtku { text-decoration: underline; text-underline-position: under; }
.mtks { text-decoration: line-through; }
.mtks.mtku { text-decoration: underline line-through; text-underline-position: under; }</style></head><body class=""><div style="visibility: hidden; overflow: hidden; position: absolute; top: 0px; height: 1px; width: auto; padding: 0px; border: 0px; margin: 0px; text-align: left; text-indent: 0px; text-transform: none; line-height: normal; letter-spacing: normal; word-spacing: normal;"><div id="MathJax_Hidden"></div></div><div id="MathJax_Message" style="display: none;"></div><div class="scripts"><script nonce="">window.performance.mark('external_scripts_start');</script><script src="./SSP_files/gapi_loader.js.descargar" nonce=""></script><script src="./SSP_files/socketio_binary.js.descargar" nonce=""></script><script src="./SSP_files/analytics_binary.js.descargar" nonce=""></script><script src="./SSP_files/MathJax.js.descargar" nonce=""></script><script src="./SSP_files/js_monaco_editor_vs_loader.js.descargar" nonce=""></script><script nonce="">window.performance.mark('external_scripts_end'); window.performance.measure('external_scripts', 'external_scripts_start', 'external_scripts_end'); window.performance.mark('colab_load_start');</script><script src="./SSP_files/external_binary_l10n__es.js.descargar" nonce=""></script><script nonce="">
          window.performance.mark('colab_load_end');
          window.performance.measure('colab_load', 'colab_load_start', 'colab_load_end');
        </script></div><colab-snackbar leading="" labeltext="" id="message-area" class="message-area"><template shadowrootmode="open"><!----><style>
        :host .mdc-snackbar {
          z-index: var(--colab-above-dialog-z-index);
        }

        :host .mdc-snackbar__surface {
          background-color: var(--colab-inverse-surface-color);
        }

        :host .mdc-snackbar__label {
          color: var(--colab-inverse-on-surface-color);
        }
      </style>
      <!--?lit$075548653$-->
      <div class="mdc-snackbar  mdc-snackbar--leading ">
        <div class="mdc-snackbar__surface">
          <!--?lit$075548653$-->
          <div class="mdc-snackbar__actions">
            <slot name="action"></slot>
            <slot name="dismiss"></slot>
          </div>
        </div>
      </div><!--?--></template>
      <md-icon-button class="close" slot="dismiss" title="Cerrar" data-aria-label="Cerrar" value=""><template shadowrootmode="open" shadowrootdelegatesfocus><!----><button id="button" class="icon-button  standard " aria-label="Cerrar">
        <!--?lit$075548653$--><md-focus-ring part="focus-ring" for="button" aria-hidden="true"><template shadowrootmode="open"><!----></template></md-focus-ring>
        <!--?lit$075548653$--><md-ripple aria-hidden="true"><template shadowrootmode="open"><!----><div class="surface   "></div></template></md-ripple>
        <!--?lit$075548653$--><span class="icon"><slot></slot></span>
        <!--?lit$075548653$-->
        <!--?lit$075548653$--><span class="touch"></span>
  </button></template>
        <md-icon aria-hidden="true"><template shadowrootmode="open"><!----><slot></slot></template>close</md-icon>
      </md-icon-button>
    </colab-snackbar><colab-snackbar leading="" labeltext="" id="message-area-secondary" class="message-area startup"><template shadowrootmode="open"><!----><style>
        :host .mdc-snackbar {
          z-index: var(--colab-above-dialog-z-index);
        }

        :host .mdc-snackbar__surface {
          background-color: var(--colab-inverse-surface-color);
        }

        :host .mdc-snackbar__label {
          color: var(--colab-inverse-on-surface-color);
        }
      </style>
      <!--?lit$075548653$-->
      <div class="mdc-snackbar mdc-snackbar--leading">
        <div class="mdc-snackbar__surface">
          <!--?lit$075548653$-->
          <div class="mdc-snackbar__actions">
            <slot name="action"></slot>
            <slot name="dismiss"></slot>
          </div>
        </div>
      </div><!--?--></template>
      <md-icon-button class="close" slot="dismiss" title="Cerrar" data-aria-label="Cerrar" value=""><template shadowrootmode="open" shadowrootdelegatesfocus><!----><button id="button" class="icon-button  standard " aria-label="Cerrar">
        <!--?lit$075548653$--><md-focus-ring part="focus-ring" for="button" aria-hidden="true"><template shadowrootmode="open"><!----></template></md-focus-ring>
        <!--?lit$075548653$--><md-ripple aria-hidden="true"><template shadowrootmode="open"><!----><div class="surface   "></div></template></md-ripple>
        <!--?lit$075548653$--><span class="icon"><slot></slot></span>
        <!--?lit$075548653$-->
        <!--?lit$075548653$--><span class="touch"></span>
  </button></template>
        <md-icon aria-hidden="true"><template shadowrootmode="open"><!----><slot></slot></template>close</md-icon>
      </md-icon-button>
    </colab-snackbar><div ng-non-bindable=""></div><script nonce="">this.gbar_=this.gbar_||{};(function(_){var window=this;
try{
var Id;Id=class extends _.rd{};_.Jd=function(a,b){if(b in a.i)return a.i[b];throw new Id;};_.Kd=function(a){return _.Jd(_.od.i(),a)};
}catch(e){_._DumpException(e)}
try{
/*

 Copyright Google LLC
 SPDX-License-Identifier: Apache-2.0
*/
var Nd;_.Ld=function(a){const b=a.length;if(b>0){const c=Array(b);for(let d=0;d<b;d++)c[d]=a[d];return c}return[]};Nd=function(a){return new _.Md(b=>b.substr(0,a.length+1).toLowerCase()===a+":")};_.Od=globalThis.trustedTypes;_.Pd=class{constructor(a){this.i=a}toString(){return this.i}};_.Qd=new _.Pd("about:invalid#zClosurez");_.Md=class{constructor(a){this.xh=a}};_.Rd=[Nd("data"),Nd("http"),Nd("https"),Nd("mailto"),Nd("ftp"),new _.Md(a=>/^[^:]*([/?#]|$)/.test(a))];_.Sd=class{constructor(a){this.i=a}toString(){return this.i+""}};_.Td=new _.Sd(_.Od?_.Od.emptyHTML:"");
}catch(e){_._DumpException(e)}
try{
var Xd,ie,Wd,Yd,ce;_.Ud=function(a){if(a==null)return a;if(typeof a==="string"&&a)a=+a;else if(typeof a!=="number")return;return(0,_.Oa)(a)?a|0:void 0};_.Vd=function(a,b){return a.lastIndexOf(b,0)==0};Xd=function(){let a=null;if(!Wd)return a;try{const b=c=>c;a=Wd.createPolicy("ogb-qtm#html",{createHTML:b,createScript:b,createScriptURL:b})}catch(b){}return a};_.Zd=function(){Yd===void 0&&(Yd=Xd());return Yd};_.ae=function(a){const b=_.Zd();a=b?b.createScriptURL(a):a;return new _.$d(a)};
_.be=function(a){if(a instanceof _.$d)return a.i;throw Error("E");};_.de=function(a){if(ce.test(a))return a};_.ee=function(a){if(a instanceof _.Pd)if(a instanceof _.Pd)a=a.i;else throw Error("E");else a=_.de(a);return a};_.fe=function(a,b=document){let c;const d=(c=b.querySelector)==null?void 0:c.call(b,`${a}[nonce]`);return d==null?"":d.nonce||d.getAttribute("nonce")||""};_.R=function(a,b,c){return _.Na(_.Kc(a,b,c,_.Jc))};_.ge=function(a,b){return _.Ud(_.Kc(a,b,void 0,_.Jc))};
_.he=function(a){var b=_.La(a);return b=="array"||b=="object"&&typeof a.length=="number"};Wd=_.Od;_.$d=class{constructor(a){this.i=a}toString(){return this.i+""}};ce=/^\s*(?!javascript:)(?:[\w+.-]+:|[^:/?#]*(?:[/?#]|$))/i;var ne,re,je;_.le=function(a){return a?new je(_.ke(a)):ie||(ie=new je)};_.me=function(a,b){return typeof b==="string"?a.getElementById(b):b};_.S=function(a,b){var c=b||document;c.getElementsByClassName?a=c.getElementsByClassName(a)[0]:(c=document,a?a=(b||c).querySelector(a?"."+a:""):(b=b||c,a=(a?b.querySelectorAll(a?"."+a:""):b.getElementsByTagName("*"))[0]||null));return a||null};
_.oe=function(a,b){_.Db(b,function(c,d){d=="style"?a.style.cssText=c:d=="class"?a.className=c:d=="for"?a.htmlFor=c:ne.hasOwnProperty(d)?a.setAttribute(ne[d],c):_.Vd(d,"aria-")||_.Vd(d,"data-")?a.setAttribute(d,c):a[d]=c})};ne={cellpadding:"cellPadding",cellspacing:"cellSpacing",colspan:"colSpan",frameborder:"frameBorder",height:"height",maxlength:"maxLength",nonce:"nonce",role:"role",rowspan:"rowSpan",type:"type",usemap:"useMap",valign:"vAlign",width:"width"};
_.pe=function(a){return a?a.defaultView:window};_.se=function(a,b){const c=b[1],d=_.qe(a,String(b[0]));c&&(typeof c==="string"?d.className=c:Array.isArray(c)?d.className=c.join(" "):_.oe(d,c));b.length>2&&re(a,d,b);return d};re=function(a,b,c){function d(e){e&&b.appendChild(typeof e==="string"?a.createTextNode(e):e)}for(let e=2;e<c.length;e++){const f=c[e];!_.he(f)||_.Mb(f)&&f.nodeType>0?d(f):_.ac(f&&typeof f.length=="number"&&typeof f.item=="function"?_.Ld(f):f,d)}};
_.te=function(a){return _.qe(document,a)};_.qe=function(a,b){b=String(b);a.contentType==="application/xhtml+xml"&&(b=b.toLowerCase());return a.createElement(b)};_.ue=function(a){let b;for(;b=a.firstChild;)a.removeChild(b)};_.ve=function(a){return a&&a.parentNode?a.parentNode.removeChild(a):null};_.we=function(a,b){return a&&b?a==b||a.contains(b):!1};_.ke=function(a){return a.nodeType==9?a:a.ownerDocument||a.document};je=function(a){this.i=a||_.t.document||document};_.n=je.prototype;
_.n.H=function(a){return _.me(this.i,a)};_.n.Ua=function(a,b,c){return _.se(this.i,arguments)};_.n.appendChild=function(a,b){a.appendChild(b)};_.n.xe=_.ue;_.n.Tf=_.ve;_.n.Sf=_.we;
}catch(e){_._DumpException(e)}
try{
_.Ii=function(a){const b=_.fe("script",a.ownerDocument);b&&a.setAttribute("nonce",b)};_.Ji=function(a){if(!a)return null;a=_.H(a,4);var b;a===null||a===void 0?b=null:b=_.ae(a);return b};_.Ki=function(a,b,c){a=a.ha;return _.Ab(a,a[_.v]|0,b,c)!==void 0};_.Li=class extends _.O{constructor(a){super(a)}};_.Mi=function(a,b){return(b||document).getElementsByTagName(String(a))};
}catch(e){_._DumpException(e)}
try{
var Oi=function(a,b,c){a<b?Ni(a+1,b):_.Xc.log(Error("ca`"+a+"`"+b),{url:c})},Ni=function(a,b){if(Pi){const c=_.te("SCRIPT");c.async=!0;c.type="text/javascript";c.charset="UTF-8";c.src=_.be(Pi);_.Ii(c);c.onerror=_.Pb(Oi,a,b,c.src);_.Mi("HEAD")[0].appendChild(c)}},Qi=class extends _.O{constructor(a){super(a)}};var Ri=_.C(_.id,Qi,17)||new Qi,Si,Pi=(Si=_.C(Ri,_.Li,1))?_.Ji(Si):null,Ti,Ui=(Ti=_.C(Ri,_.Li,2))?_.Ji(Ti):null,Vi=function(){Ni(1,2);if(Ui){const a=_.te("LINK");a.setAttribute("type","text/css");a.href=_.be(Ui).toString();a.rel="stylesheet";let b=_.fe("style",document);b&&a.setAttribute("nonce",b);_.Mi("HEAD")[0].appendChild(a)}};(function(){const a=_.jd();if(_.R(a,18))Vi();else{const b=_.ge(a,19)||0;window.addEventListener("load",()=>{window.setTimeout(Vi,b)})}})();
}catch(e){_._DumpException(e)}
})(this.gbar_);
// Google Inc.
</script><div class="gb_S" ng-non-bindable=""><div class="gb_Bc"><div>Cuenta de Google</div><div class="gb_g">Javier Hidalgo</div><div>javierhidalgomoreno5@gmail.com</div><div class="gb_Cc"></div></div></div><div style="position: absolute; width: 0px; height: 0px; overflow: hidden; padding: 0px; border: 0px; margin: 0px;"><div id="MathJax_Font_Test" style="position: absolute; visibility: hidden; top: 0px; left: 0px; width: auto; min-width: 0px; max-width: none; padding: 0px; border: 0px; margin: 0px; white-space: nowrap; text-align: left; text-indent: 0px; text-transform: none; line-height: normal; letter-spacing: normal; word-spacing: normal; font-size: 40px; font-weight: normal; font-style: normal; font-size-adjust: none; font-family: MathJax_Size1, monospace;"></div></div><iframe id="hfcr" src="./SSP_files/RotateCookiesPage.html" style="display: none;"></iframe><div class="notebook-vertical" style="position: relative;">
      <!--?lit$075548653$--><colab-skip-link><template shadowrootmode="open"><!----><md-elevated-button class="link" href="#notebook-main" value=""><template shadowrootmode="open" shadowrootdelegatesfocus><!---->
      <!--?lit$075548653$--><md-elevation part="elevation" aria-hidden="true"><template shadowrootmode="open"><!----><span class="shadow"></span></template></md-elevation>
      <div class="background"></div>
      <md-focus-ring part="focus-ring" for="link" aria-hidden="true"><template shadowrootmode="open"><!----></template></md-focus-ring>
      <md-ripple part="ripple" for="link" aria-hidden="true"><template shadowrootmode="open"><!----><div class="surface   "></div></template></md-ripple>
      <!--?lit$075548653$--><a id="link" class="button" href="https://colab.research.google.com/drive/1h5ksUlmDUfDsHRWdIw18bMIQ0ZSdZNEm?usp=sharing#notebook-main"><!--?lit$075548653$-->
      <span class="touch"></span>
      <!--?lit$075548653$--><slot name="icon"></slot>
      <span class="label"><slot></slot></span>
      <!--?lit$075548653$-->
    
    </a>
    </template><!--?lit$075548653$-->Saltar al contenido principal</md-elevated-button></template></colab-skip-link>
      <div class="top-floater"><div role="banner">
    <!--?lit$075548653$-->
    <!--?lit$075548653$-->
          <div id="private-outputs-warning" class="header-warning private-outputs-warning" hidden=""><md-icon aria-hidden="true"><template shadowrootmode="open"><!----><slot></slot></template>info</md-icon>
            <div class="message">
              <!--?lit$075548653$-->Este cuaderno está abierto con resultados privados. Los resultados no se guardarán. Puedes inhabilitar esta opción en <a href="https://colab.research.google.com/drive/1h5ksUlmDUfDsHRWdIw18bMIQ0ZSdZNEm?usp=sharing#" id="private-outputs-notebook-info-link" command="notebook-settings" aria-describedby="private-outputs-notebook-info-link-tooltip">Configuración del cuaderno</a><colab-tooltip-trigger aria-hidden="true" for="private-outputs-notebook-info-link" id="private-outputs-notebook-info-link-tooltip"><template shadowrootmode="open"><!----><!--?lit$075548653$--><!----><div><!--?lit$075548653$-->Abrir configuración del cuaderno</div><!----><!--?--></template>
        </colab-tooltip-trigger>.
            </div>
          <div class="actions"><md-icon-button class="close" title="Cerrar" data-aria-label="Cerrar" value=""><template shadowrootmode="open" shadowrootdelegatesfocus><!----><button id="button" class="icon-button  standard " aria-label="Cerrar">
        <!--?lit$075548653$--><md-focus-ring part="focus-ring" for="button" aria-hidden="true"><template shadowrootmode="open"><!----></template></md-focus-ring>
        <!--?lit$075548653$--><md-ripple aria-hidden="true"><template shadowrootmode="open"><!----><div class="surface   "></div></template></md-ripple>
        <!--?lit$075548653$--><span class="icon"><slot></slot></span>
        <!--?lit$075548653$-->
        <!--?lit$075548653$--><span class="touch"></span>
  </button></template>
          <md-icon aria-hidden="true"><template shadowrootmode="open"><!----><slot></slot></template>close</md-icon>
        </md-icon-button></div></div>
        
    <!--?lit$075548653$--> <!--?lit$075548653$-->

    <div id="header" class="horizontal layout">
      <div id="header-background"><div></div></div>
      <div id="header-content">
        <!--?lit$075548653$-->
        <!--?lit$075548653$--><div id="header-logo">
              <!--?lit$075548653$--> <!--?lit$075548653$--><a href="https://drive.google.com/drive/search?q=owner%3Ame%20(type%3Aapplication%2Fvnd.google.colaboratory%20%7C%7C%20type%3Aapplication%2Fvnd.google.colab)&amp;authuser=0" aria-label="Ver en Google Drive">
        <!--?lit$075548653$--><md-icon class="colab-large-icon" aria-hidden="true"><template shadowrootmode="open"><!----><slot></slot></template><!--?lit$075548653$--><svg viewBox="0 0 24 24"><!--?lit$075548653$-->
      <g id="colab-logo">
        <path d="M4.54,9.46,2.19,7.1a6.93,6.93,0,0,0,0,9.79l2.36-2.36A3.59,3.59,0,0,1,4.54,9.46Z" style="fill:var(--colab-logo-dark)"></path>
        <path d="M2.19,7.1,4.54,9.46a3.59,3.59,0,0,1,5.08,0l1.71-2.93h0l-.1-.08h0A6.93,6.93,0,0,0,2.19,7.1Z" style="fill:var(--colab-logo-light)"></path>
        <path d="M11.34,17.46h0L9.62,14.54a3.59,3.59,0,0,1-5.08,0L2.19,16.9a6.93,6.93,0,0,0,9,.65l.11-.09" style="fill:var(--colab-logo-light)"></path>
        <path d="M12,7.1a6.93,6.93,0,0,0,0,9.79l2.36-2.36a3.59,3.59,0,1,1,5.08-5.08L21.81,7.1A6.93,6.93,0,0,0,12,7.1Z" style="fill:var(--colab-logo-light)"></path>
        <path d="M21.81,7.1,19.46,9.46a3.59,3.59,0,0,1-5.08,5.08L12,16.9A6.93,6.93,0,0,0,21.81,7.1Z" style="fill:var(--colab-logo-dark)"></path>
      </g></svg></md-icon>
      </a><!--?-->
            </div>
        <div id="header-doc-toolbar" class="flex">
          <div id="document-info">
            <!--?lit$075548653$--> <!--?lit$075548653$--><md-icon class="file-location-icon" id="file-type" aria-hidden="true" title="Cuaderno almacenado en Google Drive"><template shadowrootmode="open"><!----><slot></slot></template><!--?lit$075548653$-->
      <svg viewBox="0 0 192 192">
        <path d="M128.33,122l7.59,26.17l19.89,21.42c0,0,0,0,0,0v0c2.69-1.55,4.98-3.8,6.59-6.59l18.48-32 c1.61-2.78,2.41-5.89,2.41-9l-28.38-5.5L128.33,122z" fill="#EA4335"></path>
        <path d="M123.48,18.41c-2.69-1.55-5.78-2.41-9-2.41H77.53c-3.2,0-6.32,0.88-9,2.41l0,0l7.96,26.81l19.44,20.64 L96,66l0,0l19.58-20.89L123.48,18.41C123.48,18.41,123.48,18.41,123.48,18.41C123.48,18.41,123.48,18.41,123.48,18.41z" fill="#188038"></path>
        <path d="M63.67,122l-28.33-6.5L8.72,122c0,3.1,0.8,6.2,2.4,8.99L29.6,163c1.61,2.78,3.9,5.03,6.59,6.59 l19.59-20.18L63.67,122L63.67,122z" fill="#1967D2"></path>
        <path d="M155.47,69l-25.4-44c-1.61-2.79-3.9-5.04-6.59-6.59L96,66l32.33,56h54.95c0-3.11-0.8-6.21-2.41-9 L155.47,69z" fill="#FBBC04"></path><path d="M128.33,122H63.67l-27.48,47.59c2.69,1.55,5.78,2.41,9,2.41h101.61c3.22,0,6.31-0.86,9-2.41L128.33,122z" fill="#4285F4"></path>
        <path d="M96,66L68.53,18.41c-2.69,1.55-4.97,3.79-6.58,6.57l-50.83,88.05c-1.6,2.78-2.4,5.88-2.4,8.97h54.95L96,66 z" fill="#34A853"></path>
      </svg></md-icon>
    <input id="doc-name" class="doc-name" maxlength="259" autocomplete="off" aria-label="Nombre de cuaderno" command="rename" aria-describedby="doc-name-tooltip" style="width: 85.5417px;"><colab-tooltip-trigger aria-hidden="true" for="doc-name" id="doc-name-tooltip"><template shadowrootmode="open"><!----><!--?lit$075548653$--><!----><div><!--?lit$075548653$-->Cambiar el nombre del cuaderno</div><!----><!--?--></template>
        </colab-tooltip-trigger><colab-input-sizer aria-hidden="true" style="left: -1000%; position: absolute; font-family: &quot;Google Sans&quot;, Roboto, Noto, sans-serif; font-size: 18px; font-weight: 400; letter-spacing: normal; padding-left: 3px; padding-right: 4px; white-space: pre;">SSP.ipynb_</colab-input-sizer>
            <!--?lit$075548653$-->
                  <md-icon-button id="star-icon" command="toggle-star" aria-describedby="star-icon-tooltip" data-aria-label="Destacar" value=""><template shadowrootmode="open" shadowrootdelegatesfocus><!----><button id="button" class="icon-button  standard " aria-label="Destacar">
        <!--?lit$075548653$--><md-focus-ring part="focus-ring" for="button" aria-hidden="true"><template shadowrootmode="open"><!----></template></md-focus-ring>
        <!--?lit$075548653$--><md-ripple aria-hidden="true"><template shadowrootmode="open"><!----><div class="surface   "></div></template></md-ripple>
        <!--?lit$075548653$--><span class="icon"><slot></slot></span>
        <!--?lit$075548653$-->
        <!--?lit$075548653$--><span class="touch"></span>
  </button></template>
                    <md-icon aria-hidden="true"><template shadowrootmode="open"><!----><slot></slot></template>star</md-icon>
                  </md-icon-button><colab-tooltip-trigger aria-hidden="true" for="star-icon" id="star-icon-tooltip"><template shadowrootmode="open"><!----><!--?lit$075548653$--><!----><div><!--?lit$075548653$-->Destacar cuaderno en Google Drive</div><!----><!--?--></template>
        </colab-tooltip-trigger>
                
            <!--?lit$075548653$--><colab-last-saved-indicator aria-live="polite" aria-atomic="true"><template shadowrootmode="open"><!----><md-icon-button id="button" data-aria-label="Última modificación: 19 de marzo" value=""><template shadowrootmode="open" shadowrootdelegatesfocus><!----><button id="button" class="icon-button  standard " aria-label="Última modificación: 19 de marzo">
        <!--?lit$075548653$--><md-focus-ring part="focus-ring" for="button" aria-hidden="true"><template shadowrootmode="open"><!----></template></md-focus-ring>
        <!--?lit$075548653$--><md-ripple aria-hidden="true"><template shadowrootmode="open"><!----><div class="surface   "></div></template></md-ripple>
        <!--?lit$075548653$--><span class="icon"><slot></slot></span>
        <!--?lit$075548653$-->
        <!--?lit$075548653$--><span class="touch"></span>
  </button></template><md-icon aria-hidden="true"><template shadowrootmode="open"><!----><slot></slot></template><!--?lit$075548653$-->cloud_done</md-icon></md-icon-button><colab-tooltip-trigger aria-hidden="true" for="button" id="button-tooltip" message="Última modificación: 19 de marzo"><template shadowrootmode="open"><!----><!--?lit$075548653$--><!----><div><!--?lit$075548653$-->Última modificación: 19 de marzo</div><!----><!--?--></template>
        </colab-tooltip-trigger></template></colab-last-saved-indicator>
          </div>
        <div class="menubar-wrapper"><div><!----><div id="top-menubar" class="goog-menubar format-lightborder jsfocus" role="menubar" tabindex="0" style="user-select: none;"><!--?lit$075548653$--><div class="goog-menu-button goog-inline-block" id="file-menu-button" role="button" aria-expanded="false" aria-haspopup="true" style="user-select: none;"><div class="goog-inline-block goog-menu-button-outer-box" style="user-select: none;"><div class="goog-inline-block goog-menu-button-inner-box" style="user-select: none;"><div class="goog-inline-block goog-menu-button-caption" style="user-select: none;"><!--?lit$075548653$-->Archivo</div><div class="goog-inline-block goog-menu-button-dropdown" style="user-select: none;">&nbsp;</div></div></div></div><div class="goog-menu-button goog-inline-block" id="edit-menu-button" role="button" aria-expanded="false" aria-haspopup="true" style="user-select: none;"><div class="goog-inline-block goog-menu-button-outer-box" style="user-select: none;"><div class="goog-inline-block goog-menu-button-inner-box" style="user-select: none;"><div class="goog-inline-block goog-menu-button-caption" style="user-select: none;"><!--?lit$075548653$-->Editar</div><div class="goog-inline-block goog-menu-button-dropdown" style="user-select: none;">&nbsp;</div></div></div></div><div class="goog-menu-button goog-inline-block" id="view-menu-button" role="button" aria-expanded="false" aria-haspopup="true" style="user-select: none;"><div class="goog-inline-block goog-menu-button-outer-box" style="user-select: none;"><div class="goog-inline-block goog-menu-button-inner-box" style="user-select: none;"><div class="goog-inline-block goog-menu-button-caption" style="user-select: none;"><!--?lit$075548653$-->Ver</div><div class="goog-inline-block goog-menu-button-dropdown" style="user-select: none;">&nbsp;</div></div></div></div><div class="goog-menu-button goog-inline-block" id="insert-menu-button" role="button" aria-expanded="false" aria-haspopup="true" style="user-select: none;"><div class="goog-inline-block goog-menu-button-outer-box" style="user-select: none;"><div class="goog-inline-block goog-menu-button-inner-box" style="user-select: none;"><div class="goog-inline-block goog-menu-button-caption" style="user-select: none;"><!--?lit$075548653$-->Insertar</div><div class="goog-inline-block goog-menu-button-dropdown" style="user-select: none;">&nbsp;</div></div></div></div><div class="goog-menu-button goog-inline-block" id="runtime-menu-button" role="button" aria-expanded="false" aria-haspopup="true" style="user-select: none;"><div class="goog-inline-block goog-menu-button-outer-box" style="user-select: none;"><div class="goog-inline-block goog-menu-button-inner-box" style="user-select: none;"><div class="goog-inline-block goog-menu-button-caption" style="user-select: none;"><!--?lit$075548653$-->Entorno de ejecución</div><div class="goog-inline-block goog-menu-button-dropdown" style="user-select: none;">&nbsp;</div></div></div></div><div class="goog-menu-button goog-inline-block" id="tools-menu-button" role="button" aria-expanded="false" aria-haspopup="true" style="user-select: none;"><div class="goog-inline-block goog-menu-button-outer-box" style="user-select: none;"><div class="goog-inline-block goog-menu-button-inner-box" style="user-select: none;"><div class="goog-inline-block goog-menu-button-caption" style="user-select: none;"><!--?lit$075548653$-->Herramientas</div><div class="goog-inline-block goog-menu-button-dropdown" style="user-select: none;">&nbsp;</div></div></div></div><div class="goog-menu-button goog-inline-block" id="help-menu-button" role="button" aria-expanded="false" aria-haspopup="true" style="user-select: none;"><div class="goog-inline-block goog-menu-button-outer-box" style="user-select: none;"><div class="goog-inline-block goog-menu-button-inner-box" style="user-select: none;"><div class="goog-inline-block goog-menu-button-caption" style="user-select: none;"><!--?lit$075548653$-->Ayuda</div><div class="goog-inline-block goog-menu-button-dropdown" style="user-select: none;">&nbsp;</div></div></div></div></div></div></div></div>
        <div id="header-right">
          <!--?lit$075548653$-->
    <colab-collaborator-bar id="collaborator-bar"><template shadowrootmode="open"><!----> <div class="collaborator-bar">
      <!--?lit$075548653$-->
      <!--?lit$075548653$-->
    </div></template></colab-collaborator-bar>
  
          <!--?lit$075548653$--> <md-icon-button id="comments" command="open-comments-thread" data-aria-label="Abrir panel de comentarios" aria-describedby="comments-tooltip" value=""><template shadowrootmode="open" shadowrootdelegatesfocus><!----><button id="button" class="icon-button  standard " aria-label="Abrir panel de comentarios">
        <!--?lit$075548653$--><md-focus-ring part="focus-ring" for="button" aria-hidden="true"><template shadowrootmode="open"><!----></template></md-focus-ring>
        <!--?lit$075548653$--><md-ripple aria-hidden="true"><template shadowrootmode="open"><!----><div class="surface   "></div></template></md-ripple>
        <!--?lit$075548653$--><span class="icon"><slot></slot></span>
        <!--?lit$075548653$-->
        <!--?lit$075548653$--><span class="touch"></span>
  </button></template>
                <md-icon aria-hidden="true"><template shadowrootmode="open"><!----><slot></slot></template>comment</md-icon>
              </md-icon-button><colab-tooltip-trigger aria-hidden="true" for="comments" id="comments-tooltip"><template shadowrootmode="open"><!----><!--?lit$075548653$--><!----><div><!--?lit$075548653$-->Abrir panel de comentarios</div><!----><!--?--></template>
        </colab-tooltip-trigger>
          <!--?lit$075548653$--> <md-icon-button id="settings-cog" command="preferences" data-aria-label="Abrir configuración" aria-describedby="settings-cog-tooltip" value=""><template shadowrootmode="open" shadowrootdelegatesfocus><!----><button id="button" class="icon-button  standard " aria-label="Abrir configuración">
        <!--?lit$075548653$--><md-focus-ring part="focus-ring" for="button" aria-hidden="true"><template shadowrootmode="open"><!----></template></md-focus-ring>
        <!--?lit$075548653$--><md-ripple aria-hidden="true"><template shadowrootmode="open"><!----><div class="surface   "></div></template></md-ripple>
        <!--?lit$075548653$--><span class="icon"><slot></slot></span>
        <!--?lit$075548653$-->
        <!--?lit$075548653$--><span class="touch"></span>
  </button></template>
                <md-icon aria-hidden="true"><template shadowrootmode="open"><!----><slot></slot></template>settings</md-icon>
              </md-icon-button><colab-tooltip-trigger aria-hidden="true" for="settings-cog" id="settings-cog-tooltip"><template shadowrootmode="open"><!----><!--?lit$075548653$--><!----><div><!--?lit$075548653$-->Abrir configuración</div><!----><!--?--></template>
        </colab-tooltip-trigger>
          <!--?lit$075548653$-->
          <!--?lit$075548653$--> <md-filled-tonal-button id="share-toolbar-button" command="share" data-aria-label="Compartir cuaderno" aria-describedby="share-toolbar-button-tooltip" value="" has-icon=""><template shadowrootmode="open" shadowrootdelegatesfocus><!---->
      <!--?lit$075548653$--><md-elevation part="elevation" aria-hidden="true"><template shadowrootmode="open"><!----><span class="shadow"></span></template></md-elevation>
      <div class="background"></div>
      <md-focus-ring part="focus-ring" for="button" aria-hidden="true"><template shadowrootmode="open"><!----></template></md-focus-ring>
      <md-ripple part="ripple" for="button" aria-hidden="true"><template shadowrootmode="open"><!----><div class="surface   "></div></template></md-ripple>
      <!--?lit$075548653$--><button id="button" class="button" aria-label="Compartir cuaderno">
      <!--?lit$075548653$-->
      <span class="touch"></span>
      <!--?lit$075548653$--><slot name="icon"></slot>
      <span class="label"><slot></slot></span>
      <!--?lit$075548653$-->
    
    </button>
    </template>
                <md-icon slot="icon" aria-hidden="true"><template shadowrootmode="open"><!----><slot></slot></template><!--?lit$075548653$-->people</md-icon>
                <!--?lit$075548653$-->Compartir
              </md-filled-tonal-button><colab-tooltip-trigger aria-hidden="true" for="share-toolbar-button" id="share-toolbar-button-tooltip"><template shadowrootmode="open"><!----><!--?lit$075548653$--><!----><div><!--?lit$075548653$-->Compartir cuaderno</div><!----><!--?--></template>
        </colab-tooltip-trigger>
          <!--?lit$075548653$--> <md-text-button class="show-chat-button" id="show-chat-button" command="show-chat" data-aria-label="Mostrar Gemini" aria-describedby="show-chat-button-tooltip" value="" has-icon=""><template shadowrootmode="open" shadowrootdelegatesfocus><!---->
      <!--?lit$075548653$-->
      <div class="background"></div>
      <md-focus-ring part="focus-ring" for="button" aria-hidden="true"><template shadowrootmode="open"><!----></template></md-focus-ring>
      <md-ripple part="ripple" for="button" aria-hidden="true"><template shadowrootmode="open"><!----><div class="surface   "></div></template></md-ripple>
      <!--?lit$075548653$--><button id="button" class="button" aria-label="Mostrar Gemini">
      <!--?lit$075548653$-->
      <span class="touch"></span>
      <!--?lit$075548653$--><slot name="icon"></slot>
      <span class="label"><slot></slot></span>
      <!--?lit$075548653$-->
    
    </button>
    </template>
                <md-icon slot="icon" aria-hidden="true"><template shadowrootmode="open"><!----><slot></slot></template>spark</md-icon>
                <!--?lit$075548653$-->Gemini
              </md-text-button><colab-tooltip-trigger aria-hidden="true" for="show-chat-button" id="show-chat-button-tooltip"><template shadowrootmode="open"><!----><!--?lit$075548653$--><!----><div><!--?lit$075548653$-->Mostrar Gemini</div><!----><!--?--></template>
        </colab-tooltip-trigger>
          <div class="header-onegoogle-container"><div class="onegoogle"><div class="gb_Fa gb_Kd gb_3d gb_Xc" id="gb"><div class="gb_Dd gb_0d gb_yd" ng-non-bindable="" data-ogsr-up="" style="padding:0;height:auto;display:block"><div class="gb_Re" style="display:block"><div class="gb_4c"></div><div class="gb_z gb_dd gb_Nf gb_0"><div class="gb_D gb_jb gb_Nf gb_0"><a class="gb_B gb_Za gb_0" aria-expanded="false" aria-label="Cuenta de Google: Javier Hidalgo  
(javierhidalgomoreno5@gmail.com)" href="https://accounts.google.com/SignOutOptions?hl=es&amp;continue=https://colab.research.google.com/drive/1h5ksUlmDUfDsHRWdIw18bMIQ0ZSdZNEm%3Fusp%3Dsharing&amp;ec=GBRAqQM" tabindex="0" role="button"><img class="gb_P gbii" src="./SSP_files/unnamed.png" srcset="https://lh3.google.com/u/0/ogw/AF2bZyiAsb2TjnvTyypGbiec9gcUiA6z6WMzHpXorap2ciE0HA=s32-c-mo 1x, https://lh3.google.com/u/0/ogw/AF2bZyiAsb2TjnvTyypGbiec9gcUiA6z6WMzHpXorap2ciE0HA=s64-c-mo 2x " alt="" aria-hidden="true" data-noaft=""><div class="gb_Q gb_R" aria-hidden="true"><svg class="gb_Ka" height="14" viewBox="0 0 14 14" width="14" xmlns="http://www.w3.org/2000/svg"><circle class="gb_La" cx="7" cy="7" r="7"></circle><path class="gb_Na" d="M6 10H8V12H6V10ZM6 2H8V8H6V2Z"></path></svg></div></a></div></div></div><div style="overflow: hidden; position: absolute; top: 0px; visibility: hidden; width: 436px; z-index: 991; height: 0px; margin-top: 57px; right: 0px; margin-right: 4px;"></div><div style="overflow: hidden; position: absolute; top: 0px; visibility: hidden; width: 420px; z-index: 991; height: 280px; margin-top: 70px; right: 0px; margin-right: 25px;"></div></div></div><script nonce="">this.gbar_=this.gbar_||{};(function(_){var window=this;
try{
_.Ed=function(a,b,c){if(!a.j)if(c instanceof Array)for(var d of c)_.Ed(a,b,d);else{d=(0,_.z)(a.C,a,b);const e=a.v+c;a.v++;b.dataset.eqid=e;a.B[e]=d;b&&b.addEventListener?b.addEventListener(c,d,!1):b&&b.attachEvent?b.attachEvent("on"+c,d):a.o.log(Error("A`"+b))}};
}catch(e){_._DumpException(e)}
try{
var Fd=document.querySelector(".gb_J .gb_B"),Gd=document.querySelector("#gb.gb_Tc");Fd&&!Gd&&_.Ed(_.nd,Fd,"click");
}catch(e){_._DumpException(e)}
try{
_.jh=function(a){if(a.v)return a.v;for(const b in a.i)if(a.i[b].fa()&&a.i[b].B())return a.i[b];return null};_.kh=function(a,b){a.i[b.J()]=b};var lh=new class extends _.Q{constructor(){var a=_.Xc;super();this.B=a;this.v=null;this.o={};this.C={};this.i={};this.j=null}A(a){this.i[a]&&(_.jh(this)&&_.jh(this).J()==a||this.i[a].O(!0))}Pa(a){this.j=a;for(const b in this.i)this.i[b].fa()&&this.i[b].Pa(a)}fc(a){return a in this.i?this.i[a]:null}};_.qd("dd",lh);
}catch(e){_._DumpException(e)}
try{
_.Bi=function(a,b){return _.J(a,36,b)};
}catch(e){_._DumpException(e)}
try{
var Di=document.querySelector(".gb_z .gb_B"),Ei=document.querySelector("#gb.gb_Tc");Di&&!Ei&&_.Ed(_.nd,Di,"click");
}catch(e){_._DumpException(e)}
})(this.gbar_);
// Google Inc.
</script></div></div>
        </div>
      </div>
    </div>
  </div></div><colab-notebook-toolbar id="top-toolbar" class="horizontal layout center noshrink"><!----> <!--?lit$075548653$-->
    <!--?lit$075548653$--> <colab-toolbar-button icon="search" id="toolbar-show-command-palette" command="show-command-palette"><template shadowrootmode="open"><!----><md-text-button id="button" data-aria-disabled="false" value="" has-icon=""><template shadowrootmode="open" shadowrootdelegatesfocus><!---->
      <!--?lit$075548653$-->
      <div class="background"></div>
      <md-focus-ring part="focus-ring" for="button" aria-hidden="true"><template shadowrootmode="open"><!----></template></md-focus-ring>
      <md-ripple part="ripple" for="button" aria-hidden="true"><template shadowrootmode="open"><!----><div class="surface"></div></template></md-ripple>
      <!--?lit$075548653$--><button id="button" class="button">
      <!--?lit$075548653$-->
      <span class="touch"></span>
      <!--?lit$075548653$--><slot name="icon"></slot>
      <span class="label"><slot></slot></span>
      <!--?lit$075548653$-->
    
    </button>
    </template>
        <!--?lit$075548653$--><md-icon slot="icon" aria-hidden="true"><template shadowrootmode="open"><!----><slot></slot></template><!--?lit$075548653$-->search</md-icon>
        <span class="button-content"><slot></slot></span>
        <!--?lit$075548653$--><span class="screenreader-only"><!--?lit$075548653$-->Mostrar paleta de comandos <!--?lit$075548653$-->Ctrl+Shift+P</span>
      </md-text-button>
      <!--?lit$075548653$--> <colab-tooltip-trigger for="button" aria-hidden="true" id="tooltip" message="Mostrar paleta de comandos" shortcut="Ctrl+Shift+P"><template shadowrootmode="open"><!----><!--?lit$075548653$--><!----><div><!--?lit$075548653$-->Mostrar paleta de comandos (Ctrl+Shift+P)</div><!----><!--?--></template>
          </colab-tooltip-trigger><!--?--></template>
            <!--?lit$075548653$-->Comandos
          </colab-toolbar-button>
          <span class="colab-separator"></span>
    <!--?lit$075548653$-->
          <colab-toolbar-button command="insert-cell-below" icon="add" id="toolbar-add-code"><template shadowrootmode="open"><!----><md-text-button id="button" data-aria-disabled="false" value="" has-icon=""><template shadowrootmode="open" shadowrootdelegatesfocus><!---->
      <!--?lit$075548653$-->
      <div class="background"></div>
      <md-focus-ring part="focus-ring" for="button" aria-hidden="true"><template shadowrootmode="open"><!----></template></md-focus-ring>
      <md-ripple part="ripple" for="button" aria-hidden="true"><template shadowrootmode="open"><!----><div class="surface   "></div></template></md-ripple>
      <!--?lit$075548653$--><button id="button" class="button">
      <!--?lit$075548653$-->
      <span class="touch"></span>
      <!--?lit$075548653$--><slot name="icon"></slot>
      <span class="label"><slot></slot></span>
      <!--?lit$075548653$-->
    
    </button>
    </template>
        <!--?lit$075548653$--><md-icon slot="icon" aria-hidden="true"><template shadowrootmode="open"><!----><slot></slot></template><!--?lit$075548653$-->add</md-icon>
        <span class="button-content"><slot></slot></span>
        <!--?lit$075548653$--><span class="screenreader-only"><!--?lit$075548653$-->Insertar celda de código debajo <!--?lit$075548653$-->Ctrl+M B</span>
      </md-text-button>
      <!--?lit$075548653$--> <colab-tooltip-trigger for="button" aria-hidden="true" id="tooltip" message="Insertar celda de código debajo" shortcut="Ctrl+M B"><template shadowrootmode="open"><!----><!--?lit$075548653$--><!----><div><!--?lit$075548653$-->Insertar celda de código debajo (Ctrl+M B)</div><!----><!--?--></template>
          </colab-tooltip-trigger><!--?--></template>
            <!--?lit$075548653$-->Código
          </colab-toolbar-button>
          <!--?lit$075548653$-->
          <colab-toolbar-button command="add-text" icon="add" id="toolbar-add-text"><template shadowrootmode="open"><!----><md-text-button id="button" data-aria-disabled="false" value="" has-icon=""><template shadowrootmode="open" shadowrootdelegatesfocus><!---->
      <!--?lit$075548653$-->
      <div class="background"></div>
      <md-focus-ring part="focus-ring" for="button" aria-hidden="true"><template shadowrootmode="open"><!----></template></md-focus-ring>
      <md-ripple part="ripple" for="button" aria-hidden="true"><template shadowrootmode="open"><!----><div class="surface   "></div></template></md-ripple>
      <!--?lit$075548653$--><button id="button" class="button">
      <!--?lit$075548653$-->
      <span class="touch"></span>
      <!--?lit$075548653$--><slot name="icon"></slot>
      <span class="label"><slot></slot></span>
      <!--?lit$075548653$-->
    
    </button>
    </template>
        <!--?lit$075548653$--><md-icon slot="icon" aria-hidden="true"><template shadowrootmode="open"><!----><slot></slot></template><!--?lit$075548653$-->add</md-icon>
        <span class="button-content"><slot></slot></span>
        <!--?lit$075548653$--><span class="screenreader-only"><!--?lit$075548653$-->Añadir celda de texto <!--?lit$075548653$--></span>
      </md-text-button>
      <!--?lit$075548653$--> <colab-tooltip-trigger for="button" aria-hidden="true" id="tooltip" message="Añadir celda de texto" shortcut=""><template shadowrootmode="open"><!----><!--?lit$075548653$--><!----><div><!--?lit$075548653$-->Añadir celda de texto</div><!----><!--?--></template>
          </colab-tooltip-trigger><!--?--></template>
            <!--?lit$075548653$-->Texto
          </colab-toolbar-button>
        
    <!--?lit$075548653$--><span class="colab-separator"></span>
          <colab-notebook-toolbar-run-button><template shadowrootmode="open"><!----><colab-toolbar-button icon="play_arrow" tooltipid="toolbar-run-button-tooltip" id="toolbar-run-button" tooltiptext="Ejecutar todas las celdas del cuaderno"><template shadowrootmode="open"><!----><md-text-button id="button" data-aria-disabled="false" value="" has-icon=""><template shadowrootmode="open" shadowrootdelegatesfocus><!---->
      <!--?lit$075548653$-->
      <div class="background"></div>
      <md-focus-ring part="focus-ring" for="button" aria-hidden="true"><template shadowrootmode="open"><!----></template></md-focus-ring>
      <md-ripple part="ripple" for="button" aria-hidden="true"><template shadowrootmode="open"><!----><div class="surface   "></div></template></md-ripple>
      <!--?lit$075548653$--><button id="button" class="button">
      <!--?lit$075548653$-->
      <span class="touch"></span>
      <!--?lit$075548653$--><slot name="icon"></slot>
      <span class="label"><slot></slot></span>
      <!--?lit$075548653$-->
    
    </button>
    </template>
        <!--?lit$075548653$--><md-icon slot="icon" aria-hidden="true"><template shadowrootmode="open"><!----><slot></slot></template><!--?lit$075548653$-->play_arrow</md-icon>
        <span class="button-content"><slot></slot></span>
        <!--?lit$075548653$--><span class="screenreader-only"><!--?lit$075548653$-->Ejecutar todas las celdas del cuaderno <!--?lit$075548653$--></span>
      </md-text-button>
      <!--?lit$075548653$--> <colab-tooltip-trigger for="button" aria-hidden="true" id="toolbar-run-button-tooltip" message="Ejecutar todas las celdas del cuaderno" shortcut=""><template shadowrootmode="open"><!----><!--?lit$075548653$--><!----><div><!--?lit$075548653$-->Ejecutar todas las celdas del cuaderno</div><!----><!--?--></template>
          </colab-tooltip-trigger><!--?--></template>
        <!--?lit$075548653$-->Ejecutar todas
      </colab-toolbar-button>
      <!--?lit$075548653$--><md-icon-button data-aria-haspopup="menu" data-aria-expanded="false" id="toolbar-run-button-more-actions" data-aria-label="Más acciones" value=""><template shadowrootmode="open" shadowrootdelegatesfocus><!----><button id="button" class="icon-button  standard " aria-label="Más acciones" aria-haspopup="menu" aria-expanded="false">
        <!--?lit$075548653$--><md-focus-ring part="focus-ring" for="button" aria-hidden="true"><template shadowrootmode="open"><!----></template></md-focus-ring>
        <!--?lit$075548653$--><md-ripple aria-hidden="true"><template shadowrootmode="open"><!----><div class="surface   "></div></template></md-ripple>
        <!--?lit$075548653$--><span class="icon"><slot></slot></span>
        <!--?lit$075548653$-->
        <!--?lit$075548653$--><span class="touch"></span>
  </button></template>
        <md-icon aria-hidden="true"><template shadowrootmode="open"><!----><slot></slot></template>arrow_drop_down</md-icon>
      </md-icon-button>
      <colab-tooltip-trigger aria-hidden="true" for="toolbar-run-button-more-actions" message="Más acciones"><template shadowrootmode="open"><!----><!--?lit$075548653$--><!----><div><!--?lit$075548653$-->Más acciones</div><!----><!--?--></template>
      </colab-tooltip-trigger>
      <!--?lit$075548653$--><md-menu positioning="popover" quick="" aria-labelledby="toolbar-run-button-more-actions" anchor="toolbar-run-button-more-actions" aria-hidden="true"><template shadowrootmode="open"><!---->
      <div class="menu   " popover="manual" style="display: none;">
        <!--?lit$075548653$--><md-elevation part="elevation" aria-hidden="true"><template shadowrootmode="open"><!----><span class="shadow"></span></template></md-elevation>
        <div class="items">
          <div class="item-padding"> <!--?lit$075548653$--><slot></slot> </div>
        </div>
      </div>
    </template>
    <!--?lit$075548653$--><!----><md-menu-item command="restart" disabled="" md-menu-item="" tabindex="-1"><template shadowrootmode="open" shadowrootdelegatesfocus><!---->
      <li id="item" tabindex="-1" role="menuitem" class="list-item  disabled "><!--?lit$075548653$-->
      <md-item><template shadowrootmode="open"><!---->
      <slot name="container"></slot>
      <slot class="non-text" name="start"></slot>
      <div class="text">
        <slot name="overline"></slot>
        <slot class="default-slot"></slot>
        <slot name="headline"></slot>
        <slot name="supporting-text"></slot>
      </div>
      <slot class="non-text" name="trailing-supporting-text"></slot>
      <slot class="non-text" name="end"></slot>
    </template>
        <div slot="container">
          <!--?lit$075548653$--> <md-ripple part="ripple" for="item" disabled="" aria-hidden="true"><template shadowrootmode="open"><!----><div class="surface   "></div></template></md-ripple> <!--?lit$075548653$--> <md-focus-ring part="focus-ring" for="item" inward="" aria-hidden="true"><template shadowrootmode="open"><!----></template></md-focus-ring>
        </div>
        <slot name="start" slot="start"></slot>
        <slot name="end" slot="end"></slot>
        <!--?lit$075548653$-->
      <slot></slot>
      <slot name="overline" slot="overline"></slot>
      <slot name="headline" slot="headline"></slot>
      <slot name="supporting-text" slot="supporting-text"></slot>
      <slot name="trailing-supporting-text" slot="trailing-supporting-text"></slot>
    
      </md-item>
    </li>
    </template>
    <span slot="headline"><!--?lit$075548653$-->Reiniciar sesión</span>
  </md-menu-item><!----><!----><md-menu-item command="restart-and-run-all" disabled="" md-menu-item="" tabindex="-1"><template shadowrootmode="open" shadowrootdelegatesfocus><!---->
      <li id="item" tabindex="-1" role="menuitem" class="list-item  disabled "><!--?lit$075548653$-->
      <md-item><template shadowrootmode="open"><!---->
      <slot name="container"></slot>
      <slot class="non-text" name="start"></slot>
      <div class="text">
        <slot name="overline"></slot>
        <slot class="default-slot"></slot>
        <slot name="headline"></slot>
        <slot name="supporting-text"></slot>
      </div>
      <slot class="non-text" name="trailing-supporting-text"></slot>
      <slot class="non-text" name="end"></slot>
    </template>
        <div slot="container">
          <!--?lit$075548653$--> <md-ripple part="ripple" for="item" disabled="" aria-hidden="true"><template shadowrootmode="open"><!----><div class="surface   "></div></template></md-ripple> <!--?lit$075548653$--> <md-focus-ring part="focus-ring" for="item" inward="" aria-hidden="true"><template shadowrootmode="open"><!----></template></md-focus-ring>
        </div>
        <slot name="start" slot="start"></slot>
        <slot name="end" slot="end"></slot>
        <!--?lit$075548653$-->
      <slot></slot>
      <slot name="overline" slot="overline"></slot>
      <slot name="headline" slot="headline"></slot>
      <slot name="supporting-text" slot="supporting-text"></slot>
      <slot name="trailing-supporting-text" slot="trailing-supporting-text"></slot>
    
      </md-item>
    </li>
    </template>
    <span slot="headline"><!--?lit$075548653$-->Reiniciar sesión y ejecutar todo</span>
  </md-menu-item><!----><!----><md-divider><template shadowrootmode="open"><!----></template></md-divider><!----><!----><md-menu-item command="interrupt" disabled="" md-menu-item="" tabindex="-1"><template shadowrootmode="open" shadowrootdelegatesfocus><!---->
      <li id="item" tabindex="-1" role="menuitem" class="list-item  disabled "><!--?lit$075548653$-->
      <md-item><template shadowrootmode="open"><!---->
      <slot name="container"></slot>
      <slot class="non-text" name="start"></slot>
      <div class="text">
        <slot name="overline"></slot>
        <slot class="default-slot"></slot>
        <slot name="headline"></slot>
        <slot name="supporting-text"></slot>
      </div>
      <slot class="non-text" name="trailing-supporting-text"></slot>
      <slot class="non-text" name="end"></slot>
    </template>
        <div slot="container">
          <!--?lit$075548653$--> <md-ripple part="ripple" for="item" disabled="" aria-hidden="true"><template shadowrootmode="open"><!----><div class="surface   "></div></template></md-ripple> <!--?lit$075548653$--> <md-focus-ring part="focus-ring" for="item" inward="" aria-hidden="true"><template shadowrootmode="open"><!----></template></md-focus-ring>
        </div>
        <slot name="start" slot="start"></slot>
        <slot name="end" slot="end"></slot>
        <!--?lit$075548653$-->
      <slot></slot>
      <slot name="overline" slot="overline"></slot>
      <slot name="headline" slot="headline"></slot>
      <slot name="supporting-text" slot="supporting-text"></slot>
      <slot name="trailing-supporting-text" slot="trailing-supporting-text"></slot>
    
      </md-item>
    </li>
    </template>
    <span slot="headline"><!--?lit$075548653$-->Interrumpir ejecución</span>
  </md-menu-item><!----><!----><md-menu-item command="clear-outputs" md-menu-item="" tabindex="0"><template shadowrootmode="open" shadowrootdelegatesfocus><!---->
      <li id="item" tabindex="0" role="menuitem" class="list-item   "><!--?lit$075548653$-->
      <md-item><template shadowrootmode="open"><!---->
      <slot name="container"></slot>
      <slot class="non-text" name="start"></slot>
      <div class="text">
        <slot name="overline"></slot>
        <slot class="default-slot"></slot>
        <slot name="headline"></slot>
        <slot name="supporting-text"></slot>
      </div>
      <slot class="non-text" name="trailing-supporting-text"></slot>
      <slot class="non-text" name="end"></slot>
    </template>
        <div slot="container">
          <!--?lit$075548653$--> <md-ripple part="ripple" for="item" aria-hidden="true"><template shadowrootmode="open"><!----><div class="surface   "></div></template></md-ripple> <!--?lit$075548653$--> <md-focus-ring part="focus-ring" for="item" inward="" aria-hidden="true"><template shadowrootmode="open"><!----></template></md-focus-ring>
        </div>
        <slot name="start" slot="start"></slot>
        <slot name="end" slot="end"></slot>
        <!--?lit$075548653$-->
      <slot></slot>
      <slot name="overline" slot="overline"></slot>
      <slot name="headline" slot="headline"></slot>
      <slot name="supporting-text" slot="supporting-text"></slot>
      <slot name="trailing-supporting-text" slot="trailing-supporting-text"></slot>
    
      </md-item>
    </li>
    </template>
    <span slot="headline"><!--?lit$075548653$-->Borrar todos los resultados</span>
  </md-menu-item><!---->
  </md-menu><!--?--><!--?--></template>
          </colab-notebook-toolbar-run-button>
    <!--?lit$075548653$-->
    <!--?lit$075548653$-->
    <!--?lit$075548653$-->
    <!--?lit$075548653$-->
    <!--?lit$075548653$--> <span class="collapsed-options">
          <colab-last-saved-indicator aria-live="polite" aria-atomic="true"><template shadowrootmode="open"><!----><!--?--></template></colab-last-saved-indicator>
        </span>

    <span class="flex"></span>

    <!--?lit$075548653$--><colab-connect-warning-button><template shadowrootmode="open"><!----><!--?lit$075548653$--><!--?--><!--?--></template></colab-connect-warning-button>
    <!--?lit$075548653$--><!--?lit$075548653$--><colab-connect-button><template shadowrootmode="open"><!----> <!--?lit$075548653$--> <!--?lit$075548653$--><!--?-->
      <colab-toolbar-button id="connect" tooltipid="colab-connect-tooltip" tooltiptext="Conectar a un nuevo entorno de ejecución"><template shadowrootmode="open"><!----><md-text-button id="button" data-aria-disabled="false" value=""><template shadowrootmode="open" shadowrootdelegatesfocus><!---->
      <!--?lit$075548653$-->
      <div class="background"></div>
      <md-focus-ring part="focus-ring" for="button" aria-hidden="true"><template shadowrootmode="open"><!----></template></md-focus-ring>
      <md-ripple part="ripple" for="button" aria-hidden="true"><template shadowrootmode="open"><!----><div class="surface   "></div></template></md-ripple>
      <!--?lit$075548653$--><button id="button" class="button">
      <!--?lit$075548653$-->
      <span class="touch"></span>
      <!--?lit$075548653$--><slot name="icon"></slot>
      <span class="label"><slot></slot></span>
      <!--?lit$075548653$-->
    
    </button>
    </template>
        <!--?lit$075548653$-->
        <span class="button-content"><slot></slot></span>
        <!--?lit$075548653$--><span class="screenreader-only"><!--?lit$075548653$-->Conectar a un nuevo entorno de ejecución <!--?lit$075548653$--></span>
      </md-text-button>
      <!--?lit$075548653$--> <colab-tooltip-trigger for="button" aria-hidden="true" id="colab-connect-tooltip" message="Conectar a un nuevo entorno de ejecución" shortcut=""><template shadowrootmode="open"><!----><!--?lit$075548653$--><!----><div><!--?lit$075548653$-->Conectar a un nuevo entorno de ejecución</div><!----><!--?--></template>
          </colab-tooltip-trigger><!--?--></template>
        <!--?lit$075548653$-->Conectar
      </colab-toolbar-button>
      <!--?lit$075548653$--> <md-icon-button id="connect-dropdown" data-aria-expanded="false" data-aria-haspopup="menu" data-aria-label="Opciones de conexión adicionales" value=""><template shadowrootmode="open" shadowrootdelegatesfocus><!----><button id="button" class="icon-button  standard " aria-label="Opciones de conexión adicionales" aria-haspopup="menu" aria-expanded="false">
        <!--?lit$075548653$--><md-focus-ring part="focus-ring" for="button" aria-hidden="true"><template shadowrootmode="open"><!----></template></md-focus-ring>
        <!--?lit$075548653$--><md-ripple aria-hidden="true"><template shadowrootmode="open"><!----><div class="surface   "></div></template></md-ripple>
        <!--?lit$075548653$--><span class="icon"><slot></slot></span>
        <!--?lit$075548653$-->
        <!--?lit$075548653$--><span class="touch"></span>
  </button></template>
        <md-icon aria-hidden="true"><template shadowrootmode="open"><!----><slot></slot></template>arrow_drop_down</md-icon>
      </md-icon-button>
      <colab-tooltip-trigger for="connect-dropdown" id="connect-dropdown-tooltip" aria-hidden="true" message="Opciones de conexión adicionales"><template shadowrootmode="open"><!----><!--?lit$075548653$--><!----><div><!--?lit$075548653$-->Opciones de conexión adicionales</div><!----><!--?--></template>
      </colab-tooltip-trigger>
      <!--?lit$075548653$--><!--?--></template></colab-connect-button><!--?-->
    <!--?lit$075548653$-->
    <span class="collapsed-options">
      <!--?lit$075548653$--><span class="colab-separator"></span>
      <!--?lit$075548653$--> <md-icon-button id="share-button-toolbar" command="share" data-aria-label="Compartir cuaderno" aria-describedby="share-button-toolbar-tooltip" value=""><template shadowrootmode="open" shadowrootdelegatesfocus><!----><button id="button" class="icon-button  standard " aria-label="Compartir cuaderno">
        <!--?lit$075548653$--><md-focus-ring part="focus-ring" for="button" aria-hidden="true"><template shadowrootmode="open"><!----></template></md-focus-ring>
        <!--?lit$075548653$--><md-ripple aria-hidden="true"><template shadowrootmode="open"><!----><div class="surface   "></div></template></md-ripple>
        <!--?lit$075548653$--><span class="icon"><slot></slot></span>
        <!--?lit$075548653$-->
        <!--?lit$075548653$--><span class="touch"></span>
  </button></template>
            <md-icon filled="" aria-hidden="true"><template shadowrootmode="open"><!----><slot></slot></template><!--?lit$075548653$-->people</md-icon>
          </md-icon-button><colab-tooltip-trigger aria-hidden="true" for="share-button-toolbar" id="share-button-toolbar-tooltip"><template shadowrootmode="open"><!----><!--?lit$075548653$--><!----><div><!--?lit$075548653$-->Compartir cuaderno</div><!----><!--?--></template>
        </colab-tooltip-trigger>
      <md-icon-button id="settings-button-toolbar" command="preferences" data-aria-label="Abrir configuración" aria-describedby="settings-button-toolbar-tooltip" value=""><template shadowrootmode="open" shadowrootdelegatesfocus><!----><button id="button" class="icon-button  standard " aria-label="Abrir configuración">
        <!--?lit$075548653$--><md-focus-ring part="focus-ring" for="button" aria-hidden="true"><template shadowrootmode="open"><!----></template></md-focus-ring>
        <!--?lit$075548653$--><md-ripple aria-hidden="true"><template shadowrootmode="open"><!----><div class="surface   "></div></template></md-ripple>
        <!--?lit$075548653$--><span class="icon"><slot></slot></span>
        <!--?lit$075548653$-->
        <!--?lit$075548653$--><span class="touch"></span>
  </button></template>
        <md-icon filled="" aria-hidden="true"><template shadowrootmode="open"><!----><slot></slot></template>settings</md-icon>
      </md-icon-button><colab-tooltip-trigger aria-hidden="true" for="settings-button-toolbar" id="settings-button-toolbar-tooltip"><template shadowrootmode="open"><!----><!--?lit$075548653$--><!----><div><!--?lit$075548653$-->Abrir configuración</div><!----><!--?--></template>
        </colab-tooltip-trigger>
      <!--?lit$075548653$--> <md-icon-button class="show-chat-button" id="show-chat-button-toolbar" command="show-chat" data-aria-label="Mostrar Gemini" aria-describedby="show-chat-button-toolbar-tooltip" value=""><template shadowrootmode="open" shadowrootdelegatesfocus><!----><button id="button" class="icon-button  standard " aria-label="Mostrar Gemini">
        <!--?lit$075548653$--><md-focus-ring part="focus-ring" for="button" aria-hidden="true"><template shadowrootmode="open"><!----></template></md-focus-ring>
        <!--?lit$075548653$--><md-ripple aria-hidden="true"><template shadowrootmode="open"><!----><div class="surface   "></div></template></md-ripple>
        <!--?lit$075548653$--><span class="icon"><slot></slot></span>
        <!--?lit$075548653$-->
        <!--?lit$075548653$--><span class="touch"></span>
  </button></template>
            <md-icon aria-hidden="true"><template shadowrootmode="open"><!----><slot></slot></template>spark</md-icon>
          </md-icon-button><colab-tooltip-trigger aria-hidden="true" for="show-chat-button-toolbar" id="show-chat-button-toolbar-tooltip"><template shadowrootmode="open"><!----><!--?lit$075548653$--><!----><div><!--?lit$075548653$-->Mostrar Gemini</div><!----><!--?--></template>
        </colab-tooltip-trigger>
    </span>
    <span class="colab-separator"></span>
    <!--?lit$075548653$--><md-icon-button toggle="" command="toggle-header" id="toggle-header-button" data-aria-label="Mostrar/ocultar encabezado" aria-describedby="toggle-header-button-tooltip" value=""><template shadowrootmode="open" shadowrootdelegatesfocus><!----><button id="button" class="icon-button  standard " aria-label="Mostrar/ocultar encabezado" aria-pressed="false">
        <!--?lit$075548653$--><md-focus-ring part="focus-ring" for="button" aria-hidden="true"><template shadowrootmode="open"><!----></template></md-focus-ring>
        <!--?lit$075548653$--><md-ripple aria-hidden="true"><template shadowrootmode="open"><!----><div class="surface   "></div></template></md-ripple>
        <!--?lit$075548653$--><span class="icon"><slot></slot></span>
        <!--?lit$075548653$-->
        <!--?lit$075548653$--><span class="touch"></span>
  </button></template>
    <md-icon aria-hidden="true"><template shadowrootmode="open"><!----><slot></slot></template>expand_less</md-icon>
    <md-icon slot="selected" aria-hidden="true"><template shadowrootmode="open"><!----><slot></slot></template>expand_more</md-icon>
  </md-icon-button><colab-tooltip-trigger aria-hidden="true" for="toggle-header-button" id="toggle-header-button-tooltip"><template shadowrootmode="open"><!----><!--?lit$075548653$--><!----><div><!--?lit$075548653$-->Mostrar/ocultar encabezado</div><!----><!--?--></template>
        </colab-tooltip-trigger><!--?--></colab-notebook-toolbar><div class="notebook-horizontal">
        <!--?lit$075548653$--><colab-left-pane role="complementary" aria-label="left pane"><!----><div class="colab-left-pane-nib layout vertical" role="toolbar" aria-orientation="vertical">
        <div class="left-pane-top"><!----><div class="left-pane-button">
        <!--?lit$075548653$--><md-icon-button toggle="" command="show-toc-pane" data-aria-label="Índice" title="Índice" value=""><template shadowrootmode="open" shadowrootdelegatesfocus><!----><button id="button" class="icon-button  standard " aria-label="Índice" aria-pressed="false">
        <!--?lit$075548653$--><md-focus-ring part="focus-ring" for="button" aria-hidden="true"><template shadowrootmode="open"><!----></template></md-focus-ring>
        <!--?lit$075548653$--><md-ripple aria-hidden="true"><template shadowrootmode="open"><!----><div class="surface   "></div></template></md-ripple>
        <!--?lit$075548653$--><span class="icon"><slot></slot></span>
        <!--?lit$075548653$-->
        <!--?lit$075548653$--><span class="touch"></span>
  </button></template>
      <md-icon aria-hidden="true"><template shadowrootmode="open"><!----><slot></slot></template><!--?lit$075548653$-->format_list_bulleted</md-icon>
    </md-icon-button> <!--?lit$075548653$-->
      </div><!----><div class="left-pane-button">
        <!--?lit$075548653$--><md-icon-button toggle="" command="find" data-aria-label="Buscar y reemplazar" title="Buscar y reemplazar" tabindex="-1" value=""><template shadowrootmode="open" shadowrootdelegatesfocus><!----><button id="button" class="icon-button  standard " aria-label="Buscar y reemplazar" aria-pressed="false">
        <!--?lit$075548653$--><md-focus-ring part="focus-ring" for="button" aria-hidden="true"><template shadowrootmode="open"><!----></template></md-focus-ring>
        <!--?lit$075548653$--><md-ripple aria-hidden="true"><template shadowrootmode="open"><!----><div class="surface   "></div></template></md-ripple>
        <!--?lit$075548653$--><span class="icon"><slot></slot></span>
        <!--?lit$075548653$-->
        <!--?lit$075548653$--><span class="touch"></span>
  </button></template>
      <md-icon aria-hidden="true"><template shadowrootmode="open"><!----><slot></slot></template><!--?lit$075548653$-->find_in_page</md-icon>
    </md-icon-button> <!--?lit$075548653$-->
      </div><!----><div class="left-pane-button">
        <!--?lit$075548653$--><md-icon-button toggle="" command="snippets" data-aria-label="Fragmentos de código" title="Fragmentos de código" tabindex="-1" value=""><template shadowrootmode="open" shadowrootdelegatesfocus><!----><button id="button" class="icon-button  standard " aria-label="Fragmentos de código" aria-pressed="false">
        <!--?lit$075548653$--><md-focus-ring part="focus-ring" for="button" aria-hidden="true"><template shadowrootmode="open"><!----></template></md-focus-ring>
        <!--?lit$075548653$--><md-ripple aria-hidden="true"><template shadowrootmode="open"><!----><div class="surface   "></div></template></md-ripple>
        <!--?lit$075548653$--><span class="icon"><slot></slot></span>
        <!--?lit$075548653$-->
        <!--?lit$075548653$--><span class="touch"></span>
  </button></template>
      <md-icon aria-hidden="true"><template shadowrootmode="open"><!----><slot></slot></template><!--?lit$075548653$-->code</md-icon>
    </md-icon-button> <!--?lit$075548653$-->
      </div><!----><div class="left-pane-button">
        <!--?lit$075548653$--><md-icon-button toggle="" command="open-user-secrets" data-aria-label="Secretos" title="Secretos" tabindex="-1" value=""><template shadowrootmode="open" shadowrootdelegatesfocus><!----><button id="button" class="icon-button  standard " aria-label="Secretos" aria-pressed="false">
        <!--?lit$075548653$--><md-focus-ring part="focus-ring" for="button" aria-hidden="true"><template shadowrootmode="open"><!----></template></md-focus-ring>
        <!--?lit$075548653$--><md-ripple aria-hidden="true"><template shadowrootmode="open"><!----><div class="surface   "></div></template></md-ripple>
        <!--?lit$075548653$--><span class="icon"><slot></slot></span>
        <!--?lit$075548653$-->
        <!--?lit$075548653$--><span class="touch"></span>
  </button></template>
      <md-icon aria-hidden="true"><template shadowrootmode="open"><!----><slot></slot></template><!--?lit$075548653$-->vpn_key</md-icon>
    </md-icon-button> <!--?lit$075548653$-->
      </div><!----><div class="left-pane-button">
        <!--?lit$075548653$--><md-icon-button toggle="" command="show-files" data-aria-label="Archivos" title="Archivos" tabindex="-1" value=""><template shadowrootmode="open" shadowrootdelegatesfocus><!----><button id="button" class="icon-button  standard " aria-label="Archivos" aria-pressed="false">
        <!--?lit$075548653$--><md-focus-ring part="focus-ring" for="button" aria-hidden="true"><template shadowrootmode="open"><!----></template></md-focus-ring>
        <!--?lit$075548653$--><md-ripple aria-hidden="true"><template shadowrootmode="open"><!----><div class="surface   "></div></template></md-ripple>
        <!--?lit$075548653$--><span class="icon"><slot></slot></span>
        <!--?lit$075548653$-->
        <!--?lit$075548653$--><span class="touch"></span>
  </button></template>
      <md-icon aria-hidden="true"><template shadowrootmode="open"><!----><slot></slot></template><!--?lit$075548653$-->folder</md-icon>
    </md-icon-button> <!--?lit$075548653$-->
      </div></div>
        <div class="left-pane-bottom"></div>
      </div></colab-left-pane>
        <div class="layout vertical grow">
          <colab-tab-layout-container class="layout horizontal grow flexible-tabs"><!----> <div class="layout horizontal tab-pane-parent">
      <!--?lit$075548653$--> <div class="layout vertical tab-pane-parent">
      <!--?lit$075548653$--><colab-tab-pane class="layout vertical grow no-header" align="horizontal"><!----> <div class="layout vertical grow">
    <div class="tab-pane-header layout horizontal noshrink">
      <md-tabs><template shadowrootmode="open"><!---->
      <div class="tabs">
        <slot></slot>
      </div>
      <md-divider part="divider"><template shadowrootmode="open"><!----></template></md-divider>
    </template><md-primary-tab noink="" title="" aria-labelledby="tab-title-w7NNk2uh97ds" class="selected-tab" tabindex="0" md-tab="" active=""><template shadowrootmode="open"><!----><div class="button" role="presentation">
      <md-focus-ring part="focus-ring" inward="" aria-hidden="true"><template shadowrootmode="open"><!----></template></md-focus-ring>
      <md-elevation part="elevation" aria-hidden="true"><template shadowrootmode="open"><!----><span class="shadow"></span></template></md-elevation>
      <md-ripple aria-hidden="true"><template shadowrootmode="open"><!----><div class="surface   "></div></template></md-ripple>
      <div role="presentation" class="content  has-label stacked ">
        <slot name="icon"></slot>
        <slot></slot>
        <!--?lit$075548653$--><div class="indicator"></div>
      </div>
      <!--?lit$075548653$-->
    </div></template>
          <div class="colab-tab-header">
            <span class="colab-tab-title" id="tab-title-w7NNk2uh97ds"><!--?lit$075548653$--><!--?lit$075548653$-->Cuaderno<!--?--></span>
            <!--?lit$075548653$-->
          </div>
        </md-primary-tab></md-tabs>
      <div class="layout grow"></div>
      <!--?lit$075548653$--> <md-icon-button data-aria-expanded="false" data-aria-haspopup="menu" title="Más acciones de pestañas" data-aria-label="Más acciones de pestañas" value=""><template shadowrootmode="open" shadowrootdelegatesfocus><!----><button id="button" class="icon-button  standard " aria-label="Más acciones de pestañas" aria-haspopup="menu" aria-expanded="false">
        <!--?lit$075548653$--><md-focus-ring part="focus-ring" for="button" aria-hidden="true"><template shadowrootmode="open"><!----></template></md-focus-ring>
        <!--?lit$075548653$--><md-ripple aria-hidden="true"><template shadowrootmode="open"><!----><div class="surface   "></div></template></md-ripple>
        <!--?lit$075548653$--><span class="icon"><slot></slot></span>
        <!--?lit$075548653$-->
        <!--?lit$075548653$--><span class="touch"></span>
  </button></template>
    <md-icon aria-hidden="true"><template shadowrootmode="open"><!----><slot></slot></template>more_horiz</md-icon>
  </md-icon-button>
    </div>
    <div class="layout vertical grow tab-pane-container"> <colab-tab class="layout vertical grow notebook-tab-content selected-tab"><!----> <div class="overflow-flexbox-workaround">
      <colab-shaded-scroller ignore-dom-changes="" tabindex="-1" role="main" id="notebook-main" class="notebook-container" aria-label="Cuaderno">
        <div class="notebook-scrolling-horizontal-container">
          <div class="notebook-scrolling-horizontal">
            <div class="notebook-content-background">
              <!--?lit$075548653$-->
              <div class="notebook-content ">
                <!--?lit$075548653$--><div class="add-cell">
      <hr>
    </div>
                <div class="notebook-cell-list"><div class="cell text focused" id="cell-yxedcnigQc33" tabindex="-1" role="region" aria-label="Celda 0: Celda de texto; Import modules" style=""><div class="agent-focus-label">
      <md-icon aria-hidden="true"><template shadowrootmode="open"><!----><slot></slot></template>spark</md-icon>
      <!--?lit$075548653$-->Gemini
    </div><div class="cell-tag-editor sticky"></div><div class="cell-toolbar sticky"><colab-cell-toolbar><template shadowrootmode="open"><!----><!--?lit$075548653$--><!----> <md-icon-button touch-target="none" aria-describedby="button-move-cell-up-tooltip" data-aria-label="Subir una celda
Ctrl+M K" command="move-cell-up" id="button-move-cell-up" soft-disabled="" value=""><template shadowrootmode="open" shadowrootdelegatesfocus><!----><button id="button" class="icon-button  standard " aria-label="Subir una celda
Ctrl+M K" aria-disabled="true">
        <!--?lit$075548653$--><md-focus-ring part="focus-ring" for="button" aria-hidden="true"><template shadowrootmode="open"><!----></template></md-focus-ring>
        <!--?lit$075548653$--><md-ripple disabled="" aria-hidden="true"><template shadowrootmode="open"><!----><div class="surface   "></div></template></md-ripple>
        <!--?lit$075548653$--><span class="icon"><slot></slot></span>
        <!--?lit$075548653$-->
        <!--?lit$075548653$--><span class="touch"></span>
  </button></template>
        <md-icon aria-hidden="true"><template shadowrootmode="open"><!----><slot></slot></template><!--?lit$075548653$-->arrow_upward</md-icon>
        <!--?lit$075548653$-->
      </md-icon-button>
      <colab-tooltip-trigger aria-hidden="true" for="button-move-cell-up" id="button-move-cell-up-tooltip" message="Subir una celda
Ctrl+M K"><template shadowrootmode="open"><!----><!--?lit$075548653$--><!----><div><!--?lit$075548653$-->Subir una celda</div><!----><!----><div><!--?lit$075548653$-->Ctrl+M K</div><!----><!--?--></template>
      </colab-tooltip-trigger><!----><!----> <md-icon-button touch-target="none" aria-describedby="button-move-cell-down-tooltip" data-aria-label="Bajar una celda
Ctrl+M J" command="move-cell-down" id="button-move-cell-down" value=""><template shadowrootmode="open" shadowrootdelegatesfocus><!----><button id="button" class="icon-button  standard " aria-label="Bajar una celda
Ctrl+M J">
        <!--?lit$075548653$--><md-focus-ring part="focus-ring" for="button" aria-hidden="true"><template shadowrootmode="open"><!----></template></md-focus-ring>
        <!--?lit$075548653$--><md-ripple aria-hidden="true"><template shadowrootmode="open"><!----><div class="surface   "></div></template></md-ripple>
        <!--?lit$075548653$--><span class="icon"><slot></slot></span>
        <!--?lit$075548653$-->
        <!--?lit$075548653$--><span class="touch"></span>
  </button></template>
        <md-icon aria-hidden="true"><template shadowrootmode="open"><!----><slot></slot></template><!--?lit$075548653$-->arrow_downward</md-icon>
        <!--?lit$075548653$-->
      </md-icon-button>
      <colab-tooltip-trigger aria-hidden="true" for="button-move-cell-down" id="button-move-cell-down-tooltip" message="Bajar una celda
Ctrl+M J"><template shadowrootmode="open"><!----><!--?lit$075548653$--><!----><div><!--?lit$075548653$-->Bajar una celda</div><!----><!----><div><!--?lit$075548653$-->Ctrl+M J</div><!----><!--?--></template>
      </colab-tooltip-trigger><!----><!----> <md-icon-button touch-target="none" aria-describedby="button-copy-link-to-cell-tooltip" data-aria-label="Copiar enlace a celda" command="copy-link-to-cell" id="button-copy-link-to-cell" value=""><template shadowrootmode="open" shadowrootdelegatesfocus><!----><button id="button" class="icon-button  standard " aria-label="Copiar enlace a celda">
        <!--?lit$075548653$--><md-focus-ring part="focus-ring" for="button" aria-hidden="true"><template shadowrootmode="open"><!----></template></md-focus-ring>
        <!--?lit$075548653$--><md-ripple aria-hidden="true"><template shadowrootmode="open"><!----><div class="surface   "></div></template></md-ripple>
        <!--?lit$075548653$--><span class="icon"><slot></slot></span>
        <!--?lit$075548653$-->
        <!--?lit$075548653$--><span class="touch"></span>
  </button></template>
        <md-icon aria-hidden="true"><template shadowrootmode="open"><!----><slot></slot></template><!--?lit$075548653$-->link</md-icon>
        <!--?lit$075548653$-->
      </md-icon-button>
      <colab-tooltip-trigger aria-hidden="true" for="button-copy-link-to-cell" id="button-copy-link-to-cell-tooltip" message="Copiar enlace a celda"><template shadowrootmode="open"><!----><!--?lit$075548653$--><!----><div><!--?lit$075548653$-->Copiar enlace a celda</div><!----><!--?--></template>
      </colab-tooltip-trigger><!----><!----> <md-icon-button touch-target="none" aria-describedby="button-add-comment-tooltip" data-aria-label="Añadir un comentario
Ctrl+Alt+M" command="add-comment" id="button-add-comment" value=""><template shadowrootmode="open" shadowrootdelegatesfocus><!----><button id="button" class="icon-button  standard " aria-label="Añadir un comentario
Ctrl+Alt+M">
        <!--?lit$075548653$--><md-focus-ring part="focus-ring" for="button" aria-hidden="true"><template shadowrootmode="open"><!----></template></md-focus-ring>
        <!--?lit$075548653$--><md-ripple aria-hidden="true"><template shadowrootmode="open"><!----><div class="surface   "></div></template></md-ripple>
        <!--?lit$075548653$--><span class="icon"><slot></slot></span>
        <!--?lit$075548653$-->
        <!--?lit$075548653$--><span class="touch"></span>
  </button></template>
        <md-icon aria-hidden="true"><template shadowrootmode="open"><!----><slot></slot></template><!--?lit$075548653$-->comment</md-icon>
        <!--?lit$075548653$-->
      </md-icon-button>
      <colab-tooltip-trigger aria-hidden="true" for="button-add-comment" id="button-add-comment-tooltip" message="Añadir un comentario
Ctrl+Alt+M"><template shadowrootmode="open"><!----><!--?lit$075548653$--><!----><div><!--?lit$075548653$-->Añadir un comentario</div><!----><!----><div><!--?lit$075548653$-->Ctrl+Alt+M</div><!----><!--?--></template>
      </colab-tooltip-trigger><!----><!----> <md-icon-button touch-target="none" aria-describedby="button-editor-preferences-tooltip" data-aria-label="Abrir configuración del editor" command="editor-preferences" id="button-editor-preferences" style="display: none;" value=""><template shadowrootmode="open" shadowrootdelegatesfocus><!----><button id="button" class="icon-button  standard " aria-label="Abrir configuración del editor">
        <!--?lit$075548653$--><md-focus-ring part="focus-ring" for="button" aria-hidden="true"><template shadowrootmode="open"><!----></template></md-focus-ring>
        <!--?lit$075548653$--><md-ripple aria-hidden="true"><template shadowrootmode="open"><!----><div class="surface   "></div></template></md-ripple>
        <!--?lit$075548653$--><span class="icon"><slot></slot></span>
        <!--?lit$075548653$-->
        <!--?lit$075548653$--><span class="touch"></span>
  </button></template>
        <md-icon filled="" aria-hidden="true"><template shadowrootmode="open"><!----><slot></slot></template><!--?lit$075548653$-->settings</md-icon>
        <!--?lit$075548653$-->
      </md-icon-button>
      <colab-tooltip-trigger aria-hidden="true" for="button-editor-preferences" id="button-editor-preferences-tooltip" message="Abrir configuración del editor"><template shadowrootmode="open"><!----><!--?lit$075548653$--><!----><div><!--?lit$075548653$-->Abrir configuración del editor</div><!----><!--?--></template>
      </colab-tooltip-trigger><!----><!----> <md-icon-button touch-target="none" aria-describedby="button-toggle-edit-markdown-tooltip" command="toggle-edit-markdown" id="button-toggle-edit-markdown" toggle="" data-aria-label="Editar" value=""><template shadowrootmode="open" shadowrootdelegatesfocus><!----><button id="button" class="icon-button  standard " aria-label="Editar" aria-pressed="false">
        <!--?lit$075548653$--><md-focus-ring part="focus-ring" for="button" aria-hidden="true"><template shadowrootmode="open"><!----></template></md-focus-ring>
        <!--?lit$075548653$--><md-ripple aria-hidden="true"><template shadowrootmode="open"><!----><div class="surface   "></div></template></md-ripple>
        <!--?lit$075548653$--><span class="icon"><slot></slot></span>
        <!--?lit$075548653$-->
        <!--?lit$075548653$--><span class="touch"></span>
  </button></template>
        <md-icon aria-hidden="true"><template shadowrootmode="open"><!----><slot></slot></template><!--?lit$075548653$-->edit</md-icon>
        <!--?lit$075548653$--><md-icon slot="selected" aria-hidden="true"><template shadowrootmode="open"><!----><slot></slot></template><!--?lit$075548653$-->edit_off</md-icon>
      </md-icon-button>
      <colab-tooltip-trigger aria-hidden="true" for="button-toggle-edit-markdown" id="button-toggle-edit-markdown-tooltip" message="Editar"><template shadowrootmode="open"><!----><!--?lit$075548653$--><!----><div><!--?lit$075548653$-->Editar</div><!----><!--?--></template>
      </colab-tooltip-trigger><!----><!----> <md-icon-button touch-target="none" aria-describedby="button-mirror-cell-in-tab-tooltip" data-aria-label="Replicar celda en una pestaña" command="mirror-cell-in-tab" id="button-mirror-cell-in-tab" value=""><template shadowrootmode="open" shadowrootdelegatesfocus><!----><button id="button" class="icon-button  standard " aria-label="Replicar celda en una pestaña">
        <!--?lit$075548653$--><md-focus-ring part="focus-ring" for="button" aria-hidden="true"><template shadowrootmode="open"><!----></template></md-focus-ring>
        <!--?lit$075548653$--><md-ripple aria-hidden="true"><template shadowrootmode="open"><!----><div class="surface   "></div></template></md-ripple>
        <!--?lit$075548653$--><span class="icon"><slot></slot></span>
        <!--?lit$075548653$-->
        <!--?lit$075548653$--><span class="touch"></span>
  </button></template>
        <md-icon aria-hidden="true"><template shadowrootmode="open"><!----><slot></slot></template><!--?lit$075548653$--><svg viewBox="0 0 24 24"><!--?lit$075548653$-->
      <g id="mirror-cell">
        <path d="M4,21V7H2V21a2,2,0,0,0,2,2H18V21Z"></path>
        <path d="M6,13v2H8.6L5,18.6,6.4,20,10,16.4V19h2V13Z"></path>
        <path d="M19,1H8A2,2,0,0,0,6,3v8H8V3H19V17H14v2h5a2,2,0,0,0,2-2V3A2,2,0,0,0,19,1Z"></path>
      </g></svg></md-icon>
        <!--?lit$075548653$-->
      </md-icon-button>
      <colab-tooltip-trigger aria-hidden="true" for="button-mirror-cell-in-tab" id="button-mirror-cell-in-tab-tooltip" message="Replicar celda en una pestaña"><template shadowrootmode="open"><!----><!--?lit$075548653$--><!----><div><!--?lit$075548653$-->Replicar celda en una pestaña</div><!----><!--?--></template>
      </colab-tooltip-trigger><!----><!----> <md-icon-button touch-target="none" aria-describedby="button-delete-cell-or-selection-tooltip" data-aria-label="Eliminar celda
Ctrl+M D" command="delete-cell-or-selection" id="button-delete-cell-or-selection" value=""><template shadowrootmode="open" shadowrootdelegatesfocus><!----><button id="button" class="icon-button  standard " aria-label="Eliminar celda
Ctrl+M D">
        <!--?lit$075548653$--><md-focus-ring part="focus-ring" for="button" aria-hidden="true"><template shadowrootmode="open"><!----></template></md-focus-ring>
        <!--?lit$075548653$--><md-ripple aria-hidden="true"><template shadowrootmode="open"><!----><div class="surface   "></div></template></md-ripple>
        <!--?lit$075548653$--><span class="icon"><slot></slot></span>
        <!--?lit$075548653$-->
        <!--?lit$075548653$--><span class="touch"></span>
  </button></template>
        <md-icon aria-hidden="true"><template shadowrootmode="open"><!----><slot></slot></template><!--?lit$075548653$-->delete</md-icon>
        <!--?lit$075548653$-->
      </md-icon-button>
      <colab-tooltip-trigger aria-hidden="true" for="button-delete-cell-or-selection" id="button-delete-cell-or-selection-tooltip" message="Eliminar celda
Ctrl+M D"><template shadowrootmode="open"><!----><!--?lit$075548653$--><!----><div><!--?lit$075548653$-->Eliminar celda</div><!----><!----><div><!--?lit$075548653$-->Ctrl+M D</div><!----><!--?--></template>
      </colab-tooltip-trigger><!----><!--?lit$075548653$--><md-icon-button touch-target="none" data-aria-expanded="false" data-aria-haspopup="menu" aria-describedby="button-more-actions-tooltip" data-aria-label="Más acciones en la celda" class="cell-toolbar-more" id="button-more-actions" value=""><template shadowrootmode="open" shadowrootdelegatesfocus><!----><button id="button" class="icon-button  standard " aria-label="Más acciones en la celda" aria-haspopup="menu" aria-expanded="false">
        <!--?lit$075548653$--><md-focus-ring part="focus-ring" for="button" aria-hidden="true"><template shadowrootmode="open"><!----></template></md-focus-ring>
        <!--?lit$075548653$--><md-ripple aria-hidden="true"><template shadowrootmode="open"><!----><div class="surface   "></div></template></md-ripple>
        <!--?lit$075548653$--><span class="icon"><slot></slot></span>
        <!--?lit$075548653$-->
        <!--?lit$075548653$--><span class="touch"></span>
  </button></template><md-icon aria-hidden="true"><template shadowrootmode="open"><!----><slot></slot></template>more_vert</md-icon>
      </md-icon-button>
      <colab-tooltip-trigger aria-hidden="true" for="button-more-actions" id="button-more-actions-tooltip" message="Más acciones en la celda"><template shadowrootmode="open"><!----><!--?lit$075548653$--><!----><div><!--?lit$075548653$-->Más acciones en la celda</div><!----><!--?--></template>
      </colab-tooltip-trigger><!--?--></template></colab-cell-toolbar></div><div class="main-content" elevation="2"><div class="cell-contents"><div class="cell-mask"></div><span class="imported-info-area"></span><!----> <div class="toolbar-root"></div>
      <div class="editor-container horizontal">
        <div class="editor-root"></div>
        <div class="text-top-div">
          <div class="markdown"><span><div class="text-cell-section-header layout horizontal center"><md-icon-button class="header-section-toggle" title="Ocultar 1 celda secundaria de Import modules (pulsa &lt;Mayús&gt; para ocultar también las secciones del mismo nivel)" data-aria-label="Ocultar 1 celda secundaria de Import modules (pulsa &lt;Mayús&gt; para ocultar también las secciones del mismo nivel)" value=""><template shadowrootmode="open" shadowrootdelegatesfocus><!----><button id="button" class="icon-button  standard " aria-label="Ocultar 1 celda secundaria de Import modules (pulsa &lt;Mayús&gt; para ocultar también las secciones del mismo nivel)">
        <!--?lit$075548653$--><md-focus-ring part="focus-ring" for="button" aria-hidden="true"><template shadowrootmode="open"><!----></template></md-focus-ring>
        <!--?lit$075548653$--><md-ripple aria-hidden="true"><template shadowrootmode="open"><!----><div class="surface   "></div></template></md-ripple>
        <!--?lit$075548653$--><span class="icon"><slot></slot></span>
        <!--?lit$075548653$-->
        <!--?lit$075548653$--><span class="touch"></span>
  </button></template><md-icon aria-hidden="true"><template shadowrootmode="open"><!----><slot></slot></template>keyboard_arrow_down</md-icon></md-icon-button><h1><strong>Import modules</strong></h1></div>
</span></div>
        </div>
      </div>

      <div class="section-header" style="display: none;">
        <colab-run-button><template shadowrootmode="open"><!----> <div class=" cell-execution focused ">
      <button id="run-button" aria-label="Ejecutar celda" aria-disabled="false">
        <!--?lit$075548653$--><span class="execution-count"><!--?lit$075548653$-->[ ]</span>
        <span aria-hidden="true" class="cell-execution-indicator"><!--?lit$075548653$-->
<svg xmlns="http://www.w3.org/2000/svg" viewBox="0 0 24 24">
  <!--?lit$075548653$-->
  <mask id="playSymbolMask">
    <rect width="100%" height="100%" fill="white"></rect>
    <polygon points="10,8 17,12 10,16" fill="black"></polygon>
  </mask>
  <circle cx="12" cy="12" r="7.8" mask="url(#playSymbolMask)" id="filledCircle"></circle>
</svg></span>
      </button>
      <!--?lit$075548653$-->
      <!--?lit$075548653$--><!--?-->
    </div></template></colab-run-button>
        <div class="section-header-container" title="hacer clic para mostrar">
          <md-icon aria-hidden="true"><template shadowrootmode="open"><!----><slot></slot></template>subdirectory_arrow_right</md-icon>
          <span>1 celda oculta</span>
        </div>
      </div></div></div><div class="add-cell">
      <hr>
    </div></div><div class="cell code code-has-output" id="cell-aQMXSAGJQUCP" tabindex="-1" role="region" aria-label="Celda 1: Celda de código; " style=""><div class="agent-focus-label">
      <md-icon aria-hidden="true"><template shadowrootmode="open"><!----><slot></slot></template>spark</md-icon>
      <!--?lit$075548653$-->Gemini
    </div><div class="cell-tag-editor sticky"></div><div class="cell-toolbar sticky"></div><div class="main-content" elevation="0"><div class="cell-contents"><div class="cell-mask"></div><span class="imported-info-area"></span><div class="codecell-input-output">
      <div class="inputarea horizontal layout code">
        <div class="cell-gutter">
          <!-- Bounding range for vertical scrolling of icons -->
          <div class="cell-execution-container">
            <colab-run-button><template shadowrootmode="open"><!----> <div class="cell-execution stale">
      <button id="run-button" aria-describedby="run-button-tooltip" aria-label="Ejecutar celda" aria-disabled="false">
        <!--?lit$075548653$--><span class="execution-count"><!--?lit$075548653$-->[ ]</span>
        <span aria-hidden="true" class="cell-execution-indicator"><!--?lit$075548653$-->
<svg xmlns="http://www.w3.org/2000/svg" viewBox="0 0 24 24">
  <!--?lit$075548653$-->
  <mask id="playSymbolMask">
    <rect width="100%" height="100%" fill="white"></rect>
    <polygon points="10,8 17,12 10,16" fill="black"></polygon>
  </mask>
  <circle cx="12" cy="12" r="7.8" mask="url(#playSymbolMask)" id="filledCircle"></circle>
</svg></span>
      </button>
      <!--?lit$075548653$--><colab-tooltip-trigger for="run-button" id="run-button-tooltip" aria-hidden="true" message="Ejecutar celda (Ctrl+Enter)
la celda no se ha ejecutado en esta sesión

ejecutada por Javier Hidalgo
miércoles, 19 de marzo de 2025
se ha ejecutado en 36.326 s"><template shadowrootmode="open"><!----><!--?lit$075548653$--><!----><div><!--?lit$075548653$-->Ejecutar celda (Ctrl+Enter)</div><!----><!----><div><!--?lit$075548653$-->la celda no se ha ejecutado en esta sesión</div><!----><!----><br><!----><!----><div><!--?lit$075548653$-->ejecutada por Javier Hidalgo</div><!----><!----><div><!--?lit$075548653$-->miércoles, 19 de marzo de 2025</div><!----><!----><div><!--?lit$075548653$-->se ha ejecutado en 36.326&nbsp;s</div><!----><!--?--></template>
    </colab-tooltip-trigger>
      <!--?lit$075548653$--><!--?-->
    </div></template></colab-run-button>
          </div>
        </div>
      <div class="editor flex lazy-editor" style=""><pre class="lazy-virtualized" style="font-size: 14px; line-height: 19px;"><pre class="lazy-gutter"></pre><pre class="monaco-colorized colab colab colab" data-lang="notebook-python"><span><span class="mtk19">from</span><span class="mtk1">&nbsp;google.colab&nbsp;</span><span class="mtk19">import</span><span class="mtk1">&nbsp;drive</span></span><br><span><span class="mtk1">drive.mount(</span><span class="mtk21">'/content/drive'</span><span class="mtk1">)</span></span><br><span><span class="mtk8">#&nbsp;Install&nbsp;required&nbsp;packages</span></span><br><span><span class="mtk6">!</span><span class="mtk1">pip&nbsp;install&nbsp;numpy&nbsp;pandas&nbsp;matplotlib&nbsp;seaborn&nbsp;scikit</span><span class="mtk1">-learn&nbsp;tensorflow&nbsp;keras</span></span><br><span><span></span></span><br><span><span class="mtk8">#&nbsp;Import&nbsp;necessary&nbsp;libraries</span></span><br><span><span class="mtk19">import</span><span class="mtk1">&nbsp;os</span></span><br><span><span class="mtk19">import</span><span class="mtk1">&nbsp;glob</span></span><br><span><span class="mtk19">import</span><span class="mtk1">&nbsp;random</span></span><br><span><span class="mtk19">import</span><span class="mtk1">&nbsp;numpy&nbsp;</span><span class="mtk19">as</span><span class="mtk1">&nbsp;np</span></span><br><span><span class="mtk19">import</span><span class="mtk1">&nbsp;pandas&nbsp;</span><span class="mtk19">as</span><span class="mtk1">&nbsp;pd</span></span><br><span><span class="mtk19">import</span><span class="mtk1">&nbsp;matplotlib.pyplot&nbsp;</span><span class="mtk19">as</span><span class="mtk1">&nbsp;plt</span></span><br><span><span class="mtk19">import</span><span class="mtk1">&nbsp;seaborn&nbsp;</span><span class="mtk19">as</span><span class="mtk1">&nbsp;sns</span></span><br><span><span class="mtk19">from</span><span class="mtk1">&nbsp;sklearn.preprocessing&nbsp;</span><span class="mtk19">import</span><span class="mtk1">&nbsp;MinMaxScaler</span></span><br><span><span class="mtk19">from</span><span class="mtk1">&nbsp;sklearn.metrics&nbsp;</span><span class="mtk19">import</span><span class="mtk1">&nbsp;accuracy_score,&nbsp;confusion_matrix,&nbsp;classification_</span><span class="mtk1">report,&nbsp;matthews_corrcoef</span></span><br><span><span class="mtk19">import</span><span class="mtk1">&nbsp;tensorflow&nbsp;</span><span class="mtk19">as</span><span class="mtk1">&nbsp;tf</span></span><br><span><span class="mtk19">from</span><span class="mtk1">&nbsp;tensorflow&nbsp;</span><span class="mtk19">import</span><span class="mtk1">&nbsp;keras</span></span><br><span><span class="mtk19">from</span><span class="mtk1">&nbsp;tensorflow.keras&nbsp;</span><span class="mtk19">import</span><span class="mtk1">&nbsp;layers</span></span><br><span><span class="mtk19">from</span><span class="mtk1">&nbsp;tensorflow.keras.models&nbsp;</span><span class="mtk19">import</span><span class="mtk1">&nbsp;Model</span></span><br><span><span class="mtk19">from</span><span class="mtk1">&nbsp;tensorflow.keras.callbacks&nbsp;</span><span class="mtk19">import</span><span class="mtk1">&nbsp;EarlyStopping,&nbsp;ModelCheckpoint,&nbsp;ReduceLROnPlateau</span></span><br><span><span></span></span><br><span><span class="mtk8">#&nbsp;Set&nbsp;random&nbsp;seeds&nbsp;for&nbsp;reproducibility</span></span><br><span><span class="mtk1">random.seed(</span><span class="mtk12">0</span><span class="mtk1">)</span></span><br><span><span class="mtk1">np.random.seed(</span><span class="mtk12">0</span><span class="mtk1">)</span></span><br><span><span class="mtk1">tf.random.set_seed(</span><span class="mtk12">0</span><span class="mtk1">)</span></span><br></pre><colab-read-only-cell-placeholder style="display: none;"><template shadowrootmode="open"><!----><div><!--?lit$075548653$-->Empieza a programar o a <span tabindex="0" role="button" class="link">crear código</span> con IA.</div></template></colab-read-only-cell-placeholder></pre></div><colab-form class="formview vertical layout flex"><div class="widget-area vertical layout"></div></colab-form></div>
    <div class="output" aria-label="Salida de la celda 1" role="region"><!----> <div class="output-header"> </div>
        <div class="output-content">
          <div class="output-info"><colab-output-info><template shadowrootmode="open"><!----><md-icon-button data-aria-expanded="false" data-aria-haspopup="menu" aria-describedby="button-output-actions-tooltip" data-aria-label="Acciones de salida de las celdas de código" id="button-output-actions" value=""><template shadowrootmode="open" shadowrootdelegatesfocus><!----><button id="button" class="icon-button  standard " aria-label="Acciones de salida de las celdas de código" aria-haspopup="menu" aria-expanded="false">
        <!--?lit$075548653$--><md-focus-ring part="focus-ring" for="button" aria-hidden="true"><template shadowrootmode="open"><!----></template></md-focus-ring>
        <!--?lit$075548653$--><md-ripple aria-hidden="true"><template shadowrootmode="open"><!----><div class="surface   "></div></template></md-ripple>
        <!--?lit$075548653$--><span class="icon"><slot></slot></span>
        <!--?lit$075548653$-->
        <!--?lit$075548653$--><span class="touch"></span>
  </button></template>
        <md-icon aria-hidden="true"><template shadowrootmode="open"><!----><slot></slot></template><!--?lit$075548653$--><svg viewBox="0 0 24 24"><!--?lit$075548653$--><path d="m15.9 3.07c-4.32 0.0742-8.64-0.0355-13 0.0568-1.37 0.307-1.74 2.1-1.41 3.26 0.469 0.606 1.86 0.384 1.66-0.525 0.0448-0.329-0.183-0.93 0.354-0.766h13.3v1.53h1.71c0.0709-1.13 0.141-2.62-0.968-3.3-0.511-0.264-1.11-0.252-1.67-0.259zm2.94 6.84v4.87c1.62-1.62 3.24-3.24 4.87-4.87h-4.87zm0 0h-1.71v3.43l1.57 1.57c0.32-1.65 0.0556-3.34 0.135-5zm-1.71 3.43v-3.43h-3.43c1.14 1.14 2.29 2.29 3.43 3.43zm1.4 4.27h-1.71v1.48h-13.6v-1.48h-1.71c-0.0473 1.15-0.16 2.72 1.09 3.29 1.47 0.506 3.02 0.0265 4.53 0.192 3.34-0.0051 6.68 0.0336 10-0.0245 1.49-0.366 1.56-2.22 1.42-3.45zm-10.1-1.12c-0.398-0.483-0.796-0.967-1.19-1.45 0.59-0.683 1.18-1.37 1.77-2.05h-8.67v-2h8.67c-0.59-0.683-1.18-1.37-1.77-2.05 0.398-0.483 0.796-0.967 1.19-1.45 1.28 1.5 2.56 3 3.84 4.5-1.28 1.5-2.56 3-3.84 4.5z"></path></svg></md-icon>
      </md-icon-button>
      <colab-tooltip-trigger aria-hidden="true" id="button-output-actions-tooltip" for="button-output-actions" message="Acciones de salida de las celdas de código"><template shadowrootmode="open"><!----><!--?lit$075548653$--><!----><div><!--?lit$075548653$-->Acciones de salida de las celdas de código</div><!----><!--?--></template></colab-tooltip-trigger></template></colab-output-info></div>
          <md-text-button class="output-show-output" value=""><template shadowrootmode="open" shadowrootdelegatesfocus><!---->
      <!--?lit$075548653$-->
      <div class="background"></div>
      <md-focus-ring part="focus-ring" for="button" aria-hidden="true"><template shadowrootmode="open"><!----></template></md-focus-ring>
      <md-ripple part="ripple" for="button" aria-hidden="true"><template shadowrootmode="open"><!----><div class="surface   "></div></template></md-ripple>
      <!--?lit$075548653$--><button id="button" class="button">
      <!--?lit$075548653$-->
      <span class="touch"></span>
      <!--?lit$075548653$--><slot name="icon"></slot>
      <span class="label"><slot></slot></span>
      <!--?lit$075548653$-->
    
    </button>
    </template>
          <!--?lit$075548653$-->Mostrar salida oculta
        </md-text-button><div class="output-iframe-container" hidden="">
            <div class="output-iframe-sizer"> <div><div><colab-static-output-renderer tabindex="0" role="group"><div><div class="stream output_text"><pre>Mounted at /content/drive
Requirement already satisfied: numpy in /usr/local/lib/python3.11/dist-packages (2.0.2)
Requirement already satisfied: pandas in /usr/local/lib/python3.11/dist-packages (2.2.2)
Requirement already satisfied: matplotlib in /usr/local/lib/python3.11/dist-packages (3.10.0)
Requirement already satisfied: seaborn in /usr/local/lib/python3.11/dist-packages (0.13.2)
Requirement already satisfied: scikit-learn in /usr/local/lib/python3.11/dist-packages (1.6.1)
Requirement already satisfied: tensorflow in /usr/local/lib/python3.11/dist-packages (2.18.0)
Requirement already satisfied: keras in /usr/local/lib/python3.11/dist-packages (3.8.0)
Requirement already satisfied: python-dateutil&gt;=2.8.2 in /usr/local/lib/python3.11/dist-packages (from pandas) (2.8.2)
Requirement already satisfied: pytz&gt;=2020.1 in /usr/local/lib/python3.11/dist-packages (from pandas) (2025.1)
Requirement already satisfied: tzdata&gt;=2022.7 in /usr/local/lib/python3.11/dist-packages (from pandas) (2025.1)
Requirement already satisfied: contourpy&gt;=1.0.1 in /usr/local/lib/python3.11/dist-packages (from matplotlib) (1.3.1)
Requirement already satisfied: cycler&gt;=0.10 in /usr/local/lib/python3.11/dist-packages (from matplotlib) (0.12.1)
Requirement already satisfied: fonttools&gt;=4.22.0 in /usr/local/lib/python3.11/dist-packages (from matplotlib) (4.56.0)
Requirement already satisfied: kiwisolver&gt;=1.3.1 in /usr/local/lib/python3.11/dist-packages (from matplotlib) (1.4.8)
Requirement already satisfied: packaging&gt;=20.0 in /usr/local/lib/python3.11/dist-packages (from matplotlib) (24.2)
Requirement already satisfied: pillow&gt;=8 in /usr/local/lib/python3.11/dist-packages (from matplotlib) (11.1.0)
Requirement already satisfied: pyparsing&gt;=2.3.1 in /usr/local/lib/python3.11/dist-packages (from matplotlib) (3.2.1)
Requirement already satisfied: scipy&gt;=1.6.0 in /usr/local/lib/python3.11/dist-packages (from scikit-learn) (1.14.1)
Requirement already satisfied: joblib&gt;=1.2.0 in /usr/local/lib/python3.11/dist-packages (from scikit-learn) (1.4.2)
Requirement already satisfied: threadpoolctl&gt;=3.1.0 in /usr/local/lib/python3.11/dist-packages (from scikit-learn) (3.6.0)
Requirement already satisfied: absl-py&gt;=1.0.0 in /usr/local/lib/python3.11/dist-packages (from tensorflow) (1.4.0)
Requirement already satisfied: astunparse&gt;=1.6.0 in /usr/local/lib/python3.11/dist-packages (from tensorflow) (1.6.3)
Requirement already satisfied: flatbuffers&gt;=24.3.25 in /usr/local/lib/python3.11/dist-packages (from tensorflow) (25.2.10)
Requirement already satisfied: gast!=0.5.0,!=0.5.1,!=0.5.2,&gt;=0.2.1 in /usr/local/lib/python3.11/dist-packages (from tensorflow) (0.6.0)
Requirement already satisfied: google-pasta&gt;=0.1.1 in /usr/local/lib/python3.11/dist-packages (from tensorflow) (0.2.0)
Requirement already satisfied: libclang&gt;=13.0.0 in /usr/local/lib/python3.11/dist-packages (from tensorflow) (18.1.1)
Requirement already satisfied: opt-einsum&gt;=2.3.2 in /usr/local/lib/python3.11/dist-packages (from tensorflow) (3.4.0)
Requirement already satisfied: protobuf!=4.21.0,!=4.21.1,!=4.21.2,!=4.21.3,!=4.21.4,!=4.21.5,&lt;6.0.0dev,&gt;=3.20.3 in /usr/local/lib/python3.11/dist-packages (from tensorflow) (4.25.6)
Requirement already satisfied: requests&lt;3,&gt;=2.21.0 in /usr/local/lib/python3.11/dist-packages (from tensorflow) (2.32.3)
Requirement already satisfied: setuptools in /usr/local/lib/python3.11/dist-packages (from tensorflow) (75.1.0)
Requirement already satisfied: six&gt;=1.12.0 in /usr/local/lib/python3.11/dist-packages (from tensorflow) (1.17.0)
Requirement already satisfied: termcolor&gt;=1.1.0 in /usr/local/lib/python3.11/dist-packages (from tensorflow) (2.5.0)
Requirement already satisfied: typing-extensions&gt;=3.6.6 in /usr/local/lib/python3.11/dist-packages (from tensorflow) (4.12.2)
Requirement already satisfied: wrapt&gt;=1.11.0 in /usr/local/lib/python3.11/dist-packages (from tensorflow) (1.17.2)
Requirement already satisfied: grpcio&lt;2.0,&gt;=1.24.3 in /usr/local/lib/python3.11/dist-packages (from tensorflow) (1.71.0)
Requirement already satisfied: tensorboard&lt;2.19,&gt;=2.18 in /usr/local/lib/python3.11/dist-packages (from tensorflow) (2.18.0)
Requirement already satisfied: h5py&gt;=3.11.0 in /usr/local/lib/python3.11/dist-packages (from tensorflow) (3.12.1)
Requirement already satisfied: ml-dtypes&lt;0.5.0,&gt;=0.4.0 in /usr/local/lib/python3.11/dist-packages (from tensorflow) (0.4.1)
Requirement already satisfied: tensorflow-io-gcs-filesystem&gt;=0.23.1 in /usr/local/lib/python3.11/dist-packages (from tensorflow) (0.37.1)
Requirement already satisfied: rich in /usr/local/lib/python3.11/dist-packages (from keras) (13.9.4)
Requirement already satisfied: namex in /usr/local/lib/python3.11/dist-packages (from keras) (0.0.8)
Requirement already satisfied: optree in /usr/local/lib/python3.11/dist-packages (from keras) (0.14.1)
Requirement already satisfied: wheel&lt;1.0,&gt;=0.23.0 in /usr/local/lib/python3.11/dist-packages (from astunparse&gt;=1.6.0-&gt;tensorflow) (0.45.1)
Requirement already satisfied: charset-normalizer&lt;4,&gt;=2 in /usr/local/lib/python3.11/dist-packages (from requests&lt;3,&gt;=2.21.0-&gt;tensorflow) (3.4.1)
Requirement already satisfied: idna&lt;4,&gt;=2.5 in /usr/local/lib/python3.11/dist-packages (from requests&lt;3,&gt;=2.21.0-&gt;tensorflow) (3.10)
Requirement already satisfied: urllib3&lt;3,&gt;=1.21.1 in /usr/local/lib/python3.11/dist-packages (from requests&lt;3,&gt;=2.21.0-&gt;tensorflow) (2.3.0)
Requirement already satisfied: certifi&gt;=2017.4.17 in /usr/local/lib/python3.11/dist-packages (from requests&lt;3,&gt;=2.21.0-&gt;tensorflow) (2025.1.31)
Requirement already satisfied: markdown&gt;=2.6.8 in /usr/local/lib/python3.11/dist-packages (from tensorboard&lt;2.19,&gt;=2.18-&gt;tensorflow) (3.7)
Requirement already satisfied: tensorboard-data-server&lt;0.8.0,&gt;=0.7.0 in /usr/local/lib/python3.11/dist-packages (from tensorboard&lt;2.19,&gt;=2.18-&gt;tensorflow) (0.7.2)
Requirement already satisfied: werkzeug&gt;=1.0.1 in /usr/local/lib/python3.11/dist-packages (from tensorboard&lt;2.19,&gt;=2.18-&gt;tensorflow) (3.1.3)
Requirement already satisfied: markdown-it-py&gt;=2.2.0 in /usr/local/lib/python3.11/dist-packages (from rich-&gt;keras) (3.0.0)
Requirement already satisfied: pygments&lt;3.0.0,&gt;=2.13.0 in /usr/local/lib/python3.11/dist-packages (from rich-&gt;keras) (2.18.0)
Requirement already satisfied: mdurl~=0.1 in /usr/local/lib/python3.11/dist-packages (from markdown-it-py&gt;=2.2.0-&gt;rich-&gt;keras) (0.1.2)
Requirement already satisfied: MarkupSafe&gt;=2.1.1 in /usr/local/lib/python3.11/dist-packages (from werkzeug&gt;=1.0.1-&gt;tensorboard&lt;2.19,&gt;=2.18-&gt;tensorflow) (3.0.2)
</pre></div></div><div></div></colab-static-output-renderer></div></div></div>
          </div>
        </div></div></div><colab-cell-next-steps><template shadowrootmode="open"><!----></template></colab-cell-next-steps></div></div><div class="add-cell">
      <hr>
    </div></div><div class="cell text" id="cell-SM3gameCQgYU" tabindex="-1" role="region" aria-label="Celda 2: Celda de texto; Load the data" style=""><div class="agent-focus-label">
      <md-icon aria-hidden="true"><template shadowrootmode="open"><!----><slot></slot></template>spark</md-icon>
      <!--?lit$075548653$-->Gemini
    </div><div class="cell-tag-editor sticky"></div><div class="cell-toolbar sticky"></div><div class="main-content" elevation="0"><div class="cell-contents"><div class="cell-mask"></div><span class="imported-info-area"></span><!----> <div class="toolbar-root"></div>
      <div class="editor-container horizontal">
        <div class="editor-root"></div>
        <div class="text-top-div">
          <div class="markdown"><span><div class="text-cell-section-header layout horizontal center"><md-icon-button class="header-section-toggle" title="Ocultar 1 celda secundaria de Load the data (pulsa &lt;Mayús&gt; para ocultar también las secciones del mismo nivel)" data-aria-label="Ocultar 1 celda secundaria de Load the data (pulsa &lt;Mayús&gt; para ocultar también las secciones del mismo nivel)" value=""><template shadowrootmode="open" shadowrootdelegatesfocus><!----><button id="button" class="icon-button  standard " aria-label="Ocultar 1 celda secundaria de Load the data (pulsa &lt;Mayús&gt; para ocultar también las secciones del mismo nivel)">
        <!--?lit$075548653$--><md-focus-ring part="focus-ring" for="button" aria-hidden="true"><template shadowrootmode="open"><!----></template></md-focus-ring>
        <!--?lit$075548653$--><md-ripple aria-hidden="true"><template shadowrootmode="open"><!----><div class="surface   "></div></template></md-ripple>
        <!--?lit$075548653$--><span class="icon"><slot></slot></span>
        <!--?lit$075548653$-->
        <!--?lit$075548653$--><span class="touch"></span>
  </button></template><md-icon aria-hidden="true"><template shadowrootmode="open"><!----><slot></slot></template>keyboard_arrow_down</md-icon></md-icon-button><h1><strong>Load the data</strong></h1></div>
</span></div>
        </div>
      </div>

      <div class="section-header" style="display: none;">
        <colab-run-button><template shadowrootmode="open"><!----> <div class=" cell-execution ">
      <button id="run-button" aria-label="Ejecutar celda" aria-disabled="false">
        <!--?lit$075548653$--><span class="execution-count"><!--?lit$075548653$-->[ ]</span>
        <span aria-hidden="true" class="cell-execution-indicator"><!--?lit$075548653$-->
<svg xmlns="http://www.w3.org/2000/svg" viewBox="0 0 24 24">
  <!--?lit$075548653$-->
  <mask id="playSymbolMask">
    <rect width="100%" height="100%" fill="white"></rect>
    <polygon points="10,8 17,12 10,16" fill="black"></polygon>
  </mask>
  <circle cx="12" cy="12" r="7.8" mask="url(#playSymbolMask)" id="filledCircle"></circle>
</svg></span>
      </button>
      <!--?lit$075548653$-->
      <!--?lit$075548653$--><!--?-->
    </div></template></colab-run-button>
        <div class="section-header-container" title="hacer clic para mostrar">
          <md-icon aria-hidden="true"><template shadowrootmode="open"><!----><slot></slot></template>subdirectory_arrow_right</md-icon>
          <span>1 celda oculta</span>
        </div>
      </div></div></div><div class="add-cell">
      <div class="add-cell-buttons">
        <md-outlined-button class="add-code add-button" data-aria-label="Añadir celda de código
Ctrl+M B" title="Añadir celda de código
Ctrl+M B" value="" has-icon=""><template shadowrootmode="open" shadowrootdelegatesfocus><!---->
      <!--?lit$075548653$--><div class="outline"></div>
      <div class="background"></div>
      <md-focus-ring part="focus-ring" for="button" aria-hidden="true"><template shadowrootmode="open"><!----></template></md-focus-ring>
      <md-ripple part="ripple" for="button" aria-hidden="true"><template shadowrootmode="open"><!----><div class="surface   "></div></template></md-ripple>
      <!--?lit$075548653$--><button id="button" class="button" aria-label="Añadir celda de código
Ctrl+M B">
      <!--?lit$075548653$-->
      <span class="touch"></span>
      <!--?lit$075548653$--><slot name="icon"></slot>
      <span class="label"><slot></slot></span>
      <!--?lit$075548653$-->
    
    </button>
    </template>
          <md-icon slot="icon" aria-hidden="true"><template shadowrootmode="open"><!----><slot></slot></template>add</md-icon>
          <!--?lit$075548653$-->Código
        </md-outlined-button>
        <md-outlined-button class="add-text add-button" data-aria-label="Añadir celda de texto" title="Añadir celda de texto" value="" has-icon=""><template shadowrootmode="open" shadowrootdelegatesfocus><!---->
      <!--?lit$075548653$--><div class="outline"></div>
      <div class="background"></div>
      <md-focus-ring part="focus-ring" for="button" aria-hidden="true"><template shadowrootmode="open"><!----></template></md-focus-ring>
      <md-ripple part="ripple" for="button" aria-hidden="true"><template shadowrootmode="open"><!----><div class="surface   "></div></template></md-ripple>
      <!--?lit$075548653$--><button id="button" class="button" aria-label="Añadir celda de texto">
      <!--?lit$075548653$-->
      <span class="touch"></span>
      <!--?lit$075548653$--><slot name="icon"></slot>
      <span class="label"><slot></slot></span>
      <!--?lit$075548653$-->
    
    </button>
    </template>
          <md-icon slot="icon" aria-hidden="true"><template shadowrootmode="open"><!----><slot></slot></template>add</md-icon>
          <!--?lit$075548653$-->Texto
        </md-outlined-button>
        <!--?lit$075548653$-->
        <!--?lit$075548653$-->
      </div><hr>
    </div></div><div class="cell code code-has-output" id="cell-BRw7v5toQnYD" tabindex="-1" role="region" aria-label="Celda 3: Celda de código; " style=""><div class="agent-focus-label">
      <md-icon aria-hidden="true"><template shadowrootmode="open"><!----><slot></slot></template>spark</md-icon>
      <!--?lit$075548653$-->Gemini
    </div><div class="cell-tag-editor sticky"></div><div class="cell-toolbar sticky"></div><div class="main-content" elevation="0"><div class="cell-contents"><div class="cell-mask"></div><span class="imported-info-area"></span><div class="codecell-input-output">
      <div class="inputarea horizontal layout code">
        <div class="cell-gutter">
          <!-- Bounding range for vertical scrolling of icons -->
          <div class="cell-execution-container">
            <colab-run-button><template shadowrootmode="open"><!----> <div class="cell-execution stale hovered">
      <button id="run-button" aria-describedby="run-button-tooltip" aria-label="Ejecutar celda" aria-disabled="false">
        <!--?lit$075548653$--><span class="execution-count"><!--?lit$075548653$-->[ ]</span>
        <span aria-hidden="true" class="cell-execution-indicator"><!--?lit$075548653$-->
<svg xmlns="http://www.w3.org/2000/svg" viewBox="0 0 24 24">
  <!--?lit$075548653$-->
  <mask id="playSymbolMask">
    <rect width="100%" height="100%" fill="white"></rect>
    <polygon points="10,8 17,12 10,16" fill="black"></polygon>
  </mask>
  <circle cx="12" cy="12" r="7.8" mask="url(#playSymbolMask)" id="filledCircle"></circle>
</svg></span>
      </button>
      <!--?lit$075548653$--><colab-tooltip-trigger for="run-button" id="run-button-tooltip" aria-hidden="true" message="Ejecutar celda (Ctrl+Enter)
la celda no se ha ejecutado en esta sesión

ejecutada por Javier Hidalgo
miércoles, 19 de marzo de 2025
se ha ejecutado en 736.324 s"><template shadowrootmode="open"><!----><!--?lit$075548653$--><!----><div><!--?lit$075548653$-->Ejecutar celda (Ctrl+Enter)</div><!----><!----><div><!--?lit$075548653$-->la celda no se ha ejecutado en esta sesión</div><!----><!----><br><!----><!----><div><!--?lit$075548653$-->ejecutada por Javier Hidalgo</div><!----><!----><div><!--?lit$075548653$-->miércoles, 19 de marzo de 2025</div><!----><!----><div><!--?lit$075548653$-->se ha ejecutado en 736.324&nbsp;s</div><!----><!--?--></template>
    </colab-tooltip-trigger>
      <!--?lit$075548653$--><!--?-->
    </div></template></colab-run-button>
          </div>
        </div>
      <div class="editor flex lazy-editor" style=""><div class="editor flex monaco" data-keybinding-context="2" data-mode-id="notebook-python" style="height: 3335px; --vscode-editorCodeLens-lineHeight: 16px; --vscode-editorCodeLens-fontSize: 12px; --vscode-editorCodeLens-fontFeatureSettings: &quot;liga&quot; off, &quot;calt&quot; off;"><div class="monaco-editor no-user-select  showUnused showDeprecated vs" role="code" data-uri="inmemory://model/6" style="width: 690px; height: 3335px;"><div data-mprt="3" class="overflow-guard" style="width: 690px; height: 3335px; overflow: clip;"><div class="margin" role="presentation" aria-hidden="true" style="position: absolute; contain: strict; will-change: unset; top: 0px; height: 3335px; width: 6px;"><div class="glyph-margin" style="left: 0px; width: 0px; height: 3335px;"></div><div class="margin-view-zones" role="presentation" aria-hidden="true" style="position: absolute;"></div><div class="margin-view-overlays" role="presentation" aria-hidden="true" style="position: absolute; font-family: monospace, Consolas, &quot;Courier New&quot;, monospace; font-weight: normal; font-size: 14px; font-feature-settings: &quot;liga&quot; 0, &quot;calt&quot; 0; font-variation-settings: normal; line-height: 19px; letter-spacing: 0px; width: 6px; height: 3335px;"><div style="position:absolute;top:0px;width:100%;height:19px;"><div class="current-line current-line-margin-both" style="width:6px; height:19px;"></div></div><div style="position:absolute;top:19px;width:100%;height:19px;"></div><div style="position:absolute;top:38px;width:100%;height:19px;"></div><div style="position:absolute;top:57px;width:100%;height:19px;"></div><div style="position:absolute;top:76px;width:100%;height:19px;"></div><div style="position:absolute;top:95px;width:100%;height:19px;"></div><div style="position:absolute;top:114px;width:100%;height:19px;"></div><div style="position:absolute;top:133px;width:100%;height:19px;"></div><div style="position:absolute;top:152px;width:100%;height:19px;"></div><div style="position:absolute;top:171px;width:100%;height:19px;"></div><div style="position:absolute;top:190px;width:100%;height:19px;"></div><div style="position:absolute;top:209px;width:100%;height:19px;"></div><div style="position:absolute;top:228px;width:100%;height:19px;"></div><div style="position:absolute;top:247px;width:100%;height:19px;"></div><div style="position:absolute;top:266px;width:100%;height:19px;"></div><div style="position:absolute;top:285px;width:100%;height:19px;"></div><div style="position:absolute;top:304px;width:100%;height:19px;"></div><div style="position:absolute;top:323px;width:100%;height:19px;"></div><div style="position:absolute;top:342px;width:100%;height:19px;"></div><div style="position:absolute;top:361px;width:100%;height:19px;"></div><div style="position:absolute;top:380px;width:100%;height:19px;"></div><div style="position:absolute;top:399px;width:100%;height:19px;"></div><div style="position:absolute;top:418px;width:100%;height:19px;"></div><div style="position:absolute;top:437px;width:100%;height:19px;"></div><div style="position:absolute;top:456px;width:100%;height:19px;"></div><div style="position:absolute;top:475px;width:100%;height:19px;"></div><div style="position:absolute;top:494px;width:100%;height:19px;"></div><div style="position:absolute;top:513px;width:100%;height:19px;"></div><div style="position:absolute;top:532px;width:100%;height:19px;"></div><div style="position:absolute;top:551px;width:100%;height:19px;"></div><div style="position:absolute;top:570px;width:100%;height:19px;"></div><div style="position:absolute;top:589px;width:100%;height:19px;"></div><div style="position:absolute;top:608px;width:100%;height:19px;"></div><div style="position:absolute;top:627px;width:100%;height:19px;"></div><div style="position:absolute;top:646px;width:100%;height:19px;"></div><div style="position:absolute;top:665px;width:100%;height:19px;"></div><div style="position:absolute;top:684px;width:100%;height:19px;"></div><div style="position:absolute;top:703px;width:100%;height:19px;"></div><div style="position:absolute;top:722px;width:100%;height:19px;"></div><div style="position:absolute;top:741px;width:100%;height:19px;"></div><div style="position:absolute;top:760px;width:100%;height:19px;"></div><div style="position:absolute;top:779px;width:100%;height:19px;"></div><div style="position:absolute;top:798px;width:100%;height:19px;"></div><div style="position:absolute;top:817px;width:100%;height:19px;"></div><div style="position:absolute;top:836px;width:100%;height:19px;"></div><div style="position:absolute;top:855px;width:100%;height:19px;"></div><div style="position:absolute;top:874px;width:100%;height:19px;"></div><div style="position:absolute;top:893px;width:100%;height:19px;"></div><div style="position:absolute;top:912px;width:100%;height:19px;"></div><div style="position:absolute;top:931px;width:100%;height:19px;"></div><div style="position:absolute;top:950px;width:100%;height:19px;"></div><div style="position:absolute;top:969px;width:100%;height:19px;"></div><div style="position:absolute;top:988px;width:100%;height:19px;"></div><div style="position:absolute;top:1007px;width:100%;height:19px;"></div><div style="position:absolute;top:1026px;width:100%;height:19px;"></div><div style="position:absolute;top:1045px;width:100%;height:19px;"></div><div style="position:absolute;top:1064px;width:100%;height:19px;"></div><div style="position:absolute;top:1083px;width:100%;height:19px;"></div><div style="position:absolute;top:1102px;width:100%;height:19px;"></div><div style="position:absolute;top:1121px;width:100%;height:19px;"></div><div style="position:absolute;top:1140px;width:100%;height:19px;"></div><div style="position:absolute;top:1159px;width:100%;height:19px;"></div><div style="position:absolute;top:1178px;width:100%;height:19px;"></div><div style="position:absolute;top:1197px;width:100%;height:19px;"></div><div style="position:absolute;top:1216px;width:100%;height:19px;"></div><div style="position:absolute;top:1235px;width:100%;height:19px;"></div><div style="position:absolute;top:1254px;width:100%;height:19px;"></div><div style="position:absolute;top:1273px;width:100%;height:19px;"></div><div style="position:absolute;top:1292px;width:100%;height:19px;"></div><div style="position:absolute;top:1311px;width:100%;height:19px;"></div><div style="position:absolute;top:1330px;width:100%;height:19px;"></div><div style="position:absolute;top:1349px;width:100%;height:19px;"></div><div style="position:absolute;top:1368px;width:100%;height:19px;"></div><div style="position:absolute;top:1387px;width:100%;height:19px;"></div><div style="position:absolute;top:1406px;width:100%;height:19px;"></div><div style="position:absolute;top:1425px;width:100%;height:19px;"></div><div style="position:absolute;top:1444px;width:100%;height:19px;"></div><div style="position:absolute;top:1463px;width:100%;height:19px;"></div><div style="position:absolute;top:1482px;width:100%;height:19px;"></div><div style="position:absolute;top:1501px;width:100%;height:19px;"></div><div style="position:absolute;top:1520px;width:100%;height:19px;"></div><div style="position:absolute;top:1539px;width:100%;height:19px;"></div><div style="position:absolute;top:1558px;width:100%;height:19px;"></div><div style="position:absolute;top:1577px;width:100%;height:19px;"></div><div style="position:absolute;top:1596px;width:100%;height:19px;"></div><div style="position:absolute;top:1615px;width:100%;height:19px;"></div><div style="position:absolute;top:1634px;width:100%;height:19px;"></div><div style="position:absolute;top:1653px;width:100%;height:19px;"></div><div style="position:absolute;top:1672px;width:100%;height:19px;"></div><div style="position:absolute;top:1691px;width:100%;height:19px;"></div><div style="position:absolute;top:1710px;width:100%;height:19px;"></div><div style="position:absolute;top:1729px;width:100%;height:19px;"></div><div style="position:absolute;top:1748px;width:100%;height:19px;"></div><div style="position:absolute;top:1767px;width:100%;height:19px;"></div><div style="position:absolute;top:1786px;width:100%;height:19px;"></div><div style="position:absolute;top:1805px;width:100%;height:19px;"></div><div style="position:absolute;top:1824px;width:100%;height:19px;"></div><div style="position:absolute;top:1843px;width:100%;height:19px;"></div><div style="position:absolute;top:1862px;width:100%;height:19px;"></div><div style="position:absolute;top:1881px;width:100%;height:19px;"></div><div style="position:absolute;top:1900px;width:100%;height:19px;"></div><div style="position:absolute;top:1919px;width:100%;height:19px;"></div><div style="position:absolute;top:1938px;width:100%;height:19px;"></div><div style="position:absolute;top:1957px;width:100%;height:19px;"></div><div style="position:absolute;top:1976px;width:100%;height:19px;"></div><div style="position:absolute;top:1995px;width:100%;height:19px;"></div><div style="position:absolute;top:2014px;width:100%;height:19px;"></div><div style="position:absolute;top:2033px;width:100%;height:19px;"></div><div style="position:absolute;top:2052px;width:100%;height:19px;"></div><div style="position:absolute;top:2071px;width:100%;height:19px;"></div><div style="position:absolute;top:2090px;width:100%;height:19px;"></div><div style="position:absolute;top:2109px;width:100%;height:19px;"></div><div style="position:absolute;top:2128px;width:100%;height:19px;"></div><div style="position:absolute;top:2147px;width:100%;height:19px;"></div><div style="position:absolute;top:2166px;width:100%;height:19px;"></div><div style="position:absolute;top:2185px;width:100%;height:19px;"></div><div style="position:absolute;top:2204px;width:100%;height:19px;"></div><div style="position:absolute;top:2223px;width:100%;height:19px;"></div><div style="position:absolute;top:2242px;width:100%;height:19px;"></div><div style="position:absolute;top:2261px;width:100%;height:19px;"></div><div style="position:absolute;top:2280px;width:100%;height:19px;"></div><div style="position:absolute;top:2299px;width:100%;height:19px;"></div><div style="position:absolute;top:2318px;width:100%;height:19px;"></div><div style="position:absolute;top:2337px;width:100%;height:19px;"></div><div style="position:absolute;top:2356px;width:100%;height:19px;"></div><div style="position:absolute;top:2375px;width:100%;height:19px;"></div><div style="position:absolute;top:2394px;width:100%;height:19px;"></div><div style="position:absolute;top:2413px;width:100%;height:19px;"></div><div style="position:absolute;top:2432px;width:100%;height:19px;"></div><div style="position:absolute;top:2451px;width:100%;height:19px;"></div><div style="position:absolute;top:2470px;width:100%;height:19px;"></div><div style="position:absolute;top:2489px;width:100%;height:19px;"></div><div style="position:absolute;top:2508px;width:100%;height:19px;"></div><div style="position:absolute;top:2527px;width:100%;height:19px;"></div><div style="position:absolute;top:2546px;width:100%;height:19px;"></div><div style="position:absolute;top:2565px;width:100%;height:19px;"></div><div style="position:absolute;top:2584px;width:100%;height:19px;"></div><div style="position:absolute;top:2603px;width:100%;height:19px;"></div><div style="position:absolute;top:2622px;width:100%;height:19px;"></div><div style="position:absolute;top:2641px;width:100%;height:19px;"></div><div style="position:absolute;top:2660px;width:100%;height:19px;"></div><div style="position:absolute;top:2679px;width:100%;height:19px;"></div><div style="position:absolute;top:2698px;width:100%;height:19px;"></div><div style="position:absolute;top:2717px;width:100%;height:19px;"></div><div style="position:absolute;top:2736px;width:100%;height:19px;"></div><div style="position:absolute;top:2755px;width:100%;height:19px;"></div><div style="position:absolute;top:2774px;width:100%;height:19px;"></div><div style="position:absolute;top:2793px;width:100%;height:19px;"></div><div style="position:absolute;top:2812px;width:100%;height:19px;"></div><div style="position:absolute;top:2831px;width:100%;height:19px;"></div><div style="position:absolute;top:2850px;width:100%;height:19px;"></div><div style="position:absolute;top:2869px;width:100%;height:19px;"></div><div style="position:absolute;top:2888px;width:100%;height:19px;"></div><div style="position:absolute;top:2907px;width:100%;height:19px;"></div><div style="position:absolute;top:2926px;width:100%;height:19px;"></div><div style="position:absolute;top:2945px;width:100%;height:19px;"></div><div style="position:absolute;top:2964px;width:100%;height:19px;"></div><div style="position:absolute;top:2983px;width:100%;height:19px;"></div><div style="position:absolute;top:3002px;width:100%;height:19px;"></div><div style="position:absolute;top:3021px;width:100%;height:19px;"></div><div style="position:absolute;top:3040px;width:100%;height:19px;"></div><div style="position:absolute;top:3059px;width:100%;height:19px;"></div><div style="position:absolute;top:3078px;width:100%;height:19px;"></div><div style="position:absolute;top:3097px;width:100%;height:19px;"></div><div style="position:absolute;top:3116px;width:100%;height:19px;"></div><div style="position:absolute;top:3135px;width:100%;height:19px;"></div><div style="position:absolute;top:3154px;width:100%;height:19px;"></div><div style="position:absolute;top:3173px;width:100%;height:19px;"></div><div style="position:absolute;top:3192px;width:100%;height:19px;"></div><div style="position:absolute;top:3211px;width:100%;height:19px;"></div><div style="position:absolute;top:3230px;width:100%;height:19px;"></div><div style="position:absolute;top:3249px;width:100%;height:19px;"></div><div style="position:absolute;top:3268px;width:100%;height:19px;"></div><div style="position:absolute;top:3287px;width:100%;height:19px;"></div><div style="position:absolute;top:3306px;width:100%;height:19px;"></div></div><div class="glyph-margin-widgets" style="position: absolute; top: 0px;"></div></div><div class="monaco-scrollable-element editor-scrollable vs" role="presentation" data-mprt="5" style="position: absolute; overflow: hidden; left: 6px; width: 684px; height: 3335px;"><div class="lines-content monaco-editor-background" style="position: absolute; overflow: hidden; width: 1e+06px; height: 3335px; contain: strict; will-change: unset; top: 0px; left: 0px;"><div class="view-overlays" role="presentation" aria-hidden="true" style="position: absolute; font-family: monospace, Consolas, &quot;Courier New&quot;, monospace; font-weight: normal; font-size: 14px; font-feature-settings: &quot;liga&quot; 0, &quot;calt&quot; 0; font-variation-settings: normal; line-height: 19px; letter-spacing: 0px; height: 0px; width: 922px;"><div style="position:absolute;top:0px;width:100%;height:19px;"><div class="current-line" style="width:922px; height:19px;"></div></div><div style="position:absolute;top:19px;width:100%;height:19px;"></div><div style="position:absolute;top:38px;width:100%;height:19px;"></div><div style="position:absolute;top:57px;width:100%;height:19px;"></div><div style="position:absolute;top:76px;width:100%;height:19px;"></div><div style="position:absolute;top:95px;width:100%;height:19px;"></div><div style="position:absolute;top:114px;width:100%;height:19px;"></div><div style="position:absolute;top:133px;width:100%;height:19px;"></div><div style="position:absolute;top:152px;width:100%;height:19px;"></div><div style="position:absolute;top:171px;width:100%;height:19px;"></div><div style="position:absolute;top:190px;width:100%;height:19px;"></div><div style="position:absolute;top:209px;width:100%;height:19px;"></div><div style="position:absolute;top:228px;width:100%;height:19px;"></div><div style="position:absolute;top:247px;width:100%;height:19px;"></div><div style="position:absolute;top:266px;width:100%;height:19px;"></div><div style="position:absolute;top:285px;width:100%;height:19px;"></div><div style="position:absolute;top:304px;width:100%;height:19px;"></div><div style="position:absolute;top:323px;width:100%;height:19px;"></div><div style="position:absolute;top:342px;width:100%;height:19px;"></div><div style="position:absolute;top:361px;width:100%;height:19px;"></div><div style="position:absolute;top:380px;width:100%;height:19px;"></div><div style="position:absolute;top:399px;width:100%;height:19px;"></div><div style="position:absolute;top:418px;width:100%;height:19px;"></div><div style="position:absolute;top:437px;width:100%;height:19px;"></div><div style="position:absolute;top:456px;width:100%;height:19px;"></div><div style="position:absolute;top:475px;width:100%;height:19px;"></div><div style="position:absolute;top:494px;width:100%;height:19px;"></div><div style="position:absolute;top:513px;width:100%;height:19px;"></div><div style="position:absolute;top:532px;width:100%;height:19px;"></div><div style="position:absolute;top:551px;width:100%;height:19px;"></div><div style="position:absolute;top:570px;width:100%;height:19px;"></div><div style="position:absolute;top:589px;width:100%;height:19px;"></div><div style="position:absolute;top:608px;width:100%;height:19px;"></div><div style="position:absolute;top:627px;width:100%;height:19px;"></div><div style="position:absolute;top:646px;width:100%;height:19px;"></div><div style="position:absolute;top:665px;width:100%;height:19px;"></div><div style="position:absolute;top:684px;width:100%;height:19px;"></div><div style="position:absolute;top:703px;width:100%;height:19px;"></div><div style="position:absolute;top:722px;width:100%;height:19px;"></div><div style="position:absolute;top:741px;width:100%;height:19px;"></div><div style="position:absolute;top:760px;width:100%;height:19px;"></div><div style="position:absolute;top:779px;width:100%;height:19px;"></div><div style="position:absolute;top:798px;width:100%;height:19px;"></div><div style="position:absolute;top:817px;width:100%;height:19px;"></div><div style="position:absolute;top:836px;width:100%;height:19px;"></div><div style="position:absolute;top:855px;width:100%;height:19px;"></div><div style="position:absolute;top:874px;width:100%;height:19px;"></div><div style="position:absolute;top:893px;width:100%;height:19px;"></div><div style="position:absolute;top:912px;width:100%;height:19px;"></div><div style="position:absolute;top:931px;width:100%;height:19px;"></div><div style="position:absolute;top:950px;width:100%;height:19px;"></div><div style="position:absolute;top:969px;width:100%;height:19px;"></div><div style="position:absolute;top:988px;width:100%;height:19px;"></div><div style="position:absolute;top:1007px;width:100%;height:19px;"></div><div style="position:absolute;top:1026px;width:100%;height:19px;"></div><div style="position:absolute;top:1045px;width:100%;height:19px;"></div><div style="position:absolute;top:1064px;width:100%;height:19px;"></div><div style="position:absolute;top:1083px;width:100%;height:19px;"></div><div style="position:absolute;top:1102px;width:100%;height:19px;"></div><div style="position:absolute;top:1121px;width:100%;height:19px;"></div><div style="position:absolute;top:1140px;width:100%;height:19px;"></div><div style="position:absolute;top:1159px;width:100%;height:19px;"></div><div style="position:absolute;top:1178px;width:100%;height:19px;"></div><div style="position:absolute;top:1197px;width:100%;height:19px;"></div><div style="position:absolute;top:1216px;width:100%;height:19px;"></div><div style="position:absolute;top:1235px;width:100%;height:19px;"></div><div style="position:absolute;top:1254px;width:100%;height:19px;"></div><div style="position:absolute;top:1273px;width:100%;height:19px;"></div><div style="position:absolute;top:1292px;width:100%;height:19px;"></div><div style="position:absolute;top:1311px;width:100%;height:19px;"></div><div style="position:absolute;top:1330px;width:100%;height:19px;"></div><div style="position:absolute;top:1349px;width:100%;height:19px;"></div><div style="position:absolute;top:1368px;width:100%;height:19px;"></div><div style="position:absolute;top:1387px;width:100%;height:19px;"></div><div style="position:absolute;top:1406px;width:100%;height:19px;"></div><div style="position:absolute;top:1425px;width:100%;height:19px;"></div><div style="position:absolute;top:1444px;width:100%;height:19px;"></div><div style="position:absolute;top:1463px;width:100%;height:19px;"></div><div style="position:absolute;top:1482px;width:100%;height:19px;"></div><div style="position:absolute;top:1501px;width:100%;height:19px;"></div><div style="position:absolute;top:1520px;width:100%;height:19px;"></div><div style="position:absolute;top:1539px;width:100%;height:19px;"></div><div style="position:absolute;top:1558px;width:100%;height:19px;"></div><div style="position:absolute;top:1577px;width:100%;height:19px;"></div><div style="position:absolute;top:1596px;width:100%;height:19px;"></div><div style="position:absolute;top:1615px;width:100%;height:19px;"></div><div style="position:absolute;top:1634px;width:100%;height:19px;"></div><div style="position:absolute;top:1653px;width:100%;height:19px;"></div><div style="position:absolute;top:1672px;width:100%;height:19px;"></div><div style="position:absolute;top:1691px;width:100%;height:19px;"></div><div style="position:absolute;top:1710px;width:100%;height:19px;"></div><div style="position:absolute;top:1729px;width:100%;height:19px;"></div><div style="position:absolute;top:1748px;width:100%;height:19px;"></div><div style="position:absolute;top:1767px;width:100%;height:19px;"></div><div style="position:absolute;top:1786px;width:100%;height:19px;"></div><div style="position:absolute;top:1805px;width:100%;height:19px;"></div><div style="position:absolute;top:1824px;width:100%;height:19px;"></div><div style="position:absolute;top:1843px;width:100%;height:19px;"></div><div style="position:absolute;top:1862px;width:100%;height:19px;"></div><div style="position:absolute;top:1881px;width:100%;height:19px;"></div><div style="position:absolute;top:1900px;width:100%;height:19px;"></div><div style="position:absolute;top:1919px;width:100%;height:19px;"></div><div style="position:absolute;top:1938px;width:100%;height:19px;"></div><div style="position:absolute;top:1957px;width:100%;height:19px;"></div><div style="position:absolute;top:1976px;width:100%;height:19px;"></div><div style="position:absolute;top:1995px;width:100%;height:19px;"></div><div style="position:absolute;top:2014px;width:100%;height:19px;"></div><div style="position:absolute;top:2033px;width:100%;height:19px;"></div><div style="position:absolute;top:2052px;width:100%;height:19px;"></div><div style="position:absolute;top:2071px;width:100%;height:19px;"></div><div style="position:absolute;top:2090px;width:100%;height:19px;"></div><div style="position:absolute;top:2109px;width:100%;height:19px;"></div><div style="position:absolute;top:2128px;width:100%;height:19px;"></div><div style="position:absolute;top:2147px;width:100%;height:19px;"></div><div style="position:absolute;top:2166px;width:100%;height:19px;"></div><div style="position:absolute;top:2185px;width:100%;height:19px;"></div><div style="position:absolute;top:2204px;width:100%;height:19px;"></div><div style="position:absolute;top:2223px;width:100%;height:19px;"></div><div style="position:absolute;top:2242px;width:100%;height:19px;"></div><div style="position:absolute;top:2261px;width:100%;height:19px;"></div><div style="position:absolute;top:2280px;width:100%;height:19px;"></div><div style="position:absolute;top:2299px;width:100%;height:19px;"></div><div style="position:absolute;top:2318px;width:100%;height:19px;"></div><div style="position:absolute;top:2337px;width:100%;height:19px;"></div><div style="position:absolute;top:2356px;width:100%;height:19px;"></div><div style="position:absolute;top:2375px;width:100%;height:19px;"></div><div style="position:absolute;top:2394px;width:100%;height:19px;"></div><div style="position:absolute;top:2413px;width:100%;height:19px;"></div><div style="position:absolute;top:2432px;width:100%;height:19px;"></div><div style="position:absolute;top:2451px;width:100%;height:19px;"></div><div style="position:absolute;top:2470px;width:100%;height:19px;"></div><div style="position:absolute;top:2489px;width:100%;height:19px;"></div><div style="position:absolute;top:2508px;width:100%;height:19px;"></div><div style="position:absolute;top:2527px;width:100%;height:19px;"></div><div style="position:absolute;top:2546px;width:100%;height:19px;"></div><div style="position:absolute;top:2565px;width:100%;height:19px;"></div><div style="position:absolute;top:2584px;width:100%;height:19px;"></div><div style="position:absolute;top:2603px;width:100%;height:19px;"></div><div style="position:absolute;top:2622px;width:100%;height:19px;"></div><div style="position:absolute;top:2641px;width:100%;height:19px;"></div><div style="position:absolute;top:2660px;width:100%;height:19px;"></div><div style="position:absolute;top:2679px;width:100%;height:19px;"></div><div style="position:absolute;top:2698px;width:100%;height:19px;"></div><div style="position:absolute;top:2717px;width:100%;height:19px;"></div><div style="position:absolute;top:2736px;width:100%;height:19px;"></div><div style="position:absolute;top:2755px;width:100%;height:19px;"></div><div style="position:absolute;top:2774px;width:100%;height:19px;"></div><div style="position:absolute;top:2793px;width:100%;height:19px;"></div><div style="position:absolute;top:2812px;width:100%;height:19px;"></div><div style="position:absolute;top:2831px;width:100%;height:19px;"></div><div style="position:absolute;top:2850px;width:100%;height:19px;"></div><div style="position:absolute;top:2869px;width:100%;height:19px;"></div><div style="position:absolute;top:2888px;width:100%;height:19px;"></div><div style="position:absolute;top:2907px;width:100%;height:19px;"></div><div style="position:absolute;top:2926px;width:100%;height:19px;"></div><div style="position:absolute;top:2945px;width:100%;height:19px;"></div><div style="position:absolute;top:2964px;width:100%;height:19px;"></div><div style="position:absolute;top:2983px;width:100%;height:19px;"></div><div style="position:absolute;top:3002px;width:100%;height:19px;"></div><div style="position:absolute;top:3021px;width:100%;height:19px;"></div><div style="position:absolute;top:3040px;width:100%;height:19px;"></div><div style="position:absolute;top:3059px;width:100%;height:19px;"></div><div style="position:absolute;top:3078px;width:100%;height:19px;"></div><div style="position:absolute;top:3097px;width:100%;height:19px;"></div><div style="position:absolute;top:3116px;width:100%;height:19px;"></div><div style="position:absolute;top:3135px;width:100%;height:19px;"></div><div style="position:absolute;top:3154px;width:100%;height:19px;"></div><div style="position:absolute;top:3173px;width:100%;height:19px;"></div><div style="position:absolute;top:3192px;width:100%;height:19px;"></div><div style="position:absolute;top:3211px;width:100%;height:19px;"></div><div style="position:absolute;top:3230px;width:100%;height:19px;"></div><div style="position:absolute;top:3249px;width:100%;height:19px;"></div><div style="position:absolute;top:3268px;width:100%;height:19px;"></div><div style="position:absolute;top:3287px;width:100%;height:19px;"></div><div style="position:absolute;top:3306px;width:100%;height:19px;"></div></div><div role="presentation" aria-hidden="true" class="view-rulers"><div class="view-ruler" style="width: 2px; height: 3335px; left: 615.938px;"></div></div><div class="view-zones" role="presentation" aria-hidden="true" style="position: absolute;"></div><div class="view-lines monaco-mouse-cursor-text" role="presentation" aria-hidden="true" data-mprt="7" style="position: absolute; font-family: monospace, Consolas, &quot;Courier New&quot;, monospace; font-weight: normal; font-size: 14px; font-feature-settings: &quot;liga&quot; 0, &quot;calt&quot; 0; font-variation-settings: normal; line-height: 19px; letter-spacing: 0px; width: 922px; height: 3335px;"><div style="top:0px;height:19px;" class="view-line"><span><span class="mtk8">#&nbsp;Define&nbsp;access&nbsp;path</span></span></div><div style="top:19px;height:19px;" class="view-line"><span><span class="mtk1">base_path&nbsp;=&nbsp;</span><span class="mtk21">"</span><span class="mtk21 detected-link">/content/drive/MyDrive/dataset</span><span class="mtk21">"</span></span></div><div style="top:38px;height:19px;" class="view-line"><span><span class="mtk8">#&nbsp;Folder&nbsp;paths</span></span></div><div style="top:57px;height:19px;" class="view-line"><span><span class="mtk1">pssm_folder&nbsp;=&nbsp;os.path.join</span><span class="mtk1 bracket-highlighting-0">(</span><span class="mtk1">base_path,&nbsp;</span><span class="mtk21">"pssm"</span><span class="mtk1 bracket-highlighting-0">)</span></span></div><div style="top:76px;height:19px;" class="view-line"><span><span class="mtk1">fasta_folder&nbsp;=&nbsp;os.path.join</span><span class="mtk1 bracket-highlighting-0">(</span><span class="mtk1">base_path,&nbsp;</span><span class="mtk21">"fasta"</span><span class="mtk1 bracket-highlighting-0">)</span></span></div><div style="top:95px;height:19px;" class="view-line"><span><span class="mtk1">dssp_folder&nbsp;=&nbsp;os.path.join</span><span class="mtk1 bracket-highlighting-0">(</span><span class="mtk1">base_path,&nbsp;</span><span class="mtk21">"dssp"</span><span class="mtk1 bracket-highlighting-0">)</span></span></div><div style="top:114px;height:19px;" class="view-line"><span><span class="mtk8">#&nbsp;Get&nbsp;the&nbsp;protein&nbsp;IDs</span></span></div><div style="top:133px;height:19px;" class="view-line"><span><span class="mtk1">protein_IDs&nbsp;=&nbsp;</span><span class="mtk1 bracket-highlighting-0">[</span><span class="mtk21">'.'</span><span class="mtk1">.join</span><span class="mtk1 bracket-highlighting-1">(</span><span class="mtk1">f.split</span><span class="mtk1 bracket-highlighting-2">(</span><span class="mtk21">'.'</span><span class="mtk1 bracket-highlighting-2">)</span><span class="mtk1 bracket-highlighting-2">[</span><span class="mtk1">:</span><span class="mtk12">-1</span><span class="mtk1 bracket-highlighting-2">]</span><span class="mtk1 bracket-highlighting-1">)</span><span class="mtk1">&nbsp;</span><span class="mtk19">for</span><span class="mtk1">&nbsp;f&nbsp;</span><span class="mtk6">in</span><span class="mtk1">&nbsp;os.listdir</span><span class="mtk1 bracket-highlighting-1">(</span><span class="mtk1">dssp_folder</span><span class="mtk1 bracket-highlighting-1">)</span><span class="mtk1 bracket-highlighting-0">]</span></span></div><div style="top:152px;height:19px;" class="view-line"><span><span class="mtk15">print</span><span class="mtk1 bracket-highlighting-0">(</span><span class="mtk21">'All&nbsp;paths&nbsp;obtained...'</span><span class="mtk1 bracket-highlighting-0">)</span></span></div><div style="top:171px;height:19px;" class="view-line"><span><span></span></span></div><div style="top:190px;height:19px;" class="view-line"><span><span class="mtk8">#&nbsp;Load&nbsp;the&nbsp;data</span></span></div><div style="top:209px;height:19px;" class="view-line"><span><span class="mtk6">def</span><span class="mtk1">&nbsp;</span><span class="mtk15">load_pssm</span><span class="mtk1 bracket-highlighting-0">(</span><span class="mtk16">filepath</span><span class="mtk1 bracket-highlighting-0">)</span><span class="mtk1">:</span></span></div><div style="top:228px;height:19px;" class="view-line"><span><span class="mtk1">&nbsp;&nbsp;&nbsp;&nbsp;</span><span class="mtk21">"""Load&nbsp;PSSM&nbsp;as&nbsp;a&nbsp;NumPy&nbsp;array"""</span></span></div><div style="top:247px;height:19px;" class="view-line"><span><span class="mtk1">&nbsp;&nbsp;&nbsp;&nbsp;</span><span class="mtk19">return</span><span class="mtk1">&nbsp;pd.read_csv</span><span class="mtk1 bracket-highlighting-0">(</span><span class="mtk1">filepath</span><span class="mtk1 bracket-highlighting-0">)</span><span class="mtk1">.to_numpy</span><span class="mtk1 bracket-highlighting-0">(</span><span class="mtk1 bracket-highlighting-0">)</span></span></div><div style="top:266px;height:19px;" class="view-line"><span><span></span></span></div><div style="top:285px;height:19px;" class="view-line"><span><span class="mtk6">def</span><span class="mtk1">&nbsp;</span><span class="mtk15">load_dssp</span><span class="mtk1 bracket-highlighting-0">(</span><span class="mtk16">filepath</span><span class="mtk1 bracket-highlighting-0">)</span><span class="mtk1">:</span></span></div><div style="top:304px;height:19px;" class="view-line"><span><span class="mtk1">&nbsp;&nbsp;&nbsp;&nbsp;</span><span class="mtk21">"""Load&nbsp;DSSP&nbsp;as&nbsp;a&nbsp;string"""</span></span></div><div style="top:323px;height:19px;" class="view-line"><span><span class="mtk1">&nbsp;&nbsp;&nbsp;&nbsp;labels=&nbsp;</span><span class="mtk1 bracket-highlighting-0">[</span><span class="mtk1 bracket-highlighting-0">]</span></span></div><div style="top:342px;height:19px;" class="view-line"><span><span class="mtk1">&nbsp;&nbsp;&nbsp;&nbsp;</span><span class="mtk19">with</span><span class="mtk1">&nbsp;</span><span class="mtk15">open</span><span class="mtk1 bracket-highlighting-0">(</span><span class="mtk1">filepath,&nbsp;</span><span class="mtk21">"r"</span><span class="mtk1 bracket-highlighting-0">)</span><span class="mtk1">&nbsp;</span><span class="mtk19">as</span><span class="mtk1">&nbsp;f:</span></span></div><div style="top:361px;height:19px;" class="view-line"><span><span class="mtk1">&nbsp;&nbsp;&nbsp;&nbsp;&nbsp;&nbsp;&nbsp;&nbsp;</span><span class="mtk19">return</span><span class="mtk1">&nbsp;</span><span class="mtk21">""</span><span class="mtk1">.join</span><span class="mtk1 bracket-highlighting-0">(</span><span class="mtk1">line.strip</span><span class="mtk1 bracket-highlighting-1">(</span><span class="mtk1 bracket-highlighting-1">)</span><span class="mtk1">&nbsp;</span><span class="mtk19">for</span><span class="mtk1">&nbsp;line&nbsp;</span><span class="mtk6">in</span><span class="mtk1">&nbsp;f&nbsp;</span><span class="mtk19">if</span><span class="mtk1">&nbsp;</span><span class="mtk6">not</span><span class="mtk1">&nbsp;line.startswith</span><span class="mtk1 bracket-highlighting-1">(</span><span class="mtk21">"&gt;"</span><span class="mtk1 bracket-highlighting-1">)</span><span class="mtk1 bracket-highlighting-0">)</span></span></div><div style="top:380px;height:19px;" class="view-line"><span><span></span></span></div><div style="top:399px;height:19px;" class="view-line"><span><span class="mtk6">def</span><span class="mtk1">&nbsp;</span><span class="mtk15">load_fasta</span><span class="mtk1 bracket-highlighting-0">(</span><span class="mtk16">filepath</span><span class="mtk1 bracket-highlighting-0">)</span><span class="mtk1">:</span></span></div><div style="top:418px;height:19px;" class="view-line"><span><span class="mtk1">&nbsp;&nbsp;&nbsp;&nbsp;</span><span class="mtk21">"""Load&nbsp;FASTA&nbsp;sequence&nbsp;as&nbsp;a&nbsp;string"""</span></span></div><div style="top:437px;height:19px;" class="view-line"><span><span class="mtk1">&nbsp;&nbsp;&nbsp;&nbsp;labels_indexs=&nbsp;</span><span class="mtk1 bracket-highlighting-0">[</span><span class="mtk1 bracket-highlighting-0">]</span></span></div><div style="top:456px;height:19px;" class="view-line"><span><span class="mtk1">&nbsp;&nbsp;&nbsp;&nbsp;</span><span class="mtk19">with</span><span class="mtk1">&nbsp;</span><span class="mtk15">open</span><span class="mtk1 bracket-highlighting-0">(</span><span class="mtk1">filepath,&nbsp;</span><span class="mtk21">"r"</span><span class="mtk1 bracket-highlighting-0">)</span><span class="mtk1">&nbsp;</span><span class="mtk19">as</span><span class="mtk1">&nbsp;f:</span></span></div><div style="top:475px;height:19px;" class="view-line"><span><span class="mtk1">&nbsp;&nbsp;&nbsp;&nbsp;&nbsp;&nbsp;&nbsp;&nbsp;</span><span class="mtk19">return</span><span class="mtk1">&nbsp;</span><span class="mtk21">""</span><span class="mtk1">.join</span><span class="mtk1 bracket-highlighting-0">(</span><span class="mtk1">line.strip</span><span class="mtk1 bracket-highlighting-1">(</span><span class="mtk1 bracket-highlighting-1">)</span><span class="mtk1">&nbsp;</span><span class="mtk19">for</span><span class="mtk1">&nbsp;line&nbsp;</span><span class="mtk6">in</span><span class="mtk1">&nbsp;f&nbsp;</span><span class="mtk19">if</span><span class="mtk1">&nbsp;</span><span class="mtk6">not</span><span class="mtk1">&nbsp;line.startswith</span><span class="mtk1 bracket-highlighting-1">(</span><span class="mtk21">"&gt;"</span><span class="mtk1 bracket-highlighting-1">)</span><span class="mtk1 bracket-highlighting-0">)</span></span></div><div style="top:494px;height:19px;" class="view-line"><span><span></span></span></div><div style="top:513px;height:19px;" class="view-line"><span><span class="mtk8">#&nbsp;One-hot-encode</span></span></div><div style="top:532px;height:19px;" class="view-line"><span><span class="mtk1">voc_aa&nbsp;=&nbsp;</span><span class="mtk21">'ARNDCQEGHILKMFPSTWYV'</span></span></div><div style="top:551px;height:19px;" class="view-line"><span><span class="mtk6">def</span><span class="mtk1">&nbsp;</span><span class="mtk15">one_hot_encode_fasta</span><span class="mtk1 bracket-highlighting-0">(</span><span class="mtk16">seq</span><span class="mtk1 bracket-highlighting-0">)</span><span class="mtk1">:</span></span></div><div style="top:570px;height:19px;" class="view-line"><span><span class="mtk1">&nbsp;&nbsp;&nbsp;&nbsp;</span><span class="mtk21">"""Convert&nbsp;FASTA&nbsp;sequence&nbsp;to&nbsp;one-hot&nbsp;encoded&nbsp;NumPy</span><span class="mtk21">&nbsp;array"""</span></span></div><div style="top:589px;height:19px;" class="view-line"><span><span class="mtk1">&nbsp;&nbsp;&nbsp;</span><span class="mtk8">#&nbsp;Create&nbsp;mapping&nbsp;of&nbsp;amino&nbsp;acids&nbsp;to&nbsp;indices</span></span></div><div style="top:608px;height:19px;" class="view-line"><span><span class="mtk1">&nbsp;&nbsp;&nbsp;&nbsp;aa_to_idx&nbsp;=&nbsp;</span><span class="mtk1 bracket-highlighting-0">{</span><span class="mtk1">aa:&nbsp;i&nbsp;</span><span class="mtk19">for</span><span class="mtk1">&nbsp;i,&nbsp;aa&nbsp;</span><span class="mtk6">in</span><span class="mtk1">&nbsp;</span><span class="mtk15">enumerate</span><span class="mtk1 bracket-highlighting-1">(</span><span class="mtk1">voc_aa</span><span class="mtk1 bracket-highlighting-1">)</span><span class="mtk1 bracket-highlighting-0">}</span></span></div><div style="top:627px;height:19px;" class="view-line"><span><span></span></span></div><div style="top:646px;height:19px;" class="view-line"><span><span class="mtk1">&nbsp;&nbsp;&nbsp;&nbsp;</span><span class="mtk8">#&nbsp;Initialize&nbsp;one-hot&nbsp;matrix</span></span></div><div style="top:665px;height:19px;" class="view-line"><span><span class="mtk1">&nbsp;&nbsp;&nbsp;&nbsp;one_hot&nbsp;=&nbsp;np.zeros</span><span class="mtk1 bracket-highlighting-0">(</span><span class="mtk1 bracket-highlighting-1">(</span><span class="mtk15">len</span><span class="mtk1 bracket-highlighting-2">(</span><span class="mtk1">seq</span><span class="mtk1 bracket-highlighting-2">)</span><span class="mtk1">,&nbsp;</span><span class="mtk12">20</span><span class="mtk1 bracket-highlighting-1">)</span><span class="mtk1 bracket-highlighting-0">)</span></span></div><div style="top:684px;height:19px;" class="view-line"><span><span></span></span></div><div style="top:703px;height:19px;" class="view-line"><span><span class="mtk1">&nbsp;&nbsp;&nbsp;&nbsp;</span><span class="mtk8">#&nbsp;Fill&nbsp;one-hot&nbsp;matrix</span></span></div><div style="top:722px;height:19px;" class="view-line"><span><span class="mtk1">&nbsp;&nbsp;&nbsp;&nbsp;</span><span class="mtk19">for</span><span class="mtk1">&nbsp;i,&nbsp;aa&nbsp;</span><span class="mtk6">in</span><span class="mtk1">&nbsp;</span><span class="mtk15">enumerate</span><span class="mtk1 bracket-highlighting-0">(</span><span class="mtk1">seq</span><span class="mtk1 bracket-highlighting-0">)</span><span class="mtk1">:</span></span></div><div style="top:741px;height:19px;" class="view-line"><span><span class="mtk1">&nbsp;&nbsp;&nbsp;&nbsp;&nbsp;&nbsp;&nbsp;&nbsp;</span><span class="mtk19">if</span><span class="mtk1">&nbsp;aa&nbsp;</span><span class="mtk6">in</span><span class="mtk1">&nbsp;aa_to_idx:&nbsp;&nbsp;</span><span class="mtk8">#&nbsp;Check&nbsp;if&nbsp;amino&nbsp;acid&nbsp;is&nbsp;in&nbsp;vocabulary</span></span></div><div style="top:760px;height:19px;" class="view-line"><span><span class="mtk1">&nbsp;&nbsp;&nbsp;&nbsp;&nbsp;&nbsp;&nbsp;&nbsp;&nbsp;&nbsp;&nbsp;&nbsp;one_hot</span><span class="mtk1 bracket-highlighting-0">[</span><span class="mtk1">i,&nbsp;aa_to_idx</span><span class="mtk1 bracket-highlighting-1">[</span><span class="mtk1">aa</span><span class="mtk1 bracket-highlighting-1">]</span><span class="mtk1 bracket-highlighting-0">]</span><span class="mtk1">&nbsp;=&nbsp;</span><span class="mtk12">1</span></span></div><div style="top:779px;height:19px;" class="view-line"><span><span class="mtk1">&nbsp;&nbsp;&nbsp;&nbsp;</span><span class="mtk19">return</span><span class="mtk1">&nbsp;one_hot</span></span></div><div style="top:798px;height:19px;" class="view-line"><span><span></span></span></div><div style="top:817px;height:19px;" class="view-line"><span><span class="mtk1">voc_ss=&nbsp;</span><span class="mtk21">'HECX'</span></span></div><div style="top:836px;height:19px;" class="view-line"><span><span class="mtk6">def</span><span class="mtk1">&nbsp;</span><span class="mtk15">one_hot_encode_dssp</span><span class="mtk1 bracket-highlighting-0">(</span><span class="mtk16">seq</span><span class="mtk1 bracket-highlighting-0">)</span><span class="mtk1">:</span></span></div><div style="top:855px;height:19px;" class="view-line"><span><span class="mtk1">&nbsp;&nbsp;&nbsp;&nbsp;</span><span class="mtk21">"""Convert&nbsp;DSSP&nbsp;sequence&nbsp;to&nbsp;one-hot&nbsp;encoded&nbsp;NumPy&nbsp;</span><span class="mtk21">array"""</span></span></div><div style="top:874px;height:19px;" class="view-line"><span><span class="mtk1">&nbsp;&nbsp;&nbsp;</span><span class="mtk8">#&nbsp;Create&nbsp;mapping&nbsp;of&nbsp;amino&nbsp;acids&nbsp;to&nbsp;indices</span></span></div><div style="top:893px;height:19px;" class="view-line"><span><span class="mtk1">&nbsp;&nbsp;&nbsp;&nbsp;dssp_to_idx&nbsp;=&nbsp;</span><span class="mtk1 bracket-highlighting-0">{</span><span class="mtk1">aa:&nbsp;i&nbsp;</span><span class="mtk19">for</span><span class="mtk1">&nbsp;i,&nbsp;aa&nbsp;</span><span class="mtk6">in</span><span class="mtk1">&nbsp;</span><span class="mtk15">enumerate</span><span class="mtk1 bracket-highlighting-1">(</span><span class="mtk1">voc_ss</span><span class="mtk1 bracket-highlighting-1">)</span><span class="mtk1 bracket-highlighting-0">}</span></span></div><div style="top:912px;height:19px;" class="view-line"><span><span></span></span></div><div style="top:931px;height:19px;" class="view-line"><span><span class="mtk1">&nbsp;&nbsp;&nbsp;&nbsp;</span><span class="mtk8">#&nbsp;Initialize&nbsp;one-hot&nbsp;matrix</span></span></div><div style="top:950px;height:19px;" class="view-line"><span><span class="mtk1">&nbsp;&nbsp;&nbsp;&nbsp;one_hot&nbsp;=&nbsp;np.zeros</span><span class="mtk1 bracket-highlighting-0">(</span><span class="mtk1 bracket-highlighting-1">(</span><span class="mtk15">len</span><span class="mtk1 bracket-highlighting-2">(</span><span class="mtk1">seq</span><span class="mtk1 bracket-highlighting-2">)</span><span class="mtk1">,&nbsp;</span><span class="mtk12">4</span><span class="mtk1 bracket-highlighting-1">)</span><span class="mtk1 bracket-highlighting-0">)</span></span></div><div style="top:969px;height:19px;" class="view-line"><span><span></span></span></div><div style="top:988px;height:19px;" class="view-line"><span><span class="mtk1">&nbsp;&nbsp;&nbsp;&nbsp;</span><span class="mtk8">#&nbsp;Fill&nbsp;one-hot&nbsp;matrix</span></span></div><div style="top:1007px;height:19px;" class="view-line"><span><span class="mtk1">&nbsp;&nbsp;&nbsp;&nbsp;</span><span class="mtk19">for</span><span class="mtk1">&nbsp;i,&nbsp;ss&nbsp;</span><span class="mtk6">in</span><span class="mtk1">&nbsp;</span><span class="mtk15">enumerate</span><span class="mtk1 bracket-highlighting-0">(</span><span class="mtk1">seq</span><span class="mtk1 bracket-highlighting-0">)</span><span class="mtk1">:</span></span></div><div style="top:1026px;height:19px;" class="view-line"><span><span class="mtk1">&nbsp;&nbsp;&nbsp;&nbsp;&nbsp;&nbsp;&nbsp;&nbsp;</span><span class="mtk19">if</span><span class="mtk1">&nbsp;ss&nbsp;</span><span class="mtk6">in</span><span class="mtk1">&nbsp;dssp_to_idx:&nbsp;&nbsp;</span><span class="mtk8">#&nbsp;Check&nbsp;if&nbsp;amino&nbsp;acid&nbsp;is&nbsp;in&nbsp;vocabulary</span></span></div><div style="top:1045px;height:19px;" class="view-line"><span><span class="mtk1">&nbsp;&nbsp;&nbsp;&nbsp;&nbsp;&nbsp;&nbsp;&nbsp;&nbsp;&nbsp;&nbsp;&nbsp;one_hot</span><span class="mtk1 bracket-highlighting-0">[</span><span class="mtk1">i,&nbsp;dssp_to_idx</span><span class="mtk1 bracket-highlighting-1">[</span><span class="mtk1">ss</span><span class="mtk1 bracket-highlighting-1">]</span><span class="mtk1 bracket-highlighting-0">]</span><span class="mtk1">&nbsp;=&nbsp;</span><span class="mtk12">1</span></span></div><div style="top:1064px;height:19px;" class="view-line"><span><span class="mtk1">&nbsp;&nbsp;&nbsp;&nbsp;</span><span class="mtk19">return</span><span class="mtk1">&nbsp;one_hot</span></span></div><div style="top:1083px;height:19px;" class="view-line"><span><span></span></span></div><div style="top:1102px;height:19px;" class="view-line"><span><span class="mtk8">#&nbsp;Spliting&nbsp;the&nbsp;data</span></span></div><div style="top:1121px;height:19px;" class="view-line"><span><span class="mtk8">#&nbsp;Split&nbsp;data&nbsp;into&nbsp;train,&nbsp;validation,&nbsp;and&nbsp;test&nbsp;sets</span></span></div><div style="top:1140px;height:19px;" class="view-line"><span><span class="mtk6">def</span><span class="mtk1">&nbsp;</span><span class="mtk15">split_data</span><span class="mtk1 bracket-highlighting-0">(</span><span class="mtk16">X</span><span class="mtk1">,&nbsp;</span><span class="mtk16">y</span><span class="mtk1">,&nbsp;</span><span class="mtk16">train_ratio</span><span class="mtk1">=</span><span class="mtk12">0.8</span><span class="mtk1">,&nbsp;</span><span class="mtk16">val_ratio</span><span class="mtk1">=</span><span class="mtk12">0.1</span><span class="mtk1">,&nbsp;</span><span class="mtk16">test_ratio</span><span class="mtk1">=</span><span class="mtk12">0.1</span><span class="mtk1 bracket-highlighting-0">)</span><span class="mtk1">:</span></span></div><div style="top:1159px;height:19px;" class="view-line"><span><span class="mtk1">&nbsp;&nbsp;&nbsp;&nbsp;</span><span class="mtk21">"""Split&nbsp;data&nbsp;into&nbsp;train,&nbsp;validation,&nbsp;and&nbsp;test&nbsp;set</span><span class="mtk21">s"""</span></span></div><div style="top:1178px;height:19px;" class="view-line"><span><span class="mtk1">&nbsp;&nbsp;&nbsp;&nbsp;</span><span class="mtk8">#&nbsp;Ensure&nbsp;random&nbsp;seed&nbsp;is&nbsp;set&nbsp;to&nbsp;0&nbsp;for&nbsp;reproducibili</span><span class="mtk8">ty</span></span></div><div style="top:1197px;height:19px;" class="view-line"><span><span class="mtk1">&nbsp;&nbsp;&nbsp;&nbsp;np.random.seed</span><span class="mtk1 bracket-highlighting-0">(</span><span class="mtk12">0</span><span class="mtk1 bracket-highlighting-0">)</span></span></div><div style="top:1216px;height:19px;" class="view-line"><span><span></span></span></div><div style="top:1235px;height:19px;" class="view-line"><span><span class="mtk1">&nbsp;&nbsp;&nbsp;&nbsp;n&nbsp;=&nbsp;</span><span class="mtk15">len</span><span class="mtk1 bracket-highlighting-0">(</span><span class="mtk1">X</span><span class="mtk1 bracket-highlighting-0">)</span></span></div><div style="top:1254px;height:19px;" class="view-line"><span><span class="mtk1">&nbsp;&nbsp;&nbsp;&nbsp;indices&nbsp;=&nbsp;np.random.permutation</span><span class="mtk1 bracket-highlighting-0">(</span><span class="mtk1">n</span><span class="mtk1 bracket-highlighting-0">)</span></span></div><div style="top:1273px;height:19px;" class="view-line"><span><span></span></span></div><div style="top:1292px;height:19px;" class="view-line"><span><span class="mtk1">&nbsp;&nbsp;&nbsp;&nbsp;</span><span class="mtk8">#&nbsp;Calculate&nbsp;split&nbsp;indices</span></span></div><div style="top:1311px;height:19px;" class="view-line"><span><span class="mtk1">&nbsp;&nbsp;&nbsp;&nbsp;train_end&nbsp;=&nbsp;</span><span class="mtk14">int</span><span class="mtk1 bracket-highlighting-0">(</span><span class="mtk1">train_ratio&nbsp;*&nbsp;n</span><span class="mtk1 bracket-highlighting-0">)</span></span></div><div style="top:1330px;height:19px;" class="view-line"><span><span class="mtk1">&nbsp;&nbsp;&nbsp;&nbsp;val_end&nbsp;=&nbsp;train_end&nbsp;+&nbsp;</span><span class="mtk14">int</span><span class="mtk1 bracket-highlighting-0">(</span><span class="mtk1">val_ratio&nbsp;*&nbsp;n</span><span class="mtk1 bracket-highlighting-0">)</span></span></div><div style="top:1349px;height:19px;" class="view-line"><span><span></span></span></div><div style="top:1368px;height:19px;" class="view-line"><span><span class="mtk1">&nbsp;&nbsp;&nbsp;&nbsp;</span><span class="mtk8">#&nbsp;Split&nbsp;indices</span></span></div><div style="top:1387px;height:19px;" class="view-line"><span><span class="mtk1">&nbsp;&nbsp;&nbsp;&nbsp;train_indices&nbsp;=&nbsp;indices</span><span class="mtk1 bracket-highlighting-0">[</span><span class="mtk1">:train_end</span><span class="mtk1 bracket-highlighting-0">]</span></span></div><div style="top:1406px;height:19px;" class="view-line"><span><span class="mtk1">&nbsp;&nbsp;&nbsp;&nbsp;val_indices&nbsp;=&nbsp;indices</span><span class="mtk1 bracket-highlighting-0">[</span><span class="mtk1">train_end:val_end</span><span class="mtk1 bracket-highlighting-0">]</span></span></div><div style="top:1425px;height:19px;" class="view-line"><span><span class="mtk1">&nbsp;&nbsp;&nbsp;&nbsp;test_indices&nbsp;=&nbsp;indices</span><span class="mtk1 bracket-highlighting-0">[</span><span class="mtk1">val_end:</span><span class="mtk1 bracket-highlighting-0">]</span></span></div><div style="top:1444px;height:19px;" class="view-line"><span><span></span></span></div><div style="top:1463px;height:19px;" class="view-line"><span><span class="mtk1">&nbsp;&nbsp;&nbsp;&nbsp;</span><span class="mtk8">#&nbsp;Create&nbsp;splits</span></span></div><div style="top:1482px;height:19px;" class="view-line"><span><span class="mtk1">&nbsp;&nbsp;&nbsp;&nbsp;X_train&nbsp;=&nbsp;</span><span class="mtk1 bracket-highlighting-0">[</span><span class="mtk1">X</span><span class="mtk1 bracket-highlighting-1">[</span><span class="mtk1">i</span><span class="mtk1 bracket-highlighting-1">]</span><span class="mtk1">&nbsp;</span><span class="mtk19">for</span><span class="mtk1">&nbsp;i&nbsp;</span><span class="mtk6">in</span><span class="mtk1">&nbsp;train_indices</span><span class="mtk1 bracket-highlighting-0">]</span></span></div><div style="top:1501px;height:19px;" class="view-line"><span><span class="mtk1">&nbsp;&nbsp;&nbsp;&nbsp;y_train&nbsp;=&nbsp;</span><span class="mtk1 bracket-highlighting-0">[</span><span class="mtk1">y</span><span class="mtk1 bracket-highlighting-1">[</span><span class="mtk1">i</span><span class="mtk1 bracket-highlighting-1">]</span><span class="mtk1">&nbsp;</span><span class="mtk19">for</span><span class="mtk1">&nbsp;i&nbsp;</span><span class="mtk6">in</span><span class="mtk1">&nbsp;train_indices</span><span class="mtk1 bracket-highlighting-0">]</span></span></div><div style="top:1520px;height:19px;" class="view-line"><span><span></span></span></div><div style="top:1539px;height:19px;" class="view-line"><span><span class="mtk1">&nbsp;&nbsp;&nbsp;&nbsp;X_val&nbsp;=&nbsp;</span><span class="mtk1 bracket-highlighting-0">[</span><span class="mtk1">X</span><span class="mtk1 bracket-highlighting-1">[</span><span class="mtk1">i</span><span class="mtk1 bracket-highlighting-1">]</span><span class="mtk1">&nbsp;</span><span class="mtk19">for</span><span class="mtk1">&nbsp;i&nbsp;</span><span class="mtk6">in</span><span class="mtk1">&nbsp;val_indices</span><span class="mtk1 bracket-highlighting-0">]</span></span></div><div style="top:1558px;height:19px;" class="view-line"><span><span class="mtk1">&nbsp;&nbsp;&nbsp;&nbsp;y_val&nbsp;=&nbsp;</span><span class="mtk1 bracket-highlighting-0">[</span><span class="mtk1">y</span><span class="mtk1 bracket-highlighting-1">[</span><span class="mtk1">i</span><span class="mtk1 bracket-highlighting-1">]</span><span class="mtk1">&nbsp;</span><span class="mtk19">for</span><span class="mtk1">&nbsp;i&nbsp;</span><span class="mtk6">in</span><span class="mtk1">&nbsp;val_indices</span><span class="mtk1 bracket-highlighting-0">]</span></span></div><div style="top:1577px;height:19px;" class="view-line"><span><span></span></span></div><div style="top:1596px;height:19px;" class="view-line"><span><span class="mtk1">&nbsp;&nbsp;&nbsp;&nbsp;X_test&nbsp;=&nbsp;</span><span class="mtk1 bracket-highlighting-0">[</span><span class="mtk1">X</span><span class="mtk1 bracket-highlighting-1">[</span><span class="mtk1">i</span><span class="mtk1 bracket-highlighting-1">]</span><span class="mtk1">&nbsp;</span><span class="mtk19">for</span><span class="mtk1">&nbsp;i&nbsp;</span><span class="mtk6">in</span><span class="mtk1">&nbsp;test_indices</span><span class="mtk1 bracket-highlighting-0">]</span></span></div><div style="top:1615px;height:19px;" class="view-line"><span><span class="mtk1">&nbsp;&nbsp;&nbsp;&nbsp;y_test&nbsp;=&nbsp;</span><span class="mtk1 bracket-highlighting-0">[</span><span class="mtk1">y</span><span class="mtk1 bracket-highlighting-1">[</span><span class="mtk1">i</span><span class="mtk1 bracket-highlighting-1">]</span><span class="mtk1">&nbsp;</span><span class="mtk19">for</span><span class="mtk1">&nbsp;i&nbsp;</span><span class="mtk6">in</span><span class="mtk1">&nbsp;test_indices</span><span class="mtk1 bracket-highlighting-0">]</span></span></div><div style="top:1634px;height:19px;" class="view-line"><span><span></span></span></div><div style="top:1653px;height:19px;" class="view-line"><span><span class="mtk1">&nbsp;&nbsp;&nbsp;&nbsp;</span><span class="mtk19">return</span><span class="mtk1">&nbsp;X_train,&nbsp;y_train,&nbsp;X_val,&nbsp;y_val,&nbsp;X_test,&nbsp;y_test</span></span></div><div style="top:1672px;height:19px;" class="view-line"><span><span></span></span></div><div style="top:1691px;height:19px;" class="view-line"><span><span class="mtk19">import</span><span class="mtk1">&nbsp;numpy&nbsp;</span><span class="mtk19">as</span><span class="mtk1">&nbsp;np</span></span></div><div style="top:1710px;height:19px;" class="view-line"><span><span class="mtk19">import</span><span class="mtk1">&nbsp;tensorflow&nbsp;</span><span class="mtk19">as</span><span class="mtk1">&nbsp;tf</span></span></div><div style="top:1729px;height:19px;" class="view-line"><span><span></span></span></div><div style="top:1748px;height:19px;" class="view-line"><span><span class="mtk8">#&nbsp;We&nbsp;write&nbsp;a&nbsp;function&nbsp;for&nbsp;padding&nbsp;the&nbsp;dssp&nbsp;data&nbsp;wi</span><span class="mtk8">th&nbsp;coils&nbsp;=&nbsp;[1,&nbsp;0,&nbsp;0]</span></span></div><div style="top:1767px;height:19px;" class="view-line"><span><span class="mtk6">def</span><span class="mtk1">&nbsp;</span><span class="mtk15">pad_dssp</span><span class="mtk1 bracket-highlighting-0">(</span><span class="mtk16">dssp_data</span><span class="mtk1">,&nbsp;</span><span class="mtk16">max_len</span><span class="mtk1 bracket-highlighting-0">)</span><span class="mtk1">:</span></span></div><div style="top:1786px;height:19px;" class="view-line"><span><span class="mtk1">&nbsp;&nbsp;&nbsp;&nbsp;</span><span class="mtk21">"""Pad&nbsp;DSSP&nbsp;data&nbsp;with&nbsp;a&nbsp;dummy&nbsp;4th&nbsp;class&nbsp;to&nbsp;the&nbsp;sam</span><span class="mtk21">e&nbsp;length"""</span></span></div><div style="top:1805px;height:19px;" class="view-line"><span><span class="mtk1">&nbsp;&nbsp;&nbsp;&nbsp;padded_data&nbsp;=&nbsp;</span><span class="mtk1 bracket-highlighting-0">[</span><span class="mtk1 bracket-highlighting-0">]</span></span></div><div style="top:1824px;height:19px;" class="view-line"><span><span class="mtk1">&nbsp;&nbsp;&nbsp;&nbsp;pad_value&nbsp;=&nbsp;np.array</span><span class="mtk1 bracket-highlighting-0">(</span><span class="mtk1 bracket-highlighting-1">[</span><span class="mtk12">0</span><span class="mtk1">,&nbsp;</span><span class="mtk12">0</span><span class="mtk1">,&nbsp;</span><span class="mtk12">0</span><span class="mtk1">,&nbsp;</span><span class="mtk12">1</span><span class="mtk1 bracket-highlighting-1">]</span><span class="mtk1 bracket-highlighting-0">)</span></span></div><div style="top:1843px;height:19px;" class="view-line"><span><span class="mtk1">&nbsp;&nbsp;&nbsp;&nbsp;</span><span class="mtk19">for</span><span class="mtk1">&nbsp;dssp&nbsp;</span><span class="mtk6">in</span><span class="mtk1">&nbsp;dssp_data:</span></span></div><div style="top:1862px;height:19px;" class="view-line"><span><span class="mtk1">&nbsp;&nbsp;&nbsp;&nbsp;&nbsp;&nbsp;num_padding&nbsp;=&nbsp;max_len&nbsp;-&nbsp;</span><span class="mtk15">len</span><span class="mtk1 bracket-highlighting-0">(</span><span class="mtk1">dssp</span><span class="mtk1 bracket-highlighting-0">)</span></span></div><div style="top:1881px;height:19px;" class="view-line"><span><span class="mtk1">&nbsp;&nbsp;&nbsp;&nbsp;&nbsp;&nbsp;</span><span class="mtk19">if</span><span class="mtk1">&nbsp;num_padding&nbsp;&gt;&nbsp;</span><span class="mtk12">0</span><span class="mtk1">:</span></span></div><div style="top:1900px;height:19px;" class="view-line"><span><span class="mtk1">&nbsp;&nbsp;&nbsp;&nbsp;&nbsp;&nbsp;&nbsp;&nbsp;&nbsp;&nbsp;padding&nbsp;=&nbsp;np.tile</span><span class="mtk1 bracket-highlighting-0">(</span><span class="mtk1">pad_value,&nbsp;</span><span class="mtk1 bracket-highlighting-1">(</span><span class="mtk1">num_padding,&nbsp;</span><span class="mtk12">1</span><span class="mtk1 bracket-highlighting-1">)</span><span class="mtk1 bracket-highlighting-0">)</span></span></div><div style="top:1919px;height:19px;" class="view-line"><span><span class="mtk1">&nbsp;&nbsp;&nbsp;&nbsp;&nbsp;&nbsp;&nbsp;&nbsp;&nbsp;&nbsp;padded_seq&nbsp;=&nbsp;np.vstack</span><span class="mtk1 bracket-highlighting-0">(</span><span class="mtk1 bracket-highlighting-1">[</span><span class="mtk1">dssp,&nbsp;padding</span><span class="mtk1 bracket-highlighting-1">]</span><span class="mtk1 bracket-highlighting-0">)</span></span></div><div style="top:1938px;height:19px;" class="view-line"><span><span class="mtk1">&nbsp;&nbsp;&nbsp;&nbsp;&nbsp;&nbsp;</span><span class="mtk19">else</span><span class="mtk1">:</span></span></div><div style="top:1957px;height:19px;" class="view-line"><span><span class="mtk1">&nbsp;&nbsp;&nbsp;&nbsp;&nbsp;&nbsp;&nbsp;&nbsp;padded_seq&nbsp;=&nbsp;dssp</span><span class="mtk1 bracket-highlighting-0">[</span><span class="mtk1">:max_len</span><span class="mtk1 bracket-highlighting-0">]</span><span class="mtk1">&nbsp;&nbsp;</span><span class="mtk8">#&nbsp;Truncate&nbsp;if&nbsp;longer&nbsp;than&nbsp;max_len</span></span></div><div style="top:1976px;height:19px;" class="view-line"><span><span></span></span></div><div style="top:1995px;height:19px;" class="view-line"><span><span class="mtk1">&nbsp;&nbsp;&nbsp;&nbsp;&nbsp;&nbsp;padded_data.append</span><span class="mtk1 bracket-highlighting-0">(</span><span class="mtk1">padded_seq</span><span class="mtk1 bracket-highlighting-0">)</span></span></div><div style="top:2014px;height:19px;" class="view-line"><span><span></span></span></div><div style="top:2033px;height:19px;" class="view-line"><span><span class="mtk1">&nbsp;&nbsp;&nbsp;&nbsp;</span><span class="mtk19">return</span><span class="mtk1">&nbsp;padded_data</span></span></div><div style="top:2052px;height:19px;" class="view-line"><span><span></span></span></div><div style="top:2071px;height:19px;" class="view-line"><span><span></span></span></div><div style="top:2090px;height:19px;" class="view-line"><span><span class="mtk8">#&nbsp;Load&nbsp;all&nbsp;data</span></span></div><div style="top:2109px;height:19px;" class="view-line"><span><span class="mtk15">print</span><span class="mtk1 bracket-highlighting-0">(</span><span class="mtk21">'Loading&nbsp;data...'</span><span class="mtk1 bracket-highlighting-0">)</span></span></div><div style="top:2128px;height:19px;" class="view-line"><span><span class="mtk1">fasta_data&nbsp;=&nbsp;</span><span class="mtk1 bracket-highlighting-0">[</span><span class="mtk1 bracket-highlighting-0">]</span></span></div><div style="top:2147px;height:19px;" class="view-line"><span><span class="mtk1">dssp_data&nbsp;=&nbsp;</span><span class="mtk1 bracket-highlighting-0">[</span><span class="mtk1 bracket-highlighting-0">]</span></span></div><div style="top:2166px;height:19px;" class="view-line"><span><span class="mtk1">pssm_data&nbsp;=&nbsp;</span><span class="mtk1 bracket-highlighting-0">[</span><span class="mtk1 bracket-highlighting-0">]</span></span></div><div style="top:2185px;height:19px;" class="view-line"><span><span></span></span></div><div style="top:2204px;height:19px;" class="view-line"><span><span class="mtk19">for</span><span class="mtk1">&nbsp;protein&nbsp;</span><span class="mtk6">in</span><span class="mtk1">&nbsp;protein_IDs:</span></span></div><div style="top:2223px;height:19px;" class="view-line"><span><span class="mtk1">&nbsp;&nbsp;</span><span class="mtk8">#&nbsp;Get&nbsp;the&nbsp;paths</span></span></div><div style="top:2242px;height:19px;" class="view-line"><span><span class="mtk1">&nbsp;&nbsp;fasta_path&nbsp;=&nbsp;os.path.join</span><span class="mtk1 bracket-highlighting-0">(</span><span class="mtk1">fasta_folder,&nbsp;protein&nbsp;+&nbsp;</span><span class="mtk21">'.fasta'</span><span class="mtk1 bracket-highlighting-0">)</span></span></div><div style="top:2261px;height:19px;" class="view-line"><span><span class="mtk1">&nbsp;&nbsp;dssp_path&nbsp;=&nbsp;os.path.join</span><span class="mtk1 bracket-highlighting-0">(</span><span class="mtk1">dssp_folder,&nbsp;protein&nbsp;+&nbsp;</span><span class="mtk21">'.dssp'</span><span class="mtk1 bracket-highlighting-0">)</span></span></div><div style="top:2280px;height:19px;" class="view-line"><span><span class="mtk1">&nbsp;&nbsp;pssm_path&nbsp;=&nbsp;os.path.join</span><span class="mtk1 bracket-highlighting-0">(</span><span class="mtk1">pssm_folder,&nbsp;protein&nbsp;+&nbsp;</span><span class="mtk21">'.csv'</span><span class="mtk1 bracket-highlighting-0">)</span></span></div><div style="top:2299px;height:19px;" class="view-line"><span><span></span></span></div><div style="top:2318px;height:19px;" class="view-line"><span><span class="mtk1">&nbsp;&nbsp;fasta_file&nbsp;=&nbsp;load_fasta</span><span class="mtk1 bracket-highlighting-0">(</span><span class="mtk1">fasta_path</span><span class="mtk1 bracket-highlighting-0">)</span></span></div><div style="top:2337px;height:19px;" class="view-line"><span><span class="mtk1">&nbsp;&nbsp;dssp_file&nbsp;=&nbsp;load_dssp</span><span class="mtk1 bracket-highlighting-0">(</span><span class="mtk1">dssp_path</span><span class="mtk1 bracket-highlighting-0">)</span></span></div><div style="top:2356px;height:19px;" class="view-line"><span><span class="mtk1">&nbsp;&nbsp;pssm_file&nbsp;=&nbsp;load_pssm</span><span class="mtk1 bracket-highlighting-0">(</span><span class="mtk1">pssm_path</span><span class="mtk1 bracket-highlighting-0">)</span></span></div><div style="top:2375px;height:19px;" class="view-line"><span><span></span></span></div><div style="top:2394px;height:19px;" class="view-line"><span><span class="mtk1">&nbsp;&nbsp;&nbsp;&nbsp;</span><span class="mtk8">#&nbsp;Check&nbsp;that&nbsp;files&nbsp;have&nbsp;the&nbsp;same&nbsp;len</span></span></div><div style="top:2413px;height:19px;" class="view-line"><span><span class="mtk1">&nbsp;&nbsp;</span><span class="mtk19">if</span><span class="mtk1">&nbsp;</span><span class="mtk15">len</span><span class="mtk1 bracket-highlighting-0">(</span><span class="mtk1">fasta_file</span><span class="mtk1 bracket-highlighting-0">)</span><span class="mtk1">&nbsp;!=&nbsp;</span><span class="mtk15">len</span><span class="mtk1 bracket-highlighting-0">(</span><span class="mtk1">dssp_file</span><span class="mtk1 bracket-highlighting-0">)</span><span class="mtk1">&nbsp;</span><span class="mtk6">or</span><span class="mtk1">&nbsp;</span><span class="mtk15">len</span><span class="mtk1 bracket-highlighting-0">(</span><span class="mtk1">fasta_file</span><span class="mtk1 bracket-highlighting-0">)</span><span class="mtk1">&nbsp;!=&nbsp;</span><span class="mtk15">len</span><span class="mtk1 bracket-highlighting-0">(</span><span class="mtk1">pssm_file</span><span class="mtk1 bracket-highlighting-0">)</span><span class="mtk1">:</span></span></div><div style="top:2432px;height:19px;" class="view-line"><span><span class="mtk1">&nbsp;&nbsp;&nbsp;&nbsp;</span><span class="mtk15">print</span><span class="mtk1 bracket-highlighting-0">(</span><span class="mtk6">f</span><span class="mtk21">"Skipping&nbsp;</span><span class="mtk1 bracket-highlighting-1">{</span><span class="mtk1">protein</span><span class="mtk1 bracket-highlighting-1">}</span><span class="mtk21">&nbsp;due&nbsp;to&nbsp;different&nbsp;lengths"</span><span class="mtk1 bracket-highlighting-0">)</span></span></div><div style="top:2451px;height:19px;" class="view-line"><span><span class="mtk1">&nbsp;&nbsp;&nbsp;&nbsp;</span><span class="mtk15">print</span><span class="mtk1 bracket-highlighting-0">(</span><span class="mtk6">f</span><span class="mtk21">"fasta:&nbsp;</span><span class="mtk1 bracket-highlighting-1">{</span><span class="mtk15">len</span><span class="mtk1 bracket-highlighting-2">(</span><span class="mtk1">fasta_file</span><span class="mtk1 bracket-highlighting-2">)</span><span class="mtk1 bracket-highlighting-1">}</span><span class="mtk21">,&nbsp;dssp:&nbsp;</span><span class="mtk1 bracket-highlighting-1">{</span><span class="mtk15">len</span><span class="mtk1 bracket-highlighting-2">(</span><span class="mtk1">dssp_file</span><span class="mtk1 bracket-highlighting-2">)</span><span class="mtk1 bracket-highlighting-1">}</span><span class="mtk21">,&nbsp;pssm:&nbsp;</span><span class="mtk1 bracket-highlighting-1">{</span><span class="mtk15">len</span><span class="mtk1 bracket-highlighting-2">(</span><span class="mtk1">pssm_file</span><span class="mtk1 bracket-highlighting-2">)</span><span class="mtk1 bracket-highlighting-1">}</span><span class="mtk21">"</span><span class="mtk1 bracket-highlighting-0">)</span></span></div><div style="top:2470px;height:19px;" class="view-line"><span><span class="mtk1">&nbsp;&nbsp;&nbsp;&nbsp;</span><span class="mtk19">continue</span></span></div><div style="top:2489px;height:19px;" class="view-line"><span><span class="mtk1">&nbsp;&nbsp;</span><span class="mtk19">else</span><span class="mtk1">:</span></span></div><div style="top:2508px;height:19px;" class="view-line"><span><span class="mtk1">&nbsp;&nbsp;&nbsp;&nbsp;&nbsp;&nbsp;</span><span class="mtk8">#&nbsp;One-hot&nbsp;encode&nbsp;sequences</span></span></div><div style="top:2527px;height:19px;" class="view-line"><span><span class="mtk1">&nbsp;&nbsp;&nbsp;&nbsp;fasta_encoded&nbsp;=&nbsp;one_hot_encode_fasta</span><span class="mtk1 bracket-highlighting-0">(</span><span class="mtk1">fasta_file</span><span class="mtk1 bracket-highlighting-0">)</span></span></div><div style="top:2546px;height:19px;" class="view-line"><span><span class="mtk1">&nbsp;&nbsp;&nbsp;&nbsp;dssp_encoded&nbsp;=&nbsp;one_hot_encode_dssp</span><span class="mtk1 bracket-highlighting-0">(</span><span class="mtk1">dssp_file</span><span class="mtk1 bracket-highlighting-0">)</span></span></div><div style="top:2565px;height:19px;" class="view-line"><span><span></span></span></div><div style="top:2584px;height:19px;" class="view-line"><span><span class="mtk1">&nbsp;&nbsp;&nbsp;&nbsp;&nbsp;&nbsp;</span><span class="mtk8">#&nbsp;Store&nbsp;data</span></span></div><div style="top:2603px;height:19px;" class="view-line"><span><span class="mtk1">&nbsp;&nbsp;&nbsp;&nbsp;fasta_data.append</span><span class="mtk1 bracket-highlighting-0">(</span><span class="mtk1">fasta_encoded</span><span class="mtk1 bracket-highlighting-0">)</span></span></div><div style="top:2622px;height:19px;" class="view-line"><span><span class="mtk1">&nbsp;&nbsp;&nbsp;&nbsp;dssp_data.append</span><span class="mtk1 bracket-highlighting-0">(</span><span class="mtk1">dssp_encoded</span><span class="mtk1 bracket-highlighting-0">)</span></span></div><div style="top:2641px;height:19px;" class="view-line"><span><span class="mtk1">&nbsp;&nbsp;&nbsp;&nbsp;pssm_data.append</span><span class="mtk1 bracket-highlighting-0">(</span><span class="mtk1">pssm_file</span><span class="mtk1 bracket-highlighting-0">)</span></span></div><div style="top:2660px;height:19px;" class="view-line"><span><span></span></span></div><div style="top:2679px;height:19px;" class="view-line"><span><span class="mtk1">max_len&nbsp;=&nbsp;</span><span class="mtk15">max</span><span class="mtk1 bracket-highlighting-0">(</span><span class="mtk15">max</span><span class="mtk1 bracket-highlighting-1">(</span><span class="mtk15">len</span><span class="mtk1 bracket-highlighting-2">(</span><span class="mtk1">seq</span><span class="mtk1 bracket-highlighting-2">)</span><span class="mtk1">&nbsp;</span><span class="mtk19">for</span><span class="mtk1">&nbsp;seq&nbsp;</span><span class="mtk6">in</span><span class="mtk1">&nbsp;fasta_data</span><span class="mtk1 bracket-highlighting-1">)</span><span class="mtk1">,</span></span></div><div style="top:2698px;height:19px;" class="view-line"><span><span class="mtk1">&nbsp;&nbsp;&nbsp;&nbsp;&nbsp;&nbsp;&nbsp;&nbsp;&nbsp;&nbsp;&nbsp;&nbsp;&nbsp;&nbsp;</span><span class="mtk15">max</span><span class="mtk1 bracket-highlighting-1">(</span><span class="mtk15">len</span><span class="mtk1 bracket-highlighting-2">(</span><span class="mtk1">seq</span><span class="mtk1 bracket-highlighting-2">)</span><span class="mtk1">&nbsp;</span><span class="mtk19">for</span><span class="mtk1">&nbsp;seq&nbsp;</span><span class="mtk6">in</span><span class="mtk1">&nbsp;dssp_data</span><span class="mtk1 bracket-highlighting-1">)</span><span class="mtk1">,</span></span></div><div style="top:2717px;height:19px;" class="view-line"><span><span class="mtk1">&nbsp;&nbsp;&nbsp;&nbsp;&nbsp;&nbsp;&nbsp;&nbsp;&nbsp;&nbsp;&nbsp;&nbsp;&nbsp;&nbsp;</span><span class="mtk15">max</span><span class="mtk1 bracket-highlighting-1">(</span><span class="mtk15">len</span><span class="mtk1 bracket-highlighting-2">(</span><span class="mtk1">seq</span><span class="mtk1 bracket-highlighting-2">)</span><span class="mtk1">&nbsp;</span><span class="mtk19">for</span><span class="mtk1">&nbsp;seq&nbsp;</span><span class="mtk6">in</span><span class="mtk1">&nbsp;pssm_data</span><span class="mtk1 bracket-highlighting-1">)</span><span class="mtk1 bracket-highlighting-0">)</span></span></div><div style="top:2736px;height:19px;" class="view-line"><span><span class="mtk8">#&nbsp;Pad&nbsp;the&nbsp;data</span></span></div><div style="top:2755px;height:19px;" class="view-line"><span><span class="mtk1">dssp_data&nbsp;=&nbsp;pad_dssp</span><span class="mtk1 bracket-highlighting-0">(</span><span class="mtk1">dssp_data,&nbsp;max_len</span><span class="mtk1 bracket-highlighting-0">)</span></span></div><div style="top:2774px;height:19px;" class="view-line"><span><span class="mtk1">pssm_data&nbsp;=&nbsp;tf.keras.preprocessing.sequence.pad_se</span><span class="mtk1">quences</span><span class="mtk1 bracket-highlighting-0">(</span><span class="mtk1">pssm_data,&nbsp;maxlen=max_len,&nbsp;padding=</span><span class="mtk21">"post"</span><span class="mtk1 bracket-highlighting-0">)</span></span></div><div style="top:2793px;height:19px;" class="view-line"><span><span class="mtk1">fasta_data&nbsp;=&nbsp;tf.keras.preprocessing.sequence.pad_s</span><span class="mtk1">equences</span><span class="mtk1 bracket-highlighting-0">(</span><span class="mtk1">fasta_data,&nbsp;maxlen=max_len,&nbsp;padding=</span><span class="mtk21">"post"</span><span class="mtk1 bracket-highlighting-0">)</span></span></div><div style="top:2812px;height:19px;" class="view-line"><span><span class="mtk8">#&nbsp;Split&nbsp;into&nbsp;80%&nbsp;training,&nbsp;10%&nbsp;validation,&nbsp;10%&nbsp;tes</span><span class="mtk8">t</span></span></div><div style="top:2831px;height:19px;" class="view-line"><span><span class="mtk15">print</span><span class="mtk1 bracket-highlighting-0">(</span><span class="mtk21">'Splitting&nbsp;data...'</span><span class="mtk1 bracket-highlighting-0">)</span></span></div><div style="top:2850px;height:19px;" class="view-line"><span><span class="mtk1">fasta_train,&nbsp;dssp_train,&nbsp;fasta_val,&nbsp;dssp_val,&nbsp;fast</span><span class="mtk1">a_test,&nbsp;dssp_test&nbsp;=&nbsp;split_data</span><span class="mtk1 bracket-highlighting-0">(</span><span class="mtk1">fasta_data,&nbsp;dssp_data</span><span class="mtk1 bracket-highlighting-0">)</span></span></div><div style="top:2869px;height:19px;" class="view-line"><span><span class="mtk1">pssm_train,&nbsp;dssp_train_pssm,&nbsp;pssm_val,&nbsp;dssp_val_ps</span><span class="mtk1">sm,&nbsp;pssm_test,&nbsp;dssp_test_pssm&nbsp;=&nbsp;split_data</span><span class="mtk1 bracket-highlighting-0">(</span><span class="mtk1">pssm_data,&nbsp;dssp_data</span><span class="mtk1 bracket-highlighting-0">)</span></span></div><div style="top:2888px;height:19px;" class="view-line"><span><span></span></span></div><div style="top:2907px;height:19px;" class="view-line"><span><span class="mtk15">print</span><span class="mtk1 bracket-highlighting-0">(</span><span class="mtk6">f</span><span class="mtk21">"Training&nbsp;samples:&nbsp;</span><span class="mtk1 bracket-highlighting-1">{</span><span class="mtk15">len</span><span class="mtk1 bracket-highlighting-2">(</span><span class="mtk1">fasta_train</span><span class="mtk1 bracket-highlighting-2">)</span><span class="mtk1 bracket-highlighting-1">}</span><span class="mtk21">"</span><span class="mtk1 bracket-highlighting-0">)</span></span></div><div style="top:2926px;height:19px;" class="view-line"><span><span class="mtk15">print</span><span class="mtk1 bracket-highlighting-0">(</span><span class="mtk6">f</span><span class="mtk21">"Validation&nbsp;samples:&nbsp;</span><span class="mtk1 bracket-highlighting-1">{</span><span class="mtk15">len</span><span class="mtk1 bracket-highlighting-2">(</span><span class="mtk1">fasta_val</span><span class="mtk1 bracket-highlighting-2">)</span><span class="mtk1 bracket-highlighting-1">}</span><span class="mtk21">"</span><span class="mtk1 bracket-highlighting-0">)</span></span></div><div style="top:2945px;height:19px;" class="view-line"><span><span class="mtk15">print</span><span class="mtk1 bracket-highlighting-0">(</span><span class="mtk6">f</span><span class="mtk21">"Test&nbsp;samples:&nbsp;</span><span class="mtk1 bracket-highlighting-1">{</span><span class="mtk15">len</span><span class="mtk1 bracket-highlighting-2">(</span><span class="mtk1">fasta_test</span><span class="mtk1 bracket-highlighting-2">)</span><span class="mtk1 bracket-highlighting-1">}</span><span class="mtk21">"</span><span class="mtk1 bracket-highlighting-0">)</span></span></div><div style="top:2964px;height:19px;" class="view-line"><span><span></span></span></div><div style="top:2983px;height:19px;" class="view-line"><span><span></span></span></div><div style="top:3002px;height:19px;" class="view-line"><span><span></span></span></div><div style="top:3021px;height:19px;" class="view-line"><span><span class="mtk8">#&nbsp;Transform&nbsp;into&nbsp;np.arrays</span></span></div><div style="top:3040px;height:19px;" class="view-line"><span><span class="mtk1">pssm_train&nbsp;=&nbsp;np.array</span><span class="mtk1 bracket-highlighting-0">(</span><span class="mtk1">pssm_train</span><span class="mtk1 bracket-highlighting-0">)</span></span></div><div style="top:3059px;height:19px;" class="view-line"><span><span class="mtk1">dssp_train_pssm&nbsp;=&nbsp;np.array</span><span class="mtk1 bracket-highlighting-0">(</span><span class="mtk1">dssp_train_pssm</span><span class="mtk1 bracket-highlighting-0">)</span></span></div><div style="top:3078px;height:19px;" class="view-line"><span><span class="mtk1">pssm_val&nbsp;=&nbsp;np.array</span><span class="mtk1 bracket-highlighting-0">(</span><span class="mtk1">pssm_val</span><span class="mtk1 bracket-highlighting-0">)</span></span></div><div style="top:3097px;height:19px;" class="view-line"><span><span class="mtk1">dssp_val_pssm&nbsp;=&nbsp;np.array</span><span class="mtk1 bracket-highlighting-0">(</span><span class="mtk1">dssp_val_pssm</span><span class="mtk1 bracket-highlighting-0">)</span></span></div><div style="top:3116px;height:19px;" class="view-line"><span><span class="mtk1">pssm_test&nbsp;=&nbsp;np.array</span><span class="mtk1 bracket-highlighting-0">(</span><span class="mtk1">pssm_test</span><span class="mtk1 bracket-highlighting-0">)</span></span></div><div style="top:3135px;height:19px;" class="view-line"><span><span class="mtk1">dssp_test_pssm&nbsp;=&nbsp;np.array</span><span class="mtk1 bracket-highlighting-0">(</span><span class="mtk1">dssp_test_pssm</span><span class="mtk1 bracket-highlighting-0">)</span></span></div><div style="top:3154px;height:19px;" class="view-line"><span><span class="mtk1">fasta_train&nbsp;=&nbsp;np.array</span><span class="mtk1 bracket-highlighting-0">(</span><span class="mtk1">fasta_train</span><span class="mtk1 bracket-highlighting-0">)</span></span></div><div style="top:3173px;height:19px;" class="view-line"><span><span class="mtk1">dssp_train&nbsp;=&nbsp;np.array</span><span class="mtk1 bracket-highlighting-0">(</span><span class="mtk1">dssp_train</span><span class="mtk1 bracket-highlighting-0">)</span></span></div><div style="top:3192px;height:19px;" class="view-line"><span><span class="mtk1">fasta_val&nbsp;=&nbsp;np.array</span><span class="mtk1 bracket-highlighting-0">(</span><span class="mtk1">fasta_val</span><span class="mtk1 bracket-highlighting-0">)</span></span></div><div style="top:3211px;height:19px;" class="view-line"><span><span class="mtk1">dssp_val&nbsp;=&nbsp;np.array</span><span class="mtk1 bracket-highlighting-0">(</span><span class="mtk1">dssp_val</span><span class="mtk1 bracket-highlighting-0">)</span></span></div><div style="top:3230px;height:19px;" class="view-line"><span><span class="mtk1">fasta_test&nbsp;=&nbsp;np.array</span><span class="mtk1 bracket-highlighting-0">(</span><span class="mtk1">fasta_test</span><span class="mtk1 bracket-highlighting-0">)</span></span></div><div style="top:3249px;height:19px;" class="view-line"><span><span class="mtk1">dssp_test&nbsp;=&nbsp;np.array</span><span class="mtk1 bracket-highlighting-0">(</span><span class="mtk1">dssp_test</span><span class="mtk1 bracket-highlighting-0">)</span></span></div><div style="top:3268px;height:19px;" class="view-line"><span><span class="mtk15">print</span><span class="mtk1 bracket-highlighting-0">(</span><span class="mtk21">'Data&nbsp;loaded&nbsp;and&nbsp;proccessed!'</span><span class="mtk1 bracket-highlighting-0">)</span></span></div><div style="top:3287px;height:19px;" class="view-line"><span><span></span></span></div><div style="top:3306px;height:19px;" class="view-line"><span><span></span></span></div></div><div data-mprt="1" class="contentWidgets" style="position: absolute; top: 0px;"></div><div role="presentation" aria-hidden="true" class="cursors-layer cursor-line-style cursor-solid"><div class="cursor monaco-mouse-cursor-text " style="height: 19px; top: 0px; left: 0px; font-family: monospace, Consolas, &quot;Courier New&quot;, monospace; font-weight: normal; font-size: 14px; font-feature-settings: &quot;liga&quot; 0, &quot;calt&quot; 0; font-variation-settings: normal; line-height: 19px; letter-spacing: 0px; display: block; visibility: hidden; padding-left: 0px; width: 2px;"></div></div></div><div role="presentation" aria-hidden="true" class="visible scrollbar horizontal" style="position: absolute; width: 670px; height: 10px; left: 0px; bottom: 0px;"><div class="slider" style="position: absolute; top: 0px; left: 0px; height: 10px; transform: translate3d(0px, 0px, 0px); contain: strict; will-change: unset; width: 497px;"></div></div><canvas class="decorationsOverviewRuler" aria-hidden="true" width="21" height="5002" style="position: absolute; transform: translate3d(0px, 0px, 0px); contain: strict; top: 0px; right: 0px; width: 14px; height: 3335px; will-change: unset; display: block;"></canvas><div role="presentation" aria-hidden="true" class="invisible scrollbar vertical" style="position: absolute; width: 14px; height: 3335px; right: 0px; top: 0px;"><div class="slider" style="position: absolute; top: 0px; left: 0px; width: 14px; transform: translate3d(0px, 0px, 0px); contain: strict; will-change: unset; height: 3335px;"></div></div></div><div role="presentation" aria-hidden="true" style="width: 690px;"></div><textarea data-mprt="6" class="inputarea monaco-mouse-cursor-text" wrap="on" autocorrect="off" autocapitalize="off" autocomplete="off" spellcheck="false" aria-label="Editor content;Press Alt+F1 for Accessibility Options." tabindex="0" role="textbox" aria-roledescription="editor" aria-multiline="true" aria-haspopup="false" aria-autocomplete="both" style="tab-size: 15.3984px; font-family: monospace, Consolas, &quot;Courier New&quot;, monospace; font-weight: normal; font-size: 14px; font-feature-settings: &quot;liga&quot; 0, &quot;calt&quot; 0; font-variation-settings: normal; line-height: 19px; letter-spacing: 0px; top: 0px; left: 6px; width: 76992px; height: 1px;"></textarea><div class="monaco-editor-background textAreaCover" style="position: absolute; top: 0px; left: 0px; width: 0px; height: 0px;"></div><div data-mprt="4" class="overlayWidgets" style="width: 690px;"><div widgetid="editor.contrib.quickInputWidget" style="position: absolute; top: 0px; right: 50%;"></div></div><div data-mprt="8" class="minimap slider-mouseover" role="presentation" aria-hidden="true" style="position: absolute; left: 0px; width: 0px; height: 3335px;"><div class="minimap-shadow-hidden" style="height: 3335px;"></div><canvas width="0" height="5002" style="position: absolute; left: 0px; width: 0px; height: 3335px;"></canvas><canvas class="minimap-decorations-layer" width="0" height="5002" style="position: absolute; left: 0px; width: 0px; height: 3335px;"></canvas><div class="minimap-slider" style="position: absolute; transform: translate3d(0px, 0px, 0px); contain: strict; width: 0px; will-change: unset;"><div class="minimap-slider-horizontal" style="position: absolute; width: 0px; height: 0px;"></div></div></div><div role="presentation" aria-hidden="true" class="blockDecorations-container"></div></div><div data-mprt="2" class="overflowingContentWidgets"></div><div class=".in-cell-overflowing"></div></div></div></div><colab-form class="formview vertical layout flex"><div class="widget-area vertical layout"></div></colab-form></div>
    <div class="output" aria-label="Salida de la celda 3" role="region"><!----> <div class="output-header"> </div>
        <div class="output-content">
          <div class="output-info"><colab-output-info><template shadowrootmode="open"><!----><md-icon-button data-aria-expanded="false" data-aria-haspopup="menu" aria-describedby="button-output-actions-tooltip" data-aria-label="Acciones de salida de las celdas de código" id="button-output-actions" value=""><template shadowrootmode="open" shadowrootdelegatesfocus><!----><button id="button" class="icon-button  standard " aria-label="Acciones de salida de las celdas de código" aria-haspopup="menu" aria-expanded="false">
        <!--?lit$075548653$--><md-focus-ring part="focus-ring" for="button" aria-hidden="true"><template shadowrootmode="open"><!----></template></md-focus-ring>
        <!--?lit$075548653$--><md-ripple aria-hidden="true"><template shadowrootmode="open"><!----><div class="surface   "></div></template></md-ripple>
        <!--?lit$075548653$--><span class="icon"><slot></slot></span>
        <!--?lit$075548653$-->
        <!--?lit$075548653$--><span class="touch"></span>
  </button></template>
        <md-icon aria-hidden="true"><template shadowrootmode="open"><!----><slot></slot></template><!--?lit$075548653$--><svg viewBox="0 0 24 24"><!--?lit$075548653$--><path d="m15.9 3.07c-4.32 0.0742-8.64-0.0355-13 0.0568-1.37 0.307-1.74 2.1-1.41 3.26 0.469 0.606 1.86 0.384 1.66-0.525 0.0448-0.329-0.183-0.93 0.354-0.766h13.3v1.53h1.71c0.0709-1.13 0.141-2.62-0.968-3.3-0.511-0.264-1.11-0.252-1.67-0.259zm2.94 6.84v4.87c1.62-1.62 3.24-3.24 4.87-4.87h-4.87zm0 0h-1.71v3.43l1.57 1.57c0.32-1.65 0.0556-3.34 0.135-5zm-1.71 3.43v-3.43h-3.43c1.14 1.14 2.29 2.29 3.43 3.43zm1.4 4.27h-1.71v1.48h-13.6v-1.48h-1.71c-0.0473 1.15-0.16 2.72 1.09 3.29 1.47 0.506 3.02 0.0265 4.53 0.192 3.34-0.0051 6.68 0.0336 10-0.0245 1.49-0.366 1.56-2.22 1.42-3.45zm-10.1-1.12c-0.398-0.483-0.796-0.967-1.19-1.45 0.59-0.683 1.18-1.37 1.77-2.05h-8.67v-2h8.67c-0.59-0.683-1.18-1.37-1.77-2.05 0.398-0.483 0.796-0.967 1.19-1.45 1.28 1.5 2.56 3 3.84 4.5-1.28 1.5-2.56 3-3.84 4.5z"></path></svg></md-icon>
      </md-icon-button>
      <colab-tooltip-trigger aria-hidden="true" id="button-output-actions-tooltip" for="button-output-actions" message="Acciones de salida de las celdas de código"><template shadowrootmode="open"><!----><!--?lit$075548653$--><!----><div><!--?lit$075548653$-->Acciones de salida de las celdas de código</div><!----><!--?--></template></colab-tooltip-trigger></template></colab-output-info></div>
          <div class="output-iframe-container">
            <div class="output-iframe-sizer"> <div><div><colab-static-output-renderer tabindex="0" role="group"><div><div class="stream output_text"><pre>All paths obtained...
Loading data...
Skipping d2ciwa1 due to different lengths
fasta: 299, dssp: 299, pssm: 298
Skipping d3u81a_ due to different lengths
fasta: 219, dssp: 219, pssm: 218
Splitting data...
Training samples: 958
Validation samples: 119
Test samples: 121
Data loaded and proccessed!
</pre></div></div><div></div></colab-static-output-renderer></div></div></div>
          </div>
        </div></div></div><colab-cell-next-steps><template shadowrootmode="open"><!----></template></colab-cell-next-steps></div></div><div class="add-cell">
      <hr>
    </div></div><div class="cell text" id="cell-mvxOl2WdOQUx" tabindex="-1" role="region" aria-label="Celda 4: Celda de texto; Model training" style=""><div class="agent-focus-label">
      <md-icon aria-hidden="true"><template shadowrootmode="open"><!----><slot></slot></template>spark</md-icon>
      <!--?lit$075548653$-->Gemini
    </div><div class="cell-tag-editor sticky"></div><div class="cell-toolbar sticky"></div><div class="main-content" elevation="0"><div class="cell-contents"><div class="cell-mask"></div><span class="imported-info-area"></span><!----> <div class="toolbar-root"></div>
      <div class="editor-container horizontal">
        <div class="editor-root"></div>
        <div class="text-top-div">
          <div class="markdown"><span><div class="text-cell-section-header layout horizontal center"><md-icon-button class="header-section-toggle" title="Ocultar 1 celda secundaria de Model training (pulsa &lt;Mayús&gt; para ocultar también las secciones del mismo nivel)" data-aria-label="Ocultar 1 celda secundaria de Model training (pulsa &lt;Mayús&gt; para ocultar también las secciones del mismo nivel)" value=""><template shadowrootmode="open" shadowrootdelegatesfocus><!----><button id="button" class="icon-button  standard " aria-label="Ocultar 1 celda secundaria de Model training (pulsa &lt;Mayús&gt; para ocultar también las secciones del mismo nivel)">
        <!--?lit$075548653$--><md-focus-ring part="focus-ring" for="button" aria-hidden="true"><template shadowrootmode="open"><!----></template></md-focus-ring>
        <!--?lit$075548653$--><md-ripple aria-hidden="true"><template shadowrootmode="open"><!----><div class="surface   "></div></template></md-ripple>
        <!--?lit$075548653$--><span class="icon"><slot></slot></span>
        <!--?lit$075548653$-->
        <!--?lit$075548653$--><span class="touch"></span>
  </button></template><md-icon aria-hidden="true"><template shadowrootmode="open"><!----><slot></slot></template>keyboard_arrow_down</md-icon></md-icon-button><h1><strong>Model training</strong></h1></div>
</span></div>
        </div>
      </div>

      <div class="section-header" style="display: none;">
        <colab-run-button><template shadowrootmode="open"><!----> <div class=" cell-execution ">
      <button id="run-button" aria-label="Ejecutar celda" aria-disabled="false">
        <!--?lit$075548653$--><span class="execution-count"><!--?lit$075548653$-->[ ]</span>
        <span aria-hidden="true" class="cell-execution-indicator"><!--?lit$075548653$-->
<svg xmlns="http://www.w3.org/2000/svg" viewBox="0 0 24 24">
  <!--?lit$075548653$-->
  <mask id="playSymbolMask">
    <rect width="100%" height="100%" fill="white"></rect>
    <polygon points="10,8 17,12 10,16" fill="black"></polygon>
  </mask>
  <circle cx="12" cy="12" r="7.8" mask="url(#playSymbolMask)" id="filledCircle"></circle>
</svg></span>
      </button>
      <!--?lit$075548653$-->
      <!--?lit$075548653$--><!--?-->
    </div></template></colab-run-button>
        <div class="section-header-container" title="hacer clic para mostrar">
          <md-icon aria-hidden="true"><template shadowrootmode="open"><!----><slot></slot></template>subdirectory_arrow_right</md-icon>
          <span>1 celda oculta</span>
        </div>
      </div></div></div><div class="add-cell">
      <hr>
    </div></div><div class="cell code" id="cell-hx4gwjyYqdoG" tabindex="-1" role="region" aria-label="Celda 5: Celda de código; " style=""><div class="agent-focus-label">
      <md-icon aria-hidden="true"><template shadowrootmode="open"><!----><slot></slot></template>spark</md-icon>
      <!--?lit$075548653$-->Gemini
    </div><div class="cell-tag-editor sticky"></div><div class="cell-toolbar sticky"></div><div class="main-content" elevation="0"><div class="cell-contents"><div class="cell-mask"></div><span class="imported-info-area"></span><div class="codecell-input-output">
      <div class="inputarea horizontal layout code">
        <div class="cell-gutter">
          <!-- Bounding range for vertical scrolling of icons -->
          <div class="cell-execution-container">
            <colab-run-button><template shadowrootmode="open"><!----> <div class=" cell-execution stale ">
      <button id="run-button" aria-describedby="run-button-tooltip" aria-label="Ejecutar celda" aria-disabled="false">
        <!--?lit$075548653$--><span class="execution-count"><!--?lit$075548653$-->[ ]</span>
        <span aria-hidden="true" class="cell-execution-indicator"><!--?lit$075548653$-->
<svg xmlns="http://www.w3.org/2000/svg" viewBox="0 0 24 24">
  <!--?lit$075548653$-->
  <mask id="playSymbolMask">
    <rect width="100%" height="100%" fill="white"></rect>
    <polygon points="10,8 17,12 10,16" fill="black"></polygon>
  </mask>
  <circle cx="12" cy="12" r="7.8" mask="url(#playSymbolMask)" id="filledCircle"></circle>
</svg></span>
      </button>
      <!--?lit$075548653$--><colab-tooltip-trigger for="run-button" id="run-button-tooltip" aria-hidden="true" message="Ejecutar celda (Ctrl+Enter)
la celda no se ha ejecutado en esta sesión"><template shadowrootmode="open"><!----><!--?lit$075548653$--><!----><div><!--?lit$075548653$-->Ejecutar celda (Ctrl+Enter)</div><!----><!----><div><!--?lit$075548653$-->la celda no se ha ejecutado en esta sesión</div><!----><!--?--></template>
    </colab-tooltip-trigger>
      <!--?lit$075548653$--><!--?-->
    </div></template></colab-run-button>
          </div>
        </div>
      <div class="editor flex lazy-editor" style=""><pre class="lazy-virtualized" style="font-size: 14px; line-height: 19px;"><pre class="lazy-gutter"></pre><pre class="monaco-colorized colab colab" data-lang="notebook-python"><span><span class="mtk19">import</span><span class="mtk1">&nbsp;tensorflow&nbsp;</span><span class="mtk19">as</span><span class="mtk1">&nbsp;tf</span></span><br><span><span class="mtk19">from</span><span class="mtk1">&nbsp;tensorflow.keras&nbsp;</span><span class="mtk19">import</span><span class="mtk1">&nbsp;backend&nbsp;</span><span class="mtk19">as</span><span class="mtk1">&nbsp;K</span></span><br><span><span></span></span><br><span><span class="mtk6">def</span><span class="mtk1">&nbsp;</span><span class="mtk15">masked_accuracy</span><span class="mtk1">(</span><span class="mtk16">y_true</span><span class="mtk1">,&nbsp;</span><span class="mtk16">y_pred</span><span class="mtk1">):</span></span><br><span><span class="mtk1">&nbsp;&nbsp;&nbsp;&nbsp;</span><span class="mtk21">"""</span></span><br><span><span class="mtk21">&nbsp;&nbsp;&nbsp;&nbsp;Calcula&nbsp;accuracy&nbsp;ignorando&nbsp;la&nbsp;clase&nbsp;padding&nbsp;en</span><span class="mtk21">&nbsp;one-hot&nbsp;encoding.</span></span><br><span><span class="mtk21">&nbsp;&nbsp;&nbsp;&nbsp;"""</span></span><br><span><span class="mtk1">&nbsp;&nbsp;&nbsp;&nbsp;</span><span class="mtk8">#&nbsp;Get&nbsp;the&nbsp;class&nbsp;index</span></span><br><span><span class="mtk1">&nbsp;&nbsp;&nbsp;&nbsp;true_classes&nbsp;=&nbsp;tf.argmax(y_true,&nbsp;axis=</span><span class="mtk12">-1</span><span class="mtk1">)</span></span><br><span><span class="mtk1">&nbsp;&nbsp;&nbsp;&nbsp;pred_classes&nbsp;=&nbsp;tf.argmax(y_pred,&nbsp;axis=</span><span class="mtk12">-1</span><span class="mtk1">)</span></span><br><span><span></span></span><br><span><span class="mtk1">&nbsp;&nbsp;&nbsp;&nbsp;</span><span class="mtk8">#&nbsp;Create&nbsp;a&nbsp;mask&nbsp;to&nbsp;ignore&nbsp;the&nbsp;outputs&nbsp;with&nbsp;padding</span><span class="mtk8">&nbsp;class&nbsp;(X)</span></span><br><span><span class="mtk1">&nbsp;&nbsp;&nbsp;&nbsp;mask&nbsp;=&nbsp;tf.not_equal(true_classes,&nbsp;</span><span class="mtk12">3</span><span class="mtk1">)&nbsp;&nbsp;</span><span class="mtk8">#&nbsp;True&nbsp;if&nbsp;HEC,&nbsp;False&nbsp;if&nbsp;X</span></span><br><span><span></span></span><br><span><span class="mtk1">&nbsp;&nbsp;&nbsp;&nbsp;</span><span class="mtk8">#&nbsp;Filter&nbsp;values</span></span><br><span><span class="mtk1">&nbsp;&nbsp;&nbsp;&nbsp;correct_predictions&nbsp;=&nbsp;tf.equal(true_classes,&nbsp;p</span><span class="mtk1">red_classes)</span></span><br><span><span class="mtk1">&nbsp;&nbsp;&nbsp;&nbsp;correct_predictions&nbsp;=&nbsp;tf.boolean_mask(correct_</span><span class="mtk1">predictions,&nbsp;mask)</span></span><br><span><span></span></span><br><span><span class="mtk1">&nbsp;&nbsp;&nbsp;&nbsp;</span><span class="mtk8">#&nbsp;Accuracy&nbsp;just&nbsp;accounting&nbsp;for&nbsp;HEC</span></span><br><span><span class="mtk1">&nbsp;&nbsp;&nbsp;&nbsp;</span><span class="mtk19">return</span><span class="mtk1">&nbsp;tf.reduce_mean(tf.cast(correct_predictions,&nbsp;dtype</span><span class="mtk1">=tf.float32))</span></span><br><span><span></span></span><br></pre><colab-read-only-cell-placeholder style="display: none;"><template shadowrootmode="open"><!----><div><!--?lit$075548653$-->Empieza a programar o a <span tabindex="0" role="button" class="link">crear código</span> con IA.</div></template></colab-read-only-cell-placeholder></pre></div><colab-form class="formview vertical layout flex"><div class="widget-area vertical layout"></div></colab-form></div>
    <div class="output" aria-label="Salida de la celda 5" role="region"><!----> <div class="output-header"> </div>
        <div class="output-content" hidden="">
          <div class="output-info"> </div>
          <div class="output-iframe-container" hidden="">
            <div class="output-iframe-sizer"> </div>
          </div>
        </div></div></div><colab-cell-next-steps><template shadowrootmode="open"><!----></template></colab-cell-next-steps></div></div><div class="add-cell">
      <hr>
    </div></div><div class="cell text" id="cell-BpvA1X5P5KgE" tabindex="-1" role="region" aria-label="Celda 6: Celda de texto; Model 1: 2 Bidirectional layers" style=""><div class="agent-focus-label">
      <md-icon aria-hidden="true"><template shadowrootmode="open"><!----><slot></slot></template>spark</md-icon>
      <!--?lit$075548653$-->Gemini
    </div><div class="cell-tag-editor sticky"></div><div class="cell-toolbar sticky"></div><div class="main-content" elevation="0"><div class="cell-contents"><div class="cell-mask"></div><span class="imported-info-area"></span><!----> <div class="toolbar-root"></div>
      <div class="editor-container horizontal">
        <div class="editor-root"></div>
        <div class="text-top-div">
          <div class="markdown"><span><div class="text-cell-section-header layout horizontal center"><md-icon-button class="header-section-toggle" title="Ocultar 2 celdas secundarias de Model 1: 2 Bidirectional layers (pulsa &lt;Mayús&gt; para ocultar también las secciones del mismo nivel)" data-aria-label="Ocultar 2 celdas secundarias de Model 1: 2 Bidirectional layers (pulsa &lt;Mayús&gt; para ocultar también las secciones del mismo nivel)" value=""><template shadowrootmode="open" shadowrootdelegatesfocus><!----><button id="button" class="icon-button  standard " aria-label="Ocultar 2 celdas secundarias de Model 1: 2 Bidirectional layers (pulsa &lt;Mayús&gt; para ocultar también las secciones del mismo nivel)">
        <!--?lit$075548653$--><md-focus-ring part="focus-ring" for="button" aria-hidden="true"><template shadowrootmode="open"><!----></template></md-focus-ring>
        <!--?lit$075548653$--><md-ripple aria-hidden="true"><template shadowrootmode="open"><!----><div class="surface   "></div></template></md-ripple>
        <!--?lit$075548653$--><span class="icon"><slot></slot></span>
        <!--?lit$075548653$-->
        <!--?lit$075548653$--><span class="touch"></span>
  </button></template><md-icon aria-hidden="true"><template shadowrootmode="open"><!----><slot></slot></template>keyboard_arrow_down</md-icon></md-icon-button><h1>Model 1: 2 Bidirectional layers</h1></div>
</span></div>
        </div>
      </div>

      <div class="section-header" style="display: none;">
        <colab-run-button><template shadowrootmode="open"><!----> <div class=" cell-execution ">
      <button id="run-button" aria-label="Ejecutar celda" aria-disabled="false">
        <!--?lit$075548653$--><span class="execution-count"><!--?lit$075548653$-->[ ]</span>
        <span aria-hidden="true" class="cell-execution-indicator"><!--?lit$075548653$-->
<svg xmlns="http://www.w3.org/2000/svg" viewBox="0 0 24 24">
  <!--?lit$075548653$-->
  <mask id="playSymbolMask">
    <rect width="100%" height="100%" fill="white"></rect>
    <polygon points="10,8 17,12 10,16" fill="black"></polygon>
  </mask>
  <circle cx="12" cy="12" r="7.8" mask="url(#playSymbolMask)" id="filledCircle"></circle>
</svg></span>
      </button>
      <!--?lit$075548653$-->
      <!--?lit$075548653$--><!--?-->
    </div></template></colab-run-button>
        <div class="section-header-container" title="hacer clic para mostrar">
          <md-icon aria-hidden="true"><template shadowrootmode="open"><!----><slot></slot></template>subdirectory_arrow_right</md-icon>
          <span>2 celdas ocultas</span>
        </div>
      </div></div></div><div class="add-cell">
      <hr>
    </div></div><div class="cell code code-has-output" id="cell-hWHEcppX15TX" tabindex="-1" role="region" aria-label="Celda 7: Celda de código; " style=""><div class="agent-focus-label">
      <md-icon aria-hidden="true"><template shadowrootmode="open"><!----><slot></slot></template>spark</md-icon>
      <!--?lit$075548653$-->Gemini
    </div><div class="cell-tag-editor sticky"></div><div class="cell-toolbar sticky"></div><div class="main-content" elevation="0"><div class="cell-contents"><div class="cell-mask"></div><span class="imported-info-area"></span><div class="codecell-input-output">
      <div class="inputarea horizontal layout code">
        <div class="cell-gutter">
          <!-- Bounding range for vertical scrolling of icons -->
          <div class="cell-execution-container">
            <colab-run-button><template shadowrootmode="open"><!----> <div class=" cell-execution stale ">
      <button id="run-button" aria-describedby="run-button-tooltip" aria-label="Ejecutar celda" aria-disabled="false">
        <!--?lit$075548653$--><span class="execution-count"><!--?lit$075548653$-->[ ]</span>
        <span aria-hidden="true" class="cell-execution-indicator"><!--?lit$075548653$-->
<svg xmlns="http://www.w3.org/2000/svg" viewBox="0 0 24 24">
  <!--?lit$075548653$-->
  <mask id="playSymbolMask">
    <rect width="100%" height="100%" fill="white"></rect>
    <polygon points="10,8 17,12 10,16" fill="black"></polygon>
  </mask>
  <circle cx="12" cy="12" r="7.8" mask="url(#playSymbolMask)" id="filledCircle"></circle>
</svg></span>
      </button>
      <!--?lit$075548653$--><colab-tooltip-trigger for="run-button" id="run-button-tooltip" aria-hidden="true" message="Ejecutar celda (Ctrl+Enter)
la celda no se ha ejecutado en esta sesión

ejecutada por Javier Hidalgo
miércoles, 19 de marzo de 2025
se ha ejecutado en 0.303 s"><template shadowrootmode="open"><!----><!--?lit$075548653$--><!----><div><!--?lit$075548653$-->Ejecutar celda (Ctrl+Enter)</div><!----><!----><div><!--?lit$075548653$-->la celda no se ha ejecutado en esta sesión</div><!----><!----><br><!----><!----><div><!--?lit$075548653$-->ejecutada por Javier Hidalgo</div><!----><!----><div><!--?lit$075548653$-->miércoles, 19 de marzo de 2025</div><!----><!----><div><!--?lit$075548653$-->se ha ejecutado en 0.303&nbsp;s</div><!----><!--?--></template>
    </colab-tooltip-trigger>
      <!--?lit$075548653$--><!--?-->
    </div></template></colab-run-button>
          </div>
        </div>
      <div class="editor flex lazy-editor" style=""><pre class="lazy-virtualized" style="font-size: 14px; line-height: 19px;"><pre class="lazy-gutter"></pre><pre class="monaco-colorized colab colab" data-lang="notebook-python"><span><span class="mtk19">import</span><span class="mtk1">&nbsp;keras</span></span><br><span><span class="mtk19">from</span><span class="mtk1">&nbsp;keras.layers&nbsp;</span><span class="mtk19">import</span><span class="mtk1">&nbsp;Input,&nbsp;Reshape,&nbsp;Dense,&nbsp;Activation,&nbsp;BatchNormaliza</span><span class="mtk1">tion,&nbsp;Flatten,&nbsp;Conv1D,&nbsp;concatenate,&nbsp;Bidirectional,</span><span class="mtk1">&nbsp;LSTM,&nbsp;Dropout</span></span><br><span><span class="mtk19">from</span><span class="mtk1">&nbsp;keras.models&nbsp;</span><span class="mtk19">import</span><span class="mtk1">&nbsp;Model</span></span><br><span><span></span></span><br><span><span class="mtk1">input_shape&nbsp;=&nbsp;pssm_train[</span><span class="mtk12">0</span><span class="mtk1">].shape</span></span><br><span><span></span></span><br><span><span class="mtk1">model1&nbsp;=&nbsp;keras.Sequential()</span></span><br><span><span class="mtk1">model1.add(Input(shape&nbsp;=&nbsp;input_shape))</span></span><br><span><span class="mtk1">model1.add(Bidirectional(layers.LSTM(</span><span class="mtk12">128</span><span class="mtk1">,&nbsp;return_sequences=</span><span class="mtk6">True</span><span class="mtk1">)))</span></span><br><span><span class="mtk1">model1.add(layers.Dropout(</span><span class="mtk12">0.3</span><span class="mtk1">))</span></span><br><span><span class="mtk1">model1.add(Bidirectional(layers.LSTM(</span><span class="mtk12">64</span><span class="mtk1">,&nbsp;return_sequences=</span><span class="mtk6">True</span><span class="mtk1">)))</span></span><br><span><span class="mtk1">model1.add(layers.Dropout(</span><span class="mtk12">0.3</span><span class="mtk1">))</span></span><br><span><span class="mtk1">model1.add(Dense(</span><span class="mtk12">128</span><span class="mtk1">,&nbsp;activation=</span><span class="mtk21">'relu'</span><span class="mtk1">))</span></span><br><span><span class="mtk1">model1.add(layers.Dropout(</span><span class="mtk12">0.3</span><span class="mtk1">))</span></span><br><span><span class="mtk1">model1.add(Dense(</span><span class="mtk12">4</span><span class="mtk1">,&nbsp;activation=</span><span class="mtk21">'softmax'</span><span class="mtk1">))</span></span><br><span><span class="mtk1">model1.summary()</span></span><br></pre><colab-read-only-cell-placeholder style="display: none;"><template shadowrootmode="open"><!----><div><!--?lit$075548653$-->Empieza a programar o a <span tabindex="0" role="button" class="link">crear código</span> con IA.</div></template></colab-read-only-cell-placeholder></pre></div><colab-form class="formview vertical layout flex"><div class="widget-area vertical layout"></div></colab-form></div>
    <div class="output" aria-label="Salida de la celda 7" role="region"><!----> <div class="output-header"> </div>
        <div class="output-content">
          <div class="output-info"><colab-output-info><template shadowrootmode="open"><!----><md-icon-button data-aria-expanded="false" data-aria-haspopup="menu" aria-describedby="button-output-actions-tooltip" data-aria-label="Acciones de salida de las celdas de código" id="button-output-actions" value=""><template shadowrootmode="open" shadowrootdelegatesfocus><!----><button id="button" class="icon-button  standard " aria-label="Acciones de salida de las celdas de código" aria-haspopup="menu" aria-expanded="false">
        <!--?lit$075548653$--><md-focus-ring part="focus-ring" for="button" aria-hidden="true"><template shadowrootmode="open"><!----></template></md-focus-ring>
        <!--?lit$075548653$--><md-ripple aria-hidden="true"><template shadowrootmode="open"><!----><div class="surface   "></div></template></md-ripple>
        <!--?lit$075548653$--><span class="icon"><slot></slot></span>
        <!--?lit$075548653$-->
        <!--?lit$075548653$--><span class="touch"></span>
  </button></template>
        <md-icon aria-hidden="true"><template shadowrootmode="open"><!----><slot></slot></template><!--?lit$075548653$--><svg viewBox="0 0 24 24"><!--?lit$075548653$--><path d="m15.9 3.07c-4.32 0.0742-8.64-0.0355-13 0.0568-1.37 0.307-1.74 2.1-1.41 3.26 0.469 0.606 1.86 0.384 1.66-0.525 0.0448-0.329-0.183-0.93 0.354-0.766h13.3v1.53h1.71c0.0709-1.13 0.141-2.62-0.968-3.3-0.511-0.264-1.11-0.252-1.67-0.259zm2.94 6.84v4.87c1.62-1.62 3.24-3.24 4.87-4.87h-4.87zm0 0h-1.71v3.43l1.57 1.57c0.32-1.65 0.0556-3.34 0.135-5zm-1.71 3.43v-3.43h-3.43c1.14 1.14 2.29 2.29 3.43 3.43zm1.4 4.27h-1.71v1.48h-13.6v-1.48h-1.71c-0.0473 1.15-0.16 2.72 1.09 3.29 1.47 0.506 3.02 0.0265 4.53 0.192 3.34-0.0051 6.68 0.0336 10-0.0245 1.49-0.366 1.56-2.22 1.42-3.45zm-10.1-1.12c-0.398-0.483-0.796-0.967-1.19-1.45 0.59-0.683 1.18-1.37 1.77-2.05h-8.67v-2h8.67c-0.59-0.683-1.18-1.37-1.77-2.05 0.398-0.483 0.796-0.967 1.19-1.45 1.28 1.5 2.56 3 3.84 4.5-1.28 1.5-2.56 3-3.84 4.5z"></path></svg></md-icon>
      </md-icon-button>
      <colab-tooltip-trigger aria-hidden="true" id="button-output-actions-tooltip" for="button-output-actions" message="Acciones de salida de las celdas de código"><template shadowrootmode="open"><!----><!--?lit$075548653$--><!----><div><!--?lit$075548653$-->Acciones de salida de las celdas de código</div><!----><!--?--></template></colab-tooltip-trigger></template></colab-output-info></div>
          <div class="output-iframe-container">
            <div class="output-iframe-sizer"> <div style="height: 353px;"><div class="outputview" style="height: 353px;"><colab-dom-lifecycle-events style="display: none;"></colab-dom-lifecycle-events><iframe allow="" sandbox="allow-downloads allow-forms allow-pointer-lock allow-popups allow-popups-to-escape-sandbox allow-same-origin allow-scripts allow-storage-access-by-user-activation" src="./SSP_files/outputframe.html" class="" style="height: 353px;"></iframe></div></div></div>
          </div>
        </div></div></div><colab-cell-next-steps><template shadowrootmode="open"><!----></template></colab-cell-next-steps></div></div><div class="add-cell">
      <hr>
    </div></div><div class="cell code code-has-output" id="cell-X5MfojENmVHG" tabindex="-1" role="region" aria-label="Celda 8: Celda de código; " style=""><div class="agent-focus-label">
      <md-icon aria-hidden="true"><template shadowrootmode="open"><!----><slot></slot></template>spark</md-icon>
      <!--?lit$075548653$-->Gemini
    </div><div class="cell-tag-editor sticky"></div><div class="cell-toolbar sticky"></div><div class="main-content" elevation="0"><div class="cell-contents"><div class="cell-mask"></div><span class="imported-info-area"></span><div class="codecell-input-output">
      <div class="inputarea horizontal layout code">
        <div class="cell-gutter">
          <!-- Bounding range for vertical scrolling of icons -->
          <div class="cell-execution-container">
            <colab-run-button><template shadowrootmode="open"><!----> <div class=" cell-execution stale ">
      <button id="run-button" aria-describedby="run-button-tooltip" aria-label="Ejecutar celda" aria-disabled="false">
        <!--?lit$075548653$--><span class="execution-count"><!--?lit$075548653$-->[ ]</span>
        <span aria-hidden="true" class="cell-execution-indicator"><!--?lit$075548653$-->
<svg xmlns="http://www.w3.org/2000/svg" viewBox="0 0 24 24">
  <!--?lit$075548653$-->
  <mask id="playSymbolMask">
    <rect width="100%" height="100%" fill="white"></rect>
    <polygon points="10,8 17,12 10,16" fill="black"></polygon>
  </mask>
  <circle cx="12" cy="12" r="7.8" mask="url(#playSymbolMask)" id="filledCircle"></circle>
</svg></span>
      </button>
      <!--?lit$075548653$--><colab-tooltip-trigger for="run-button" id="run-button-tooltip" aria-hidden="true" message="Ejecutar celda (Ctrl+Enter)
la celda no se ha ejecutado en esta sesión

ejecutada por Javier Hidalgo
miércoles, 19 de marzo de 2025
se ha ejecutado en 21.087 s"><template shadowrootmode="open"><!----><!--?lit$075548653$--><!----><div><!--?lit$075548653$-->Ejecutar celda (Ctrl+Enter)</div><!----><!----><div><!--?lit$075548653$-->la celda no se ha ejecutado en esta sesión</div><!----><!----><br><!----><!----><div><!--?lit$075548653$-->ejecutada por Javier Hidalgo</div><!----><!----><div><!--?lit$075548653$-->miércoles, 19 de marzo de 2025</div><!----><!----><div><!--?lit$075548653$-->se ha ejecutado en 21.087&nbsp;s</div><!----><!--?--></template>
    </colab-tooltip-trigger>
      <!--?lit$075548653$--><!--?-->
    </div></template></colab-run-button>
          </div>
        </div>
      <div class="editor flex lazy-editor" style=""><pre class="lazy-virtualized" style="font-size: 14px; line-height: 19px;"><pre class="lazy-gutter"></pre><pre class="monaco-colorized colab colab" data-lang="notebook-python"><span><span class="mtk19">from</span><span class="mtk1">&nbsp;keras.callbacks&nbsp;</span><span class="mtk19">import</span><span class="mtk1">&nbsp;EarlyStopping,&nbsp;ModelCheckpoint,&nbsp;ReduceLROnPlateau</span></span><br><span><span></span></span><br><span><span class="mtk1">batch_size&nbsp;=&nbsp;</span><span class="mtk12">32</span></span><br><span><span class="mtk1">epochs&nbsp;=&nbsp;</span><span class="mtk12">15</span></span><br><span><span class="mtk1">model1.</span><span class="mtk15">compile</span><span class="mtk1">(optimizer=</span><span class="mtk21">'adam'</span><span class="mtk1">,&nbsp;loss=</span><span class="mtk21">'categorical_crossentropy'</span><span class="mtk1">,&nbsp;metrics=[</span><span class="mtk21">'accuracy'</span><span class="mtk1">,&nbsp;masked_accuracy])</span></span><br><span><span></span></span><br><span><span class="mtk1">early_stopping&nbsp;=&nbsp;EarlyStopping(monitor=</span><span class="mtk21">'val_loss'</span><span class="mtk1">,&nbsp;patience=</span><span class="mtk12">5</span><span class="mtk1">,&nbsp;restore_best_weights=</span><span class="mtk6">True</span><span class="mtk1">)</span></span><br><span><span class="mtk1">checkpoint&nbsp;=&nbsp;ModelCheckpoint(</span><span class="mtk21">'best_model.h5'</span><span class="mtk1">,&nbsp;monitor=</span><span class="mtk21">'val_loss'</span><span class="mtk1">,&nbsp;save_best_only=</span><span class="mtk6">True</span><span class="mtk1">,&nbsp;verbose=</span><span class="mtk12">1</span><span class="mtk1">)</span></span><br><span><span></span></span><br><span><span class="mtk1">history1&nbsp;=&nbsp;model1.fit(pssm_train,&nbsp;dssp_train_pssm,</span><span class="mtk1">&nbsp;batch_size=batch_size,</span></span><br><span><span class="mtk1">&nbsp;&nbsp;&nbsp;&nbsp;&nbsp;&nbsp;&nbsp;&nbsp;&nbsp;&nbsp;&nbsp;&nbsp;&nbsp;&nbsp;&nbsp;&nbsp;&nbsp;&nbsp;&nbsp;&nbsp;&nbsp;&nbsp;&nbsp;&nbsp;&nbsp;epochs=epochs,&nbsp;validation</span><span class="mtk1">_data=(pssm_val,&nbsp;dssp_val_pssm),</span></span><br><span><span class="mtk1">&nbsp;&nbsp;&nbsp;&nbsp;&nbsp;&nbsp;&nbsp;&nbsp;&nbsp;&nbsp;&nbsp;&nbsp;&nbsp;&nbsp;&nbsp;&nbsp;&nbsp;&nbsp;&nbsp;&nbsp;&nbsp;&nbsp;&nbsp;&nbsp;&nbsp;callbacks=[early_stopping</span><span class="mtk1">])</span></span><br></pre><colab-read-only-cell-placeholder style="display: none;"><template shadowrootmode="open"><!----><div><!--?lit$075548653$-->Empieza a programar o a <span tabindex="0" role="button" class="link">crear código</span> con IA.</div></template></colab-read-only-cell-placeholder></pre></div><colab-form class="formview vertical layout flex"><div class="widget-area vertical layout"></div></colab-form></div>
    <div class="output" aria-label="Salida de la celda 8" role="region"><!----> <div class="output-header"> </div>
        <div class="output-content">
          <div class="output-info"><colab-output-info><template shadowrootmode="open"><!----><md-icon-button data-aria-expanded="false" data-aria-haspopup="menu" aria-describedby="button-output-actions-tooltip" data-aria-label="Acciones de salida de las celdas de código" id="button-output-actions" value=""><template shadowrootmode="open" shadowrootdelegatesfocus><!----><button id="button" class="icon-button  standard " aria-label="Acciones de salida de las celdas de código" aria-haspopup="menu" aria-expanded="false">
        <!--?lit$075548653$--><md-focus-ring part="focus-ring" for="button" aria-hidden="true"><template shadowrootmode="open"><!----></template></md-focus-ring>
        <!--?lit$075548653$--><md-ripple aria-hidden="true"><template shadowrootmode="open"><!----><div class="surface   "></div></template></md-ripple>
        <!--?lit$075548653$--><span class="icon"><slot></slot></span>
        <!--?lit$075548653$-->
        <!--?lit$075548653$--><span class="touch"></span>
  </button></template>
        <md-icon aria-hidden="true"><template shadowrootmode="open"><!----><slot></slot></template><!--?lit$075548653$--><svg viewBox="0 0 24 24"><!--?lit$075548653$--><path d="m15.9 3.07c-4.32 0.0742-8.64-0.0355-13 0.0568-1.37 0.307-1.74 2.1-1.41 3.26 0.469 0.606 1.86 0.384 1.66-0.525 0.0448-0.329-0.183-0.93 0.354-0.766h13.3v1.53h1.71c0.0709-1.13 0.141-2.62-0.968-3.3-0.511-0.264-1.11-0.252-1.67-0.259zm2.94 6.84v4.87c1.62-1.62 3.24-3.24 4.87-4.87h-4.87zm0 0h-1.71v3.43l1.57 1.57c0.32-1.65 0.0556-3.34 0.135-5zm-1.71 3.43v-3.43h-3.43c1.14 1.14 2.29 2.29 3.43 3.43zm1.4 4.27h-1.71v1.48h-13.6v-1.48h-1.71c-0.0473 1.15-0.16 2.72 1.09 3.29 1.47 0.506 3.02 0.0265 4.53 0.192 3.34-0.0051 6.68 0.0336 10-0.0245 1.49-0.366 1.56-2.22 1.42-3.45zm-10.1-1.12c-0.398-0.483-0.796-0.967-1.19-1.45 0.59-0.683 1.18-1.37 1.77-2.05h-8.67v-2h8.67c-0.59-0.683-1.18-1.37-1.77-2.05 0.398-0.483 0.796-0.967 1.19-1.45 1.28 1.5 2.56 3 3.84 4.5-1.28 1.5-2.56 3-3.84 4.5z"></path></svg></md-icon>
      </md-icon-button>
      <colab-tooltip-trigger aria-hidden="true" id="button-output-actions-tooltip" for="button-output-actions" message="Acciones de salida de las celdas de código"><template shadowrootmode="open"><!----><!--?lit$075548653$--><!----><div><!--?lit$075548653$-->Acciones de salida de las celdas de código</div><!----><!--?--></template></colab-tooltip-trigger></template></colab-output-info></div>
          <div class="output-iframe-container">
            <div class="output-iframe-sizer"> <div style="height: 391px;"><div class="outputview" style="height: 463px;"><colab-dom-lifecycle-events style="display: none;"></colab-dom-lifecycle-events><iframe allow="" sandbox="allow-downloads allow-forms allow-pointer-lock allow-popups allow-popups-to-escape-sandbox allow-same-origin allow-scripts allow-storage-access-by-user-activation" src="./SSP_files/outputframe(1).html" class="" style="height: 463px;"></iframe></div></div></div>
          </div>
        </div></div></div><colab-cell-next-steps><template shadowrootmode="open"><!----></template></colab-cell-next-steps></div></div><div class="add-cell">
      <hr>
    </div></div><div class="cell text" id="cell-mGXZEx8h5UOD" tabindex="-1" role="region" aria-label="Celda 9: Celda de texto; Model 2: Conv1D layer + Bidirectional layer" style=""><div class="agent-focus-label">
      <md-icon aria-hidden="true"><template shadowrootmode="open"><!----><slot></slot></template>spark</md-icon>
      <!--?lit$075548653$-->Gemini
    </div><div class="cell-tag-editor sticky"></div><div class="cell-toolbar sticky"></div><div class="main-content" elevation="0"><div class="cell-contents"><div class="cell-mask"></div><span class="imported-info-area"></span><!----> <div class="toolbar-root"></div>
      <div class="editor-container horizontal">
        <div class="editor-root"></div>
        <div class="text-top-div">
          <div class="markdown"><span><div class="text-cell-section-header layout horizontal center"><md-icon-button class="header-section-toggle" title="Ocultar 2 celdas secundarias de Model 2: Conv1D layer + Bidirectional layer (pulsa &lt;Mayús&gt; para ocultar también las secciones del mismo nivel)" data-aria-label="Ocultar 2 celdas secundarias de Model 2: Conv1D layer + Bidirectional layer (pulsa &lt;Mayús&gt; para ocultar también las secciones del mismo nivel)" value=""><template shadowrootmode="open" shadowrootdelegatesfocus><!----><button id="button" class="icon-button  standard " aria-label="Ocultar 2 celdas secundarias de Model 2: Conv1D layer + Bidirectional layer (pulsa &lt;Mayús&gt; para ocultar también las secciones del mismo nivel)">
        <!--?lit$075548653$--><md-focus-ring part="focus-ring" for="button" aria-hidden="true"><template shadowrootmode="open"><!----></template></md-focus-ring>
        <!--?lit$075548653$--><md-ripple aria-hidden="true"><template shadowrootmode="open"><!----><div class="surface   "></div></template></md-ripple>
        <!--?lit$075548653$--><span class="icon"><slot></slot></span>
        <!--?lit$075548653$-->
        <!--?lit$075548653$--><span class="touch"></span>
  </button></template><md-icon aria-hidden="true"><template shadowrootmode="open"><!----><slot></slot></template>keyboard_arrow_down</md-icon></md-icon-button><h1>Model 2: Conv1D layer + Bidirectional layer</h1></div>
</span></div>
        </div>
      </div>

      <div class="section-header" style="display: none;">
        <colab-run-button><template shadowrootmode="open"><!----> <div class=" cell-execution ">
      <button id="run-button" aria-label="Ejecutar celda" aria-disabled="false">
        <!--?lit$075548653$--><span class="execution-count"><!--?lit$075548653$-->[ ]</span>
        <span aria-hidden="true" class="cell-execution-indicator"><!--?lit$075548653$-->
<svg xmlns="http://www.w3.org/2000/svg" viewBox="0 0 24 24">
  <!--?lit$075548653$-->
  <mask id="playSymbolMask">
    <rect width="100%" height="100%" fill="white"></rect>
    <polygon points="10,8 17,12 10,16" fill="black"></polygon>
  </mask>
  <circle cx="12" cy="12" r="7.8" mask="url(#playSymbolMask)" id="filledCircle"></circle>
</svg></span>
      </button>
      <!--?lit$075548653$-->
      <!--?lit$075548653$--><!--?-->
    </div></template></colab-run-button>
        <div class="section-header-container" title="hacer clic para mostrar">
          <md-icon aria-hidden="true"><template shadowrootmode="open"><!----><slot></slot></template>subdirectory_arrow_right</md-icon>
          <span>2 celdas ocultas</span>
        </div>
      </div></div></div><div class="add-cell">
      <hr>
    </div></div><div class="cell code code-has-output" id="cell-CPjXLXO2lZhv" tabindex="-1" role="region" aria-label="Celda 10: Celda de código; " style=""><div class="agent-focus-label">
      <md-icon aria-hidden="true"><template shadowrootmode="open"><!----><slot></slot></template>spark</md-icon>
      <!--?lit$075548653$-->Gemini
    </div><div class="cell-tag-editor sticky"></div><div class="cell-toolbar sticky"></div><div class="main-content" elevation="0"><div class="cell-contents"><div class="cell-mask"></div><span class="imported-info-area"></span><div class="codecell-input-output">
      <div class="inputarea horizontal layout code">
        <div class="cell-gutter">
          <!-- Bounding range for vertical scrolling of icons -->
          <div class="cell-execution-container">
            <colab-run-button><template shadowrootmode="open"><!----> <div class=" cell-execution stale ">
      <button id="run-button" aria-describedby="run-button-tooltip" aria-label="Ejecutar celda" aria-disabled="false">
        <!--?lit$075548653$--><span class="execution-count"><!--?lit$075548653$-->[ ]</span>
        <span aria-hidden="true" class="cell-execution-indicator"><!--?lit$075548653$-->
<svg xmlns="http://www.w3.org/2000/svg" viewBox="0 0 24 24">
  <!--?lit$075548653$-->
  <mask id="playSymbolMask">
    <rect width="100%" height="100%" fill="white"></rect>
    <polygon points="10,8 17,12 10,16" fill="black"></polygon>
  </mask>
  <circle cx="12" cy="12" r="7.8" mask="url(#playSymbolMask)" id="filledCircle"></circle>
</svg></span>
      </button>
      <!--?lit$075548653$--><colab-tooltip-trigger for="run-button" id="run-button-tooltip" aria-hidden="true" message="Ejecutar celda (Ctrl+Enter)
la celda no se ha ejecutado en esta sesión

ejecutada por Javier Hidalgo
miércoles, 19 de marzo de 2025
se ha ejecutado en 0.124 s"><template shadowrootmode="open"><!----><!--?lit$075548653$--><!----><div><!--?lit$075548653$-->Ejecutar celda (Ctrl+Enter)</div><!----><!----><div><!--?lit$075548653$-->la celda no se ha ejecutado en esta sesión</div><!----><!----><br><!----><!----><div><!--?lit$075548653$-->ejecutada por Javier Hidalgo</div><!----><!----><div><!--?lit$075548653$-->miércoles, 19 de marzo de 2025</div><!----><!----><div><!--?lit$075548653$-->se ha ejecutado en 0.124&nbsp;s</div><!----><!--?--></template>
    </colab-tooltip-trigger>
      <!--?lit$075548653$--><!--?-->
    </div></template></colab-run-button>
          </div>
        </div>
      <div class="editor flex lazy-editor" style=""><pre class="lazy-virtualized" style="font-size: 14px; line-height: 19px;"><pre class="lazy-gutter"></pre><pre class="monaco-colorized colab colab" data-lang="notebook-python"><span><span class="mtk1">model2&nbsp;=&nbsp;keras.Sequential()</span></span><br><span><span class="mtk1">model2.add(Conv1D(</span><span class="mtk12">64</span><span class="mtk1">,&nbsp;kernel_size=</span><span class="mtk12">3</span><span class="mtk1">,&nbsp;activation=</span><span class="mtk21">'relu'</span><span class="mtk1">,&nbsp;padding=</span><span class="mtk21">'same'</span><span class="mtk1">,&nbsp;input_shape=&nbsp;(</span><span class="mtk12">759</span><span class="mtk1">,</span><span class="mtk12">20</span><span class="mtk1">)))</span></span><br><span><span class="mtk1">model2.add(BatchNormalization())</span></span><br><span><span class="mtk1">model2.add(Bidirectional(LSTM(</span><span class="mtk12">64</span><span class="mtk1">,&nbsp;return_sequences=</span><span class="mtk6">True</span><span class="mtk1">)))</span></span><br><span><span class="mtk1">model2.add(Dropout(</span><span class="mtk12">0.3</span><span class="mtk1">))</span></span><br><span><span class="mtk1">model2.add(Dense(</span><span class="mtk12">128</span><span class="mtk1">,&nbsp;activation=&nbsp;</span><span class="mtk21">'relu'</span><span class="mtk1">))</span></span><br><span><span class="mtk1">model2.add(Dense(</span><span class="mtk12">4</span><span class="mtk1">,&nbsp;activation=</span><span class="mtk21">'softmax'</span><span class="mtk1">))</span></span><br><span><span class="mtk1">model2.summary()</span></span><br></pre><colab-read-only-cell-placeholder style="display: none;"><template shadowrootmode="open"><!----><div><!--?lit$075548653$-->Empieza a programar o a <span tabindex="0" role="button" class="link">crear código</span> con IA.</div></template></colab-read-only-cell-placeholder></pre></div><colab-form class="formview vertical layout flex"><div class="widget-area vertical layout"></div></colab-form></div>
    <div class="output" aria-label="Salida de la celda 10" role="region"><!----> <div class="output-header"> </div>
        <div class="output-content">
          <div class="output-info"><colab-output-info><template shadowrootmode="open"><!----><md-icon-button data-aria-expanded="false" data-aria-haspopup="menu" aria-describedby="button-output-actions-tooltip" data-aria-label="Acciones de salida de las celdas de código" id="button-output-actions" value=""><template shadowrootmode="open" shadowrootdelegatesfocus><!----><button id="button" class="icon-button  standard " aria-label="Acciones de salida de las celdas de código" aria-haspopup="menu" aria-expanded="false">
        <!--?lit$075548653$--><md-focus-ring part="focus-ring" for="button" aria-hidden="true"><template shadowrootmode="open"><!----></template></md-focus-ring>
        <!--?lit$075548653$--><md-ripple aria-hidden="true"><template shadowrootmode="open"><!----><div class="surface   "></div></template></md-ripple>
        <!--?lit$075548653$--><span class="icon"><slot></slot></span>
        <!--?lit$075548653$-->
        <!--?lit$075548653$--><span class="touch"></span>
  </button></template>
        <md-icon aria-hidden="true"><template shadowrootmode="open"><!----><slot></slot></template><!--?lit$075548653$--><svg viewBox="0 0 24 24"><!--?lit$075548653$--><path d="m15.9 3.07c-4.32 0.0742-8.64-0.0355-13 0.0568-1.37 0.307-1.74 2.1-1.41 3.26 0.469 0.606 1.86 0.384 1.66-0.525 0.0448-0.329-0.183-0.93 0.354-0.766h13.3v1.53h1.71c0.0709-1.13 0.141-2.62-0.968-3.3-0.511-0.264-1.11-0.252-1.67-0.259zm2.94 6.84v4.87c1.62-1.62 3.24-3.24 4.87-4.87h-4.87zm0 0h-1.71v3.43l1.57 1.57c0.32-1.65 0.0556-3.34 0.135-5zm-1.71 3.43v-3.43h-3.43c1.14 1.14 2.29 2.29 3.43 3.43zm1.4 4.27h-1.71v1.48h-13.6v-1.48h-1.71c-0.0473 1.15-0.16 2.72 1.09 3.29 1.47 0.506 3.02 0.0265 4.53 0.192 3.34-0.0051 6.68 0.0336 10-0.0245 1.49-0.366 1.56-2.22 1.42-3.45zm-10.1-1.12c-0.398-0.483-0.796-0.967-1.19-1.45 0.59-0.683 1.18-1.37 1.77-2.05h-8.67v-2h8.67c-0.59-0.683-1.18-1.37-1.77-2.05 0.398-0.483 0.796-0.967 1.19-1.45 1.28 1.5 2.56 3 3.84 4.5-1.28 1.5-2.56 3-3.84 4.5z"></path></svg></md-icon>
      </md-icon-button>
      <colab-tooltip-trigger aria-hidden="true" id="button-output-actions-tooltip" for="button-output-actions" message="Acciones de salida de las celdas de código"><template shadowrootmode="open"><!----><!--?lit$075548653$--><!----><div><!--?lit$075548653$-->Acciones de salida de las celdas de código</div><!----><!--?--></template></colab-tooltip-trigger></template></colab-output-info></div>
          <div class="output-iframe-container">
            <div class="output-iframe-sizer"> <div style="height: 392px;"><div class="outputview" style="height: 392px;"><colab-dom-lifecycle-events style="display: none;"></colab-dom-lifecycle-events><iframe allow="" sandbox="allow-downloads allow-forms allow-pointer-lock allow-popups allow-popups-to-escape-sandbox allow-same-origin allow-scripts allow-storage-access-by-user-activation" src="./SSP_files/outputframe(2).html" class="" style="height: 392px;"></iframe></div></div></div>
          </div>
        </div></div></div><colab-cell-next-steps><template shadowrootmode="open"><!----></template></colab-cell-next-steps></div></div><div class="add-cell">
      <hr>
    </div></div><div class="cell code code-has-output" id="cell-10eKK-AQ5mhX" tabindex="-1" role="region" aria-label="Celda 11: Celda de código; " style=""><div class="agent-focus-label">
      <md-icon aria-hidden="true"><template shadowrootmode="open"><!----><slot></slot></template>spark</md-icon>
      <!--?lit$075548653$-->Gemini
    </div><div class="cell-tag-editor sticky"></div><div class="cell-toolbar sticky"></div><div class="main-content" elevation="0"><div class="cell-contents"><div class="cell-mask"></div><span class="imported-info-area"></span><div class="codecell-input-output">
      <div class="inputarea horizontal layout code">
        <div class="cell-gutter">
          <!-- Bounding range for vertical scrolling of icons -->
          <div class="cell-execution-container">
            <colab-run-button><template shadowrootmode="open"><!----> <div class=" cell-execution stale ">
      <button id="run-button" aria-describedby="run-button-tooltip" aria-label="Ejecutar celda" aria-disabled="false">
        <!--?lit$075548653$--><span class="execution-count"><!--?lit$075548653$-->[ ]</span>
        <span aria-hidden="true" class="cell-execution-indicator"><!--?lit$075548653$-->
<svg xmlns="http://www.w3.org/2000/svg" viewBox="0 0 24 24">
  <!--?lit$075548653$-->
  <mask id="playSymbolMask">
    <rect width="100%" height="100%" fill="white"></rect>
    <polygon points="10,8 17,12 10,16" fill="black"></polygon>
  </mask>
  <circle cx="12" cy="12" r="7.8" mask="url(#playSymbolMask)" id="filledCircle"></circle>
</svg></span>
      </button>
      <!--?lit$075548653$--><colab-tooltip-trigger for="run-button" id="run-button-tooltip" aria-hidden="true" message="Ejecutar celda (Ctrl+Enter)
la celda no se ha ejecutado en esta sesión

ejecutada por Javier Hidalgo
miércoles, 19 de marzo de 2025
se ha ejecutado en 536.944 s"><template shadowrootmode="open"><!----><!--?lit$075548653$--><!----><div><!--?lit$075548653$-->Ejecutar celda (Ctrl+Enter)</div><!----><!----><div><!--?lit$075548653$-->la celda no se ha ejecutado en esta sesión</div><!----><!----><br><!----><!----><div><!--?lit$075548653$-->ejecutada por Javier Hidalgo</div><!----><!----><div><!--?lit$075548653$-->miércoles, 19 de marzo de 2025</div><!----><!----><div><!--?lit$075548653$-->se ha ejecutado en 536.944&nbsp;s</div><!----><!--?--></template>
    </colab-tooltip-trigger>
      <!--?lit$075548653$--><!--?-->
    </div></template></colab-run-button>
          </div>
        </div>
      <div class="editor flex lazy-editor" style=""><pre class="lazy-virtualized" style="font-size: 14px; line-height: 19px;"><pre class="lazy-gutter"></pre><pre class="monaco-colorized colab colab" data-lang="notebook-python"><span><span class="mtk19">from</span><span class="mtk1">&nbsp;keras.callbacks&nbsp;</span><span class="mtk19">import</span><span class="mtk1">&nbsp;EarlyStopping,&nbsp;ModelCheckpoint,&nbsp;ReduceLROnPlateau</span></span><br><span><span></span></span><br><span><span class="mtk1">batch_size&nbsp;=&nbsp;</span><span class="mtk12">32</span></span><br><span><span class="mtk1">epochs&nbsp;=&nbsp;</span><span class="mtk12">15</span></span><br><span><span class="mtk1">model2.</span><span class="mtk15">compile</span><span class="mtk1">(optimizer=</span><span class="mtk21">'adam'</span><span class="mtk1">,&nbsp;loss=</span><span class="mtk21">'categorical_crossentropy'</span><span class="mtk1">,&nbsp;metrics=[</span><span class="mtk21">'accuracy'</span><span class="mtk1">,&nbsp;masked_accuracy])</span></span><br><span><span></span></span><br><span><span class="mtk1">early_stopping&nbsp;=&nbsp;EarlyStopping(monitor=</span><span class="mtk21">'val_loss'</span><span class="mtk1">,&nbsp;patience=</span><span class="mtk12">5</span><span class="mtk1">,&nbsp;restore_best_weights=</span><span class="mtk6">True</span><span class="mtk1">)</span></span><br><span><span class="mtk1">checkpoint&nbsp;=&nbsp;ModelCheckpoint(</span><span class="mtk21">'best_model.h5'</span><span class="mtk1">,&nbsp;monitor=</span><span class="mtk21">'val_loss'</span><span class="mtk1">,&nbsp;save_best_only=</span><span class="mtk6">True</span><span class="mtk1">,&nbsp;verbose=</span><span class="mtk12">1</span><span class="mtk1">)</span></span><br><span><span></span></span><br><span><span class="mtk1">history2&nbsp;=&nbsp;model2.fit(pssm_train,&nbsp;dssp_train_pssm,</span><span class="mtk1">&nbsp;batch_size=batch_size,</span></span><br><span><span class="mtk1">&nbsp;&nbsp;&nbsp;&nbsp;&nbsp;&nbsp;&nbsp;&nbsp;&nbsp;&nbsp;&nbsp;&nbsp;&nbsp;&nbsp;&nbsp;&nbsp;&nbsp;&nbsp;&nbsp;&nbsp;&nbsp;&nbsp;&nbsp;&nbsp;&nbsp;epochs=epochs,&nbsp;validation</span><span class="mtk1">_data=(pssm_val,&nbsp;dssp_val_pssm),</span></span><br><span><span class="mtk1">&nbsp;&nbsp;&nbsp;&nbsp;&nbsp;&nbsp;&nbsp;&nbsp;&nbsp;&nbsp;&nbsp;&nbsp;&nbsp;&nbsp;&nbsp;&nbsp;&nbsp;&nbsp;&nbsp;&nbsp;&nbsp;&nbsp;&nbsp;&nbsp;&nbsp;callbacks=[early_stopping</span><span class="mtk1">])</span></span><br></pre><colab-read-only-cell-placeholder style="display: none;"><template shadowrootmode="open"><!----><div><!--?lit$075548653$-->Empieza a programar o a <span tabindex="0" role="button" class="link">crear código</span> con IA.</div></template></colab-read-only-cell-placeholder></pre></div><colab-form class="formview vertical layout flex"><div class="widget-area vertical layout"></div></colab-form></div>
    <div class="output" aria-label="Salida de la celda 11" role="region"><!----> <div class="output-header"> </div>
        <div class="output-content">
          <div class="output-info"><colab-output-info><template shadowrootmode="open"><!----><md-icon-button data-aria-expanded="false" data-aria-haspopup="menu" aria-describedby="button-output-actions-tooltip" data-aria-label="Acciones de salida de las celdas de código" id="button-output-actions" value=""><template shadowrootmode="open" shadowrootdelegatesfocus><!----><button id="button" class="icon-button  standard " aria-label="Acciones de salida de las celdas de código" aria-haspopup="menu" aria-expanded="false">
        <!--?lit$075548653$--><md-focus-ring part="focus-ring" for="button" aria-hidden="true"><template shadowrootmode="open"><!----></template></md-focus-ring>
        <!--?lit$075548653$--><md-ripple aria-hidden="true"><template shadowrootmode="open"><!----><div class="surface   "></div></template></md-ripple>
        <!--?lit$075548653$--><span class="icon"><slot></slot></span>
        <!--?lit$075548653$-->
        <!--?lit$075548653$--><span class="touch"></span>
  </button></template>
        <md-icon aria-hidden="true"><template shadowrootmode="open"><!----><slot></slot></template><!--?lit$075548653$--><svg viewBox="0 0 24 24"><!--?lit$075548653$--><path d="m15.9 3.07c-4.32 0.0742-8.64-0.0355-13 0.0568-1.37 0.307-1.74 2.1-1.41 3.26 0.469 0.606 1.86 0.384 1.66-0.525 0.0448-0.329-0.183-0.93 0.354-0.766h13.3v1.53h1.71c0.0709-1.13 0.141-2.62-0.968-3.3-0.511-0.264-1.11-0.252-1.67-0.259zm2.94 6.84v4.87c1.62-1.62 3.24-3.24 4.87-4.87h-4.87zm0 0h-1.71v3.43l1.57 1.57c0.32-1.65 0.0556-3.34 0.135-5zm-1.71 3.43v-3.43h-3.43c1.14 1.14 2.29 2.29 3.43 3.43zm1.4 4.27h-1.71v1.48h-13.6v-1.48h-1.71c-0.0473 1.15-0.16 2.72 1.09 3.29 1.47 0.506 3.02 0.0265 4.53 0.192 3.34-0.0051 6.68 0.0336 10-0.0245 1.49-0.366 1.56-2.22 1.42-3.45zm-10.1-1.12c-0.398-0.483-0.796-0.967-1.19-1.45 0.59-0.683 1.18-1.37 1.77-2.05h-8.67v-2h8.67c-0.59-0.683-1.18-1.37-1.77-2.05 0.398-0.483 0.796-0.967 1.19-1.45 1.28 1.5 2.56 3 3.84 4.5-1.28 1.5-2.56 3-3.84 4.5z"></path></svg></md-icon>
      </md-icon-button>
      <colab-tooltip-trigger aria-hidden="true" id="button-output-actions-tooltip" for="button-output-actions" message="Acciones de salida de las celdas de código"><template shadowrootmode="open"><!----><!--?lit$075548653$--><!----><div><!--?lit$075548653$-->Acciones de salida de las celdas de código</div><!----><!--?--></template></colab-tooltip-trigger></template></colab-output-info></div>
          <div class="output-iframe-container">
            <div class="output-iframe-sizer"> <div><div><colab-static-output-renderer tabindex="0" role="group"><div><div class="stream output_text"><pre>Epoch 1/15
<span style="font-weight: bold;">30/30</span><span> </span><span style="color: var(--ansi-green);">━━━━━━━━━━━━━━━━━━━━</span><span> </span><span style="font-weight: bold;">34s</span><span> 970ms/step - accuracy: 0.7468 - loss: 0.6936 - masked_accuracy: 0.4148 - val_accuracy: 0.9179 - val_loss: 0.1902 - val_masked_accuracy: 0.6145
Epoch 2/15
</span><span style="font-weight: bold;">30/30</span><span> </span><span style="color: var(--ansi-green);">━━━━━━━━━━━━━━━━━━━━</span><span> </span><span style="font-weight: bold;">41s</span><span> 987ms/step - accuracy: 0.9158 - loss: 0.1928 - masked_accuracy: 0.6248 - val_accuracy: 0.9313 - val_loss: 0.1618 - val_masked_accuracy: 0.6774
Epoch 3/15
</span><span style="font-weight: bold;">30/30</span><span> </span><span style="color: var(--ansi-green);">━━━━━━━━━━━━━━━━━━━━</span><span> </span><span style="font-weight: bold;">41s</span><span> 986ms/step - accuracy: 0.9280 - loss: 0.1676 - masked_accuracy: 0.6785 - val_accuracy: 0.9361 - val_loss: 0.1515 - val_masked_accuracy: 0.6991
Epoch 4/15
</span><span style="font-weight: bold;">30/30</span><span> </span><span style="color: var(--ansi-green);">━━━━━━━━━━━━━━━━━━━━</span><span> </span><span style="font-weight: bold;">40s</span><span> 960ms/step - accuracy: 0.9333 - loss: 0.1578 - masked_accuracy: 0.7019 - val_accuracy: 0.9391 - val_loss: 0.1454 - val_masked_accuracy: 0.7120
Epoch 5/15
</span><span style="font-weight: bold;">30/30</span><span> </span><span style="color: var(--ansi-green);">━━━━━━━━━━━━━━━━━━━━</span><span> </span><span style="font-weight: bold;">29s</span><span> 971ms/step - accuracy: 0.9369 - loss: 0.1506 - masked_accuracy: 0.7180 - val_accuracy: 0.9420 - val_loss: 0.1390 - val_masked_accuracy: 0.7252
Epoch 6/15
</span><span style="font-weight: bold;">30/30</span><span> </span><span style="color: var(--ansi-green);">━━━━━━━━━━━━━━━━━━━━</span><span> </span><span style="font-weight: bold;">40s</span><span> 919ms/step - accuracy: 0.9398 - loss: 0.1441 - masked_accuracy: 0.7307 - val_accuracy: 0.9435 - val_loss: 0.1345 - val_masked_accuracy: 0.7317
Epoch 7/15
</span><span style="font-weight: bold;">30/30</span><span> </span><span style="color: var(--ansi-green);">━━━━━━━━━━━━━━━━━━━━</span><span> </span><span style="font-weight: bold;">42s</span><span> 952ms/step - accuracy: 0.9420 - loss: 0.1399 - masked_accuracy: 0.7405 - val_accuracy: 0.9454 - val_loss: 0.1306 - val_masked_accuracy: 0.7407
Epoch 8/15
</span><span style="font-weight: bold;">30/30</span><span> </span><span style="color: var(--ansi-green);">━━━━━━━━━━━━━━━━━━━━</span><span> </span><span style="font-weight: bold;">41s</span><span> 960ms/step - accuracy: 0.9439 - loss: 0.1356 - masked_accuracy: 0.7490 - val_accuracy: 0.9461 - val_loss: 0.1283 - val_masked_accuracy: 0.7436
Epoch 9/15
</span><span style="font-weight: bold;">30/30</span><span> </span><span style="color: var(--ansi-green);">━━━━━━━━━━━━━━━━━━━━</span><span> </span><span style="font-weight: bold;">29s</span><span> 985ms/step - accuracy: 0.9455 - loss: 0.1320 - masked_accuracy: 0.7560 - val_accuracy: 0.9473 - val_loss: 0.1261 - val_masked_accuracy: 0.7493
Epoch 10/15
</span><span style="font-weight: bold;">30/30</span><span> </span><span style="color: var(--ansi-green);">━━━━━━━━━━━━━━━━━━━━</span><span> </span><span style="font-weight: bold;">29s</span><span> 953ms/step - accuracy: 0.9462 - loss: 0.1291 - masked_accuracy: 0.7590 - val_accuracy: 0.9484 - val_loss: 0.1242 - val_masked_accuracy: 0.7547
Epoch 11/15
</span><span style="font-weight: bold;">30/30</span><span> </span><span style="color: var(--ansi-green);">━━━━━━━━━━━━━━━━━━━━</span><span> </span><span style="font-weight: bold;">28s</span><span> 948ms/step - accuracy: 0.9472 - loss: 0.1269 - masked_accuracy: 0.7638 - val_accuracy: 0.9495 - val_loss: 0.1221 - val_masked_accuracy: 0.7602
Epoch 12/15
</span><span style="font-weight: bold;">30/30</span><span> </span><span style="color: var(--ansi-green);">━━━━━━━━━━━━━━━━━━━━</span><span> </span><span style="font-weight: bold;">29s</span><span> 966ms/step - accuracy: 0.9486 - loss: 0.1242 - masked_accuracy: 0.7699 - val_accuracy: 0.9498 - val_loss: 0.1219 - val_masked_accuracy: 0.7614
Epoch 13/15
</span><span style="font-weight: bold;">30/30</span><span> </span><span style="color: var(--ansi-green);">━━━━━━━━━━━━━━━━━━━━</span><span> </span><span style="font-weight: bold;">41s</span><span> 974ms/step - accuracy: 0.9492 - loss: 0.1219 - masked_accuracy: 0.7726 - val_accuracy: 0.9504 - val_loss: 0.1207 - val_masked_accuracy: 0.7643
Epoch 14/15
</span><span style="font-weight: bold;">30/30</span><span> </span><span style="color: var(--ansi-green);">━━━━━━━━━━━━━━━━━━━━</span><span> </span><span style="font-weight: bold;">42s</span><span> 1s/step - accuracy: 0.9502 - loss: 0.1197 - masked_accuracy: 0.7771 - val_accuracy: 0.9506 - val_loss: 0.1204 - val_masked_accuracy: 0.7655
Epoch 15/15
</span><span style="font-weight: bold;">30/30</span><span> </span><span style="color: var(--ansi-green);">━━━━━━━━━━━━━━━━━━━━</span><span> </span><span style="font-weight: bold;">30s</span><span> 1s/step - accuracy: 0.9509 - loss: 0.1180 - masked_accuracy: 0.7800 - val_accuracy: 0.9509 - val_loss: 0.1194 - val_masked_accuracy: 0.7668
</span></pre></div></div><div></div></colab-static-output-renderer></div></div></div>
          </div>
        </div></div></div><colab-cell-next-steps><template shadowrootmode="open"><!----></template></colab-cell-next-steps></div></div><div class="add-cell">
      <hr>
    </div></div><div class="cell text" id="cell-E5B9VwzUZRHC" tabindex="-1" role="region" aria-label="Celda 12: Celda de texto; Model evaluation" style=""><div class="agent-focus-label">
      <md-icon aria-hidden="true"><template shadowrootmode="open"><!----><slot></slot></template>spark</md-icon>
      <!--?lit$075548653$-->Gemini
    </div><div class="cell-tag-editor sticky"></div><div class="cell-toolbar sticky"></div><div class="main-content" elevation="0"><div class="cell-contents"><div class="cell-mask"></div><span class="imported-info-area"></span><!----> <div class="toolbar-root"></div>
      <div class="editor-container horizontal">
        <div class="editor-root"></div>
        <div class="text-top-div">
          <div class="markdown"><span><div class="text-cell-section-header layout horizontal center"><md-icon-button class="header-section-toggle" title="Ocultar 0 celdas secundarias de Model evaluation (pulsa &lt;Mayús&gt; para ocultar también las secciones del mismo nivel)" data-aria-label="Ocultar 0 celdas secundarias de Model evaluation (pulsa &lt;Mayús&gt; para ocultar también las secciones del mismo nivel)" style="display: none;" value=""><template shadowrootmode="open" shadowrootdelegatesfocus><!----><button id="button" class="icon-button  standard " aria-label="Ocultar 0 celdas secundarias de Model evaluation (pulsa &lt;Mayús&gt; para ocultar también las secciones del mismo nivel)">
        <!--?lit$075548653$--><md-focus-ring part="focus-ring" for="button" aria-hidden="true"><template shadowrootmode="open"><!----></template></md-focus-ring>
        <!--?lit$075548653$--><md-ripple aria-hidden="true"><template shadowrootmode="open"><!----><div class="surface   "></div></template></md-ripple>
        <!--?lit$075548653$--><span class="icon"><slot></slot></span>
        <!--?lit$075548653$-->
        <!--?lit$075548653$--><span class="touch"></span>
  </button></template><md-icon aria-hidden="true"><template shadowrootmode="open"><!----><slot></slot></template>keyboard_arrow_down</md-icon></md-icon-button><h1><strong>Model evaluation</strong></h1></div>
</span></div>
        </div>
      </div>

      <div class="section-header" style="display: none;">
        <colab-run-button><template shadowrootmode="open"><!----> <div class=" cell-execution ">
      <button id="run-button" aria-label="Ejecutar celda" aria-disabled="false">
        <!--?lit$075548653$--><span class="execution-count"><!--?lit$075548653$-->[ ]</span>
        <span aria-hidden="true" class="cell-execution-indicator"><!--?lit$075548653$-->
<svg xmlns="http://www.w3.org/2000/svg" viewBox="0 0 24 24">
  <!--?lit$075548653$-->
  <mask id="playSymbolMask">
    <rect width="100%" height="100%" fill="white"></rect>
    <polygon points="10,8 17,12 10,16" fill="black"></polygon>
  </mask>
  <circle cx="12" cy="12" r="7.8" mask="url(#playSymbolMask)" id="filledCircle"></circle>
</svg></span>
      </button>
      <!--?lit$075548653$-->
      <!--?lit$075548653$--><!--?-->
    </div></template></colab-run-button>
        <div class="section-header-container" title="hacer clic para mostrar">
          <md-icon aria-hidden="true"><template shadowrootmode="open"><!----><slot></slot></template>subdirectory_arrow_right</md-icon>
          <span>0 celdas ocultas</span>
        </div>
      </div></div></div><div class="add-cell">
      <hr>
    </div></div><div class="cell text" id="cell-CGCtANj0wgNm" tabindex="-1" role="region" aria-label="Celda 13: Celda de texto; Functions" style=""><div class="agent-focus-label">
      <md-icon aria-hidden="true"><template shadowrootmode="open"><!----><slot></slot></template>spark</md-icon>
      <!--?lit$075548653$-->Gemini
    </div><div class="cell-tag-editor sticky"></div><div class="cell-toolbar sticky"></div><div class="main-content" elevation="0"><div class="cell-contents"><div class="cell-mask"></div><span class="imported-info-area"></span><!----> <div class="toolbar-root"></div>
      <div class="editor-container horizontal">
        <div class="editor-root"></div>
        <div class="text-top-div">
          <div class="markdown"><span><div class="text-cell-section-header layout horizontal center"><md-icon-button class="header-section-toggle" title="Ocultar 4 celdas secundarias de Functions (pulsa &lt;Mayús&gt; para ocultar también las secciones del mismo nivel)" data-aria-label="Ocultar 4 celdas secundarias de Functions (pulsa &lt;Mayús&gt; para ocultar también las secciones del mismo nivel)" value=""><template shadowrootmode="open" shadowrootdelegatesfocus><!----><button id="button" class="icon-button  standard " aria-label="Ocultar 4 celdas secundarias de Functions (pulsa &lt;Mayús&gt; para ocultar también las secciones del mismo nivel)">
        <!--?lit$075548653$--><md-focus-ring part="focus-ring" for="button" aria-hidden="true"><template shadowrootmode="open"><!----></template></md-focus-ring>
        <!--?lit$075548653$--><md-ripple aria-hidden="true"><template shadowrootmode="open"><!----><div class="surface   "></div></template></md-ripple>
        <!--?lit$075548653$--><span class="icon"><slot></slot></span>
        <!--?lit$075548653$-->
        <!--?lit$075548653$--><span class="touch"></span>
  </button></template><md-icon aria-hidden="true"><template shadowrootmode="open"><!----><slot></slot></template>keyboard_arrow_down</md-icon></md-icon-button><h1>Functions</h1></div>
</span></div>
        </div>
      </div>

      <div class="section-header" style="display: none;">
        <colab-run-button><template shadowrootmode="open"><!----> <div class=" cell-execution ">
      <button id="run-button" aria-label="Ejecutar celda" aria-disabled="false">
        <!--?lit$075548653$--><span class="execution-count"><!--?lit$075548653$-->[ ]</span>
        <span aria-hidden="true" class="cell-execution-indicator"><!--?lit$075548653$-->
<svg xmlns="http://www.w3.org/2000/svg" viewBox="0 0 24 24">
  <!--?lit$075548653$-->
  <mask id="playSymbolMask">
    <rect width="100%" height="100%" fill="white"></rect>
    <polygon points="10,8 17,12 10,16" fill="black"></polygon>
  </mask>
  <circle cx="12" cy="12" r="7.8" mask="url(#playSymbolMask)" id="filledCircle"></circle>
</svg></span>
      </button>
      <!--?lit$075548653$-->
      <!--?lit$075548653$--><!--?-->
    </div></template></colab-run-button>
        <div class="section-header-container" title="hacer clic para mostrar">
          <md-icon aria-hidden="true"><template shadowrootmode="open"><!----><slot></slot></template>subdirectory_arrow_right</md-icon>
          <span>4 celdas ocultas</span>
        </div>
      </div></div></div><div class="add-cell">
      <hr>
    </div></div><div class="cell code" id="cell-afG7njmtnu2c" tabindex="-1" role="region" aria-label="Celda 14: Celda de código; " style=""><div class="agent-focus-label">
      <md-icon aria-hidden="true"><template shadowrootmode="open"><!----><slot></slot></template>spark</md-icon>
      <!--?lit$075548653$-->Gemini
    </div><div class="cell-tag-editor sticky"></div><div class="cell-toolbar sticky"></div><div class="main-content" elevation="0"><div class="cell-contents"><div class="cell-mask"></div><span class="imported-info-area"></span><div class="codecell-input-output">
      <div class="inputarea horizontal layout code">
        <div class="cell-gutter">
          <!-- Bounding range for vertical scrolling of icons -->
          <div class="cell-execution-container">
            <colab-run-button><template shadowrootmode="open"><!----> <div class=" cell-execution stale ">
      <button id="run-button" aria-describedby="run-button-tooltip" aria-label="Ejecutar celda" aria-disabled="false">
        <!--?lit$075548653$--><span class="execution-count"><!--?lit$075548653$-->[ ]</span>
        <span aria-hidden="true" class="cell-execution-indicator"><!--?lit$075548653$-->
<svg xmlns="http://www.w3.org/2000/svg" viewBox="0 0 24 24">
  <!--?lit$075548653$-->
  <mask id="playSymbolMask">
    <rect width="100%" height="100%" fill="white"></rect>
    <polygon points="10,8 17,12 10,16" fill="black"></polygon>
  </mask>
  <circle cx="12" cy="12" r="7.8" mask="url(#playSymbolMask)" id="filledCircle"></circle>
</svg></span>
      </button>
      <!--?lit$075548653$--><colab-tooltip-trigger for="run-button" id="run-button-tooltip" aria-hidden="true" message="Ejecutar celda (Ctrl+Enter)
la celda no se ha ejecutado en esta sesión"><template shadowrootmode="open"><!----><!--?lit$075548653$--><!----><div><!--?lit$075548653$-->Ejecutar celda (Ctrl+Enter)</div><!----><!----><div><!--?lit$075548653$-->la celda no se ha ejecutado en esta sesión</div><!----><!--?--></template>
    </colab-tooltip-trigger>
      <!--?lit$075548653$--><!--?-->
    </div></template></colab-run-button>
          </div>
        </div>
      <div class="editor flex lazy-editor" style=""><pre class="lazy-virtualized" style="font-size: 14px; line-height: 19px;"><pre class="lazy-gutter"></pre><pre class="monaco-colorized colab colab" data-lang="notebook-python"><span><span class="mtk19">import</span><span class="mtk1">&nbsp;matplotlib.pyplot&nbsp;</span><span class="mtk19">as</span><span class="mtk1">&nbsp;plt</span></span><br><span><span></span></span><br><span><span class="mtk6">def</span><span class="mtk1">&nbsp;</span><span class="mtk15">plot_history</span><span class="mtk1">(</span><span class="mtk16">history</span><span class="mtk1">,&nbsp;</span><span class="mtk16">suptitle</span><span class="mtk1">=</span><span class="mtk21">''</span><span class="mtk1">):</span></span><br><span><span class="mtk1">&nbsp;&nbsp;&nbsp;&nbsp;train_acc&nbsp;=&nbsp;history.history[</span><span class="mtk21">'accuracy'</span><span class="mtk1">]</span></span><br><span><span class="mtk1">&nbsp;&nbsp;&nbsp;&nbsp;val_acc&nbsp;=&nbsp;history.history[</span><span class="mtk21">'val_accuracy'</span><span class="mtk1">]</span></span><br><span><span class="mtk1">&nbsp;&nbsp;&nbsp;&nbsp;train_masked_acc&nbsp;=&nbsp;history.history.get(</span><span class="mtk21">'masked_accuracy'</span><span class="mtk1">,&nbsp;[])</span></span><br><span><span class="mtk1">&nbsp;&nbsp;&nbsp;&nbsp;val_masked_acc&nbsp;=&nbsp;history.history.get(</span><span class="mtk21">'val_masked_accuracy'</span><span class="mtk1">,&nbsp;[])</span></span><br><span><span></span></span><br><span><span class="mtk1">&nbsp;&nbsp;&nbsp;&nbsp;train_loss&nbsp;=&nbsp;history.history[</span><span class="mtk21">'loss'</span><span class="mtk1">]</span></span><br><span><span class="mtk1">&nbsp;&nbsp;&nbsp;&nbsp;val_loss&nbsp;=&nbsp;history.history[</span><span class="mtk21">'val_loss'</span><span class="mtk1">]</span></span><br><span><span></span></span><br><span><span class="mtk1">&nbsp;&nbsp;&nbsp;&nbsp;epochs&nbsp;=&nbsp;</span><span class="mtk15">range</span><span class="mtk1">(</span><span class="mtk12">1</span><span class="mtk1">,&nbsp;</span><span class="mtk15">len</span><span class="mtk1">(train_acc)&nbsp;+&nbsp;</span><span class="mtk12">1</span><span class="mtk1">)</span></span><br><span><span></span></span><br><span><span class="mtk1">&nbsp;&nbsp;&nbsp;&nbsp;</span><span class="mtk8">#&nbsp;Figure&nbsp;with&nbsp;2&nbsp;graphs</span></span><br><span><span class="mtk1">&nbsp;&nbsp;&nbsp;&nbsp;fig,&nbsp;axs&nbsp;=&nbsp;plt.subplots(</span><span class="mtk12">1</span><span class="mtk1">,&nbsp;</span><span class="mtk12">2</span><span class="mtk1">,&nbsp;figsize=(</span><span class="mtk12">12</span><span class="mtk1">,&nbsp;</span><span class="mtk12">5</span><span class="mtk1">))</span></span><br><span><span class="mtk1">&nbsp;&nbsp;&nbsp;&nbsp;fig.suptitle(suptitle)</span></span><br><span><span></span></span><br><span><span class="mtk1">&nbsp;&nbsp;&nbsp;&nbsp;</span><span class="mtk8">#&nbsp;Accuracy&nbsp;for&nbsp;training&nbsp;and&nbsp;validation</span></span><br><span><span class="mtk1">&nbsp;&nbsp;&nbsp;&nbsp;axs[</span><span class="mtk12">0</span><span class="mtk1">].plot(epochs,&nbsp;train_acc,&nbsp;</span><span class="mtk21">'b'</span><span class="mtk1">,&nbsp;label=</span><span class="mtk21">'Training&nbsp;acc'</span><span class="mtk1">)</span></span><br><span><span class="mtk1">&nbsp;&nbsp;&nbsp;&nbsp;axs[</span><span class="mtk12">0</span><span class="mtk1">].plot(epochs,&nbsp;val_acc,&nbsp;</span><span class="mtk21">'r'</span><span class="mtk1">,&nbsp;label=</span><span class="mtk21">'Validation&nbsp;acc'</span><span class="mtk1">)</span></span><br><span><span></span></span><br><span><span class="mtk1">&nbsp;&nbsp;&nbsp;&nbsp;</span><span class="mtk19">if</span><span class="mtk1">&nbsp;train_masked_acc&nbsp;</span><span class="mtk6">and</span><span class="mtk1">&nbsp;val_masked_acc:</span></span><br><span><span class="mtk1">&nbsp;&nbsp;&nbsp;&nbsp;&nbsp;&nbsp;&nbsp;&nbsp;axs[</span><span class="mtk12">0</span><span class="mtk1">].plot(epochs,&nbsp;train_masked_acc,&nbsp;</span><span class="mtk21">'g'</span><span class="mtk1">,&nbsp;label=</span><span class="mtk21">'Training&nbsp;masked&nbsp;acc'</span><span class="mtk1">)</span></span><br><span><span class="mtk1">&nbsp;&nbsp;&nbsp;&nbsp;&nbsp;&nbsp;&nbsp;&nbsp;axs[</span><span class="mtk12">0</span><span class="mtk1">].plot(epochs,&nbsp;val_masked_acc,&nbsp;</span><span class="mtk21">'y'</span><span class="mtk1">,&nbsp;label=</span><span class="mtk21">'Validation&nbsp;masked&nbsp;acc'</span><span class="mtk1">)</span></span><br><span><span></span></span><br><span><span class="mtk1">&nbsp;&nbsp;&nbsp;&nbsp;axs[</span><span class="mtk12">0</span><span class="mtk1">].set_xlabel(</span><span class="mtk21">'Epochs'</span><span class="mtk1">)</span></span><br><span><span class="mtk1">&nbsp;&nbsp;&nbsp;&nbsp;axs[</span><span class="mtk12">0</span><span class="mtk1">].set_ylabel(</span><span class="mtk21">'Accuracy'</span><span class="mtk1">)</span></span><br><span><span class="mtk1">&nbsp;&nbsp;&nbsp;&nbsp;axs[</span><span class="mtk12">0</span><span class="mtk1">].set_title(</span><span class="mtk21">'Training&nbsp;&amp;&nbsp;Validation&nbsp;Accuracy'</span><span class="mtk1">)</span></span><br><span><span class="mtk1">&nbsp;&nbsp;&nbsp;&nbsp;axs[</span><span class="mtk12">0</span><span class="mtk1">].set_ylim(</span><span class="mtk12">0</span><span class="mtk1">,&nbsp;</span><span class="mtk12">1</span><span class="mtk1">)</span></span><br><span><span class="mtk1">&nbsp;&nbsp;&nbsp;&nbsp;axs[</span><span class="mtk12">0</span><span class="mtk1">].legend()</span></span><br><span><span class="mtk1">&nbsp;&nbsp;&nbsp;&nbsp;axs[</span><span class="mtk12">0</span><span class="mtk1">].grid()</span></span><br><span><span></span></span><br><span><span class="mtk1">&nbsp;&nbsp;&nbsp;&nbsp;</span><span class="mtk8">#&nbsp;Loss&nbsp;curve</span></span><br><span><span class="mtk1">&nbsp;&nbsp;&nbsp;&nbsp;axs[</span><span class="mtk12">1</span><span class="mtk1">].plot(epochs,&nbsp;train_loss,&nbsp;</span><span class="mtk21">'b'</span><span class="mtk1">,&nbsp;label=</span><span class="mtk21">'Training&nbsp;loss'</span><span class="mtk1">)</span></span><br><span><span class="mtk1">&nbsp;&nbsp;&nbsp;&nbsp;axs[</span><span class="mtk12">1</span><span class="mtk1">].plot(epochs,&nbsp;val_loss,&nbsp;</span><span class="mtk21">'r'</span><span class="mtk1">,&nbsp;label=</span><span class="mtk21">'Validation&nbsp;loss'</span><span class="mtk1">)</span></span><br><span><span></span></span><br><span><span class="mtk1">&nbsp;&nbsp;&nbsp;&nbsp;axs[</span><span class="mtk12">1</span><span class="mtk1">].set_xlabel(</span><span class="mtk21">'Epochs'</span><span class="mtk1">)</span></span><br><span><span class="mtk1">&nbsp;&nbsp;&nbsp;&nbsp;axs[</span><span class="mtk12">1</span><span class="mtk1">].set_ylabel(</span><span class="mtk21">'Loss'</span><span class="mtk1">)</span></span><br><span><span class="mtk1">&nbsp;&nbsp;&nbsp;&nbsp;axs[</span><span class="mtk12">1</span><span class="mtk1">].set_title(</span><span class="mtk21">'Training&nbsp;&amp;&nbsp;Validation&nbsp;Loss'</span><span class="mtk1">)</span></span><br><span><span class="mtk1">&nbsp;&nbsp;&nbsp;&nbsp;axs[</span><span class="mtk12">1</span><span class="mtk1">].legend()</span></span><br><span><span class="mtk1">&nbsp;&nbsp;&nbsp;&nbsp;axs[</span><span class="mtk12">1</span><span class="mtk1">].grid()</span></span><br><span><span></span></span><br><span><span class="mtk1">&nbsp;&nbsp;&nbsp;&nbsp;plt.tight_layout(rect=[</span><span class="mtk12">0</span><span class="mtk1">,&nbsp;</span><span class="mtk12">0</span><span class="mtk1">,&nbsp;</span><span class="mtk12">1</span><span class="mtk1">,&nbsp;</span><span class="mtk12">0.95</span><span class="mtk1">])</span></span><br><span><span class="mtk1">&nbsp;&nbsp;&nbsp;&nbsp;plt.show()</span></span><br></pre><colab-read-only-cell-placeholder style="display: none;"><template shadowrootmode="open"><!----><div><!--?lit$075548653$-->Empieza a programar o a <span tabindex="0" role="button" class="link">crear código</span> con IA.</div></template></colab-read-only-cell-placeholder></pre></div><colab-form class="formview vertical layout flex"><div class="widget-area vertical layout"></div></colab-form></div>
    <div class="output" aria-label="Salida de la celda 14" role="region"><!----> <div class="output-header"> </div>
        <div class="output-content" hidden="">
          <div class="output-info"> </div>
          <div class="output-iframe-container" hidden="">
            <div class="output-iframe-sizer"> </div>
          </div>
        </div></div></div><colab-cell-next-steps><template shadowrootmode="open"><!----></template></colab-cell-next-steps></div></div><div class="add-cell">
      <hr>
    </div></div><div class="cell code" id="cell-sXnVJziXZ86d" tabindex="-1" role="region" aria-label="Celda 15: Celda de código; " style=""><div class="agent-focus-label">
      <md-icon aria-hidden="true"><template shadowrootmode="open"><!----><slot></slot></template>spark</md-icon>
      <!--?lit$075548653$-->Gemini
    </div><div class="cell-tag-editor sticky"></div><div class="cell-toolbar sticky"></div><div class="main-content" elevation="0"><div class="cell-contents"><div class="cell-mask"></div><span class="imported-info-area"></span><div class="codecell-input-output">
      <div class="inputarea horizontal layout code">
        <div class="cell-gutter">
          <!-- Bounding range for vertical scrolling of icons -->
          <div class="cell-execution-container">
            <colab-run-button><template shadowrootmode="open"><!----> <div class=" cell-execution stale ">
      <button id="run-button" aria-describedby="run-button-tooltip" aria-label="Ejecutar celda" aria-disabled="false">
        <!--?lit$075548653$--><span class="execution-count"><!--?lit$075548653$-->[ ]</span>
        <span aria-hidden="true" class="cell-execution-indicator"><!--?lit$075548653$-->
<svg xmlns="http://www.w3.org/2000/svg" viewBox="0 0 24 24">
  <!--?lit$075548653$-->
  <mask id="playSymbolMask">
    <rect width="100%" height="100%" fill="white"></rect>
    <polygon points="10,8 17,12 10,16" fill="black"></polygon>
  </mask>
  <circle cx="12" cy="12" r="7.8" mask="url(#playSymbolMask)" id="filledCircle"></circle>
</svg></span>
      </button>
      <!--?lit$075548653$--><colab-tooltip-trigger for="run-button" id="run-button-tooltip" aria-hidden="true" message="Ejecutar celda (Ctrl+Enter)
la celda no se ha ejecutado en esta sesión"><template shadowrootmode="open"><!----><!--?lit$075548653$--><!----><div><!--?lit$075548653$-->Ejecutar celda (Ctrl+Enter)</div><!----><!----><div><!--?lit$075548653$-->la celda no se ha ejecutado en esta sesión</div><!----><!--?--></template>
    </colab-tooltip-trigger>
      <!--?lit$075548653$--><!--?-->
    </div></template></colab-run-button>
          </div>
        </div>
      <div class="editor flex lazy-editor" style=""><pre class="lazy-virtualized" style="font-size: 14px; line-height: 19px;"><pre class="lazy-gutter"></pre><pre class="monaco-colorized colab colab" data-lang="notebook-python"><span><span class="mtk19">from</span><span class="mtk1">&nbsp;sklearn.metrics&nbsp;</span><span class="mtk19">import</span><span class="mtk1">&nbsp;confusion_matrix,&nbsp;accuracy_score,&nbsp;precision_score</span><span class="mtk1">,&nbsp;matthews_corrcoef</span></span><br><span><span></span></span><br><span><span class="mtk6">def</span><span class="mtk1">&nbsp;</span><span class="mtk15">plot_confusion_matrix_pad</span><span class="mtk1">(</span><span class="mtk16">model</span><span class="mtk1">,&nbsp;</span><span class="mtk16">pssm_test</span><span class="mtk1">,&nbsp;</span><span class="mtk16">dssp_test_pssm</span><span class="mtk1">,&nbsp;</span><span class="mtk16">suptitle</span><span class="mtk1">=</span><span class="mtk21">''</span><span class="mtk1">,&nbsp;</span><span class="mtk16">color</span><span class="mtk1">=&nbsp;</span><span class="mtk21">'Greens'</span><span class="mtk1">):</span></span><br><span><span class="mtk1">&nbsp;&nbsp;</span><span class="mtk8">#&nbsp;Model&nbsp;predictions&nbsp;(probabilities)</span></span><br><span><span class="mtk1">&nbsp;&nbsp;y_pred_prob&nbsp;=&nbsp;model.predict(pssm_test)</span></span><br><span><span></span></span><br><span><span class="mtk1">&nbsp;&nbsp;</span><span class="mtk8">#&nbsp;Convert&nbsp;to&nbsp;class&nbsp;indices</span></span><br><span><span class="mtk1">&nbsp;&nbsp;y_pred&nbsp;=&nbsp;np.argmax(y_pred_prob,&nbsp;axis=</span><span class="mtk12">-1</span><span class="mtk1">)&nbsp;&nbsp;</span><span class="mtk8">#&nbsp;Predictions</span></span><br><span><span class="mtk1">&nbsp;&nbsp;y_true&nbsp;=&nbsp;np.argmax(dssp_test_pssm,&nbsp;axis=</span><span class="mtk12">-1</span><span class="mtk1">)&nbsp;&nbsp;</span><span class="mtk8">#&nbsp;True&nbsp;labels</span></span><br><span><span></span></span><br><span><span class="mtk1">&nbsp;&nbsp;y_pred_flat&nbsp;=&nbsp;y_pred.flatten()</span></span><br><span><span class="mtk1">&nbsp;&nbsp;y_true_flat&nbsp;=&nbsp;y_true.flatten()</span></span><br><span><span></span></span><br><span><span class="mtk1">&nbsp;&nbsp;</span><span class="mtk8">#&nbsp;Define&nbsp;class&nbsp;names</span></span><br><span><span class="mtk1">&nbsp;&nbsp;class_names&nbsp;=&nbsp;[</span><span class="mtk21">'Helix'</span><span class="mtk1">,&nbsp;</span><span class="mtk21">'Sheet'</span><span class="mtk1">,</span><span class="mtk21">'Coil'</span><span class="mtk1">,&nbsp;</span><span class="mtk21">'Padded'</span><span class="mtk1">]</span></span><br><span><span></span></span><br><span><span class="mtk1">&nbsp;&nbsp;</span><span class="mtk8">#&nbsp;Compute&nbsp;confusion&nbsp;matrix</span></span><br><span><span class="mtk1">&nbsp;&nbsp;cm&nbsp;=&nbsp;confusion_matrix(y_true_flat,&nbsp;y_pred_flat)</span></span><br><span><span></span></span><br><span><span class="mtk1">&nbsp;&nbsp;</span><span class="mtk8">#&nbsp;Plot&nbsp;the&nbsp;confusion&nbsp;matrix</span></span><br><span><span class="mtk1">&nbsp;&nbsp;plt.figure(figsize=(</span><span class="mtk12">6</span><span class="mtk1">,&nbsp;</span><span class="mtk12">5</span><span class="mtk1">))</span></span><br><span><span class="mtk1">&nbsp;&nbsp;sns.heatmap(cm,&nbsp;annot=</span><span class="mtk6">True</span><span class="mtk1">,&nbsp;fmt=</span><span class="mtk21">"d"</span><span class="mtk1">,&nbsp;cmap=&nbsp;color,&nbsp;xticklabels=class_names,&nbsp;yticklabel</span><span class="mtk1">s=class_names)</span></span><br><span><span class="mtk1">&nbsp;&nbsp;plt.xlabel(</span><span class="mtk21">"Predicted"</span><span class="mtk1">)</span></span><br><span><span class="mtk1">&nbsp;&nbsp;plt.ylabel(</span><span class="mtk21">"True"</span><span class="mtk1">)</span></span><br><span><span class="mtk1">&nbsp;&nbsp;plt.title(</span><span class="mtk21">"Confusion&nbsp;Matrix"</span><span class="mtk1">)</span></span><br><span><span class="mtk1">&nbsp;&nbsp;plt.suptitle(suptitle)</span></span><br><span><span class="mtk1">&nbsp;&nbsp;plt.show()</span></span><br><span><span></span></span><br><span><span class="mtk6">def</span><span class="mtk1">&nbsp;</span><span class="mtk15">plot_confusion_matrix</span><span class="mtk1">(</span><span class="mtk16">model</span><span class="mtk1">,&nbsp;</span><span class="mtk16">pssm_test</span><span class="mtk1">,&nbsp;</span><span class="mtk16">dssp_test_pssm</span><span class="mtk1">,&nbsp;</span><span class="mtk16">suptitle</span><span class="mtk1">=</span><span class="mtk21">''</span><span class="mtk1">,&nbsp;</span><span class="mtk16">color</span><span class="mtk1">=&nbsp;</span><span class="mtk21">'Greens'</span><span class="mtk1">):</span></span><br><span><span class="mtk1">&nbsp;&nbsp;</span><span class="mtk8">#&nbsp;Model&nbsp;predictions&nbsp;(probabilities)</span></span><br><span><span class="mtk1">&nbsp;&nbsp;y_pred_prob&nbsp;=&nbsp;model.predict(pssm_test)</span></span><br><span><span></span></span><br><span><span class="mtk1">&nbsp;&nbsp;</span><span class="mtk8">#&nbsp;Convert&nbsp;to&nbsp;class&nbsp;indices</span></span><br><span><span class="mtk1">&nbsp;&nbsp;y_pred&nbsp;=&nbsp;np.argmax(y_pred_prob,&nbsp;axis=</span><span class="mtk12">-1</span><span class="mtk1">)&nbsp;&nbsp;</span><span class="mtk8">#&nbsp;Predictions</span></span><br><span><span class="mtk1">&nbsp;&nbsp;y_true&nbsp;=&nbsp;np.argmax(dssp_test_pssm,&nbsp;axis=</span><span class="mtk12">-1</span><span class="mtk1">)&nbsp;&nbsp;</span><span class="mtk8">#&nbsp;True&nbsp;labels</span></span><br><span><span></span></span><br><span><span class="mtk1">&nbsp;&nbsp;</span><span class="mtk8">#&nbsp;Flatten&nbsp;sequences</span></span><br><span><span class="mtk1">&nbsp;&nbsp;y_pred_flat&nbsp;=&nbsp;y_pred.flatten()</span></span><br><span><span class="mtk1">&nbsp;&nbsp;y_true_flat&nbsp;=&nbsp;y_true.flatten()</span></span><br><span><span></span></span><br><span><span class="mtk1">&nbsp;&nbsp;</span><span class="mtk8">#&nbsp;Mask:&nbsp;Ignore&nbsp;any&nbsp;case&nbsp;where&nbsp;either&nbsp;true&nbsp;OR&nbsp;predi</span><span class="mtk8">cted&nbsp;label&nbsp;is&nbsp;'Padded'&nbsp;(index&nbsp;3)</span></span><br><span><span class="mtk1">&nbsp;&nbsp;mask&nbsp;=&nbsp;(y_true_flat&nbsp;!=&nbsp;</span><span class="mtk12">3</span><span class="mtk1">)&nbsp;&amp;&nbsp;(y_pred_flat&nbsp;!=&nbsp;</span><span class="mtk12">3</span><span class="mtk1">)</span></span><br><span><span class="mtk1">&nbsp;&nbsp;y_pred_filtered&nbsp;=&nbsp;y_pred_flat[mask]</span></span><br><span><span class="mtk1">&nbsp;&nbsp;y_true_filtered&nbsp;=&nbsp;y_true_flat[mask]</span></span><br><span><span></span></span><br><span><span class="mtk1">&nbsp;</span><span class="mtk8">#&nbsp;Metrics</span></span><br><span><span class="mtk1">&nbsp;&nbsp;accuracy&nbsp;=&nbsp;accuracy_score(y_true_filtered,&nbsp;y_pre</span><span class="mtk1">d_filtered)</span></span><br><span><span class="mtk1">&nbsp;&nbsp;precision&nbsp;=&nbsp;precision_score(y_true_filtered,&nbsp;y_p</span><span class="mtk1">red_filtered,&nbsp;average=</span><span class="mtk21">'macro'</span><span class="mtk1">)</span></span><br><span><span class="mtk1">&nbsp;&nbsp;mcc&nbsp;=&nbsp;matthews_corrcoef(y_true_filtered,&nbsp;y_pred_</span><span class="mtk1">filtered)</span></span><br><span><span></span></span><br><span><span class="mtk1">&nbsp;&nbsp;</span><span class="mtk8">#&nbsp;Define&nbsp;class&nbsp;names&nbsp;excluding&nbsp;"Padded"</span></span><br><span><span class="mtk1">&nbsp;&nbsp;class_names&nbsp;=&nbsp;[</span><span class="mtk21">"Helix"</span><span class="mtk1">,&nbsp;</span><span class="mtk21">"Sheet"</span><span class="mtk1">,&nbsp;</span><span class="mtk21">"Coil"</span><span class="mtk1">]</span></span><br><span><span></span></span><br><span><span class="mtk1">&nbsp;&nbsp;</span><span class="mtk8">#&nbsp;Compute&nbsp;confusion&nbsp;matrix</span></span><br><span><span class="mtk1">&nbsp;&nbsp;cm&nbsp;=&nbsp;confusion_matrix(y_true_filtered,&nbsp;y_pred_fi</span><span class="mtk1">ltered)</span></span><br><span><span></span></span><br><span><span class="mtk1">&nbsp;&nbsp;</span><span class="mtk8">#&nbsp;Plot&nbsp;the&nbsp;confusion&nbsp;matrix</span></span><br><span><span class="mtk1">&nbsp;&nbsp;plt.figure(figsize=(</span><span class="mtk12">6</span><span class="mtk1">,&nbsp;</span><span class="mtk12">5</span><span class="mtk1">))</span></span><br><span><span class="mtk1">&nbsp;&nbsp;sns.heatmap(cm,&nbsp;annot=</span><span class="mtk6">True</span><span class="mtk1">,&nbsp;fmt=</span><span class="mtk21">"d"</span><span class="mtk1">,&nbsp;cmap=&nbsp;color,&nbsp;xticklabels=class_names,&nbsp;yticklabel</span><span class="mtk1">s=class_names)</span></span><br><span><span class="mtk1">&nbsp;&nbsp;plt.xlabel(</span><span class="mtk21">"Predicted"</span><span class="mtk1">)</span></span><br><span><span class="mtk1">&nbsp;&nbsp;plt.ylabel(</span><span class="mtk21">"True"</span><span class="mtk1">)</span></span><br><span><span class="mtk1">&nbsp;&nbsp;plt.title(</span><span class="mtk21">"Confusion&nbsp;Matrix&nbsp;(Without&nbsp;Padding)"</span><span class="mtk1">)</span></span><br><span><span class="mtk1">&nbsp;&nbsp;plt.suptitle(suptitle)</span></span><br><span><span class="mtk1">&nbsp;&nbsp;plt.show()</span></span><br><span><span></span></span><br><span><span class="mtk1">&nbsp;&nbsp;</span><span class="mtk19">return</span><span class="mtk1">&nbsp;[accuracy,&nbsp;precision,&nbsp;mcc]</span></span><br><span><span></span></span><br></pre><colab-read-only-cell-placeholder style="display: none;"><template shadowrootmode="open"><!----><div><!--?lit$075548653$-->Empieza a programar o a <span tabindex="0" role="button" class="link">crear código</span> con IA.</div></template></colab-read-only-cell-placeholder></pre></div><colab-form class="formview vertical layout flex"><div class="widget-area vertical layout"></div></colab-form></div>
    <div class="output" aria-label="Salida de la celda 15" role="region"><!----> <div class="output-header"> </div>
        <div class="output-content" hidden="">
          <div class="output-info"> </div>
          <div class="output-iframe-container" hidden="">
            <div class="output-iframe-sizer"> </div>
          </div>
        </div></div></div><colab-cell-next-steps><template shadowrootmode="open"><!----></template></colab-cell-next-steps></div></div><div class="add-cell">
      <hr>
    </div></div><div class="cell code" id="cell-dLR-EbjMeCsh" tabindex="-1" role="region" aria-label="Celda 16: Celda de código; " style=""><div class="agent-focus-label">
      <md-icon aria-hidden="true"><template shadowrootmode="open"><!----><slot></slot></template>spark</md-icon>
      <!--?lit$075548653$-->Gemini
    </div><div class="cell-tag-editor sticky"></div><div class="cell-toolbar sticky"></div><div class="main-content" elevation="0"><div class="cell-contents"><div class="cell-mask"></div><span class="imported-info-area"></span><div class="codecell-input-output">
      <div class="inputarea horizontal layout code">
        <div class="cell-gutter">
          <!-- Bounding range for vertical scrolling of icons -->
          <div class="cell-execution-container">
            <colab-run-button><template shadowrootmode="open"><!----> <div class=" cell-execution stale ">
      <button id="run-button" aria-describedby="run-button-tooltip" aria-label="Ejecutar celda" aria-disabled="false">
        <!--?lit$075548653$--><span class="execution-count"><!--?lit$075548653$-->[ ]</span>
        <span aria-hidden="true" class="cell-execution-indicator"><!--?lit$075548653$-->
<svg xmlns="http://www.w3.org/2000/svg" viewBox="0 0 24 24">
  <!--?lit$075548653$-->
  <mask id="playSymbolMask">
    <rect width="100%" height="100%" fill="white"></rect>
    <polygon points="10,8 17,12 10,16" fill="black"></polygon>
  </mask>
  <circle cx="12" cy="12" r="7.8" mask="url(#playSymbolMask)" id="filledCircle"></circle>
</svg></span>
      </button>
      <!--?lit$075548653$--><colab-tooltip-trigger for="run-button" id="run-button-tooltip" aria-hidden="true" message="Ejecutar celda (Ctrl+Enter)
la celda no se ha ejecutado en esta sesión"><template shadowrootmode="open"><!----><!--?lit$075548653$--><!----><div><!--?lit$075548653$-->Ejecutar celda (Ctrl+Enter)</div><!----><!----><div><!--?lit$075548653$-->la celda no se ha ejecutado en esta sesión</div><!----><!--?--></template>
    </colab-tooltip-trigger>
      <!--?lit$075548653$--><!--?-->
    </div></template></colab-run-button>
          </div>
        </div>
      <div class="editor flex lazy-editor" style=""><pre class="lazy-virtualized" style="font-size: 14px; line-height: 19px;"><pre class="lazy-gutter"></pre><pre class="monaco-colorized colab colab" data-lang="notebook-python"><span><span class="mtk6">def</span><span class="mtk1">&nbsp;</span><span class="mtk15">get_metrics</span><span class="mtk1">(</span><span class="mtk16">model</span><span class="mtk1">,&nbsp;</span><span class="mtk16">h</span><span class="mtk1">,&nbsp;</span><span class="mtk16">x_test</span><span class="mtk1">,&nbsp;</span><span class="mtk16">y_test</span><span class="mtk1">):</span></span><br><span><span class="mtk1">&nbsp;&nbsp;test_acc&nbsp;=&nbsp;model.evaluate(x_test,&nbsp;y_test)[</span><span class="mtk12">0</span><span class="mtk1">]</span></span><br><span><span class="mtk1">&nbsp;&nbsp;acc&nbsp;=&nbsp;h.history[</span><span class="mtk21">'accuracy'</span><span class="mtk1">][</span><span class="mtk12">-1</span><span class="mtk1">]</span></span><br><span><span class="mtk1">&nbsp;&nbsp;mask_acc&nbsp;=&nbsp;h.history[</span><span class="mtk21">'masked_accuracy'</span><span class="mtk1">][</span><span class="mtk12">-1</span><span class="mtk1">]</span></span><br><span><span class="mtk1">&nbsp;&nbsp;vacc&nbsp;=&nbsp;h.history[</span><span class="mtk21">'val_accuracy'</span><span class="mtk1">][</span><span class="mtk12">-1</span><span class="mtk1">]</span></span><br><span><span class="mtk1">&nbsp;&nbsp;vmask_acc&nbsp;=&nbsp;h.history[</span><span class="mtk21">'val_masked_accuracy'</span><span class="mtk1">][</span><span class="mtk12">-1</span><span class="mtk1">]</span></span><br><span><span class="mtk1">&nbsp;&nbsp;loss&nbsp;=&nbsp;h.history[</span><span class="mtk21">'loss'</span><span class="mtk1">][</span><span class="mtk12">-1</span><span class="mtk1">]</span></span><br><span><span class="mtk1">&nbsp;&nbsp;val_loss&nbsp;=&nbsp;h.history[</span><span class="mtk21">'val_loss'</span><span class="mtk1">][</span><span class="mtk12">-1</span><span class="mtk1">]</span></span><br><span><span class="mtk1">&nbsp;&nbsp;</span><span class="mtk19">return</span><span class="mtk1">&nbsp;[acc,&nbsp;mask_acc,&nbsp;vacc,&nbsp;vmask_acc,&nbsp;loss,&nbsp;val_loss]</span></span><br></pre><colab-read-only-cell-placeholder style="display: none;"><template shadowrootmode="open"><!----><div><!--?lit$075548653$-->Empieza a programar o a <span tabindex="0" role="button" class="link">crear código</span> con IA.</div></template></colab-read-only-cell-placeholder></pre></div><colab-form class="formview vertical layout flex"><div class="widget-area vertical layout"></div></colab-form></div>
    <div class="output" aria-label="Salida de la celda 16" role="region"><!----> <div class="output-header"> </div>
        <div class="output-content" hidden="">
          <div class="output-info"> </div>
          <div class="output-iframe-container" hidden="">
            <div class="output-iframe-sizer"> </div>
          </div>
        </div></div></div><colab-cell-next-steps><template shadowrootmode="open"><!----></template></colab-cell-next-steps></div></div><div class="add-cell">
      <hr>
    </div></div><div class="cell code" id="cell-HpdaZHhRBKQZ" tabindex="-1" role="region" aria-label="Celda 17: Celda de código; " style=""><div class="agent-focus-label">
      <md-icon aria-hidden="true"><template shadowrootmode="open"><!----><slot></slot></template>spark</md-icon>
      <!--?lit$075548653$-->Gemini
    </div><div class="cell-tag-editor sticky"></div><div class="cell-toolbar sticky"></div><div class="main-content" elevation="0"><div class="cell-contents"><div class="cell-mask"></div><span class="imported-info-area"></span><div class="codecell-input-output">
      <div class="inputarea horizontal layout code">
        <div class="cell-gutter">
          <!-- Bounding range for vertical scrolling of icons -->
          <div class="cell-execution-container">
            <colab-run-button><template shadowrootmode="open"><!----> <div class=" cell-execution stale ">
      <button id="run-button" aria-describedby="run-button-tooltip" aria-label="Ejecutar celda" aria-disabled="false">
        <!--?lit$075548653$--><span class="execution-count"><!--?lit$075548653$-->[ ]</span>
        <span aria-hidden="true" class="cell-execution-indicator"><!--?lit$075548653$-->
<svg xmlns="http://www.w3.org/2000/svg" viewBox="0 0 24 24">
  <!--?lit$075548653$-->
  <mask id="playSymbolMask">
    <rect width="100%" height="100%" fill="white"></rect>
    <polygon points="10,8 17,12 10,16" fill="black"></polygon>
  </mask>
  <circle cx="12" cy="12" r="7.8" mask="url(#playSymbolMask)" id="filledCircle"></circle>
</svg></span>
      </button>
      <!--?lit$075548653$--><colab-tooltip-trigger for="run-button" id="run-button-tooltip" aria-hidden="true" message="Ejecutar celda (Ctrl+Enter)
la celda no se ha ejecutado en esta sesión"><template shadowrootmode="open"><!----><!--?lit$075548653$--><!----><div><!--?lit$075548653$-->Ejecutar celda (Ctrl+Enter)</div><!----><!----><div><!--?lit$075548653$-->la celda no se ha ejecutado en esta sesión</div><!----><!--?--></template>
    </colab-tooltip-trigger>
      <!--?lit$075548653$--><!--?-->
    </div></template></colab-run-button>
          </div>
        </div>
      <div class="editor flex lazy-editor" style=""><pre class="lazy-virtualized" style="font-size: 14px; line-height: 19px;"><pre class="lazy-gutter"></pre><pre class="monaco-colorized colab colab" data-lang="notebook-python"><span><span class="mtk6">def</span><span class="mtk1">&nbsp;</span><span class="mtk15">plot_model_comparison</span><span class="mtk1">(</span><span class="mtk16">data</span><span class="mtk1">,&nbsp;</span><span class="mtk16">labels</span><span class="mtk1">,&nbsp;</span><span class="mtk16">title</span><span class="mtk1">,&nbsp;</span><span class="mtk16">cm</span><span class="mtk1">=&nbsp;</span><span class="mtk6">False</span><span class="mtk1">):</span></span><br><span><span class="mtk1">&nbsp;&nbsp;&nbsp;&nbsp;</span><span class="mtk21">"""</span></span><br><span><span class="mtk21">&nbsp;&nbsp;&nbsp;Generates&nbsp;a&nbsp;bar&nbsp;chart&nbsp;to&nbsp;compare&nbsp;multiple&nbsp;model</span><span class="mtk21">s.</span></span><br><span><span></span></span><br><span><span class="mtk21">&nbsp;&nbsp;&nbsp;&nbsp;Parameters:</span></span><br><span><span class="mtk21">&nbsp;&nbsp;&nbsp;&nbsp;-&nbsp;data:&nbsp;list&nbsp;of&nbsp;lists,&nbsp;where&nbsp;each&nbsp;sublist&nbsp;repr</span><span class="mtk21">esents&nbsp;the&nbsp;values&nbsp;of&nbsp;a&nbsp;model&nbsp;according&nbsp;to&nbsp;the&nbsp;metr</span><span class="mtk21">ics.</span></span><br><span><span class="mtk21">&nbsp;&nbsp;&nbsp;&nbsp;-&nbsp;labels:&nbsp;list&nbsp;of&nbsp;model&nbsp;names.</span></span><br><span><span class="mtk21">&nbsp;&nbsp;&nbsp;&nbsp;-&nbsp;title:&nbsp;title&nbsp;of&nbsp;the&nbsp;graphic</span></span><br><span><span class="mtk21">&nbsp;&nbsp;&nbsp;&nbsp;-&nbsp;cm:&nbsp;True&nbsp;if&nbsp;we&nbsp;want&nbsp;to&nbsp;plot&nbsp;confusion&nbsp;matrix</span><span class="mtk21">&nbsp;metrics</span></span><br><span><span></span></span><br><span><span class="mtk21">&nbsp;&nbsp;&nbsp;&nbsp;"""</span></span><br><span><span class="mtk1">&nbsp;&nbsp;&nbsp;&nbsp;</span><span class="mtk19">if</span><span class="mtk1">&nbsp;cm:</span></span><br><span><span class="mtk1">&nbsp;&nbsp;&nbsp;&nbsp;&nbsp;&nbsp;&nbsp;&nbsp;metrics&nbsp;=&nbsp;[</span><span class="mtk21">'Accuracy'</span><span class="mtk1">,&nbsp;</span><span class="mtk21">'Precision'</span><span class="mtk1">,&nbsp;</span><span class="mtk21">'MCC'</span><span class="mtk1">]</span></span><br><span><span class="mtk1">&nbsp;&nbsp;&nbsp;&nbsp;</span><span class="mtk19">else</span><span class="mtk1">:</span></span><br><span><span class="mtk1">&nbsp;&nbsp;&nbsp;&nbsp;&nbsp;&nbsp;&nbsp;&nbsp;metrics&nbsp;=&nbsp;[</span><span class="mtk21">'Accuracy'</span><span class="mtk1">,&nbsp;</span><span class="mtk21">'Masked&nbsp;Accuracy'</span><span class="mtk1">,&nbsp;</span><span class="mtk21">'Val&nbsp;Accuracy'</span><span class="mtk1">,&nbsp;</span><span class="mtk21">'Val&nbsp;Masked&nbsp;Accuracy'</span><span class="mtk1">,&nbsp;</span><span class="mtk21">'Loss'</span><span class="mtk1">,&nbsp;</span><span class="mtk21">'Val&nbsp;Loss'</span><span class="mtk1">]</span></span><br><span><span></span></span><br><span><span class="mtk1">&nbsp;&nbsp;&nbsp;&nbsp;num_models&nbsp;=&nbsp;</span><span class="mtk15">len</span><span class="mtk1">(data)</span></span><br><span><span class="mtk1">&nbsp;&nbsp;&nbsp;&nbsp;num_metrics&nbsp;=&nbsp;</span><span class="mtk15">len</span><span class="mtk1">(metrics)</span></span><br><span><span></span></span><br><span><span class="mtk1">&nbsp;&nbsp;&nbsp;&nbsp;x&nbsp;=&nbsp;np.arange(num_metrics)&nbsp;&nbsp;</span><span class="mtk8">#&nbsp;X&nbsp;axis</span></span><br><span><span class="mtk1">&nbsp;&nbsp;&nbsp;&nbsp;width&nbsp;=&nbsp;</span><span class="mtk12">0.8</span><span class="mtk1">&nbsp;/&nbsp;num_models&nbsp;&nbsp;</span><span class="mtk8">#&nbsp;Bar&nbsp;width</span></span><br><span><span></span></span><br><span><span class="mtk1">&nbsp;&nbsp;&nbsp;&nbsp;fig,&nbsp;ax&nbsp;=&nbsp;plt.subplots(figsize=(</span><span class="mtk12">10</span><span class="mtk1">,&nbsp;</span><span class="mtk12">6</span><span class="mtk1">))</span></span><br><span><span></span></span><br><span><span class="mtk1">&nbsp;&nbsp;&nbsp;&nbsp;</span><span class="mtk8">#&nbsp;Plot&nbsp;each&nbsp;model&nbsp;with&nbsp;an&nbsp;offset&nbsp;on&nbsp;the&nbsp;X-axis.</span></span><br><span><span class="mtk1">&nbsp;&nbsp;&nbsp;&nbsp;</span><span class="mtk19">for</span><span class="mtk1">&nbsp;i,&nbsp;(model_data,&nbsp;label)&nbsp;</span><span class="mtk6">in</span><span class="mtk1">&nbsp;</span><span class="mtk15">enumerate</span><span class="mtk1">(</span><span class="mtk15">zip</span><span class="mtk1">(data,&nbsp;labels)):</span></span><br><span><span class="mtk1">&nbsp;&nbsp;&nbsp;&nbsp;&nbsp;&nbsp;&nbsp;&nbsp;ax.bar(x&nbsp;+&nbsp;i&nbsp;*&nbsp;width&nbsp;-&nbsp;(width&nbsp;*&nbsp;(num_model</span><span class="mtk1">s&nbsp;-&nbsp;</span><span class="mtk12">1</span><span class="mtk1">)&nbsp;/&nbsp;</span><span class="mtk12">2</span><span class="mtk1">),&nbsp;model_data,&nbsp;width,&nbsp;label=label)</span></span><br><span><span></span></span><br><span><span class="mtk1">&nbsp;&nbsp;&nbsp;&nbsp;</span><span class="mtk8">#&nbsp;Plot&nbsp;conf</span></span><br><span><span class="mtk1">&nbsp;&nbsp;&nbsp;&nbsp;ax.set_xticks(x)</span></span><br><span><span class="mtk1">&nbsp;&nbsp;&nbsp;&nbsp;ax.set_xticklabels(metrics)</span></span><br><span><span class="mtk1">&nbsp;&nbsp;&nbsp;&nbsp;ax.set_ylabel(</span><span class="mtk21">'Value'</span><span class="mtk1">)</span></span><br><span><span class="mtk1">&nbsp;&nbsp;&nbsp;&nbsp;ax.set_ylim(</span><span class="mtk12">0</span><span class="mtk1">,&nbsp;</span><span class="mtk12">1</span><span class="mtk1">)</span></span><br><span><span class="mtk1">&nbsp;&nbsp;&nbsp;&nbsp;ax.set_title(title)</span></span><br><span><span class="mtk1">&nbsp;&nbsp;&nbsp;&nbsp;ax.legend()</span></span><br><span><span></span></span><br><span><span class="mtk1">&nbsp;&nbsp;&nbsp;&nbsp;plt.show()</span></span><br></pre><colab-read-only-cell-placeholder style="display: none;"><template shadowrootmode="open"><!----><div><!--?lit$075548653$-->Empieza a programar o a <span tabindex="0" role="button" class="link">crear código</span> con IA.</div></template></colab-read-only-cell-placeholder></pre></div><colab-form class="formview vertical layout flex"><div class="widget-area vertical layout"></div></colab-form></div>
    <div class="output" aria-label="Salida de la celda 17" role="region"><!----> <div class="output-header"> </div>
        <div class="output-content" hidden="">
          <div class="output-info"> </div>
          <div class="output-iframe-container" hidden="">
            <div class="output-iframe-sizer"> </div>
          </div>
        </div></div></div><colab-cell-next-steps><template shadowrootmode="open"><!----></template></colab-cell-next-steps></div></div><div class="add-cell">
      <hr>
    </div></div><div class="cell text" id="cell-NkVeb5FqnBCL" tabindex="-1" role="region" aria-label="Celda 18: Celda de texto; Model 1: 2 Bidirectional layer" style=""><div class="agent-focus-label">
      <md-icon aria-hidden="true"><template shadowrootmode="open"><!----><slot></slot></template>spark</md-icon>
      <!--?lit$075548653$-->Gemini
    </div><div class="cell-tag-editor sticky"></div><div class="cell-toolbar sticky"></div><div class="main-content" elevation="0"><div class="cell-contents"><div class="cell-mask"></div><span class="imported-info-area"></span><!----> <div class="toolbar-root"></div>
      <div class="editor-container horizontal">
        <div class="editor-root"></div>
        <div class="text-top-div">
          <div class="markdown"><span><div class="text-cell-section-header layout horizontal center"><md-icon-button class="header-section-toggle" title="Ocultar 3 celdas secundarias de Model 1: 2 Bidirectional layer (pulsa &lt;Mayús&gt; para ocultar también las secciones del mismo nivel)" data-aria-label="Ocultar 3 celdas secundarias de Model 1: 2 Bidirectional layer (pulsa &lt;Mayús&gt; para ocultar también las secciones del mismo nivel)" value=""><template shadowrootmode="open" shadowrootdelegatesfocus><!----><button id="button" class="icon-button  standard " aria-label="Ocultar 3 celdas secundarias de Model 1: 2 Bidirectional layer (pulsa &lt;Mayús&gt; para ocultar también las secciones del mismo nivel)">
        <!--?lit$075548653$--><md-focus-ring part="focus-ring" for="button" aria-hidden="true"><template shadowrootmode="open"><!----></template></md-focus-ring>
        <!--?lit$075548653$--><md-ripple aria-hidden="true"><template shadowrootmode="open"><!----><div class="surface   "></div></template></md-ripple>
        <!--?lit$075548653$--><span class="icon"><slot></slot></span>
        <!--?lit$075548653$-->
        <!--?lit$075548653$--><span class="touch"></span>
  </button></template><md-icon aria-hidden="true"><template shadowrootmode="open"><!----><slot></slot></template>keyboard_arrow_down</md-icon></md-icon-button><h1>Model 1: 2 Bidirectional layer</h1></div>
</span></div>
        </div>
      </div>

      <div class="section-header" style="display: none;">
        <colab-run-button><template shadowrootmode="open"><!----> <div class=" cell-execution ">
      <button id="run-button" aria-label="Ejecutar celda" aria-disabled="false">
        <!--?lit$075548653$--><span class="execution-count"><!--?lit$075548653$-->[ ]</span>
        <span aria-hidden="true" class="cell-execution-indicator"><!--?lit$075548653$-->
<svg xmlns="http://www.w3.org/2000/svg" viewBox="0 0 24 24">
  <!--?lit$075548653$-->
  <mask id="playSymbolMask">
    <rect width="100%" height="100%" fill="white"></rect>
    <polygon points="10,8 17,12 10,16" fill="black"></polygon>
  </mask>
  <circle cx="12" cy="12" r="7.8" mask="url(#playSymbolMask)" id="filledCircle"></circle>
</svg></span>
      </button>
      <!--?lit$075548653$-->
      <!--?lit$075548653$--><!--?-->
    </div></template></colab-run-button>
        <div class="section-header-container" title="hacer clic para mostrar">
          <md-icon aria-hidden="true"><template shadowrootmode="open"><!----><slot></slot></template>subdirectory_arrow_right</md-icon>
          <span>3 celdas ocultas</span>
        </div>
      </div></div></div><div class="add-cell">
      <hr>
    </div></div><div class="cell code code-has-output" id="cell-tbKwLjPXn4XU" tabindex="-1" role="region" aria-label="Celda 19: Celda de código; " style=""><div class="agent-focus-label">
      <md-icon aria-hidden="true"><template shadowrootmode="open"><!----><slot></slot></template>spark</md-icon>
      <!--?lit$075548653$-->Gemini
    </div><div class="cell-tag-editor sticky"></div><div class="cell-toolbar sticky"></div><div class="main-content" elevation="0"><div class="cell-contents"><div class="cell-mask"></div><span class="imported-info-area"></span><div class="codecell-input-output">
      <div class="inputarea horizontal layout code">
        <div class="cell-gutter">
          <!-- Bounding range for vertical scrolling of icons -->
          <div class="cell-execution-container">
            <colab-run-button><template shadowrootmode="open"><!----> <div class=" cell-execution stale ">
      <button id="run-button" aria-describedby="run-button-tooltip" aria-label="Ejecutar celda" aria-disabled="false">
        <!--?lit$075548653$--><span class="execution-count"><!--?lit$075548653$-->[ ]</span>
        <span aria-hidden="true" class="cell-execution-indicator"><!--?lit$075548653$-->
<svg xmlns="http://www.w3.org/2000/svg" viewBox="0 0 24 24">
  <!--?lit$075548653$-->
  <mask id="playSymbolMask">
    <rect width="100%" height="100%" fill="white"></rect>
    <polygon points="10,8 17,12 10,16" fill="black"></polygon>
  </mask>
  <circle cx="12" cy="12" r="7.8" mask="url(#playSymbolMask)" id="filledCircle"></circle>
</svg></span>
      </button>
      <!--?lit$075548653$--><colab-tooltip-trigger for="run-button" id="run-button-tooltip" aria-hidden="true" message="Ejecutar celda (Ctrl+Enter)
la celda no se ha ejecutado en esta sesión

ejecutada por Javier Hidalgo
miércoles, 19 de marzo de 2025
se ha ejecutado en 0.681 s"><template shadowrootmode="open"><!----><!--?lit$075548653$--><!----><div><!--?lit$075548653$-->Ejecutar celda (Ctrl+Enter)</div><!----><!----><div><!--?lit$075548653$-->la celda no se ha ejecutado en esta sesión</div><!----><!----><br><!----><!----><div><!--?lit$075548653$-->ejecutada por Javier Hidalgo</div><!----><!----><div><!--?lit$075548653$-->miércoles, 19 de marzo de 2025</div><!----><!----><div><!--?lit$075548653$-->se ha ejecutado en 0.681&nbsp;s</div><!----><!--?--></template>
    </colab-tooltip-trigger>
      <!--?lit$075548653$--><!--?-->
    </div></template></colab-run-button>
          </div>
        </div>
      <div class="editor flex lazy-editor" style=""><pre class="lazy-virtualized" style="font-size: 14px; line-height: 19px;"><pre class="lazy-gutter"></pre><pre class="monaco-colorized colab colab" data-lang="notebook-python"><span><span class="mtk1">plot_history(history1,&nbsp;suptitle=</span><span class="mtk21">'Model&nbsp;1:&nbsp;2&nbsp;Bidirectional&nbsp;layer'</span><span class="mtk1">)</span></span><br></pre><colab-read-only-cell-placeholder style="display: none;"><template shadowrootmode="open"><!----><div><!--?lit$075548653$-->Empieza a programar o a <span tabindex="0" role="button" class="link">crear código</span> con IA.</div></template></colab-read-only-cell-placeholder></pre></div><colab-form class="formview vertical layout flex"><div class="widget-area vertical layout"></div></colab-form></div>
    <div class="output" aria-label="Salida de la celda 19" role="region"><!----> <div class="output-header"> </div>
        <div class="output-content">
          <div class="output-info"><colab-output-info><template shadowrootmode="open"><!----><md-icon-button data-aria-expanded="false" data-aria-haspopup="menu" aria-describedby="button-output-actions-tooltip" data-aria-label="Acciones de salida de las celdas de código" id="button-output-actions" value=""><template shadowrootmode="open" shadowrootdelegatesfocus><!----><button id="button" class="icon-button  standard " aria-label="Acciones de salida de las celdas de código" aria-haspopup="menu" aria-expanded="false">
        <!--?lit$075548653$--><md-focus-ring part="focus-ring" for="button" aria-hidden="true"><template shadowrootmode="open"><!----></template></md-focus-ring>
        <!--?lit$075548653$--><md-ripple aria-hidden="true"><template shadowrootmode="open"><!----><div class="surface   "></div></template></md-ripple>
        <!--?lit$075548653$--><span class="icon"><slot></slot></span>
        <!--?lit$075548653$-->
        <!--?lit$075548653$--><span class="touch"></span>
  </button></template>
        <md-icon aria-hidden="true"><template shadowrootmode="open"><!----><slot></slot></template><!--?lit$075548653$--><svg viewBox="0 0 24 24"><!--?lit$075548653$--><path d="m15.9 3.07c-4.32 0.0742-8.64-0.0355-13 0.0568-1.37 0.307-1.74 2.1-1.41 3.26 0.469 0.606 1.86 0.384 1.66-0.525 0.0448-0.329-0.183-0.93 0.354-0.766h13.3v1.53h1.71c0.0709-1.13 0.141-2.62-0.968-3.3-0.511-0.264-1.11-0.252-1.67-0.259zm2.94 6.84v4.87c1.62-1.62 3.24-3.24 4.87-4.87h-4.87zm0 0h-1.71v3.43l1.57 1.57c0.32-1.65 0.0556-3.34 0.135-5zm-1.71 3.43v-3.43h-3.43c1.14 1.14 2.29 2.29 3.43 3.43zm1.4 4.27h-1.71v1.48h-13.6v-1.48h-1.71c-0.0473 1.15-0.16 2.72 1.09 3.29 1.47 0.506 3.02 0.0265 4.53 0.192 3.34-0.0051 6.68 0.0336 10-0.0245 1.49-0.366 1.56-2.22 1.42-3.45zm-10.1-1.12c-0.398-0.483-0.796-0.967-1.19-1.45 0.59-0.683 1.18-1.37 1.77-2.05h-8.67v-2h8.67c-0.59-0.683-1.18-1.37-1.77-2.05 0.398-0.483 0.796-0.967 1.19-1.45 1.28 1.5 2.56 3 3.84 4.5-1.28 1.5-2.56 3-3.84 4.5z"></path></svg></md-icon>
      </md-icon-button>
      <colab-tooltip-trigger aria-hidden="true" id="button-output-actions-tooltip" for="button-output-actions" message="Acciones de salida de las celdas de código"><template shadowrootmode="open"><!----><!--?lit$075548653$--><!----><div><!--?lit$075548653$-->Acciones de salida de las celdas de código</div><!----><!--?--></template></colab-tooltip-trigger></template></colab-output-info></div>
          <div class="output-iframe-container">
            <div class="output-iframe-sizer"> <div style="height: 498px;"><div class="outputview" style="height: 305px;"><colab-dom-lifecycle-events style="display: none;"></colab-dom-lifecycle-events><iframe allow="" sandbox="allow-downloads allow-forms allow-pointer-lock allow-popups allow-popups-to-escape-sandbox allow-same-origin allow-scripts allow-storage-access-by-user-activation" src="./SSP_files/outputframe(3).html" class="" style="height: 305px;"></iframe></div></div></div>
          </div>
        </div></div></div><colab-cell-next-steps><template shadowrootmode="open"><!----></template></colab-cell-next-steps></div></div><div class="add-cell">
      <hr>
    </div></div><div class="cell code code-has-output" id="cell-Z8mITJpz7rY-" tabindex="-1" role="region" aria-label="Celda 20: Celda de código; " style=""><div class="agent-focus-label">
      <md-icon aria-hidden="true"><template shadowrootmode="open"><!----><slot></slot></template>spark</md-icon>
      <!--?lit$075548653$-->Gemini
    </div><div class="cell-tag-editor sticky"></div><div class="cell-toolbar sticky"></div><div class="main-content" elevation="0"><div class="cell-contents"><div class="cell-mask"></div><span class="imported-info-area"></span><div class="codecell-input-output">
      <div class="inputarea horizontal layout code">
        <div class="cell-gutter">
          <!-- Bounding range for vertical scrolling of icons -->
          <div class="cell-execution-container">
            <colab-run-button><template shadowrootmode="open"><!----> <div class=" cell-execution stale ">
      <button id="run-button" aria-describedby="run-button-tooltip" aria-label="Ejecutar celda" aria-disabled="false">
        <!--?lit$075548653$--><span class="execution-count"><!--?lit$075548653$-->[ ]</span>
        <span aria-hidden="true" class="cell-execution-indicator"><!--?lit$075548653$-->
<svg xmlns="http://www.w3.org/2000/svg" viewBox="0 0 24 24">
  <!--?lit$075548653$-->
  <mask id="playSymbolMask">
    <rect width="100%" height="100%" fill="white"></rect>
    <polygon points="10,8 17,12 10,16" fill="black"></polygon>
  </mask>
  <circle cx="12" cy="12" r="7.8" mask="url(#playSymbolMask)" id="filledCircle"></circle>
</svg></span>
      </button>
      <!--?lit$075548653$--><colab-tooltip-trigger for="run-button" id="run-button-tooltip" aria-hidden="true" message="Ejecutar celda (Ctrl+Enter)
la celda no se ha ejecutado en esta sesión

ejecutada por Javier Hidalgo
miércoles, 19 de marzo de 2025
se ha ejecutado en 15.722 s"><template shadowrootmode="open"><!----><!--?lit$075548653$--><!----><div><!--?lit$075548653$-->Ejecutar celda (Ctrl+Enter)</div><!----><!----><div><!--?lit$075548653$-->la celda no se ha ejecutado en esta sesión</div><!----><!----><br><!----><!----><div><!--?lit$075548653$-->ejecutada por Javier Hidalgo</div><!----><!----><div><!--?lit$075548653$-->miércoles, 19 de marzo de 2025</div><!----><!----><div><!--?lit$075548653$-->se ha ejecutado en 15.722&nbsp;s</div><!----><!--?--></template>
    </colab-tooltip-trigger>
      <!--?lit$075548653$--><!--?-->
    </div></template></colab-run-button>
          </div>
        </div>
      <div class="editor flex lazy-editor" style=""><pre class="lazy-virtualized" style="font-size: 14px; line-height: 19px;"><pre class="lazy-gutter"></pre><pre class="monaco-colorized colab colab" data-lang="notebook-python"><span><span class="mtk1">plot_confusion_matrix_pad(model1,&nbsp;pssm_test,&nbsp;dssp_</span><span class="mtk1">test_pssm,&nbsp;suptitle=</span><span class="mtk21">'Model&nbsp;1:&nbsp;2&nbsp;Bidirectional&nbsp;layer'</span><span class="mtk1">)</span></span><br><span><span class="mtk1">cm_metrics_m1=&nbsp;plot_confusion_matrix(model1,&nbsp;pssm_</span><span class="mtk1">test,&nbsp;dssp_test_pssm,&nbsp;suptitle=</span><span class="mtk21">'Model&nbsp;1:&nbsp;2&nbsp;Bidirectional&nbsp;layer'</span><span class="mtk1">)</span></span><br></pre><colab-read-only-cell-placeholder style="display: none;"><template shadowrootmode="open"><!----><div><!--?lit$075548653$-->Empieza a programar o a <span tabindex="0" role="button" class="link">crear código</span> con IA.</div></template></colab-read-only-cell-placeholder></pre></div><colab-form class="formview vertical layout flex"><div class="widget-area vertical layout"></div></colab-form></div>
    <div class="output" aria-label="Salida de la celda 20" role="region"><!----> <div class="output-header"> </div>
        <div class="output-content">
          <div class="output-info"><colab-output-info><template shadowrootmode="open"><!----><md-icon-button data-aria-expanded="false" data-aria-haspopup="menu" aria-describedby="button-output-actions-tooltip" data-aria-label="Acciones de salida de las celdas de código" id="button-output-actions" value=""><template shadowrootmode="open" shadowrootdelegatesfocus><!----><button id="button" class="icon-button  standard " aria-label="Acciones de salida de las celdas de código" aria-haspopup="menu" aria-expanded="false">
        <!--?lit$075548653$--><md-focus-ring part="focus-ring" for="button" aria-hidden="true"><template shadowrootmode="open"><!----></template></md-focus-ring>
        <!--?lit$075548653$--><md-ripple aria-hidden="true"><template shadowrootmode="open"><!----><div class="surface   "></div></template></md-ripple>
        <!--?lit$075548653$--><span class="icon"><slot></slot></span>
        <!--?lit$075548653$-->
        <!--?lit$075548653$--><span class="touch"></span>
  </button></template>
        <md-icon aria-hidden="true"><template shadowrootmode="open"><!----><slot></slot></template><!--?lit$075548653$--><svg viewBox="0 0 24 24"><!--?lit$075548653$--><path d="m15.9 3.07c-4.32 0.0742-8.64-0.0355-13 0.0568-1.37 0.307-1.74 2.1-1.41 3.26 0.469 0.606 1.86 0.384 1.66-0.525 0.0448-0.329-0.183-0.93 0.354-0.766h13.3v1.53h1.71c0.0709-1.13 0.141-2.62-0.968-3.3-0.511-0.264-1.11-0.252-1.67-0.259zm2.94 6.84v4.87c1.62-1.62 3.24-3.24 4.87-4.87h-4.87zm0 0h-1.71v3.43l1.57 1.57c0.32-1.65 0.0556-3.34 0.135-5zm-1.71 3.43v-3.43h-3.43c1.14 1.14 2.29 2.29 3.43 3.43zm1.4 4.27h-1.71v1.48h-13.6v-1.48h-1.71c-0.0473 1.15-0.16 2.72 1.09 3.29 1.47 0.506 3.02 0.0265 4.53 0.192 3.34-0.0051 6.68 0.0336 10-0.0245 1.49-0.366 1.56-2.22 1.42-3.45zm-10.1-1.12c-0.398-0.483-0.796-0.967-1.19-1.45 0.59-0.683 1.18-1.37 1.77-2.05h-8.67v-2h8.67c-0.59-0.683-1.18-1.37-1.77-2.05 0.398-0.483 0.796-0.967 1.19-1.45 1.28 1.5 2.56 3 3.84 4.5-1.28 1.5-2.56 3-3.84 4.5z"></path></svg></md-icon>
      </md-icon-button>
      <colab-tooltip-trigger aria-hidden="true" id="button-output-actions-tooltip" for="button-output-actions" message="Acciones de salida de las celdas de código"><template shadowrootmode="open"><!----><!--?lit$075548653$--><!----><div><!--?lit$075548653$-->Acciones de salida de las celdas de código</div><!----><!--?--></template></colab-tooltip-trigger></template></colab-output-info></div>
          <div class="output-iframe-container">
            <div class="output-iframe-sizer"> <div style="height: 1000px;"><div class="outputview" style="height: 1000px;"><colab-dom-lifecycle-events style="display: none;"></colab-dom-lifecycle-events><iframe allow="" sandbox="allow-downloads allow-forms allow-pointer-lock allow-popups allow-popups-to-escape-sandbox allow-same-origin allow-scripts allow-storage-access-by-user-activation" src="./SSP_files/outputframe(4).html" class="" style="height: 1000px;"></iframe></div></div></div>
          </div>
        </div></div></div><colab-cell-next-steps><template shadowrootmode="open"><!----></template></colab-cell-next-steps></div></div><div class="add-cell">
      <hr>
    </div></div><div class="cell code code-has-output" id="cell-w6KsLB6s8Y7o" tabindex="-1" role="region" aria-label="Celda 21: Celda de código; " style=""><div class="agent-focus-label">
      <md-icon aria-hidden="true"><template shadowrootmode="open"><!----><slot></slot></template>spark</md-icon>
      <!--?lit$075548653$-->Gemini
    </div><div class="cell-tag-editor sticky"></div><div class="cell-toolbar sticky"></div><div class="main-content" elevation="0"><div class="cell-contents"><div class="cell-mask"></div><span class="imported-info-area"></span><div class="codecell-input-output">
      <div class="inputarea horizontal layout code">
        <div class="cell-gutter">
          <!-- Bounding range for vertical scrolling of icons -->
          <div class="cell-execution-container">
            <colab-run-button><template shadowrootmode="open"><!----> <div class=" cell-execution stale ">
      <button id="run-button" aria-describedby="run-button-tooltip" aria-label="Ejecutar celda" aria-disabled="false">
        <!--?lit$075548653$--><span class="execution-count"><!--?lit$075548653$-->[ ]</span>
        <span aria-hidden="true" class="cell-execution-indicator"><!--?lit$075548653$-->
<svg xmlns="http://www.w3.org/2000/svg" viewBox="0 0 24 24">
  <!--?lit$075548653$-->
  <mask id="playSymbolMask">
    <rect width="100%" height="100%" fill="white"></rect>
    <polygon points="10,8 17,12 10,16" fill="black"></polygon>
  </mask>
  <circle cx="12" cy="12" r="7.8" mask="url(#playSymbolMask)" id="filledCircle"></circle>
</svg></span>
      </button>
      <!--?lit$075548653$--><colab-tooltip-trigger for="run-button" id="run-button-tooltip" aria-hidden="true" message="Ejecutar celda (Ctrl+Enter)
la celda no se ha ejecutado en esta sesión

ejecutada por Javier Hidalgo
miércoles, 19 de marzo de 2025
se ha ejecutado en 5.172 s"><template shadowrootmode="open"><!----><!--?lit$075548653$--><!----><div><!--?lit$075548653$-->Ejecutar celda (Ctrl+Enter)</div><!----><!----><div><!--?lit$075548653$-->la celda no se ha ejecutado en esta sesión</div><!----><!----><br><!----><!----><div><!--?lit$075548653$-->ejecutada por Javier Hidalgo</div><!----><!----><div><!--?lit$075548653$-->miércoles, 19 de marzo de 2025</div><!----><!----><div><!--?lit$075548653$-->se ha ejecutado en 5.172&nbsp;s</div><!----><!--?--></template>
    </colab-tooltip-trigger>
      <!--?lit$075548653$--><!--?-->
    </div></template></colab-run-button>
          </div>
        </div>
      <div class="editor flex lazy-editor" style=""><pre class="lazy-virtualized" style="font-size: 14px; line-height: 19px;"><pre class="lazy-gutter"></pre><pre class="monaco-colorized colab colab" data-lang="notebook-python"><span><span class="mtk1">metrics_model1&nbsp;=&nbsp;get_metrics(model1,&nbsp;history1,&nbsp;pss</span><span class="mtk1">m_test,&nbsp;dssp_test_pssm)</span></span><br><span><span class="mtk15">print</span><span class="mtk1">(metrics_model1)</span></span><br></pre><colab-read-only-cell-placeholder style="display: none;"><template shadowrootmode="open"><!----><div><!--?lit$075548653$-->Empieza a programar o a <span tabindex="0" role="button" class="link">crear código</span> con IA.</div></template></colab-read-only-cell-placeholder></pre></div><colab-form class="formview vertical layout flex"><div class="widget-area vertical layout"></div></colab-form></div>
    <div class="output" aria-label="Salida de la celda 21" role="region"><!----> <div class="output-header"> </div>
        <div class="output-content">
          <div class="output-info"><colab-output-info><template shadowrootmode="open"><!----><md-icon-button data-aria-expanded="false" data-aria-haspopup="menu" aria-describedby="button-output-actions-tooltip" data-aria-label="Acciones de salida de las celdas de código" id="button-output-actions" value=""><template shadowrootmode="open" shadowrootdelegatesfocus><!----><button id="button" class="icon-button  standard " aria-label="Acciones de salida de las celdas de código" aria-haspopup="menu" aria-expanded="false">
        <!--?lit$075548653$--><md-focus-ring part="focus-ring" for="button" aria-hidden="true"><template shadowrootmode="open"><!----></template></md-focus-ring>
        <!--?lit$075548653$--><md-ripple aria-hidden="true"><template shadowrootmode="open"><!----><div class="surface   "></div></template></md-ripple>
        <!--?lit$075548653$--><span class="icon"><slot></slot></span>
        <!--?lit$075548653$-->
        <!--?lit$075548653$--><span class="touch"></span>
  </button></template>
        <md-icon aria-hidden="true"><template shadowrootmode="open"><!----><slot></slot></template><!--?lit$075548653$--><svg viewBox="0 0 24 24"><!--?lit$075548653$--><path d="m15.9 3.07c-4.32 0.0742-8.64-0.0355-13 0.0568-1.37 0.307-1.74 2.1-1.41 3.26 0.469 0.606 1.86 0.384 1.66-0.525 0.0448-0.329-0.183-0.93 0.354-0.766h13.3v1.53h1.71c0.0709-1.13 0.141-2.62-0.968-3.3-0.511-0.264-1.11-0.252-1.67-0.259zm2.94 6.84v4.87c1.62-1.62 3.24-3.24 4.87-4.87h-4.87zm0 0h-1.71v3.43l1.57 1.57c0.32-1.65 0.0556-3.34 0.135-5zm-1.71 3.43v-3.43h-3.43c1.14 1.14 2.29 2.29 3.43 3.43zm1.4 4.27h-1.71v1.48h-13.6v-1.48h-1.71c-0.0473 1.15-0.16 2.72 1.09 3.29 1.47 0.506 3.02 0.0265 4.53 0.192 3.34-0.0051 6.68 0.0336 10-0.0245 1.49-0.366 1.56-2.22 1.42-3.45zm-10.1-1.12c-0.398-0.483-0.796-0.967-1.19-1.45 0.59-0.683 1.18-1.37 1.77-2.05h-8.67v-2h8.67c-0.59-0.683-1.18-1.37-1.77-2.05 0.398-0.483 0.796-0.967 1.19-1.45 1.28 1.5 2.56 3 3.84 4.5-1.28 1.5-2.56 3-3.84 4.5z"></path></svg></md-icon>
      </md-icon-button>
      <colab-tooltip-trigger aria-hidden="true" id="button-output-actions-tooltip" for="button-output-actions" message="Acciones de salida de las celdas de código"><template shadowrootmode="open"><!----><!--?lit$075548653$--><!----><div><!--?lit$075548653$-->Acciones de salida de las celdas de código</div><!----><!--?--></template></colab-tooltip-trigger></template></colab-output-info></div>
          <div class="output-iframe-container">
            <div class="output-iframe-sizer"> <div><div><colab-static-output-renderer tabindex="0" role="group"><div><div class="stream output_text"><pre><span style="font-weight: bold;">4/4</span><span> </span><span style="color: var(--ansi-green);">━━━━━━━━━━━━━━━━━━━━</span><span> </span><span style="font-weight: bold;">4s</span><span> 896ms/step - accuracy: 0.9485 - loss: 0.1246 - masked_accuracy: 0.7675
[0.9575764536857605, 0.8037503957748413, 0.946158766746521, 0.7438597083091736, 0.1031370535492897, 0.135257750749588]
</span></pre></div></div><div></div></colab-static-output-renderer></div></div></div>
          </div>
        </div></div></div><colab-cell-next-steps><template shadowrootmode="open"><!----></template></colab-cell-next-steps></div></div><div class="add-cell">
      <hr>
    </div></div><div class="cell text" id="cell-_30BDWfCABNL" tabindex="-1" role="region" aria-label="Celda 22: Celda de texto; Model 2: Conv1D + Bidirectional layer" style=""><div class="agent-focus-label">
      <md-icon aria-hidden="true"><template shadowrootmode="open"><!----><slot></slot></template>spark</md-icon>
      <!--?lit$075548653$-->Gemini
    </div><div class="cell-tag-editor sticky"></div><div class="cell-toolbar sticky"></div><div class="main-content" elevation="0"><div class="cell-contents"><div class="cell-mask"></div><span class="imported-info-area"></span><!----> <div class="toolbar-root"></div>
      <div class="editor-container horizontal">
        <div class="editor-root"></div>
        <div class="text-top-div">
          <div class="markdown"><span><div class="text-cell-section-header layout horizontal center"><md-icon-button class="header-section-toggle" title="Ocultar 3 celdas secundarias de Model 2: Conv1D + Bidirectional layer (pulsa &lt;Mayús&gt; para ocultar también las secciones del mismo nivel)" data-aria-label="Ocultar 3 celdas secundarias de Model 2: Conv1D + Bidirectional layer (pulsa &lt;Mayús&gt; para ocultar también las secciones del mismo nivel)" value=""><template shadowrootmode="open" shadowrootdelegatesfocus><!----><button id="button" class="icon-button  standard " aria-label="Ocultar 3 celdas secundarias de Model 2: Conv1D + Bidirectional layer (pulsa &lt;Mayús&gt; para ocultar también las secciones del mismo nivel)">
        <!--?lit$075548653$--><md-focus-ring part="focus-ring" for="button" aria-hidden="true"><template shadowrootmode="open"><!----></template></md-focus-ring>
        <!--?lit$075548653$--><md-ripple aria-hidden="true"><template shadowrootmode="open"><!----><div class="surface   "></div></template></md-ripple>
        <!--?lit$075548653$--><span class="icon"><slot></slot></span>
        <!--?lit$075548653$-->
        <!--?lit$075548653$--><span class="touch"></span>
  </button></template><md-icon aria-hidden="true"><template shadowrootmode="open"><!----><slot></slot></template>keyboard_arrow_down</md-icon></md-icon-button><h1>Model 2: Conv1D + Bidirectional layer</h1></div>
</span></div>
        </div>
      </div>

      <div class="section-header" style="display: none;">
        <colab-run-button><template shadowrootmode="open"><!----> <div class=" cell-execution ">
      <button id="run-button" aria-label="Ejecutar celda" aria-disabled="false">
        <!--?lit$075548653$--><span class="execution-count"><!--?lit$075548653$-->[ ]</span>
        <span aria-hidden="true" class="cell-execution-indicator"><!--?lit$075548653$-->
<svg xmlns="http://www.w3.org/2000/svg" viewBox="0 0 24 24">
  <!--?lit$075548653$-->
  <mask id="playSymbolMask">
    <rect width="100%" height="100%" fill="white"></rect>
    <polygon points="10,8 17,12 10,16" fill="black"></polygon>
  </mask>
  <circle cx="12" cy="12" r="7.8" mask="url(#playSymbolMask)" id="filledCircle"></circle>
</svg></span>
      </button>
      <!--?lit$075548653$-->
      <!--?lit$075548653$--><!--?-->
    </div></template></colab-run-button>
        <div class="section-header-container" title="hacer clic para mostrar">
          <md-icon aria-hidden="true"><template shadowrootmode="open"><!----><slot></slot></template>subdirectory_arrow_right</md-icon>
          <span>3 celdas ocultas</span>
        </div>
      </div></div></div><div class="add-cell">
      <hr>
    </div></div><div class="cell code code-has-output" id="cell-mCK3LB_jANuM" tabindex="-1" role="region" aria-label="Celda 23: Celda de código; " style=""><div class="agent-focus-label">
      <md-icon aria-hidden="true"><template shadowrootmode="open"><!----><slot></slot></template>spark</md-icon>
      <!--?lit$075548653$-->Gemini
    </div><div class="cell-tag-editor sticky"></div><div class="cell-toolbar sticky"></div><div class="main-content" elevation="0"><div class="cell-contents"><div class="cell-mask"></div><span class="imported-info-area"></span><div class="codecell-input-output">
      <div class="inputarea horizontal layout code">
        <div class="cell-gutter">
          <!-- Bounding range for vertical scrolling of icons -->
          <div class="cell-execution-container">
            <colab-run-button><template shadowrootmode="open"><!----> <div class=" cell-execution stale ">
      <button id="run-button" aria-describedby="run-button-tooltip" aria-label="Ejecutar celda" aria-disabled="false">
        <!--?lit$075548653$--><span class="execution-count"><!--?lit$075548653$-->[ ]</span>
        <span aria-hidden="true" class="cell-execution-indicator"><!--?lit$075548653$-->
<svg xmlns="http://www.w3.org/2000/svg" viewBox="0 0 24 24">
  <!--?lit$075548653$-->
  <mask id="playSymbolMask">
    <rect width="100%" height="100%" fill="white"></rect>
    <polygon points="10,8 17,12 10,16" fill="black"></polygon>
  </mask>
  <circle cx="12" cy="12" r="7.8" mask="url(#playSymbolMask)" id="filledCircle"></circle>
</svg></span>
      </button>
      <!--?lit$075548653$--><colab-tooltip-trigger for="run-button" id="run-button-tooltip" aria-hidden="true" message="Ejecutar celda (Ctrl+Enter)
la celda no se ha ejecutado en esta sesión

ejecutada por Javier Hidalgo
miércoles, 19 de marzo de 2025
se ha ejecutado en 0.397 s"><template shadowrootmode="open"><!----><!--?lit$075548653$--><!----><div><!--?lit$075548653$-->Ejecutar celda (Ctrl+Enter)</div><!----><!----><div><!--?lit$075548653$-->la celda no se ha ejecutado en esta sesión</div><!----><!----><br><!----><!----><div><!--?lit$075548653$-->ejecutada por Javier Hidalgo</div><!----><!----><div><!--?lit$075548653$-->miércoles, 19 de marzo de 2025</div><!----><!----><div><!--?lit$075548653$-->se ha ejecutado en 0.397&nbsp;s</div><!----><!--?--></template>
    </colab-tooltip-trigger>
      <!--?lit$075548653$--><!--?-->
    </div></template></colab-run-button>
          </div>
        </div>
      <div class="editor flex lazy-editor" style=""><pre class="lazy-virtualized" style="font-size: 14px; line-height: 19px;"><pre class="lazy-gutter"></pre><pre class="monaco-colorized colab colab" data-lang="notebook-python"><span><span class="mtk1">plot_history(history2,&nbsp;suptitle=</span><span class="mtk21">'Model&nbsp;2:&nbsp;Conv1D&nbsp;+&nbsp;Bidirectional&nbsp;layer'</span><span class="mtk1">)</span></span><br></pre><colab-read-only-cell-placeholder style="display: none;"><template shadowrootmode="open"><!----><div><!--?lit$075548653$-->Empieza a programar o a <span tabindex="0" role="button" class="link">crear código</span> con IA.</div></template></colab-read-only-cell-placeholder></pre></div><colab-form class="formview vertical layout flex"><div class="widget-area vertical layout"></div></colab-form></div>
    <div class="output" aria-label="Salida de la celda 23" role="region"><!----> <div class="output-header"> </div>
        <div class="output-content">
          <div class="output-info"><colab-output-info><template shadowrootmode="open"><!----><md-icon-button data-aria-expanded="false" data-aria-haspopup="menu" aria-describedby="button-output-actions-tooltip" data-aria-label="Acciones de salida de las celdas de código" id="button-output-actions" value=""><template shadowrootmode="open" shadowrootdelegatesfocus><!----><button id="button" class="icon-button  standard " aria-label="Acciones de salida de las celdas de código" aria-haspopup="menu" aria-expanded="false">
        <!--?lit$075548653$--><md-focus-ring part="focus-ring" for="button" aria-hidden="true"><template shadowrootmode="open"><!----></template></md-focus-ring>
        <!--?lit$075548653$--><md-ripple aria-hidden="true"><template shadowrootmode="open"><!----><div class="surface   "></div></template></md-ripple>
        <!--?lit$075548653$--><span class="icon"><slot></slot></span>
        <!--?lit$075548653$-->
        <!--?lit$075548653$--><span class="touch"></span>
  </button></template>
        <md-icon aria-hidden="true"><template shadowrootmode="open"><!----><slot></slot></template><!--?lit$075548653$--><svg viewBox="0 0 24 24"><!--?lit$075548653$--><path d="m15.9 3.07c-4.32 0.0742-8.64-0.0355-13 0.0568-1.37 0.307-1.74 2.1-1.41 3.26 0.469 0.606 1.86 0.384 1.66-0.525 0.0448-0.329-0.183-0.93 0.354-0.766h13.3v1.53h1.71c0.0709-1.13 0.141-2.62-0.968-3.3-0.511-0.264-1.11-0.252-1.67-0.259zm2.94 6.84v4.87c1.62-1.62 3.24-3.24 4.87-4.87h-4.87zm0 0h-1.71v3.43l1.57 1.57c0.32-1.65 0.0556-3.34 0.135-5zm-1.71 3.43v-3.43h-3.43c1.14 1.14 2.29 2.29 3.43 3.43zm1.4 4.27h-1.71v1.48h-13.6v-1.48h-1.71c-0.0473 1.15-0.16 2.72 1.09 3.29 1.47 0.506 3.02 0.0265 4.53 0.192 3.34-0.0051 6.68 0.0336 10-0.0245 1.49-0.366 1.56-2.22 1.42-3.45zm-10.1-1.12c-0.398-0.483-0.796-0.967-1.19-1.45 0.59-0.683 1.18-1.37 1.77-2.05h-8.67v-2h8.67c-0.59-0.683-1.18-1.37-1.77-2.05 0.398-0.483 0.796-0.967 1.19-1.45 1.28 1.5 2.56 3 3.84 4.5-1.28 1.5-2.56 3-3.84 4.5z"></path></svg></md-icon>
      </md-icon-button>
      <colab-tooltip-trigger aria-hidden="true" id="button-output-actions-tooltip" for="button-output-actions" message="Acciones de salida de las celdas de código"><template shadowrootmode="open"><!----><!--?lit$075548653$--><!----><div><!--?lit$075548653$-->Acciones de salida de las celdas de código</div><!----><!--?--></template></colab-tooltip-trigger></template></colab-output-info></div>
          <div class="output-iframe-container">
            <div class="output-iframe-sizer"> <div><div class="outputview" style="height: 305px;"><colab-dom-lifecycle-events style="display: none;"></colab-dom-lifecycle-events><iframe allow="" sandbox="allow-downloads allow-forms allow-pointer-lock allow-popups allow-popups-to-escape-sandbox allow-same-origin allow-scripts allow-storage-access-by-user-activation" src="./SSP_files/outputframe(5).html" class="" style="height: 305px;"></iframe></div></div></div>
          </div>
        </div></div></div><colab-cell-next-steps><template shadowrootmode="open"><!----></template></colab-cell-next-steps></div></div><div class="add-cell">
      <hr>
    </div></div><div class="cell code code-has-output" id="cell-rqZFCUVFAfM1" tabindex="-1" role="region" aria-label="Celda 24: Celda de código; " style=""><div class="agent-focus-label">
      <md-icon aria-hidden="true"><template shadowrootmode="open"><!----><slot></slot></template>spark</md-icon>
      <!--?lit$075548653$-->Gemini
    </div><div class="cell-tag-editor sticky"></div><div class="cell-toolbar sticky"></div><div class="main-content" elevation="0"><div class="cell-contents"><div class="cell-mask"></div><span class="imported-info-area"></span><div class="codecell-input-output">
      <div class="inputarea horizontal layout code">
        <div class="cell-gutter">
          <!-- Bounding range for vertical scrolling of icons -->
          <div class="cell-execution-container">
            <colab-run-button><template shadowrootmode="open"><!----> <div class=" cell-execution stale ">
      <button id="run-button" aria-describedby="run-button-tooltip" aria-label="Ejecutar celda" aria-disabled="false">
        <!--?lit$075548653$--><span class="execution-count"><!--?lit$075548653$-->[ ]</span>
        <span aria-hidden="true" class="cell-execution-indicator"><!--?lit$075548653$-->
<svg xmlns="http://www.w3.org/2000/svg" viewBox="0 0 24 24">
  <!--?lit$075548653$-->
  <mask id="playSymbolMask">
    <rect width="100%" height="100%" fill="white"></rect>
    <polygon points="10,8 17,12 10,16" fill="black"></polygon>
  </mask>
  <circle cx="12" cy="12" r="7.8" mask="url(#playSymbolMask)" id="filledCircle"></circle>
</svg></span>
      </button>
      <!--?lit$075548653$--><colab-tooltip-trigger for="run-button" id="run-button-tooltip" aria-hidden="true" message="Ejecutar celda (Ctrl+Enter)
la celda no se ha ejecutado en esta sesión

ejecutada por Javier Hidalgo
miércoles, 19 de marzo de 2025
se ha ejecutado en 3.04 s"><template shadowrootmode="open"><!----><!--?lit$075548653$--><!----><div><!--?lit$075548653$-->Ejecutar celda (Ctrl+Enter)</div><!----><!----><div><!--?lit$075548653$-->la celda no se ha ejecutado en esta sesión</div><!----><!----><br><!----><!----><div><!--?lit$075548653$-->ejecutada por Javier Hidalgo</div><!----><!----><div><!--?lit$075548653$-->miércoles, 19 de marzo de 2025</div><!----><!----><div><!--?lit$075548653$-->se ha ejecutado en 3.04&nbsp;s</div><!----><!--?--></template>
    </colab-tooltip-trigger>
      <!--?lit$075548653$--><!--?-->
    </div></template></colab-run-button>
          </div>
        </div>
      <div class="editor flex lazy-editor" style=""><pre class="lazy-virtualized" style="font-size: 14px; line-height: 19px;"><pre class="lazy-gutter"></pre><pre class="monaco-colorized colab colab" data-lang="notebook-python"><span><span class="mtk1">plot_confusion_matrix_pad(model2,&nbsp;pssm_test,&nbsp;dssp_</span><span class="mtk1">test_pssm,&nbsp;suptitle=</span><span class="mtk21">'Model&nbsp;2:&nbsp;Conv1D&nbsp;+&nbsp;Bidirectional&nbsp;layer'</span><span class="mtk1">,&nbsp;color=&nbsp;</span><span class="mtk21">'Blues'</span><span class="mtk1">)</span></span><br><span><span class="mtk1">cm_metrics_m2=&nbsp;plot_confusion_matrix(model2,&nbsp;pssm_</span><span class="mtk1">test,&nbsp;dssp_test_pssm,&nbsp;suptitle=</span><span class="mtk21">'Model&nbsp;2:&nbsp;Conv1D&nbsp;+&nbsp;Bidirectional&nbsp;layer'</span><span class="mtk1">,&nbsp;color=</span><span class="mtk21">'Blues'</span><span class="mtk1">)</span></span><br></pre><colab-read-only-cell-placeholder style="display: none;"><template shadowrootmode="open"><!----><div><!--?lit$075548653$-->Empieza a programar o a <span tabindex="0" role="button" class="link">crear código</span> con IA.</div></template></colab-read-only-cell-placeholder></pre></div><colab-form class="formview vertical layout flex"><div class="widget-area vertical layout"></div></colab-form></div>
    <div class="output" aria-label="Salida de la celda 24" role="region"><!----> <div class="output-header"> </div>
        <div class="output-content">
          <div class="output-info"><colab-output-info><template shadowrootmode="open"><!----><md-icon-button data-aria-expanded="false" data-aria-haspopup="menu" aria-describedby="button-output-actions-tooltip" data-aria-label="Acciones de salida de las celdas de código" id="button-output-actions" value=""><template shadowrootmode="open" shadowrootdelegatesfocus><!----><button id="button" class="icon-button  standard " aria-label="Acciones de salida de las celdas de código" aria-haspopup="menu" aria-expanded="false">
        <!--?lit$075548653$--><md-focus-ring part="focus-ring" for="button" aria-hidden="true"><template shadowrootmode="open"><!----></template></md-focus-ring>
        <!--?lit$075548653$--><md-ripple aria-hidden="true"><template shadowrootmode="open"><!----><div class="surface   "></div></template></md-ripple>
        <!--?lit$075548653$--><span class="icon"><slot></slot></span>
        <!--?lit$075548653$-->
        <!--?lit$075548653$--><span class="touch"></span>
  </button></template>
        <md-icon aria-hidden="true"><template shadowrootmode="open"><!----><slot></slot></template><!--?lit$075548653$--><svg viewBox="0 0 24 24"><!--?lit$075548653$--><path d="m15.9 3.07c-4.32 0.0742-8.64-0.0355-13 0.0568-1.37 0.307-1.74 2.1-1.41 3.26 0.469 0.606 1.86 0.384 1.66-0.525 0.0448-0.329-0.183-0.93 0.354-0.766h13.3v1.53h1.71c0.0709-1.13 0.141-2.62-0.968-3.3-0.511-0.264-1.11-0.252-1.67-0.259zm2.94 6.84v4.87c1.62-1.62 3.24-3.24 4.87-4.87h-4.87zm0 0h-1.71v3.43l1.57 1.57c0.32-1.65 0.0556-3.34 0.135-5zm-1.71 3.43v-3.43h-3.43c1.14 1.14 2.29 2.29 3.43 3.43zm1.4 4.27h-1.71v1.48h-13.6v-1.48h-1.71c-0.0473 1.15-0.16 2.72 1.09 3.29 1.47 0.506 3.02 0.0265 4.53 0.192 3.34-0.0051 6.68 0.0336 10-0.0245 1.49-0.366 1.56-2.22 1.42-3.45zm-10.1-1.12c-0.398-0.483-0.796-0.967-1.19-1.45 0.59-0.683 1.18-1.37 1.77-2.05h-8.67v-2h8.67c-0.59-0.683-1.18-1.37-1.77-2.05 0.398-0.483 0.796-0.967 1.19-1.45 1.28 1.5 2.56 3 3.84 4.5-1.28 1.5-2.56 3-3.84 4.5z"></path></svg></md-icon>
      </md-icon-button>
      <colab-tooltip-trigger aria-hidden="true" id="button-output-actions-tooltip" for="button-output-actions" message="Acciones de salida de las celdas de código"><template shadowrootmode="open"><!----><!--?lit$075548653$--><!----><div><!--?lit$075548653$-->Acciones de salida de las celdas de código</div><!----><!--?--></template></colab-tooltip-trigger></template></colab-output-info></div>
          <div class="output-iframe-container">
            <div class="output-iframe-sizer"> <div><div class="outputview" style="height: 1000px;"><colab-dom-lifecycle-events style="display: none;"></colab-dom-lifecycle-events><iframe allow="" sandbox="allow-downloads allow-forms allow-pointer-lock allow-popups allow-popups-to-escape-sandbox allow-same-origin allow-scripts allow-storage-access-by-user-activation" src="./SSP_files/outputframe(6).html" class="" style="height: 1000px;"></iframe></div></div></div>
          </div>
        </div></div></div><colab-cell-next-steps><template shadowrootmode="open"><!----></template></colab-cell-next-steps></div></div><div class="add-cell">
      <hr>
    </div></div><div class="cell code code-has-output" id="cell-zCZA5SHBAjiM" tabindex="-1" role="region" aria-label="Celda 25: Celda de código; " style=""><div class="agent-focus-label">
      <md-icon aria-hidden="true"><template shadowrootmode="open"><!----><slot></slot></template>spark</md-icon>
      <!--?lit$075548653$-->Gemini
    </div><div class="cell-tag-editor sticky"></div><div class="cell-toolbar sticky"></div><div class="main-content" elevation="0"><div class="cell-contents"><div class="cell-mask"></div><span class="imported-info-area"></span><div class="codecell-input-output">
      <div class="inputarea horizontal layout code">
        <div class="cell-gutter">
          <!-- Bounding range for vertical scrolling of icons -->
          <div class="cell-execution-container">
            <colab-run-button><template shadowrootmode="open"><!----> <div class=" cell-execution stale ">
      <button id="run-button" aria-describedby="run-button-tooltip" aria-label="Ejecutar celda" aria-disabled="false">
        <!--?lit$075548653$--><span class="execution-count"><!--?lit$075548653$-->[ ]</span>
        <span aria-hidden="true" class="cell-execution-indicator"><!--?lit$075548653$-->
<svg xmlns="http://www.w3.org/2000/svg" viewBox="0 0 24 24">
  <!--?lit$075548653$-->
  <mask id="playSymbolMask">
    <rect width="100%" height="100%" fill="white"></rect>
    <polygon points="10,8 17,12 10,16" fill="black"></polygon>
  </mask>
  <circle cx="12" cy="12" r="7.8" mask="url(#playSymbolMask)" id="filledCircle"></circle>
</svg></span>
      </button>
      <!--?lit$075548653$--><colab-tooltip-trigger for="run-button" id="run-button-tooltip" aria-hidden="true" message="Ejecutar celda (Ctrl+Enter)
la celda no se ha ejecutado en esta sesión

ejecutada por Javier Hidalgo
miércoles, 19 de marzo de 2025
se ha ejecutado en 0.768 s"><template shadowrootmode="open"><!----><!--?lit$075548653$--><!----><div><!--?lit$075548653$-->Ejecutar celda (Ctrl+Enter)</div><!----><!----><div><!--?lit$075548653$-->la celda no se ha ejecutado en esta sesión</div><!----><!----><br><!----><!----><div><!--?lit$075548653$-->ejecutada por Javier Hidalgo</div><!----><!----><div><!--?lit$075548653$-->miércoles, 19 de marzo de 2025</div><!----><!----><div><!--?lit$075548653$-->se ha ejecutado en 0.768&nbsp;s</div><!----><!--?--></template>
    </colab-tooltip-trigger>
      <!--?lit$075548653$--><!--?-->
    </div></template></colab-run-button>
          </div>
        </div>
      <div class="editor flex lazy-editor" style=""><pre class="lazy-virtualized" style="font-size: 14px; line-height: 19px;"><pre class="lazy-gutter"></pre><pre class="monaco-colorized colab colab" data-lang="notebook-python"><span><span class="mtk1">metrics_model2&nbsp;=&nbsp;get_metrics(model2,&nbsp;history2,&nbsp;pss</span><span class="mtk1">m_test,&nbsp;dssp_test_pssm)</span></span><br></pre><colab-read-only-cell-placeholder style="display: none;"><template shadowrootmode="open"><!----><div><!--?lit$075548653$-->Empieza a programar o a <span tabindex="0" role="button" class="link">crear código</span> con IA.</div></template></colab-read-only-cell-placeholder></pre></div><colab-form class="formview vertical layout flex"><div class="widget-area vertical layout"></div></colab-form></div>
    <div class="output" aria-label="Salida de la celda 25" role="region"><!----> <div class="output-header"> </div>
        <div class="output-content">
          <div class="output-info"><colab-output-info><template shadowrootmode="open"><!----><md-icon-button data-aria-expanded="false" data-aria-haspopup="menu" aria-describedby="button-output-actions-tooltip" data-aria-label="Acciones de salida de las celdas de código" id="button-output-actions" value=""><template shadowrootmode="open" shadowrootdelegatesfocus><!----><button id="button" class="icon-button  standard " aria-label="Acciones de salida de las celdas de código" aria-haspopup="menu" aria-expanded="false">
        <!--?lit$075548653$--><md-focus-ring part="focus-ring" for="button" aria-hidden="true"><template shadowrootmode="open"><!----></template></md-focus-ring>
        <!--?lit$075548653$--><md-ripple aria-hidden="true"><template shadowrootmode="open"><!----><div class="surface   "></div></template></md-ripple>
        <!--?lit$075548653$--><span class="icon"><slot></slot></span>
        <!--?lit$075548653$-->
        <!--?lit$075548653$--><span class="touch"></span>
  </button></template>
        <md-icon aria-hidden="true"><template shadowrootmode="open"><!----><slot></slot></template><!--?lit$075548653$--><svg viewBox="0 0 24 24"><!--?lit$075548653$--><path d="m15.9 3.07c-4.32 0.0742-8.64-0.0355-13 0.0568-1.37 0.307-1.74 2.1-1.41 3.26 0.469 0.606 1.86 0.384 1.66-0.525 0.0448-0.329-0.183-0.93 0.354-0.766h13.3v1.53h1.71c0.0709-1.13 0.141-2.62-0.968-3.3-0.511-0.264-1.11-0.252-1.67-0.259zm2.94 6.84v4.87c1.62-1.62 3.24-3.24 4.87-4.87h-4.87zm0 0h-1.71v3.43l1.57 1.57c0.32-1.65 0.0556-3.34 0.135-5zm-1.71 3.43v-3.43h-3.43c1.14 1.14 2.29 2.29 3.43 3.43zm1.4 4.27h-1.71v1.48h-13.6v-1.48h-1.71c-0.0473 1.15-0.16 2.72 1.09 3.29 1.47 0.506 3.02 0.0265 4.53 0.192 3.34-0.0051 6.68 0.0336 10-0.0245 1.49-0.366 1.56-2.22 1.42-3.45zm-10.1-1.12c-0.398-0.483-0.796-0.967-1.19-1.45 0.59-0.683 1.18-1.37 1.77-2.05h-8.67v-2h8.67c-0.59-0.683-1.18-1.37-1.77-2.05 0.398-0.483 0.796-0.967 1.19-1.45 1.28 1.5 2.56 3 3.84 4.5-1.28 1.5-2.56 3-3.84 4.5z"></path></svg></md-icon>
      </md-icon-button>
      <colab-tooltip-trigger aria-hidden="true" id="button-output-actions-tooltip" for="button-output-actions" message="Acciones de salida de las celdas de código"><template shadowrootmode="open"><!----><!--?lit$075548653$--><!----><div><!--?lit$075548653$-->Acciones de salida de las celdas de código</div><!----><!--?--></template></colab-tooltip-trigger></template></colab-output-info></div>
          <div class="output-iframe-container">
            <div class="output-iframe-sizer"> <div><div><colab-static-output-renderer tabindex="0" role="group"><div><div class="stream output_text"><pre><span style="font-weight: bold;">4/4</span><span> </span><span style="color: var(--ansi-green);">━━━━━━━━━━━━━━━━━━━━</span><span> </span><span style="font-weight: bold;">1s</span><span> 173ms/step - accuracy: 0.9501 - loss: 0.1187 - masked_accuracy: 0.7734
</span></pre></div></div><div></div></colab-static-output-renderer></div></div></div>
          </div>
        </div></div></div><colab-cell-next-steps><template shadowrootmode="open"><!----></template></colab-cell-next-steps></div></div><div class="add-cell">
      <hr>
    </div></div><div class="cell text" id="cell-eRO4m02BLZdl" tabindex="-1" role="region" aria-label="Celda 26: Celda de texto; Model with FASTA data" style=""><div class="agent-focus-label">
      <md-icon aria-hidden="true"><template shadowrootmode="open"><!----><slot></slot></template>spark</md-icon>
      <!--?lit$075548653$-->Gemini
    </div><div class="cell-tag-editor sticky"></div><div class="cell-toolbar sticky"></div><div class="main-content" elevation="0"><div class="cell-contents"><div class="cell-mask"></div><span class="imported-info-area"></span><!----> <div class="toolbar-root"></div>
      <div class="editor-container horizontal">
        <div class="editor-root"></div>
        <div class="text-top-div">
          <div class="markdown"><span><div class="text-cell-section-header layout horizontal center"><md-icon-button class="header-section-toggle" title="Ocultar 0 celdas secundarias de Model with FASTA data (pulsa &lt;Mayús&gt; para ocultar también las secciones del mismo nivel)" data-aria-label="Ocultar 0 celdas secundarias de Model with FASTA data (pulsa &lt;Mayús&gt; para ocultar también las secciones del mismo nivel)" style="display: none;" value=""><template shadowrootmode="open" shadowrootdelegatesfocus><!----><button id="button" class="icon-button  standard " aria-label="Ocultar 0 celdas secundarias de Model with FASTA data (pulsa &lt;Mayús&gt; para ocultar también las secciones del mismo nivel)">
        <!--?lit$075548653$--><md-focus-ring part="focus-ring" for="button" aria-hidden="true"><template shadowrootmode="open"><!----></template></md-focus-ring>
        <!--?lit$075548653$--><md-ripple aria-hidden="true"><template shadowrootmode="open"><!----><div class="surface   "></div></template></md-ripple>
        <!--?lit$075548653$--><span class="icon"><slot></slot></span>
        <!--?lit$075548653$-->
        <!--?lit$075548653$--><span class="touch"></span>
  </button></template><md-icon aria-hidden="true"><template shadowrootmode="open"><!----><slot></slot></template>keyboard_arrow_down</md-icon></md-icon-button><h1><strong>Model with FASTA data</strong></h1></div>
</span></div>
        </div>
      </div>

      <div class="section-header" style="display: none;">
        <colab-run-button><template shadowrootmode="open"><!----> <div class=" cell-execution ">
      <button id="run-button" aria-label="Ejecutar celda" aria-disabled="false">
        <!--?lit$075548653$--><span class="execution-count"><!--?lit$075548653$-->[ ]</span>
        <span aria-hidden="true" class="cell-execution-indicator"><!--?lit$075548653$-->
<svg xmlns="http://www.w3.org/2000/svg" viewBox="0 0 24 24">
  <!--?lit$075548653$-->
  <mask id="playSymbolMask">
    <rect width="100%" height="100%" fill="white"></rect>
    <polygon points="10,8 17,12 10,16" fill="black"></polygon>
  </mask>
  <circle cx="12" cy="12" r="7.8" mask="url(#playSymbolMask)" id="filledCircle"></circle>
</svg></span>
      </button>
      <!--?lit$075548653$-->
      <!--?lit$075548653$--><!--?-->
    </div></template></colab-run-button>
        <div class="section-header-container" title="hacer clic para mostrar">
          <md-icon aria-hidden="true"><template shadowrootmode="open"><!----><slot></slot></template>subdirectory_arrow_right</md-icon>
          <span>0 celdas ocultas</span>
        </div>
      </div></div></div><div class="add-cell">
      <hr>
    </div></div><div class="cell text" id="cell-ZnBeG61jLtZG" tabindex="-1" role="region" aria-label="Celda 27: Celda de texto; Model 1" style=""><div class="agent-focus-label">
      <md-icon aria-hidden="true"><template shadowrootmode="open"><!----><slot></slot></template>spark</md-icon>
      <!--?lit$075548653$-->Gemini
    </div><div class="cell-tag-editor sticky"></div><div class="cell-toolbar sticky"></div><div class="main-content" elevation="0"><div class="cell-contents"><div class="cell-mask"></div><span class="imported-info-area"></span><!----> <div class="toolbar-root"></div>
      <div class="editor-container horizontal">
        <div class="editor-root"></div>
        <div class="text-top-div">
          <div class="markdown"><span><div class="text-cell-section-header layout horizontal center"><md-icon-button class="header-section-toggle" title="Ocultar 5 celdas secundarias de Model 1 (pulsa &lt;Mayús&gt; para ocultar también las secciones del mismo nivel)" data-aria-label="Ocultar 5 celdas secundarias de Model 1 (pulsa &lt;Mayús&gt; para ocultar también las secciones del mismo nivel)" value=""><template shadowrootmode="open" shadowrootdelegatesfocus><!----><button id="button" class="icon-button  standard " aria-label="Ocultar 5 celdas secundarias de Model 1 (pulsa &lt;Mayús&gt; para ocultar también las secciones del mismo nivel)">
        <!--?lit$075548653$--><md-focus-ring part="focus-ring" for="button" aria-hidden="true"><template shadowrootmode="open"><!----></template></md-focus-ring>
        <!--?lit$075548653$--><md-ripple aria-hidden="true"><template shadowrootmode="open"><!----><div class="surface   "></div></template></md-ripple>
        <!--?lit$075548653$--><span class="icon"><slot></slot></span>
        <!--?lit$075548653$-->
        <!--?lit$075548653$--><span class="touch"></span>
  </button></template><md-icon aria-hidden="true"><template shadowrootmode="open"><!----><slot></slot></template>keyboard_arrow_down</md-icon></md-icon-button><h1>Model 1</h1></div>
</span></div>
        </div>
      </div>

      <div class="section-header" style="display: none;">
        <colab-run-button><template shadowrootmode="open"><!----> <div class=" cell-execution ">
      <button id="run-button" aria-label="Ejecutar celda" aria-disabled="false">
        <!--?lit$075548653$--><span class="execution-count"><!--?lit$075548653$-->[ ]</span>
        <span aria-hidden="true" class="cell-execution-indicator"><!--?lit$075548653$-->
<svg xmlns="http://www.w3.org/2000/svg" viewBox="0 0 24 24">
  <!--?lit$075548653$-->
  <mask id="playSymbolMask">
    <rect width="100%" height="100%" fill="white"></rect>
    <polygon points="10,8 17,12 10,16" fill="black"></polygon>
  </mask>
  <circle cx="12" cy="12" r="7.8" mask="url(#playSymbolMask)" id="filledCircle"></circle>
</svg></span>
      </button>
      <!--?lit$075548653$-->
      <!--?lit$075548653$--><!--?-->
    </div></template></colab-run-button>
        <div class="section-header-container" title="hacer clic para mostrar">
          <md-icon aria-hidden="true"><template shadowrootmode="open"><!----><slot></slot></template>subdirectory_arrow_right</md-icon>
          <span>5 celdas ocultas</span>
        </div>
      </div></div></div><div class="add-cell">
      <hr>
    </div></div><div class="cell code code-has-output" id="cell-KDXpQRqULv6u" tabindex="-1" role="region" aria-label="Celda 28: Celda de código; " style=""><div class="agent-focus-label">
      <md-icon aria-hidden="true"><template shadowrootmode="open"><!----><slot></slot></template>spark</md-icon>
      <!--?lit$075548653$-->Gemini
    </div><div class="cell-tag-editor sticky"></div><div class="cell-toolbar sticky"></div><div class="main-content" elevation="0"><div class="cell-contents"><div class="cell-mask"></div><span class="imported-info-area"></span><div class="codecell-input-output">
      <div class="inputarea horizontal layout code">
        <div class="cell-gutter">
          <!-- Bounding range for vertical scrolling of icons -->
          <div class="cell-execution-container">
            <colab-run-button><template shadowrootmode="open"><!----> <div class=" cell-execution stale ">
      <button id="run-button" aria-describedby="run-button-tooltip" aria-label="Ejecutar celda" aria-disabled="false">
        <!--?lit$075548653$--><span class="execution-count"><!--?lit$075548653$-->[ ]</span>
        <span aria-hidden="true" class="cell-execution-indicator"><!--?lit$075548653$-->
<svg xmlns="http://www.w3.org/2000/svg" viewBox="0 0 24 24">
  <!--?lit$075548653$-->
  <mask id="playSymbolMask">
    <rect width="100%" height="100%" fill="white"></rect>
    <polygon points="10,8 17,12 10,16" fill="black"></polygon>
  </mask>
  <circle cx="12" cy="12" r="7.8" mask="url(#playSymbolMask)" id="filledCircle"></circle>
</svg></span>
      </button>
      <!--?lit$075548653$--><colab-tooltip-trigger for="run-button" id="run-button-tooltip" aria-hidden="true" message="Ejecutar celda (Ctrl+Enter)
la celda no se ha ejecutado en esta sesión

ejecutada por Javier Hidalgo
miércoles, 19 de marzo de 2025
se ha ejecutado en 0.195 s"><template shadowrootmode="open"><!----><!--?lit$075548653$--><!----><div><!--?lit$075548653$-->Ejecutar celda (Ctrl+Enter)</div><!----><!----><div><!--?lit$075548653$-->la celda no se ha ejecutado en esta sesión</div><!----><!----><br><!----><!----><div><!--?lit$075548653$-->ejecutada por Javier Hidalgo</div><!----><!----><div><!--?lit$075548653$-->miércoles, 19 de marzo de 2025</div><!----><!----><div><!--?lit$075548653$-->se ha ejecutado en 0.195&nbsp;s</div><!----><!--?--></template>
    </colab-tooltip-trigger>
      <!--?lit$075548653$--><!--?-->
    </div></template></colab-run-button>
          </div>
        </div>
      <div class="editor flex lazy-editor" style=""><pre class="lazy-virtualized" style="font-size: 14px; line-height: 19px;"><pre class="lazy-gutter"></pre><pre class="monaco-colorized colab colab" data-lang="notebook-python"><span><span class="mtk19">import</span><span class="mtk1">&nbsp;keras</span></span><br><span><span class="mtk19">from</span><span class="mtk1">&nbsp;keras.layers&nbsp;</span><span class="mtk19">import</span><span class="mtk1">&nbsp;Input,&nbsp;Reshape,&nbsp;Dense,&nbsp;Activation,&nbsp;BatchNormaliza</span><span class="mtk1">tion,&nbsp;Flatten,&nbsp;Conv1D,&nbsp;concatenate,&nbsp;Bidirectional,</span><span class="mtk1">&nbsp;LSTM,&nbsp;Dropout</span></span><br><span><span class="mtk19">from</span><span class="mtk1">&nbsp;keras.models&nbsp;</span><span class="mtk19">import</span><span class="mtk1">&nbsp;Model</span></span><br><span><span></span></span><br><span><span class="mtk1">input_shape&nbsp;=&nbsp;fasta_train[</span><span class="mtk12">0</span><span class="mtk1">].shape</span></span><br><span><span></span></span><br><span><span class="mtk1">model1_fasta&nbsp;=&nbsp;keras.Sequential()</span></span><br><span><span class="mtk1">model1_fasta.add(Input(shape&nbsp;=&nbsp;input_shape))</span></span><br><span><span class="mtk1">model1_fasta.add(Bidirectional(layers.LSTM(</span><span class="mtk12">128</span><span class="mtk1">,&nbsp;return_sequences=</span><span class="mtk6">True</span><span class="mtk1">)))</span></span><br><span><span class="mtk1">model1_fasta.add(layers.Dropout(</span><span class="mtk12">0.3</span><span class="mtk1">))</span></span><br><span><span class="mtk1">model1_fasta.add(Bidirectional(layers.LSTM(</span><span class="mtk12">64</span><span class="mtk1">,&nbsp;return_sequences=</span><span class="mtk6">True</span><span class="mtk1">)))</span></span><br><span><span class="mtk1">model1_fasta.add(layers.Dropout(</span><span class="mtk12">0.3</span><span class="mtk1">))</span></span><br><span><span class="mtk1">model1_fasta.add(Dense(</span><span class="mtk12">128</span><span class="mtk1">,&nbsp;activation=</span><span class="mtk21">'relu'</span><span class="mtk1">))</span></span><br><span><span class="mtk1">model1_fasta.add(layers.Dropout(</span><span class="mtk12">0.3</span><span class="mtk1">))</span></span><br><span><span class="mtk1">model1_fasta.add(Dense(</span><span class="mtk12">4</span><span class="mtk1">,&nbsp;activation=</span><span class="mtk21">'softmax'</span><span class="mtk1">))</span></span><br><span><span class="mtk1">model1_fasta.summary()</span></span><br></pre><colab-read-only-cell-placeholder style="display: none;"><template shadowrootmode="open"><!----><div><!--?lit$075548653$-->Empieza a programar o a <span tabindex="0" role="button" class="link">crear código</span> con IA.</div></template></colab-read-only-cell-placeholder></pre></div><colab-form class="formview vertical layout flex"><div class="widget-area vertical layout"></div></colab-form></div>
    <div class="output" aria-label="Salida de la celda 28" role="region"><!----> <div class="output-header"> </div>
        <div class="output-content">
          <div class="output-info"><colab-output-info><template shadowrootmode="open"><!----><md-icon-button data-aria-expanded="false" data-aria-haspopup="menu" aria-describedby="button-output-actions-tooltip" data-aria-label="Acciones de salida de las celdas de código" id="button-output-actions" value=""><template shadowrootmode="open" shadowrootdelegatesfocus><!----><button id="button" class="icon-button  standard " aria-label="Acciones de salida de las celdas de código" aria-haspopup="menu" aria-expanded="false">
        <!--?lit$075548653$--><md-focus-ring part="focus-ring" for="button" aria-hidden="true"><template shadowrootmode="open"><!----></template></md-focus-ring>
        <!--?lit$075548653$--><md-ripple aria-hidden="true"><template shadowrootmode="open"><!----><div class="surface   "></div></template></md-ripple>
        <!--?lit$075548653$--><span class="icon"><slot></slot></span>
        <!--?lit$075548653$-->
        <!--?lit$075548653$--><span class="touch"></span>
  </button></template>
        <md-icon aria-hidden="true"><template shadowrootmode="open"><!----><slot></slot></template><!--?lit$075548653$--><svg viewBox="0 0 24 24"><!--?lit$075548653$--><path d="m15.9 3.07c-4.32 0.0742-8.64-0.0355-13 0.0568-1.37 0.307-1.74 2.1-1.41 3.26 0.469 0.606 1.86 0.384 1.66-0.525 0.0448-0.329-0.183-0.93 0.354-0.766h13.3v1.53h1.71c0.0709-1.13 0.141-2.62-0.968-3.3-0.511-0.264-1.11-0.252-1.67-0.259zm2.94 6.84v4.87c1.62-1.62 3.24-3.24 4.87-4.87h-4.87zm0 0h-1.71v3.43l1.57 1.57c0.32-1.65 0.0556-3.34 0.135-5zm-1.71 3.43v-3.43h-3.43c1.14 1.14 2.29 2.29 3.43 3.43zm1.4 4.27h-1.71v1.48h-13.6v-1.48h-1.71c-0.0473 1.15-0.16 2.72 1.09 3.29 1.47 0.506 3.02 0.0265 4.53 0.192 3.34-0.0051 6.68 0.0336 10-0.0245 1.49-0.366 1.56-2.22 1.42-3.45zm-10.1-1.12c-0.398-0.483-0.796-0.967-1.19-1.45 0.59-0.683 1.18-1.37 1.77-2.05h-8.67v-2h8.67c-0.59-0.683-1.18-1.37-1.77-2.05 0.398-0.483 0.796-0.967 1.19-1.45 1.28 1.5 2.56 3 3.84 4.5-1.28 1.5-2.56 3-3.84 4.5z"></path></svg></md-icon>
      </md-icon-button>
      <colab-tooltip-trigger aria-hidden="true" id="button-output-actions-tooltip" for="button-output-actions" message="Acciones de salida de las celdas de código"><template shadowrootmode="open"><!----><!--?lit$075548653$--><!----><div><!--?lit$075548653$-->Acciones de salida de las celdas de código</div><!----><!--?--></template></colab-tooltip-trigger></template></colab-output-info></div>
          <div class="output-iframe-container">
            <div class="output-iframe-sizer"> <div style="height: 353px;"><div class="outputview" style="height: 353px;"><colab-dom-lifecycle-events style="display: none;"></colab-dom-lifecycle-events><iframe allow="" sandbox="allow-downloads allow-forms allow-pointer-lock allow-popups allow-popups-to-escape-sandbox allow-same-origin allow-scripts allow-storage-access-by-user-activation" src="./SSP_files/outputframe(7).html" class="" style="height: 353px;"></iframe></div></div></div>
          </div>
        </div></div></div><colab-cell-next-steps><template shadowrootmode="open"><!----></template></colab-cell-next-steps></div></div><div class="add-cell">
      <hr>
    </div></div><div class="cell code code-has-output" id="cell-Gi20pk9-MNHr" tabindex="-1" role="region" aria-label="Celda 29: Celda de código; " style=""><div class="agent-focus-label">
      <md-icon aria-hidden="true"><template shadowrootmode="open"><!----><slot></slot></template>spark</md-icon>
      <!--?lit$075548653$-->Gemini
    </div><div class="cell-tag-editor sticky"></div><div class="cell-toolbar sticky"></div><div class="main-content" elevation="0"><div class="cell-contents"><div class="cell-mask"></div><span class="imported-info-area"></span><div class="codecell-input-output">
      <div class="inputarea horizontal layout code">
        <div class="cell-gutter">
          <!-- Bounding range for vertical scrolling of icons -->
          <div class="cell-execution-container">
            <colab-run-button><template shadowrootmode="open"><!----> <div class=" cell-execution stale ">
      <button id="run-button" aria-describedby="run-button-tooltip" aria-label="Ejecutar celda" aria-disabled="false">
        <!--?lit$075548653$--><span class="execution-count"><!--?lit$075548653$-->[ ]</span>
        <span aria-hidden="true" class="cell-execution-indicator"><!--?lit$075548653$-->
<svg xmlns="http://www.w3.org/2000/svg" viewBox="0 0 24 24">
  <!--?lit$075548653$-->
  <mask id="playSymbolMask">
    <rect width="100%" height="100%" fill="white"></rect>
    <polygon points="10,8 17,12 10,16" fill="black"></polygon>
  </mask>
  <circle cx="12" cy="12" r="7.8" mask="url(#playSymbolMask)" id="filledCircle"></circle>
</svg></span>
      </button>
      <!--?lit$075548653$--><colab-tooltip-trigger for="run-button" id="run-button-tooltip" aria-hidden="true" message="Ejecutar celda (Ctrl+Enter)
la celda no se ha ejecutado en esta sesión

ejecutada por Javier Hidalgo
miércoles, 19 de marzo de 2025
se ha ejecutado en 2081.889 s"><template shadowrootmode="open"><!----><!--?lit$075548653$--><!----><div><!--?lit$075548653$-->Ejecutar celda (Ctrl+Enter)</div><!----><!----><div><!--?lit$075548653$-->la celda no se ha ejecutado en esta sesión</div><!----><!----><br><!----><!----><div><!--?lit$075548653$-->ejecutada por Javier Hidalgo</div><!----><!----><div><!--?lit$075548653$-->miércoles, 19 de marzo de 2025</div><!----><!----><div><!--?lit$075548653$-->se ha ejecutado en 2081.889&nbsp;s</div><!----><!--?--></template>
    </colab-tooltip-trigger>
      <!--?lit$075548653$--><!--?-->
    </div></template></colab-run-button>
          </div>
        </div>
      <div class="editor flex lazy-editor" style=""><pre class="lazy-virtualized" style="font-size: 14px; line-height: 19px;"><pre class="lazy-gutter"></pre><pre class="monaco-colorized colab colab" data-lang="notebook-python"><span><span class="mtk19">from</span><span class="mtk1">&nbsp;keras.callbacks&nbsp;</span><span class="mtk19">import</span><span class="mtk1">&nbsp;EarlyStopping,&nbsp;ModelCheckpoint,&nbsp;ReduceLROnPlateau</span></span><br><span><span></span></span><br><span><span class="mtk1">batch_size&nbsp;=&nbsp;</span><span class="mtk12">32</span></span><br><span><span class="mtk1">epochs&nbsp;=&nbsp;</span><span class="mtk12">15</span></span><br><span><span class="mtk1">model1_fasta.</span><span class="mtk15">compile</span><span class="mtk1">(optimizer=</span><span class="mtk21">'adam'</span><span class="mtk1">,&nbsp;loss=</span><span class="mtk21">'categorical_crossentropy'</span><span class="mtk1">,&nbsp;metrics=[</span><span class="mtk21">'accuracy'</span><span class="mtk1">,&nbsp;masked_accuracy])</span></span><br><span><span></span></span><br><span><span class="mtk1">early_stopping&nbsp;=&nbsp;EarlyStopping(monitor=</span><span class="mtk21">'val_loss'</span><span class="mtk1">,&nbsp;patience=</span><span class="mtk12">5</span><span class="mtk1">,&nbsp;restore_best_weights=</span><span class="mtk6">True</span><span class="mtk1">)</span></span><br><span><span class="mtk1">checkpoint&nbsp;=&nbsp;ModelCheckpoint(</span><span class="mtk21">'best_model.h5'</span><span class="mtk1">,&nbsp;monitor=</span><span class="mtk21">'val_loss'</span><span class="mtk1">,&nbsp;save_best_only=</span><span class="mtk6">True</span><span class="mtk1">,&nbsp;verbose=</span><span class="mtk12">1</span><span class="mtk1">)</span></span><br><span><span></span></span><br><span><span class="mtk1">history1_fasta&nbsp;=&nbsp;model1_fasta.fit(fasta_train,&nbsp;dss</span><span class="mtk1">p_train,&nbsp;batch_size=batch_size,</span></span><br><span><span class="mtk1">&nbsp;&nbsp;&nbsp;&nbsp;&nbsp;&nbsp;&nbsp;&nbsp;&nbsp;&nbsp;&nbsp;&nbsp;&nbsp;&nbsp;&nbsp;&nbsp;&nbsp;&nbsp;&nbsp;&nbsp;&nbsp;&nbsp;&nbsp;&nbsp;&nbsp;epochs=epochs,&nbsp;validation</span><span class="mtk1">_data=(fasta_val,&nbsp;dssp_val),</span></span><br><span><span class="mtk1">&nbsp;&nbsp;&nbsp;&nbsp;&nbsp;&nbsp;&nbsp;&nbsp;&nbsp;&nbsp;&nbsp;&nbsp;&nbsp;&nbsp;&nbsp;&nbsp;&nbsp;&nbsp;&nbsp;&nbsp;&nbsp;&nbsp;&nbsp;&nbsp;&nbsp;callbacks=[early_stopping</span><span class="mtk1">])</span></span><br></pre><colab-read-only-cell-placeholder style="display: none;"><template shadowrootmode="open"><!----><div><!--?lit$075548653$-->Empieza a programar o a <span tabindex="0" role="button" class="link">crear código</span> con IA.</div></template></colab-read-only-cell-placeholder></pre></div><colab-form class="formview vertical layout flex"><div class="widget-area vertical layout"></div></colab-form></div>
    <div class="output" aria-label="Salida de la celda 29" role="region"><!----> <div class="output-header"> </div>
        <div class="output-content">
          <div class="output-info"><colab-output-info><template shadowrootmode="open"><!----><md-icon-button data-aria-expanded="false" data-aria-haspopup="menu" aria-describedby="button-output-actions-tooltip" data-aria-label="Acciones de salida de las celdas de código" id="button-output-actions" value=""><template shadowrootmode="open" shadowrootdelegatesfocus><!----><button id="button" class="icon-button  standard " aria-label="Acciones de salida de las celdas de código" aria-haspopup="menu" aria-expanded="false">
        <!--?lit$075548653$--><md-focus-ring part="focus-ring" for="button" aria-hidden="true"><template shadowrootmode="open"><!----></template></md-focus-ring>
        <!--?lit$075548653$--><md-ripple aria-hidden="true"><template shadowrootmode="open"><!----><div class="surface   "></div></template></md-ripple>
        <!--?lit$075548653$--><span class="icon"><slot></slot></span>
        <!--?lit$075548653$-->
        <!--?lit$075548653$--><span class="touch"></span>
  </button></template>
        <md-icon aria-hidden="true"><template shadowrootmode="open"><!----><slot></slot></template><!--?lit$075548653$--><svg viewBox="0 0 24 24"><!--?lit$075548653$--><path d="m15.9 3.07c-4.32 0.0742-8.64-0.0355-13 0.0568-1.37 0.307-1.74 2.1-1.41 3.26 0.469 0.606 1.86 0.384 1.66-0.525 0.0448-0.329-0.183-0.93 0.354-0.766h13.3v1.53h1.71c0.0709-1.13 0.141-2.62-0.968-3.3-0.511-0.264-1.11-0.252-1.67-0.259zm2.94 6.84v4.87c1.62-1.62 3.24-3.24 4.87-4.87h-4.87zm0 0h-1.71v3.43l1.57 1.57c0.32-1.65 0.0556-3.34 0.135-5zm-1.71 3.43v-3.43h-3.43c1.14 1.14 2.29 2.29 3.43 3.43zm1.4 4.27h-1.71v1.48h-13.6v-1.48h-1.71c-0.0473 1.15-0.16 2.72 1.09 3.29 1.47 0.506 3.02 0.0265 4.53 0.192 3.34-0.0051 6.68 0.0336 10-0.0245 1.49-0.366 1.56-2.22 1.42-3.45zm-10.1-1.12c-0.398-0.483-0.796-0.967-1.19-1.45 0.59-0.683 1.18-1.37 1.77-2.05h-8.67v-2h8.67c-0.59-0.683-1.18-1.37-1.77-2.05 0.398-0.483 0.796-0.967 1.19-1.45 1.28 1.5 2.56 3 3.84 4.5-1.28 1.5-2.56 3-3.84 4.5z"></path></svg></md-icon>
      </md-icon-button>
      <colab-tooltip-trigger aria-hidden="true" id="button-output-actions-tooltip" for="button-output-actions" message="Acciones de salida de las celdas de código"><template shadowrootmode="open"><!----><!--?lit$075548653$--><!----><div><!--?lit$075548653$-->Acciones de salida de las celdas de código</div><!----><!--?--></template></colab-tooltip-trigger></template></colab-output-info></div>
          <div class="output-iframe-container">
            <div class="output-iframe-sizer"> <div><div><colab-static-output-renderer tabindex="0" role="group"><div><div class="stream output_text"><pre>Epoch 1/15
<span style="font-weight: bold;">30/30</span><span> </span><span style="color: var(--ansi-green);">━━━━━━━━━━━━━━━━━━━━</span><span> </span><span style="font-weight: bold;">133s</span><span> 4s/step - accuracy: 0.7599 - loss: 0.8818 - masked_accuracy: 0.3689 - val_accuracy: 0.8791 - val_loss: 0.2326 - val_masked_accuracy: 0.4282
Epoch 2/15
</span><span style="font-weight: bold;">30/30</span><span> </span><span style="color: var(--ansi-green);">━━━━━━━━━━━━━━━━━━━━</span><span> </span><span style="font-weight: bold;">143s</span><span> 4s/step - accuracy: 0.8709 - loss: 0.2488 - masked_accuracy: 0.4239 - val_accuracy: 0.8995 - val_loss: 0.2152 - val_masked_accuracy: 0.5230
Epoch 3/15
</span><span style="font-weight: bold;">30/30</span><span> </span><span style="color: var(--ansi-green);">━━━━━━━━━━━━━━━━━━━━</span><span> </span><span style="font-weight: bold;">143s</span><span> 4s/step - accuracy: 0.8883 - loss: 0.2293 - masked_accuracy: 0.5009 - val_accuracy: 0.9051 - val_loss: 0.2012 - val_masked_accuracy: 0.5494
Epoch 4/15
</span><span style="font-weight: bold;">30/30</span><span> </span><span style="color: var(--ansi-green);">━━━━━━━━━━━━━━━━━━━━</span><span> </span><span style="font-weight: bold;">141s</span><span> 4s/step - accuracy: 0.8990 - loss: 0.2142 - masked_accuracy: 0.5485 - val_accuracy: 0.9118 - val_loss: 0.1898 - val_masked_accuracy: 0.5815
Epoch 5/15
</span><span style="font-weight: bold;">30/30</span><span> </span><span style="color: var(--ansi-green);">━━━━━━━━━━━━━━━━━━━━</span><span> </span><span style="font-weight: bold;">136s</span><span> 4s/step - accuracy: 0.9054 - loss: 0.2050 - masked_accuracy: 0.5776 - val_accuracy: 0.9172 - val_loss: 0.1835 - val_masked_accuracy: 0.6066
Epoch 6/15
</span><span style="font-weight: bold;">30/30</span><span> </span><span style="color: var(--ansi-green);">━━━━━━━━━━━━━━━━━━━━</span><span> </span><span style="font-weight: bold;">121s</span><span> 4s/step - accuracy: 0.9106 - loss: 0.1979 - masked_accuracy: 0.6006 - val_accuracy: 0.9199 - val_loss: 0.1793 - val_masked_accuracy: 0.6194
Epoch 7/15
</span><span style="font-weight: bold;">30/30</span><span> </span><span style="color: var(--ansi-green);">━━━━━━━━━━━━━━━━━━━━</span><span> </span><span style="font-weight: bold;">140s</span><span> 4s/step - accuracy: 0.9136 - loss: 0.1935 - masked_accuracy: 0.6138 - val_accuracy: 0.9217 - val_loss: 0.1769 - val_masked_accuracy: 0.6280
Epoch 8/15
</span><span style="font-weight: bold;">30/30</span><span> </span><span style="color: var(--ansi-green);">━━━━━━━━━━━━━━━━━━━━</span><span> </span><span style="font-weight: bold;">144s</span><span> 4s/step - accuracy: 0.9155 - loss: 0.1903 - masked_accuracy: 0.6223 - val_accuracy: 0.9225 - val_loss: 0.1750 - val_masked_accuracy: 0.6319
Epoch 9/15
</span><span style="font-weight: bold;">30/30</span><span> </span><span style="color: var(--ansi-green);">━━━━━━━━━━━━━━━━━━━━</span><span> </span><span style="font-weight: bold;">144s</span><span> 4s/step - accuracy: 0.9164 - loss: 0.1882 - masked_accuracy: 0.6266 - val_accuracy: 0.9232 - val_loss: 0.1738 - val_masked_accuracy: 0.6349
Epoch 10/15
</span><span style="font-weight: bold;">30/30</span><span> </span><span style="color: var(--ansi-green);">━━━━━━━━━━━━━━━━━━━━</span><span> </span><span style="font-weight: bold;">127s</span><span> 4s/step - accuracy: 0.9177 - loss: 0.1863 - masked_accuracy: 0.6324 - val_accuracy: 0.9241 - val_loss: 0.1723 - val_masked_accuracy: 0.6394
Epoch 11/15
</span><span style="font-weight: bold;">30/30</span><span> </span><span style="color: var(--ansi-green);">━━━━━━━━━━━━━━━━━━━━</span><span> </span><span style="font-weight: bold;">142s</span><span> 4s/step - accuracy: 0.9187 - loss: 0.1847 - masked_accuracy: 0.6365 - val_accuracy: 0.9239 - val_loss: 0.1733 - val_masked_accuracy: 0.6382
Epoch 12/15
</span><span style="font-weight: bold;">30/30</span><span> </span><span style="color: var(--ansi-green);">━━━━━━━━━━━━━━━━━━━━</span><span> </span><span style="font-weight: bold;">122s</span><span> 4s/step - accuracy: 0.9196 - loss: 0.1827 - masked_accuracy: 0.6403 - val_accuracy: 0.9238 - val_loss: 0.1726 - val_masked_accuracy: 0.6381
Epoch 13/15
</span><span style="font-weight: bold;">30/30</span><span> </span><span style="color: var(--ansi-green);">━━━━━━━━━━━━━━━━━━━━</span><span> </span><span style="font-weight: bold;">140s</span><span> 4s/step - accuracy: 0.9197 - loss: 0.1818 - masked_accuracy: 0.6407 - val_accuracy: 0.9240 - val_loss: 0.1714 - val_masked_accuracy: 0.6390
Epoch 14/15
</span><span style="font-weight: bold;">30/30</span><span> </span><span style="color: var(--ansi-green);">━━━━━━━━━━━━━━━━━━━━</span><span> </span><span style="font-weight: bold;">142s</span><span> 4s/step - accuracy: 0.9211 - loss: 0.1801 - masked_accuracy: 0.6469 - val_accuracy: 0.9237 - val_loss: 0.1729 - val_masked_accuracy: 0.6373
Epoch 15/15
</span><span style="font-weight: bold;">30/30</span><span> </span><span style="color: var(--ansi-green);">━━━━━━━━━━━━━━━━━━━━</span><span> </span><span style="font-weight: bold;">149s</span><span> 4s/step - accuracy: 0.9218 - loss: 0.1794 - masked_accuracy: 0.6499 - val_accuracy: 0.9248 - val_loss: 0.1706 - val_masked_accuracy: 0.6433
</span></pre></div></div><div></div></colab-static-output-renderer></div></div></div>
          </div>
        </div></div></div><colab-cell-next-steps><template shadowrootmode="open"><!----></template></colab-cell-next-steps></div></div><div class="add-cell">
      <hr>
    </div></div><div class="cell code code-has-output" id="cell-yFAE4vjLUakg" tabindex="-1" role="region" aria-label="Celda 30: Celda de código; " style=""><div class="agent-focus-label">
      <md-icon aria-hidden="true"><template shadowrootmode="open"><!----><slot></slot></template>spark</md-icon>
      <!--?lit$075548653$-->Gemini
    </div><div class="cell-tag-editor sticky"></div><div class="cell-toolbar sticky"></div><div class="main-content" elevation="0"><div class="cell-contents"><div class="cell-mask"></div><span class="imported-info-area"></span><div class="codecell-input-output">
      <div class="inputarea horizontal layout code">
        <div class="cell-gutter">
          <!-- Bounding range for vertical scrolling of icons -->
          <div class="cell-execution-container">
            <colab-run-button><template shadowrootmode="open"><!----> <div class=" cell-execution stale ">
      <button id="run-button" aria-describedby="run-button-tooltip" aria-label="Ejecutar celda" aria-disabled="false">
        <!--?lit$075548653$--><span class="execution-count"><!--?lit$075548653$-->[ ]</span>
        <span aria-hidden="true" class="cell-execution-indicator"><!--?lit$075548653$-->
<svg xmlns="http://www.w3.org/2000/svg" viewBox="0 0 24 24">
  <!--?lit$075548653$-->
  <mask id="playSymbolMask">
    <rect width="100%" height="100%" fill="white"></rect>
    <polygon points="10,8 17,12 10,16" fill="black"></polygon>
  </mask>
  <circle cx="12" cy="12" r="7.8" mask="url(#playSymbolMask)" id="filledCircle"></circle>
</svg></span>
      </button>
      <!--?lit$075548653$--><colab-tooltip-trigger for="run-button" id="run-button-tooltip" aria-hidden="true" message="Ejecutar celda (Ctrl+Enter)
la celda no se ha ejecutado en esta sesión

ejecutada por Javier Hidalgo
miércoles, 19 de marzo de 2025
se ha ejecutado en 0.463 s"><template shadowrootmode="open"><!----><!--?lit$075548653$--><!----><div><!--?lit$075548653$-->Ejecutar celda (Ctrl+Enter)</div><!----><!----><div><!--?lit$075548653$-->la celda no se ha ejecutado en esta sesión</div><!----><!----><br><!----><!----><div><!--?lit$075548653$-->ejecutada por Javier Hidalgo</div><!----><!----><div><!--?lit$075548653$-->miércoles, 19 de marzo de 2025</div><!----><!----><div><!--?lit$075548653$-->se ha ejecutado en 0.463&nbsp;s</div><!----><!--?--></template>
    </colab-tooltip-trigger>
      <!--?lit$075548653$--><!--?-->
    </div></template></colab-run-button>
          </div>
        </div>
      <div class="editor flex lazy-editor" style=""><pre class="lazy-virtualized" style="font-size: 14px; line-height: 19px;"><pre class="lazy-gutter"></pre><pre class="monaco-colorized colab colab" data-lang="notebook-python"><span><span class="mtk1">plot_history(history1_fasta,&nbsp;suptitle=</span><span class="mtk21">'Model&nbsp;1:&nbsp;2&nbsp;Bidirectional&nbsp;layer&nbsp;+&nbsp;FASTA&nbsp;data'</span><span class="mtk1">)</span></span><br></pre><colab-read-only-cell-placeholder style="display: none;"><template shadowrootmode="open"><!----><div><!--?lit$075548653$-->Empieza a programar o a <span tabindex="0" role="button" class="link">crear código</span> con IA.</div></template></colab-read-only-cell-placeholder></pre></div><colab-form class="formview vertical layout flex"><div class="widget-area vertical layout"></div></colab-form></div>
    <div class="output" aria-label="Salida de la celda 30" role="region"><!----> <div class="output-header"> </div>
        <div class="output-content">
          <div class="output-info"><colab-output-info><template shadowrootmode="open"><!----><md-icon-button data-aria-expanded="false" data-aria-haspopup="menu" aria-describedby="button-output-actions-tooltip" data-aria-label="Acciones de salida de las celdas de código" id="button-output-actions" value=""><template shadowrootmode="open" shadowrootdelegatesfocus><!----><button id="button" class="icon-button  standard " aria-label="Acciones de salida de las celdas de código" aria-haspopup="menu" aria-expanded="false">
        <!--?lit$075548653$--><md-focus-ring part="focus-ring" for="button" aria-hidden="true"><template shadowrootmode="open"><!----></template></md-focus-ring>
        <!--?lit$075548653$--><md-ripple aria-hidden="true"><template shadowrootmode="open"><!----><div class="surface   "></div></template></md-ripple>
        <!--?lit$075548653$--><span class="icon"><slot></slot></span>
        <!--?lit$075548653$-->
        <!--?lit$075548653$--><span class="touch"></span>
  </button></template>
        <md-icon aria-hidden="true"><template shadowrootmode="open"><!----><slot></slot></template><!--?lit$075548653$--><svg viewBox="0 0 24 24"><!--?lit$075548653$--><path d="m15.9 3.07c-4.32 0.0742-8.64-0.0355-13 0.0568-1.37 0.307-1.74 2.1-1.41 3.26 0.469 0.606 1.86 0.384 1.66-0.525 0.0448-0.329-0.183-0.93 0.354-0.766h13.3v1.53h1.71c0.0709-1.13 0.141-2.62-0.968-3.3-0.511-0.264-1.11-0.252-1.67-0.259zm2.94 6.84v4.87c1.62-1.62 3.24-3.24 4.87-4.87h-4.87zm0 0h-1.71v3.43l1.57 1.57c0.32-1.65 0.0556-3.34 0.135-5zm-1.71 3.43v-3.43h-3.43c1.14 1.14 2.29 2.29 3.43 3.43zm1.4 4.27h-1.71v1.48h-13.6v-1.48h-1.71c-0.0473 1.15-0.16 2.72 1.09 3.29 1.47 0.506 3.02 0.0265 4.53 0.192 3.34-0.0051 6.68 0.0336 10-0.0245 1.49-0.366 1.56-2.22 1.42-3.45zm-10.1-1.12c-0.398-0.483-0.796-0.967-1.19-1.45 0.59-0.683 1.18-1.37 1.77-2.05h-8.67v-2h8.67c-0.59-0.683-1.18-1.37-1.77-2.05 0.398-0.483 0.796-0.967 1.19-1.45 1.28 1.5 2.56 3 3.84 4.5-1.28 1.5-2.56 3-3.84 4.5z"></path></svg></md-icon>
      </md-icon-button>
      <colab-tooltip-trigger aria-hidden="true" id="button-output-actions-tooltip" for="button-output-actions" message="Acciones de salida de las celdas de código"><template shadowrootmode="open"><!----><!--?lit$075548653$--><!----><div><!--?lit$075548653$-->Acciones de salida de las celdas de código</div><!----><!--?--></template></colab-tooltip-trigger></template></colab-output-info></div>
          <div class="output-iframe-container">
            <div class="output-iframe-sizer"> <div style="height: 498px;"><div class="outputview" style="height: 305px;"><colab-dom-lifecycle-events style="display: none;"></colab-dom-lifecycle-events><iframe allow="" sandbox="allow-downloads allow-forms allow-pointer-lock allow-popups allow-popups-to-escape-sandbox allow-same-origin allow-scripts allow-storage-access-by-user-activation" src="./SSP_files/outputframe(8).html" class="" style="height: 305px;"></iframe></div></div></div>
          </div>
        </div></div></div><colab-cell-next-steps><template shadowrootmode="open"><!----></template></colab-cell-next-steps></div></div><div class="add-cell">
      <hr>
    </div></div><div class="cell code code-has-output" id="cell-G8gEpcUJUiwG" tabindex="-1" role="region" aria-label="Celda 31: Celda de código; " style=""><div class="agent-focus-label">
      <md-icon aria-hidden="true"><template shadowrootmode="open"><!----><slot></slot></template>spark</md-icon>
      <!--?lit$075548653$-->Gemini
    </div><div class="cell-tag-editor sticky"></div><div class="cell-toolbar sticky"></div><div class="main-content" elevation="0"><div class="cell-contents"><div class="cell-mask"></div><span class="imported-info-area"></span><div class="codecell-input-output">
      <div class="inputarea horizontal layout code">
        <div class="cell-gutter">
          <!-- Bounding range for vertical scrolling of icons -->
          <div class="cell-execution-container">
            <colab-run-button><template shadowrootmode="open"><!----> <div class=" cell-execution stale ">
      <button id="run-button" aria-describedby="run-button-tooltip" aria-label="Ejecutar celda" aria-disabled="false">
        <!--?lit$075548653$--><span class="execution-count"><!--?lit$075548653$-->[ ]</span>
        <span aria-hidden="true" class="cell-execution-indicator"><!--?lit$075548653$-->
<svg xmlns="http://www.w3.org/2000/svg" viewBox="0 0 24 24">
  <!--?lit$075548653$-->
  <mask id="playSymbolMask">
    <rect width="100%" height="100%" fill="white"></rect>
    <polygon points="10,8 17,12 10,16" fill="black"></polygon>
  </mask>
  <circle cx="12" cy="12" r="7.8" mask="url(#playSymbolMask)" id="filledCircle"></circle>
</svg></span>
      </button>
      <!--?lit$075548653$--><colab-tooltip-trigger for="run-button" id="run-button-tooltip" aria-hidden="true" message="Ejecutar celda (Ctrl+Enter)
la celda no se ha ejecutado en esta sesión

ejecutada por Javier Hidalgo
miércoles, 19 de marzo de 2025
se ha ejecutado en 5.097 s"><template shadowrootmode="open"><!----><!--?lit$075548653$--><!----><div><!--?lit$075548653$-->Ejecutar celda (Ctrl+Enter)</div><!----><!----><div><!--?lit$075548653$-->la celda no se ha ejecutado en esta sesión</div><!----><!----><br><!----><!----><div><!--?lit$075548653$-->ejecutada por Javier Hidalgo</div><!----><!----><div><!--?lit$075548653$-->miércoles, 19 de marzo de 2025</div><!----><!----><div><!--?lit$075548653$-->se ha ejecutado en 5.097&nbsp;s</div><!----><!--?--></template>
    </colab-tooltip-trigger>
      <!--?lit$075548653$--><!--?-->
    </div></template></colab-run-button>
          </div>
        </div>
      <div class="editor flex lazy-editor" style=""><pre class="lazy-virtualized" style="font-size: 14px; line-height: 19px;"><pre class="lazy-gutter"></pre><pre class="monaco-colorized colab colab" data-lang="notebook-python"><span><span class="mtk1">metrics_fasta_1&nbsp;=&nbsp;get_metrics(model1_fasta,&nbsp;histor</span><span class="mtk1">y1_fasta,&nbsp;fasta_test,&nbsp;dssp_test)</span></span><br></pre><colab-read-only-cell-placeholder style="display: none;"><template shadowrootmode="open"><!----><div><!--?lit$075548653$-->Empieza a programar o a <span tabindex="0" role="button" class="link">crear código</span> con IA.</div></template></colab-read-only-cell-placeholder></pre></div><colab-form class="formview vertical layout flex"><div class="widget-area vertical layout"></div></colab-form></div>
    <div class="output" aria-label="Salida de la celda 31" role="region"><!----> <div class="output-header"> </div>
        <div class="output-content">
          <div class="output-info"><colab-output-info><template shadowrootmode="open"><!----><md-icon-button data-aria-expanded="false" data-aria-haspopup="menu" aria-describedby="button-output-actions-tooltip" data-aria-label="Acciones de salida de las celdas de código" id="button-output-actions" value=""><template shadowrootmode="open" shadowrootdelegatesfocus><!----><button id="button" class="icon-button  standard " aria-label="Acciones de salida de las celdas de código" aria-haspopup="menu" aria-expanded="false">
        <!--?lit$075548653$--><md-focus-ring part="focus-ring" for="button" aria-hidden="true"><template shadowrootmode="open"><!----></template></md-focus-ring>
        <!--?lit$075548653$--><md-ripple aria-hidden="true"><template shadowrootmode="open"><!----><div class="surface   "></div></template></md-ripple>
        <!--?lit$075548653$--><span class="icon"><slot></slot></span>
        <!--?lit$075548653$-->
        <!--?lit$075548653$--><span class="touch"></span>
  </button></template>
        <md-icon aria-hidden="true"><template shadowrootmode="open"><!----><slot></slot></template><!--?lit$075548653$--><svg viewBox="0 0 24 24"><!--?lit$075548653$--><path d="m15.9 3.07c-4.32 0.0742-8.64-0.0355-13 0.0568-1.37 0.307-1.74 2.1-1.41 3.26 0.469 0.606 1.86 0.384 1.66-0.525 0.0448-0.329-0.183-0.93 0.354-0.766h13.3v1.53h1.71c0.0709-1.13 0.141-2.62-0.968-3.3-0.511-0.264-1.11-0.252-1.67-0.259zm2.94 6.84v4.87c1.62-1.62 3.24-3.24 4.87-4.87h-4.87zm0 0h-1.71v3.43l1.57 1.57c0.32-1.65 0.0556-3.34 0.135-5zm-1.71 3.43v-3.43h-3.43c1.14 1.14 2.29 2.29 3.43 3.43zm1.4 4.27h-1.71v1.48h-13.6v-1.48h-1.71c-0.0473 1.15-0.16 2.72 1.09 3.29 1.47 0.506 3.02 0.0265 4.53 0.192 3.34-0.0051 6.68 0.0336 10-0.0245 1.49-0.366 1.56-2.22 1.42-3.45zm-10.1-1.12c-0.398-0.483-0.796-0.967-1.19-1.45 0.59-0.683 1.18-1.37 1.77-2.05h-8.67v-2h8.67c-0.59-0.683-1.18-1.37-1.77-2.05 0.398-0.483 0.796-0.967 1.19-1.45 1.28 1.5 2.56 3 3.84 4.5-1.28 1.5-2.56 3-3.84 4.5z"></path></svg></md-icon>
      </md-icon-button>
      <colab-tooltip-trigger aria-hidden="true" id="button-output-actions-tooltip" for="button-output-actions" message="Acciones de salida de las celdas de código"><template shadowrootmode="open"><!----><!--?lit$075548653$--><!----><div><!--?lit$075548653$-->Acciones de salida de las celdas de código</div><!----><!--?--></template></colab-tooltip-trigger></template></colab-output-info></div>
          <div class="output-iframe-container">
            <div class="output-iframe-sizer"> <div><div><colab-static-output-renderer tabindex="0" role="group"><div><div class="stream output_text"><pre><span style="font-weight: bold;">4/4</span><span> </span><span style="color: var(--ansi-green);">━━━━━━━━━━━━━━━━━━━━</span><span> </span><span style="font-weight: bold;">5s</span><span> 1s/step - accuracy: 0.9238 - loss: 0.1735 - masked_accuracy: 0.6554
</span></pre></div></div><div></div></colab-static-output-renderer></div></div></div>
          </div>
        </div></div></div><colab-cell-next-steps><template shadowrootmode="open"><!----></template></colab-cell-next-steps></div></div><div class="add-cell">
      <hr>
    </div></div><div class="cell code code-has-output" id="cell-wT_KNCX5UuGn" tabindex="-1" role="region" aria-label="Celda 32: Celda de código; " style=""><div class="agent-focus-label">
      <md-icon aria-hidden="true"><template shadowrootmode="open"><!----><slot></slot></template>spark</md-icon>
      <!--?lit$075548653$-->Gemini
    </div><div class="cell-tag-editor sticky"></div><div class="cell-toolbar sticky"></div><div class="main-content" elevation="0"><div class="cell-contents"><div class="cell-mask"></div><span class="imported-info-area"></span><div class="codecell-input-output">
      <div class="inputarea horizontal layout code">
        <div class="cell-gutter">
          <!-- Bounding range for vertical scrolling of icons -->
          <div class="cell-execution-container">
            <colab-run-button><template shadowrootmode="open"><!----> <div class=" cell-execution stale ">
      <button id="run-button" aria-describedby="run-button-tooltip" aria-label="Ejecutar celda" aria-disabled="false">
        <!--?lit$075548653$--><span class="execution-count"><!--?lit$075548653$-->[ ]</span>
        <span aria-hidden="true" class="cell-execution-indicator"><!--?lit$075548653$-->
<svg xmlns="http://www.w3.org/2000/svg" viewBox="0 0 24 24">
  <!--?lit$075548653$-->
  <mask id="playSymbolMask">
    <rect width="100%" height="100%" fill="white"></rect>
    <polygon points="10,8 17,12 10,16" fill="black"></polygon>
  </mask>
  <circle cx="12" cy="12" r="7.8" mask="url(#playSymbolMask)" id="filledCircle"></circle>
</svg></span>
      </button>
      <!--?lit$075548653$--><colab-tooltip-trigger for="run-button" id="run-button-tooltip" aria-hidden="true" message="Ejecutar celda (Ctrl+Enter)
la celda no se ha ejecutado en esta sesión

ejecutada por Javier Hidalgo
miércoles, 19 de marzo de 2025
se ha ejecutado en 5.636 s"><template shadowrootmode="open"><!----><!--?lit$075548653$--><!----><div><!--?lit$075548653$-->Ejecutar celda (Ctrl+Enter)</div><!----><!----><div><!--?lit$075548653$-->la celda no se ha ejecutado en esta sesión</div><!----><!----><br><!----><!----><div><!--?lit$075548653$-->ejecutada por Javier Hidalgo</div><!----><!----><div><!--?lit$075548653$-->miércoles, 19 de marzo de 2025</div><!----><!----><div><!--?lit$075548653$-->se ha ejecutado en 5.636&nbsp;s</div><!----><!--?--></template>
    </colab-tooltip-trigger>
      <!--?lit$075548653$--><!--?-->
    </div></template></colab-run-button>
          </div>
        </div>
      <div class="editor flex lazy-editor" style=""><pre class="lazy-virtualized" style="font-size: 14px; line-height: 19px;"><pre class="lazy-gutter"></pre><pre class="monaco-colorized colab colab" data-lang="notebook-python"><span><span class="mtk1">cm_metrics_fasta1&nbsp;=&nbsp;plot_confusion_matrix(model1_f</span><span class="mtk1">asta,&nbsp;fasta_test,&nbsp;dssp_test,&nbsp;suptitle=</span><span class="mtk21">'Model&nbsp;1:&nbsp;2&nbsp;Bidirectional&nbsp;layer&nbsp;+&nbsp;FASTA&nbsp;data'</span><span class="mtk1">)</span></span><br></pre><colab-read-only-cell-placeholder style="display: none;"><template shadowrootmode="open"><!----><div><!--?lit$075548653$-->Empieza a programar o a <span tabindex="0" role="button" class="link">crear código</span> con IA.</div></template></colab-read-only-cell-placeholder></pre></div><colab-form class="formview vertical layout flex"><div class="widget-area vertical layout"></div></colab-form></div>
    <div class="output" aria-label="Salida de la celda 32" role="region"><!----> <div class="output-header"> </div>
        <div class="output-content">
          <div class="output-info"><colab-output-info><template shadowrootmode="open"><!----><md-icon-button data-aria-expanded="false" data-aria-haspopup="menu" aria-describedby="button-output-actions-tooltip" data-aria-label="Acciones de salida de las celdas de código" id="button-output-actions" value=""><template shadowrootmode="open" shadowrootdelegatesfocus><!----><button id="button" class="icon-button  standard " aria-label="Acciones de salida de las celdas de código" aria-haspopup="menu" aria-expanded="false">
        <!--?lit$075548653$--><md-focus-ring part="focus-ring" for="button" aria-hidden="true"><template shadowrootmode="open"><!----></template></md-focus-ring>
        <!--?lit$075548653$--><md-ripple aria-hidden="true"><template shadowrootmode="open"><!----><div class="surface   "></div></template></md-ripple>
        <!--?lit$075548653$--><span class="icon"><slot></slot></span>
        <!--?lit$075548653$-->
        <!--?lit$075548653$--><span class="touch"></span>
  </button></template>
        <md-icon aria-hidden="true"><template shadowrootmode="open"><!----><slot></slot></template><!--?lit$075548653$--><svg viewBox="0 0 24 24"><!--?lit$075548653$--><path d="m15.9 3.07c-4.32 0.0742-8.64-0.0355-13 0.0568-1.37 0.307-1.74 2.1-1.41 3.26 0.469 0.606 1.86 0.384 1.66-0.525 0.0448-0.329-0.183-0.93 0.354-0.766h13.3v1.53h1.71c0.0709-1.13 0.141-2.62-0.968-3.3-0.511-0.264-1.11-0.252-1.67-0.259zm2.94 6.84v4.87c1.62-1.62 3.24-3.24 4.87-4.87h-4.87zm0 0h-1.71v3.43l1.57 1.57c0.32-1.65 0.0556-3.34 0.135-5zm-1.71 3.43v-3.43h-3.43c1.14 1.14 2.29 2.29 3.43 3.43zm1.4 4.27h-1.71v1.48h-13.6v-1.48h-1.71c-0.0473 1.15-0.16 2.72 1.09 3.29 1.47 0.506 3.02 0.0265 4.53 0.192 3.34-0.0051 6.68 0.0336 10-0.0245 1.49-0.366 1.56-2.22 1.42-3.45zm-10.1-1.12c-0.398-0.483-0.796-0.967-1.19-1.45 0.59-0.683 1.18-1.37 1.77-2.05h-8.67v-2h8.67c-0.59-0.683-1.18-1.37-1.77-2.05 0.398-0.483 0.796-0.967 1.19-1.45 1.28 1.5 2.56 3 3.84 4.5-1.28 1.5-2.56 3-3.84 4.5z"></path></svg></md-icon>
      </md-icon-button>
      <colab-tooltip-trigger aria-hidden="true" id="button-output-actions-tooltip" for="button-output-actions" message="Acciones de salida de las celdas de código"><template shadowrootmode="open"><!----><!--?lit$075548653$--><!----><div><!--?lit$075548653$-->Acciones de salida de las celdas de código</div><!----><!--?--></template></colab-tooltip-trigger></template></colab-output-info></div>
          <div class="output-iframe-container">
            <div class="output-iframe-sizer"> <div style="height: 532px;"><div class="outputview" style="height: 532px;"><colab-dom-lifecycle-events style="display: none;"></colab-dom-lifecycle-events><iframe allow="" sandbox="allow-downloads allow-forms allow-pointer-lock allow-popups allow-popups-to-escape-sandbox allow-same-origin allow-scripts allow-storage-access-by-user-activation" src="./SSP_files/outputframe(9).html" class="" style="height: 532px;"></iframe></div></div></div>
          </div>
        </div></div></div><colab-cell-next-steps><template shadowrootmode="open"><!----></template></colab-cell-next-steps></div></div><div class="add-cell">
      <hr>
    </div></div><div class="cell text" id="cell-qEiWJTOOVHkR" tabindex="-1" role="region" aria-label="Celda 33: Celda de texto; Model 2" style=""><div class="agent-focus-label">
      <md-icon aria-hidden="true"><template shadowrootmode="open"><!----><slot></slot></template>spark</md-icon>
      <!--?lit$075548653$-->Gemini
    </div><div class="cell-tag-editor sticky"></div><div class="cell-toolbar sticky"></div><div class="main-content" elevation="0"><div class="cell-contents"><div class="cell-mask"></div><span class="imported-info-area"></span><!----> <div class="toolbar-root"></div>
      <div class="editor-container horizontal">
        <div class="editor-root"></div>
        <div class="text-top-div">
          <div class="markdown"><span><div class="text-cell-section-header layout horizontal center"><md-icon-button class="header-section-toggle" title="Ocultar 5 celdas secundarias de Model 2 (pulsa &lt;Mayús&gt; para ocultar también las secciones del mismo nivel)" data-aria-label="Ocultar 5 celdas secundarias de Model 2 (pulsa &lt;Mayús&gt; para ocultar también las secciones del mismo nivel)" value=""><template shadowrootmode="open" shadowrootdelegatesfocus><!----><button id="button" class="icon-button  standard " aria-label="Ocultar 5 celdas secundarias de Model 2 (pulsa &lt;Mayús&gt; para ocultar también las secciones del mismo nivel)">
        <!--?lit$075548653$--><md-focus-ring part="focus-ring" for="button" aria-hidden="true"><template shadowrootmode="open"><!----></template></md-focus-ring>
        <!--?lit$075548653$--><md-ripple aria-hidden="true"><template shadowrootmode="open"><!----><div class="surface   "></div></template></md-ripple>
        <!--?lit$075548653$--><span class="icon"><slot></slot></span>
        <!--?lit$075548653$-->
        <!--?lit$075548653$--><span class="touch"></span>
  </button></template><md-icon aria-hidden="true"><template shadowrootmode="open"><!----><slot></slot></template>keyboard_arrow_down</md-icon></md-icon-button><h1>Model 2</h1></div>
</span></div>
        </div>
      </div>

      <div class="section-header" style="display: none;">
        <colab-run-button><template shadowrootmode="open"><!----> <div class=" cell-execution ">
      <button id="run-button" aria-label="Ejecutar celda" aria-disabled="false">
        <!--?lit$075548653$--><span class="execution-count"><!--?lit$075548653$-->[ ]</span>
        <span aria-hidden="true" class="cell-execution-indicator"><!--?lit$075548653$-->
<svg xmlns="http://www.w3.org/2000/svg" viewBox="0 0 24 24">
  <!--?lit$075548653$-->
  <mask id="playSymbolMask">
    <rect width="100%" height="100%" fill="white"></rect>
    <polygon points="10,8 17,12 10,16" fill="black"></polygon>
  </mask>
  <circle cx="12" cy="12" r="7.8" mask="url(#playSymbolMask)" id="filledCircle"></circle>
</svg></span>
      </button>
      <!--?lit$075548653$-->
      <!--?lit$075548653$--><!--?-->
    </div></template></colab-run-button>
        <div class="section-header-container" title="hacer clic para mostrar">
          <md-icon aria-hidden="true"><template shadowrootmode="open"><!----><slot></slot></template>subdirectory_arrow_right</md-icon>
          <span>5 celdas ocultas</span>
        </div>
      </div></div></div><div class="add-cell">
      <hr>
    </div></div><div class="cell code code-has-output" id="cell-nUilAvt1VKDO" tabindex="-1" role="region" aria-label="Celda 34: Celda de código; " style=""><div class="agent-focus-label">
      <md-icon aria-hidden="true"><template shadowrootmode="open"><!----><slot></slot></template>spark</md-icon>
      <!--?lit$075548653$-->Gemini
    </div><div class="cell-tag-editor sticky"></div><div class="cell-toolbar sticky"></div><div class="main-content" elevation="0"><div class="cell-contents"><div class="cell-mask"></div><span class="imported-info-area"></span><div class="codecell-input-output">
      <div class="inputarea horizontal layout code">
        <div class="cell-gutter">
          <!-- Bounding range for vertical scrolling of icons -->
          <div class="cell-execution-container">
            <colab-run-button><template shadowrootmode="open"><!----> <div class=" cell-execution stale ">
      <button id="run-button" aria-describedby="run-button-tooltip" aria-label="Ejecutar celda" aria-disabled="false">
        <!--?lit$075548653$--><span class="execution-count"><!--?lit$075548653$-->[ ]</span>
        <span aria-hidden="true" class="cell-execution-indicator"><!--?lit$075548653$-->
<svg xmlns="http://www.w3.org/2000/svg" viewBox="0 0 24 24">
  <!--?lit$075548653$-->
  <mask id="playSymbolMask">
    <rect width="100%" height="100%" fill="white"></rect>
    <polygon points="10,8 17,12 10,16" fill="black"></polygon>
  </mask>
  <circle cx="12" cy="12" r="7.8" mask="url(#playSymbolMask)" id="filledCircle"></circle>
</svg></span>
      </button>
      <!--?lit$075548653$--><colab-tooltip-trigger for="run-button" id="run-button-tooltip" aria-hidden="true" message="Ejecutar celda (Ctrl+Enter)
la celda no se ha ejecutado en esta sesión

ejecutada por Javier Hidalgo
miércoles, 19 de marzo de 2025
se ha ejecutado en 0.125 s"><template shadowrootmode="open"><!----><!--?lit$075548653$--><!----><div><!--?lit$075548653$-->Ejecutar celda (Ctrl+Enter)</div><!----><!----><div><!--?lit$075548653$-->la celda no se ha ejecutado en esta sesión</div><!----><!----><br><!----><!----><div><!--?lit$075548653$-->ejecutada por Javier Hidalgo</div><!----><!----><div><!--?lit$075548653$-->miércoles, 19 de marzo de 2025</div><!----><!----><div><!--?lit$075548653$-->se ha ejecutado en 0.125&nbsp;s</div><!----><!--?--></template>
    </colab-tooltip-trigger>
      <!--?lit$075548653$--><!--?-->
    </div></template></colab-run-button>
          </div>
        </div>
      <div class="editor flex lazy-editor" style=""><pre class="lazy-virtualized" style="font-size: 14px; line-height: 19px;"><pre class="lazy-gutter"></pre><pre class="monaco-colorized colab colab" data-lang="notebook-python"><span><span class="mtk1">input_shape&nbsp;=&nbsp;fasta_train[</span><span class="mtk12">0</span><span class="mtk1">].shape</span></span><br><span><span></span></span><br><span><span class="mtk1">model2_fasta&nbsp;=&nbsp;keras.Sequential()</span></span><br><span><span class="mtk1">model2_fasta.add(Conv1D(</span><span class="mtk12">64</span><span class="mtk1">,&nbsp;kernel_size=</span><span class="mtk12">3</span><span class="mtk1">,&nbsp;activation=</span><span class="mtk21">'relu'</span><span class="mtk1">,&nbsp;padding=</span><span class="mtk21">'same'</span><span class="mtk1">,&nbsp;input_shape=&nbsp;(</span><span class="mtk12">759</span><span class="mtk1">,</span><span class="mtk12">20</span><span class="mtk1">)))</span></span><br><span><span class="mtk1">model2_fasta.add(BatchNormalization())</span></span><br><span><span class="mtk1">model2_fasta.add(Bidirectional(layers.LSTM(</span><span class="mtk12">64</span><span class="mtk1">,&nbsp;return_sequences=</span><span class="mtk6">True</span><span class="mtk1">)))</span></span><br><span><span class="mtk1">model2_fasta.add(layers.Dropout(</span><span class="mtk12">0.3</span><span class="mtk1">))</span></span><br><span><span class="mtk1">model2_fasta.add(Dense(</span><span class="mtk12">128</span><span class="mtk1">,&nbsp;activation=</span><span class="mtk21">'relu'</span><span class="mtk1">))</span></span><br><span><span class="mtk1">model2_fasta.add(layers.Dropout(</span><span class="mtk12">0.3</span><span class="mtk1">))</span></span><br><span><span class="mtk1">model2_fasta.add(Dense(</span><span class="mtk12">4</span><span class="mtk1">,&nbsp;activation=</span><span class="mtk21">'softmax'</span><span class="mtk1">))</span></span><br><span><span class="mtk1">model2_fasta.summary()</span></span><br></pre><colab-read-only-cell-placeholder style="display: none;"><template shadowrootmode="open"><!----><div><!--?lit$075548653$-->Empieza a programar o a <span tabindex="0" role="button" class="link">crear código</span> con IA.</div></template></colab-read-only-cell-placeholder></pre></div><colab-form class="formview vertical layout flex"><div class="widget-area vertical layout"></div></colab-form></div>
    <div class="output" aria-label="Salida de la celda 34" role="region"><!----> <div class="output-header"> </div>
        <div class="output-content">
          <div class="output-info"><colab-output-info><template shadowrootmode="open"><!----><md-icon-button data-aria-expanded="false" data-aria-haspopup="menu" aria-describedby="button-output-actions-tooltip" data-aria-label="Acciones de salida de las celdas de código" id="button-output-actions" value=""><template shadowrootmode="open" shadowrootdelegatesfocus><!----><button id="button" class="icon-button  standard " aria-label="Acciones de salida de las celdas de código" aria-haspopup="menu" aria-expanded="false">
        <!--?lit$075548653$--><md-focus-ring part="focus-ring" for="button" aria-hidden="true"><template shadowrootmode="open"><!----></template></md-focus-ring>
        <!--?lit$075548653$--><md-ripple aria-hidden="true"><template shadowrootmode="open"><!----><div class="surface   "></div></template></md-ripple>
        <!--?lit$075548653$--><span class="icon"><slot></slot></span>
        <!--?lit$075548653$-->
        <!--?lit$075548653$--><span class="touch"></span>
  </button></template>
        <md-icon aria-hidden="true"><template shadowrootmode="open"><!----><slot></slot></template><!--?lit$075548653$--><svg viewBox="0 0 24 24"><!--?lit$075548653$--><path d="m15.9 3.07c-4.32 0.0742-8.64-0.0355-13 0.0568-1.37 0.307-1.74 2.1-1.41 3.26 0.469 0.606 1.86 0.384 1.66-0.525 0.0448-0.329-0.183-0.93 0.354-0.766h13.3v1.53h1.71c0.0709-1.13 0.141-2.62-0.968-3.3-0.511-0.264-1.11-0.252-1.67-0.259zm2.94 6.84v4.87c1.62-1.62 3.24-3.24 4.87-4.87h-4.87zm0 0h-1.71v3.43l1.57 1.57c0.32-1.65 0.0556-3.34 0.135-5zm-1.71 3.43v-3.43h-3.43c1.14 1.14 2.29 2.29 3.43 3.43zm1.4 4.27h-1.71v1.48h-13.6v-1.48h-1.71c-0.0473 1.15-0.16 2.72 1.09 3.29 1.47 0.506 3.02 0.0265 4.53 0.192 3.34-0.0051 6.68 0.0336 10-0.0245 1.49-0.366 1.56-2.22 1.42-3.45zm-10.1-1.12c-0.398-0.483-0.796-0.967-1.19-1.45 0.59-0.683 1.18-1.37 1.77-2.05h-8.67v-2h8.67c-0.59-0.683-1.18-1.37-1.77-2.05 0.398-0.483 0.796-0.967 1.19-1.45 1.28 1.5 2.56 3 3.84 4.5-1.28 1.5-2.56 3-3.84 4.5z"></path></svg></md-icon>
      </md-icon-button>
      <colab-tooltip-trigger aria-hidden="true" id="button-output-actions-tooltip" for="button-output-actions" message="Acciones de salida de las celdas de código"><template shadowrootmode="open"><!----><!--?lit$075548653$--><!----><div><!--?lit$075548653$-->Acciones de salida de las celdas de código</div><!----><!--?--></template></colab-tooltip-trigger></template></colab-output-info></div>
          <div class="output-iframe-container">
            <div class="output-iframe-sizer"> <div style="height: 424px;"><div class="outputview" style="height: 424px;"><colab-dom-lifecycle-events style="display: none;"></colab-dom-lifecycle-events><iframe allow="" sandbox="allow-downloads allow-forms allow-pointer-lock allow-popups allow-popups-to-escape-sandbox allow-same-origin allow-scripts allow-storage-access-by-user-activation" src="./SSP_files/outputframe(10).html" class="" style="height: 424px;"></iframe></div></div></div>
          </div>
        </div></div></div><colab-cell-next-steps><template shadowrootmode="open"><!----></template></colab-cell-next-steps></div></div><div class="add-cell">
      <hr>
    </div></div><div class="cell code code-has-output" id="cell-xGt3Iw04VsAH" tabindex="-1" role="region" aria-label="Celda 35: Celda de código; " style=""><div class="agent-focus-label">
      <md-icon aria-hidden="true"><template shadowrootmode="open"><!----><slot></slot></template>spark</md-icon>
      <!--?lit$075548653$-->Gemini
    </div><div class="cell-tag-editor sticky"></div><div class="cell-toolbar sticky"></div><div class="main-content" elevation="0"><div class="cell-contents"><div class="cell-mask"></div><span class="imported-info-area"></span><div class="codecell-input-output">
      <div class="inputarea horizontal layout code">
        <div class="cell-gutter">
          <!-- Bounding range for vertical scrolling of icons -->
          <div class="cell-execution-container">
            <colab-run-button><template shadowrootmode="open"><!----> <div class=" cell-execution stale ">
      <button id="run-button" aria-describedby="run-button-tooltip" aria-label="Ejecutar celda" aria-disabled="false">
        <!--?lit$075548653$--><span class="execution-count"><!--?lit$075548653$-->[ ]</span>
        <span aria-hidden="true" class="cell-execution-indicator"><!--?lit$075548653$-->
<svg xmlns="http://www.w3.org/2000/svg" viewBox="0 0 24 24">
  <!--?lit$075548653$-->
  <mask id="playSymbolMask">
    <rect width="100%" height="100%" fill="white"></rect>
    <polygon points="10,8 17,12 10,16" fill="black"></polygon>
  </mask>
  <circle cx="12" cy="12" r="7.8" mask="url(#playSymbolMask)" id="filledCircle"></circle>
</svg></span>
      </button>
      <!--?lit$075548653$--><colab-tooltip-trigger for="run-button" id="run-button-tooltip" aria-hidden="true" message="Ejecutar celda (Ctrl+Enter)
la celda no se ha ejecutado en esta sesión

ejecutada por Javier Hidalgo
miércoles, 19 de marzo de 2025
se ha ejecutado en 636.793 s"><template shadowrootmode="open"><!----><!--?lit$075548653$--><!----><div><!--?lit$075548653$-->Ejecutar celda (Ctrl+Enter)</div><!----><!----><div><!--?lit$075548653$-->la celda no se ha ejecutado en esta sesión</div><!----><!----><br><!----><!----><div><!--?lit$075548653$-->ejecutada por Javier Hidalgo</div><!----><!----><div><!--?lit$075548653$-->miércoles, 19 de marzo de 2025</div><!----><!----><div><!--?lit$075548653$-->se ha ejecutado en 636.793&nbsp;s</div><!----><!--?--></template>
    </colab-tooltip-trigger>
      <!--?lit$075548653$--><!--?-->
    </div></template></colab-run-button>
          </div>
        </div>
      <div class="editor flex lazy-editor" style=""><pre class="lazy-virtualized" style="font-size: 14px; line-height: 19px;"><pre class="lazy-gutter"></pre><pre class="monaco-colorized colab colab" data-lang="notebook-python"><span><span class="mtk19">from</span><span class="mtk1">&nbsp;keras.callbacks&nbsp;</span><span class="mtk19">import</span><span class="mtk1">&nbsp;EarlyStopping,&nbsp;ModelCheckpoint,&nbsp;ReduceLROnPlateau</span></span><br><span><span></span></span><br><span><span class="mtk1">batch_size&nbsp;=&nbsp;</span><span class="mtk12">32</span></span><br><span><span class="mtk1">epochs&nbsp;=&nbsp;</span><span class="mtk12">15</span></span><br><span><span class="mtk1">model2_fasta.</span><span class="mtk15">compile</span><span class="mtk1">(optimizer=</span><span class="mtk21">'adam'</span><span class="mtk1">,&nbsp;loss=</span><span class="mtk21">'categorical_crossentropy'</span><span class="mtk1">,&nbsp;metrics=[</span><span class="mtk21">'accuracy'</span><span class="mtk1">,&nbsp;masked_accuracy])</span></span><br><span><span></span></span><br><span><span class="mtk1">early_stopping&nbsp;=&nbsp;EarlyStopping(monitor=</span><span class="mtk21">'val_loss'</span><span class="mtk1">,&nbsp;patience=</span><span class="mtk12">5</span><span class="mtk1">,&nbsp;restore_best_weights=</span><span class="mtk6">True</span><span class="mtk1">)</span></span><br><span><span class="mtk1">checkpoint&nbsp;=&nbsp;ModelCheckpoint(</span><span class="mtk21">'best_model.h5'</span><span class="mtk1">,&nbsp;monitor=</span><span class="mtk21">'val_loss'</span><span class="mtk1">,&nbsp;save_best_only=</span><span class="mtk6">True</span><span class="mtk1">,&nbsp;verbose=</span><span class="mtk12">1</span><span class="mtk1">)</span></span><br><span><span></span></span><br><span><span class="mtk1">history2_fasta&nbsp;=&nbsp;model2_fasta.fit(fasta_train,&nbsp;dss</span><span class="mtk1">p_train,&nbsp;batch_size=batch_size,</span></span><br><span><span class="mtk1">&nbsp;&nbsp;&nbsp;&nbsp;&nbsp;&nbsp;&nbsp;&nbsp;&nbsp;&nbsp;&nbsp;&nbsp;&nbsp;&nbsp;&nbsp;&nbsp;&nbsp;&nbsp;&nbsp;&nbsp;&nbsp;&nbsp;&nbsp;&nbsp;&nbsp;epochs=epochs,&nbsp;validation</span><span class="mtk1">_data=(fasta_val,&nbsp;dssp_val),</span></span><br><span><span class="mtk1">&nbsp;&nbsp;&nbsp;&nbsp;&nbsp;&nbsp;&nbsp;&nbsp;&nbsp;&nbsp;&nbsp;&nbsp;&nbsp;&nbsp;&nbsp;&nbsp;&nbsp;&nbsp;&nbsp;&nbsp;&nbsp;&nbsp;&nbsp;&nbsp;&nbsp;callbacks=[early_stopping</span><span class="mtk1">])</span></span><br></pre><colab-read-only-cell-placeholder style="display: none;"><template shadowrootmode="open"><!----><div><!--?lit$075548653$-->Empieza a programar o a <span tabindex="0" role="button" class="link">crear código</span> con IA.</div></template></colab-read-only-cell-placeholder></pre></div><colab-form class="formview vertical layout flex"><div class="widget-area vertical layout"></div></colab-form></div>
    <div class="output" aria-label="Salida de la celda 35" role="region"><!----> <div class="output-header"> </div>
        <div class="output-content">
          <div class="output-info"><colab-output-info><template shadowrootmode="open"><!----><md-icon-button data-aria-expanded="false" data-aria-haspopup="menu" aria-describedby="button-output-actions-tooltip" data-aria-label="Acciones de salida de las celdas de código" id="button-output-actions" value=""><template shadowrootmode="open" shadowrootdelegatesfocus><!----><button id="button" class="icon-button  standard " aria-label="Acciones de salida de las celdas de código" aria-haspopup="menu" aria-expanded="false">
        <!--?lit$075548653$--><md-focus-ring part="focus-ring" for="button" aria-hidden="true"><template shadowrootmode="open"><!----></template></md-focus-ring>
        <!--?lit$075548653$--><md-ripple aria-hidden="true"><template shadowrootmode="open"><!----><div class="surface   "></div></template></md-ripple>
        <!--?lit$075548653$--><span class="icon"><slot></slot></span>
        <!--?lit$075548653$-->
        <!--?lit$075548653$--><span class="touch"></span>
  </button></template>
        <md-icon aria-hidden="true"><template shadowrootmode="open"><!----><slot></slot></template><!--?lit$075548653$--><svg viewBox="0 0 24 24"><!--?lit$075548653$--><path d="m15.9 3.07c-4.32 0.0742-8.64-0.0355-13 0.0568-1.37 0.307-1.74 2.1-1.41 3.26 0.469 0.606 1.86 0.384 1.66-0.525 0.0448-0.329-0.183-0.93 0.354-0.766h13.3v1.53h1.71c0.0709-1.13 0.141-2.62-0.968-3.3-0.511-0.264-1.11-0.252-1.67-0.259zm2.94 6.84v4.87c1.62-1.62 3.24-3.24 4.87-4.87h-4.87zm0 0h-1.71v3.43l1.57 1.57c0.32-1.65 0.0556-3.34 0.135-5zm-1.71 3.43v-3.43h-3.43c1.14 1.14 2.29 2.29 3.43 3.43zm1.4 4.27h-1.71v1.48h-13.6v-1.48h-1.71c-0.0473 1.15-0.16 2.72 1.09 3.29 1.47 0.506 3.02 0.0265 4.53 0.192 3.34-0.0051 6.68 0.0336 10-0.0245 1.49-0.366 1.56-2.22 1.42-3.45zm-10.1-1.12c-0.398-0.483-0.796-0.967-1.19-1.45 0.59-0.683 1.18-1.37 1.77-2.05h-8.67v-2h8.67c-0.59-0.683-1.18-1.37-1.77-2.05 0.398-0.483 0.796-0.967 1.19-1.45 1.28 1.5 2.56 3 3.84 4.5-1.28 1.5-2.56 3-3.84 4.5z"></path></svg></md-icon>
      </md-icon-button>
      <colab-tooltip-trigger aria-hidden="true" id="button-output-actions-tooltip" for="button-output-actions" message="Acciones de salida de las celdas de código"><template shadowrootmode="open"><!----><!--?lit$075548653$--><!----><div><!--?lit$075548653$-->Acciones de salida de las celdas de código</div><!----><!--?--></template></colab-tooltip-trigger></template></colab-output-info></div>
          <div class="output-iframe-container">
            <div class="output-iframe-sizer"> <div><div><colab-static-output-renderer tabindex="0" role="group"><div><div class="stream output_text"><pre>Epoch 1/15
<span style="font-weight: bold;">30/30</span><span> </span><span style="color: var(--ansi-green);">━━━━━━━━━━━━━━━━━━━━</span><span> </span><span style="font-weight: bold;">41s</span><span> 1s/step - accuracy: 0.7593 - loss: 0.6735 - masked_accuracy: 0.4047 - val_accuracy: 0.8648 - val_loss: 0.2799 - val_masked_accuracy: 0.3587
Epoch 2/15
</span><span style="font-weight: bold;">30/30</span><span> </span><span style="color: var(--ansi-green);">━━━━━━━━━━━━━━━━━━━━</span><span> </span><span style="font-weight: bold;">37s</span><span> 1s/step - accuracy: 0.8954 - loss: 0.2218 - masked_accuracy: 0.5332 - val_accuracy: 0.8840 - val_loss: 0.2454 - val_masked_accuracy: 0.4492
Epoch 3/15
</span><span style="font-weight: bold;">30/30</span><span> </span><span style="color: var(--ansi-green);">━━━━━━━━━━━━━━━━━━━━</span><span> </span><span style="font-weight: bold;">50s</span><span> 2s/step - accuracy: 0.9072 - loss: 0.2053 - masked_accuracy: 0.5855 - val_accuracy: 0.8914 - val_loss: 0.2302 - val_masked_accuracy: 0.4841
Epoch 4/15
</span><span style="font-weight: bold;">30/30</span><span> </span><span style="color: var(--ansi-green);">━━━━━━━━━━━━━━━━━━━━</span><span> </span><span style="font-weight: bold;">67s</span><span> 1s/step - accuracy: 0.9111 - loss: 0.1985 - masked_accuracy: 0.6027 - val_accuracy: 0.8970 - val_loss: 0.2221 - val_masked_accuracy: 0.5107
Epoch 5/15
</span><span style="font-weight: bold;">30/30</span><span> </span><span style="color: var(--ansi-green);">━━━━━━━━━━━━━━━━━━━━</span><span> </span><span style="font-weight: bold;">37s</span><span> 1s/step - accuracy: 0.9138 - loss: 0.1931 - masked_accuracy: 0.6149 - val_accuracy: 0.9019 - val_loss: 0.2140 - val_masked_accuracy: 0.5342
Epoch 6/15
</span><span style="font-weight: bold;">30/30</span><span> </span><span style="color: var(--ansi-green);">━━━━━━━━━━━━━━━━━━━━</span><span> </span><span style="font-weight: bold;">37s</span><span> 1s/step - accuracy: 0.9158 - loss: 0.1895 - masked_accuracy: 0.6238 - val_accuracy: 0.9055 - val_loss: 0.2068 - val_masked_accuracy: 0.5513
Epoch 7/15
</span><span style="font-weight: bold;">30/30</span><span> </span><span style="color: var(--ansi-green);">━━━━━━━━━━━━━━━━━━━━</span><span> </span><span style="font-weight: bold;">33s</span><span> 1s/step - accuracy: 0.9177 - loss: 0.1861 - masked_accuracy: 0.6323 - val_accuracy: 0.9096 - val_loss: 0.1997 - val_masked_accuracy: 0.5707
Epoch 8/15
</span><span style="font-weight: bold;">30/30</span><span> </span><span style="color: var(--ansi-green);">━━━━━━━━━━━━━━━━━━━━</span><span> </span><span style="font-weight: bold;">42s</span><span> 1s/step - accuracy: 0.9192 - loss: 0.1835 - masked_accuracy: 0.6388 - val_accuracy: 0.9129 - val_loss: 0.1934 - val_masked_accuracy: 0.5865
Epoch 9/15
</span><span style="font-weight: bold;">30/30</span><span> </span><span style="color: var(--ansi-green);">━━━━━━━━━━━━━━━━━━━━</span><span> </span><span style="font-weight: bold;">43s</span><span> 1s/step - accuracy: 0.9209 - loss: 0.1804 - masked_accuracy: 0.6465 - val_accuracy: 0.9157 - val_loss: 0.1879 - val_masked_accuracy: 0.5999
Epoch 10/15
</span><span style="font-weight: bold;">30/30</span><span> </span><span style="color: var(--ansi-green);">━━━━━━━━━━━━━━━━━━━━</span><span> </span><span style="font-weight: bold;">39s</span><span> 1s/step - accuracy: 0.9222 - loss: 0.1771 - masked_accuracy: 0.6521 - val_accuracy: 0.9176 - val_loss: 0.1836 - val_masked_accuracy: 0.6084
Epoch 11/15
</span><span style="font-weight: bold;">30/30</span><span> </span><span style="color: var(--ansi-green);">━━━━━━━━━━━━━━━━━━━━</span><span> </span><span style="font-weight: bold;">40s</span><span> 1s/step - accuracy: 0.9242 - loss: 0.1738 - masked_accuracy: 0.6612 - val_accuracy: 0.9194 - val_loss: 0.1799 - val_masked_accuracy: 0.6171
Epoch 12/15
</span><span style="font-weight: bold;">30/30</span><span> </span><span style="color: var(--ansi-green);">━━━━━━━━━━━━━━━━━━━━</span><span> </span><span style="font-weight: bold;">42s</span><span> 1s/step - accuracy: 0.9256 - loss: 0.1711 - masked_accuracy: 0.6674 - val_accuracy: 0.9193 - val_loss: 0.1806 - val_masked_accuracy: 0.6165
Epoch 13/15
</span><span style="font-weight: bold;">30/30</span><span> </span><span style="color: var(--ansi-green);">━━━━━━━━━━━━━━━━━━━━</span><span> </span><span style="font-weight: bold;">42s</span><span> 1s/step - accuracy: 0.9268 - loss: 0.1683 - masked_accuracy: 0.6726 - val_accuracy: 0.9183 - val_loss: 0.1835 - val_masked_accuracy: 0.6119
Epoch 14/15
</span><span style="font-weight: bold;">30/30</span><span> </span><span style="color: var(--ansi-green);">━━━━━━━━━━━━━━━━━━━━</span><span> </span><span style="font-weight: bold;">40s</span><span> 1s/step - accuracy: 0.9283 - loss: 0.1651 - masked_accuracy: 0.6795 - val_accuracy: 0.9171 - val_loss: 0.1889 - val_masked_accuracy: 0.6063
Epoch 15/15
</span><span style="font-weight: bold;">30/30</span><span> </span><span style="color: var(--ansi-green);">━━━━━━━━━━━━━━━━━━━━</span><span> </span><span style="font-weight: bold;">41s</span><span> 1s/step - accuracy: 0.9297 - loss: 0.1623 - masked_accuracy: 0.6858 - val_accuracy: 0.9187 - val_loss: 0.1876 - val_masked_accuracy: 0.6141
</span></pre></div></div><div></div></colab-static-output-renderer></div></div></div>
          </div>
        </div></div></div><colab-cell-next-steps><template shadowrootmode="open"><!----></template></colab-cell-next-steps></div></div><div class="add-cell">
      <hr>
    </div></div><div class="cell code code-has-output" id="cell-RAopP9rPYUhm" tabindex="-1" role="region" aria-label="Celda 36: Celda de código; " style=""><div class="agent-focus-label">
      <md-icon aria-hidden="true"><template shadowrootmode="open"><!----><slot></slot></template>spark</md-icon>
      <!--?lit$075548653$-->Gemini
    </div><div class="cell-tag-editor sticky"></div><div class="cell-toolbar sticky"></div><div class="main-content" elevation="0"><div class="cell-contents"><div class="cell-mask"></div><span class="imported-info-area"></span><div class="codecell-input-output">
      <div class="inputarea horizontal layout code">
        <div class="cell-gutter">
          <!-- Bounding range for vertical scrolling of icons -->
          <div class="cell-execution-container">
            <colab-run-button><template shadowrootmode="open"><!----> <div class=" cell-execution stale ">
      <button id="run-button" aria-describedby="run-button-tooltip" aria-label="Ejecutar celda" aria-disabled="false">
        <!--?lit$075548653$--><span class="execution-count"><!--?lit$075548653$-->[ ]</span>
        <span aria-hidden="true" class="cell-execution-indicator"><!--?lit$075548653$-->
<svg xmlns="http://www.w3.org/2000/svg" viewBox="0 0 24 24">
  <!--?lit$075548653$-->
  <mask id="playSymbolMask">
    <rect width="100%" height="100%" fill="white"></rect>
    <polygon points="10,8 17,12 10,16" fill="black"></polygon>
  </mask>
  <circle cx="12" cy="12" r="7.8" mask="url(#playSymbolMask)" id="filledCircle"></circle>
</svg></span>
      </button>
      <!--?lit$075548653$--><colab-tooltip-trigger for="run-button" id="run-button-tooltip" aria-hidden="true" message="Ejecutar celda (Ctrl+Enter)
la celda no se ha ejecutado en esta sesión

ejecutada por Javier Hidalgo
miércoles, 19 de marzo de 2025
se ha ejecutado en 0.509 s"><template shadowrootmode="open"><!----><!--?lit$075548653$--><!----><div><!--?lit$075548653$-->Ejecutar celda (Ctrl+Enter)</div><!----><!----><div><!--?lit$075548653$-->la celda no se ha ejecutado en esta sesión</div><!----><!----><br><!----><!----><div><!--?lit$075548653$-->ejecutada por Javier Hidalgo</div><!----><!----><div><!--?lit$075548653$-->miércoles, 19 de marzo de 2025</div><!----><!----><div><!--?lit$075548653$-->se ha ejecutado en 0.509&nbsp;s</div><!----><!--?--></template>
    </colab-tooltip-trigger>
      <!--?lit$075548653$--><!--?-->
    </div></template></colab-run-button>
          </div>
        </div>
      <div class="editor flex lazy-editor" style=""><pre class="lazy-virtualized" style="font-size: 14px; line-height: 19px;"><pre class="lazy-gutter"></pre><pre class="monaco-colorized colab colab" data-lang="notebook-python"><span><span class="mtk1">plot_history(history2_fasta,&nbsp;suptitle=</span><span class="mtk21">'Model&nbsp;2:&nbsp;Conv1D&nbsp;+&nbsp;Bidirectional&nbsp;layer&nbsp;+&nbsp;FASTA&nbsp;dat</span><span class="mtk21">a'</span><span class="mtk1">)</span></span><br></pre><colab-read-only-cell-placeholder style="display: none;"><template shadowrootmode="open"><!----><div><!--?lit$075548653$-->Empieza a programar o a <span tabindex="0" role="button" class="link">crear código</span> con IA.</div></template></colab-read-only-cell-placeholder></pre></div><colab-form class="formview vertical layout flex"><div class="widget-area vertical layout"></div></colab-form></div>
    <div class="output" aria-label="Salida de la celda 36" role="region"><!----> <div class="output-header"> </div>
        <div class="output-content">
          <div class="output-info"><colab-output-info><template shadowrootmode="open"><!----><md-icon-button data-aria-expanded="false" data-aria-haspopup="menu" aria-describedby="button-output-actions-tooltip" data-aria-label="Acciones de salida de las celdas de código" id="button-output-actions" value=""><template shadowrootmode="open" shadowrootdelegatesfocus><!----><button id="button" class="icon-button  standard " aria-label="Acciones de salida de las celdas de código" aria-haspopup="menu" aria-expanded="false">
        <!--?lit$075548653$--><md-focus-ring part="focus-ring" for="button" aria-hidden="true"><template shadowrootmode="open"><!----></template></md-focus-ring>
        <!--?lit$075548653$--><md-ripple aria-hidden="true"><template shadowrootmode="open"><!----><div class="surface   "></div></template></md-ripple>
        <!--?lit$075548653$--><span class="icon"><slot></slot></span>
        <!--?lit$075548653$-->
        <!--?lit$075548653$--><span class="touch"></span>
  </button></template>
        <md-icon aria-hidden="true"><template shadowrootmode="open"><!----><slot></slot></template><!--?lit$075548653$--><svg viewBox="0 0 24 24"><!--?lit$075548653$--><path d="m15.9 3.07c-4.32 0.0742-8.64-0.0355-13 0.0568-1.37 0.307-1.74 2.1-1.41 3.26 0.469 0.606 1.86 0.384 1.66-0.525 0.0448-0.329-0.183-0.93 0.354-0.766h13.3v1.53h1.71c0.0709-1.13 0.141-2.62-0.968-3.3-0.511-0.264-1.11-0.252-1.67-0.259zm2.94 6.84v4.87c1.62-1.62 3.24-3.24 4.87-4.87h-4.87zm0 0h-1.71v3.43l1.57 1.57c0.32-1.65 0.0556-3.34 0.135-5zm-1.71 3.43v-3.43h-3.43c1.14 1.14 2.29 2.29 3.43 3.43zm1.4 4.27h-1.71v1.48h-13.6v-1.48h-1.71c-0.0473 1.15-0.16 2.72 1.09 3.29 1.47 0.506 3.02 0.0265 4.53 0.192 3.34-0.0051 6.68 0.0336 10-0.0245 1.49-0.366 1.56-2.22 1.42-3.45zm-10.1-1.12c-0.398-0.483-0.796-0.967-1.19-1.45 0.59-0.683 1.18-1.37 1.77-2.05h-8.67v-2h8.67c-0.59-0.683-1.18-1.37-1.77-2.05 0.398-0.483 0.796-0.967 1.19-1.45 1.28 1.5 2.56 3 3.84 4.5-1.28 1.5-2.56 3-3.84 4.5z"></path></svg></md-icon>
      </md-icon-button>
      <colab-tooltip-trigger aria-hidden="true" id="button-output-actions-tooltip" for="button-output-actions" message="Acciones de salida de las celdas de código"><template shadowrootmode="open"><!----><!--?lit$075548653$--><!----><div><!--?lit$075548653$-->Acciones de salida de las celdas de código</div><!----><!--?--></template></colab-tooltip-trigger></template></colab-output-info></div>
          <div class="output-iframe-container">
            <div class="output-iframe-sizer"> <div style="height: 498px;"><div class="outputview" style="height: 305px;"><colab-dom-lifecycle-events style="display: none;"></colab-dom-lifecycle-events><iframe allow="" sandbox="allow-downloads allow-forms allow-pointer-lock allow-popups allow-popups-to-escape-sandbox allow-same-origin allow-scripts allow-storage-access-by-user-activation" src="./SSP_files/outputframe(11).html" class="" style="height: 305px;"></iframe></div></div></div>
          </div>
        </div></div></div><colab-cell-next-steps><template shadowrootmode="open"><!----></template></colab-cell-next-steps></div></div><div class="add-cell">
      <hr>
    </div></div><div class="cell code code-has-output" id="cell-2tmMaefzYesN" tabindex="-1" role="region" aria-label="Celda 37: Celda de código; " style=""><div class="agent-focus-label">
      <md-icon aria-hidden="true"><template shadowrootmode="open"><!----><slot></slot></template>spark</md-icon>
      <!--?lit$075548653$-->Gemini
    </div><div class="cell-tag-editor sticky"></div><div class="cell-toolbar sticky"></div><div class="main-content" elevation="0"><div class="cell-contents"><div class="cell-mask"></div><span class="imported-info-area"></span><div class="codecell-input-output">
      <div class="inputarea horizontal layout code">
        <div class="cell-gutter">
          <!-- Bounding range for vertical scrolling of icons -->
          <div class="cell-execution-container">
            <colab-run-button><template shadowrootmode="open"><!----> <div class=" cell-execution stale ">
      <button id="run-button" aria-describedby="run-button-tooltip" aria-label="Ejecutar celda" aria-disabled="false">
        <!--?lit$075548653$--><span class="execution-count"><!--?lit$075548653$-->[ ]</span>
        <span aria-hidden="true" class="cell-execution-indicator"><!--?lit$075548653$-->
<svg xmlns="http://www.w3.org/2000/svg" viewBox="0 0 24 24">
  <!--?lit$075548653$-->
  <mask id="playSymbolMask">
    <rect width="100%" height="100%" fill="white"></rect>
    <polygon points="10,8 17,12 10,16" fill="black"></polygon>
  </mask>
  <circle cx="12" cy="12" r="7.8" mask="url(#playSymbolMask)" id="filledCircle"></circle>
</svg></span>
      </button>
      <!--?lit$075548653$--><colab-tooltip-trigger for="run-button" id="run-button-tooltip" aria-hidden="true" message="Ejecutar celda (Ctrl+Enter)
la celda no se ha ejecutado en esta sesión

ejecutada por Javier Hidalgo
miércoles, 19 de marzo de 2025
se ha ejecutado en 1.256 s"><template shadowrootmode="open"><!----><!--?lit$075548653$--><!----><div><!--?lit$075548653$-->Ejecutar celda (Ctrl+Enter)</div><!----><!----><div><!--?lit$075548653$-->la celda no se ha ejecutado en esta sesión</div><!----><!----><br><!----><!----><div><!--?lit$075548653$-->ejecutada por Javier Hidalgo</div><!----><!----><div><!--?lit$075548653$-->miércoles, 19 de marzo de 2025</div><!----><!----><div><!--?lit$075548653$-->se ha ejecutado en 1.256&nbsp;s</div><!----><!--?--></template>
    </colab-tooltip-trigger>
      <!--?lit$075548653$--><!--?-->
    </div></template></colab-run-button>
          </div>
        </div>
      <div class="editor flex lazy-editor" style=""><pre class="lazy-virtualized" style="font-size: 14px; line-height: 19px;"><pre class="lazy-gutter"></pre><pre class="monaco-colorized colab colab" data-lang="notebook-python"><span><span class="mtk1">metrics_fasta_2&nbsp;=&nbsp;get_metrics(model2_fasta,&nbsp;histor</span><span class="mtk1">y2_fasta,&nbsp;fasta_test,&nbsp;dssp_test)</span></span><br></pre><colab-read-only-cell-placeholder style="display: none;"><template shadowrootmode="open"><!----><div><!--?lit$075548653$-->Empieza a programar o a <span tabindex="0" role="button" class="link">crear código</span> con IA.</div></template></colab-read-only-cell-placeholder></pre></div><colab-form class="formview vertical layout flex"><div class="widget-area vertical layout"></div></colab-form></div>
    <div class="output" aria-label="Salida de la celda 37" role="region"><!----> <div class="output-header"> </div>
        <div class="output-content">
          <div class="output-info"><colab-output-info><template shadowrootmode="open"><!----><md-icon-button data-aria-expanded="false" data-aria-haspopup="menu" aria-describedby="button-output-actions-tooltip" data-aria-label="Acciones de salida de las celdas de código" id="button-output-actions" value=""><template shadowrootmode="open" shadowrootdelegatesfocus><!----><button id="button" class="icon-button  standard " aria-label="Acciones de salida de las celdas de código" aria-haspopup="menu" aria-expanded="false">
        <!--?lit$075548653$--><md-focus-ring part="focus-ring" for="button" aria-hidden="true"><template shadowrootmode="open"><!----></template></md-focus-ring>
        <!--?lit$075548653$--><md-ripple aria-hidden="true"><template shadowrootmode="open"><!----><div class="surface   "></div></template></md-ripple>
        <!--?lit$075548653$--><span class="icon"><slot></slot></span>
        <!--?lit$075548653$-->
        <!--?lit$075548653$--><span class="touch"></span>
  </button></template>
        <md-icon aria-hidden="true"><template shadowrootmode="open"><!----><slot></slot></template><!--?lit$075548653$--><svg viewBox="0 0 24 24"><!--?lit$075548653$--><path d="m15.9 3.07c-4.32 0.0742-8.64-0.0355-13 0.0568-1.37 0.307-1.74 2.1-1.41 3.26 0.469 0.606 1.86 0.384 1.66-0.525 0.0448-0.329-0.183-0.93 0.354-0.766h13.3v1.53h1.71c0.0709-1.13 0.141-2.62-0.968-3.3-0.511-0.264-1.11-0.252-1.67-0.259zm2.94 6.84v4.87c1.62-1.62 3.24-3.24 4.87-4.87h-4.87zm0 0h-1.71v3.43l1.57 1.57c0.32-1.65 0.0556-3.34 0.135-5zm-1.71 3.43v-3.43h-3.43c1.14 1.14 2.29 2.29 3.43 3.43zm1.4 4.27h-1.71v1.48h-13.6v-1.48h-1.71c-0.0473 1.15-0.16 2.72 1.09 3.29 1.47 0.506 3.02 0.0265 4.53 0.192 3.34-0.0051 6.68 0.0336 10-0.0245 1.49-0.366 1.56-2.22 1.42-3.45zm-10.1-1.12c-0.398-0.483-0.796-0.967-1.19-1.45 0.59-0.683 1.18-1.37 1.77-2.05h-8.67v-2h8.67c-0.59-0.683-1.18-1.37-1.77-2.05 0.398-0.483 0.796-0.967 1.19-1.45 1.28 1.5 2.56 3 3.84 4.5-1.28 1.5-2.56 3-3.84 4.5z"></path></svg></md-icon>
      </md-icon-button>
      <colab-tooltip-trigger aria-hidden="true" id="button-output-actions-tooltip" for="button-output-actions" message="Acciones de salida de las celdas de código"><template shadowrootmode="open"><!----><!--?lit$075548653$--><!----><div><!--?lit$075548653$-->Acciones de salida de las celdas de código</div><!----><!--?--></template></colab-tooltip-trigger></template></colab-output-info></div>
          <div class="output-iframe-container">
            <div class="output-iframe-sizer"> <div><div><colab-static-output-renderer tabindex="0" role="group"><div><div class="stream output_text"><pre><span style="font-weight: bold;">4/4</span><span> </span><span style="color: var(--ansi-green);">━━━━━━━━━━━━━━━━━━━━</span><span> </span><span style="font-weight: bold;">1s</span><span> 206ms/step - accuracy: 0.9188 - loss: 0.1846 - masked_accuracy: 0.6329
</span></pre></div></div><div></div></colab-static-output-renderer></div></div></div>
          </div>
        </div></div></div><colab-cell-next-steps><template shadowrootmode="open"><!----></template></colab-cell-next-steps></div></div><div class="add-cell">
      <hr>
    </div></div><div class="cell code code-has-output" id="cell-K4zbcGqCYnV0" tabindex="-1" role="region" aria-label="Celda 38: Celda de código; " style=""><div class="agent-focus-label">
      <md-icon aria-hidden="true"><template shadowrootmode="open"><!----><slot></slot></template>spark</md-icon>
      <!--?lit$075548653$-->Gemini
    </div><div class="cell-tag-editor sticky"></div><div class="cell-toolbar sticky"></div><div class="main-content" elevation="0"><div class="cell-contents"><div class="cell-mask"></div><span class="imported-info-area"></span><div class="codecell-input-output">
      <div class="inputarea horizontal layout code">
        <div class="cell-gutter">
          <!-- Bounding range for vertical scrolling of icons -->
          <div class="cell-execution-container">
            <colab-run-button><template shadowrootmode="open"><!----> <div class=" cell-execution stale ">
      <button id="run-button" aria-describedby="run-button-tooltip" aria-label="Ejecutar celda" aria-disabled="false">
        <!--?lit$075548653$--><span class="execution-count"><!--?lit$075548653$-->[ ]</span>
        <span aria-hidden="true" class="cell-execution-indicator"><!--?lit$075548653$-->
<svg xmlns="http://www.w3.org/2000/svg" viewBox="0 0 24 24">
  <!--?lit$075548653$-->
  <mask id="playSymbolMask">
    <rect width="100%" height="100%" fill="white"></rect>
    <polygon points="10,8 17,12 10,16" fill="black"></polygon>
  </mask>
  <circle cx="12" cy="12" r="7.8" mask="url(#playSymbolMask)" id="filledCircle"></circle>
</svg></span>
      </button>
      <!--?lit$075548653$--><colab-tooltip-trigger for="run-button" id="run-button-tooltip" aria-hidden="true" message="Ejecutar celda (Ctrl+Enter)
la celda no se ha ejecutado en esta sesión

ejecutada por Javier Hidalgo
miércoles, 19 de marzo de 2025
se ha ejecutado en 2.824 s"><template shadowrootmode="open"><!----><!--?lit$075548653$--><!----><div><!--?lit$075548653$-->Ejecutar celda (Ctrl+Enter)</div><!----><!----><div><!--?lit$075548653$-->la celda no se ha ejecutado en esta sesión</div><!----><!----><br><!----><!----><div><!--?lit$075548653$-->ejecutada por Javier Hidalgo</div><!----><!----><div><!--?lit$075548653$-->miércoles, 19 de marzo de 2025</div><!----><!----><div><!--?lit$075548653$-->se ha ejecutado en 2.824&nbsp;s</div><!----><!--?--></template>
    </colab-tooltip-trigger>
      <!--?lit$075548653$--><!--?-->
    </div></template></colab-run-button>
          </div>
        </div>
      <div class="editor flex lazy-editor" style=""><pre class="lazy-virtualized" style="font-size: 14px; line-height: 19px;"><pre class="lazy-gutter"></pre><pre class="monaco-colorized colab colab" data-lang="notebook-python"><span><span class="mtk1">cm_metrics_fasta2=&nbsp;plot_confusion_matrix(model2_fa</span><span class="mtk1">sta,&nbsp;fasta_test,&nbsp;dssp_test,&nbsp;suptitle=</span><span class="mtk21">'Model&nbsp;2:&nbsp;Conv1D&nbsp;+&nbsp;Bidirectional&nbsp;layer&nbsp;+&nbsp;FASTA&nbsp;dat</span><span class="mtk21">a'</span><span class="mtk1">,&nbsp;color=</span><span class="mtk21">'Blues'</span><span class="mtk1">)</span></span><br></pre><colab-read-only-cell-placeholder style="display: none;"><template shadowrootmode="open"><!----><div><!--?lit$075548653$-->Empieza a programar o a <span tabindex="0" role="button" class="link">crear código</span> con IA.</div></template></colab-read-only-cell-placeholder></pre></div><colab-form class="formview vertical layout flex"><div class="widget-area vertical layout"></div></colab-form></div>
    <div class="output" aria-label="Salida de la celda 38" role="region"><!----> <div class="output-header"> </div>
        <div class="output-content">
          <div class="output-info"><colab-output-info><template shadowrootmode="open"><!----><md-icon-button data-aria-expanded="false" data-aria-haspopup="menu" aria-describedby="button-output-actions-tooltip" data-aria-label="Acciones de salida de las celdas de código" id="button-output-actions" value=""><template shadowrootmode="open" shadowrootdelegatesfocus><!----><button id="button" class="icon-button  standard " aria-label="Acciones de salida de las celdas de código" aria-haspopup="menu" aria-expanded="false">
        <!--?lit$075548653$--><md-focus-ring part="focus-ring" for="button" aria-hidden="true"><template shadowrootmode="open"><!----></template></md-focus-ring>
        <!--?lit$075548653$--><md-ripple aria-hidden="true"><template shadowrootmode="open"><!----><div class="surface   "></div></template></md-ripple>
        <!--?lit$075548653$--><span class="icon"><slot></slot></span>
        <!--?lit$075548653$-->
        <!--?lit$075548653$--><span class="touch"></span>
  </button></template>
        <md-icon aria-hidden="true"><template shadowrootmode="open"><!----><slot></slot></template><!--?lit$075548653$--><svg viewBox="0 0 24 24"><!--?lit$075548653$--><path d="m15.9 3.07c-4.32 0.0742-8.64-0.0355-13 0.0568-1.37 0.307-1.74 2.1-1.41 3.26 0.469 0.606 1.86 0.384 1.66-0.525 0.0448-0.329-0.183-0.93 0.354-0.766h13.3v1.53h1.71c0.0709-1.13 0.141-2.62-0.968-3.3-0.511-0.264-1.11-0.252-1.67-0.259zm2.94 6.84v4.87c1.62-1.62 3.24-3.24 4.87-4.87h-4.87zm0 0h-1.71v3.43l1.57 1.57c0.32-1.65 0.0556-3.34 0.135-5zm-1.71 3.43v-3.43h-3.43c1.14 1.14 2.29 2.29 3.43 3.43zm1.4 4.27h-1.71v1.48h-13.6v-1.48h-1.71c-0.0473 1.15-0.16 2.72 1.09 3.29 1.47 0.506 3.02 0.0265 4.53 0.192 3.34-0.0051 6.68 0.0336 10-0.0245 1.49-0.366 1.56-2.22 1.42-3.45zm-10.1-1.12c-0.398-0.483-0.796-0.967-1.19-1.45 0.59-0.683 1.18-1.37 1.77-2.05h-8.67v-2h8.67c-0.59-0.683-1.18-1.37-1.77-2.05 0.398-0.483 0.796-0.967 1.19-1.45 1.28 1.5 2.56 3 3.84 4.5-1.28 1.5-2.56 3-3.84 4.5z"></path></svg></md-icon>
      </md-icon-button>
      <colab-tooltip-trigger aria-hidden="true" id="button-output-actions-tooltip" for="button-output-actions" message="Acciones de salida de las celdas de código"><template shadowrootmode="open"><!----><!--?lit$075548653$--><!----><div><!--?lit$075548653$-->Acciones de salida de las celdas de código</div><!----><!--?--></template></colab-tooltip-trigger></template></colab-output-info></div>
          <div class="output-iframe-container">
            <div class="output-iframe-sizer"> <div style="height: 587px;"><div class="outputview" style="height: 587px;"><colab-dom-lifecycle-events style="display: none;"></colab-dom-lifecycle-events><iframe allow="" sandbox="allow-downloads allow-forms allow-pointer-lock allow-popups allow-popups-to-escape-sandbox allow-same-origin allow-scripts allow-storage-access-by-user-activation" src="./SSP_files/outputframe(12).html" class="" style="height: 587px;"></iframe></div></div></div>
          </div>
        </div></div></div><colab-cell-next-steps><template shadowrootmode="open"><!----></template></colab-cell-next-steps></div></div><div class="add-cell">
      <hr>
    </div></div><div class="cell text" id="cell-WZlstnwlA4tZ" tabindex="-1" role="region" aria-label="Celda 39: Celda de texto; Model comparisons" style=""><div class="agent-focus-label">
      <md-icon aria-hidden="true"><template shadowrootmode="open"><!----><slot></slot></template>spark</md-icon>
      <!--?lit$075548653$-->Gemini
    </div><div class="cell-tag-editor sticky"></div><div class="cell-toolbar sticky"></div><div class="main-content" elevation="0"><div class="cell-contents"><div class="cell-mask"></div><span class="imported-info-area"></span><!----> <div class="toolbar-root"></div>
      <div class="editor-container horizontal">
        <div class="editor-root"></div>
        <div class="text-top-div">
          <div class="markdown"><span><div class="text-cell-section-header layout horizontal center"><md-icon-button class="header-section-toggle" title="Ocultar 3 celdas secundarias de Model comparisons (pulsa &lt;Mayús&gt; para ocultar también las secciones del mismo nivel)" data-aria-label="Ocultar 3 celdas secundarias de Model comparisons (pulsa &lt;Mayús&gt; para ocultar también las secciones del mismo nivel)" value=""><template shadowrootmode="open" shadowrootdelegatesfocus><!----><button id="button" class="icon-button  standard " aria-label="Ocultar 3 celdas secundarias de Model comparisons (pulsa &lt;Mayús&gt; para ocultar también las secciones del mismo nivel)">
        <!--?lit$075548653$--><md-focus-ring part="focus-ring" for="button" aria-hidden="true"><template shadowrootmode="open"><!----></template></md-focus-ring>
        <!--?lit$075548653$--><md-ripple aria-hidden="true"><template shadowrootmode="open"><!----><div class="surface   "></div></template></md-ripple>
        <!--?lit$075548653$--><span class="icon"><slot></slot></span>
        <!--?lit$075548653$-->
        <!--?lit$075548653$--><span class="touch"></span>
  </button></template><md-icon aria-hidden="true"><template shadowrootmode="open"><!----><slot></slot></template>keyboard_arrow_down</md-icon></md-icon-button><h1><strong>Model comparisons</strong></h1></div>
</span></div>
        </div>
      </div>

      <div class="section-header" style="display: none;">
        <colab-run-button><template shadowrootmode="open"><!----> <div class=" cell-execution ">
      <button id="run-button" aria-label="Ejecutar celda" aria-disabled="false">
        <!--?lit$075548653$--><span class="execution-count"><!--?lit$075548653$-->[ ]</span>
        <span aria-hidden="true" class="cell-execution-indicator"><!--?lit$075548653$-->
<svg xmlns="http://www.w3.org/2000/svg" viewBox="0 0 24 24">
  <!--?lit$075548653$-->
  <mask id="playSymbolMask">
    <rect width="100%" height="100%" fill="white"></rect>
    <polygon points="10,8 17,12 10,16" fill="black"></polygon>
  </mask>
  <circle cx="12" cy="12" r="7.8" mask="url(#playSymbolMask)" id="filledCircle"></circle>
</svg></span>
      </button>
      <!--?lit$075548653$-->
      <!--?lit$075548653$--><!--?-->
    </div></template></colab-run-button>
        <div class="section-header-container" title="hacer clic para mostrar">
          <md-icon aria-hidden="true"><template shadowrootmode="open"><!----><slot></slot></template>subdirectory_arrow_right</md-icon>
          <span>3 celdas ocultas</span>
        </div>
      </div></div></div><div class="add-cell">
      <hr>
    </div></div><div class="cell code code-has-output" id="cell-YrPpg2bpA389" tabindex="-1" role="region" aria-label="Celda 40: Celda de código; " style=""><div class="agent-focus-label">
      <md-icon aria-hidden="true"><template shadowrootmode="open"><!----><slot></slot></template>spark</md-icon>
      <!--?lit$075548653$-->Gemini
    </div><div class="cell-tag-editor sticky"></div><div class="cell-toolbar sticky"></div><div class="main-content" elevation="0"><div class="cell-contents"><div class="cell-mask"></div><span class="imported-info-area"></span><div class="codecell-input-output">
      <div class="inputarea horizontal layout code">
        <div class="cell-gutter">
          <!-- Bounding range for vertical scrolling of icons -->
          <div class="cell-execution-container">
            <colab-run-button><template shadowrootmode="open"><!----> <div class=" cell-execution stale ">
      <button id="run-button" aria-describedby="run-button-tooltip" aria-label="Ejecutar celda" aria-disabled="false">
        <!--?lit$075548653$--><span class="execution-count"><!--?lit$075548653$-->[ ]</span>
        <span aria-hidden="true" class="cell-execution-indicator"><!--?lit$075548653$-->
<svg xmlns="http://www.w3.org/2000/svg" viewBox="0 0 24 24">
  <!--?lit$075548653$-->
  <mask id="playSymbolMask">
    <rect width="100%" height="100%" fill="white"></rect>
    <polygon points="10,8 17,12 10,16" fill="black"></polygon>
  </mask>
  <circle cx="12" cy="12" r="7.8" mask="url(#playSymbolMask)" id="filledCircle"></circle>
</svg></span>
      </button>
      <!--?lit$075548653$--><colab-tooltip-trigger for="run-button" id="run-button-tooltip" aria-hidden="true" message="Ejecutar celda (Ctrl+Enter)
la celda no se ha ejecutado en esta sesión

ejecutada por Javier Hidalgo
miércoles, 19 de marzo de 2025
se ha ejecutado en 0.126 s"><template shadowrootmode="open"><!----><!--?lit$075548653$--><!----><div><!--?lit$075548653$-->Ejecutar celda (Ctrl+Enter)</div><!----><!----><div><!--?lit$075548653$-->la celda no se ha ejecutado en esta sesión</div><!----><!----><br><!----><!----><div><!--?lit$075548653$-->ejecutada por Javier Hidalgo</div><!----><!----><div><!--?lit$075548653$-->miércoles, 19 de marzo de 2025</div><!----><!----><div><!--?lit$075548653$-->se ha ejecutado en 0.126&nbsp;s</div><!----><!--?--></template>
    </colab-tooltip-trigger>
      <!--?lit$075548653$--><!--?-->
    </div></template></colab-run-button>
          </div>
        </div>
      <div class="editor flex lazy-editor" style=""><pre class="lazy-virtualized" style="font-size: 14px; line-height: 19px;"><pre class="lazy-gutter"></pre><pre class="monaco-colorized colab colab" data-lang="notebook-python"><span><span class="mtk1">metrics&nbsp;=&nbsp;[metrics_model1,&nbsp;metrics_model2]</span></span><br><span><span class="mtk1">labels&nbsp;=&nbsp;[</span><span class="mtk21">'Model&nbsp;1'</span><span class="mtk1">,&nbsp;</span><span class="mtk21">'Model&nbsp;2'</span><span class="mtk1">]</span></span><br><span><span class="mtk1">plot_model_comparison(metrics,&nbsp;labels,&nbsp;title=&nbsp;</span><span class="mtk21">'Models&nbsp;comparison'</span><span class="mtk1">)</span></span><br></pre><colab-read-only-cell-placeholder style="display: none;"><template shadowrootmode="open"><!----><div><!--?lit$075548653$-->Empieza a programar o a <span tabindex="0" role="button" class="link">crear código</span> con IA.</div></template></colab-read-only-cell-placeholder></pre></div><colab-form class="formview vertical layout flex"><div class="widget-area vertical layout"></div></colab-form></div>
    <div class="output" aria-label="Salida de la celda 40" role="region"><!----> <div class="output-header"> </div>
        <div class="output-content">
          <div class="output-info"><colab-output-info><template shadowrootmode="open"><!----><md-icon-button data-aria-expanded="false" data-aria-haspopup="menu" aria-describedby="button-output-actions-tooltip" data-aria-label="Acciones de salida de las celdas de código" id="button-output-actions" value=""><template shadowrootmode="open" shadowrootdelegatesfocus><!----><button id="button" class="icon-button  standard " aria-label="Acciones de salida de las celdas de código" aria-haspopup="menu" aria-expanded="false">
        <!--?lit$075548653$--><md-focus-ring part="focus-ring" for="button" aria-hidden="true"><template shadowrootmode="open"><!----></template></md-focus-ring>
        <!--?lit$075548653$--><md-ripple aria-hidden="true"><template shadowrootmode="open"><!----><div class="surface   "></div></template></md-ripple>
        <!--?lit$075548653$--><span class="icon"><slot></slot></span>
        <!--?lit$075548653$-->
        <!--?lit$075548653$--><span class="touch"></span>
  </button></template>
        <md-icon aria-hidden="true"><template shadowrootmode="open"><!----><slot></slot></template><!--?lit$075548653$--><svg viewBox="0 0 24 24"><!--?lit$075548653$--><path d="m15.9 3.07c-4.32 0.0742-8.64-0.0355-13 0.0568-1.37 0.307-1.74 2.1-1.41 3.26 0.469 0.606 1.86 0.384 1.66-0.525 0.0448-0.329-0.183-0.93 0.354-0.766h13.3v1.53h1.71c0.0709-1.13 0.141-2.62-0.968-3.3-0.511-0.264-1.11-0.252-1.67-0.259zm2.94 6.84v4.87c1.62-1.62 3.24-3.24 4.87-4.87h-4.87zm0 0h-1.71v3.43l1.57 1.57c0.32-1.65 0.0556-3.34 0.135-5zm-1.71 3.43v-3.43h-3.43c1.14 1.14 2.29 2.29 3.43 3.43zm1.4 4.27h-1.71v1.48h-13.6v-1.48h-1.71c-0.0473 1.15-0.16 2.72 1.09 3.29 1.47 0.506 3.02 0.0265 4.53 0.192 3.34-0.0051 6.68 0.0336 10-0.0245 1.49-0.366 1.56-2.22 1.42-3.45zm-10.1-1.12c-0.398-0.483-0.796-0.967-1.19-1.45 0.59-0.683 1.18-1.37 1.77-2.05h-8.67v-2h8.67c-0.59-0.683-1.18-1.37-1.77-2.05 0.398-0.483 0.796-0.967 1.19-1.45 1.28 1.5 2.56 3 3.84 4.5-1.28 1.5-2.56 3-3.84 4.5z"></path></svg></md-icon>
      </md-icon-button>
      <colab-tooltip-trigger aria-hidden="true" id="button-output-actions-tooltip" for="button-output-actions" message="Acciones de salida de las celdas de código"><template shadowrootmode="open"><!----><!--?lit$075548653$--><!----><div><!--?lit$075548653$-->Acciones de salida de las celdas de código</div><!----><!--?--></template></colab-tooltip-trigger></template></colab-output-info></div>
          <div class="output-iframe-container">
            <div class="output-iframe-sizer"> <div style="height: 545px;"><div class="outputview" style="height: 449px;"><colab-dom-lifecycle-events style="display: none;"></colab-dom-lifecycle-events><iframe allow="" sandbox="allow-downloads allow-forms allow-pointer-lock allow-popups allow-popups-to-escape-sandbox allow-same-origin allow-scripts allow-storage-access-by-user-activation" src="./SSP_files/outputframe(13).html" class="" style="height: 449px;"></iframe></div></div></div>
          </div>
        </div></div></div><colab-cell-next-steps><template shadowrootmode="open"><!----></template></colab-cell-next-steps></div></div><div class="add-cell">
      <hr>
    </div></div><div class="cell code code-has-output" id="cell-2CBzN71UYx9l" tabindex="-1" role="region" aria-label="Celda 41: Celda de código; " style=""><div class="agent-focus-label">
      <md-icon aria-hidden="true"><template shadowrootmode="open"><!----><slot></slot></template>spark</md-icon>
      <!--?lit$075548653$-->Gemini
    </div><div class="cell-tag-editor sticky"></div><div class="cell-toolbar sticky"></div><div class="main-content" elevation="0"><div class="cell-contents"><div class="cell-mask"></div><span class="imported-info-area"></span><div class="codecell-input-output">
      <div class="inputarea horizontal layout code">
        <div class="cell-gutter">
          <!-- Bounding range for vertical scrolling of icons -->
          <div class="cell-execution-container">
            <colab-run-button><template shadowrootmode="open"><!----> <div class=" cell-execution stale ">
      <button id="run-button" aria-describedby="run-button-tooltip" aria-label="Ejecutar celda" aria-disabled="false">
        <!--?lit$075548653$--><span class="execution-count"><!--?lit$075548653$-->[ ]</span>
        <span aria-hidden="true" class="cell-execution-indicator"><!--?lit$075548653$-->
<svg xmlns="http://www.w3.org/2000/svg" viewBox="0 0 24 24">
  <!--?lit$075548653$-->
  <mask id="playSymbolMask">
    <rect width="100%" height="100%" fill="white"></rect>
    <polygon points="10,8 17,12 10,16" fill="black"></polygon>
  </mask>
  <circle cx="12" cy="12" r="7.8" mask="url(#playSymbolMask)" id="filledCircle"></circle>
</svg></span>
      </button>
      <!--?lit$075548653$--><colab-tooltip-trigger for="run-button" id="run-button-tooltip" aria-hidden="true" message="Ejecutar celda (Ctrl+Enter)
la celda no se ha ejecutado en esta sesión

ejecutada por Javier Hidalgo
miércoles, 19 de marzo de 2025
se ha ejecutado en 0.219 s"><template shadowrootmode="open"><!----><!--?lit$075548653$--><!----><div><!--?lit$075548653$-->Ejecutar celda (Ctrl+Enter)</div><!----><!----><div><!--?lit$075548653$-->la celda no se ha ejecutado en esta sesión</div><!----><!----><br><!----><!----><div><!--?lit$075548653$-->ejecutada por Javier Hidalgo</div><!----><!----><div><!--?lit$075548653$-->miércoles, 19 de marzo de 2025</div><!----><!----><div><!--?lit$075548653$-->se ha ejecutado en 0.219&nbsp;s</div><!----><!--?--></template>
    </colab-tooltip-trigger>
      <!--?lit$075548653$--><!--?-->
    </div></template></colab-run-button>
          </div>
        </div>
      <div class="editor flex lazy-editor" style=""><pre class="lazy-virtualized" style="font-size: 14px; line-height: 19px;"><pre class="lazy-gutter"></pre><pre class="monaco-colorized colab colab" data-lang="notebook-python"><span><span class="mtk1">metrics_fasta&nbsp;=&nbsp;[metrics_model1,&nbsp;metrics_model2,&nbsp;m</span><span class="mtk1">etrics_fasta_1,&nbsp;metrics_fasta_2]</span></span><br><span><span class="mtk1">labels&nbsp;=&nbsp;[</span><span class="mtk21">'Model&nbsp;1&nbsp;PSSM'</span><span class="mtk1">,&nbsp;</span><span class="mtk21">'Model&nbsp;2&nbsp;PSSM'</span><span class="mtk1">,&nbsp;</span><span class="mtk21">'Model&nbsp;1&nbsp;FASTA'</span><span class="mtk1">,&nbsp;</span><span class="mtk21">'Model&nbsp;2&nbsp;FASTA'</span><span class="mtk1">]</span></span><br><span><span class="mtk1">plot_model_comparison(metrics_fasta,&nbsp;labels,&nbsp;title</span><span class="mtk1">=&nbsp;</span><span class="mtk21">'Models&nbsp;comparison&nbsp;with&nbsp;FASTA&nbsp;data'</span><span class="mtk1">)</span></span><br></pre><colab-read-only-cell-placeholder style="display: none;"><template shadowrootmode="open"><!----><div><!--?lit$075548653$-->Empieza a programar o a <span tabindex="0" role="button" class="link">crear código</span> con IA.</div></template></colab-read-only-cell-placeholder></pre></div><colab-form class="formview vertical layout flex"><div class="widget-area vertical layout"></div></colab-form></div>
    <div class="output" aria-label="Salida de la celda 41" role="region"><!----> <div class="output-header"> </div>
        <div class="output-content">
          <div class="output-info"><colab-output-info><template shadowrootmode="open"><!----><md-icon-button data-aria-expanded="false" data-aria-haspopup="menu" aria-describedby="button-output-actions-tooltip" data-aria-label="Acciones de salida de las celdas de código" id="button-output-actions" value=""><template shadowrootmode="open" shadowrootdelegatesfocus><!----><button id="button" class="icon-button  standard " aria-label="Acciones de salida de las celdas de código" aria-haspopup="menu" aria-expanded="false">
        <!--?lit$075548653$--><md-focus-ring part="focus-ring" for="button" aria-hidden="true"><template shadowrootmode="open"><!----></template></md-focus-ring>
        <!--?lit$075548653$--><md-ripple aria-hidden="true"><template shadowrootmode="open"><!----><div class="surface   "></div></template></md-ripple>
        <!--?lit$075548653$--><span class="icon"><slot></slot></span>
        <!--?lit$075548653$-->
        <!--?lit$075548653$--><span class="touch"></span>
  </button></template>
        <md-icon aria-hidden="true"><template shadowrootmode="open"><!----><slot></slot></template><!--?lit$075548653$--><svg viewBox="0 0 24 24"><!--?lit$075548653$--><path d="m15.9 3.07c-4.32 0.0742-8.64-0.0355-13 0.0568-1.37 0.307-1.74 2.1-1.41 3.26 0.469 0.606 1.86 0.384 1.66-0.525 0.0448-0.329-0.183-0.93 0.354-0.766h13.3v1.53h1.71c0.0709-1.13 0.141-2.62-0.968-3.3-0.511-0.264-1.11-0.252-1.67-0.259zm2.94 6.84v4.87c1.62-1.62 3.24-3.24 4.87-4.87h-4.87zm0 0h-1.71v3.43l1.57 1.57c0.32-1.65 0.0556-3.34 0.135-5zm-1.71 3.43v-3.43h-3.43c1.14 1.14 2.29 2.29 3.43 3.43zm1.4 4.27h-1.71v1.48h-13.6v-1.48h-1.71c-0.0473 1.15-0.16 2.72 1.09 3.29 1.47 0.506 3.02 0.0265 4.53 0.192 3.34-0.0051 6.68 0.0336 10-0.0245 1.49-0.366 1.56-2.22 1.42-3.45zm-10.1-1.12c-0.398-0.483-0.796-0.967-1.19-1.45 0.59-0.683 1.18-1.37 1.77-2.05h-8.67v-2h8.67c-0.59-0.683-1.18-1.37-1.77-2.05 0.398-0.483 0.796-0.967 1.19-1.45 1.28 1.5 2.56 3 3.84 4.5-1.28 1.5-2.56 3-3.84 4.5z"></path></svg></md-icon>
      </md-icon-button>
      <colab-tooltip-trigger aria-hidden="true" id="button-output-actions-tooltip" for="button-output-actions" message="Acciones de salida de las celdas de código"><template shadowrootmode="open"><!----><!--?lit$075548653$--><!----><div><!--?lit$075548653$-->Acciones de salida de las celdas de código</div><!----><!--?--></template></colab-tooltip-trigger></template></colab-output-info></div>
          <div class="output-iframe-container">
            <div class="output-iframe-sizer"> <div style="height: 545px;"><div class="outputview" style="height: 449px;"><colab-dom-lifecycle-events style="display: none;"></colab-dom-lifecycle-events><iframe allow="" sandbox="allow-downloads allow-forms allow-pointer-lock allow-popups allow-popups-to-escape-sandbox allow-same-origin allow-scripts allow-storage-access-by-user-activation" src="./SSP_files/outputframe(14).html" class="" style="height: 449px;"></iframe></div></div></div>
          </div>
        </div></div></div><colab-cell-next-steps><template shadowrootmode="open"><!----></template></colab-cell-next-steps></div></div><div class="add-cell">
      <hr>
    </div></div><div class="cell code code-has-output" id="cell-qhs4RmTyupoG" tabindex="-1" role="region" aria-label="Celda 42: Celda de código; " style=""><div class="agent-focus-label">
      <md-icon aria-hidden="true"><template shadowrootmode="open"><!----><slot></slot></template>spark</md-icon>
      <!--?lit$075548653$-->Gemini
    </div><div class="cell-tag-editor sticky"></div><div class="cell-toolbar sticky"></div><div class="main-content" elevation="0"><div class="cell-contents"><div class="cell-mask"></div><span class="imported-info-area"></span><div class="codecell-input-output">
      <div class="inputarea horizontal layout code">
        <div class="cell-gutter">
          <!-- Bounding range for vertical scrolling of icons -->
          <div class="cell-execution-container">
            <colab-run-button><template shadowrootmode="open"><!----> <div class=" cell-execution stale ">
      <button id="run-button" aria-describedby="run-button-tooltip" aria-label="Ejecutar celda" aria-disabled="false">
        <!--?lit$075548653$--><span class="execution-count"><!--?lit$075548653$-->[ ]</span>
        <span aria-hidden="true" class="cell-execution-indicator"><!--?lit$075548653$-->
<svg xmlns="http://www.w3.org/2000/svg" viewBox="0 0 24 24">
  <!--?lit$075548653$-->
  <mask id="playSymbolMask">
    <rect width="100%" height="100%" fill="white"></rect>
    <polygon points="10,8 17,12 10,16" fill="black"></polygon>
  </mask>
  <circle cx="12" cy="12" r="7.8" mask="url(#playSymbolMask)" id="filledCircle"></circle>
</svg></span>
      </button>
      <!--?lit$075548653$--><colab-tooltip-trigger for="run-button" id="run-button-tooltip" aria-hidden="true" message="Ejecutar celda (Ctrl+Enter)
la celda no se ha ejecutado en esta sesión

ejecutada por Javier Hidalgo
miércoles, 19 de marzo de 2025
se ha ejecutado en 0.164 s"><template shadowrootmode="open"><!----><!--?lit$075548653$--><!----><div><!--?lit$075548653$-->Ejecutar celda (Ctrl+Enter)</div><!----><!----><div><!--?lit$075548653$-->la celda no se ha ejecutado en esta sesión</div><!----><!----><br><!----><!----><div><!--?lit$075548653$-->ejecutada por Javier Hidalgo</div><!----><!----><div><!--?lit$075548653$-->miércoles, 19 de marzo de 2025</div><!----><!----><div><!--?lit$075548653$-->se ha ejecutado en 0.164&nbsp;s</div><!----><!--?--></template>
    </colab-tooltip-trigger>
      <!--?lit$075548653$--><!--?-->
    </div></template></colab-run-button>
          </div>
        </div>
      <div class="editor flex lazy-editor" style=""><pre class="lazy-virtualized" style="font-size: 14px; line-height: 19px;"><pre class="lazy-gutter"></pre><pre class="monaco-colorized colab colab" data-lang="notebook-python"><span><span class="mtk1">cm_metrics&nbsp;=&nbsp;[cm_metrics_m1,&nbsp;cm_metrics_m2,&nbsp;cm_met</span><span class="mtk1">rics_fasta1,&nbsp;cm_metrics_fasta2]</span></span><br><span><span class="mtk1">labels&nbsp;=&nbsp;[</span><span class="mtk21">'Model&nbsp;1&nbsp;PSSM'</span><span class="mtk1">,&nbsp;</span><span class="mtk21">'Model&nbsp;2&nbsp;PSSM'</span><span class="mtk1">,&nbsp;</span><span class="mtk21">'Model&nbsp;1&nbsp;FASTA'</span><span class="mtk1">,&nbsp;</span><span class="mtk21">'Model&nbsp;2&nbsp;FASTA'</span><span class="mtk1">]</span></span><br><span><span class="mtk1">plot_model_comparison(cm_metrics,&nbsp;labels,&nbsp;title=&nbsp;</span><span class="mtk21">'Confusion&nbsp;matrices&nbsp;comparison'</span><span class="mtk1">,&nbsp;cm=&nbsp;</span><span class="mtk6">True</span><span class="mtk1">)</span></span><br></pre><colab-read-only-cell-placeholder style="display: none;"><template shadowrootmode="open"><!----><div><!--?lit$075548653$-->Empieza a programar o a <span tabindex="0" role="button" class="link">crear código</span> con IA.</div></template></colab-read-only-cell-placeholder></pre></div><colab-form class="formview vertical layout flex"><div class="widget-area vertical layout"></div></colab-form></div>
    <div class="output" aria-label="Salida de la celda 42" role="region"><!----> <div class="output-header"> </div>
        <div class="output-content">
          <div class="output-info"><colab-output-info><template shadowrootmode="open"><!----><md-icon-button data-aria-expanded="false" data-aria-haspopup="menu" aria-describedby="button-output-actions-tooltip" data-aria-label="Acciones de salida de las celdas de código" id="button-output-actions" value=""><template shadowrootmode="open" shadowrootdelegatesfocus><!----><button id="button" class="icon-button  standard " aria-label="Acciones de salida de las celdas de código" aria-haspopup="menu" aria-expanded="false">
        <!--?lit$075548653$--><md-focus-ring part="focus-ring" for="button" aria-hidden="true"><template shadowrootmode="open"><!----></template></md-focus-ring>
        <!--?lit$075548653$--><md-ripple aria-hidden="true"><template shadowrootmode="open"><!----><div class="surface   "></div></template></md-ripple>
        <!--?lit$075548653$--><span class="icon"><slot></slot></span>
        <!--?lit$075548653$-->
        <!--?lit$075548653$--><span class="touch"></span>
  </button></template>
        <md-icon aria-hidden="true"><template shadowrootmode="open"><!----><slot></slot></template><!--?lit$075548653$--><svg viewBox="0 0 24 24"><!--?lit$075548653$--><path d="m15.9 3.07c-4.32 0.0742-8.64-0.0355-13 0.0568-1.37 0.307-1.74 2.1-1.41 3.26 0.469 0.606 1.86 0.384 1.66-0.525 0.0448-0.329-0.183-0.93 0.354-0.766h13.3v1.53h1.71c0.0709-1.13 0.141-2.62-0.968-3.3-0.511-0.264-1.11-0.252-1.67-0.259zm2.94 6.84v4.87c1.62-1.62 3.24-3.24 4.87-4.87h-4.87zm0 0h-1.71v3.43l1.57 1.57c0.32-1.65 0.0556-3.34 0.135-5zm-1.71 3.43v-3.43h-3.43c1.14 1.14 2.29 2.29 3.43 3.43zm1.4 4.27h-1.71v1.48h-13.6v-1.48h-1.71c-0.0473 1.15-0.16 2.72 1.09 3.29 1.47 0.506 3.02 0.0265 4.53 0.192 3.34-0.0051 6.68 0.0336 10-0.0245 1.49-0.366 1.56-2.22 1.42-3.45zm-10.1-1.12c-0.398-0.483-0.796-0.967-1.19-1.45 0.59-0.683 1.18-1.37 1.77-2.05h-8.67v-2h8.67c-0.59-0.683-1.18-1.37-1.77-2.05 0.398-0.483 0.796-0.967 1.19-1.45 1.28 1.5 2.56 3 3.84 4.5-1.28 1.5-2.56 3-3.84 4.5z"></path></svg></md-icon>
      </md-icon-button>
      <colab-tooltip-trigger aria-hidden="true" id="button-output-actions-tooltip" for="button-output-actions" message="Acciones de salida de las celdas de código"><template shadowrootmode="open"><!----><!--?lit$075548653$--><!----><div><!--?lit$075548653$-->Acciones de salida de las celdas de código</div><!----><!--?--></template></colab-tooltip-trigger></template></colab-output-info></div>
          <div class="output-iframe-container">
            <div class="output-iframe-sizer"> <div style="height: 545px;"><div class="outputview" style="height: 449px;"><colab-dom-lifecycle-events style="display: none;"></colab-dom-lifecycle-events><iframe allow="" sandbox="allow-downloads allow-forms allow-pointer-lock allow-popups allow-popups-to-escape-sandbox allow-same-origin allow-scripts allow-storage-access-by-user-activation" src="./SSP_files/outputframe(15).html" class="" style="height: 449px;"></iframe></div></div></div>
          </div>
        </div></div></div><colab-cell-next-steps><template shadowrootmode="open"><!----></template></colab-cell-next-steps></div></div><div class="add-cell">
      <hr>
    </div></div><div class="cell text" id="cell-c1dQd940aV49" tabindex="-1" role="region" aria-label="Celda 43: Celda de texto; Ablation studies" style=""><div class="agent-focus-label">
      <md-icon aria-hidden="true"><template shadowrootmode="open"><!----><slot></slot></template>spark</md-icon>
      <!--?lit$075548653$-->Gemini
    </div><div class="cell-tag-editor sticky"></div><div class="cell-toolbar sticky"></div><div class="main-content" elevation="0"><div class="cell-contents"><div class="cell-mask"></div><span class="imported-info-area"></span><!----> <div class="toolbar-root"></div>
      <div class="editor-container horizontal">
        <div class="editor-root"></div>
        <div class="text-top-div">
          <div class="markdown"><span><div class="text-cell-section-header layout horizontal center"><md-icon-button class="header-section-toggle" title="Ocultar 1 celda secundaria de Ablation studies (pulsa &lt;Mayús&gt; para ocultar también las secciones del mismo nivel)" data-aria-label="Ocultar 1 celda secundaria de Ablation studies (pulsa &lt;Mayús&gt; para ocultar también las secciones del mismo nivel)" value=""><template shadowrootmode="open" shadowrootdelegatesfocus><!----><button id="button" class="icon-button  standard " aria-label="Ocultar 1 celda secundaria de Ablation studies (pulsa &lt;Mayús&gt; para ocultar también las secciones del mismo nivel)">
        <!--?lit$075548653$--><md-focus-ring part="focus-ring" for="button" aria-hidden="true"><template shadowrootmode="open"><!----></template></md-focus-ring>
        <!--?lit$075548653$--><md-ripple aria-hidden="true"><template shadowrootmode="open"><!----><div class="surface   "></div></template></md-ripple>
        <!--?lit$075548653$--><span class="icon"><slot></slot></span>
        <!--?lit$075548653$-->
        <!--?lit$075548653$--><span class="touch"></span>
  </button></template><md-icon aria-hidden="true"><template shadowrootmode="open"><!----><slot></slot></template>keyboard_arrow_down</md-icon></md-icon-button><h1><strong>Ablation studies</strong></h1></div>
</span></div>
        </div>
      </div>

      <div class="section-header" style="display: none;">
        <colab-run-button><template shadowrootmode="open"><!----> <div class=" cell-execution ">
      <button id="run-button" aria-label="Ejecutar celda" aria-disabled="false">
        <!--?lit$075548653$--><span class="execution-count"><!--?lit$075548653$-->[ ]</span>
        <span aria-hidden="true" class="cell-execution-indicator"><!--?lit$075548653$-->
<svg xmlns="http://www.w3.org/2000/svg" viewBox="0 0 24 24">
  <!--?lit$075548653$-->
  <mask id="playSymbolMask">
    <rect width="100%" height="100%" fill="white"></rect>
    <polygon points="10,8 17,12 10,16" fill="black"></polygon>
  </mask>
  <circle cx="12" cy="12" r="7.8" mask="url(#playSymbolMask)" id="filledCircle"></circle>
</svg></span>
      </button>
      <!--?lit$075548653$-->
      <!--?lit$075548653$--><!--?-->
    </div></template></colab-run-button>
        <div class="section-header-container" title="hacer clic para mostrar">
          <md-icon aria-hidden="true"><template shadowrootmode="open"><!----><slot></slot></template>subdirectory_arrow_right</md-icon>
          <span>1 celda oculta</span>
        </div>
      </div></div></div><div class="add-cell">
      <hr>
    </div></div><div class="cell text" id="cell-xtV30EHkEg6-" tabindex="-1" role="region" aria-label="Celda 44: Celda de texto; " style=""><div class="agent-focus-label">
      <md-icon aria-hidden="true"><template shadowrootmode="open"><!----><slot></slot></template>spark</md-icon>
      <!--?lit$075548653$-->Gemini
    </div><div class="cell-tag-editor sticky"></div><div class="cell-toolbar sticky"></div><div class="main-content" elevation="0"><div class="cell-contents"><div class="cell-mask"></div><span class="imported-info-area"></span><!----> <div class="toolbar-root"></div>
      <div class="editor-container horizontal">
        <div class="editor-root"></div>
        <div class="text-top-div">
          <div class="markdown"><span><p>Given the similarity in performance between models, I chose the second one to perform the ablations as it computationally less expensive.</p>
</span></div>
        </div>
      </div>

      <div class="section-header" style="display: none;">
        <colab-run-button><template shadowrootmode="open"><!----> <div class=" cell-execution ">
      <button id="run-button" aria-label="Ejecutar celda" aria-disabled="false">
        <!--?lit$075548653$--><span class="execution-count"><!--?lit$075548653$-->[ ]</span>
        <span aria-hidden="true" class="cell-execution-indicator"><!--?lit$075548653$-->
<svg xmlns="http://www.w3.org/2000/svg" viewBox="0 0 24 24">
  <!--?lit$075548653$-->
  <mask id="playSymbolMask">
    <rect width="100%" height="100%" fill="white"></rect>
    <polygon points="10,8 17,12 10,16" fill="black"></polygon>
  </mask>
  <circle cx="12" cy="12" r="7.8" mask="url(#playSymbolMask)" id="filledCircle"></circle>
</svg></span>
      </button>
      <!--?lit$075548653$-->
      <!--?lit$075548653$--><!--?-->
    </div></template></colab-run-button>
        <div class="section-header-container" title="hacer clic para mostrar">
          <md-icon aria-hidden="true"><template shadowrootmode="open"><!----><slot></slot></template>subdirectory_arrow_right</md-icon>
          <span>0 celdas ocultas</span>
        </div>
      </div></div></div><div class="add-cell">
      <hr>
    </div></div><div class="cell text" id="cell-ttMgH7q2uqt2" tabindex="-1" role="region" aria-label="Celda 45: Celda de texto; Ablation 1: Convolutional layer" style=""><div class="agent-focus-label">
      <md-icon aria-hidden="true"><template shadowrootmode="open"><!----><slot></slot></template>spark</md-icon>
      <!--?lit$075548653$-->Gemini
    </div><div class="cell-tag-editor sticky"></div><div class="cell-toolbar sticky"></div><div class="main-content" elevation="0"><div class="cell-contents"><div class="cell-mask"></div><span class="imported-info-area"></span><!----> <div class="toolbar-root"></div>
      <div class="editor-container horizontal">
        <div class="editor-root"></div>
        <div class="text-top-div">
          <div class="markdown"><span><div class="text-cell-section-header layout horizontal center"><md-icon-button class="header-section-toggle" title="Ocultar 4 celdas secundarias de Ablation 1: Convolutional layer (pulsa &lt;Mayús&gt; para ocultar también las secciones del mismo nivel)" data-aria-label="Ocultar 4 celdas secundarias de Ablation 1: Convolutional layer (pulsa &lt;Mayús&gt; para ocultar también las secciones del mismo nivel)" value=""><template shadowrootmode="open" shadowrootdelegatesfocus><!----><button id="button" class="icon-button  standard " aria-label="Ocultar 4 celdas secundarias de Ablation 1: Convolutional layer (pulsa &lt;Mayús&gt; para ocultar también las secciones del mismo nivel)">
        <!--?lit$075548653$--><md-focus-ring part="focus-ring" for="button" aria-hidden="true"><template shadowrootmode="open"><!----></template></md-focus-ring>
        <!--?lit$075548653$--><md-ripple aria-hidden="true"><template shadowrootmode="open"><!----><div class="surface   "></div></template></md-ripple>
        <!--?lit$075548653$--><span class="icon"><slot></slot></span>
        <!--?lit$075548653$-->
        <!--?lit$075548653$--><span class="touch"></span>
  </button></template><md-icon aria-hidden="true"><template shadowrootmode="open"><!----><slot></slot></template>keyboard_arrow_down</md-icon></md-icon-button><h1>Ablation 1: Convolutional layer</h1></div>
</span></div>
        </div>
      </div>

      <div class="section-header" style="display: none;">
        <colab-run-button><template shadowrootmode="open"><!----> <div class=" cell-execution ">
      <button id="run-button" aria-label="Ejecutar celda" aria-disabled="false">
        <!--?lit$075548653$--><span class="execution-count"><!--?lit$075548653$-->[ ]</span>
        <span aria-hidden="true" class="cell-execution-indicator"><!--?lit$075548653$-->
<svg xmlns="http://www.w3.org/2000/svg" viewBox="0 0 24 24">
  <!--?lit$075548653$-->
  <mask id="playSymbolMask">
    <rect width="100%" height="100%" fill="white"></rect>
    <polygon points="10,8 17,12 10,16" fill="black"></polygon>
  </mask>
  <circle cx="12" cy="12" r="7.8" mask="url(#playSymbolMask)" id="filledCircle"></circle>
</svg></span>
      </button>
      <!--?lit$075548653$-->
      <!--?lit$075548653$--><!--?-->
    </div></template></colab-run-button>
        <div class="section-header-container" title="hacer clic para mostrar">
          <md-icon aria-hidden="true"><template shadowrootmode="open"><!----><slot></slot></template>subdirectory_arrow_right</md-icon>
          <span>4 celdas ocultas</span>
        </div>
      </div></div></div><div class="add-cell">
      <hr>
    </div></div><div class="cell code" id="cell-eLHAeJnZup3f" tabindex="-1" role="region" aria-label="Celda 46: Celda de código; " style=""><div class="agent-focus-label">
      <md-icon aria-hidden="true"><template shadowrootmode="open"><!----><slot></slot></template>spark</md-icon>
      <!--?lit$075548653$-->Gemini
    </div><div class="cell-tag-editor sticky"></div><div class="cell-toolbar sticky"></div><div class="main-content" elevation="0"><div class="cell-contents"><div class="cell-mask"></div><span class="imported-info-area"></span><div class="codecell-input-output">
      <div class="inputarea horizontal layout code">
        <div class="cell-gutter">
          <!-- Bounding range for vertical scrolling of icons -->
          <div class="cell-execution-container">
            <colab-run-button><template shadowrootmode="open"><!----> <div class=" cell-execution stale ">
      <button id="run-button" aria-describedby="run-button-tooltip" aria-label="Ejecutar celda" aria-disabled="false">
        <!--?lit$075548653$--><span class="execution-count"><!--?lit$075548653$-->[ ]</span>
        <span aria-hidden="true" class="cell-execution-indicator"><!--?lit$075548653$-->
<svg xmlns="http://www.w3.org/2000/svg" viewBox="0 0 24 24">
  <!--?lit$075548653$-->
  <mask id="playSymbolMask">
    <rect width="100%" height="100%" fill="white"></rect>
    <polygon points="10,8 17,12 10,16" fill="black"></polygon>
  </mask>
  <circle cx="12" cy="12" r="7.8" mask="url(#playSymbolMask)" id="filledCircle"></circle>
</svg></span>
      </button>
      <!--?lit$075548653$--><colab-tooltip-trigger for="run-button" id="run-button-tooltip" aria-hidden="true" message="Ejecutar celda (Ctrl+Enter)
la celda no se ha ejecutado en esta sesión"><template shadowrootmode="open"><!----><!--?lit$075548653$--><!----><div><!--?lit$075548653$-->Ejecutar celda (Ctrl+Enter)</div><!----><!----><div><!--?lit$075548653$-->la celda no se ha ejecutado en esta sesión</div><!----><!--?--></template>
    </colab-tooltip-trigger>
      <!--?lit$075548653$--><!--?-->
    </div></template></colab-run-button>
          </div>
        </div>
      <div class="editor flex lazy-editor" style=""><pre class="lazy-virtualized" style="font-size: 14px; line-height: 19px;"><pre class="lazy-gutter"></pre><pre class="monaco-colorized colab colab" data-lang="notebook-python"><span><span></span></span><br><span><span class="mtk1">m1&nbsp;=&nbsp;keras.Sequential()</span></span><br><span><span class="mtk8">#&nbsp;m1.add(Conv1D(64,&nbsp;kernel_size=3,&nbsp;activation='rel</span><span class="mtk8">u',&nbsp;padding='same',&nbsp;input_shape=&nbsp;(759,20)))</span></span><br><span><span class="mtk8">#&nbsp;m1.add(BatchNormalization())</span></span><br><span><span class="mtk1">m1.add(Bidirectional(LSTM(</span><span class="mtk12">64</span><span class="mtk1">,&nbsp;return_sequences=</span><span class="mtk6">True</span><span class="mtk1">)))</span></span><br><span><span class="mtk1">m1.add(Dropout(</span><span class="mtk12">0.3</span><span class="mtk1">))</span></span><br><span><span class="mtk1">m1.add(Dense(</span><span class="mtk12">128</span><span class="mtk1">,&nbsp;activation=&nbsp;</span><span class="mtk21">'relu'</span><span class="mtk1">))</span></span><br><span><span class="mtk1">m1.add(Dense(</span><span class="mtk12">4</span><span class="mtk1">,&nbsp;activation=</span><span class="mtk21">'softmax'</span><span class="mtk1">))</span></span><br><span><span class="mtk1">m1.summary()</span></span><br></pre><colab-read-only-cell-placeholder style="display: none;"><template shadowrootmode="open"><!----><div><!--?lit$075548653$-->Empieza a programar o a <span tabindex="0" role="button" class="link">crear código</span> con IA.</div></template></colab-read-only-cell-placeholder></pre></div><colab-form class="formview vertical layout flex"><div class="widget-area vertical layout"></div></colab-form></div>
    <div class="output" aria-label="Salida de la celda 46" role="region"><!----> <div class="output-header"> </div>
        <div class="output-content" hidden="">
          <div class="output-info"> </div>
          <div class="output-iframe-container" hidden="">
            <div class="output-iframe-sizer"> </div>
          </div>
        </div></div></div><colab-cell-next-steps><template shadowrootmode="open"><!----></template></colab-cell-next-steps></div></div><div class="add-cell">
      <hr>
    </div></div><div class="cell code" id="cell-0abfWN7Iu1qd" tabindex="-1" role="region" aria-label="Celda 47: Celda de código; " style=""><div class="agent-focus-label">
      <md-icon aria-hidden="true"><template shadowrootmode="open"><!----><slot></slot></template>spark</md-icon>
      <!--?lit$075548653$-->Gemini
    </div><div class="cell-tag-editor sticky"></div><div class="cell-toolbar sticky"></div><div class="main-content" elevation="0"><div class="cell-contents"><div class="cell-mask"></div><span class="imported-info-area"></span><div class="codecell-input-output">
      <div class="inputarea horizontal layout code">
        <div class="cell-gutter">
          <!-- Bounding range for vertical scrolling of icons -->
          <div class="cell-execution-container">
            <colab-run-button><template shadowrootmode="open"><!----> <div class=" cell-execution stale ">
      <button id="run-button" aria-describedby="run-button-tooltip" aria-label="Ejecutar celda" aria-disabled="false">
        <!--?lit$075548653$--><span class="execution-count"><!--?lit$075548653$-->[ ]</span>
        <span aria-hidden="true" class="cell-execution-indicator"><!--?lit$075548653$-->
<svg xmlns="http://www.w3.org/2000/svg" viewBox="0 0 24 24">
  <!--?lit$075548653$-->
  <mask id="playSymbolMask">
    <rect width="100%" height="100%" fill="white"></rect>
    <polygon points="10,8 17,12 10,16" fill="black"></polygon>
  </mask>
  <circle cx="12" cy="12" r="7.8" mask="url(#playSymbolMask)" id="filledCircle"></circle>
</svg></span>
      </button>
      <!--?lit$075548653$--><colab-tooltip-trigger for="run-button" id="run-button-tooltip" aria-hidden="true" message="Ejecutar celda (Ctrl+Enter)
la celda no se ha ejecutado en esta sesión"><template shadowrootmode="open"><!----><!--?lit$075548653$--><!----><div><!--?lit$075548653$-->Ejecutar celda (Ctrl+Enter)</div><!----><!----><div><!--?lit$075548653$-->la celda no se ha ejecutado en esta sesión</div><!----><!--?--></template>
    </colab-tooltip-trigger>
      <!--?lit$075548653$--><!--?-->
    </div></template></colab-run-button>
          </div>
        </div>
      <div class="editor flex lazy-editor" style=""><pre class="lazy-virtualized" style="font-size: 14px; line-height: 19px;"><pre class="lazy-gutter"></pre><pre class="monaco-colorized colab colab" data-lang="notebook-python"><span><span class="mtk19">from</span><span class="mtk1">&nbsp;keras.callbacks&nbsp;</span><span class="mtk19">import</span><span class="mtk1">&nbsp;EarlyStopping,&nbsp;ModelCheckpoint,&nbsp;ReduceLROnPlateau</span></span><br><span><span></span></span><br><span><span class="mtk1">batch_size&nbsp;=&nbsp;</span><span class="mtk12">32</span></span><br><span><span class="mtk1">epochs&nbsp;=&nbsp;</span><span class="mtk12">15</span></span><br><span><span class="mtk1">m1.</span><span class="mtk15">compile</span><span class="mtk1">(optimizer=</span><span class="mtk21">'adam'</span><span class="mtk1">,&nbsp;loss=</span><span class="mtk21">'categorical_crossentropy'</span><span class="mtk1">,&nbsp;metrics=[</span><span class="mtk21">'accuracy'</span><span class="mtk1">,&nbsp;masked_accuracy])</span></span><br><span><span></span></span><br><span><span class="mtk1">early_stopping&nbsp;=&nbsp;EarlyStopping(monitor=</span><span class="mtk21">'val_loss'</span><span class="mtk1">,&nbsp;patience=</span><span class="mtk12">5</span><span class="mtk1">,&nbsp;restore_best_weights=</span><span class="mtk6">True</span><span class="mtk1">)</span></span><br><span><span class="mtk1">checkpoint&nbsp;=&nbsp;ModelCheckpoint(</span><span class="mtk21">'best_model.h5'</span><span class="mtk1">,&nbsp;monitor=</span><span class="mtk21">'val_loss'</span><span class="mtk1">,&nbsp;save_best_only=</span><span class="mtk6">True</span><span class="mtk1">,&nbsp;verbose=</span><span class="mtk12">1</span><span class="mtk1">)</span></span><br><span><span></span></span><br><span><span class="mtk1">history_1&nbsp;=&nbsp;m1.fit(pssm_train,&nbsp;dssp_train_pssm,&nbsp;ba</span><span class="mtk1">tch_size=batch_size,</span></span><br><span><span class="mtk1">&nbsp;&nbsp;&nbsp;&nbsp;&nbsp;&nbsp;&nbsp;&nbsp;&nbsp;&nbsp;&nbsp;&nbsp;&nbsp;&nbsp;&nbsp;&nbsp;&nbsp;&nbsp;&nbsp;&nbsp;&nbsp;&nbsp;&nbsp;&nbsp;&nbsp;epochs=epochs,&nbsp;validation</span><span class="mtk1">_data=(pssm_val,&nbsp;dssp_val_pssm),</span></span><br><span><span class="mtk1">&nbsp;&nbsp;&nbsp;&nbsp;&nbsp;&nbsp;&nbsp;&nbsp;&nbsp;&nbsp;&nbsp;&nbsp;&nbsp;&nbsp;&nbsp;&nbsp;&nbsp;&nbsp;&nbsp;&nbsp;&nbsp;&nbsp;&nbsp;&nbsp;&nbsp;callbacks=[early_stopping</span><span class="mtk1">])</span></span><br></pre><colab-read-only-cell-placeholder style="display: none;"><template shadowrootmode="open"><!----><div><!--?lit$075548653$-->Empieza a programar o a <span tabindex="0" role="button" class="link">crear código</span> con IA.</div></template></colab-read-only-cell-placeholder></pre></div><colab-form class="formview vertical layout flex"><div class="widget-area vertical layout"></div></colab-form></div>
    <div class="output" aria-label="Salida de la celda 47" role="region"><!----> <div class="output-header"> </div>
        <div class="output-content" hidden="">
          <div class="output-info"> </div>
          <div class="output-iframe-container" hidden="">
            <div class="output-iframe-sizer"> </div>
          </div>
        </div></div></div><colab-cell-next-steps><template shadowrootmode="open"><!----></template></colab-cell-next-steps></div></div><div class="add-cell">
      <hr>
    </div></div><div class="cell code" id="cell-D5S952ZZu8ry" tabindex="-1" role="region" aria-label="Celda 48: Celda de código; " style=""><div class="agent-focus-label">
      <md-icon aria-hidden="true"><template shadowrootmode="open"><!----><slot></slot></template>spark</md-icon>
      <!--?lit$075548653$-->Gemini
    </div><div class="cell-tag-editor sticky"></div><div class="cell-toolbar sticky"></div><div class="main-content" elevation="0"><div class="cell-contents"><div class="cell-mask"></div><span class="imported-info-area"></span><div class="codecell-input-output">
      <div class="inputarea horizontal layout code">
        <div class="cell-gutter">
          <!-- Bounding range for vertical scrolling of icons -->
          <div class="cell-execution-container">
            <colab-run-button><template shadowrootmode="open"><!----> <div class=" cell-execution stale ">
      <button id="run-button" aria-describedby="run-button-tooltip" aria-label="Ejecutar celda" aria-disabled="false">
        <!--?lit$075548653$--><span class="execution-count"><!--?lit$075548653$-->[ ]</span>
        <span aria-hidden="true" class="cell-execution-indicator"><!--?lit$075548653$-->
<svg xmlns="http://www.w3.org/2000/svg" viewBox="0 0 24 24">
  <!--?lit$075548653$-->
  <mask id="playSymbolMask">
    <rect width="100%" height="100%" fill="white"></rect>
    <polygon points="10,8 17,12 10,16" fill="black"></polygon>
  </mask>
  <circle cx="12" cy="12" r="7.8" mask="url(#playSymbolMask)" id="filledCircle"></circle>
</svg></span>
      </button>
      <!--?lit$075548653$--><colab-tooltip-trigger for="run-button" id="run-button-tooltip" aria-hidden="true" message="Ejecutar celda (Ctrl+Enter)
la celda no se ha ejecutado en esta sesión"><template shadowrootmode="open"><!----><!--?lit$075548653$--><!----><div><!--?lit$075548653$-->Ejecutar celda (Ctrl+Enter)</div><!----><!----><div><!--?lit$075548653$-->la celda no se ha ejecutado en esta sesión</div><!----><!--?--></template>
    </colab-tooltip-trigger>
      <!--?lit$075548653$--><!--?-->
    </div></template></colab-run-button>
          </div>
        </div>
      <div class="editor flex lazy-editor" style=""><pre class="lazy-virtualized" style="font-size: 14px; line-height: 19px;"><pre class="lazy-gutter"></pre><pre class="monaco-colorized colab colab" data-lang="notebook-python"><span><span class="mtk1">abl_conv&nbsp;=&nbsp;get_metrics(m1,&nbsp;history_1,&nbsp;pssm_test,&nbsp;d</span><span class="mtk1">ssp_test_pssm)</span></span><br></pre><colab-read-only-cell-placeholder style="display: none;"><template shadowrootmode="open"><!----><div><!--?lit$075548653$-->Empieza a programar o a <span tabindex="0" role="button" class="link">crear código</span> con IA.</div></template></colab-read-only-cell-placeholder></pre></div><colab-form class="formview vertical layout flex"><div class="widget-area vertical layout"></div></colab-form></div>
    <div class="output" aria-label="Salida de la celda 48" role="region"><!----> <div class="output-header"> </div>
        <div class="output-content" hidden="">
          <div class="output-info"> </div>
          <div class="output-iframe-container" hidden="">
            <div class="output-iframe-sizer"> </div>
          </div>
        </div></div></div><colab-cell-next-steps><template shadowrootmode="open"><!----></template></colab-cell-next-steps></div></div><div class="add-cell">
      <hr>
    </div></div><div class="cell code" id="cell-fr7jRw0wu88r" tabindex="-1" role="region" aria-label="Celda 49: Celda de código; " style=""><div class="agent-focus-label">
      <md-icon aria-hidden="true"><template shadowrootmode="open"><!----><slot></slot></template>spark</md-icon>
      <!--?lit$075548653$-->Gemini
    </div><div class="cell-tag-editor sticky"></div><div class="cell-toolbar sticky"></div><div class="main-content" elevation="0"><div class="cell-contents"><div class="cell-mask"></div><span class="imported-info-area"></span><div class="codecell-input-output">
      <div class="inputarea horizontal layout code">
        <div class="cell-gutter">
          <!-- Bounding range for vertical scrolling of icons -->
          <div class="cell-execution-container">
            <colab-run-button><template shadowrootmode="open"><!----> <div class=" cell-execution stale ">
      <button id="run-button" aria-describedby="run-button-tooltip" aria-label="Ejecutar celda" aria-disabled="false">
        <!--?lit$075548653$--><span class="execution-count"><!--?lit$075548653$-->[ ]</span>
        <span aria-hidden="true" class="cell-execution-indicator"><!--?lit$075548653$-->
<svg xmlns="http://www.w3.org/2000/svg" viewBox="0 0 24 24">
  <!--?lit$075548653$-->
  <mask id="playSymbolMask">
    <rect width="100%" height="100%" fill="white"></rect>
    <polygon points="10,8 17,12 10,16" fill="black"></polygon>
  </mask>
  <circle cx="12" cy="12" r="7.8" mask="url(#playSymbolMask)" id="filledCircle"></circle>
</svg></span>
      </button>
      <!--?lit$075548653$--><colab-tooltip-trigger for="run-button" id="run-button-tooltip" aria-hidden="true" message="Ejecutar celda (Ctrl+Enter)
la celda no se ha ejecutado en esta sesión"><template shadowrootmode="open"><!----><!--?lit$075548653$--><!----><div><!--?lit$075548653$-->Ejecutar celda (Ctrl+Enter)</div><!----><!----><div><!--?lit$075548653$-->la celda no se ha ejecutado en esta sesión</div><!----><!--?--></template>
    </colab-tooltip-trigger>
      <!--?lit$075548653$--><!--?-->
    </div></template></colab-run-button>
          </div>
        </div>
      <div class="editor flex lazy-editor" style=""><pre class="lazy-virtualized" style="font-size: 14px; line-height: 19px;"><pre class="lazy-gutter"></pre><pre class="monaco-colorized colab colab" data-lang="notebook-python"><span><span class="mtk1">cm_metrics_abl_con&nbsp;=&nbsp;plot_confusion_matrix(m1,&nbsp;pss</span><span class="mtk1">m_test,&nbsp;dssp_test_pssm,&nbsp;suptitle=</span><span class="mtk21">'Ablation:&nbsp;Convolutional&nbsp;layer'</span><span class="mtk1">,color=&nbsp;</span><span class="mtk21">'Reds'</span><span class="mtk1">)</span></span><br></pre><colab-read-only-cell-placeholder style="display: none;"><template shadowrootmode="open"><!----><div><!--?lit$075548653$-->Empieza a programar o a <span tabindex="0" role="button" class="link">crear código</span> con IA.</div></template></colab-read-only-cell-placeholder></pre></div><colab-form class="formview vertical layout flex"><div class="widget-area vertical layout"></div></colab-form></div>
    <div class="output" aria-label="Salida de la celda 49" role="region"><!----> <div class="output-header"> </div>
        <div class="output-content" hidden="">
          <div class="output-info"> </div>
          <div class="output-iframe-container" hidden="">
            <div class="output-iframe-sizer"> </div>
          </div>
        </div></div></div><colab-cell-next-steps><template shadowrootmode="open"><!----></template></colab-cell-next-steps></div></div><div class="add-cell">
      <hr>
    </div></div><div class="cell text" id="cell-_FTcp9L8nl8G" tabindex="-1" role="region" aria-label="Celda 50: Celda de texto; Ablation 2: Bidirectional layer" style=""><div class="agent-focus-label">
      <md-icon aria-hidden="true"><template shadowrootmode="open"><!----><slot></slot></template>spark</md-icon>
      <!--?lit$075548653$-->Gemini
    </div><div class="cell-tag-editor sticky"></div><div class="cell-toolbar sticky"></div><div class="main-content" elevation="0"><div class="cell-contents"><div class="cell-mask"></div><span class="imported-info-area"></span><!----> <div class="toolbar-root"></div>
      <div class="editor-container horizontal">
        <div class="editor-root"></div>
        <div class="text-top-div">
          <div class="markdown"><span><div class="text-cell-section-header layout horizontal center"><md-icon-button class="header-section-toggle" title="Ocultar 4 celdas secundarias de Ablation 2: Bidirectional layer (pulsa &lt;Mayús&gt; para ocultar también las secciones del mismo nivel)" data-aria-label="Ocultar 4 celdas secundarias de Ablation 2: Bidirectional layer (pulsa &lt;Mayús&gt; para ocultar también las secciones del mismo nivel)" value=""><template shadowrootmode="open" shadowrootdelegatesfocus><!----><button id="button" class="icon-button  standard " aria-label="Ocultar 4 celdas secundarias de Ablation 2: Bidirectional layer (pulsa &lt;Mayús&gt; para ocultar también las secciones del mismo nivel)">
        <!--?lit$075548653$--><md-focus-ring part="focus-ring" for="button" aria-hidden="true"><template shadowrootmode="open"><!----></template></md-focus-ring>
        <!--?lit$075548653$--><md-ripple aria-hidden="true"><template shadowrootmode="open"><!----><div class="surface   "></div></template></md-ripple>
        <!--?lit$075548653$--><span class="icon"><slot></slot></span>
        <!--?lit$075548653$-->
        <!--?lit$075548653$--><span class="touch"></span>
  </button></template><md-icon aria-hidden="true"><template shadowrootmode="open"><!----><slot></slot></template>keyboard_arrow_down</md-icon></md-icon-button><h1>Ablation 2: Bidirectional layer</h1></div>
</span></div>
        </div>
      </div>

      <div class="section-header" style="display: none;">
        <colab-run-button><template shadowrootmode="open"><!----> <div class=" cell-execution ">
      <button id="run-button" aria-label="Ejecutar celda" aria-disabled="false">
        <!--?lit$075548653$--><span class="execution-count"><!--?lit$075548653$-->[ ]</span>
        <span aria-hidden="true" class="cell-execution-indicator"><!--?lit$075548653$-->
<svg xmlns="http://www.w3.org/2000/svg" viewBox="0 0 24 24">
  <!--?lit$075548653$-->
  <mask id="playSymbolMask">
    <rect width="100%" height="100%" fill="white"></rect>
    <polygon points="10,8 17,12 10,16" fill="black"></polygon>
  </mask>
  <circle cx="12" cy="12" r="7.8" mask="url(#playSymbolMask)" id="filledCircle"></circle>
</svg></span>
      </button>
      <!--?lit$075548653$-->
      <!--?lit$075548653$--><!--?-->
    </div></template></colab-run-button>
        <div class="section-header-container" title="hacer clic para mostrar">
          <md-icon aria-hidden="true"><template shadowrootmode="open"><!----><slot></slot></template>subdirectory_arrow_right</md-icon>
          <span>4 celdas ocultas</span>
        </div>
      </div></div></div><div class="add-cell">
      <hr>
    </div></div><div class="cell code code-has-output" id="cell-ZHE6E0cge03Z" tabindex="-1" role="region" aria-label="Celda 51: Celda de código; " style=""><div class="agent-focus-label">
      <md-icon aria-hidden="true"><template shadowrootmode="open"><!----><slot></slot></template>spark</md-icon>
      <!--?lit$075548653$-->Gemini
    </div><div class="cell-tag-editor sticky"></div><div class="cell-toolbar sticky"></div><div class="main-content" elevation="0"><div class="cell-contents"><div class="cell-mask"></div><span class="imported-info-area"></span><div class="codecell-input-output">
      <div class="inputarea horizontal layout code">
        <div class="cell-gutter">
          <!-- Bounding range for vertical scrolling of icons -->
          <div class="cell-execution-container">
            <colab-run-button><template shadowrootmode="open"><!----> <div class=" cell-execution stale ">
      <button id="run-button" aria-describedby="run-button-tooltip" aria-label="Ejecutar celda" aria-disabled="false">
        <!--?lit$075548653$--><span class="execution-count"><!--?lit$075548653$-->[ ]</span>
        <span aria-hidden="true" class="cell-execution-indicator"><!--?lit$075548653$-->
<svg xmlns="http://www.w3.org/2000/svg" viewBox="0 0 24 24">
  <!--?lit$075548653$-->
  <mask id="playSymbolMask">
    <rect width="100%" height="100%" fill="white"></rect>
    <polygon points="10,8 17,12 10,16" fill="black"></polygon>
  </mask>
  <circle cx="12" cy="12" r="7.8" mask="url(#playSymbolMask)" id="filledCircle"></circle>
</svg></span>
      </button>
      <!--?lit$075548653$--><colab-tooltip-trigger for="run-button" id="run-button-tooltip" aria-hidden="true" message="Ejecutar celda (Ctrl+Enter)
la celda no se ha ejecutado en esta sesión

ejecutada por Javier Hidalgo
miércoles, 19 de marzo de 2025
se ha ejecutado en 0.063 s"><template shadowrootmode="open"><!----><!--?lit$075548653$--><!----><div><!--?lit$075548653$-->Ejecutar celda (Ctrl+Enter)</div><!----><!----><div><!--?lit$075548653$-->la celda no se ha ejecutado en esta sesión</div><!----><!----><br><!----><!----><div><!--?lit$075548653$-->ejecutada por Javier Hidalgo</div><!----><!----><div><!--?lit$075548653$-->miércoles, 19 de marzo de 2025</div><!----><!----><div><!--?lit$075548653$-->se ha ejecutado en 0.063&nbsp;s</div><!----><!--?--></template>
    </colab-tooltip-trigger>
      <!--?lit$075548653$--><!--?-->
    </div></template></colab-run-button>
          </div>
        </div>
      <div class="editor flex lazy-editor" style=""><pre class="lazy-virtualized" style="font-size: 14px; line-height: 19px;"><pre class="lazy-gutter"></pre><pre class="monaco-colorized colab colab" data-lang="notebook-python"><span><span class="mtk8">#&nbsp;Ablation&nbsp;of&nbsp;the&nbsp;Biridectional&nbsp;layer</span></span><br><span><span class="mtk1">m2&nbsp;=&nbsp;keras.Sequential()</span></span><br><span><span class="mtk1">m2.add(Conv1D(</span><span class="mtk12">64</span><span class="mtk1">,&nbsp;kernel_size=</span><span class="mtk12">3</span><span class="mtk1">,&nbsp;activation=</span><span class="mtk21">'relu'</span><span class="mtk1">,&nbsp;padding=</span><span class="mtk21">'same'</span><span class="mtk1">,&nbsp;input_shape=&nbsp;(</span><span class="mtk12">759</span><span class="mtk1">,</span><span class="mtk12">20</span><span class="mtk1">)))</span></span><br><span><span class="mtk1">m2.add(BatchNormalization())</span></span><br><span><span class="mtk8">#&nbsp;m.add(Bidirectional(LSTM(64,&nbsp;return_sequences=Tr</span><span class="mtk8">ue)))</span></span><br><span><span class="mtk1">m2.add(Dropout(</span><span class="mtk12">0.3</span><span class="mtk1">))</span></span><br><span><span class="mtk1">m2.add(Dense(</span><span class="mtk12">128</span><span class="mtk1">,&nbsp;activation=&nbsp;</span><span class="mtk21">'relu'</span><span class="mtk1">))</span></span><br><span><span class="mtk1">m2.add(Dense(</span><span class="mtk12">4</span><span class="mtk1">,&nbsp;activation=</span><span class="mtk21">'softmax'</span><span class="mtk1">))</span></span><br><span><span class="mtk1">m2.summary()</span></span><br></pre><colab-read-only-cell-placeholder style="display: none;"><template shadowrootmode="open"><!----><div><!--?lit$075548653$-->Empieza a programar o a <span tabindex="0" role="button" class="link">crear código</span> con IA.</div></template></colab-read-only-cell-placeholder></pre></div><colab-form class="formview vertical layout flex"><div class="widget-area vertical layout"></div></colab-form></div>
    <div class="output" aria-label="Salida de la celda 51" role="region"><!----> <div class="output-header"> </div>
        <div class="output-content">
          <div class="output-info"><colab-output-info><template shadowrootmode="open"><!----><md-icon-button data-aria-expanded="false" data-aria-haspopup="menu" aria-describedby="button-output-actions-tooltip" data-aria-label="Acciones de salida de las celdas de código" id="button-output-actions" value=""><template shadowrootmode="open" shadowrootdelegatesfocus><!----><button id="button" class="icon-button  standard " aria-label="Acciones de salida de las celdas de código" aria-haspopup="menu" aria-expanded="false">
        <!--?lit$075548653$--><md-focus-ring part="focus-ring" for="button" aria-hidden="true"><template shadowrootmode="open"><!----></template></md-focus-ring>
        <!--?lit$075548653$--><md-ripple aria-hidden="true"><template shadowrootmode="open"><!----><div class="surface   "></div></template></md-ripple>
        <!--?lit$075548653$--><span class="icon"><slot></slot></span>
        <!--?lit$075548653$-->
        <!--?lit$075548653$--><span class="touch"></span>
  </button></template>
        <md-icon aria-hidden="true"><template shadowrootmode="open"><!----><slot></slot></template><!--?lit$075548653$--><svg viewBox="0 0 24 24"><!--?lit$075548653$--><path d="m15.9 3.07c-4.32 0.0742-8.64-0.0355-13 0.0568-1.37 0.307-1.74 2.1-1.41 3.26 0.469 0.606 1.86 0.384 1.66-0.525 0.0448-0.329-0.183-0.93 0.354-0.766h13.3v1.53h1.71c0.0709-1.13 0.141-2.62-0.968-3.3-0.511-0.264-1.11-0.252-1.67-0.259zm2.94 6.84v4.87c1.62-1.62 3.24-3.24 4.87-4.87h-4.87zm0 0h-1.71v3.43l1.57 1.57c0.32-1.65 0.0556-3.34 0.135-5zm-1.71 3.43v-3.43h-3.43c1.14 1.14 2.29 2.29 3.43 3.43zm1.4 4.27h-1.71v1.48h-13.6v-1.48h-1.71c-0.0473 1.15-0.16 2.72 1.09 3.29 1.47 0.506 3.02 0.0265 4.53 0.192 3.34-0.0051 6.68 0.0336 10-0.0245 1.49-0.366 1.56-2.22 1.42-3.45zm-10.1-1.12c-0.398-0.483-0.796-0.967-1.19-1.45 0.59-0.683 1.18-1.37 1.77-2.05h-8.67v-2h8.67c-0.59-0.683-1.18-1.37-1.77-2.05 0.398-0.483 0.796-0.967 1.19-1.45 1.28 1.5 2.56 3 3.84 4.5-1.28 1.5-2.56 3-3.84 4.5z"></path></svg></md-icon>
      </md-icon-button>
      <colab-tooltip-trigger aria-hidden="true" id="button-output-actions-tooltip" for="button-output-actions" message="Acciones de salida de las celdas de código"><template shadowrootmode="open"><!----><!--?lit$075548653$--><!----><div><!--?lit$075548653$-->Acciones de salida de las celdas de código</div><!----><!--?--></template></colab-tooltip-trigger></template></colab-output-info></div>
          <div class="output-iframe-container">
            <div class="output-iframe-sizer"> <div><div class="outputview" style="height: 360px;"><colab-dom-lifecycle-events style="display: none;"></colab-dom-lifecycle-events><iframe allow="" sandbox="allow-downloads allow-forms allow-pointer-lock allow-popups allow-popups-to-escape-sandbox allow-same-origin allow-scripts allow-storage-access-by-user-activation" src="./SSP_files/outputframe(16).html" class="" style="height: 360px;"></iframe></div></div></div>
          </div>
        </div></div></div><colab-cell-next-steps><template shadowrootmode="open"><!----></template></colab-cell-next-steps></div></div><div class="add-cell">
      <hr>
    </div></div><div class="cell code code-has-output" id="cell-pe8Z0RW9fBYI" tabindex="-1" role="region" aria-label="Celda 52: Celda de código; " style=""><div class="agent-focus-label">
      <md-icon aria-hidden="true"><template shadowrootmode="open"><!----><slot></slot></template>spark</md-icon>
      <!--?lit$075548653$-->Gemini
    </div><div class="cell-tag-editor sticky"></div><div class="cell-toolbar sticky"></div><div class="main-content" elevation="0"><div class="cell-contents"><div class="cell-mask"></div><span class="imported-info-area"></span><div class="codecell-input-output">
      <div class="inputarea horizontal layout code">
        <div class="cell-gutter">
          <!-- Bounding range for vertical scrolling of icons -->
          <div class="cell-execution-container">
            <colab-run-button><template shadowrootmode="open"><!----> <div class=" cell-execution stale ">
      <button id="run-button" aria-describedby="run-button-tooltip" aria-label="Ejecutar celda" aria-disabled="false">
        <!--?lit$075548653$--><span class="execution-count"><!--?lit$075548653$-->[ ]</span>
        <span aria-hidden="true" class="cell-execution-indicator"><!--?lit$075548653$-->
<svg xmlns="http://www.w3.org/2000/svg" viewBox="0 0 24 24">
  <!--?lit$075548653$-->
  <mask id="playSymbolMask">
    <rect width="100%" height="100%" fill="white"></rect>
    <polygon points="10,8 17,12 10,16" fill="black"></polygon>
  </mask>
  <circle cx="12" cy="12" r="7.8" mask="url(#playSymbolMask)" id="filledCircle"></circle>
</svg></span>
      </button>
      <!--?lit$075548653$--><colab-tooltip-trigger for="run-button" id="run-button-tooltip" aria-hidden="true" message="Ejecutar celda (Ctrl+Enter)
la celda no se ha ejecutado en esta sesión

ejecutada por Javier Hidalgo
miércoles, 19 de marzo de 2025
se ha ejecutado en 62.269 s"><template shadowrootmode="open"><!----><!--?lit$075548653$--><!----><div><!--?lit$075548653$-->Ejecutar celda (Ctrl+Enter)</div><!----><!----><div><!--?lit$075548653$-->la celda no se ha ejecutado en esta sesión</div><!----><!----><br><!----><!----><div><!--?lit$075548653$-->ejecutada por Javier Hidalgo</div><!----><!----><div><!--?lit$075548653$-->miércoles, 19 de marzo de 2025</div><!----><!----><div><!--?lit$075548653$-->se ha ejecutado en 62.269&nbsp;s</div><!----><!--?--></template>
    </colab-tooltip-trigger>
      <!--?lit$075548653$--><!--?-->
    </div></template></colab-run-button>
          </div>
        </div>
      <div class="editor flex lazy-editor" style=""><pre class="lazy-virtualized" style="font-size: 14px; line-height: 19px;"><pre class="lazy-gutter"></pre><pre class="monaco-colorized colab colab" data-lang="notebook-python"><span><span class="mtk19">from</span><span class="mtk1">&nbsp;keras.callbacks&nbsp;</span><span class="mtk19">import</span><span class="mtk1">&nbsp;EarlyStopping,&nbsp;ModelCheckpoint,&nbsp;ReduceLROnPlateau</span></span><br><span><span></span></span><br><span><span class="mtk1">batch_size&nbsp;=&nbsp;</span><span class="mtk12">32</span></span><br><span><span class="mtk1">epochs&nbsp;=&nbsp;</span><span class="mtk12">15</span></span><br><span><span class="mtk1">m2.</span><span class="mtk15">compile</span><span class="mtk1">(optimizer=</span><span class="mtk21">'adam'</span><span class="mtk1">,&nbsp;loss=</span><span class="mtk21">'categorical_crossentropy'</span><span class="mtk1">,&nbsp;metrics=[</span><span class="mtk21">'accuracy'</span><span class="mtk1">,&nbsp;masked_accuracy])</span></span><br><span><span></span></span><br><span><span class="mtk1">early_stopping&nbsp;=&nbsp;EarlyStopping(monitor=</span><span class="mtk21">'val_loss'</span><span class="mtk1">,&nbsp;patience=</span><span class="mtk12">5</span><span class="mtk1">,&nbsp;restore_best_weights=</span><span class="mtk6">True</span><span class="mtk1">)</span></span><br><span><span class="mtk1">checkpoint&nbsp;=&nbsp;ModelCheckpoint(</span><span class="mtk21">'best_model.h5'</span><span class="mtk1">,&nbsp;monitor=</span><span class="mtk21">'val_loss'</span><span class="mtk1">,&nbsp;save_best_only=</span><span class="mtk6">True</span><span class="mtk1">,&nbsp;verbose=</span><span class="mtk12">1</span><span class="mtk1">)</span></span><br><span><span></span></span><br><span><span class="mtk1">history_2&nbsp;=&nbsp;m2.fit(pssm_train,&nbsp;dssp_train_pssm,&nbsp;ba</span><span class="mtk1">tch_size=batch_size,</span></span><br><span><span class="mtk1">&nbsp;&nbsp;&nbsp;&nbsp;&nbsp;&nbsp;&nbsp;&nbsp;&nbsp;&nbsp;&nbsp;&nbsp;&nbsp;&nbsp;&nbsp;&nbsp;&nbsp;&nbsp;&nbsp;&nbsp;&nbsp;&nbsp;&nbsp;&nbsp;&nbsp;epochs=epochs,&nbsp;validation</span><span class="mtk1">_data=(pssm_val,&nbsp;dssp_val_pssm),</span></span><br><span><span class="mtk1">&nbsp;&nbsp;&nbsp;&nbsp;&nbsp;&nbsp;&nbsp;&nbsp;&nbsp;&nbsp;&nbsp;&nbsp;&nbsp;&nbsp;&nbsp;&nbsp;&nbsp;&nbsp;&nbsp;&nbsp;&nbsp;&nbsp;&nbsp;&nbsp;&nbsp;callbacks=[early_stopping</span><span class="mtk1">])</span></span><br></pre><colab-read-only-cell-placeholder style="display: none;"><template shadowrootmode="open"><!----><div><!--?lit$075548653$-->Empieza a programar o a <span tabindex="0" role="button" class="link">crear código</span> con IA.</div></template></colab-read-only-cell-placeholder></pre></div><colab-form class="formview vertical layout flex"><div class="widget-area vertical layout"></div></colab-form></div>
    <div class="output" aria-label="Salida de la celda 52" role="region"><!----> <div class="output-header"> </div>
        <div class="output-content">
          <div class="output-info"><colab-output-info><template shadowrootmode="open"><!----><md-icon-button data-aria-expanded="false" data-aria-haspopup="menu" aria-describedby="button-output-actions-tooltip" data-aria-label="Acciones de salida de las celdas de código" id="button-output-actions" value=""><template shadowrootmode="open" shadowrootdelegatesfocus><!----><button id="button" class="icon-button  standard " aria-label="Acciones de salida de las celdas de código" aria-haspopup="menu" aria-expanded="false">
        <!--?lit$075548653$--><md-focus-ring part="focus-ring" for="button" aria-hidden="true"><template shadowrootmode="open"><!----></template></md-focus-ring>
        <!--?lit$075548653$--><md-ripple aria-hidden="true"><template shadowrootmode="open"><!----><div class="surface   "></div></template></md-ripple>
        <!--?lit$075548653$--><span class="icon"><slot></slot></span>
        <!--?lit$075548653$-->
        <!--?lit$075548653$--><span class="touch"></span>
  </button></template>
        <md-icon aria-hidden="true"><template shadowrootmode="open"><!----><slot></slot></template><!--?lit$075548653$--><svg viewBox="0 0 24 24"><!--?lit$075548653$--><path d="m15.9 3.07c-4.32 0.0742-8.64-0.0355-13 0.0568-1.37 0.307-1.74 2.1-1.41 3.26 0.469 0.606 1.86 0.384 1.66-0.525 0.0448-0.329-0.183-0.93 0.354-0.766h13.3v1.53h1.71c0.0709-1.13 0.141-2.62-0.968-3.3-0.511-0.264-1.11-0.252-1.67-0.259zm2.94 6.84v4.87c1.62-1.62 3.24-3.24 4.87-4.87h-4.87zm0 0h-1.71v3.43l1.57 1.57c0.32-1.65 0.0556-3.34 0.135-5zm-1.71 3.43v-3.43h-3.43c1.14 1.14 2.29 2.29 3.43 3.43zm1.4 4.27h-1.71v1.48h-13.6v-1.48h-1.71c-0.0473 1.15-0.16 2.72 1.09 3.29 1.47 0.506 3.02 0.0265 4.53 0.192 3.34-0.0051 6.68 0.0336 10-0.0245 1.49-0.366 1.56-2.22 1.42-3.45zm-10.1-1.12c-0.398-0.483-0.796-0.967-1.19-1.45 0.59-0.683 1.18-1.37 1.77-2.05h-8.67v-2h8.67c-0.59-0.683-1.18-1.37-1.77-2.05 0.398-0.483 0.796-0.967 1.19-1.45 1.28 1.5 2.56 3 3.84 4.5-1.28 1.5-2.56 3-3.84 4.5z"></path></svg></md-icon>
      </md-icon-button>
      <colab-tooltip-trigger aria-hidden="true" id="button-output-actions-tooltip" for="button-output-actions" message="Acciones de salida de las celdas de código"><template shadowrootmode="open"><!----><!--?lit$075548653$--><!----><div><!--?lit$075548653$-->Acciones de salida de las celdas de código</div><!----><!--?--></template></colab-tooltip-trigger></template></colab-output-info></div>
          <div class="output-iframe-container">
            <div class="output-iframe-sizer"> <div><div><colab-static-output-renderer tabindex="0" role="group"><div><div class="stream output_text"><pre>Epoch 1/15
<span style="font-weight: bold;">30/30</span><span> </span><span style="color: var(--ansi-green);">━━━━━━━━━━━━━━━━━━━━</span><span> </span><span style="font-weight: bold;">6s</span><span> 113ms/step - accuracy: 0.7528 - loss: 1.0809 - masked_accuracy: 0.3279 - val_accuracy: 0.9036 - val_loss: 0.4886 - val_masked_accuracy: 0.5487
Epoch 2/15
</span><span style="font-weight: bold;">30/30</span><span> </span><span style="color: var(--ansi-green);">━━━━━━━━━━━━━━━━━━━━</span><span> </span><span style="font-weight: bold;">4s</span><span> 92ms/step - accuracy: 0.8953 - loss: 0.2513 - masked_accuracy: 0.5376 - val_accuracy: 0.9160 - val_loss: 0.2445 - val_masked_accuracy: 0.6076
Epoch 3/15
</span><span style="font-weight: bold;">30/30</span><span> </span><span style="color: var(--ansi-green);">━━━━━━━━━━━━━━━━━━━━</span><span> </span><span style="font-weight: bold;">3s</span><span> 94ms/step - accuracy: 0.9025 - loss: 0.2225 - masked_accuracy: 0.5694 - val_accuracy: 0.9181 - val_loss: 0.2106 - val_masked_accuracy: 0.6173
Epoch 4/15
</span><span style="font-weight: bold;">30/30</span><span> </span><span style="color: var(--ansi-green);">━━━━━━━━━━━━━━━━━━━━</span><span> </span><span style="font-weight: bold;">4s</span><span> 147ms/step - accuracy: 0.9050 - loss: 0.2157 - masked_accuracy: 0.5800 - val_accuracy: 0.9191 - val_loss: 0.1982 - val_masked_accuracy: 0.6221
Epoch 5/15
</span><span style="font-weight: bold;">30/30</span><span> </span><span style="color: var(--ansi-green);">━━━━━━━━━━━━━━━━━━━━</span><span> </span><span style="font-weight: bold;">4s</span><span> 92ms/step - accuracy: 0.9077 - loss: 0.2101 - masked_accuracy: 0.5919 - val_accuracy: 0.9194 - val_loss: 0.1925 - val_masked_accuracy: 0.6235
Epoch 6/15
</span><span style="font-weight: bold;">30/30</span><span> </span><span style="color: var(--ansi-green);">━━━━━━━━━━━━━━━━━━━━</span><span> </span><span style="font-weight: bold;">3s</span><span> 93ms/step - accuracy: 0.9089 - loss: 0.2065 - masked_accuracy: 0.5965 - val_accuracy: 0.9198 - val_loss: 0.1888 - val_masked_accuracy: 0.6253
Epoch 7/15
</span><span style="font-weight: bold;">30/30</span><span> </span><span style="color: var(--ansi-green);">━━━━━━━━━━━━━━━━━━━━</span><span> </span><span style="font-weight: bold;">3s</span><span> 93ms/step - accuracy: 0.9107 - loss: 0.2036 - masked_accuracy: 0.6036 - val_accuracy: 0.9204 - val_loss: 0.1859 - val_masked_accuracy: 0.6271
Epoch 8/15
</span><span style="font-weight: bold;">30/30</span><span> </span><span style="color: var(--ansi-green);">━━━━━━━━━━━━━━━━━━━━</span><span> </span><span style="font-weight: bold;">5s</span><span> 95ms/step - accuracy: 0.9114 - loss: 0.2012 - masked_accuracy: 0.6061 - val_accuracy: 0.9206 - val_loss: 0.1838 - val_masked_accuracy: 0.6272
Epoch 9/15
</span><span style="font-weight: bold;">30/30</span><span> </span><span style="color: var(--ansi-green);">━━━━━━━━━━━━━━━━━━━━</span><span> </span><span style="font-weight: bold;">3s</span><span> 91ms/step - accuracy: 0.9125 - loss: 0.1992 - masked_accuracy: 0.6108 - val_accuracy: 0.9214 - val_loss: 0.1819 - val_masked_accuracy: 0.6302
Epoch 10/15
</span><span style="font-weight: bold;">30/30</span><span> </span><span style="color: var(--ansi-green);">━━━━━━━━━━━━━━━━━━━━</span><span> </span><span style="font-weight: bold;">5s</span><span> 102ms/step - accuracy: 0.9135 - loss: 0.1977 - masked_accuracy: 0.6147 - val_accuracy: 0.9217 - val_loss: 0.1806 - val_masked_accuracy: 0.6308
Epoch 11/15
</span><span style="font-weight: bold;">30/30</span><span> </span><span style="color: var(--ansi-green);">━━━━━━━━━━━━━━━━━━━━</span><span> </span><span style="font-weight: bold;">4s</span><span> 133ms/step - accuracy: 0.9137 - loss: 0.1965 - masked_accuracy: 0.6150 - val_accuracy: 0.9224 - val_loss: 0.1795 - val_masked_accuracy: 0.6332
Epoch 12/15
</span><span style="font-weight: bold;">30/30</span><span> </span><span style="color: var(--ansi-green);">━━━━━━━━━━━━━━━━━━━━</span><span> </span><span style="font-weight: bold;">3s</span><span> 93ms/step - accuracy: 0.9142 - loss: 0.1952 - masked_accuracy: 0.6169 - val_accuracy: 0.9227 - val_loss: 0.1787 - val_masked_accuracy: 0.6341
Epoch 13/15
</span><span style="font-weight: bold;">30/30</span><span> </span><span style="color: var(--ansi-green);">━━━━━━━━━━━━━━━━━━━━</span><span> </span><span style="font-weight: bold;">3s</span><span> 91ms/step - accuracy: 0.9149 - loss: 0.1946 - masked_accuracy: 0.6197 - val_accuracy: 0.9229 - val_loss: 0.1776 - val_masked_accuracy: 0.6346
Epoch 14/15
</span><span style="font-weight: bold;">30/30</span><span> </span><span style="color: var(--ansi-green);">━━━━━━━━━━━━━━━━━━━━</span><span> </span><span style="font-weight: bold;">6s</span><span> 127ms/step - accuracy: 0.9151 - loss: 0.1936 - masked_accuracy: 0.6202 - val_accuracy: 0.9232 - val_loss: 0.1771 - val_masked_accuracy: 0.6354
Epoch 15/15
</span><span style="font-weight: bold;">30/30</span><span> </span><span style="color: var(--ansi-green);">━━━━━━━━━━━━━━━━━━━━</span><span> </span><span style="font-weight: bold;">4s</span><span> 91ms/step - accuracy: 0.9151 - loss: 0.1930 - masked_accuracy: 0.6203 - val_accuracy: 0.9234 - val_loss: 0.1766 - val_masked_accuracy: 0.6364
</span></pre></div></div><div></div></colab-static-output-renderer></div></div></div>
          </div>
        </div></div></div><colab-cell-next-steps><template shadowrootmode="open"><!----></template></colab-cell-next-steps></div></div><div class="add-cell">
      <hr>
    </div></div><div class="cell code code-has-output" id="cell-dY00YMLlgby2" tabindex="-1" role="region" aria-label="Celda 53: Celda de código; " style=""><div class="agent-focus-label">
      <md-icon aria-hidden="true"><template shadowrootmode="open"><!----><slot></slot></template>spark</md-icon>
      <!--?lit$075548653$-->Gemini
    </div><div class="cell-tag-editor sticky"></div><div class="cell-toolbar sticky"></div><div class="main-content" elevation="0"><div class="cell-contents"><div class="cell-mask"></div><span class="imported-info-area"></span><div class="codecell-input-output">
      <div class="inputarea horizontal layout code">
        <div class="cell-gutter">
          <!-- Bounding range for vertical scrolling of icons -->
          <div class="cell-execution-container">
            <colab-run-button><template shadowrootmode="open"><!----> <div class=" cell-execution stale ">
      <button id="run-button" aria-describedby="run-button-tooltip" aria-label="Ejecutar celda" aria-disabled="false">
        <!--?lit$075548653$--><span class="execution-count"><!--?lit$075548653$-->[ ]</span>
        <span aria-hidden="true" class="cell-execution-indicator"><!--?lit$075548653$-->
<svg xmlns="http://www.w3.org/2000/svg" viewBox="0 0 24 24">
  <!--?lit$075548653$-->
  <mask id="playSymbolMask">
    <rect width="100%" height="100%" fill="white"></rect>
    <polygon points="10,8 17,12 10,16" fill="black"></polygon>
  </mask>
  <circle cx="12" cy="12" r="7.8" mask="url(#playSymbolMask)" id="filledCircle"></circle>
</svg></span>
      </button>
      <!--?lit$075548653$--><colab-tooltip-trigger for="run-button" id="run-button-tooltip" aria-hidden="true" message="Ejecutar celda (Ctrl+Enter)
la celda no se ha ejecutado en esta sesión

ejecutada por Javier Hidalgo
miércoles, 19 de marzo de 2025
se ha ejecutado en 0.356 s"><template shadowrootmode="open"><!----><!--?lit$075548653$--><!----><div><!--?lit$075548653$-->Ejecutar celda (Ctrl+Enter)</div><!----><!----><div><!--?lit$075548653$-->la celda no se ha ejecutado en esta sesión</div><!----><!----><br><!----><!----><div><!--?lit$075548653$-->ejecutada por Javier Hidalgo</div><!----><!----><div><!--?lit$075548653$-->miércoles, 19 de marzo de 2025</div><!----><!----><div><!--?lit$075548653$-->se ha ejecutado en 0.356&nbsp;s</div><!----><!--?--></template>
    </colab-tooltip-trigger>
      <!--?lit$075548653$--><!--?-->
    </div></template></colab-run-button>
          </div>
        </div>
      <div class="editor flex lazy-editor" style=""><pre class="lazy-virtualized" style="font-size: 14px; line-height: 19px;"><pre class="lazy-gutter"></pre><pre class="monaco-colorized colab colab" data-lang="notebook-python"><span><span class="mtk1">abl_bidir&nbsp;=&nbsp;get_metrics(m2,&nbsp;history_2,&nbsp;pssm_test,&nbsp;</span><span class="mtk1">dssp_test_pssm)</span></span><br></pre><colab-read-only-cell-placeholder style="display: none;"><template shadowrootmode="open"><!----><div><!--?lit$075548653$-->Empieza a programar o a <span tabindex="0" role="button" class="link">crear código</span> con IA.</div></template></colab-read-only-cell-placeholder></pre></div><colab-form class="formview vertical layout flex"><div class="widget-area vertical layout"></div></colab-form></div>
    <div class="output" aria-label="Salida de la celda 53" role="region"><!----> <div class="output-header"> </div>
        <div class="output-content">
          <div class="output-info"><colab-output-info><template shadowrootmode="open"><!----><md-icon-button data-aria-expanded="false" data-aria-haspopup="menu" aria-describedby="button-output-actions-tooltip" data-aria-label="Acciones de salida de las celdas de código" id="button-output-actions" value=""><template shadowrootmode="open" shadowrootdelegatesfocus><!----><button id="button" class="icon-button  standard " aria-label="Acciones de salida de las celdas de código" aria-haspopup="menu" aria-expanded="false">
        <!--?lit$075548653$--><md-focus-ring part="focus-ring" for="button" aria-hidden="true"><template shadowrootmode="open"><!----></template></md-focus-ring>
        <!--?lit$075548653$--><md-ripple aria-hidden="true"><template shadowrootmode="open"><!----><div class="surface   "></div></template></md-ripple>
        <!--?lit$075548653$--><span class="icon"><slot></slot></span>
        <!--?lit$075548653$-->
        <!--?lit$075548653$--><span class="touch"></span>
  </button></template>
        <md-icon aria-hidden="true"><template shadowrootmode="open"><!----><slot></slot></template><!--?lit$075548653$--><svg viewBox="0 0 24 24"><!--?lit$075548653$--><path d="m15.9 3.07c-4.32 0.0742-8.64-0.0355-13 0.0568-1.37 0.307-1.74 2.1-1.41 3.26 0.469 0.606 1.86 0.384 1.66-0.525 0.0448-0.329-0.183-0.93 0.354-0.766h13.3v1.53h1.71c0.0709-1.13 0.141-2.62-0.968-3.3-0.511-0.264-1.11-0.252-1.67-0.259zm2.94 6.84v4.87c1.62-1.62 3.24-3.24 4.87-4.87h-4.87zm0 0h-1.71v3.43l1.57 1.57c0.32-1.65 0.0556-3.34 0.135-5zm-1.71 3.43v-3.43h-3.43c1.14 1.14 2.29 2.29 3.43 3.43zm1.4 4.27h-1.71v1.48h-13.6v-1.48h-1.71c-0.0473 1.15-0.16 2.72 1.09 3.29 1.47 0.506 3.02 0.0265 4.53 0.192 3.34-0.0051 6.68 0.0336 10-0.0245 1.49-0.366 1.56-2.22 1.42-3.45zm-10.1-1.12c-0.398-0.483-0.796-0.967-1.19-1.45 0.59-0.683 1.18-1.37 1.77-2.05h-8.67v-2h8.67c-0.59-0.683-1.18-1.37-1.77-2.05 0.398-0.483 0.796-0.967 1.19-1.45 1.28 1.5 2.56 3 3.84 4.5-1.28 1.5-2.56 3-3.84 4.5z"></path></svg></md-icon>
      </md-icon-button>
      <colab-tooltip-trigger aria-hidden="true" id="button-output-actions-tooltip" for="button-output-actions" message="Acciones de salida de las celdas de código"><template shadowrootmode="open"><!----><!--?lit$075548653$--><!----><div><!--?lit$075548653$-->Acciones de salida de las celdas de código</div><!----><!--?--></template></colab-tooltip-trigger></template></colab-output-info></div>
          <div class="output-iframe-container">
            <div class="output-iframe-sizer"> <div><div><colab-static-output-renderer tabindex="0" role="group"><div><div class="stream output_text"><pre><span style="font-weight: bold;">4/4</span><span> </span><span style="color: var(--ansi-green);">━━━━━━━━━━━━━━━━━━━━</span><span> </span><span style="font-weight: bold;">0s</span><span> 38ms/step - accuracy: 0.9191 - loss: 0.1852 - masked_accuracy: 0.6332
</span></pre></div></div><div></div></colab-static-output-renderer></div></div></div>
          </div>
        </div></div></div><colab-cell-next-steps><template shadowrootmode="open"><!----></template></colab-cell-next-steps></div></div><div class="add-cell">
      <hr>
    </div></div><div class="cell code code-has-output" id="cell-FI1ekbKZhRVY" tabindex="-1" role="region" aria-label="Celda 54: Celda de código; " style=""><div class="agent-focus-label">
      <md-icon aria-hidden="true"><template shadowrootmode="open"><!----><slot></slot></template>spark</md-icon>
      <!--?lit$075548653$-->Gemini
    </div><div class="cell-tag-editor sticky"></div><div class="cell-toolbar sticky"></div><div class="main-content" elevation="0"><div class="cell-contents"><div class="cell-mask"></div><span class="imported-info-area"></span><div class="codecell-input-output">
      <div class="inputarea horizontal layout code">
        <div class="cell-gutter">
          <!-- Bounding range for vertical scrolling of icons -->
          <div class="cell-execution-container">
            <colab-run-button><template shadowrootmode="open"><!----> <div class=" cell-execution stale ">
      <button id="run-button" aria-describedby="run-button-tooltip" aria-label="Ejecutar celda" aria-disabled="false">
        <!--?lit$075548653$--><span class="execution-count"><!--?lit$075548653$-->[ ]</span>
        <span aria-hidden="true" class="cell-execution-indicator"><!--?lit$075548653$-->
<svg xmlns="http://www.w3.org/2000/svg" viewBox="0 0 24 24">
  <!--?lit$075548653$-->
  <mask id="playSymbolMask">
    <rect width="100%" height="100%" fill="white"></rect>
    <polygon points="10,8 17,12 10,16" fill="black"></polygon>
  </mask>
  <circle cx="12" cy="12" r="7.8" mask="url(#playSymbolMask)" id="filledCircle"></circle>
</svg></span>
      </button>
      <!--?lit$075548653$--><colab-tooltip-trigger for="run-button" id="run-button-tooltip" aria-hidden="true" message="Ejecutar celda (Ctrl+Enter)
la celda no se ha ejecutado en esta sesión

ejecutada por Javier Hidalgo
miércoles, 19 de marzo de 2025
se ha ejecutado en 0.554 s"><template shadowrootmode="open"><!----><!--?lit$075548653$--><!----><div><!--?lit$075548653$-->Ejecutar celda (Ctrl+Enter)</div><!----><!----><div><!--?lit$075548653$-->la celda no se ha ejecutado en esta sesión</div><!----><!----><br><!----><!----><div><!--?lit$075548653$-->ejecutada por Javier Hidalgo</div><!----><!----><div><!--?lit$075548653$-->miércoles, 19 de marzo de 2025</div><!----><!----><div><!--?lit$075548653$-->se ha ejecutado en 0.554&nbsp;s</div><!----><!--?--></template>
    </colab-tooltip-trigger>
      <!--?lit$075548653$--><!--?-->
    </div></template></colab-run-button>
          </div>
        </div>
      <div class="editor flex lazy-editor" style=""><pre class="lazy-virtualized" style="font-size: 14px; line-height: 19px;"><pre class="lazy-gutter"></pre><pre class="monaco-colorized colab colab" data-lang="notebook-python"><span><span class="mtk1">cm_metrics_abl_bidir=&nbsp;plot_confusion_matrix(m2,&nbsp;ps</span><span class="mtk1">sm_test,&nbsp;dssp_test_pssm,&nbsp;suptitle=</span><span class="mtk21">'Ablation:&nbsp;Bidirectional'</span><span class="mtk1">,&nbsp;color=&nbsp;</span><span class="mtk21">'Reds'</span><span class="mtk1">)</span></span><br></pre><colab-read-only-cell-placeholder style="display: none;"><template shadowrootmode="open"><!----><div><!--?lit$075548653$-->Empieza a programar o a <span tabindex="0" role="button" class="link">crear código</span> con IA.</div></template></colab-read-only-cell-placeholder></pre></div><colab-form class="formview vertical layout flex"><div class="widget-area vertical layout"></div></colab-form></div>
    <div class="output" aria-label="Salida de la celda 54" role="region"><!----> <div class="output-header"> </div>
        <div class="output-content">
          <div class="output-info"><colab-output-info><template shadowrootmode="open"><!----><md-icon-button data-aria-expanded="false" data-aria-haspopup="menu" aria-describedby="button-output-actions-tooltip" data-aria-label="Acciones de salida de las celdas de código" id="button-output-actions" value=""><template shadowrootmode="open" shadowrootdelegatesfocus><!----><button id="button" class="icon-button  standard " aria-label="Acciones de salida de las celdas de código" aria-haspopup="menu" aria-expanded="false">
        <!--?lit$075548653$--><md-focus-ring part="focus-ring" for="button" aria-hidden="true"><template shadowrootmode="open"><!----></template></md-focus-ring>
        <!--?lit$075548653$--><md-ripple aria-hidden="true"><template shadowrootmode="open"><!----><div class="surface   "></div></template></md-ripple>
        <!--?lit$075548653$--><span class="icon"><slot></slot></span>
        <!--?lit$075548653$-->
        <!--?lit$075548653$--><span class="touch"></span>
  </button></template>
        <md-icon aria-hidden="true"><template shadowrootmode="open"><!----><slot></slot></template><!--?lit$075548653$--><svg viewBox="0 0 24 24"><!--?lit$075548653$--><path d="m15.9 3.07c-4.32 0.0742-8.64-0.0355-13 0.0568-1.37 0.307-1.74 2.1-1.41 3.26 0.469 0.606 1.86 0.384 1.66-0.525 0.0448-0.329-0.183-0.93 0.354-0.766h13.3v1.53h1.71c0.0709-1.13 0.141-2.62-0.968-3.3-0.511-0.264-1.11-0.252-1.67-0.259zm2.94 6.84v4.87c1.62-1.62 3.24-3.24 4.87-4.87h-4.87zm0 0h-1.71v3.43l1.57 1.57c0.32-1.65 0.0556-3.34 0.135-5zm-1.71 3.43v-3.43h-3.43c1.14 1.14 2.29 2.29 3.43 3.43zm1.4 4.27h-1.71v1.48h-13.6v-1.48h-1.71c-0.0473 1.15-0.16 2.72 1.09 3.29 1.47 0.506 3.02 0.0265 4.53 0.192 3.34-0.0051 6.68 0.0336 10-0.0245 1.49-0.366 1.56-2.22 1.42-3.45zm-10.1-1.12c-0.398-0.483-0.796-0.967-1.19-1.45 0.59-0.683 1.18-1.37 1.77-2.05h-8.67v-2h8.67c-0.59-0.683-1.18-1.37-1.77-2.05 0.398-0.483 0.796-0.967 1.19-1.45 1.28 1.5 2.56 3 3.84 4.5-1.28 1.5-2.56 3-3.84 4.5z"></path></svg></md-icon>
      </md-icon-button>
      <colab-tooltip-trigger aria-hidden="true" id="button-output-actions-tooltip" for="button-output-actions" message="Acciones de salida de las celdas de código"><template shadowrootmode="open"><!----><!--?lit$075548653$--><!----><div><!--?lit$075548653$-->Acciones de salida de las celdas de código</div><!----><!--?--></template></colab-tooltip-trigger></template></colab-output-info></div>
          <div class="output-iframe-container">
            <div class="output-iframe-sizer"> <div><div class="outputview" style="height: 532px;"><colab-dom-lifecycle-events style="display: none;"></colab-dom-lifecycle-events><iframe allow="" sandbox="allow-downloads allow-forms allow-pointer-lock allow-popups allow-popups-to-escape-sandbox allow-same-origin allow-scripts allow-storage-access-by-user-activation" src="./SSP_files/outputframe(17).html" class="" style="height: 532px;"></iframe></div></div></div>
          </div>
        </div></div></div><colab-cell-next-steps><template shadowrootmode="open"><!----></template></colab-cell-next-steps></div></div><div class="add-cell">
      <hr>
    </div></div><div class="cell text" id="cell-KuikkF8VoC2B" tabindex="-1" role="region" aria-label="Celda 55: Celda de texto; Ablation 3: Dense Layer" style=""><div class="agent-focus-label">
      <md-icon aria-hidden="true"><template shadowrootmode="open"><!----><slot></slot></template>spark</md-icon>
      <!--?lit$075548653$-->Gemini
    </div><div class="cell-tag-editor sticky"></div><div class="cell-toolbar sticky"></div><div class="main-content" elevation="0"><div class="cell-contents"><div class="cell-mask"></div><span class="imported-info-area"></span><!----> <div class="toolbar-root"></div>
      <div class="editor-container horizontal">
        <div class="editor-root"></div>
        <div class="text-top-div">
          <div class="markdown"><span><div class="text-cell-section-header layout horizontal center"><md-icon-button class="header-section-toggle" title="Ocultar 4 celdas secundarias de Ablation 3: Dense Layer (pulsa &lt;Mayús&gt; para ocultar también las secciones del mismo nivel)" data-aria-label="Ocultar 4 celdas secundarias de Ablation 3: Dense Layer (pulsa &lt;Mayús&gt; para ocultar también las secciones del mismo nivel)" value=""><template shadowrootmode="open" shadowrootdelegatesfocus><!----><button id="button" class="icon-button  standard " aria-label="Ocultar 4 celdas secundarias de Ablation 3: Dense Layer (pulsa &lt;Mayús&gt; para ocultar también las secciones del mismo nivel)">
        <!--?lit$075548653$--><md-focus-ring part="focus-ring" for="button" aria-hidden="true"><template shadowrootmode="open"><!----></template></md-focus-ring>
        <!--?lit$075548653$--><md-ripple aria-hidden="true"><template shadowrootmode="open"><!----><div class="surface   "></div></template></md-ripple>
        <!--?lit$075548653$--><span class="icon"><slot></slot></span>
        <!--?lit$075548653$-->
        <!--?lit$075548653$--><span class="touch"></span>
  </button></template><md-icon aria-hidden="true"><template shadowrootmode="open"><!----><slot></slot></template>keyboard_arrow_down</md-icon></md-icon-button><h1>Ablation 3: Dense Layer</h1></div>
</span></div>
        </div>
      </div>

      <div class="section-header" style="display: none;">
        <colab-run-button><template shadowrootmode="open"><!----> <div class=" cell-execution ">
      <button id="run-button" aria-label="Ejecutar celda" aria-disabled="false">
        <!--?lit$075548653$--><span class="execution-count"><!--?lit$075548653$-->[ ]</span>
        <span aria-hidden="true" class="cell-execution-indicator"><!--?lit$075548653$-->
<svg xmlns="http://www.w3.org/2000/svg" viewBox="0 0 24 24">
  <!--?lit$075548653$-->
  <mask id="playSymbolMask">
    <rect width="100%" height="100%" fill="white"></rect>
    <polygon points="10,8 17,12 10,16" fill="black"></polygon>
  </mask>
  <circle cx="12" cy="12" r="7.8" mask="url(#playSymbolMask)" id="filledCircle"></circle>
</svg></span>
      </button>
      <!--?lit$075548653$-->
      <!--?lit$075548653$--><!--?-->
    </div></template></colab-run-button>
        <div class="section-header-container" title="hacer clic para mostrar">
          <md-icon aria-hidden="true"><template shadowrootmode="open"><!----><slot></slot></template>subdirectory_arrow_right</md-icon>
          <span>4 celdas ocultas</span>
        </div>
      </div></div></div><div class="add-cell">
      <hr>
    </div></div><div class="cell code code-has-output" id="cell-mBtVRuTIoJIf" tabindex="-1" role="region" aria-label="Celda 56: Celda de código; " style=""><div class="agent-focus-label">
      <md-icon aria-hidden="true"><template shadowrootmode="open"><!----><slot></slot></template>spark</md-icon>
      <!--?lit$075548653$-->Gemini
    </div><div class="cell-tag-editor sticky"></div><div class="cell-toolbar sticky"></div><div class="main-content" elevation="0"><div class="cell-contents"><div class="cell-mask"></div><span class="imported-info-area"></span><div class="codecell-input-output">
      <div class="inputarea horizontal layout code">
        <div class="cell-gutter">
          <!-- Bounding range for vertical scrolling of icons -->
          <div class="cell-execution-container">
            <colab-run-button><template shadowrootmode="open"><!----> <div class=" cell-execution stale ">
      <button id="run-button" aria-describedby="run-button-tooltip" aria-label="Ejecutar celda" aria-disabled="false">
        <!--?lit$075548653$--><span class="execution-count"><!--?lit$075548653$-->[ ]</span>
        <span aria-hidden="true" class="cell-execution-indicator"><!--?lit$075548653$-->
<svg xmlns="http://www.w3.org/2000/svg" viewBox="0 0 24 24">
  <!--?lit$075548653$-->
  <mask id="playSymbolMask">
    <rect width="100%" height="100%" fill="white"></rect>
    <polygon points="10,8 17,12 10,16" fill="black"></polygon>
  </mask>
  <circle cx="12" cy="12" r="7.8" mask="url(#playSymbolMask)" id="filledCircle"></circle>
</svg></span>
      </button>
      <!--?lit$075548653$--><colab-tooltip-trigger for="run-button" id="run-button-tooltip" aria-hidden="true" message="Ejecutar celda (Ctrl+Enter)
la celda no se ha ejecutado en esta sesión

ejecutada por Javier Hidalgo
miércoles, 19 de marzo de 2025
se ha ejecutado en 0.022 s"><template shadowrootmode="open"><!----><!--?lit$075548653$--><!----><div><!--?lit$075548653$-->Ejecutar celda (Ctrl+Enter)</div><!----><!----><div><!--?lit$075548653$-->la celda no se ha ejecutado en esta sesión</div><!----><!----><br><!----><!----><div><!--?lit$075548653$-->ejecutada por Javier Hidalgo</div><!----><!----><div><!--?lit$075548653$-->miércoles, 19 de marzo de 2025</div><!----><!----><div><!--?lit$075548653$-->se ha ejecutado en 0.022&nbsp;s</div><!----><!--?--></template>
    </colab-tooltip-trigger>
      <!--?lit$075548653$--><!--?-->
    </div></template></colab-run-button>
          </div>
        </div>
      <div class="editor flex lazy-editor" style=""><pre class="lazy-virtualized" style="font-size: 14px; line-height: 19px;"><pre class="lazy-gutter"></pre><pre class="monaco-colorized colab colab" data-lang="notebook-python"><span><span class="mtk8">#&nbsp;Ablation&nbsp;of&nbsp;the&nbsp;Biridectional&nbsp;layer</span></span><br><span><span class="mtk1">m3&nbsp;=&nbsp;keras.Sequential()</span></span><br><span><span class="mtk1">m3.add(Conv1D(</span><span class="mtk12">64</span><span class="mtk1">,&nbsp;kernel_size=</span><span class="mtk12">3</span><span class="mtk1">,&nbsp;activation=</span><span class="mtk21">'relu'</span><span class="mtk1">,&nbsp;padding=</span><span class="mtk21">'same'</span><span class="mtk1">,&nbsp;input_shape=&nbsp;(</span><span class="mtk12">759</span><span class="mtk1">,</span><span class="mtk12">20</span><span class="mtk1">)))</span></span><br><span><span class="mtk1">m3.add(BatchNormalization())</span></span><br><span><span class="mtk1">m3.add(Bidirectional(LSTM(</span><span class="mtk12">64</span><span class="mtk1">,&nbsp;return_sequences=</span><span class="mtk6">True</span><span class="mtk1">)))</span></span><br><span><span class="mtk1">m3.add(Dropout(</span><span class="mtk12">0.3</span><span class="mtk1">))</span></span><br><span><span class="mtk8">#&nbsp;m.add(Dense(128,&nbsp;activation=&nbsp;'relu'))</span></span><br><span><span class="mtk1">m3.add(Dense(</span><span class="mtk12">4</span><span class="mtk1">,&nbsp;activation=</span><span class="mtk21">'softmax'</span><span class="mtk1">))</span></span><br><span><span class="mtk1">m3.summary()</span></span><br></pre><colab-read-only-cell-placeholder style="display: none;"><template shadowrootmode="open"><!----><div><!--?lit$075548653$-->Empieza a programar o a <span tabindex="0" role="button" class="link">crear código</span> con IA.</div></template></colab-read-only-cell-placeholder></pre></div><colab-form class="formview vertical layout flex"><div class="widget-area vertical layout"></div></colab-form></div>
    <div class="output" aria-label="Salida de la celda 56" role="region"><!----> <div class="output-header"> </div>
        <div class="output-content">
          <div class="output-info"><colab-output-info><template shadowrootmode="open"><!----><md-icon-button data-aria-expanded="false" data-aria-haspopup="menu" aria-describedby="button-output-actions-tooltip" data-aria-label="Acciones de salida de las celdas de código" id="button-output-actions" value=""><template shadowrootmode="open" shadowrootdelegatesfocus><!----><button id="button" class="icon-button  standard " aria-label="Acciones de salida de las celdas de código" aria-haspopup="menu" aria-expanded="false">
        <!--?lit$075548653$--><md-focus-ring part="focus-ring" for="button" aria-hidden="true"><template shadowrootmode="open"><!----></template></md-focus-ring>
        <!--?lit$075548653$--><md-ripple aria-hidden="true"><template shadowrootmode="open"><!----><div class="surface   "></div></template></md-ripple>
        <!--?lit$075548653$--><span class="icon"><slot></slot></span>
        <!--?lit$075548653$-->
        <!--?lit$075548653$--><span class="touch"></span>
  </button></template>
        <md-icon aria-hidden="true"><template shadowrootmode="open"><!----><slot></slot></template><!--?lit$075548653$--><svg viewBox="0 0 24 24"><!--?lit$075548653$--><path d="m15.9 3.07c-4.32 0.0742-8.64-0.0355-13 0.0568-1.37 0.307-1.74 2.1-1.41 3.26 0.469 0.606 1.86 0.384 1.66-0.525 0.0448-0.329-0.183-0.93 0.354-0.766h13.3v1.53h1.71c0.0709-1.13 0.141-2.62-0.968-3.3-0.511-0.264-1.11-0.252-1.67-0.259zm2.94 6.84v4.87c1.62-1.62 3.24-3.24 4.87-4.87h-4.87zm0 0h-1.71v3.43l1.57 1.57c0.32-1.65 0.0556-3.34 0.135-5zm-1.71 3.43v-3.43h-3.43c1.14 1.14 2.29 2.29 3.43 3.43zm1.4 4.27h-1.71v1.48h-13.6v-1.48h-1.71c-0.0473 1.15-0.16 2.72 1.09 3.29 1.47 0.506 3.02 0.0265 4.53 0.192 3.34-0.0051 6.68 0.0336 10-0.0245 1.49-0.366 1.56-2.22 1.42-3.45zm-10.1-1.12c-0.398-0.483-0.796-0.967-1.19-1.45 0.59-0.683 1.18-1.37 1.77-2.05h-8.67v-2h8.67c-0.59-0.683-1.18-1.37-1.77-2.05 0.398-0.483 0.796-0.967 1.19-1.45 1.28 1.5 2.56 3 3.84 4.5-1.28 1.5-2.56 3-3.84 4.5z"></path></svg></md-icon>
      </md-icon-button>
      <colab-tooltip-trigger aria-hidden="true" id="button-output-actions-tooltip" for="button-output-actions" message="Acciones de salida de las celdas de código"><template shadowrootmode="open"><!----><!--?lit$075548653$--><!----><div><!--?lit$075548653$-->Acciones de salida de las celdas de código</div><!----><!--?--></template></colab-tooltip-trigger></template></colab-output-info></div>
          <div class="output-iframe-container">
            <div class="output-iframe-sizer"> <div><div class="outputview" style="height: 360px;"><colab-dom-lifecycle-events style="display: none;"></colab-dom-lifecycle-events><iframe allow="" sandbox="allow-downloads allow-forms allow-pointer-lock allow-popups allow-popups-to-escape-sandbox allow-same-origin allow-scripts allow-storage-access-by-user-activation" src="./SSP_files/outputframe(18).html" class="" style="height: 360px;"></iframe></div></div></div>
          </div>
        </div></div></div><colab-cell-next-steps><template shadowrootmode="open"><!----></template></colab-cell-next-steps></div></div><div class="add-cell">
      <hr>
    </div></div><div class="cell code code-has-output" id="cell-bylHjEacoXqY" tabindex="-1" role="region" aria-label="Celda 57: Celda de código; " style=""><div class="agent-focus-label">
      <md-icon aria-hidden="true"><template shadowrootmode="open"><!----><slot></slot></template>spark</md-icon>
      <!--?lit$075548653$-->Gemini
    </div><div class="cell-tag-editor sticky"></div><div class="cell-toolbar sticky"></div><div class="main-content" elevation="0"><div class="cell-contents"><div class="cell-mask"></div><span class="imported-info-area"></span><div class="codecell-input-output">
      <div class="inputarea horizontal layout code">
        <div class="cell-gutter">
          <!-- Bounding range for vertical scrolling of icons -->
          <div class="cell-execution-container">
            <colab-run-button><template shadowrootmode="open"><!----> <div class=" cell-execution stale ">
      <button id="run-button" aria-describedby="run-button-tooltip" aria-label="Ejecutar celda" aria-disabled="false">
        <!--?lit$075548653$--><span class="execution-count"><!--?lit$075548653$-->[ ]</span>
        <span aria-hidden="true" class="cell-execution-indicator"><!--?lit$075548653$-->
<svg xmlns="http://www.w3.org/2000/svg" viewBox="0 0 24 24">
  <!--?lit$075548653$-->
  <mask id="playSymbolMask">
    <rect width="100%" height="100%" fill="white"></rect>
    <polygon points="10,8 17,12 10,16" fill="black"></polygon>
  </mask>
  <circle cx="12" cy="12" r="7.8" mask="url(#playSymbolMask)" id="filledCircle"></circle>
</svg></span>
      </button>
      <!--?lit$075548653$--><colab-tooltip-trigger for="run-button" id="run-button-tooltip" aria-hidden="true" message="Ejecutar celda (Ctrl+Enter)
la celda no se ha ejecutado en esta sesión

ejecutada por Javier Hidalgo
miércoles, 19 de marzo de 2025
se ha ejecutado en 591.4 s"><template shadowrootmode="open"><!----><!--?lit$075548653$--><!----><div><!--?lit$075548653$-->Ejecutar celda (Ctrl+Enter)</div><!----><!----><div><!--?lit$075548653$-->la celda no se ha ejecutado en esta sesión</div><!----><!----><br><!----><!----><div><!--?lit$075548653$-->ejecutada por Javier Hidalgo</div><!----><!----><div><!--?lit$075548653$-->miércoles, 19 de marzo de 2025</div><!----><!----><div><!--?lit$075548653$-->se ha ejecutado en 591.4&nbsp;s</div><!----><!--?--></template>
    </colab-tooltip-trigger>
      <!--?lit$075548653$--><!--?-->
    </div></template></colab-run-button>
          </div>
        </div>
      <div class="editor flex lazy-editor" style=""><pre class="lazy-virtualized" style="font-size: 14px; line-height: 19px;"><pre class="lazy-gutter"></pre><pre class="monaco-colorized colab colab" data-lang="notebook-python"><span><span class="mtk19">from</span><span class="mtk1">&nbsp;keras.callbacks&nbsp;</span><span class="mtk19">import</span><span class="mtk1">&nbsp;EarlyStopping,&nbsp;ModelCheckpoint,&nbsp;ReduceLROnPlateau</span></span><br><span><span></span></span><br><span><span class="mtk1">batch_size&nbsp;=&nbsp;</span><span class="mtk12">32</span></span><br><span><span class="mtk1">epochs&nbsp;=&nbsp;</span><span class="mtk12">15</span></span><br><span><span class="mtk1">m3.</span><span class="mtk15">compile</span><span class="mtk1">(optimizer=</span><span class="mtk21">'adam'</span><span class="mtk1">,&nbsp;loss=</span><span class="mtk21">'categorical_crossentropy'</span><span class="mtk1">,&nbsp;metrics=[</span><span class="mtk21">'accuracy'</span><span class="mtk1">,&nbsp;masked_accuracy])</span></span><br><span><span></span></span><br><span><span class="mtk1">early_stopping&nbsp;=&nbsp;EarlyStopping(monitor=</span><span class="mtk21">'val_loss'</span><span class="mtk1">,&nbsp;patience=</span><span class="mtk12">5</span><span class="mtk1">,&nbsp;restore_best_weights=</span><span class="mtk6">True</span><span class="mtk1">)</span></span><br><span><span class="mtk1">checkpoint&nbsp;=&nbsp;ModelCheckpoint(</span><span class="mtk21">'best_model.h5'</span><span class="mtk1">,&nbsp;monitor=</span><span class="mtk21">'val_loss'</span><span class="mtk1">,&nbsp;save_best_only=</span><span class="mtk6">True</span><span class="mtk1">,&nbsp;verbose=</span><span class="mtk12">1</span><span class="mtk1">)</span></span><br><span><span></span></span><br><span><span class="mtk1">history_3&nbsp;=&nbsp;m3.fit(pssm_train,&nbsp;dssp_train_pssm,&nbsp;ba</span><span class="mtk1">tch_size=batch_size,</span></span><br><span><span class="mtk1">&nbsp;&nbsp;&nbsp;&nbsp;&nbsp;&nbsp;&nbsp;&nbsp;&nbsp;&nbsp;&nbsp;&nbsp;&nbsp;&nbsp;&nbsp;&nbsp;&nbsp;&nbsp;&nbsp;&nbsp;&nbsp;&nbsp;&nbsp;&nbsp;&nbsp;epochs=epochs,&nbsp;validation</span><span class="mtk1">_data=(pssm_val,&nbsp;dssp_val_pssm),</span></span><br><span><span class="mtk1">&nbsp;&nbsp;&nbsp;&nbsp;&nbsp;&nbsp;&nbsp;&nbsp;&nbsp;&nbsp;&nbsp;&nbsp;&nbsp;&nbsp;&nbsp;&nbsp;&nbsp;&nbsp;&nbsp;&nbsp;&nbsp;&nbsp;&nbsp;&nbsp;&nbsp;callbacks=[early_stopping</span><span class="mtk1">])</span></span><br></pre><colab-read-only-cell-placeholder style="display: none;"><template shadowrootmode="open"><!----><div><!--?lit$075548653$-->Empieza a programar o a <span tabindex="0" role="button" class="link">crear código</span> con IA.</div></template></colab-read-only-cell-placeholder></pre></div><colab-form class="formview vertical layout flex"><div class="widget-area vertical layout"></div></colab-form></div>
    <div class="output" aria-label="Salida de la celda 57" role="region"><!----> <div class="output-header"> </div>
        <div class="output-content">
          <div class="output-info"><colab-output-info><template shadowrootmode="open"><!----><md-icon-button data-aria-expanded="false" data-aria-haspopup="menu" aria-describedby="button-output-actions-tooltip" data-aria-label="Acciones de salida de las celdas de código" id="button-output-actions" value=""><template shadowrootmode="open" shadowrootdelegatesfocus><!----><button id="button" class="icon-button  standard " aria-label="Acciones de salida de las celdas de código" aria-haspopup="menu" aria-expanded="false">
        <!--?lit$075548653$--><md-focus-ring part="focus-ring" for="button" aria-hidden="true"><template shadowrootmode="open"><!----></template></md-focus-ring>
        <!--?lit$075548653$--><md-ripple aria-hidden="true"><template shadowrootmode="open"><!----><div class="surface   "></div></template></md-ripple>
        <!--?lit$075548653$--><span class="icon"><slot></slot></span>
        <!--?lit$075548653$-->
        <!--?lit$075548653$--><span class="touch"></span>
  </button></template>
        <md-icon aria-hidden="true"><template shadowrootmode="open"><!----><slot></slot></template><!--?lit$075548653$--><svg viewBox="0 0 24 24"><!--?lit$075548653$--><path d="m15.9 3.07c-4.32 0.0742-8.64-0.0355-13 0.0568-1.37 0.307-1.74 2.1-1.41 3.26 0.469 0.606 1.86 0.384 1.66-0.525 0.0448-0.329-0.183-0.93 0.354-0.766h13.3v1.53h1.71c0.0709-1.13 0.141-2.62-0.968-3.3-0.511-0.264-1.11-0.252-1.67-0.259zm2.94 6.84v4.87c1.62-1.62 3.24-3.24 4.87-4.87h-4.87zm0 0h-1.71v3.43l1.57 1.57c0.32-1.65 0.0556-3.34 0.135-5zm-1.71 3.43v-3.43h-3.43c1.14 1.14 2.29 2.29 3.43 3.43zm1.4 4.27h-1.71v1.48h-13.6v-1.48h-1.71c-0.0473 1.15-0.16 2.72 1.09 3.29 1.47 0.506 3.02 0.0265 4.53 0.192 3.34-0.0051 6.68 0.0336 10-0.0245 1.49-0.366 1.56-2.22 1.42-3.45zm-10.1-1.12c-0.398-0.483-0.796-0.967-1.19-1.45 0.59-0.683 1.18-1.37 1.77-2.05h-8.67v-2h8.67c-0.59-0.683-1.18-1.37-1.77-2.05 0.398-0.483 0.796-0.967 1.19-1.45 1.28 1.5 2.56 3 3.84 4.5-1.28 1.5-2.56 3-3.84 4.5z"></path></svg></md-icon>
      </md-icon-button>
      <colab-tooltip-trigger aria-hidden="true" id="button-output-actions-tooltip" for="button-output-actions" message="Acciones de salida de las celdas de código"><template shadowrootmode="open"><!----><!--?lit$075548653$--><!----><div><!--?lit$075548653$-->Acciones de salida de las celdas de código</div><!----><!--?--></template></colab-tooltip-trigger></template></colab-output-info></div>
          <div class="output-iframe-container">
            <div class="output-iframe-sizer"> <div><div><colab-static-output-renderer tabindex="0" role="group"><div><div class="stream output_text"><pre>Epoch 1/15
<span style="font-weight: bold;">30/30</span><span> </span><span style="color: var(--ansi-green);">━━━━━━━━━━━━━━━━━━━━</span><span> </span><span style="font-weight: bold;">32s</span><span> 882ms/step - accuracy: 0.8204 - loss: 0.5324 - masked_accuracy: 0.4063 - val_accuracy: 0.9189 - val_loss: 0.1935 - val_masked_accuracy: 0.6183
Epoch 2/15
</span><span style="font-weight: bold;">30/30</span><span> </span><span style="color: var(--ansi-green);">━━━━━━━━━━━━━━━━━━━━</span><span> </span><span style="font-weight: bold;">42s</span><span> 931ms/step - accuracy: 0.9128 - loss: 0.2001 - masked_accuracy: 0.6110 - val_accuracy: 0.9315 - val_loss: 0.1612 - val_masked_accuracy: 0.6778
Epoch 3/15
</span><span style="font-weight: bold;">30/30</span><span> </span><span style="color: var(--ansi-green);">━━━━━━━━━━━━━━━━━━━━</span><span> </span><span style="font-weight: bold;">40s</span><span> 888ms/step - accuracy: 0.9274 - loss: 0.1713 - masked_accuracy: 0.6757 - val_accuracy: 0.9357 - val_loss: 0.1519 - val_masked_accuracy: 0.6970
Epoch 4/15
</span><span style="font-weight: bold;">30/30</span><span> </span><span style="color: var(--ansi-green);">━━━━━━━━━━━━━━━━━━━━</span><span> </span><span style="font-weight: bold;">41s</span><span> 891ms/step - accuracy: 0.9322 - loss: 0.1609 - masked_accuracy: 0.6973 - val_accuracy: 0.9389 - val_loss: 0.1452 - val_masked_accuracy: 0.7110
Epoch 5/15
</span><span style="font-weight: bold;">30/30</span><span> </span><span style="color: var(--ansi-green);">━━━━━━━━━━━━━━━━━━━━</span><span> </span><span style="font-weight: bold;">41s</span><span> 894ms/step - accuracy: 0.9356 - loss: 0.1539 - masked_accuracy: 0.7123 - val_accuracy: 0.9408 - val_loss: 0.1408 - val_masked_accuracy: 0.7190
Epoch 6/15
</span><span style="font-weight: bold;">30/30</span><span> </span><span style="color: var(--ansi-green);">━━━━━━━━━━━━━━━━━━━━</span><span> </span><span style="font-weight: bold;">41s</span><span> 907ms/step - accuracy: 0.9383 - loss: 0.1486 - masked_accuracy: 0.7243 - val_accuracy: 0.9426 - val_loss: 0.1375 - val_masked_accuracy: 0.7275
Epoch 7/15
</span><span style="font-weight: bold;">30/30</span><span> </span><span style="color: var(--ansi-green);">━━━━━━━━━━━━━━━━━━━━</span><span> </span><span style="font-weight: bold;">41s</span><span> 900ms/step - accuracy: 0.9404 - loss: 0.1440 - masked_accuracy: 0.7335 - val_accuracy: 0.9435 - val_loss: 0.1353 - val_masked_accuracy: 0.7313
Epoch 8/15
</span><span style="font-weight: bold;">30/30</span><span> </span><span style="color: var(--ansi-green);">━━━━━━━━━━━━━━━━━━━━</span><span> </span><span style="font-weight: bold;">41s</span><span> 912ms/step - accuracy: 0.9423 - loss: 0.1397 - masked_accuracy: 0.7420 - val_accuracy: 0.9442 - val_loss: 0.1334 - val_masked_accuracy: 0.7347
Epoch 9/15
</span><span style="font-weight: bold;">30/30</span><span> </span><span style="color: var(--ansi-green);">━━━━━━━━━━━━━━━━━━━━</span><span> </span><span style="font-weight: bold;">40s</span><span> 895ms/step - accuracy: 0.9437 - loss: 0.1362 - masked_accuracy: 0.7483 - val_accuracy: 0.9449 - val_loss: 0.1317 - val_masked_accuracy: 0.7379
Epoch 10/15
</span><span style="font-weight: bold;">30/30</span><span> </span><span style="color: var(--ansi-green);">━━━━━━━━━━━━━━━━━━━━</span><span> </span><span style="font-weight: bold;">40s</span><span> 869ms/step - accuracy: 0.9450 - loss: 0.1330 - masked_accuracy: 0.7537 - val_accuracy: 0.9462 - val_loss: 0.1290 - val_masked_accuracy: 0.7437
Epoch 11/15
</span><span style="font-weight: bold;">30/30</span><span> </span><span style="color: var(--ansi-green);">━━━━━━━━━━━━━━━━━━━━</span><span> </span><span style="font-weight: bold;">43s</span><span> 942ms/step - accuracy: 0.9465 - loss: 0.1299 - masked_accuracy: 0.7605 - val_accuracy: 0.9467 - val_loss: 0.1275 - val_masked_accuracy: 0.7463
Epoch 12/15
</span><span style="font-weight: bold;">30/30</span><span> </span><span style="color: var(--ansi-green);">━━━━━━━━━━━━━━━━━━━━</span><span> </span><span style="font-weight: bold;">26s</span><span> 878ms/step - accuracy: 0.9473 - loss: 0.1276 - masked_accuracy: 0.7640 - val_accuracy: 0.9478 - val_loss: 0.1256 - val_masked_accuracy: 0.7515
Epoch 13/15
</span><span style="font-weight: bold;">30/30</span><span> </span><span style="color: var(--ansi-green);">━━━━━━━━━━━━━━━━━━━━</span><span> </span><span style="font-weight: bold;">41s</span><span> 878ms/step - accuracy: 0.9482 - loss: 0.1252 - masked_accuracy: 0.7681 - val_accuracy: 0.9481 - val_loss: 0.1243 - val_masked_accuracy: 0.7533
Epoch 14/15
</span><span style="font-weight: bold;">30/30</span><span> </span><span style="color: var(--ansi-green);">━━━━━━━━━━━━━━━━━━━━</span><span> </span><span style="font-weight: bold;">26s</span><span> 886ms/step - accuracy: 0.9492 - loss: 0.1230 - masked_accuracy: 0.7726 - val_accuracy: 0.9488 - val_loss: 0.1230 - val_masked_accuracy: 0.7568
Epoch 15/15
</span><span style="font-weight: bold;">30/30</span><span> </span><span style="color: var(--ansi-green);">━━━━━━━━━━━━━━━━━━━━</span><span> </span><span style="font-weight: bold;">42s</span><span> 914ms/step - accuracy: 0.9499 - loss: 0.1213 - masked_accuracy: 0.7757 - val_accuracy: 0.9494 - val_loss: 0.1218 - val_masked_accuracy: 0.7597
</span></pre></div></div><div></div></colab-static-output-renderer></div></div></div>
          </div>
        </div></div></div><colab-cell-next-steps><template shadowrootmode="open"><!----></template></colab-cell-next-steps></div></div><div class="add-cell">
      <hr>
    </div></div><div class="cell code code-has-output" id="cell-F5300TcTomNb" tabindex="-1" role="region" aria-label="Celda 58: Celda de código; " style=""><div class="agent-focus-label">
      <md-icon aria-hidden="true"><template shadowrootmode="open"><!----><slot></slot></template>spark</md-icon>
      <!--?lit$075548653$-->Gemini
    </div><div class="cell-tag-editor sticky"></div><div class="cell-toolbar sticky"></div><div class="main-content" elevation="0"><div class="cell-contents"><div class="cell-mask"></div><span class="imported-info-area"></span><div class="codecell-input-output">
      <div class="inputarea horizontal layout code">
        <div class="cell-gutter">
          <!-- Bounding range for vertical scrolling of icons -->
          <div class="cell-execution-container">
            <colab-run-button><template shadowrootmode="open"><!----> <div class=" cell-execution stale ">
      <button id="run-button" aria-describedby="run-button-tooltip" aria-label="Ejecutar celda" aria-disabled="false">
        <!--?lit$075548653$--><span class="execution-count"><!--?lit$075548653$-->[ ]</span>
        <span aria-hidden="true" class="cell-execution-indicator"><!--?lit$075548653$-->
<svg xmlns="http://www.w3.org/2000/svg" viewBox="0 0 24 24">
  <!--?lit$075548653$-->
  <mask id="playSymbolMask">
    <rect width="100%" height="100%" fill="white"></rect>
    <polygon points="10,8 17,12 10,16" fill="black"></polygon>
  </mask>
  <circle cx="12" cy="12" r="7.8" mask="url(#playSymbolMask)" id="filledCircle"></circle>
</svg></span>
      </button>
      <!--?lit$075548653$--><colab-tooltip-trigger for="run-button" id="run-button-tooltip" aria-hidden="true" message="Ejecutar celda (Ctrl+Enter)
la celda no se ha ejecutado en esta sesión

ejecutada por Javier Hidalgo
miércoles, 19 de marzo de 2025
se ha ejecutado en 0.708 s"><template shadowrootmode="open"><!----><!--?lit$075548653$--><!----><div><!--?lit$075548653$-->Ejecutar celda (Ctrl+Enter)</div><!----><!----><div><!--?lit$075548653$-->la celda no se ha ejecutado en esta sesión</div><!----><!----><br><!----><!----><div><!--?lit$075548653$-->ejecutada por Javier Hidalgo</div><!----><!----><div><!--?lit$075548653$-->miércoles, 19 de marzo de 2025</div><!----><!----><div><!--?lit$075548653$-->se ha ejecutado en 0.708&nbsp;s</div><!----><!--?--></template>
    </colab-tooltip-trigger>
      <!--?lit$075548653$--><!--?-->
    </div></template></colab-run-button>
          </div>
        </div>
      <div class="editor flex lazy-editor" style=""><pre class="lazy-virtualized" style="font-size: 14px; line-height: 19px;"><pre class="lazy-gutter"></pre><pre class="monaco-colorized colab colab" data-lang="notebook-python"><span><span class="mtk1">abl_dense&nbsp;=&nbsp;get_metrics(m3,&nbsp;history_3,&nbsp;pssm_test,&nbsp;</span><span class="mtk1">dssp_test_pssm)</span></span><br></pre><colab-read-only-cell-placeholder style="display: none;"><template shadowrootmode="open"><!----><div><!--?lit$075548653$-->Empieza a programar o a <span tabindex="0" role="button" class="link">crear código</span> con IA.</div></template></colab-read-only-cell-placeholder></pre></div><colab-form class="formview vertical layout flex"><div class="widget-area vertical layout"></div></colab-form></div>
    <div class="output" aria-label="Salida de la celda 58" role="region"><!----> <div class="output-header"> </div>
        <div class="output-content">
          <div class="output-info"><colab-output-info><template shadowrootmode="open"><!----><md-icon-button data-aria-expanded="false" data-aria-haspopup="menu" aria-describedby="button-output-actions-tooltip" data-aria-label="Acciones de salida de las celdas de código" id="button-output-actions" value=""><template shadowrootmode="open" shadowrootdelegatesfocus><!----><button id="button" class="icon-button  standard " aria-label="Acciones de salida de las celdas de código" aria-haspopup="menu" aria-expanded="false">
        <!--?lit$075548653$--><md-focus-ring part="focus-ring" for="button" aria-hidden="true"><template shadowrootmode="open"><!----></template></md-focus-ring>
        <!--?lit$075548653$--><md-ripple aria-hidden="true"><template shadowrootmode="open"><!----><div class="surface   "></div></template></md-ripple>
        <!--?lit$075548653$--><span class="icon"><slot></slot></span>
        <!--?lit$075548653$-->
        <!--?lit$075548653$--><span class="touch"></span>
  </button></template>
        <md-icon aria-hidden="true"><template shadowrootmode="open"><!----><slot></slot></template><!--?lit$075548653$--><svg viewBox="0 0 24 24"><!--?lit$075548653$--><path d="m15.9 3.07c-4.32 0.0742-8.64-0.0355-13 0.0568-1.37 0.307-1.74 2.1-1.41 3.26 0.469 0.606 1.86 0.384 1.66-0.525 0.0448-0.329-0.183-0.93 0.354-0.766h13.3v1.53h1.71c0.0709-1.13 0.141-2.62-0.968-3.3-0.511-0.264-1.11-0.252-1.67-0.259zm2.94 6.84v4.87c1.62-1.62 3.24-3.24 4.87-4.87h-4.87zm0 0h-1.71v3.43l1.57 1.57c0.32-1.65 0.0556-3.34 0.135-5zm-1.71 3.43v-3.43h-3.43c1.14 1.14 2.29 2.29 3.43 3.43zm1.4 4.27h-1.71v1.48h-13.6v-1.48h-1.71c-0.0473 1.15-0.16 2.72 1.09 3.29 1.47 0.506 3.02 0.0265 4.53 0.192 3.34-0.0051 6.68 0.0336 10-0.0245 1.49-0.366 1.56-2.22 1.42-3.45zm-10.1-1.12c-0.398-0.483-0.796-0.967-1.19-1.45 0.59-0.683 1.18-1.37 1.77-2.05h-8.67v-2h8.67c-0.59-0.683-1.18-1.37-1.77-2.05 0.398-0.483 0.796-0.967 1.19-1.45 1.28 1.5 2.56 3 3.84 4.5-1.28 1.5-2.56 3-3.84 4.5z"></path></svg></md-icon>
      </md-icon-button>
      <colab-tooltip-trigger aria-hidden="true" id="button-output-actions-tooltip" for="button-output-actions" message="Acciones de salida de las celdas de código"><template shadowrootmode="open"><!----><!--?lit$075548653$--><!----><div><!--?lit$075548653$-->Acciones de salida de las celdas de código</div><!----><!--?--></template></colab-tooltip-trigger></template></colab-output-info></div>
          <div class="output-iframe-container">
            <div class="output-iframe-sizer"> <div><div><colab-static-output-renderer tabindex="0" role="group"><div><div class="stream output_text"><pre><span style="font-weight: bold;">4/4</span><span> </span><span style="color: var(--ansi-green);">━━━━━━━━━━━━━━━━━━━━</span><span> </span><span style="font-weight: bold;">1s</span><span> 166ms/step - accuracy: 0.9500 - loss: 0.1225 - masked_accuracy: 0.7739
</span></pre></div></div><div></div></colab-static-output-renderer></div></div></div>
          </div>
        </div></div></div><colab-cell-next-steps><template shadowrootmode="open"><!----></template></colab-cell-next-steps></div></div><div class="add-cell">
      <hr>
    </div></div><div class="cell code code-has-output" id="cell-IZv-bkaFomRQ" tabindex="-1" role="region" aria-label="Celda 59: Celda de código; " style=""><div class="agent-focus-label">
      <md-icon aria-hidden="true"><template shadowrootmode="open"><!----><slot></slot></template>spark</md-icon>
      <!--?lit$075548653$-->Gemini
    </div><div class="cell-tag-editor sticky"></div><div class="cell-toolbar sticky"></div><div class="main-content" elevation="0"><div class="cell-contents"><div class="cell-mask"></div><span class="imported-info-area"></span><div class="codecell-input-output">
      <div class="inputarea horizontal layout code">
        <div class="cell-gutter">
          <!-- Bounding range for vertical scrolling of icons -->
          <div class="cell-execution-container">
            <colab-run-button><template shadowrootmode="open"><!----> <div class=" cell-execution stale ">
      <button id="run-button" aria-describedby="run-button-tooltip" aria-label="Ejecutar celda" aria-disabled="false">
        <!--?lit$075548653$--><span class="execution-count"><!--?lit$075548653$-->[ ]</span>
        <span aria-hidden="true" class="cell-execution-indicator"><!--?lit$075548653$-->
<svg xmlns="http://www.w3.org/2000/svg" viewBox="0 0 24 24">
  <!--?lit$075548653$-->
  <mask id="playSymbolMask">
    <rect width="100%" height="100%" fill="white"></rect>
    <polygon points="10,8 17,12 10,16" fill="black"></polygon>
  </mask>
  <circle cx="12" cy="12" r="7.8" mask="url(#playSymbolMask)" id="filledCircle"></circle>
</svg></span>
      </button>
      <!--?lit$075548653$--><colab-tooltip-trigger for="run-button" id="run-button-tooltip" aria-hidden="true" message="Ejecutar celda (Ctrl+Enter)
la celda no se ha ejecutado en esta sesión

ejecutada por Javier Hidalgo
miércoles, 19 de marzo de 2025
se ha ejecutado en 1.645 s"><template shadowrootmode="open"><!----><!--?lit$075548653$--><!----><div><!--?lit$075548653$-->Ejecutar celda (Ctrl+Enter)</div><!----><!----><div><!--?lit$075548653$-->la celda no se ha ejecutado en esta sesión</div><!----><!----><br><!----><!----><div><!--?lit$075548653$-->ejecutada por Javier Hidalgo</div><!----><!----><div><!--?lit$075548653$-->miércoles, 19 de marzo de 2025</div><!----><!----><div><!--?lit$075548653$-->se ha ejecutado en 1.645&nbsp;s</div><!----><!--?--></template>
    </colab-tooltip-trigger>
      <!--?lit$075548653$--><!--?-->
    </div></template></colab-run-button>
          </div>
        </div>
      <div class="editor flex lazy-editor" style=""><pre class="lazy-virtualized" style="font-size: 14px; line-height: 19px;"><pre class="lazy-gutter"></pre><pre class="monaco-colorized colab colab" data-lang="notebook-python"><span><span class="mtk1">cm_metrics_abl_dense=&nbsp;plot_confusion_matrix(m3,&nbsp;ps</span><span class="mtk1">sm_test,&nbsp;dssp_test_pssm,&nbsp;suptitle=</span><span class="mtk21">'Ablation:&nbsp;Dense&nbsp;Layer'</span><span class="mtk1">,&nbsp;color=&nbsp;</span><span class="mtk21">'Reds'</span><span class="mtk1">)</span></span><br></pre><colab-read-only-cell-placeholder style="display: none;"><template shadowrootmode="open"><!----><div><!--?lit$075548653$-->Empieza a programar o a <span tabindex="0" role="button" class="link">crear código</span> con IA.</div></template></colab-read-only-cell-placeholder></pre></div><colab-form class="formview vertical layout flex"><div class="widget-area vertical layout"></div></colab-form></div>
    <div class="output" aria-label="Salida de la celda 59" role="region"><!----> <div class="output-header"> </div>
        <div class="output-content">
          <div class="output-info"><colab-output-info><template shadowrootmode="open"><!----><md-icon-button data-aria-expanded="false" data-aria-haspopup="menu" aria-describedby="button-output-actions-tooltip" data-aria-label="Acciones de salida de las celdas de código" id="button-output-actions" value=""><template shadowrootmode="open" shadowrootdelegatesfocus><!----><button id="button" class="icon-button  standard " aria-label="Acciones de salida de las celdas de código" aria-haspopup="menu" aria-expanded="false">
        <!--?lit$075548653$--><md-focus-ring part="focus-ring" for="button" aria-hidden="true"><template shadowrootmode="open"><!----></template></md-focus-ring>
        <!--?lit$075548653$--><md-ripple aria-hidden="true"><template shadowrootmode="open"><!----><div class="surface   "></div></template></md-ripple>
        <!--?lit$075548653$--><span class="icon"><slot></slot></span>
        <!--?lit$075548653$-->
        <!--?lit$075548653$--><span class="touch"></span>
  </button></template>
        <md-icon aria-hidden="true"><template shadowrootmode="open"><!----><slot></slot></template><!--?lit$075548653$--><svg viewBox="0 0 24 24"><!--?lit$075548653$--><path d="m15.9 3.07c-4.32 0.0742-8.64-0.0355-13 0.0568-1.37 0.307-1.74 2.1-1.41 3.26 0.469 0.606 1.86 0.384 1.66-0.525 0.0448-0.329-0.183-0.93 0.354-0.766h13.3v1.53h1.71c0.0709-1.13 0.141-2.62-0.968-3.3-0.511-0.264-1.11-0.252-1.67-0.259zm2.94 6.84v4.87c1.62-1.62 3.24-3.24 4.87-4.87h-4.87zm0 0h-1.71v3.43l1.57 1.57c0.32-1.65 0.0556-3.34 0.135-5zm-1.71 3.43v-3.43h-3.43c1.14 1.14 2.29 2.29 3.43 3.43zm1.4 4.27h-1.71v1.48h-13.6v-1.48h-1.71c-0.0473 1.15-0.16 2.72 1.09 3.29 1.47 0.506 3.02 0.0265 4.53 0.192 3.34-0.0051 6.68 0.0336 10-0.0245 1.49-0.366 1.56-2.22 1.42-3.45zm-10.1-1.12c-0.398-0.483-0.796-0.967-1.19-1.45 0.59-0.683 1.18-1.37 1.77-2.05h-8.67v-2h8.67c-0.59-0.683-1.18-1.37-1.77-2.05 0.398-0.483 0.796-0.967 1.19-1.45 1.28 1.5 2.56 3 3.84 4.5-1.28 1.5-2.56 3-3.84 4.5z"></path></svg></md-icon>
      </md-icon-button>
      <colab-tooltip-trigger aria-hidden="true" id="button-output-actions-tooltip" for="button-output-actions" message="Acciones de salida de las celdas de código"><template shadowrootmode="open"><!----><!--?lit$075548653$--><!----><div><!--?lit$075548653$-->Acciones de salida de las celdas de código</div><!----><!--?--></template></colab-tooltip-trigger></template></colab-output-info></div>
          <div class="output-iframe-container">
            <div class="output-iframe-sizer"> <div><div class="outputview" style="height: 587px;"><colab-dom-lifecycle-events style="display: none;"></colab-dom-lifecycle-events><iframe allow="" sandbox="allow-downloads allow-forms allow-pointer-lock allow-popups allow-popups-to-escape-sandbox allow-same-origin allow-scripts allow-storage-access-by-user-activation" src="./SSP_files/outputframe(19).html" class="" style="height: 587px;"></iframe></div></div></div>
          </div>
        </div></div></div><colab-cell-next-steps><template shadowrootmode="open"><!----></template></colab-cell-next-steps></div></div><div class="add-cell">
      <hr>
    </div></div><div class="cell text" id="cell-kTFRPnAonRoH" tabindex="-1" role="region" aria-label="Celda 60: Celda de texto; Ablation 4: Dropout" style=""><div class="agent-focus-label">
      <md-icon aria-hidden="true"><template shadowrootmode="open"><!----><slot></slot></template>spark</md-icon>
      <!--?lit$075548653$-->Gemini
    </div><div class="cell-tag-editor sticky"></div><div class="cell-toolbar sticky"></div><div class="main-content" elevation="0"><div class="cell-contents"><div class="cell-mask"></div><span class="imported-info-area"></span><!----> <div class="toolbar-root"></div>
      <div class="editor-container horizontal">
        <div class="editor-root"></div>
        <div class="text-top-div">
          <div class="markdown"><span><div class="text-cell-section-header layout horizontal center"><md-icon-button class="header-section-toggle" title="Ocultar 4 celdas secundarias de Ablation 4: Dropout (pulsa &lt;Mayús&gt; para ocultar también las secciones del mismo nivel)" data-aria-label="Ocultar 4 celdas secundarias de Ablation 4: Dropout (pulsa &lt;Mayús&gt; para ocultar también las secciones del mismo nivel)" value=""><template shadowrootmode="open" shadowrootdelegatesfocus><!----><button id="button" class="icon-button  standard " aria-label="Ocultar 4 celdas secundarias de Ablation 4: Dropout (pulsa &lt;Mayús&gt; para ocultar también las secciones del mismo nivel)">
        <!--?lit$075548653$--><md-focus-ring part="focus-ring" for="button" aria-hidden="true"><template shadowrootmode="open"><!----></template></md-focus-ring>
        <!--?lit$075548653$--><md-ripple aria-hidden="true"><template shadowrootmode="open"><!----><div class="surface   "></div></template></md-ripple>
        <!--?lit$075548653$--><span class="icon"><slot></slot></span>
        <!--?lit$075548653$-->
        <!--?lit$075548653$--><span class="touch"></span>
  </button></template><md-icon aria-hidden="true"><template shadowrootmode="open"><!----><slot></slot></template>keyboard_arrow_down</md-icon></md-icon-button><h1>Ablation 4: Dropout</h1></div>
</span></div>
        </div>
      </div>

      <div class="section-header" style="display: none;">
        <colab-run-button><template shadowrootmode="open"><!----> <div class=" cell-execution ">
      <button id="run-button" aria-label="Ejecutar celda" aria-disabled="false">
        <!--?lit$075548653$--><span class="execution-count"><!--?lit$075548653$-->[ ]</span>
        <span aria-hidden="true" class="cell-execution-indicator"><!--?lit$075548653$-->
<svg xmlns="http://www.w3.org/2000/svg" viewBox="0 0 24 24">
  <!--?lit$075548653$-->
  <mask id="playSymbolMask">
    <rect width="100%" height="100%" fill="white"></rect>
    <polygon points="10,8 17,12 10,16" fill="black"></polygon>
  </mask>
  <circle cx="12" cy="12" r="7.8" mask="url(#playSymbolMask)" id="filledCircle"></circle>
</svg></span>
      </button>
      <!--?lit$075548653$-->
      <!--?lit$075548653$--><!--?-->
    </div></template></colab-run-button>
        <div class="section-header-container" title="hacer clic para mostrar">
          <md-icon aria-hidden="true"><template shadowrootmode="open"><!----><slot></slot></template>subdirectory_arrow_right</md-icon>
          <span>4 celdas ocultas</span>
        </div>
      </div></div></div><div class="add-cell">
      <hr>
    </div></div><div class="cell code code-has-output" id="cell-BzX1Uyeoais9" tabindex="-1" role="region" aria-label="Celda 61: Celda de código; " style=""><div class="agent-focus-label">
      <md-icon aria-hidden="true"><template shadowrootmode="open"><!----><slot></slot></template>spark</md-icon>
      <!--?lit$075548653$-->Gemini
    </div><div class="cell-tag-editor sticky"></div><div class="cell-toolbar sticky"></div><div class="main-content" elevation="0"><div class="cell-contents"><div class="cell-mask"></div><span class="imported-info-area"></span><div class="codecell-input-output">
      <div class="inputarea horizontal layout code">
        <div class="cell-gutter">
          <!-- Bounding range for vertical scrolling of icons -->
          <div class="cell-execution-container">
            <colab-run-button><template shadowrootmode="open"><!----> <div class=" cell-execution stale ">
      <button id="run-button" aria-describedby="run-button-tooltip" aria-label="Ejecutar celda" aria-disabled="false">
        <!--?lit$075548653$--><span class="execution-count"><!--?lit$075548653$-->[ ]</span>
        <span aria-hidden="true" class="cell-execution-indicator"><!--?lit$075548653$-->
<svg xmlns="http://www.w3.org/2000/svg" viewBox="0 0 24 24">
  <!--?lit$075548653$-->
  <mask id="playSymbolMask">
    <rect width="100%" height="100%" fill="white"></rect>
    <polygon points="10,8 17,12 10,16" fill="black"></polygon>
  </mask>
  <circle cx="12" cy="12" r="7.8" mask="url(#playSymbolMask)" id="filledCircle"></circle>
</svg></span>
      </button>
      <!--?lit$075548653$--><colab-tooltip-trigger for="run-button" id="run-button-tooltip" aria-hidden="true" message="Ejecutar celda (Ctrl+Enter)
la celda no se ha ejecutado en esta sesión

ejecutada por Javier Hidalgo
miércoles, 19 de marzo de 2025
se ha ejecutado en 0.061 s"><template shadowrootmode="open"><!----><!--?lit$075548653$--><!----><div><!--?lit$075548653$-->Ejecutar celda (Ctrl+Enter)</div><!----><!----><div><!--?lit$075548653$-->la celda no se ha ejecutado en esta sesión</div><!----><!----><br><!----><!----><div><!--?lit$075548653$-->ejecutada por Javier Hidalgo</div><!----><!----><div><!--?lit$075548653$-->miércoles, 19 de marzo de 2025</div><!----><!----><div><!--?lit$075548653$-->se ha ejecutado en 0.061&nbsp;s</div><!----><!--?--></template>
    </colab-tooltip-trigger>
      <!--?lit$075548653$--><!--?-->
    </div></template></colab-run-button>
          </div>
        </div>
      <div class="editor flex lazy-editor" style=""><pre class="lazy-virtualized" style="font-size: 14px; line-height: 19px;"><pre class="lazy-gutter"></pre><pre class="monaco-colorized colab colab" data-lang="notebook-python"><span><span class="mtk8">#&nbsp;Ablation&nbsp;of&nbsp;the&nbsp;Dropout</span></span><br><span><span class="mtk1">m4&nbsp;=&nbsp;keras.Sequential()</span></span><br><span><span class="mtk1">m4.add(Conv1D(</span><span class="mtk12">64</span><span class="mtk1">,&nbsp;kernel_size=</span><span class="mtk12">3</span><span class="mtk1">,&nbsp;activation=</span><span class="mtk21">'relu'</span><span class="mtk1">,&nbsp;padding=</span><span class="mtk21">'same'</span><span class="mtk1">,&nbsp;input_shape=&nbsp;(</span><span class="mtk12">759</span><span class="mtk1">,</span><span class="mtk12">20</span><span class="mtk1">)))</span></span><br><span><span class="mtk1">m4.add(BatchNormalization())</span></span><br><span><span class="mtk1">m4.add(Bidirectional(LSTM(</span><span class="mtk12">64</span><span class="mtk1">,&nbsp;return_sequences=</span><span class="mtk6">True</span><span class="mtk1">)))</span></span><br><span><span class="mtk8">#&nbsp;m.add(Dropout(0.3))</span></span><br><span><span class="mtk1">m4.add(Dense(</span><span class="mtk12">128</span><span class="mtk1">,&nbsp;activation=&nbsp;</span><span class="mtk21">'relu'</span><span class="mtk1">))</span></span><br><span><span class="mtk1">m4.add(Dense(</span><span class="mtk12">4</span><span class="mtk1">,&nbsp;activation=</span><span class="mtk21">'softmax'</span><span class="mtk1">))</span></span><br><span><span class="mtk1">m4.summary()</span></span><br></pre><colab-read-only-cell-placeholder style="display: none;"><template shadowrootmode="open"><!----><div><!--?lit$075548653$-->Empieza a programar o a <span tabindex="0" role="button" class="link">crear código</span> con IA.</div></template></colab-read-only-cell-placeholder></pre></div><colab-form class="formview vertical layout flex"><div class="widget-area vertical layout"></div></colab-form></div>
    <div class="output" aria-label="Salida de la celda 61" role="region"><!----> <div class="output-header"> </div>
        <div class="output-content">
          <div class="output-info"><colab-output-info><template shadowrootmode="open"><!----><md-icon-button data-aria-expanded="false" data-aria-haspopup="menu" aria-describedby="button-output-actions-tooltip" data-aria-label="Acciones de salida de las celdas de código" id="button-output-actions" value=""><template shadowrootmode="open" shadowrootdelegatesfocus><!----><button id="button" class="icon-button  standard " aria-label="Acciones de salida de las celdas de código" aria-haspopup="menu" aria-expanded="false">
        <!--?lit$075548653$--><md-focus-ring part="focus-ring" for="button" aria-hidden="true"><template shadowrootmode="open"><!----></template></md-focus-ring>
        <!--?lit$075548653$--><md-ripple aria-hidden="true"><template shadowrootmode="open"><!----><div class="surface   "></div></template></md-ripple>
        <!--?lit$075548653$--><span class="icon"><slot></slot></span>
        <!--?lit$075548653$-->
        <!--?lit$075548653$--><span class="touch"></span>
  </button></template>
        <md-icon aria-hidden="true"><template shadowrootmode="open"><!----><slot></slot></template><!--?lit$075548653$--><svg viewBox="0 0 24 24"><!--?lit$075548653$--><path d="m15.9 3.07c-4.32 0.0742-8.64-0.0355-13 0.0568-1.37 0.307-1.74 2.1-1.41 3.26 0.469 0.606 1.86 0.384 1.66-0.525 0.0448-0.329-0.183-0.93 0.354-0.766h13.3v1.53h1.71c0.0709-1.13 0.141-2.62-0.968-3.3-0.511-0.264-1.11-0.252-1.67-0.259zm2.94 6.84v4.87c1.62-1.62 3.24-3.24 4.87-4.87h-4.87zm0 0h-1.71v3.43l1.57 1.57c0.32-1.65 0.0556-3.34 0.135-5zm-1.71 3.43v-3.43h-3.43c1.14 1.14 2.29 2.29 3.43 3.43zm1.4 4.27h-1.71v1.48h-13.6v-1.48h-1.71c-0.0473 1.15-0.16 2.72 1.09 3.29 1.47 0.506 3.02 0.0265 4.53 0.192 3.34-0.0051 6.68 0.0336 10-0.0245 1.49-0.366 1.56-2.22 1.42-3.45zm-10.1-1.12c-0.398-0.483-0.796-0.967-1.19-1.45 0.59-0.683 1.18-1.37 1.77-2.05h-8.67v-2h8.67c-0.59-0.683-1.18-1.37-1.77-2.05 0.398-0.483 0.796-0.967 1.19-1.45 1.28 1.5 2.56 3 3.84 4.5-1.28 1.5-2.56 3-3.84 4.5z"></path></svg></md-icon>
      </md-icon-button>
      <colab-tooltip-trigger aria-hidden="true" id="button-output-actions-tooltip" for="button-output-actions" message="Acciones de salida de las celdas de código"><template shadowrootmode="open"><!----><!--?lit$075548653$--><!----><div><!--?lit$075548653$-->Acciones de salida de las celdas de código</div><!----><!--?--></template></colab-tooltip-trigger></template></colab-output-info></div>
          <div class="output-iframe-container">
            <div class="output-iframe-sizer"> <div><div class="outputview" style="height: 360px;"><colab-dom-lifecycle-events style="display: none;"></colab-dom-lifecycle-events><iframe allow="" sandbox="allow-downloads allow-forms allow-pointer-lock allow-popups allow-popups-to-escape-sandbox allow-same-origin allow-scripts allow-storage-access-by-user-activation" src="./SSP_files/outputframe(20).html" class="" style="height: 360px;"></iframe></div></div></div>
          </div>
        </div></div></div><colab-cell-next-steps><template shadowrootmode="open"><!----></template></colab-cell-next-steps></div></div><div class="add-cell">
      <hr>
    </div></div><div class="cell code code-has-output" id="cell-IU5uy7z2awM5" tabindex="-1" role="region" aria-label="Celda 62: Celda de código; " style=""><div class="agent-focus-label">
      <md-icon aria-hidden="true"><template shadowrootmode="open"><!----><slot></slot></template>spark</md-icon>
      <!--?lit$075548653$-->Gemini
    </div><div class="cell-tag-editor sticky"></div><div class="cell-toolbar sticky"></div><div class="main-content" elevation="0"><div class="cell-contents"><div class="cell-mask"></div><span class="imported-info-area"></span><div class="codecell-input-output">
      <div class="inputarea horizontal layout code">
        <div class="cell-gutter">
          <!-- Bounding range for vertical scrolling of icons -->
          <div class="cell-execution-container">
            <colab-run-button><template shadowrootmode="open"><!----> <div class=" cell-execution stale ">
      <button id="run-button" aria-describedby="run-button-tooltip" aria-label="Ejecutar celda" aria-disabled="false">
        <!--?lit$075548653$--><span class="execution-count"><!--?lit$075548653$-->[ ]</span>
        <span aria-hidden="true" class="cell-execution-indicator"><!--?lit$075548653$-->
<svg xmlns="http://www.w3.org/2000/svg" viewBox="0 0 24 24">
  <!--?lit$075548653$-->
  <mask id="playSymbolMask">
    <rect width="100%" height="100%" fill="white"></rect>
    <polygon points="10,8 17,12 10,16" fill="black"></polygon>
  </mask>
  <circle cx="12" cy="12" r="7.8" mask="url(#playSymbolMask)" id="filledCircle"></circle>
</svg></span>
      </button>
      <!--?lit$075548653$--><colab-tooltip-trigger for="run-button" id="run-button-tooltip" aria-hidden="true" message="Ejecutar celda (Ctrl+Enter)
la celda no se ha ejecutado en esta sesión

ejecutada por Javier Hidalgo
miércoles, 19 de marzo de 2025
se ha ejecutado en 567.129 s"><template shadowrootmode="open"><!----><!--?lit$075548653$--><!----><div><!--?lit$075548653$-->Ejecutar celda (Ctrl+Enter)</div><!----><!----><div><!--?lit$075548653$-->la celda no se ha ejecutado en esta sesión</div><!----><!----><br><!----><!----><div><!--?lit$075548653$-->ejecutada por Javier Hidalgo</div><!----><!----><div><!--?lit$075548653$-->miércoles, 19 de marzo de 2025</div><!----><!----><div><!--?lit$075548653$-->se ha ejecutado en 567.129&nbsp;s</div><!----><!--?--></template>
    </colab-tooltip-trigger>
      <!--?lit$075548653$--><!--?-->
    </div></template></colab-run-button>
          </div>
        </div>
      <div class="editor flex lazy-editor" style=""><pre class="lazy-virtualized" style="font-size: 14px; line-height: 19px;"><pre class="lazy-gutter"></pre><pre class="monaco-colorized colab colab" data-lang="notebook-python"><span><span class="mtk19">from</span><span class="mtk1">&nbsp;keras.callbacks&nbsp;</span><span class="mtk19">import</span><span class="mtk1">&nbsp;EarlyStopping,&nbsp;ModelCheckpoint,&nbsp;ReduceLROnPlateau</span></span><br><span><span></span></span><br><span><span class="mtk1">batch_size&nbsp;=&nbsp;</span><span class="mtk12">32</span></span><br><span><span class="mtk1">epochs&nbsp;=&nbsp;</span><span class="mtk12">15</span></span><br><span><span class="mtk1">m4.</span><span class="mtk15">compile</span><span class="mtk1">(optimizer=</span><span class="mtk21">'adam'</span><span class="mtk1">,&nbsp;loss=</span><span class="mtk21">'categorical_crossentropy'</span><span class="mtk1">,&nbsp;metrics=[</span><span class="mtk21">'accuracy'</span><span class="mtk1">,&nbsp;masked_accuracy])</span></span><br><span><span></span></span><br><span><span class="mtk1">early_stopping&nbsp;=&nbsp;EarlyStopping(monitor=</span><span class="mtk21">'val_loss'</span><span class="mtk1">,&nbsp;patience=</span><span class="mtk12">5</span><span class="mtk1">,&nbsp;restore_best_weights=</span><span class="mtk6">True</span><span class="mtk1">)</span></span><br><span><span class="mtk1">checkpoint&nbsp;=&nbsp;ModelCheckpoint(</span><span class="mtk21">'best_model.h5'</span><span class="mtk1">,&nbsp;monitor=</span><span class="mtk21">'val_loss'</span><span class="mtk1">,&nbsp;save_best_only=</span><span class="mtk6">True</span><span class="mtk1">,&nbsp;verbose=</span><span class="mtk12">1</span><span class="mtk1">)</span></span><br><span><span></span></span><br><span><span class="mtk1">history&nbsp;=&nbsp;m4.fit(pssm_train,&nbsp;dssp_train_pssm,&nbsp;batc</span><span class="mtk1">h_size=batch_size,</span></span><br><span><span class="mtk1">&nbsp;&nbsp;&nbsp;&nbsp;&nbsp;&nbsp;&nbsp;&nbsp;&nbsp;&nbsp;&nbsp;&nbsp;&nbsp;&nbsp;&nbsp;&nbsp;&nbsp;&nbsp;&nbsp;&nbsp;&nbsp;&nbsp;&nbsp;&nbsp;&nbsp;epochs=epochs,&nbsp;validation</span><span class="mtk1">_data=(pssm_val,&nbsp;dssp_val_pssm),</span></span><br><span><span class="mtk1">&nbsp;&nbsp;&nbsp;&nbsp;&nbsp;&nbsp;&nbsp;&nbsp;&nbsp;&nbsp;&nbsp;&nbsp;&nbsp;&nbsp;&nbsp;&nbsp;&nbsp;&nbsp;&nbsp;&nbsp;&nbsp;&nbsp;&nbsp;&nbsp;&nbsp;callbacks=[early_stopping</span><span class="mtk1">])</span></span><br></pre><colab-read-only-cell-placeholder style="display: none;"><template shadowrootmode="open"><!----><div><!--?lit$075548653$-->Empieza a programar o a <span tabindex="0" role="button" class="link">crear código</span> con IA.</div></template></colab-read-only-cell-placeholder></pre></div><colab-form class="formview vertical layout flex"><div class="widget-area vertical layout"></div></colab-form></div>
    <div class="output" aria-label="Salida de la celda 62" role="region"><!----> <div class="output-header"> </div>
        <div class="output-content">
          <div class="output-info"><colab-output-info><template shadowrootmode="open"><!----><md-icon-button data-aria-expanded="false" data-aria-haspopup="menu" aria-describedby="button-output-actions-tooltip" data-aria-label="Acciones de salida de las celdas de código" id="button-output-actions" value=""><template shadowrootmode="open" shadowrootdelegatesfocus><!----><button id="button" class="icon-button  standard " aria-label="Acciones de salida de las celdas de código" aria-haspopup="menu" aria-expanded="false">
        <!--?lit$075548653$--><md-focus-ring part="focus-ring" for="button" aria-hidden="true"><template shadowrootmode="open"><!----></template></md-focus-ring>
        <!--?lit$075548653$--><md-ripple aria-hidden="true"><template shadowrootmode="open"><!----><div class="surface   "></div></template></md-ripple>
        <!--?lit$075548653$--><span class="icon"><slot></slot></span>
        <!--?lit$075548653$-->
        <!--?lit$075548653$--><span class="touch"></span>
  </button></template>
        <md-icon aria-hidden="true"><template shadowrootmode="open"><!----><slot></slot></template><!--?lit$075548653$--><svg viewBox="0 0 24 24"><!--?lit$075548653$--><path d="m15.9 3.07c-4.32 0.0742-8.64-0.0355-13 0.0568-1.37 0.307-1.74 2.1-1.41 3.26 0.469 0.606 1.86 0.384 1.66-0.525 0.0448-0.329-0.183-0.93 0.354-0.766h13.3v1.53h1.71c0.0709-1.13 0.141-2.62-0.968-3.3-0.511-0.264-1.11-0.252-1.67-0.259zm2.94 6.84v4.87c1.62-1.62 3.24-3.24 4.87-4.87h-4.87zm0 0h-1.71v3.43l1.57 1.57c0.32-1.65 0.0556-3.34 0.135-5zm-1.71 3.43v-3.43h-3.43c1.14 1.14 2.29 2.29 3.43 3.43zm1.4 4.27h-1.71v1.48h-13.6v-1.48h-1.71c-0.0473 1.15-0.16 2.72 1.09 3.29 1.47 0.506 3.02 0.0265 4.53 0.192 3.34-0.0051 6.68 0.0336 10-0.0245 1.49-0.366 1.56-2.22 1.42-3.45zm-10.1-1.12c-0.398-0.483-0.796-0.967-1.19-1.45 0.59-0.683 1.18-1.37 1.77-2.05h-8.67v-2h8.67c-0.59-0.683-1.18-1.37-1.77-2.05 0.398-0.483 0.796-0.967 1.19-1.45 1.28 1.5 2.56 3 3.84 4.5-1.28 1.5-2.56 3-3.84 4.5z"></path></svg></md-icon>
      </md-icon-button>
      <colab-tooltip-trigger aria-hidden="true" id="button-output-actions-tooltip" for="button-output-actions" message="Acciones de salida de las celdas de código"><template shadowrootmode="open"><!----><!--?lit$075548653$--><!----><div><!--?lit$075548653$-->Acciones de salida de las celdas de código</div><!----><!--?--></template></colab-tooltip-trigger></template></colab-output-info></div>
          <div class="output-iframe-container">
            <div class="output-iframe-sizer"> <div><div><colab-static-output-renderer tabindex="0" role="group"><div><div class="stream output_text"><pre>Epoch 1/15
<span style="font-weight: bold;">30/30</span><span> </span><span style="color: var(--ansi-green);">━━━━━━━━━━━━━━━━━━━━</span><span> </span><span style="font-weight: bold;">34s</span><span> 951ms/step - accuracy: 0.6995 - loss: 0.7533 - masked_accuracy: 0.4460 - val_accuracy: 0.9138 - val_loss: 0.1934 - val_masked_accuracy: 0.5963
Epoch 2/15
</span><span style="font-weight: bold;">30/30</span><span> </span><span style="color: var(--ansi-green);">━━━━━━━━━━━━━━━━━━━━</span><span> </span><span style="font-weight: bold;">40s</span><span> 925ms/step - accuracy: 0.9162 - loss: 0.1909 - masked_accuracy: 0.6266 - val_accuracy: 0.9318 - val_loss: 0.1587 - val_masked_accuracy: 0.6802
Epoch 3/15
</span><span style="font-weight: bold;">30/30</span><span> </span><span style="color: var(--ansi-green);">━━━━━━━━━━━━━━━━━━━━</span><span> </span><span style="font-weight: bold;">28s</span><span> 926ms/step - accuracy: 0.9311 - loss: 0.1613 - masked_accuracy: 0.6921 - val_accuracy: 0.9378 - val_loss: 0.1470 - val_masked_accuracy: 0.7071
Epoch 4/15
</span><span style="font-weight: bold;">30/30</span><span> </span><span style="color: var(--ansi-green);">━━━━━━━━━━━━━━━━━━━━</span><span> </span><span style="font-weight: bold;">30s</span><span> 1s/step - accuracy: 0.9367 - loss: 0.1501 - masked_accuracy: 0.7169 - val_accuracy: 0.9414 - val_loss: 0.1394 - val_masked_accuracy: 0.7228
Epoch 5/15
</span><span style="font-weight: bold;">30/30</span><span> </span><span style="color: var(--ansi-green);">━━━━━━━━━━━━━━━━━━━━</span><span> </span><span style="font-weight: bold;">39s</span><span> 946ms/step - accuracy: 0.9402 - loss: 0.1426 - masked_accuracy: 0.7325 - val_accuracy: 0.9434 - val_loss: 0.1345 - val_masked_accuracy: 0.7314
Epoch 6/15
</span><span style="font-weight: bold;">30/30</span><span> </span><span style="color: var(--ansi-green);">━━━━━━━━━━━━━━━━━━━━</span><span> </span><span style="font-weight: bold;">41s</span><span> 951ms/step - accuracy: 0.9428 - loss: 0.1376 - masked_accuracy: 0.7439 - val_accuracy: 0.9452 - val_loss: 0.1309 - val_masked_accuracy: 0.7394
Epoch 7/15
</span><span style="font-weight: bold;">30/30</span><span> </span><span style="color: var(--ansi-green);">━━━━━━━━━━━━━━━━━━━━</span><span> </span><span style="font-weight: bold;">41s</span><span> 954ms/step - accuracy: 0.9445 - loss: 0.1334 - masked_accuracy: 0.7516 - val_accuracy: 0.9466 - val_loss: 0.1280 - val_masked_accuracy: 0.7457
Epoch 8/15
</span><span style="font-weight: bold;">30/30</span><span> </span><span style="color: var(--ansi-green);">━━━━━━━━━━━━━━━━━━━━</span><span> </span><span style="font-weight: bold;">40s</span><span> 922ms/step - accuracy: 0.9461 - loss: 0.1294 - masked_accuracy: 0.7586 - val_accuracy: 0.9475 - val_loss: 0.1257 - val_masked_accuracy: 0.7502
Epoch 9/15
</span><span style="font-weight: bold;">30/30</span><span> </span><span style="color: var(--ansi-green);">━━━━━━━━━━━━━━━━━━━━</span><span> </span><span style="font-weight: bold;">29s</span><span> 958ms/step - accuracy: 0.9475 - loss: 0.1261 - masked_accuracy: 0.7648 - val_accuracy: 0.9485 - val_loss: 0.1239 - val_masked_accuracy: 0.7550
Epoch 10/15
</span><span style="font-weight: bold;">30/30</span><span> </span><span style="color: var(--ansi-green);">━━━━━━━━━━━━━━━━━━━━</span><span> </span><span style="font-weight: bold;">41s</span><span> 955ms/step - accuracy: 0.9486 - loss: 0.1232 - masked_accuracy: 0.7700 - val_accuracy: 0.9492 - val_loss: 0.1226 - val_masked_accuracy: 0.7582
Epoch 11/15
</span><span style="font-weight: bold;">30/30</span><span> </span><span style="color: var(--ansi-green);">━━━━━━━━━━━━━━━━━━━━</span><span> </span><span style="font-weight: bold;">28s</span><span> 952ms/step - accuracy: 0.9498 - loss: 0.1206 - masked_accuracy: 0.7751 - val_accuracy: 0.9497 - val_loss: 0.1214 - val_masked_accuracy: 0.7605
Epoch 12/15
</span><span style="font-weight: bold;">30/30</span><span> </span><span style="color: var(--ansi-green);">━━━━━━━━━━━━━━━━━━━━</span><span> </span><span style="font-weight: bold;">41s</span><span> 949ms/step - accuracy: 0.9507 - loss: 0.1181 - masked_accuracy: 0.7795 - val_accuracy: 0.9500 - val_loss: 0.1206 - val_masked_accuracy: 0.7622
Epoch 13/15
</span><span style="font-weight: bold;">30/30</span><span> </span><span style="color: var(--ansi-green);">━━━━━━━━━━━━━━━━━━━━</span><span> </span><span style="font-weight: bold;">41s</span><span> 965ms/step - accuracy: 0.9518 - loss: 0.1159 - masked_accuracy: 0.7844 - val_accuracy: 0.9504 - val_loss: 0.1200 - val_masked_accuracy: 0.7644
Epoch 14/15
</span><span style="font-weight: bold;">30/30</span><span> </span><span style="color: var(--ansi-green);">━━━━━━━━━━━━━━━━━━━━</span><span> </span><span style="font-weight: bold;">43s</span><span> 1s/step - accuracy: 0.9524 - loss: 0.1141 - masked_accuracy: 0.7872 - val_accuracy: 0.9505 - val_loss: 0.1197 - val_masked_accuracy: 0.7646
Epoch 15/15
</span><span style="font-weight: bold;">30/30</span><span> </span><span style="color: var(--ansi-green);">━━━━━━━━━━━━━━━━━━━━</span><span> </span><span style="font-weight: bold;">39s</span><span> 968ms/step - accuracy: 0.9533 - loss: 0.1123 - masked_accuracy: 0.7912 - val_accuracy: 0.9507 - val_loss: 0.1194 - val_masked_accuracy: 0.7656
</span></pre></div></div><div></div></colab-static-output-renderer></div></div></div>
          </div>
        </div></div></div><colab-cell-next-steps><template shadowrootmode="open"><!----></template></colab-cell-next-steps></div></div><div class="add-cell">
      <hr>
    </div></div><div class="cell code code-has-output" id="cell-CJ8i7EhiaiRG" tabindex="-1" role="region" aria-label="Celda 63: Celda de código; " style=""><div class="agent-focus-label">
      <md-icon aria-hidden="true"><template shadowrootmode="open"><!----><slot></slot></template>spark</md-icon>
      <!--?lit$075548653$-->Gemini
    </div><div class="cell-tag-editor sticky"></div><div class="cell-toolbar sticky"></div><div class="main-content" elevation="0"><div class="cell-contents"><div class="cell-mask"></div><span class="imported-info-area"></span><div class="codecell-input-output">
      <div class="inputarea horizontal layout code">
        <div class="cell-gutter">
          <!-- Bounding range for vertical scrolling of icons -->
          <div class="cell-execution-container">
            <colab-run-button><template shadowrootmode="open"><!----> <div class=" cell-execution stale ">
      <button id="run-button" aria-describedby="run-button-tooltip" aria-label="Ejecutar celda" aria-disabled="false">
        <!--?lit$075548653$--><span class="execution-count"><!--?lit$075548653$-->[ ]</span>
        <span aria-hidden="true" class="cell-execution-indicator"><!--?lit$075548653$-->
<svg xmlns="http://www.w3.org/2000/svg" viewBox="0 0 24 24">
  <!--?lit$075548653$-->
  <mask id="playSymbolMask">
    <rect width="100%" height="100%" fill="white"></rect>
    <polygon points="10,8 17,12 10,16" fill="black"></polygon>
  </mask>
  <circle cx="12" cy="12" r="7.8" mask="url(#playSymbolMask)" id="filledCircle"></circle>
</svg></span>
      </button>
      <!--?lit$075548653$--><colab-tooltip-trigger for="run-button" id="run-button-tooltip" aria-hidden="true" message="Ejecutar celda (Ctrl+Enter)
la celda no se ha ejecutado en esta sesión

ejecutada por Javier Hidalgo
miércoles, 19 de marzo de 2025
se ha ejecutado en 0.698 s"><template shadowrootmode="open"><!----><!--?lit$075548653$--><!----><div><!--?lit$075548653$-->Ejecutar celda (Ctrl+Enter)</div><!----><!----><div><!--?lit$075548653$-->la celda no se ha ejecutado en esta sesión</div><!----><!----><br><!----><!----><div><!--?lit$075548653$-->ejecutada por Javier Hidalgo</div><!----><!----><div><!--?lit$075548653$-->miércoles, 19 de marzo de 2025</div><!----><!----><div><!--?lit$075548653$-->se ha ejecutado en 0.698&nbsp;s</div><!----><!--?--></template>
    </colab-tooltip-trigger>
      <!--?lit$075548653$--><!--?-->
    </div></template></colab-run-button>
          </div>
        </div>
      <div class="editor flex lazy-editor" style=""><pre class="lazy-virtualized" style="font-size: 14px; line-height: 19px;"><pre class="lazy-gutter"></pre><pre class="monaco-colorized colab colab" data-lang="notebook-python"><span><span class="mtk1">abl_dropout&nbsp;=&nbsp;get_metrics(m4,&nbsp;history,&nbsp;pssm_test,&nbsp;</span><span class="mtk1">dssp_test_pssm)</span></span><br></pre><colab-read-only-cell-placeholder style="display: none;"><template shadowrootmode="open"><!----><div><!--?lit$075548653$-->Empieza a programar o a <span tabindex="0" role="button" class="link">crear código</span> con IA.</div></template></colab-read-only-cell-placeholder></pre></div><colab-form class="formview vertical layout flex"><div class="widget-area vertical layout"></div></colab-form></div>
    <div class="output" aria-label="Salida de la celda 63" role="region"><!----> <div class="output-header"> </div>
        <div class="output-content">
          <div class="output-info"><colab-output-info><template shadowrootmode="open"><!----><md-icon-button data-aria-expanded="false" data-aria-haspopup="menu" aria-describedby="button-output-actions-tooltip" data-aria-label="Acciones de salida de las celdas de código" id="button-output-actions" value=""><template shadowrootmode="open" shadowrootdelegatesfocus><!----><button id="button" class="icon-button  standard " aria-label="Acciones de salida de las celdas de código" aria-haspopup="menu" aria-expanded="false">
        <!--?lit$075548653$--><md-focus-ring part="focus-ring" for="button" aria-hidden="true"><template shadowrootmode="open"><!----></template></md-focus-ring>
        <!--?lit$075548653$--><md-ripple aria-hidden="true"><template shadowrootmode="open"><!----><div class="surface   "></div></template></md-ripple>
        <!--?lit$075548653$--><span class="icon"><slot></slot></span>
        <!--?lit$075548653$-->
        <!--?lit$075548653$--><span class="touch"></span>
  </button></template>
        <md-icon aria-hidden="true"><template shadowrootmode="open"><!----><slot></slot></template><!--?lit$075548653$--><svg viewBox="0 0 24 24"><!--?lit$075548653$--><path d="m15.9 3.07c-4.32 0.0742-8.64-0.0355-13 0.0568-1.37 0.307-1.74 2.1-1.41 3.26 0.469 0.606 1.86 0.384 1.66-0.525 0.0448-0.329-0.183-0.93 0.354-0.766h13.3v1.53h1.71c0.0709-1.13 0.141-2.62-0.968-3.3-0.511-0.264-1.11-0.252-1.67-0.259zm2.94 6.84v4.87c1.62-1.62 3.24-3.24 4.87-4.87h-4.87zm0 0h-1.71v3.43l1.57 1.57c0.32-1.65 0.0556-3.34 0.135-5zm-1.71 3.43v-3.43h-3.43c1.14 1.14 2.29 2.29 3.43 3.43zm1.4 4.27h-1.71v1.48h-13.6v-1.48h-1.71c-0.0473 1.15-0.16 2.72 1.09 3.29 1.47 0.506 3.02 0.0265 4.53 0.192 3.34-0.0051 6.68 0.0336 10-0.0245 1.49-0.366 1.56-2.22 1.42-3.45zm-10.1-1.12c-0.398-0.483-0.796-0.967-1.19-1.45 0.59-0.683 1.18-1.37 1.77-2.05h-8.67v-2h8.67c-0.59-0.683-1.18-1.37-1.77-2.05 0.398-0.483 0.796-0.967 1.19-1.45 1.28 1.5 2.56 3 3.84 4.5-1.28 1.5-2.56 3-3.84 4.5z"></path></svg></md-icon>
      </md-icon-button>
      <colab-tooltip-trigger aria-hidden="true" id="button-output-actions-tooltip" for="button-output-actions" message="Acciones de salida de las celdas de código"><template shadowrootmode="open"><!----><!--?lit$075548653$--><!----><div><!--?lit$075548653$-->Acciones de salida de las celdas de código</div><!----><!--?--></template></colab-tooltip-trigger></template></colab-output-info></div>
          <div class="output-iframe-container">
            <div class="output-iframe-sizer"> <div><div><colab-static-output-renderer tabindex="0" role="group"><div><div class="stream output_text"><pre><span style="font-weight: bold;">4/4</span><span> </span><span style="color: var(--ansi-green);">━━━━━━━━━━━━━━━━━━━━</span><span> </span><span style="font-weight: bold;">1s</span><span> 170ms/step - accuracy: 0.9488 - loss: 0.1227 - masked_accuracy: 0.7679
</span></pre></div></div><div></div></colab-static-output-renderer></div></div></div>
          </div>
        </div></div></div><colab-cell-next-steps><template shadowrootmode="open"><!----></template></colab-cell-next-steps></div></div><div class="add-cell">
      <hr>
    </div></div><div class="cell code code-has-output" id="cell-YPeDU98RfAhI" tabindex="-1" role="region" aria-label="Celda 64: Celda de código; " style=""><div class="agent-focus-label">
      <md-icon aria-hidden="true"><template shadowrootmode="open"><!----><slot></slot></template>spark</md-icon>
      <!--?lit$075548653$-->Gemini
    </div><div class="cell-tag-editor sticky"></div><div class="cell-toolbar sticky"></div><div class="main-content" elevation="0"><div class="cell-contents"><div class="cell-mask"></div><span class="imported-info-area"></span><div class="codecell-input-output">
      <div class="inputarea horizontal layout code">
        <div class="cell-gutter">
          <!-- Bounding range for vertical scrolling of icons -->
          <div class="cell-execution-container">
            <colab-run-button><template shadowrootmode="open"><!----> <div class=" cell-execution stale ">
      <button id="run-button" aria-describedby="run-button-tooltip" aria-label="Ejecutar celda" aria-disabled="false">
        <!--?lit$075548653$--><span class="execution-count"><!--?lit$075548653$-->[ ]</span>
        <span aria-hidden="true" class="cell-execution-indicator"><!--?lit$075548653$-->
<svg xmlns="http://www.w3.org/2000/svg" viewBox="0 0 24 24">
  <!--?lit$075548653$-->
  <mask id="playSymbolMask">
    <rect width="100%" height="100%" fill="white"></rect>
    <polygon points="10,8 17,12 10,16" fill="black"></polygon>
  </mask>
  <circle cx="12" cy="12" r="7.8" mask="url(#playSymbolMask)" id="filledCircle"></circle>
</svg></span>
      </button>
      <!--?lit$075548653$--><colab-tooltip-trigger for="run-button" id="run-button-tooltip" aria-hidden="true" message="Ejecutar celda (Ctrl+Enter)
la celda no se ha ejecutado en esta sesión

ejecutada por Javier Hidalgo
miércoles, 19 de marzo de 2025
se ha ejecutado en 2.788 s"><template shadowrootmode="open"><!----><!--?lit$075548653$--><!----><div><!--?lit$075548653$-->Ejecutar celda (Ctrl+Enter)</div><!----><!----><div><!--?lit$075548653$-->la celda no se ha ejecutado en esta sesión</div><!----><!----><br><!----><!----><div><!--?lit$075548653$-->ejecutada por Javier Hidalgo</div><!----><!----><div><!--?lit$075548653$-->miércoles, 19 de marzo de 2025</div><!----><!----><div><!--?lit$075548653$-->se ha ejecutado en 2.788&nbsp;s</div><!----><!--?--></template>
    </colab-tooltip-trigger>
      <!--?lit$075548653$--><!--?-->
    </div></template></colab-run-button>
          </div>
        </div>
      <div class="editor flex lazy-editor" style=""><pre class="lazy-virtualized" style="font-size: 14px; line-height: 19px;"><pre class="lazy-gutter"></pre><pre class="monaco-colorized colab colab" data-lang="notebook-python"><span><span class="mtk1">cm_metrics_abl_dropout=&nbsp;plot_confusion_matrix(m4,&nbsp;</span><span class="mtk1">pssm_test,&nbsp;dssp_test_pssm,&nbsp;suptitle=</span><span class="mtk21">'Ablation:&nbsp;Dropout'</span><span class="mtk1">,&nbsp;color=&nbsp;</span><span class="mtk21">'Reds'</span><span class="mtk1">)</span></span><br></pre><colab-read-only-cell-placeholder style="display: none;"><template shadowrootmode="open"><!----><div><!--?lit$075548653$-->Empieza a programar o a <span tabindex="0" role="button" class="link">crear código</span> con IA.</div></template></colab-read-only-cell-placeholder></pre></div><colab-form class="formview vertical layout flex"><div class="widget-area vertical layout"></div></colab-form></div>
    <div class="output" aria-label="Salida de la celda 64" role="region"><!----> <div class="output-header"> </div>
        <div class="output-content">
          <div class="output-info"><colab-output-info><template shadowrootmode="open"><!----><md-icon-button data-aria-expanded="false" data-aria-haspopup="menu" aria-describedby="button-output-actions-tooltip" data-aria-label="Acciones de salida de las celdas de código" id="button-output-actions" value=""><template shadowrootmode="open" shadowrootdelegatesfocus><!----><button id="button" class="icon-button  standard " aria-label="Acciones de salida de las celdas de código" aria-haspopup="menu" aria-expanded="false">
        <!--?lit$075548653$--><md-focus-ring part="focus-ring" for="button" aria-hidden="true"><template shadowrootmode="open"><!----></template></md-focus-ring>
        <!--?lit$075548653$--><md-ripple aria-hidden="true"><template shadowrootmode="open"><!----><div class="surface   "></div></template></md-ripple>
        <!--?lit$075548653$--><span class="icon"><slot></slot></span>
        <!--?lit$075548653$-->
        <!--?lit$075548653$--><span class="touch"></span>
  </button></template>
        <md-icon aria-hidden="true"><template shadowrootmode="open"><!----><slot></slot></template><!--?lit$075548653$--><svg viewBox="0 0 24 24"><!--?lit$075548653$--><path d="m15.9 3.07c-4.32 0.0742-8.64-0.0355-13 0.0568-1.37 0.307-1.74 2.1-1.41 3.26 0.469 0.606 1.86 0.384 1.66-0.525 0.0448-0.329-0.183-0.93 0.354-0.766h13.3v1.53h1.71c0.0709-1.13 0.141-2.62-0.968-3.3-0.511-0.264-1.11-0.252-1.67-0.259zm2.94 6.84v4.87c1.62-1.62 3.24-3.24 4.87-4.87h-4.87zm0 0h-1.71v3.43l1.57 1.57c0.32-1.65 0.0556-3.34 0.135-5zm-1.71 3.43v-3.43h-3.43c1.14 1.14 2.29 2.29 3.43 3.43zm1.4 4.27h-1.71v1.48h-13.6v-1.48h-1.71c-0.0473 1.15-0.16 2.72 1.09 3.29 1.47 0.506 3.02 0.0265 4.53 0.192 3.34-0.0051 6.68 0.0336 10-0.0245 1.49-0.366 1.56-2.22 1.42-3.45zm-10.1-1.12c-0.398-0.483-0.796-0.967-1.19-1.45 0.59-0.683 1.18-1.37 1.77-2.05h-8.67v-2h8.67c-0.59-0.683-1.18-1.37-1.77-2.05 0.398-0.483 0.796-0.967 1.19-1.45 1.28 1.5 2.56 3 3.84 4.5-1.28 1.5-2.56 3-3.84 4.5z"></path></svg></md-icon>
      </md-icon-button>
      <colab-tooltip-trigger aria-hidden="true" id="button-output-actions-tooltip" for="button-output-actions" message="Acciones de salida de las celdas de código"><template shadowrootmode="open"><!----><!--?lit$075548653$--><!----><div><!--?lit$075548653$-->Acciones de salida de las celdas de código</div><!----><!--?--></template></colab-tooltip-trigger></template></colab-output-info></div>
          <div class="output-iframe-container">
            <div class="output-iframe-sizer"> <div><div class="outputview" style="height: 532px;"><colab-dom-lifecycle-events style="display: none;"></colab-dom-lifecycle-events><iframe allow="" sandbox="allow-downloads allow-forms allow-pointer-lock allow-popups allow-popups-to-escape-sandbox allow-same-origin allow-scripts allow-storage-access-by-user-activation" src="./SSP_files/outputframe(21).html" class="" style="height: 532px;"></iframe></div></div></div>
          </div>
        </div></div></div><colab-cell-next-steps><template shadowrootmode="open"><!----></template></colab-cell-next-steps></div></div><div class="add-cell">
      <hr>
    </div></div><div class="cell text" id="cell-HJNXUMpbHhjc" tabindex="-1" role="region" aria-label="Celda 65: Celda de texto; Ablation studies comparison" style=""><div class="agent-focus-label">
      <md-icon aria-hidden="true"><template shadowrootmode="open"><!----><slot></slot></template>spark</md-icon>
      <!--?lit$075548653$-->Gemini
    </div><div class="cell-tag-editor sticky"></div><div class="cell-toolbar sticky"></div><div class="main-content" elevation="0"><div class="cell-contents"><div class="cell-mask"></div><span class="imported-info-area"></span><!----> <div class="toolbar-root"></div>
      <div class="editor-container horizontal">
        <div class="editor-root"></div>
        <div class="text-top-div">
          <div class="markdown"><span><div class="text-cell-section-header layout horizontal center"><md-icon-button class="header-section-toggle" title="Ocultar 2 celdas secundarias de Ablation studies comparison (pulsa &lt;Mayús&gt; para ocultar también las secciones del mismo nivel)" data-aria-label="Ocultar 2 celdas secundarias de Ablation studies comparison (pulsa &lt;Mayús&gt; para ocultar también las secciones del mismo nivel)" value=""><template shadowrootmode="open" shadowrootdelegatesfocus><!----><button id="button" class="icon-button  standard " aria-label="Ocultar 2 celdas secundarias de Ablation studies comparison (pulsa &lt;Mayús&gt; para ocultar también las secciones del mismo nivel)">
        <!--?lit$075548653$--><md-focus-ring part="focus-ring" for="button" aria-hidden="true"><template shadowrootmode="open"><!----></template></md-focus-ring>
        <!--?lit$075548653$--><md-ripple aria-hidden="true"><template shadowrootmode="open"><!----><div class="surface   "></div></template></md-ripple>
        <!--?lit$075548653$--><span class="icon"><slot></slot></span>
        <!--?lit$075548653$-->
        <!--?lit$075548653$--><span class="touch"></span>
  </button></template><md-icon aria-hidden="true"><template shadowrootmode="open"><!----><slot></slot></template>keyboard_arrow_down</md-icon></md-icon-button><h1>Ablation studies comparison</h1></div>
</span></div>
        </div>
      </div>

      <div class="section-header" style="display: none;">
        <colab-run-button><template shadowrootmode="open"><!----> <div class=" cell-execution ">
      <button id="run-button" aria-label="Ejecutar celda" aria-disabled="false">
        <!--?lit$075548653$--><span class="execution-count"><!--?lit$075548653$-->[ ]</span>
        <span aria-hidden="true" class="cell-execution-indicator"><!--?lit$075548653$-->
<svg xmlns="http://www.w3.org/2000/svg" viewBox="0 0 24 24">
  <!--?lit$075548653$-->
  <mask id="playSymbolMask">
    <rect width="100%" height="100%" fill="white"></rect>
    <polygon points="10,8 17,12 10,16" fill="black"></polygon>
  </mask>
  <circle cx="12" cy="12" r="7.8" mask="url(#playSymbolMask)" id="filledCircle"></circle>
</svg></span>
      </button>
      <!--?lit$075548653$-->
      <!--?lit$075548653$--><!--?-->
    </div></template></colab-run-button>
        <div class="section-header-container" title="hacer clic para mostrar">
          <md-icon aria-hidden="true"><template shadowrootmode="open"><!----><slot></slot></template>subdirectory_arrow_right</md-icon>
          <span>2 celdas ocultas</span>
        </div>
      </div></div></div><div class="add-cell">
      <hr>
    </div></div><div class="cell code code-has-output" id="cell-2oXqHri4osqT" tabindex="-1" role="region" aria-label="Celda 66: Celda de código; " style=""><div class="agent-focus-label">
      <md-icon aria-hidden="true"><template shadowrootmode="open"><!----><slot></slot></template>spark</md-icon>
      <!--?lit$075548653$-->Gemini
    </div><div class="cell-tag-editor sticky"></div><div class="cell-toolbar sticky"></div><div class="main-content" elevation="0"><div class="cell-contents"><div class="cell-mask"></div><span class="imported-info-area"></span><div class="codecell-input-output">
      <div class="inputarea horizontal layout code">
        <div class="cell-gutter">
          <!-- Bounding range for vertical scrolling of icons -->
          <div class="cell-execution-container">
            <colab-run-button><template shadowrootmode="open"><!----> <div class=" cell-execution stale ">
      <button id="run-button" aria-describedby="run-button-tooltip" aria-label="Ejecutar celda" aria-disabled="false">
        <!--?lit$075548653$--><span class="execution-count"><!--?lit$075548653$-->[ ]</span>
        <span aria-hidden="true" class="cell-execution-indicator"><!--?lit$075548653$-->
<svg xmlns="http://www.w3.org/2000/svg" viewBox="0 0 24 24">
  <!--?lit$075548653$-->
  <mask id="playSymbolMask">
    <rect width="100%" height="100%" fill="white"></rect>
    <polygon points="10,8 17,12 10,16" fill="black"></polygon>
  </mask>
  <circle cx="12" cy="12" r="7.8" mask="url(#playSymbolMask)" id="filledCircle"></circle>
</svg></span>
      </button>
      <!--?lit$075548653$--><colab-tooltip-trigger for="run-button" id="run-button-tooltip" aria-hidden="true" message="Ejecutar celda (Ctrl+Enter)
la celda no se ha ejecutado en esta sesión

ejecutada por Javier Hidalgo
miércoles, 19 de marzo de 2025
se ha ejecutado en 0.009 s"><template shadowrootmode="open"><!----><!--?lit$075548653$--><!----><div><!--?lit$075548653$-->Ejecutar celda (Ctrl+Enter)</div><!----><!----><div><!--?lit$075548653$-->la celda no se ha ejecutado en esta sesión</div><!----><!----><br><!----><!----><div><!--?lit$075548653$-->ejecutada por Javier Hidalgo</div><!----><!----><div><!--?lit$075548653$-->miércoles, 19 de marzo de 2025</div><!----><!----><div><!--?lit$075548653$-->se ha ejecutado en 0.009&nbsp;s</div><!----><!--?--></template>
    </colab-tooltip-trigger>
      <!--?lit$075548653$--><!--?-->
    </div></template></colab-run-button>
          </div>
        </div>
      <div class="editor flex lazy-editor" style=""><pre class="lazy-virtualized" style="font-size: 14px; line-height: 19px;"><pre class="lazy-gutter"></pre><pre class="monaco-colorized colab colab" data-lang="notebook-python"><span><span class="mtk1">metrics_ablations&nbsp;=&nbsp;[metrics_model2,&nbsp;abl_conv,&nbsp;abl</span><span class="mtk1">_bidir,&nbsp;abl_dense,&nbsp;abl_dropout]</span></span><br><span><span class="mtk1">labels&nbsp;=&nbsp;[</span><span class="mtk21">'Model'</span><span class="mtk1">,&nbsp;</span><span class="mtk21">'Ablation:&nbsp;Convolutional&nbsp;layer'</span><span class="mtk1">,&nbsp;</span><span class="mtk21">'Ablation:&nbsp;Bidirectional'</span><span class="mtk1">,&nbsp;</span><span class="mtk21">'Ablation:&nbsp;Dense&nbsp;Layer'</span><span class="mtk1">,&nbsp;</span><span class="mtk21">'Ablation:&nbsp;Dropout'</span><span class="mtk1">]</span></span><br><span><span class="mtk1">plot_model_comparison(metrics_ablations,&nbsp;labels,&nbsp;t</span><span class="mtk1">itle=&nbsp;</span><span class="mtk21">'Ablations&nbsp;studies&nbsp;metrics&nbsp;comparison'</span><span class="mtk1">)</span></span><br></pre><colab-read-only-cell-placeholder style="display: none;"><template shadowrootmode="open"><!----><div><!--?lit$075548653$-->Empieza a programar o a <span tabindex="0" role="button" class="link">crear código</span> con IA.</div></template></colab-read-only-cell-placeholder></pre></div><colab-form class="formview vertical layout flex"><div class="widget-area vertical layout"></div></colab-form></div>
    <div class="output" aria-label="Salida de la celda 66" role="region"><!----> <div class="output-header"> </div>
        <div class="output-content">
          <div class="output-info"><colab-output-info><template shadowrootmode="open"><!----><md-icon-button data-aria-expanded="false" data-aria-haspopup="menu" aria-describedby="button-output-actions-tooltip" data-aria-label="Acciones de salida de las celdas de código" id="button-output-actions" value=""><template shadowrootmode="open" shadowrootdelegatesfocus><!----><button id="button" class="icon-button  standard " aria-label="Acciones de salida de las celdas de código" aria-haspopup="menu" aria-expanded="false">
        <!--?lit$075548653$--><md-focus-ring part="focus-ring" for="button" aria-hidden="true"><template shadowrootmode="open"><!----></template></md-focus-ring>
        <!--?lit$075548653$--><md-ripple aria-hidden="true"><template shadowrootmode="open"><!----><div class="surface   "></div></template></md-ripple>
        <!--?lit$075548653$--><span class="icon"><slot></slot></span>
        <!--?lit$075548653$-->
        <!--?lit$075548653$--><span class="touch"></span>
  </button></template>
        <md-icon aria-hidden="true"><template shadowrootmode="open"><!----><slot></slot></template><!--?lit$075548653$--><svg viewBox="0 0 24 24"><!--?lit$075548653$--><path d="m15.9 3.07c-4.32 0.0742-8.64-0.0355-13 0.0568-1.37 0.307-1.74 2.1-1.41 3.26 0.469 0.606 1.86 0.384 1.66-0.525 0.0448-0.329-0.183-0.93 0.354-0.766h13.3v1.53h1.71c0.0709-1.13 0.141-2.62-0.968-3.3-0.511-0.264-1.11-0.252-1.67-0.259zm2.94 6.84v4.87c1.62-1.62 3.24-3.24 4.87-4.87h-4.87zm0 0h-1.71v3.43l1.57 1.57c0.32-1.65 0.0556-3.34 0.135-5zm-1.71 3.43v-3.43h-3.43c1.14 1.14 2.29 2.29 3.43 3.43zm1.4 4.27h-1.71v1.48h-13.6v-1.48h-1.71c-0.0473 1.15-0.16 2.72 1.09 3.29 1.47 0.506 3.02 0.0265 4.53 0.192 3.34-0.0051 6.68 0.0336 10-0.0245 1.49-0.366 1.56-2.22 1.42-3.45zm-10.1-1.12c-0.398-0.483-0.796-0.967-1.19-1.45 0.59-0.683 1.18-1.37 1.77-2.05h-8.67v-2h8.67c-0.59-0.683-1.18-1.37-1.77-2.05 0.398-0.483 0.796-0.967 1.19-1.45 1.28 1.5 2.56 3 3.84 4.5-1.28 1.5-2.56 3-3.84 4.5z"></path></svg></md-icon>
      </md-icon-button>
      <colab-tooltip-trigger aria-hidden="true" id="button-output-actions-tooltip" for="button-output-actions" message="Acciones de salida de las celdas de código"><template shadowrootmode="open"><!----><!--?lit$075548653$--><!----><div><!--?lit$075548653$-->Acciones de salida de las celdas de código</div><!----><!--?--></template></colab-tooltip-trigger></template></colab-output-info></div>
          <div class="output-iframe-container">
            <div class="output-iframe-sizer"> <div style="height: 176px;"><div class="outputview" style="height: 211px;"><colab-dom-lifecycle-events style="display: none;"></colab-dom-lifecycle-events><iframe allow="" sandbox="allow-downloads allow-forms allow-pointer-lock allow-popups allow-popups-to-escape-sandbox allow-same-origin allow-scripts allow-storage-access-by-user-activation" src="./SSP_files/outputframe(22).html" class="" style="height: 211px;"></iframe></div></div></div>
          </div>
        </div></div></div><colab-cell-next-steps><template shadowrootmode="open"><!----></template></colab-cell-next-steps></div></div><div class="add-cell">
      <hr>
    </div></div><div class="cell code code-has-output" id="cell-sK5hzzhuwSKh" tabindex="-1" role="region" aria-label="Celda 67: Celda de código; " style=""><div class="agent-focus-label">
      <md-icon aria-hidden="true"><template shadowrootmode="open"><!----><slot></slot></template>spark</md-icon>
      <!--?lit$075548653$-->Gemini
    </div><div class="cell-tag-editor sticky"></div><div class="cell-toolbar sticky"></div><div class="main-content" elevation="0"><div class="cell-contents"><div class="cell-mask"></div><span class="imported-info-area"></span><div class="codecell-input-output">
      <div class="inputarea horizontal layout code">
        <div class="cell-gutter">
          <!-- Bounding range for vertical scrolling of icons -->
          <div class="cell-execution-container">
            <colab-run-button><template shadowrootmode="open"><!----> <div class=" cell-execution stale ">
      <button id="run-button" aria-describedby="run-button-tooltip" aria-label="Ejecutar celda" aria-disabled="false">
        <!--?lit$075548653$--><span class="execution-count"><!--?lit$075548653$-->[ ]</span>
        <span aria-hidden="true" class="cell-execution-indicator"><!--?lit$075548653$-->
<svg xmlns="http://www.w3.org/2000/svg" viewBox="0 0 24 24">
  <!--?lit$075548653$-->
  <mask id="playSymbolMask">
    <rect width="100%" height="100%" fill="white"></rect>
    <polygon points="10,8 17,12 10,16" fill="black"></polygon>
  </mask>
  <circle cx="12" cy="12" r="7.8" mask="url(#playSymbolMask)" id="filledCircle"></circle>
</svg></span>
      </button>
      <!--?lit$075548653$--><colab-tooltip-trigger for="run-button" id="run-button-tooltip" aria-hidden="true" message="Ejecutar celda (Ctrl+Enter)
la celda no se ha ejecutado en esta sesión

ejecutada por Javier Hidalgo
miércoles, 19 de marzo de 2025
se ha ejecutado en 0.139 s"><template shadowrootmode="open"><!----><!--?lit$075548653$--><!----><div><!--?lit$075548653$-->Ejecutar celda (Ctrl+Enter)</div><!----><!----><div><!--?lit$075548653$-->la celda no se ha ejecutado en esta sesión</div><!----><!----><br><!----><!----><div><!--?lit$075548653$-->ejecutada por Javier Hidalgo</div><!----><!----><div><!--?lit$075548653$-->miércoles, 19 de marzo de 2025</div><!----><!----><div><!--?lit$075548653$-->se ha ejecutado en 0.139&nbsp;s</div><!----><!--?--></template>
    </colab-tooltip-trigger>
      <!--?lit$075548653$--><!--?-->
    </div></template></colab-run-button>
          </div>
        </div>
      <div class="editor flex lazy-editor" style=""><pre class="lazy-virtualized" style="font-size: 14px; line-height: 19px;"><pre class="lazy-gutter"></pre><pre class="monaco-colorized colab colab" data-lang="notebook-python"><span><span class="mtk1">cm_metrics_ablations&nbsp;=&nbsp;[cm_metrics_m2,&nbsp;cm_metrics_</span><span class="mtk1">abl_con,&nbsp;cm_metrics_abl_bidir,&nbsp;cm_metrics_abl_dens</span><span class="mtk1">e,&nbsp;cm_metrics_abl_dropout]</span></span><br><span><span class="mtk1">labels&nbsp;=&nbsp;[</span><span class="mtk21">'Model'</span><span class="mtk1">,&nbsp;</span><span class="mtk21">'Ablation:&nbsp;Convolutional&nbsp;layer'</span><span class="mtk1">,&nbsp;</span><span class="mtk21">'Ablation:&nbsp;Bidirectional'</span><span class="mtk1">,&nbsp;</span><span class="mtk21">'Ablation:&nbsp;Dense&nbsp;Layer'</span><span class="mtk1">,&nbsp;</span><span class="mtk21">'Ablation:&nbsp;Dropout'</span><span class="mtk1">]</span></span><br><span><span class="mtk1">plot_model_comparison(cm_metrics_ablations,&nbsp;labels</span><span class="mtk1">,&nbsp;title=&nbsp;</span><span class="mtk21">'Ablation&nbsp;studies'</span><span class="mtk1">,&nbsp;cm=&nbsp;</span><span class="mtk6">True</span><span class="mtk1">)</span></span><br></pre><colab-read-only-cell-placeholder style="display: none;"><template shadowrootmode="open"><!----><div><!--?lit$075548653$-->Empieza a programar o a <span tabindex="0" role="button" class="link">crear código</span> con IA.</div></template></colab-read-only-cell-placeholder></pre></div><colab-form class="formview vertical layout flex"><div class="widget-area vertical layout"></div></colab-form></div>
    <div class="output" aria-label="Salida de la celda 67" role="region"><!----> <div class="output-header"> </div>
        <div class="output-content">
          <div class="output-info"><colab-output-info><template shadowrootmode="open"><!----><md-icon-button data-aria-expanded="false" data-aria-haspopup="menu" aria-describedby="button-output-actions-tooltip" data-aria-label="Acciones de salida de las celdas de código" id="button-output-actions" value=""><template shadowrootmode="open" shadowrootdelegatesfocus><!----><button id="button" class="icon-button  standard " aria-label="Acciones de salida de las celdas de código" aria-haspopup="menu" aria-expanded="false">
        <!--?lit$075548653$--><md-focus-ring part="focus-ring" for="button" aria-hidden="true"><template shadowrootmode="open"><!----></template></md-focus-ring>
        <!--?lit$075548653$--><md-ripple aria-hidden="true"><template shadowrootmode="open"><!----><div class="surface   "></div></template></md-ripple>
        <!--?lit$075548653$--><span class="icon"><slot></slot></span>
        <!--?lit$075548653$-->
        <!--?lit$075548653$--><span class="touch"></span>
  </button></template>
        <md-icon aria-hidden="true"><template shadowrootmode="open"><!----><slot></slot></template><!--?lit$075548653$--><svg viewBox="0 0 24 24"><!--?lit$075548653$--><path d="m15.9 3.07c-4.32 0.0742-8.64-0.0355-13 0.0568-1.37 0.307-1.74 2.1-1.41 3.26 0.469 0.606 1.86 0.384 1.66-0.525 0.0448-0.329-0.183-0.93 0.354-0.766h13.3v1.53h1.71c0.0709-1.13 0.141-2.62-0.968-3.3-0.511-0.264-1.11-0.252-1.67-0.259zm2.94 6.84v4.87c1.62-1.62 3.24-3.24 4.87-4.87h-4.87zm0 0h-1.71v3.43l1.57 1.57c0.32-1.65 0.0556-3.34 0.135-5zm-1.71 3.43v-3.43h-3.43c1.14 1.14 2.29 2.29 3.43 3.43zm1.4 4.27h-1.71v1.48h-13.6v-1.48h-1.71c-0.0473 1.15-0.16 2.72 1.09 3.29 1.47 0.506 3.02 0.0265 4.53 0.192 3.34-0.0051 6.68 0.0336 10-0.0245 1.49-0.366 1.56-2.22 1.42-3.45zm-10.1-1.12c-0.398-0.483-0.796-0.967-1.19-1.45 0.59-0.683 1.18-1.37 1.77-2.05h-8.67v-2h8.67c-0.59-0.683-1.18-1.37-1.77-2.05 0.398-0.483 0.796-0.967 1.19-1.45 1.28 1.5 2.56 3 3.84 4.5-1.28 1.5-2.56 3-3.84 4.5z"></path></svg></md-icon>
      </md-icon-button>
      <colab-tooltip-trigger aria-hidden="true" id="button-output-actions-tooltip" for="button-output-actions" message="Acciones de salida de las celdas de código"><template shadowrootmode="open"><!----><!--?lit$075548653$--><!----><div><!--?lit$075548653$-->Acciones de salida de las celdas de código</div><!----><!--?--></template></colab-tooltip-trigger></template></colab-output-info></div>
          <div class="output-iframe-container">
            <div class="output-iframe-sizer"> <div style="height: 545px;"><div class="outputview" style="height: 449px;"><colab-dom-lifecycle-events style="display: none;"></colab-dom-lifecycle-events><iframe allow="" sandbox="allow-downloads allow-forms allow-pointer-lock allow-popups allow-popups-to-escape-sandbox allow-same-origin allow-scripts allow-storage-access-by-user-activation" src="./SSP_files/outputframe(23).html" class="" style="height: 449px;"></iframe></div></div></div>
          </div>
        </div></div></div><colab-cell-next-steps><template shadowrootmode="open"><!----></template></colab-cell-next-steps></div></div><div class="add-cell">
      <hr>
    </div></div></div>
              </div>
            </div>
          <section class="sidebar" aria-label="Comentarios" style="display: none;"></section></div>
          <!--?lit$075548653$--> <div class="footer-links">
      <a target="_blank" href="https://colab.research.google.com/signup?utm_source=footer&amp;utm_medium=link&amp;utm_campaign=footer_links">
        <!--?lit$075548653$-->Productos de pago de Colab
      </a>
      -
      <a href="https://colab.research.google.com/cancel-subscription" target="_blank">
        <!--?lit$075548653$-->Cancelar contratos
      </a>
    </div>
        </div>
      </colab-shaded-scroller>
      <div class="notebook-scroll-shadow" style="box-shadow: rgba(0, 0, 0, 0.15) 0px 4px 4px -2px inset;"></div>
    </div></colab-tab></div>
  </div></colab-tab-pane>
      <colab-resizer class="sn-resize no-tabs" style="height: 40%"><div class="resizer-thumb"></div>
        <!--?lit$075548653$--><colab-tab-pane class="layout vertical grow no-tabs" align="horizontal"><!----> <div class="layout vertical grow">
    <div class="tab-pane-header layout horizontal noshrink">
      <md-tabs><template shadowrootmode="open"><!---->
      <div class="tabs">
        <slot></slot>
      </div>
      <md-divider part="divider"><template shadowrootmode="open"><!----></template></md-divider>
    </template></md-tabs>
      <div class="layout grow"></div>
      <!--?lit$075548653$--> <md-icon-button data-aria-expanded="false" data-aria-haspopup="menu" title="Más acciones de pestañas" data-aria-label="Más acciones de pestañas" value=""><template shadowrootmode="open" shadowrootdelegatesfocus><!----><button id="button" class="icon-button  standard " aria-label="Más acciones de pestañas" aria-haspopup="menu" aria-expanded="false">
        <!--?lit$075548653$--><md-focus-ring part="focus-ring" for="button" aria-hidden="true"><template shadowrootmode="open"><!----></template></md-focus-ring>
        <!--?lit$075548653$--><md-ripple aria-hidden="true"><template shadowrootmode="open"><!----><div class="surface   "></div></template></md-ripple>
        <!--?lit$075548653$--><span class="icon"><slot></slot></span>
        <!--?lit$075548653$-->
        <!--?lit$075548653$--><span class="touch"></span>
  </button></template>
    <md-icon aria-hidden="true"><template shadowrootmode="open"><!----><slot></slot></template>more_horiz</md-icon>
  </md-icon-button>
    </div>
    <div class="layout vertical grow tab-pane-container"> </div>
  </div></colab-tab-pane>
      </colab-resizer>
    </div>
      <colab-resizer style="width: 37%" class="we-resize"><div class="resizer-thumb"></div>
        <!--?lit$075548653$--> <div class="layout vertical tab-pane-parent">
      <!--?lit$075548653$--><colab-tab-pane class="layout vertical grow focused" align="horizontal"><!----> <div class="layout vertical grow">
    <div class="tab-pane-header layout horizontal noshrink">
      <md-tabs><template shadowrootmode="open"><!---->
      <div class="tabs">
        <slot></slot>
      </div>
      <md-divider part="divider"><template shadowrootmode="open"><!----></template></md-divider>
    </template><md-primary-tab noink="" aria-labelledby="tab-title-w3LtIUva98EH" draggable="true" tabindex="0" class="selected-tab" md-tab="" active=""><template shadowrootmode="open"><!----><div class="button" role="presentation">
      <md-focus-ring part="focus-ring" inward="" aria-hidden="true"><template shadowrootmode="open"><!----></template></md-focus-ring>
      <md-elevation part="elevation" aria-hidden="true"><template shadowrootmode="open"><!----><span class="shadow"></span></template></md-elevation>
      <md-ripple aria-hidden="true"><template shadowrootmode="open"><!----><div class="surface   "></div></template></md-ripple>
      <div role="presentation" class="content  has-label stacked ">
        <slot name="icon"></slot>
        <slot></slot>
        <!--?lit$075548653$--><div class="indicator"></div>
      </div>
      <!--?lit$075548653$-->
    </div></template>
          <div class="colab-tab-header">
            <span class="colab-tab-title" id="tab-title-w3LtIUva98EH"><!--?lit$075548653$--><!--?lit$075548653$-->Notas de la versión<!--?--></span>
            <!--?lit$075548653$--><md-icon-button class="tab-close" data-aria-label="Cerrar" title="Cerrar" value=""><template shadowrootmode="open" shadowrootdelegatesfocus><!----><button id="button" class="icon-button  standard " aria-label="Cerrar">
        <!--?lit$075548653$--><md-focus-ring part="focus-ring" for="button" aria-hidden="true"><template shadowrootmode="open"><!----></template></md-focus-ring>
        <!--?lit$075548653$--><md-ripple aria-hidden="true"><template shadowrootmode="open"><!----><div class="surface   "></div></template></md-ripple>
        <!--?lit$075548653$--><span class="icon"><slot></slot></span>
        <!--?lit$075548653$-->
        <!--?lit$075548653$--><span class="touch"></span>
  </button></template><md-icon aria-hidden="true"><template shadowrootmode="open"><!----><slot></slot></template>close</md-icon></md-icon-button>
          </div>
        </md-primary-tab></md-tabs>
      <div class="layout grow"></div>
      <!--?lit$075548653$--> <md-icon-button data-aria-expanded="false" data-aria-haspopup="menu" title="Más acciones de pestañas" data-aria-label="Más acciones de pestañas" value=""><template shadowrootmode="open" shadowrootdelegatesfocus><!----><button id="button" class="icon-button  standard " aria-label="Más acciones de pestañas" aria-haspopup="menu" aria-expanded="false">
        <!--?lit$075548653$--><md-focus-ring part="focus-ring" for="button" aria-hidden="true"><template shadowrootmode="open"><!----></template></md-focus-ring>
        <!--?lit$075548653$--><md-ripple aria-hidden="true"><template shadowrootmode="open"><!----><div class="surface   "></div></template></md-ripple>
        <!--?lit$075548653$--><span class="icon"><slot></slot></span>
        <!--?lit$075548653$-->
        <!--?lit$075548653$--><span class="touch"></span>
  </button></template>
    <md-icon aria-hidden="true"><template shadowrootmode="open"><!----><slot></slot></template>more_horiz</md-icon>
  </md-icon-button>
    </div>
    <div class="layout vertical grow tab-pane-container"> <colab-tab class="layout vertical grow selected-tab relnotes-tab"><colab-shaded-scroller shade-bottom="" class="layout vertical grow" style="box-shadow: rgba(0, 0, 0, 0.15) 0px 4px 4px -7px inset, rgba(0, 0, 0, 0.15) 0px -4px 4px -2px inset;">
        <div><span><p>Please follow our <a href="https://www.google.com/url?q=https%3A%2F%2Fmedium.com%2Fgoogle-colab" target="_blank" rel="nofollow" aria-label="blog El enlace se abrirá en una pestaña nueva">blog</a> to see more
information about new features, tips and tricks, and featured notebooks such as
<a href="https://www.google.com/url?q=https%3A%2F%2Fmedium.com%2Fgoogle-colab%2Fnoteworthy-notebooks-3-analyzing-a-bank-failure-with-colab-d23b372de313" target="_blank" rel="nofollow" aria-label="Analyzing a Bank Failure with Colab El enlace se abrirá en una pestaña nueva">Analyzing a Bank Failure with Colab</a>.</p>
<h3>2025-05-12</h3>
<ul>
<li><p>Pro+ Subscriptions give 600 CCUs now: <a href="https://www.google.com/url?q=https%3A%2F%2Fx.com%2FGoogleColab%2Fstatus%2F1913312272967209357" target="_blank" rel="nofollow" aria-label="https://x.com/GoogleColab/status/1913312272967209357 El enlace se abrirá en una pestaña nueva">https://x.com/GoogleColab/status/1913312272967209357</a></p>
</li>
<li><p>Launched Colab's fastest deep learning accelerator: v6e-1 (Trillium) TPUs!! 2x the high bandwidth memory as v5e-1 (32GB) and a whopping peak rating of 918 BF16 TFLOPS (nearly 3x A100)!️ Try them out with JAX &amp; Flax in our <a href="https://www.google.com/url?q=https%3A%2F%2Fcolab.sandbox.google.com%2Fnotebooks%2Fjax_tpu_v6e1.ipynb" target="_blank" rel="nofollow" aria-label="example notebook El enlace se abrirá en una pestaña nueva">example notebook</a></p>
</li>
<li><p>Enabled UTF-8 mode by default for Python</p>
</li>
<li><p>Added CUDA.jl and Pluto.jl for Julia</p>
</li>
<li><p>Enabled OpenCL for LightGBM</p>
</li>
<li><p>Python package upgrades</p>
<ul>
<li>accelerate 1.5.2 -&gt; 1.6.0</li>
<li>bigframes 1.42.0 -&gt; 2.3.0</li>
<li>bokeh 3.6.3 -&gt; 3.7.2</li>
<li>cudf-cu12 24.12.0 -&gt; 25.2.1</li>
<li>google-genai 1.9.0 -&gt; 1.14.0</li>
<li>highspy 1.9.0 -&gt; 1.10.0</li>
<li>holidays 0.69 -&gt; 0.72</li>
<li>huggingface-hub 0.30.1 -&gt; 0.31.1</li>
<li>lxml 5.3.1 -&gt; 5.4.0</li>
<li>nx_cugraph_cu12 24.12.0 -&gt; 25.2.1</li>
<li>openai 1.70.0 -&gt; 1.78.0</li>
<li>peft 0.14.0 -&gt; 0.15.2</li>
<li>polars 1.14.0 -&gt; 1.21.0</li>
<li>pyomo 6.8.2 -&gt; 6.9.2</li>
<li>scipy 1.14.1 -&gt; 1.15.3</li>
<li>sentence-transformers 3.4.1 -&gt; 4.1.0</li>
<li>transformers 4.50.3 -&gt; 4.51.3</li>
<li>urllib3 2.3.0 -&gt; 2.4.0</li>
<li>xarray 2025.1.2 -&gt; 2025.3.1</li>
</ul>
</li>
<li><p>Python package inclusions</p>
<ul>
<li>dataproc-spark-connect 0.7.3</li>
<li>libpysal 4.13.0</li>
<li>lightgbm</li>
<li>stumpy 1.13.0</li>
<li>torchao 0.10.0</li>
<li>torchtune 0.6.1</li>
<li>tsfresh 0.21.0</li>
</ul>
</li>
</ul>
<h3>2025-04-09</h3>
<ul>
<li>Colab Data Science Agent <a href="https://www.google.com/url?q=https%3A%2F%2Fdevelopers.googleblog.com%2Fen%2Fdata-science-agent-in-colab-with-gemini%2F" target="_blank" rel="nofollow" aria-label="launched El enlace se abrirá en una pestaña nueva">launched</a>!</li>
<li>Julia language runtimes available with GPU and TPU support <a href="https://github.com/googlecolab/colabtools/issues/5151" target="_blank" rel="nofollow" aria-label="GitHub El enlace se abrirá en una pestaña nueva">GitHub</a>.</li>
<li>Now your popular Kaggle datasets are cached for quick retrieval.</li>
<li>Upgraded Colab runtimes to Python 3.11.</li>
</ul>
<p>Python package upgrades</p>
<ul>
<li>bigframes 1.29.0 -&gt; 1.42.0</li>
<li>TensorFlow 2.17.1 -&gt; 2.18.0</li>
<li>tensorboard 2.17.1 -&gt; 2.18.0</li>
<li>keras 3.5.0 -&gt; 3.8.0</li>
<li>torch 2.5.1 -&gt; 2.6.0</li>
<li>torchaudio 2.5.1 -&gt; 2.6.0</li>
<li>torchvision 0.20.1 -&gt; 0.21.0</li>
<li>fastai 2.7.18 -&gt; 2.7.19</li>
<li>ipykernel 5.5.6 -&gt; 6.17.1</li>
<li>google-genai 0.3.0 -&gt; 1.9.0</li>
<li>google-auth 2.27.0 -&gt; 2.38.0</li>
<li>Tornado 6.3.3 -&gt; 6.4.2</li>
<li>jax 0.4.33 -&gt; 0.5.2</li>
<li>accelerate 1.2.1 -&gt; 1.5.2</li>
<li>transformers 4.47.1 -&gt; 4.50.3</li>
<li>openai 1.57.4 -&gt; 1.70.0</li>
<li>kagglehub 0.3.6 -&gt; 0.3.11</li>
<li>earthengine-api 1.4.3 -&gt; 1.5.9</li>
<li>google-cloud-bigquery 3.29.0 -&gt; 3.31.0</li>
<li>bigquery-magics 0.8.1 -&gt; 0.9.0</li>
<li>NumPy 1.26.4 -&gt; 2.0.2</li>
</ul>
<p>Python package inclusions</p>
<ul>
<li>cuml-cu12 24.12.0</li>
</ul>
<h3>2025-01-13</h3>
<ul>
<li>Released version 1.2.0 of the (<a href="https://github.com/googlecolab/open_in_colab" target="_blank" rel="nofollow" aria-label="Open in Colab Chrome Extension El enlace se abrirá en una pestaña nueva">Open in Colab Chrome Extension</a>).</li>
<li>Released minimizable comments with indicators next to cell.</li>
<li>TPU v5e-1 Runtimes are now available for selection (<a href="https://www.google.com/url?q=https%3A%2F%2Ftwitter.com%2FGoogleColab%2Fstatus%2F1869458629230993619" target="_blank" rel="nofollow" aria-label="tweet El enlace se abrirá en una pestaña nueva">tweet</a>).</li>
<li>GPU prices were decreased (<a href="https://www.google.com/url?q=https%3A%2F%2Ftwitter.com%2FGoogleColab%2Fstatus%2F1869458629230993619" target="_blank" rel="nofollow" aria-label="tweet El enlace se abrirá en una pestaña nueva">tweet</a>).</li>
</ul>
<p>Python package upgrades</p>
<ul>
<li>accelerate 1.1.1 -&gt; 1.2.1</li>
<li>aiohttp 3.10.10 -&gt; 3.11.11</li>
<li>altair 4.2.2 -&gt; 5.5.0</li>
<li>bigframes 1.25.0 -&gt; 1.29.0</li>
<li>cmake 3.30.5 -&gt; 3.31.2</li>
<li>cvxpy 1.5.3 -&gt; 3.6.0</li>
<li>earthengine-api 1.2.0 -&gt; 1.4.3</li>
<li>folium 0.18.0 -&gt; 0.19.3</li>
<li>holidays 0.60 -&gt; 0.63</li>
<li>huggingface-hub 0.26.2 -&gt; 0.27.0</li>
<li>jsonpickle 3.4.2 -&gt; 4.0.1</li>
<li>kagglehub 0.3.3 -&gt; 0.3.6</li>
<li>keras 3.4.1 -&gt; 3.5.0</li>
<li>matplotlib 3.8.0 -&gt; 3.10.0</li>
<li>openai 1.54.3 -&gt; 1.57.4</li>
<li>pymc 5.18.0 -&gt; 5.19.1</li>
<li>safetensors 0.4.5 -&gt; 0.5.0</li>
<li>scikit-image 0.24.0 -&gt; 0.25.0</li>
<li>scikit-learn 1.5.2 -&gt; 1.6.0</li>
<li>sentence-transformers 3.2.1 -&gt; 3.3.1</li>
<li>tensorflow 2.17.0 -&gt; 2.17.1</li>
<li>torch 2.5.0 -&gt; 2.5.1</li>
<li>torchaudio 2.5.0 -&gt; 2.5.1</li>
<li>torchvision 0.20.0 -&gt; 0.20.1</li>
<li>transformers 4.46.2 -&gt; 4.47.1</li>
<li>wandb 0.18.6 -&gt; 0.19.1</li>
<li>xarray 2024.10.0 -&gt; 2024.11.0</li>
</ul>
<p>Python package inclusions</p>
<ul>
<li>google-genai 0.3.0</li>
</ul>
<h3>2024-11-11</h3>
<ul>
<li>Users can now import Gemini API keys from AI Studio into their user secrets,
all in Colab
(<a href="https://www.google.com/url?q=https%3A%2F%2Fx.com%2FOfficialLoganK%2Fstatus%2F1854584985849618812" target="_blank" rel="nofollow" aria-label="tweet El enlace se abrirá en una pestaña nueva">tweet</a>).</li>
<li>Increased limit to 1000 characters for requests to Gemini in Chat and
Generate windows.</li>
<li>Improved saving notebook to GitHub flow.</li>
<li>Updated Gemini spark icon to be colorful.</li>
<li><a href="https://www.google.com/url?q=https%3A%2F%2Fdocs.astral.sh%2Fuv%2F" target="_blank" rel="nofollow" aria-label="uv El enlace se abrirá en una pestaña nueva"><code>uv</code></a> is pre-installed on the PATH for faster
package installs.</li>
<li>Fixed bugs<ul>
<li>Dropdown text for GitHub repository not visible
<a href="https://github.com/googlecolab/colabtools/issues/4901" target="_blank" rel="nofollow" aria-label="#4901 El enlace se abrirá en una pestaña nueva">#4901</a>.</li>
<li>Pre-installed California housing dataset README not correct
<a href="https://github.com/googlecolab/colabtools/issues/4862" target="_blank" rel="nofollow" aria-label="#4862 El enlace se abrirá en una pestaña nueva">#4862</a>.</li>
<li>Backend execution error for scheduled notebook
<a href="https://github.com/googlecolab/colabtools/issues/4850" target="_blank" rel="nofollow" aria-label="#4850 El enlace se abrirá en una pestaña nueva">#4850</a>.</li>
<li>Drive File Stream issues
<a href="https://github.com/googlecolab/colabtools/issues/3441" target="_blank" rel="nofollow" aria-label="#3441 El enlace se abrirá en una pestaña nueva">#3441</a>.</li>
<li>Linking to the signup page does not preserve the authuser parameter.</li>
<li>Error messages in Gemini chat are not polished.</li>
<li>Clicking in Gemini chat feedback causes jitters the UI.</li>
<li>Hovering over a table of contents entry would show the menu icons for
all entries.</li>
<li>Surveys display over open dialogs.</li>
<li>Playground mode banner not shown on mobile.</li>
</ul>
</li>
</ul>
<p>Python package upgrades</p>
<ul>
<li>accelerate 0.34.2 -&gt; 1.1.1</li>
<li>arviz 0.19.0 -&gt; 0.20.0</li>
<li>bigframes 1.18.0 -&gt; 1.25.0</li>
<li>bigquery-magics 0.2.0 -&gt; 0.4.0</li>
<li>bokeh 3.4.3 -&gt; 3.6.1</li>
<li>blosc 2.0.0 -&gt; 2.7.1</li>
<li>cloudpickle 2.2.1 -&gt; 3.1.0</li>
<li>cudf-cu12 24.4.1 -&gt; 24.10.1</li>
<li>dask 2024.8.0 -&gt; 24.10.0</li>
<li>debugpy 1.6.6 -&gt; 1.8.0</li>
<li>earthengine-api 1.0.0 -&gt; 1.2.0</li>
<li>folium 0.17.0 -&gt; 0.18.0</li>
<li>gscfs 2024.6.1 -&gt; 2024.10.0</li>
<li>geemap 0.34.3 -&gt; 0.35.1</li>
<li>holidays 0.57 -&gt; 0.60</li>
<li>huggingface-hub 0.24.7 -&gt; 0.26.2</li>
<li>kagglehub 0.3.0 -&gt; 0.3.3</li>
<li>lightgbm 4.4.0 -&gt; 4.5.0</li>
<li>lxml 4.9.4 -&gt; 5.3.0</li>
<li>matplotlib 3.7.1 -&gt; 3.8.0</li>
<li>mizani 0.11.4 -&gt; 0.13.0</li>
<li>networkx 3.3 -&gt; 3.4.2</li>
<li>nltk 3.8.1 -&gt; 3.9.1</li>
<li>pandas 2.1.4 -&gt; 2.2.2</li>
<li>pillow 10.4.0 -&gt; 11.0.0</li>
<li>plotnine 0.13.6 -&gt; 0.14.1</li>
<li>polars 1.6.0 -&gt; 1.9.0</li>
<li>protobuf 3.20.3 -&gt; 4.25.5</li>
<li>pyarrow 14.0.2 -&gt; 17.0.0</li>
<li>pydrive2 1.20.0 -&gt; 1.21.1</li>
<li>pymc 5.16.2 -&gt; 5.18.0</li>
<li>torch 2.4.1 -&gt; 2.5.0</li>
<li>torchaudio 2.4.1 -&gt; 2.5.0</li>
<li>torchvision 0.19.1 -&gt; 0.20.0</li>
<li>transformers 4.44.2 -&gt; 4.46.2</li>
<li>xarray 2024.9.0 -&gt; 2024.10.0</li>
</ul>
<p>Python package inclusions</p>
<ul>
<li>diffusers 0.31.0</li>
<li>gitpython 3.1.43</li>
<li>langchain 0.3.7</li>
<li>openai 1.54.3</li>
<li>pygit2 1.16.0</li>
<li>pyspark 3.5.3</li>
<li>sentence-transformers 3.2.1</li>
<li>timm 1.0.11</li>
<li>wandb 0.18.6</li>
</ul>
<p>Library and driver upgrades</p>
<ul>
<li>drivefs upgraded from 89.0.2 to 98.0.0</li>
</ul>
<h3>2024-09-23</h3>
<ul>
<li>Improved code snippet search</li>
<li>Updated Marketplace image and public local runtime container</li>
<li>Improved the look-and-feel of interactive form dropdowns and checkboxes</li>
<li>Fixed bugs<ul>
<li>activating the skip link caused the notebook to scroll out of view</li>
<li>toggling a checkbox too much caused the page to crash</li>
<li>lightning fast drags could cause orphaned tabs</li>
<li>custom widgets snippet would show for local runtimes</li>
</ul>
</li>
</ul>
<p>Python package upgrades</p>
<ul>
<li>accelerate 0.32.1 -&gt; 0.34.2</li>
<li>arviz 0.18.0 -&gt; 0.19</li>
<li>autograd 1.6.2 -&gt; 1.7.0</li>
<li>bigframes 1.14.0 -&gt; 1.18.0</li>
<li>dask 2024.7.1 -&gt; 2024.8.0</li>
<li>distributed 2024.7.1 -&gt; 2024.8.0</li>
<li>duckdb 0.10.3 -&gt; 1.1.0</li>
<li>earthengine-api 0.1.416 -&gt; 1.0.0</li>
<li>flax 0.8.4 -&gt; 0.8.5</li>
<li>gdown 5.1.0 -&gt; 5.2.0</li>
<li>geemap 0.33.1 -&gt; 0.34.3</li>
<li>geopandas 0.14.4 -&gt; 1.0.1</li>
<li>google-cloud-aiplatform 1.59.0 -&gt; 1.67.1</li>
<li>google-cloud-bigquery-storage 2.25.0 -&gt; 2.26.0</li>
<li>holidays 0.54 -&gt; 0.57</li>
<li>huggingface-hub 0.23.5 -&gt; 0.24.7</li>
<li>ibis-framework 8.0.0 -&gt; 9.2.0</li>
<li>jax 0.4.26 -&gt; 0.4.33</li>
<li>jaxlib 0.4.26 -&gt; 0.4.33</li>
<li>kagglehub 0.2.9 -&gt; 0.3.0</li>
<li>lightgbm 4.4.0 -&gt; 4.5.0</li>
<li>matplotlib-venn 0.11.10 -&gt; 1.1.1</li>
<li>mizani 0.9.3 -&gt; 0.11.4</li>
<li>Pillow 9.4.0 -&gt; 10.4.0</li>
<li>plotly 5.15.0 -&gt; 5.24.1</li>
<li>plotnine 0.12.4 -&gt; 0.13.6</li>
<li>polars 0.20.2 -&gt; 1.6.0</li>
<li>progressbar2 4.2.0 -&gt; 4.5.0</li>
<li>PyDrive2 1.6.3 -&gt; 1.20.0</li>
<li>pymc 5.10.4 -&gt; 5.16.2</li>
<li>pytensor 2.18.6 -&gt; 2.25.4</li>
<li>scikit-image 0.23.2 -&gt; 0.24.0</li>
<li>scikit-learn 1.3.2 -&gt; 1.5.2</li>
<li>torch 2.3.1 -&gt; 2.4.1</li>
<li>torchaudio 2.3.1 -&gt; 2.4.1</li>
<li>torchvision 0.18.1 -&gt; 0.19.1</li>
<li>transformers 4.42.4 -&gt; 4.44.2</li>
<li>urllib3 2.0.7 -&gt; 2.2.3</li>
<li>xarray 2024.6.0 -&gt; 2024.9.0</li>
</ul>
<p>Python package inclusions</p>
<ul>
<li>bigquery-magics 0.2.0</li>
</ul>
<h3>2024-08-20</h3>
<ul>
<li><p>TPU memory usage and utilization can now be checked with <code>!tpu-info</code></p>
</li>
<li><p>Gemini Chat responses are now grounded in relevant sources</p>
</li>
<li><p>Added a new "Create Gemini API key" link in the user secrets panel</p>
</li>
<li><p>Added a new "Gemini: Creating a prompt" snippet and touched up the existing
"Gemini: Connecting to Gemini" snippet</p>
</li>
<li><p>Added the ability to specify custom placeholder text for various interactive
form params (see
<a href="https://colab.research.google.com/notebooks/forms.ipynb" target="_blank" rel="nofollow" aria-label="examples El enlace se abrirá en una pestaña nueva">examples</a>)</p>
</li>
<li><p>Keyboard navigation a11y improvements to comments UI</p>
</li>
<li><p>Various minor rendering improvements to interactive forms UI</p>
</li>
<li><p>A11y improvements for the run button and header</p>
</li>
<li><p>Updated tooltip styling</p>
</li>
<li><p>A11y improvements for the file browser’s disk usage bar</p>
</li>
<li><p>On mobile, tooltips now trigger on long press</p>
</li>
<li><p>On mobile, release notes updates will no longer display automatically</p>
</li>
<li><p>Python package upgrades</p>
<ul>
<li>astropy 5.3.4 -&gt; 6.1.2</li>
<li>bigframes 1.11.1 -&gt; 1.14.0</li>
<li>bokeh 3.3.4 -&gt; 3.4.3</li>
<li>dask 2023.8.1 -&gt; 2024.7.1</li>
<li>earthengine-api 0.1.412 -&gt; 0.1.416</li>
<li>geopandas 0.13.2 -&gt; 0.14.4</li>
<li>kagglehub 0.2.8 -&gt; 0.2.9</li>
<li>keras 2.15.0 -&gt; 3.4.1</li>
<li>lightgbm 4.1.0 -&gt; 4.4.0</li>
<li>malloy 2023.1067 -&gt; 2024.1067</li>
<li>numba 0.58.1 -&gt; 0.60.0</li>
<li>numpy 1.25.2 -&gt; 1.26.4</li>
<li>opencv-python 4.8.0.76 -&gt; 4.10.0.84</li>
<li>pandas 2.0.3 -&gt; 2.1.4</li>
<li>pandas-gbq 0.19.2 -&gt; 0.23.1</li>
<li>panel 1.3.8 -&gt; 1.4.5</li>
<li>requests 2.31.0 -&gt; 2.32.3</li>
<li>scikit-learn 1.2.2. -&gt; 1.3.2</li>
<li>scipy 1.11.4 -&gt; 1.13.1</li>
<li>tensorboard 2.15.2 -&gt; 2.17.0</li>
<li>tensorflow 2.15.0 -&gt; 2.17.0</li>
<li>tf-keras 2.15.1 -&gt; 2.17.0</li>
<li>xarray 2023.7.0 -&gt; 2024.6.0</li>
<li>xgboost 2.0.3 -&gt; 2.1.1</li>
</ul>
</li>
<li><p>Python package inclusions</p>
<ul>
<li>einops 0.8.0</li>
</ul>
</li>
</ul>
<h3>2024-07-22</h3>
<ul>
<li><p>You can now embed Google sheets directly into Colab to streamline interactions with data with InteractiveSheet.</p>
<p>Example:</p>
<pre><code><span><span class="mtk1">from&nbsp;google.colab&nbsp;import&nbsp;sheets</span></span><br><span><span class="mtk1">sh&nbsp;=&nbsp;sheets.InteractiveSheet()</span></span><br><span><span class="mtk1">df&nbsp;=&nbsp;sh.as_df()</span></span></code></pre></li>
<li><p>Fixed multiple rendering bugs in cell editors with wide text content (i.e. text is no longer hidden or clipped)</p>
</li>
<li><p>Fixed multiple accessibility issues in Colab's comments feature (e.g. proper keyboard focus management, added accessibility landmarks, etc)</p>
</li>
<li><p>Fixed bug where AI code generation would fail for extremely long broken code snippets</p>
</li>
<li><p>Fixed multiple scrollbar bugs in the user secrets panel</p>
</li>
<li><p>Added the ability for workspace admin to purchase Colab Pro and Pro+ Subscriptions for users</p>
</li>
<li><p>Fixed bug where user secrets couldn’t be moved to a tab</p>
</li>
<li><p>Fixed several focus management accessibility issues in tabs, the table of contents, the left toolbar, and the run button</p>
</li>
<li><p>Fixed bug where overflowing cells may be omitted when pasting from Google Sheets</p>
</li>
<li><p>Fixed bug where the generate code button did not activate on touch</p>
</li>
<li><p>Python package upgrades</p>
<ul>
<li>bigframes 1.9.0 -&gt; 1.11.1</li>
<li>cvxpy 1.3.4 -&gt; 1.5.2</li>
<li>earthengine-api 0.1.408 -&gt; 0.1.412</li>
<li>google-api-core 2.11.1 -&gt; 2.19.1</li>
<li>google-api-python-client 2.84.0 -&gt; 2.137.0</li>
<li>google-cloud-aiplatform 1.56.0 -&gt; 1.59.0</li>
<li>google-cloud-bigquery 3.21.0 -&gt; 3.25.0</li>
<li>google-cloud-core 2.3.3 -&gt; 2.4.1</li>
<li>google-cloud-datastore 2.15.2 -&gt; 2.19.0</li>
<li>google-cloud-firestore 2.11.1 -&gt; 2.16.1</li>
<li>google-cloud-functions 1.13.3 -&gt; 1.16.4</li>
<li>google-generativeai 0.5.4 -&gt; 0.7.2</li>
<li>kagglehub 0.2.5 -&gt; 0.2.8</li>
<li>pip 23.1.2 -&gt; 24.1.2</li>
<li>setuptools 67.7.2 -&gt; 71.0.4</li>
<li>sympy 1.12.1 -&gt; 1.13.1</li>
<li>torch 2.3.0 -&gt; 2.3.1</li>
<li>transformers 4.41.2 -&gt; 4.42.4</li>
</ul>
</li>
<li><p>Python package inclusions</p>
<ul>
<li>accelerate 0.32.1</li>
</ul>
</li>
</ul>
<h3>2024-06-18</h3>
<ul>
<li><p>Inline AI completions are now available to users on the free-of-charge tier</p>
</li>
<li><p>Reduced latency for LSP and terminal connections</p>
</li>
<li><p>Improved quality of inline completions</p>
</li>
<li><p>Visual improvements to switch controls across Colab</p>
</li>
<li><p>Various bug fixes, performance and a11y improvements to the user secrets
panel</p>
</li>
<li><p>Improved tooltip UX behavior</p>
</li>
<li><p>Improved behavior when copying data from Google Sheets and pasting in Colab</p>
</li>
<li><p>Scroll to cell fixes for single tabbed view and jump to cell command</p>
</li>
<li><p>Improved tab header behavior</p>
</li>
<li><p>A11y improvements for notebook-focused cells</p>
</li>
<li><p>Python package upgrades</p>
<ul>
<li>torch 2.2.1 -&gt; 2.3.0</li>
<li>torchaudio 2.2.1 -&gt; 2.3.0</li>
<li>torchvision 0.17.1 -&gt; 0.18.0</li>
<li>torchtext 0.17.1 -&gt; 0.18.0</li>
<li>google-cloud-aiplatform 1.51.0 -&gt; 1.56.0</li>
<li>bigframes 1.5.0 -&gt; 1.8.0</li>
<li>regex 2023.12.25 -&gt; 2024.5.15</li>
</ul>
</li>
</ul>
<h3>2024-05-13</h3>
<ul>
<li><p>Code actions are now supported to automatically improve and refactor code. Code actions can be triggered by the keyboard shortcut "Ctrl/⌘ + ."</p>
</li>
<li><p>Python package upgrades</p>
<ul>
<li>bigframes 1.0.0 -&gt; 1.5.0</li>
<li>google-cloud-aiplatform 1.47.0 -&gt; 1.51.0</li>
<li>jax[tpu] 0.4.23 -&gt; 0.4.26</li>
</ul>
</li>
<li><p>Python package inclusions</p>
<ul>
<li>cudf 24.4.1</li>
</ul>
</li>
</ul>
<h3>2024-04-15</h3>
<ul>
<li><p>TPU v2 runtime is now available</p>
</li>
<li><p>L4 runtime is now available for paid users</p>
</li>
<li><p>New distributed fine-tuning Gemma tutorial on TPUs
(<a href="https://github.com/googlecolab/colabtools/blob/main/notebooks/Gemma_Distributed_Fine_tuning_on_TPU.ipynb" target="_blank" rel="nofollow" aria-label="GitHub El enlace se abrirá en una pestaña nueva">GitHub</a>)</p>
</li>
<li><p>Symbol rename is now supported with keyboard shortcut F2</p>
</li>
<li><p>Fixed bug causing inability to re-upload deleted files</p>
</li>
<li><p>Fixed breaking bug in colabtools %upload_files_async</p>
</li>
<li><p>Added syntax highlighting to %%writefile cells</p>
</li>
<li><p>Cuda dependencies that come with Torch are cached for faster 
downloads for packages that require Torch and its dependencies (<a href="https://github.com/googlecolab/colabtools/issues/4491" target="_blank" rel="nofollow" aria-label="GitHub issue El enlace se abrirá en una pestaña nueva">GitHub issue</a>)</p>
</li>
<li><p>Python package upgrades</p>
<ul>
<li>bigframes 0.24.0 -&gt; 1.0.0</li>
<li>duckdb 0.9.2 -&gt; 0.10.1</li>
<li>google-cloud-aiplatform 1.43.0 -&gt; 1.47.0</li>
<li>jax 0.4.23 -&gt; 0.4.26</li>
</ul>
</li>
</ul>
<h3>2024-03-13</h3>
<ul>
<li><p>Fixed bug that sometimes caused UserSecrets to move / disappear</p>
</li>
<li><p>Improved messaging for mounting drive in an unsupported environment
(<a href="https://github.com/googlecolab/colabtools/issues/4375" target="_blank" rel="nofollow" aria-label="GitHub issue El enlace se abrirá en una pestaña nueva">GitHub issue</a>)</p>
</li>
<li><p>Python package upgrades</p>
<ul>
<li>torch 2.1.0 -&gt; 2.2.1</li>
<li>torchaudio 2.1.0 -&gt; 2.2.1</li>
<li>torchvision 0.16.0 -&gt; 0.17.1</li>
<li>torchtext 0.16.0 -&gt; 0.17.1</li>
<li>PyMC 5.7.2 -&gt; 5.10.4</li>
<li>BigFrames 0.21.0 -&gt; 0.24.0</li>
<li>google-cloud-aiplatform 1.42.1 -&gt; 1.43.0</li>
<li>tornado 6.3.2 -&gt; 6.3.3</li>
</ul>
</li>
</ul>
<h3>2024-02-21</h3>
<ul>
<li><p>Try out Gemma on
<a href="https://colab.research.google.com/github/google/generative-ai-docs/blob/main/site/en/gemma/docs/lora_tuning.ipynb" target="_blank" rel="nofollow" aria-label="Colab El enlace se abrirá en una pestaña nueva">Colab</a>!</p>
</li>
<li><p>Allow unicode in form text inputs</p>
</li>
<li><p>Display documentation and link to source when displaying functions</p>
</li>
<li><p>Display image-like ndarrays as images</p>
</li>
<li><p>Improved UX around quick charts and execution error suggestions</p>
</li>
<li><p>Released Marketplace image for the month of February
(<a href="https://github.com/googlecolab/colabtools/issues/4254" target="_blank" rel="nofollow" aria-label="GitHub issue El enlace se abrirá en una pestaña nueva">GitHub issue</a>)</p>
</li>
<li><p>Python package upgrades</p>
<ul>
<li>bigframes 0.19.2 -&gt; 0.21.0</li>
<li>regex 2023.6.3 -&gt; 2023.12.25</li>
<li>spacy 3.6.1 -&gt; 3.7.4</li>
<li>beautifulsoup4 4.11.2 -&gt; 4.12.3</li>
<li>tensorflow-probability 0.22.0 -&gt; 0.23.0</li>
<li>google-cloud-language 2.9.1 -&gt; 2.13.1</li>
<li>google-cloud-aiplatform 1.39.0 -&gt; 1.42.1</li>
<li>transformers 4.35.2 -&gt; 4..37.2</li>
<li>pyarrow 10.0.1 -&gt; 14.0.2</li>
</ul>
</li>
</ul>
<h3>2024-01-29</h3>
<ul>
<li><p>New
<a href="https://www.google.com/url?q=https%3A%2F%2Fwww.kaggle.com%2Fdiscussions%2Fproduct-feedback%2F470030" target="_blank" rel="nofollow" aria-label="Kaggle Notebooks &lt;&gt; Colab updates El enlace se abrirá en una pestaña nueva">Kaggle Notebooks &lt;&gt; Colab updates</a>!
Now you can:</p>
<ul>
<li>Import directly from Colab without having to download/re-upload</li>
<li>Upload via link, by pasting Google Drive or Colab URLs</li>
<li>Export &amp; run Kaggle Notebooks on Colab with 1 click</li>
</ul>
</li>
<li><p>Try these notebooks that talk to Gemini:</p>
<ul>
<li><a href="https://www.google.com/url?q=https%3A%2F%2Fcolab.sandbox.google.com%2Fgithub%2Fgooglecolab%2Fcolabtools%2Fblob%2Fmain%2Fnotebooks%2FGemini_and_Stable_Diffusion.ipynb" target="_blank" rel="nofollow" aria-label="Gemini and Stable Diffusion El enlace se abrirá en una pestaña nueva">Gemini and Stable Diffusion</a></li>
<li><a href="https://www.google.com/url?q=https%3A%2F%2Fcolab.sandbox.google.com%2Fgithub%2Fgooglecolab%2Fcolabtools%2Fblob%2Fmain%2Fnotebooks%2FLearning_with_Gemini_and_ChatGPT.ipynb" target="_blank" rel="nofollow" aria-label="Learning with Gemini and ChatGPT El enlace se abrirá en una pestaña nueva">Learning with Gemini and ChatGPT</a></li>
<li><a href="https://www.google.com/url?q=https%3A%2F%2Fcolab.sandbox.google.com%2Fgithub%2Fgooglecolab%2Fcolabtools%2Fblob%2Fmain%2Fnotebooks%2FTalk_to_Gemini_with_Google%2527s_Speech_to_Text_API.ipynb" target="_blank" rel="nofollow" aria-label="Talk to Gemini with Google&#39;s Speech to Text API El enlace se abrirá en una pestaña nueva">Talk to Gemini with Google's Speech to Text API</a></li>
<li><a href="https://www.google.com/url?q=https%3A%2F%2Fcolab.sandbox.google.com%2Fgithub%2Fgooglecolab%2Fcolabtools%2Fblob%2Fmain%2Fnotebooks%2FSell_lemonade_with_Gemini_and_Sheets.ipynb" target="_blank" rel="nofollow" aria-label="Sell lemonade with Gemini and Sheets El enlace se abrirá en una pestaña nueva">Sell lemonade with Gemini and Sheets</a></li>
<li><a href="https://www.google.com/url?q=https%3A%2F%2Fcolab.sandbox.google.com%2Fgithub%2Fgooglecolab%2Fcolabtools%2Fblob%2Fmain%2Fnotebooks%2FGenerate_images_with_Gemini_and_Vertex.ipynb" target="_blank" rel="nofollow" aria-label="Generate images with Gemini and Vertex El enlace se abrirá en una pestaña nueva">Generate images with Gemini and Vertex</a></li>
</ul>
</li>
<li><p>Python package upgrades</p>
<ul>
<li>google-cloud-aiplatform 1.38.1 -&gt; 1.39.0</li>
<li>bigframes 0.18.0 -&gt; 0.19.2</li>
<li>polars 0.17.3 -&gt; 0.20.2</li>
<li>gdown 4.6.6 -&gt; 4.7.3
(<a href="https://github.com/googlecolab/colabtools/issues/4298" target="_blank" rel="nofollow" aria-label="GitHub issue El enlace se abrirá en una pestaña nueva">GitHub issue</a>)</li>
<li>tensorflow-hub 0.15.0 -&gt; 0.16.0</li>
<li>flax 0.7.5 -&gt; 0.8.0</li>
</ul>
</li>
<li><p>Python package inclusions</p>
<ul>
<li>sentencepiece 0.1.99</li>
</ul>
</li>
</ul>
<h3>2024-01-08</h3>
<ul>
<li><p>Avoid nested scrollbars for large outputs by using
<code>google.colab.output.no_vertical_scroll()</code>
<a href="https://colab.research.google.com/gist/blois/635d82605b163fc8fbb8ae1128c7f388/no_vertical_scroll.ipynb" target="_blank" rel="nofollow" aria-label="Example notebook El enlace se abrirá en una pestaña nueva">Example notebook</a></p>
</li>
<li><p>Fix <a href="https://github.com/googlecolab/colabtools/issues/4272" target="_blank" rel="nofollow" aria-label="bug El enlace se abrirá en una pestaña nueva">bug</a> where
downloading models from Hugging Face could freeze</p>
</li>
<li><p>Python package upgrades</p>
<ul>
<li>huggingface-hub 0.19.4 -&gt; 0.20.2</li>
<li>bigframes 0.17.0 -&gt; 0.18.0</li>
</ul>
</li>
</ul>
<h3>2023-12-18</h3>
<ul>
<li><p>Expanded access to AI coding has arrived in Colab across 175 locales for all
tiers of Colab users</p>
</li>
<li><p>Improvements to display of ML-based inline completions (for eligible
Pro/Pro+ users)</p>
</li>
<li><p>Started a series of
<a href="https://github.com/googlecolab/colabtools/tree/main/notebooks" target="_blank" rel="nofollow" aria-label="notebooks El enlace se abrirá en una pestaña nueva">notebooks</a>
highlighting Gemini API capabilities</p>
</li>
<li><p>Enable ⌘/Ctrl+L to select the full line in an editor</p>
</li>
<li><p>Fixed <a href="https://github.com/googlecolab/colabtools/issues/4174" target="_blank" rel="nofollow" aria-label="bug El enlace se abrirá en una pestaña nueva">bug</a> where we
weren't correctly formatting output from multiple execution results</p>
</li>
<li><p>Python package upgrades</p>
<ul>
<li>CUDA 11.8 to CUDA 12.2</li>
<li>tensorflow 2.14.0 -&gt; 2.15.0</li>
<li>tensorboard 2.14.0 -&gt; 2.15.0</li>
<li>keras 2.14.0 -&gt; 2.15.0</li>
<li>Nvidia drivers 525.105.17 -&gt; 535.104.05</li>
<li>tensorflow-gcs-config 2.14.0 -&gt; 2.15.0</li>
<li>bigframes 0.13.0 -&gt; 0.17.0</li>
<li>geemap 0.28.2 -&gt; 0.29.6</li>
<li>pyarrow 9.0.0 -&gt; 10.0.1</li>
<li>google-generativeai 0.2.2 -&gt; 0.3.1</li>
<li>jax 0.4.20 —&gt; 0.4.23</li>
<li>jaxlib 0.4.20 —&gt; 0.4.23</li>
</ul>
</li>
<li><p>Python package inclusions</p>
<ul>
<li>kagglehub 0.1.4</li>
<li>google-cloud-aiplatform 1.38.1</li>
</ul>
</li>
</ul>
<h3>2023-11-27</h3>
<ul>
<li><p>Removed warning when calling <code>await</code> to make it render as code</p>
</li>
<li><p>Added "Run selection" to the cell context menu</p>
</li>
<li><p>Added highlighting for the <code>%%python</code> cell magic</p>
</li>
<li><p>Launched AI coding features for Pro/Pro+ users in more locales</p>
</li>
<li><p>Python package upgrades</p>
<ul>
<li>bigframes 0.12.0 -&gt; 0.13.0</li>
</ul>
</li>
<li><p>Python package inclusions</p>
<ul>
<li>transformers 4.35.2</li>
<li>google-generativeai 0.2.2</li>
</ul>
</li>
</ul>
<h3>2023-11-08</h3>
<ul>
<li><p>Launched Secrets, for safe storage of private keys on Colab
(<a href="https://www.google.com/url?q=https%3A%2F%2Ftwitter.com%2FGoogleColab%2Fstatus%2F1719798406195867814" target="_blank" rel="nofollow" aria-label="tweet El enlace se abrirá en una pestaña nueva">tweet</a>)</p>
</li>
<li><p>Fixed issue where TensorBoard would not load
(<a href="https://github.com/googlecolab/colabtools/issues/3990" target="_blank" rel="nofollow" aria-label="#3990 El enlace se abrirá en una pestaña nueva">#3990</a>)</p>
</li>
<li><p>Python package upgrades</p>
<ul>
<li>lightgbm 4.0.0 -&gt; 4.1.0</li>
<li>bigframes 0.10.0 -&gt; 0.12.0</li>
<li>bokeh 3.2.2 -&gt; 3.3.0</li>
<li>duckdb 0.8.1 -&gt; 0.9.1</li>
<li>numba 0.56.4 -&gt; 0.58.1</li>
<li>tweepy 4.13.0 -&gt; 4.14.0</li>
<li>jax 0.4.16 -&gt; 0.4.20</li>
<li>jaxlib 0.4.16 -&gt; 0.4.20</li>
</ul>
</li>
</ul>
<h3>2023-10-23</h3>
<ul>
<li><p>Updated the <strong>Open notebook</strong> dialog for better usability and support for
smaller screen sizes</p>
</li>
<li><p>Added smart paste support for data from Google Sheets for R notebooks</p>
</li>
<li><p>Enabled showing release notes in a tab</p>
</li>
<li><p>Launched AI coding features for Pro/Pro+ users in Australia 🇦🇺 Canada 🇨🇦
India 🇮🇳 and Japan 🇯🇵
(<a href="https://www.google.com/url?q=https%3A%2F%2Ftwitter.com%2FGoogleColab%2Fstatus%2F1714322243659108376" target="_blank" rel="nofollow" aria-label="tweet El enlace se abrirá en una pestaña nueva">tweet</a>)</p>
</li>
<li><p>Python package upgrades</p>
<ul>
<li>earthengine-api 0.1.357 -&gt; 0.1.375</li>
<li>flax 0.7.2 -&gt; 0.7.4</li>
<li>geemap 0.27.4 -&gt; 0.28.2</li>
<li>jax 0.4.14 -&gt; 0.4.16</li>
<li>jaxlib 0.4.14 -&gt; 0.4.16</li>
<li>keras 2.13.1 -&gt; 2.14.0</li>
<li>tensorboard 2.13.0 -&gt; 2.14.1</li>
<li>tensorflow 2.13.0 -&gt; 2.14.0</li>
<li>tensorflow-gcs-config 2.13.0 -&gt; 2.14.0</li>
<li>tensorflow-hub 0.14.0 -&gt; 0.15.0</li>
<li>tensorflow-probability 0.20.1 -&gt; 0.22.0</li>
<li>torch 2.0.1 -&gt; 2.1.0</li>
<li>torchaudio 2.0.2 -&gt; 2.1.0</li>
<li>torchtext 0.15.2 -&gt; 0.16.0</li>
<li>torchvision 0.15.2 -&gt; 0.16.0</li>
<li>xgboost 1.7.6 -&gt; 2.0.0</li>
</ul>
</li>
<li><p>Python package inclusions</p>
<ul>
<li>bigframes 0.10.0</li>
<li>malloy 2023.1056</li>
</ul>
</li>
</ul>
<h3>2023-09-22</h3>
<ul>
<li>Added the ability to scope an AI generated suggestion to a specific Pandas
dataframe
(<a href="https://www.google.com/url?q=https%3A%2F%2Ftwitter.com%2FGoogleColab%2Fstatus%2F1699880260056322462" target="_blank" rel="nofollow" aria-label="tweet El enlace se abrirá en una pestaña nueva">tweet</a>)</li>
<li>Added Colab link previews to Docs
(<a href="https://www.google.com/url?q=https%3A%2F%2Ftwitter.com%2FGoogleColab%2Fstatus%2F1701684666972205243" target="_blank" rel="nofollow" aria-label="tweet El enlace se abrirá en una pestaña nueva">tweet</a>)</li>
<li>Added smart paste support for data from Google Sheets</li>
<li>Increased font size of dropdowns in interactive forms</li>
<li>Improved rendering of the notebook when printing</li>
<li>Python package upgrades<ul>
<li>tensorflow 2.12.0 -&gt; 2.13.0</li>
<li>tensorboard 2.12.3 -&gt; 2.13.0</li>
<li>keras 2.12.0 -&gt; 2.13.1</li>
<li>tensorflow-gcs-config 2.12.0 -&gt; 2.13.</li>
<li>scipy 1.10.1-&gt; 1.11.2</li>
<li>cython 0.29.6 -&gt; 3.0.2</li>
</ul>
</li>
<li>Python package inclusions<ul>
<li>geemap 0.26.0</li>
</ul>
</li>
</ul>
<h3>2023-08-18</h3>
<ul>
<li>Added "Change runtime type" to the menu in the connection button</li>
<li>Improved auto-reconnection to an already running notebook
(<a href="https://github.com/googlecolab/colabtools/issues/3764" target="_blank" rel="nofollow" aria-label="#3764 El enlace se abrirá en una pestaña nueva">#3764</a>)</li>
<li>Increased the specs of our highmem machines for Pro users</li>
<li>Fixed <code>add-apt-repository</code> command on Ubuntu 22.04 runtime
(<a href="https://github.com/googlecolab/colabtools/issues/3867" target="_blank" rel="nofollow" aria-label="#3867 El enlace se abrirá en una pestaña nueva">#3867</a>)</li>
<li>Python package upgrades<ul>
<li>bokeh 2.4.3 -&gt; 3.2.2</li>
<li>cmake 3.25.2 -&gt; 3.27.2</li>
<li>cryptography 3.4.8 -&gt; 41.0.3</li>
<li>dask 2022.12.1 -&gt; 2023.8.0</li>
<li>distributed 2022.12.1 -&gt; 2023.8.0</li>
<li>earthengine-api 0.1.358 -&gt; 0.1.364</li>
<li>flax 0.7.0 -&gt; 0.7.2</li>
<li>ipython-sql 0.4.0 -&gt; 0.5.0</li>
<li>jax 0.4.13 -&gt; 0.4.14</li>
<li>jaxlib 0.4.13 -&gt; 0.4.14</li>
<li>lightgbm 3.3.5 -&gt; 4.0.0</li>
<li>mkl 2019.0 -&gt; 2023.2.0</li>
<li>notebook 6.4.8 -&gt; 6.5.5</li>
<li>numpy 1.22.4 -&gt; 1.23.5</li>
<li>opencv-python 4.7.0.72 -&gt; 4.8.0.76</li>
<li>pillow 8.4.0 -&gt; 9.4.0</li>
<li>plotly 5.13.1 -&gt; 5.15.0</li>
<li>prettytable 0.7.2 -&gt; 3.8.0</li>
<li>pytensor 2.10.1 -&gt; 2.14.2</li>
<li>spacy 3.5.4 -&gt; 3.6.1</li>
<li>statsmodels 0.13.5 -&gt; 0.14.0</li>
<li>xarray 2022.12.0 -&gt; 2023.7.0</li>
</ul>
</li>
<li>Python package inclusions<ul>
<li>PyDrive2 1.6.3</li>
</ul>
</li>
</ul>
<h3>2023-07-21</h3>
<ul>
<li><p>Launched auto-plotting for dataframes, available using the chart button that
shows up alongside datatables
(<a href="https://www.google.com/url?q=https%3A%2F%2Fmedium.com%2Fgoogle-colab%2Fcolab-data-visualizations-made-easy-5e1918e5234e" target="_blank" rel="nofollow" aria-label="post El enlace se abrirá en una pestaña nueva">post</a>)</p>
<img src="./SSP_files/chart_icon.png" alt="Chart button in Colab" width="40">
</li>
<li><p>Added a menu to the table of contents to support running a section or
collapsing/expanding sections
(<a href="https://www.google.com/url?q=https%3A%2F%2Fmedium.com%2Fgoogle-colab%2Ftwo-new-ways-to-manage-cell-execution-fbad61b40882" target="_blank" rel="nofollow" aria-label="post El enlace se abrirá en una pestaña nueva">post</a>)</p>
<img alt="Table of Contents running a section" src="./SSP_files/run_section.png" width="300">
</li>
<li><p>Added an option to automatically run the first cell or section, available
under Edit -&gt; Notebook settings
(<a href="https://www.google.com/url?q=https%3A%2F%2Fmedium.com%2Fgoogle-colab%2Ftwo-new-ways-to-manage-cell-execution-fbad61b40882" target="_blank" rel="nofollow" aria-label="post El enlace se abrirá en una pestaña nueva">post</a>)</p>
<img alt="Run first cell option" src="./SSP_files/auto_run_first_cell.png" width="300">
</li>
<li><p>Launched Pro/Pro+ to Algeria, Argentina, Chile, Ecuador, Egypt, Ghana,
Kenya, Malaysia, Nepal, Nigeria, Peru, Rwanda, Saudi Arabia, South Africa,
Sri Lanka, Tunisia, and Ukraine
(<a href="https://www.google.com/url?q=https%3A%2F%2Ftwitter.com%2FGoogleColab%2Fstatus%2F1674412460017700866" target="_blank" rel="nofollow" aria-label="tweet El enlace se abrirá en una pestaña nueva">tweet</a>)</p>
</li>
<li><p>Added a command, "Toggle tab moves focus" for toggling tab trapping in the
editor (Tools -&gt; Command palette, "Toggle tab moves focus")</p>
</li>
<li><p>Fixed issue where <code>files.upload()</code> was sometimes returning an incorrect
filename (<a href="https://github.com/googlecolab/colabtools/issues/1550" target="_blank" rel="nofollow" aria-label="#1550 El enlace se abrirá en una pestaña nueva">#1550</a>)</p>
</li>
<li><p>Fixed f-string syntax highlighting bug
(<a href="https://github.com/googlecolab/colabtools/issues/3802" target="_blank" rel="nofollow" aria-label="#3802 El enlace se abrirá en una pestaña nueva">#3802</a>)</p>
</li>
<li><p>Disabled ambiguous characters highlighting for commonly used LaTeX
characters (<a href="https://github.com/googlecolab/colabtools/issues/3648" target="_blank" rel="nofollow" aria-label="#3648 El enlace se abrirá en una pestaña nueva">#3648</a>)</p>
</li>
<li><p>Upgraded Ubuntu from 20.04 LTS to
<a href="https://www.google.com/url?q=https%3A%2F%2Fdiscourse.ubuntu.com%2Ft%2Fjammy-jellyfish-release-notes%2F24668" target="_blank" rel="nofollow" aria-label="22.04 LTS El enlace se abrirá en una pestaña nueva">22.04 LTS</a></p>
</li>
<li><p>Updated the Colab Marketplace VM image</p>
</li>
<li><p>Python package upgrades:</p>
<ul>
<li>autograd 1.6.1 -&gt; 1.6.2</li>
<li>drivefs 76.0 -&gt; 77.0</li>
<li>flax 0.6.11 -&gt; 0.7.0</li>
<li>earthengine-api 0.1.357 -&gt; 0.1.358</li>
<li>GDAL 3.3.2-&gt;3.4.3</li>
<li>google-cloud-bigquery-storage 2.20.0 -&gt; 2.22.2</li>
<li>gspread-dataframe 3.0.8 -&gt; 3.3.1</li>
<li>holidays 0.27.1 -&gt; 0.29</li>
<li>jax 0.4.10 -&gt; jax 0.4.13</li>
<li>jaxlib 0.4.10 -&gt; jax 0.4.13</li>
<li>jupyterlab-widgets 3.0.7 -&gt; 3.0.8</li>
<li>nbformat 5.9.0 -&gt; 5.9.1</li>
<li>opencv-python-headless 4.7.0.72 -&gt; 4.8.0.74</li>
<li>pygame 2.4.0 -&gt; 2.5.0</li>
<li>spacy 3.5.3 -&gt; 3.5.4</li>
<li>SQLAlchemy 2.0.16 -&gt; 2.0.19</li>
<li>tabulate 0.8.10 -&gt; 0.9.0</li>
<li>tensorflow-hub 0.13.0 -&gt; 0.14.0</li>
</ul>
</li>
</ul>
<h3>2023-06-23</h3>
<ul>
<li>Launched AI coding features to subscribed users starting with Pro+ users in
the US (<a href="https://www.google.com/url?q=https%3A%2F%2Ftwitter.com%2FGoogleColab%2Fstatus%2F1661056135196217346" target="_blank" rel="nofollow" aria-label="tweet El enlace se abrirá en una pestaña nueva">tweet</a>,
<a href="https://www.google.com/url?q=https%3A%2F%2Fblog.google%2Ftechnology%2Fdevelopers%2Fgoogle-colab-ai-coding-features%2F" target="_blank" rel="nofollow" aria-label="post El enlace se abrirá en una pestaña nueva">post</a>)</li>
<li>Added the Kernel Selector in the Notebook Settings
(<a href="https://www.google.com/url?q=https%3A%2F%2Ftwitter.com%2FGoogleColab%2Fstatus%2F1671265645756039168" target="_blank" rel="nofollow" aria-label="tweet El enlace se abrirá en una pestaña nueva">tweet</a>)</li>
<li>Fixed double space trimming issue in markdown
<a href="https://github.com/googlecolab/colabtools/issues/3766" target="_blank" rel="nofollow" aria-label="#3766 El enlace se abrirá en una pestaña nueva">#3766</a></li>
<li>Fixed run button indicator not always centered
<a href="https://github.com/googlecolab/colabtools/issues/3609" target="_blank" rel="nofollow" aria-label="#3609 El enlace se abrirá en una pestaña nueva">#3609</a></li>
<li>Fixed inconsistencies for automatic indentation on multi-line
<a href="https://github.com/googlecolab/colabtools/issues/3697" target="_blank" rel="nofollow" aria-label="#3697 El enlace se abrirá en una pestaña nueva">#3697</a></li>
<li>Upgraded Python from 3.10.11 to 3.10.12</li>
<li>Python package updates:<ul>
<li>duckdb 0.7.1 -&gt; 0.8.1</li>
<li>earthengine-api 0.1.350 -&gt; 0.1.357</li>
<li>flax 0.6.9 -&gt; 0.6.11</li>
<li>google-cloud-bigquery 3.9.0 -&gt; 3.10.0</li>
<li>google-cloud-bigquery-storage 2.19.1 -&gt; 2.20.0</li>
<li>grpcio 1.54.0 -&gt; 1.56.0</li>
<li>holidays 0.25 -&gt; 0.27.1</li>
<li>nbformat 5.8.0 -&gt; 5.9.0</li>
<li>prophet 1.1.3 -&gt; 1.1.4</li>
<li>pydata-google-auth 1.7.0 -&gt; 1.8.0</li>
<li>spacy 3.5.2 -&gt; 3.5.3</li>
<li>tensorboard 2.12.2 -&gt; 2.12.3</li>
<li>xgboost 1.7.5 -&gt; 1.7.6</li>
</ul>
</li>
<li>Python package inclusions:<ul>
<li>gcsfs 2023.6.0</li>
<li>geopandas 0.13.2</li>
<li>google-cloud-bigquery-connection 1.12.0</li>
<li>google-cloud-functions 1.13.0</li>
<li>grpc-google-iam-v1 0.12.6</li>
<li>multidict 6.0.4</li>
<li>tensorboard-data-server 0.7.1</li>
</ul>
</li>
</ul>
<h3>2023-06-02</h3>
<ul>
<li>Released the new site <a href="https://www.google.com/url?q=https%3A%2F%2Fcolab.google" target="_blank" rel="nofollow" aria-label="colab.google El enlace se abrirá en una pestaña nueva">colab.google</a></li>
<li>Published Colab's Docker runtime image to
us-docker.pkg.dev/colab-images/public/runtime
(<a href="https://www.google.com/url?q=https%3A%2F%2Ftwitter.com%2FGoogleColab%2Fstatus%2F1663594080436375558" target="_blank" rel="nofollow" aria-label="tweet El enlace se abrirá en una pestaña nueva">tweet</a>,
<a href="https://www.google.com/url?q=https%3A%2F%2Fresearch.google.com%2Fcolaboratory%2Flocal-runtimes.html" target="_blank" rel="nofollow" aria-label="instructions El enlace se abrirá en una pestaña nueva">instructions</a>)</li>
<li>Launched support for Google children accounts
(<a href="https://www.google.com/url?q=https%3A%2F%2Ftwitter.com%2FGoogleColab%2Fstatus%2F1661811016664231937" target="_blank" rel="nofollow" aria-label="tweet El enlace se abrirá en una pestaña nueva">tweet</a>)</li>
<li>Launched DagsHub integration
(<a href="https://www.google.com/url?q=https%3A%2F%2Ftwitter.com%2FTheRealDagsHub%2Fstatus%2F1658098271850749956" target="_blank" rel="nofollow" aria-label="tweet El enlace se abrirá en una pestaña nueva">tweet</a>,
<a href="https://www.google.com/url?q=https%3A%2F%2Fdagshub.com%2Fblog%2Fgoogle-colab-integration%2F" target="_blank" rel="nofollow" aria-label="post El enlace se abrirá en una pestaña nueva">post</a>)</li>
<li>Upgraded to Monaco Editor Version 0.37.1</li>
<li>Fixed various Vim keybinding bugs</li>
<li>Fixed issue where the N and P letters sometimes couldn't be typed
(<a href="https://github.com/googlecolab/colabtools/issues/3664" target="_blank" rel="nofollow" aria-label="#3664 El enlace se abrirá en una pestaña nueva">#3664</a>)</li>
<li>Fixed rendering support for compositional inputs
(<a href="https://github.com/googlecolab/colabtools/issues/3660" target="_blank" rel="nofollow" aria-label="#3660 El enlace se abrirá en una pestaña nueva">#3660</a>,
<a href="https://github.com/googlecolab/colabtools/issues/3660" target="_blank" rel="nofollow" aria-label="#3679 El enlace se abrirá en una pestaña nueva">#3679</a>)</li>
<li>Fixed lag in notebooks with lots of cells
(<a href="https://github.com/googlecolab/colabtools/issues/3676" target="_blank" rel="nofollow" aria-label="#3676 El enlace se abrirá en una pestaña nueva">#3676</a>)</li>
<li>Improved support for R by adding a Runtime type notebook setting (Edit -&gt;
Notebook settings)</li>
<li>Improved documentation for connecting to a local runtime (Connect -&gt; Connect
to a local runtime)</li>
<li>Python package updates:<ul>
<li>holidays 0.23 -&gt; 0.25</li>
<li>jax 0.4.8 -&gt; 0.4.10</li>
<li>jaxlib 0.4.8 -&gt; 0.4.10</li>
<li>pip 23.0.1 -&gt; 23.1.2</li>
<li>tensorflow-probability 0.19.0 -&gt; 0.20.1</li>
<li>torch 2.0.0 -&gt; 2.0.1</li>
<li>torchaudio 2.0.1 -&gt; 2.0.2</li>
<li>torchdata 0.6.0 -&gt; 0.6.1</li>
<li>torchtext 0.15.1 -&gt; 0.15.2</li>
<li>torchvision 0.15.1 -&gt; 0.15.2</li>
<li>tornado 6.2 -&gt; 6.3.1</li>
</ul>
</li>
</ul>
<h3>2023-05-05</h3>
<ul>
<li>Released GPU type selection for paid users, allowing them to choose a
preferred NVidia GPU</li>
<li>Upgraded R from 4.2.3 to 4.3.0</li>
<li>Upgraded Python from 3.9.16 to 3.10.11</li>
<li>Python package updates:<ul>
<li>attrs 22.2.0 -&gt; attrs 23.1.0</li>
<li>earthengine-api 0.1.349 -&gt; earthengine-api 0.1.350</li>
<li>flax 0.6.8 -&gt; 0.6.9</li>
<li>grpcio 1.53.0 -&gt; 1.54.0</li>
<li>nbclient 0.7.3 -&gt; 0.7.4</li>
<li>tensorflow-datasets 4.8.3 -&gt; 4.9.2</li>
<li>termcolor 2.2.0 -&gt; 2.3.0</li>
<li>zict 2.2.0 -&gt; 3.0.0</li>
</ul>
</li>
</ul>
<h3>2023-04-14</h3>
<ul>
<li>Python package updates:<ul>
<li>google-api-python-client 2.70.0 -&gt; 2.84.0</li>
<li>google-auth-oauthlib 0.4.6 -&gt; 1.0.0</li>
<li>google-cloud-bigquery 3.4.2 -&gt; 3.9.0</li>
<li>google-cloud-datastore 2.11.1 -&gt; 2.15.1</li>
<li>google-cloud-firestore 2.7.3 -&gt; 2.11.0</li>
<li>google-cloud-language 2.6.1 -&gt; 2.9.1</li>
<li>google-cloud-storage 2.7.0 -&gt; 2.8.0</li>
<li>google-cloud-translate 3.8.4 -&gt; 3.11.1</li>
<li>networkx 3.0 -&gt; 3.1</li>
<li>notebook 6.3.0 -&gt; 6.4.8</li>
<li>jax 0.4.7 -&gt; 0.4.8</li>
<li>pandas 1.4.4 -&gt; 1.5.3</li>
<li>spacy 3.5.1 -&gt; 3.5.2</li>
<li>SQLAlchemy 1.4.47 -&gt; 2.0.9</li>
<li>xgboost 1.7.4 -&gt; 1.7.5</li>
</ul>
</li>
</ul>
<h3>2023-03-31</h3>
<ul>
<li>Improve bash ! syntax highlighting
(<a href="https://github.com/googlecolab/colabtools/issues/3507" target="_blank" rel="nofollow" aria-label="GitHub issue El enlace se abrirá en una pestaña nueva">GitHub issue</a>)</li>
<li>Fix bug where VIM keybindings weren't working in the file editor</li>
<li>Upgraded R from 4.2.2 to 4.2.3</li>
<li>Python package updates:<ul>
<li>arviz 0.12.1 --&gt; 0.15.1</li>
<li>astropy 4.3.1 --&gt; 5.2.2</li>
<li>dopamine-rl 1.0.5 --&gt; 4.0.6</li>
<li>gensim 3.6.0 --&gt; 4.3.1</li>
<li>ipykernel 5.3.4 -&gt; 5.5.6</li>
<li>ipython 7.9.0 -&gt; 7.34.0</li>
<li>jax 0.4.4 -&gt; 0.4.7</li>
<li>jaxlib 0.4.4 -&gt; 0.4.7</li>
<li>jupyter_core 5.2.0 -&gt; 5.3.0</li>
<li>keras 2.11.0 -&gt; 2.12.0</li>
<li>lightgbm 2.2.3 -&gt; 3.3.5</li>
<li>matplotlib 3.5.3 -&gt; 3.7.1</li>
<li>nltk 3.7 -&gt; 3.8.1</li>
<li>opencv-python 4.6.0.66 -&gt; 4.7.0.72</li>
<li>plotly 5.5.0 -&gt; 5.13.1</li>
<li>pymc 4.1.4 -&gt; 5.1.2</li>
<li>seaborn 0.11.2 -&gt; 0.12.2</li>
<li>spacy 3.4.4 -&gt; 3.5.1</li>
<li>sympy 1.7.1 -&gt; 1.11.1</li>
<li>tensorboard 2.11.2 -&gt; 2.12.0</li>
<li>tensorflow 2.11.0 -&gt; 2.12.0</li>
<li>tensorflow-estimator 2.11.0 -&gt; 2.12.0</li>
<li>tensorflow-hub 0.12.0 -&gt; 0.13.0</li>
<li>torch 1.13.1 -&gt; 2.0.0</li>
<li>torchaudio 0.13.1 -&gt; 2.0.1</li>
<li>torchtext 0.14.1 -&gt; 0.15.1</li>
<li>torchvision 0.14.1 -&gt; 0.15.1</li>
</ul>
</li>
</ul>
<h3>2023-03-10</h3>
<ul>
<li>Added the
<a href="https://colab.research.google.com/notebooks/editor_shortcuts.ipynb" target="_blank" rel="nofollow" aria-label="Colab editor shortcuts El enlace se abrirá en una pestaña nueva">Colab editor shortcuts</a>
example notebook</li>
<li>Fixed triggering of @-mention and email autocomplete for large comments
(<a href="https://github.com/googlecolab/colabtools/issues/3383" target="_blank" rel="nofollow" aria-label="GitHub issue El enlace se abrirá en una pestaña nueva">GitHub issue</a>)</li>
<li>Added View Resources to the Runtime menu</li>
<li>Made file viewer images fit the view by default, resizing to original size
on click</li>
<li>When in VIM mode, enable copy as well as allowing propagation to monaco-vim
to escape visual mode
(<a href="https://github.com/googlecolab/colabtools/issues/3414" target="_blank" rel="nofollow" aria-label="GitHub issue El enlace se abrirá en una pestaña nueva">GitHub issue</a>)</li>
<li>Upgraded CUDA 11.6.2 -&gt; 11.8.0 and cuDNN 8.4.0.27 -&gt; 8.7.0.84</li>
<li>Upgraded Nvidia drivers 525.78.01 -&gt; 530.30.02</li>
<li>Upgraded Python 3.8.10 -&gt; 3.9.16</li>
<li>Python package updates:<ul>
<li>beautifulsoup4 4.6.3 -&gt; 4.9.3</li>
<li>bokeh 2.3.3 -&gt; 2.4.3</li>
<li>debugpy 1.0.0 -&gt; 1.6.6</li>
<li>Flask 1.1.4 -&gt; 2.2.3</li>
<li>jax 0.3.25 -&gt; 0.4.4</li>
<li>jaxlib 0.3.25 -&gt; 0.4.4</li>
<li>Jinja2 2.11.3 -&gt; 3.1.2</li>
<li>matplotlib 3.2.2 -&gt; 3.5.3</li>
<li>nbconvert 5.6.1 -&gt; 6.5.4</li>
<li>pandas 1.3.5 -&gt; 1.4.4</li>
<li>pandas-datareader 0.9.0 -&gt; 0.10.0</li>
<li>pandas-profiling 1.4.1 -&gt; 3.2.0</li>
<li>Pillow 7.1.2 -&gt; 8.4.0</li>
<li>plotnine 0.8.0 -&gt; 0.10.1</li>
<li>scikit-image 0.18.3 -&gt; 0.19.3</li>
<li>scikit-learn 1.0.2 -&gt; 1.2.2</li>
<li>scipy 1.7.3 -&gt; 1.10.1</li>
<li>setuptools 57.4.0 -&gt; 63.4.3</li>
<li>sklearn-pandas 1.8.0 -&gt; 2.2.0</li>
<li>statsmodels 0.12.2 -&gt; 0.13.5</li>
<li>urllib3 1.24.3 -&gt; 1.26.14</li>
<li>Werkzeug 1.0.1 -&gt; 2.2.3</li>
<li>wrapt 1.14.1 -&gt; 1.15.0</li>
<li>xgboost 0.90 -&gt; 1.7.4</li>
<li>xlrd 1.2.0 -&gt; 2.0.1</li>
</ul>
</li>
</ul>
<h3>2023-02-17</h3>
<ul>
<li>Show graphs of RAM and disk usage in notebook toolbar</li>
<li>Copy cell links directly to the clipboard instead of showing a dialog when
clicking on the link icon in the cell toolbar</li>
<li>Updated the
<a href="https://www.google.com/url?q=https%3A%2F%2Fresearch.google.com%2Fcolaboratory%2Fmarketplace.html" target="_blank" rel="nofollow" aria-label="Colab Marketplace VM image El enlace se abrirá en una pestaña nueva">Colab Marketplace VM image</a></li>
<li>Upgraded CUDA to 11.6.2 and cuDNN to 8.4.0.27</li>
<li>Python package updates:<ul>
<li>tensorflow 2.9.2 -&gt; 2.11.0</li>
<li>tensorboard 2.9.1 -&gt; 2.11.2</li>
<li>keras 2.9.0 -&gt; 2.11.0</li>
<li>tensorflow-estimator 2.9.0 -&gt; 2.11.0</li>
<li>tensorflow-probability 0.17.0 -&gt; 0.19.0</li>
<li>tensorflow-gcs-config 2.9.0 -&gt; 2.11.0</li>
<li>earthengine-api 0.1.339 -&gt; 0.1.341</li>
<li>flatbuffers 1.12 -&gt; 23.1.21</li>
<li>platformdirs 2.6.2 -&gt; 3.0.0</li>
<li>pydata-google-auth 1.6.0 -&gt; 1.7.0</li>
<li>python-utils 3.4.5 -&gt; 3.5.2</li>
<li>tenacity 8.1.0 -&gt; 8.2.1</li>
<li>tifffile 2023.1.23.1 -&gt; 2023.2.3</li>
<li>notebook 5.7.16 -&gt; 6.3.0</li>
<li>tornado 6.0.4 -&gt; 6.2</li>
<li>aiohttp 3.8.3 -&gt; 3.8.4</li>
<li>charset-normalizer 2.1.1 -&gt; 3.0.1</li>
<li>fastai 2.7.0 -&gt; 2.7.1</li>
<li>soundfile 0.11.0 -&gt; 0.12.1</li>
<li>typing-extensions 4.4.0 -&gt; 4.5.0</li>
<li>widgetsnbextension 3.6.1 -&gt; 3.6.2</li>
<li>pydantic 1.10.4 -&gt; 1.10.5</li>
<li>zipp 3.12.0 -&gt; 3.13.0</li>
<li>numpy 1.21.6 -&gt; 1.22.4</li>
<li>drivefs 66.0 -&gt; 69.0</li>
<li>gdal 3.0.4 -&gt; 3.3.2
<a href="https://github.com/googlecolab/colabtools/issues/3375" target="_blank" rel="nofollow" aria-label="GitHub issue El enlace se abrirá en una pestaña nueva">GitHub issue</a></li>
</ul>
</li>
<li>Added libudunits2-dev for smoother R package installs
<a href="https://github.com/googlecolab/colabtools/issues/2831" target="_blank" rel="nofollow" aria-label="GitHub issue El enlace se abrirá en una pestaña nueva">GitHub issue</a></li>
</ul>
<h3>2023-02-03</h3>
<ul>
<li>Improved tooltips for pandas series to show common statistics about the
series object</li>
<li>Made the forms dropdown behave like an autocomplete box when it allows input</li>
<li>Updated the nvidia driver from 460.32.03 to 510.47.03</li>
<li>Python package updates:<ul>
<li>absl-py 1.3.0 -&gt; 1.4.0</li>
<li>bleach 5.0.1 -&gt; 6.0.0</li>
<li>cachetools 5.2.1 -&gt; 5.3.0</li>
<li>cmdstanpy 1.0.8 -&gt; 1.1.0</li>
<li>dnspython 2.2.1 -&gt; 2.3.0</li>
<li>fsspec 2022.11.0 -&gt; 2023.1.0</li>
<li>google-cloud-bigquery-storage 2.17.0 -&gt; 2.18.1</li>
<li>holidays 0.18 -&gt; 0.19</li>
<li>jupyter-core 5.1.3 -&gt; 5.2.0</li>
<li>packaging 21.3 -&gt; 23.0</li>
<li>prometheus-client 0.15.0 -&gt; 0.16.0</li>
<li>pyct 0.4.8 -&gt; 0.5.0</li>
<li>pydata-google-auth 1.5.0 -&gt; 1.6.0</li>
<li>python-slugify 7.0.0 -&gt; 8.0.0</li>
<li>sqlalchemy 1.4.46 -&gt; 2.0.0</li>
<li>tensorflow-io-gcs-filesystem 0.29.0 -&gt; 0.30.0</li>
<li>tifffile 2022.10.10 -&gt; 2023.1.23.1</li>
<li>zipp 3.11.0 -&gt; 3.12.0</li>
<li>Pinned sqlalchemy to version 1.4.46</li>
</ul>
</li>
</ul>
<h3>2023-01-12</h3>
<ul>
<li>Added support for @-mention and email autocomplete in comments</li>
<li>Improved errors when GitHub notebooks can't be loaded</li>
<li>Increased color contrast for colors used for syntax highlighting in the code
editor</li>
<li>Added terminal access for custom GCE VM runtimes</li>
<li>Upgraded Ubuntu from 18.04 LTS to 20.04 LTS
(<a>GitHub issue</a>)</li>
<li>Python package updates:<ul>
<li>GDAL 2.2.2 -&gt; 2.2.3.</li>
<li>NumPy from 1.21.5 to 1.21.6.</li>
<li>attrs 22.1.0 -&gt; 22.2.0</li>
<li>chardet 3.0.4 -&gt; 4.0.0</li>
<li>cloudpickle 1.6.0 -&gt; 2.2.0</li>
<li>filelock 3.8.2 -&gt; 3.9.0</li>
<li>google-api-core 2.8.2 -&gt; 2.11.0</li>
<li>google-api-python-client 1.12.11 -&gt; 2.70.0</li>
<li>google-auth-httplib2 0.0.3 -&gt; 0.1.0</li>
<li>google-cloud-bigquery 3.3.5 -&gt; 3.4.1</li>
<li>google-cloud-datastore 2.9.0 -&gt; 2.11.0</li>
<li>google-cloud-firestore 2.7.2 -&gt; 2.7.3</li>
<li>google-cloud-storage 2.5.0 -&gt; 2.7.0</li>
<li>holidays 0.17.2 -&gt; holidays 0.18</li>
<li>importlib-metadata 5.2.0 -&gt; 6.0.0</li>
<li>networkx 2.8.8 -&gt; 3.0</li>
<li>opencv-python-headless 4.6.0.66 -&gt; 4.7.0.68</li>
<li>pip 21.1.3 -&gt; 22.04</li>
<li>pip-tools 6.2.0 -&gt; 6.6.2</li>
<li>prettytable 3.5.0 -&gt; 3.6.0</li>
<li>requests 2.23.0 -&gt; 2.25.1</li>
<li>termcolor 2.1.1 -&gt; 2.2.0</li>
<li>torch 1.13.0 -&gt; 1.13.1</li>
<li>torchaudio 0.13.0 -&gt; 0.13.1</li>
<li>torchtext 0.14.0-&gt; 0.14.1</li>
<li>torchvision 0.14.0 -&gt; 0.14.1</li>
</ul>
</li>
</ul>
<h3>2022-12-06</h3>
<ul>
<li>Made fallback runtime version available until mid-December
(<a href="https://github.com/googlecolab/colabtools/issues/3246" target="_blank" rel="nofollow" aria-label="GitHub issue El enlace se abrirá en una pestaña nueva">GitHub issue</a>)</li>
<li>Upgraded to Python 3.8
(<a href="https://github.com/googlecolab/colabtools/issues/3246" target="_blank" rel="nofollow" aria-label="GitHub issue El enlace se abrirá en una pestaña nueva">GitHub issue</a>)</li>
<li>Python package updates:<ul>
<li>jax from 0.3.23 to 0.3.25, jaxlib from 0.3.22 to 0.3.25</li>
<li>pyarrow from 6.0.1 to 9.0.0</li>
<li>torch from 1.12.1 to 1.13.0</li>
<li>torchaudio from 0.12.1 to 0.13.0</li>
<li>torchvision from 0.13.1 to 0.14.0</li>
<li>torchtext from 0.13.1 to 0.14.0</li>
<li>xlrd from 1.1.0 to 1.2.0</li>
<li>DriveFS from 62.0.1 to 66.0.3</li>
</ul>
</li>
<li>Made styling of markdown tables in outputs match markdown tables in text
cells</li>
<li>Improved formatting for empty interactive table rows</li>
<li>Fixed syntax highlighting for variables with names that contain Python
keywords
(<a href="https://github.com/googlecolab/colabtools/issues/3210" target="_blank" rel="nofollow" aria-label="GitHub issue El enlace se abrirá en una pestaña nueva">GitHub issue</a>)</li>
</ul>
<h3>2022-11-11</h3>
<ul>
<li>Added more dark editor themes for Monaco (when in dark mode, "Editor
colorization" appears as an option in the Editor tab of the Tools → Settings
dialog)</li>
<li>Fixed bug where collapsed forms were deleted on mobile
<a href="https://github.com/googlecolab/colabtools/issues/3153" target="_blank" rel="nofollow" aria-label="GitHub issue El enlace se abrirá en una pestaña nueva">GitHub issue</a></li>
<li>Python package updates:<ul>
<li>rpy2 from 3.4.0 to 3.5.5
(<a href="https://github.com/googlecolab/colabtools/issues/3180" target="_blank" rel="nofollow" aria-label="GitHub issue El enlace se abrirá en una pestaña nueva">GitHub issue</a>)</li>
<li>notebook from 5.5.0 to 5.7.16</li>
<li>tornado from 5.1.1 to 6.0.4</li>
<li>tensorflow_probability from 0.16.0 to 0.17.0</li>
<li>pandas-gbq from 0.13.3 to 0.17.9</li>
<li>protobuf from 3.17.3 to 3.19.6</li>
<li>google-api-core[grpc] from 1.31.5 to 2.8.2</li>
<li>google-cloud-bigquery from 1.21.0 to 3.3.5</li>
<li>google-cloud-core from 1.0.1 to 2.3.2</li>
<li>google-cloud-datastore from 1.8.0 to 2.9.0</li>
<li>google-cloud-firestore from 1.7.0 to 2.7.2</li>
<li>google-cloud-language from 1.2.0 to 2.6.1</li>
<li>google-cloud-storage from 1.18.0 to 2.5.0</li>
<li>google-cloud-translate from 1.5.0 to 3.8.4</li>
</ul>
</li>
</ul>
<h3>2022-10-21</h3>
<ul>
<li>Launched a single-click way to get from BigQuery to Colab to further explore
query results
(<a href="https://www.google.com/url?q=https%3A%2F%2Fcloud.google.com%2Fbigquery%2Fdocs%2Fexplore-data-colab" target="_blank" rel="nofollow" aria-label="announcement El enlace se abrirá en una pestaña nueva">announcement</a>)</li>
<li>Launched
<a href="https://colab.research.google.com/signup" target="_blank" rel="nofollow" aria-label="Pro, Pro+, and Pay As You Go El enlace se abrirá en una pestaña nueva">Pro, Pro+, and Pay As You Go</a> to
19 additional countries: Austria, Belgium, Bulgaria, Croatia, Cyprus,
Czechia, Denmark, Estonia, Finland, Greece, Hungary, Latvia, Lithuania,
Norway, Portugal, Romania, Slovakia, Slovenia, and Sweden
(<a href="https://www.google.com/url?q=https%3A%2F%2Ftwitter.com%2FGoogleColab%2Fstatus%2F1579956393834344449" target="_blank" rel="nofollow" aria-label="tweet El enlace se abrirá en una pestaña nueva">tweet</a>)</li>
<li>Updated jax from 0.3.17 to 0.3.23, jaxlib from 0.3.15 to 0.3.22, TensorFlow
from 2.8.2 to 2.9.2, CUDA from 11.1 to 11.2, and cuDNN from 8.0 to 8.1
(<a href="https://github.com/googlecolab/backend-info" target="_blank" rel="nofollow" aria-label="backend-info El enlace se abrirá en una pestaña nueva">backend-info</a>)</li>
<li>Added a <code>readonly</code> option to
<a href="https://github.com/googlecolab/colabtools/blob/main/google/colab/drive.py#L99" target="_blank" rel="nofollow" aria-label="drive.mount El enlace se abrirá en una pestaña nueva"><code>drive.mount</code></a></li>
<li>Fixed bug where Xarray was not working
(<a href="https://github.com/googlecolab/colabtools/issues/3134" target="_blank" rel="nofollow" aria-label="GitHub issue El enlace se abrirá en una pestaña nueva">GitHub issue</a>)</li>
<li>Modified Markdown parsing to ignore block quote symbol within MathJax
(<a href="https://github.com/googlecolab/colabtools/issues/3118" target="_blank" rel="nofollow" aria-label="GitHub issue El enlace se abrirá en una pestaña nueva">GitHub issue</a>)</li>
</ul>
<h3>2022-09-30</h3>
<ul>
<li>Launched <a href="https://colab.research.google.com/signup" target="_blank" rel="nofollow" aria-label="Pay As You Go El enlace se abrirá en una pestaña nueva">Pay As You Go</a>, allowing
premium GPU access without requiring a subscription</li>
<li>Added vim and tcllib to our runtime image</li>
<li>Fixed bug where open files were closed on kernel disconnect
(<a href="https://github.com/googlecolab/colabtools/issues/1716" target="_blank" rel="nofollow" aria-label="GitHub issue El enlace se abrirá en una pestaña nueva">GitHub issue</a>)</li>
<li>Fixed bug where the play button/execution indicator was not clickable when
scrolled into the cell output
(<a href="https://github.com/googlecolab/colabtools/issues/3068" target="_blank" rel="nofollow" aria-label="GitHub issue El enlace se abrirá en una pestaña nueva">GitHub issue</a>)</li>
<li>Updated the styling for form titles so that they avoid obscuring the code
editor</li>
<li>Created a GitHub repo,
<a href="https://github.com/googlecolab/backend-info" target="_blank" rel="nofollow" aria-label="backend-info El enlace se abrirá en una pestaña nueva">backend-info</a>, with the latest
apt-list.txt and pip-freeze.txt files for the Colab runtime
(<a href="https://github.com/googlecolab/colabtools/issues/1445" target="_blank" rel="nofollow" aria-label="GitHub issue El enlace se abrirá en una pestaña nueva">GitHub issue</a>)</li>
<li>Added
<a href="https://github.com/googlecolab/colabtools/blob/main/google/colab/files.py#L33" target="_blank" rel="nofollow" aria-label="files.upload_file(filename) El enlace se abrirá en una pestaña nueva"><code>files.upload_file(filename)</code></a>
to upload a file from the browser to the runtime with a specified filename</li>
</ul>
<h3>2022-09-16</h3>
<ul>
<li>Upgraded pymc from 3.11.0 to 4.1.4, jax from 0.3.14 to 0.3.17, jaxlib from
0.3.14 to 0.3.15, fsspec from 2022.8.1 to 2022.8.2</li>
<li>Modified our save flow to avoid persisting Drive filenames as titles in
notebook JSON</li>
<li>Updated our <a href="https://colab.research.google.com/pro/terms" target="_blank" rel="nofollow" aria-label="Terms of Service El enlace se abrirá en una pestaña nueva">Terms of Service</a></li>
<li>Modified the <code>Jump to Cell</code> command to locate the cursor at the end of the
command palette input (<code>Jump to cell</code> in Tools → Command palette in a
notebook with section headings)</li>
<li>Updated the styling of the Drive notebook comment UI</li>
<li>Added support for terminating your runtime from code: <code>python from
google.colab import runtime runtime.unassign()</code></li>
<li>Added regex filter support to the Recent notebooks dialog</li>
<li>Inline google.colab.files.upload JS to fix <code>files.upload()</code> not working
(<a href="https://github.com/googlecolab/colabtools/issues/51" target="_blank" rel="nofollow" aria-label="GitHub issue El enlace se abrirá en una pestaña nueva">GitHub issue</a>)</li>
</ul>
<h3>2022-08-26</h3>
<ul>
<li>Upgraded PyYAML from 3.13 to 6.0
(<a href="https://github.com/googlecolab/colabtools/issues/2942" target="_blank" rel="nofollow" aria-label="GitHub issue El enlace se abrirá en una pestaña nueva">GitHub issue</a>),
drivefs from 61.0.3 to 62.0.1</li>
<li>Upgraded TensorFlow from 2.8.2 to 2.9.1 and ipywidgets from 7.7.1 to 8.0.1
but rolled both back due to a number of user reports
(<a href="https://github.com/googlecolab/colabtools/issues/3008" target="_blank" rel="nofollow" aria-label="GitHub issue El enlace se abrirá en una pestaña nueva">GitHub issue</a>,
<a href="https://github.com/googlecolab/colabtools/issues/3020#issuecomment-1223330253" target="_blank" rel="nofollow" aria-label="GitHub issue El enlace se abrirá en una pestaña nueva">GitHub issue</a>)</li>
<li>Stop persisting inferred titles in notebook JSON
(<a href="https://github.com/googlecolab/colabtools/issues/764" target="_blank" rel="nofollow" aria-label="GitHub issue El enlace se abrirá en una pestaña nueva">GitHub issue</a>)</li>
<li>Fix bug in background execution which affected some Pro+ users
(<a href="https://github.com/googlecolab/colabtools/issues/2991" target="_blank" rel="nofollow" aria-label="GitHub issue El enlace se abrirá en una pestaña nueva">GitHub issue</a>)</li>
<li>Fix bug where <code>Download as .py</code> incorrectly handled text cells ending in a
double quote</li>
<li>Fix bug for Pro and Pro+ users where we weren't honoring the preference
(Tools → Settings) to use a temporary scratch notebook as the default
landing page</li>
<li>Provide undo/redo for scratch cells</li>
<li>When writing ipynb files, serialize empty multiline strings as <code>[]</code> for
better consistency with JupyterLab</li>
</ul>
<h3>2022-08-11</h3>
<ul>
<li>Upgraded ipython from 5.5.0 to 7.9.0, fbprophet 0.7 to prophet 1.1,
tensorflow-datasets from 4.0.1 to 4.6.0, drivefs from 60.0.2 to 61.0.3,
pytorch from 1.12.0 to 1.12.1, numba from 0.51 to 0.56, and lxml from 4.2.0
to 4.9.1</li>
<li>Loosened our <code>requests</code> version requirement
(<a href="https://github.com/deepset-ai/haystack/pull/2921#issuecomment-1199714337" target="_blank" rel="nofollow" aria-label="GitHub issue El enlace se abrirá en una pestaña nueva">GitHub issue</a>)</li>
<li>Removed support for TensorFlow 1</li>
<li>Added Help → Report Drive abuse for Drive notebooks</li>
<li>Fixed indentation for Python lines ending in <code>[</code></li>
<li>Modified styling of tables in Markdown to left-align them rather than
centering them</li>
<li>Fixed special character replacement when copying interactive tables as
Markdown</li>
<li>Fixed ansi 8-bit color parsing
(<a href="https://github.com/googlecolab/colabtools/issues/2963" target="_blank" rel="nofollow" aria-label="GitHub issue El enlace se abrirá en una pestaña nueva">GitHub issue</a>)</li>
<li>Configured logging to preempt transitive imports and other loading from
implicitly configuring the root logger</li>
<li>Modified forms to use a value of <code>None</code> instead of causing a parse error
when clearing raw and numeric-typed form fields</li>
</ul>
<h3>2022-07-22</h3>
<ul>
<li>Update scipy from 1.4.1 to 1.7.3, drivefs from 59.0.3 to 60.0.2, pytorch
from 1.11 to 1.12, jax &amp; jaxlib from 0.3.8 to 0.3.14, opencv-python from
4.1.2.30 to 4.6.0.66, spaCy from 3.3.1 to 3.4.0, and dlib from 19.18.0 to
19.24.0</li>
<li>Fix <code>Open in tab</code> doc link which was rendering incorrectly
(<a href="https://github.com/googlecolab/colabtools/issues/2690" target="_blank" rel="nofollow" aria-label="GitHub issue El enlace se abrirá en una pestaña nueva">GitHub issue</a>)</li>
<li>Add a preference for the default tab orientation to the Site section of the
settings menu under Tools → Settings</li>
<li>Show a warning for <code>USE_AUTH_EPHEM</code> usage when running authenticate_user on
a TPU runtime
(<a href="https://github.com/googlecolab/colabtools/blob/main/google/colab/auth.py#L243" target="_blank" rel="nofollow" aria-label="code El enlace se abrirá en una pestaña nueva">code</a>)</li>
</ul>
<h3>2022-07-01</h3>
<ul>
<li>Add a preference for code font to the settings menu under Tools → Settings</li>
<li>Update drivefs from 58.0.3 to 59.0.3 and spacy from 2.2.4 to 3.3.1</li>
<li>Allow
<a href="https://www.google.com/url?q=https%3A%2F%2Fipython.org%2Fipython-doc%2F3%2Fnotebook%2Fnbformat.html%23display-data" target="_blank" rel="nofollow" aria-label="display_data El enlace se abrirá en una pestaña nueva">display_data</a>
and
<a href="https://www.google.com/url?q=https%3A%2F%2Fipython.org%2Fipython-doc%2F3%2Fnotebook%2Fnbformat.html%23execute-result" target="_blank" rel="nofollow" aria-label="execute_result El enlace se abrirá en una pestaña nueva">execute_result</a>
text outputs to wrap, matching behavior of JupyterLab (does not affect
stream outputs/print statements).</li>
<li>Improve LSP handling of some magics, esp. %%writefile
(<a href="https://github.com/googlecolab/colabtools/issues/2859" target="_blank" rel="nofollow" aria-label="GitHub issue El enlace se abrirá en una pestaña nueva">GitHub issue</a>).</li>
<li>Add a
<a href="https://www.google.com/url?q=https%3A%2F%2Fresearch.google.com%2Fcolaboratory%2Ffaq.html%23drive-mount-code-cell" target="_blank" rel="nofollow" aria-label="FAQ entry El enlace se abrirá en una pestaña nueva">FAQ entry</a>
about the mount Drive button behavior and include link buttons for each FAQ
entry.</li>
<li>Fix bug where the notebook was sometimes hidden behind other tabs on load
when in single pane view.</li>
<li>Fix issue with inconsistent scrolling when an editor is in multi-select
mode.</li>
<li>Fix bug where clicking on a link in a form would navigate away from the
notebook</li>
<li>Show a confirmation dialog before performing Replace all from the Find and
replace pane.</li>
</ul>
<h3>2022-06-10</h3>
<ul>
<li>Update drivefs from 57.0.5 to 58.0.3 and tensorflow from 2.8.0 to 2.8.2</li>
<li>Support more than 100 repos in the GitHub repo selector shown in the open
dialog and the clone to GitHub dialog</li>
<li>Show full notebook names on hover in the open dialog</li>
<li>Improve the color contrast for links, buttons, and the
<code>ipywidgets.Accordion</code> widget in dark mode</li>
</ul>
<h3>2022-05-20</h3>
<ul>
<li>Support URL params for linking to some common pref settings:
<a href="https://colab.research.google.com/?force_theme=dark" target="_blank" rel="nofollow" aria-label="force_theme=dark El enlace se abrirá en una pestaña nueva">force_theme=dark</a>,
<a href="https://colab.research.google.com/?force_corgi_mode=1" target="_blank" rel="nofollow" aria-label="force_corgi_mode=1 El enlace se abrirá en una pestaña nueva">force_corgi_mode=1</a>,
<a href="https://colab.research.google.com/?force_font_size=14" target="_blank" rel="nofollow" aria-label="force_font_size=14 El enlace se abrirá en una pestaña nueva">force_font_size=14</a>.
Params forced by URL are not persisted unless saved using Tools → Settings.</li>
<li>Add a class <code>markdown-google-sans</code> to allow
<span class="markdown-google-sans">Markdown to render in Google Sans</span></li>
<li>Update monaco-vim from 0.1.19 to 0.3.4</li>
<li>Update drivefs from 55.0.3 to 57.0.5, jax from 0.3.4 to 0.3.8, and jaxlib
from 0.3.2 to 0.3.7</li>
</ul>
<h3>2022-04-29</h3>
<ul>
<li>Added 🦀 mode (under Miscellaneous in Tools → Settings)</li>
<li>Added "Disconnect and delete runtime" option to the menu next to the Connect
button</li>
<li>Improved rendering of filter options in an interactive table</li>
<li>Added git-lfs to the base image</li>
<li>Updated torch from 1.10.0 to 1.11.0, jupyter-core from 4.9.2 to 4.10.0, and
cmake from 3.12.0 to 3.22.3</li>
<li>Added more details to our
<a href="https://www.google.com/url?q=https%3A%2F%2Fresearch.google.com%2Fcolaboratory%2Ffaq.html" target="_blank" rel="nofollow" aria-label="FAQ El enlace se abrirá en una pestaña nueva">FAQ</a> about unsupported
uses (using proxies, downloading torrents, etc.)</li>
<li>Fixed <a href="https://github.com/googlecolab/colabtools/issues/2779" target="_blank" rel="nofollow" aria-label="issue El enlace se abrirá en una pestaña nueva">issue</a> with
apt-get dependencies</li>
</ul>
<h3>2022-04-15</h3>
<ul>
<li>Add an option in the file browser to show hidden files.</li>
<li>Upgrade gdown from 4.2.0 to 4.4.0, google-api-core[grpc] from 1.26.0 to
1.31.5, and pytz from 2018.4 to 2022.1</li>
</ul>
<h3>2022-03-25</h3>
<ul>
<li>Launched
<a href="https://colab.research.google.com/signup?utm_source=relnotes&amp;utm_medium=link&amp;utm_campaign=additional_countries" target="_blank" rel="nofollow" aria-label="Pro/Pro+ El enlace se abrirá en una pestaña nueva">Pro/Pro+</a>
to 12 additional countries: Australia, Bangladesh, Colombia, Hong Kong,
Indonesia, Mexico, New Zealand, Pakistan, Philippines, Singapore, Taiwan,
and Vietnam</li>
<li>Added
<a href="https://github.com/googlecolab/colabtools/blob/main/google/colab/auth.py#L253" target="_blank" rel="nofollow" aria-label="google.colab.auth.authenticate_service_account() El enlace se abrirá en una pestaña nueva"><code>google.colab.auth.authenticate_service_account()</code></a>
to support using
<a href="https://www.google.com/url?q=https%3A%2F%2Fcloud.google.com%2Fiam%2Fdocs%2Fcreating-managing-service-account-keys%23iam-service-account-keys-create-console" target="_blank" rel="nofollow" aria-label="Service Account keys El enlace se abrirá en una pestaña nueva">Service Account keys</a></li>
<li>Update jax from 0.3.1 to 0.3.4 &amp; jaxlib from 0.3.0 to 0.3.2</li>
<li>Fixed an issue with Twitter previews of notebooks shared as GitHub Gists</li>
</ul>
<h3>2022-03-10</h3>
<ul>
<li>Launched
<a href="https://colab.research.google.com/signup?utm_source=relnotes&amp;utm_medium=link&amp;utm_campaign=additional_countries" target="_blank" rel="nofollow" aria-label="Pro/Pro+ El enlace se abrirá en una pestaña nueva">Pro/Pro+</a>
to 10 new countries: Ireland, Israel, Italy, Morocco, the Netherlands,
Poland, Spain, Switzerland, Turkey, and the United Arab Emirates</li>
<li>Launched support for
<a href="https://github.com/googlecolab/colabtools/wiki/Scheduled-notebooks" target="_blank" rel="nofollow" aria-label="scheduling notebooks for Pro+ users El enlace se abrirá en una pestaña nueva">scheduling notebooks for Pro+ users</a></li>
<li>Fixed bug in interactive datatables where filtering by number did not work</li>
<li>Finished removing the python2 kernelspec</li>
</ul>
<h3>2022-02-25</h3>
<ul>
<li>Made various accessibility improvements to the header</li>
<li>Fix bug with
<a href="https://www.google.com/url?q=https%3A%2F%2Fcolab.sandbox.google.com%2Fnotebooks%2Fforms.ipynb%23scrollTo%3Dh9aZYKhly2h_" target="_blank" rel="nofollow" aria-label="forms run:auto El enlace se abrirá en una pestaña nueva">forms run:auto</a>
where a form field change would trigger multiple runs</li>
<li>Minor updates to the
<a href="https://colab.research.google.com/notebooks/bigquery.ipynb" target="_blank" rel="nofollow" aria-label="bigquery example notebook El enlace se abrirá en una pestaña nueva">bigquery example notebook</a>
and snippet</li>
<li>Include background execution setting in the sessions dialog for Pro+ users</li>
<li>Update tensorflow-probability from 0.15 to 0.16</li>
<li>Update jax from 0.2.25 to 0.3.1 &amp; jaxlib from 0.1.71 to 0.3.0</li>
</ul>
<h3>2022-02-11</h3>
<ul>
<li>Improve keyboard navigation for the open dialog</li>
<li>Fix issue where nvidia-smi stopped reporting resource utilization for some
users who were modifying the version of nvidia used</li>
<li>Update tensorflow from 2.7 to 2.8, keras from 2.7 to 2.8, numpy from 1.19.5
to 1.21.5, tables from 3.4.4 to 3.7.0</li>
</ul>
<h3>2022-02-04</h3>
<ul>
<li>Improve UX for opening content alongside your notebook, such as files opened
from the file browser. This includes a multi-pane view and drag-drop support</li>
<li>Better Twitter previews when sharing example Colab notebooks and notebooks
opened from GitHub Gists</li>
<li>Update pandas from 1.1.5 to 1.3.5</li>
<li>Update openpyxl from 2.5.9 to 3.0.0 and pyarrow from 3.0.0 to 6.0.0</li>
<li>Link to the release notes from the Help menu</li>
</ul>
<h3>2022-01-28</h3>
<ul>
<li>Add a copy button to
<a href="https://colab.research.google.com/notebooks/data_table.ipynb" target="_blank" rel="nofollow" aria-label="data tables El enlace se abrirá en una pestaña nueva">data tables</a></li>
<li>Python LSP support for better completions and code diagnostics. This can be
configured in the Editor Settings (Tools → Settings)</li>
<li>Update
<a href="https://colab.research.google.com/notebooks/io.ipynb#scrollTo=sOm9PFrT8mGG" target="_blank" rel="nofollow" aria-label="gspread examples El enlace se abrirá en una pestaña nueva">gspread examples</a>
in our documentation</li>
<li>Update gdown from 3.6 to 4.2</li>
</ul>
<h3>2022-01-21</h3>
<ul>
<li>New documentation for the
<a href="https://colab.research.google.com/notebooks/google.colab.ipynb" target="_blank" rel="nofollow" aria-label="google.colab package El enlace se abrirá en una pestaña nueva"><code>google.colab</code> package</a></li>
<li>Show GPU RAM in the resource usage tab</li>
<li>Improved security for mounting Google Drive which disallows mounting Drive
from accounts other than the one currently executing the notebook</li>
</ul>
<h3>2022-01-14</h3>
<ul>
<li>Add a preference (Tools → Settings) to use a temporary scratch notebook as
the default landing page</li>
<li>Fix bug where <code>/</code> and <code>:</code> weren't working in VIM mode</li>
<li>Update gspread from 3.0 to 3.4</li>
<li>Update the
<a href="https://www.google.com/url?q=https%3A%2F%2Fresearch.google.com%2Fcolaboratory%2Fmarketplace.html" target="_blank" rel="nofollow" aria-label="Colab Marketplace VM image El enlace se abrirá en una pestaña nueva">Colab Marketplace VM image</a></li>
</ul>
</span></div></colab-shaded-scroller></colab-tab></div>
  </div></colab-tab-pane>
      <colab-resizer class="sn-resize no-tabs" style="height: 40%"><div class="resizer-thumb"></div>
        <!--?lit$075548653$--><colab-tab-pane class="layout vertical grow no-tabs" align="horizontal"><!----> <div class="layout vertical grow">
    <div class="tab-pane-header layout horizontal noshrink">
      <md-tabs><template shadowrootmode="open"><!---->
      <div class="tabs">
        <slot></slot>
      </div>
      <md-divider part="divider"><template shadowrootmode="open"><!----></template></md-divider>
    </template></md-tabs>
      <div class="layout grow"></div>
      <!--?lit$075548653$--> <md-icon-button data-aria-expanded="false" data-aria-haspopup="menu" title="Más acciones de pestañas" data-aria-label="Más acciones de pestañas" value=""><template shadowrootmode="open" shadowrootdelegatesfocus><!----><button id="button" class="icon-button  standard " aria-label="Más acciones de pestañas" aria-haspopup="menu" aria-expanded="false">
        <!--?lit$075548653$--><md-focus-ring part="focus-ring" for="button" aria-hidden="true"><template shadowrootmode="open"><!----></template></md-focus-ring>
        <!--?lit$075548653$--><md-ripple aria-hidden="true"><template shadowrootmode="open"><!----><div class="surface   "></div></template></md-ripple>
        <!--?lit$075548653$--><span class="icon"><slot></slot></span>
        <!--?lit$075548653$-->
        <!--?lit$075548653$--><span class="touch"></span>
  </button></template>
    <md-icon aria-hidden="true"><template shadowrootmode="open"><!----><slot></slot></template>more_horiz</md-icon>
  </md-icon-button>
    </div>
    <div class="layout vertical grow tab-pane-container"> </div>
  </div></colab-tab-pane>
      </colab-resizer>
    </div>
      </colab-resizer>
    </div></colab-tab-layout-container>
        </div>
        <div class="proxies"><div><colab-dom-lifecycle-events style="display: none;"></colab-dom-lifecycle-events><iframe allow="" sandbox="allow-downloads allow-forms allow-pointer-lock allow-popups allow-popups-to-escape-sandbox allow-same-origin allow-scripts allow-storage-access-by-user-activation" src="./SSP_files/outputframe(24).html" style="width: 1px; height: 1px; position: absolute; top: -100px;"></iframe></div><div><colab-dom-lifecycle-events style="display: none;"></colab-dom-lifecycle-events><iframe allow="accelerometer; autoplay; gyroscope; magnetometer; xr-spatial-tracking; clipboard-write" sandbox="allow-downloads allow-forms allow-pointer-lock allow-popups allow-popups-to-escape-sandbox allow-same-origin allow-scripts allow-storage-access-by-user-activation allow-modals" src="./SSP_files/outputframe(25).html" style="width: 1px; height: 1px; position: absolute; top: -100px;"></iframe></div></div>
      <colab-file-viewer-manager></colab-file-viewer-manager></div>
    <colab-status-bar role="region" aria-label="Barra de estado del entorno de ejecución" class="status-bar-ui-refresh"><template shadowrootmode="open"><!----><span class="left">
          <slot name="bottom-pane-buttons"></slot>
        </span>
        <span class="middle"><!--?lit$075548653$--></span>
        <span class="right">
          <!--?lit$075548653$--><colab-execution-status><template shadowrootmode="open"><!----></template></colab-execution-status><!--?lit$075548653$--><!--?lit$075548653$--><!--?lit$075548653$--><colab-runtime-status><template shadowrootmode="open"><!----></template></colab-runtime-status>
        </span></template><md-text-button slot="bottom-pane-buttons" command="show-variables" value="" has-icon=""><template shadowrootmode="open" shadowrootdelegatesfocus><!---->
      <!--?lit$075548653$-->
      <div class="background"></div>
      <md-focus-ring part="focus-ring" for="button" aria-hidden="true"><template shadowrootmode="open"><!----></template></md-focus-ring>
      <md-ripple part="ripple" for="button" aria-hidden="true"><template shadowrootmode="open"><!----><div class="surface   "></div></template></md-ripple>
      <!--?lit$075548653$--><button id="button" class="button">
      <!--?lit$075548653$-->
      <span class="touch"></span>
      <!--?lit$075548653$--><slot name="icon"></slot>
      <span class="label"><slot></slot></span>
      <!--?lit$075548653$-->
    
    </button>
    </template>
        <md-icon slot="icon" aria-hidden="true"><template shadowrootmode="open"><!----><slot></slot></template><!--?lit$075548653$-->data_object</md-icon>
        <!--?lit$075548653$-->Variables</md-text-button><md-text-button slot="bottom-pane-buttons" command="show-terminal" value="" has-icon=""><template shadowrootmode="open" shadowrootdelegatesfocus><!---->
      <!--?lit$075548653$-->
      <div class="background"></div>
      <md-focus-ring part="focus-ring" for="button" aria-hidden="true"><template shadowrootmode="open"><!----></template></md-focus-ring>
      <md-ripple part="ripple" for="button" aria-hidden="true"><template shadowrootmode="open"><!----><div class="surface   "></div></template></md-ripple>
      <!--?lit$075548653$--><button id="button" class="button">
      <!--?lit$075548653$-->
      <span class="touch"></span>
      <!--?lit$075548653$--><slot name="icon"></slot>
      <span class="label"><slot></slot></span>
      <!--?lit$075548653$-->
    
    </button>
    </template>
        <md-icon slot="icon" aria-hidden="true"><template shadowrootmode="open"><!----><slot></slot></template><!--?lit$075548653$-->terminal</md-icon>
        <!--?lit$075548653$-->Terminal</md-text-button></colab-status-bar></div><div class="goog-menu" id="file-menu" role="menu" aria-haspopup="true" style="display: none; user-select: none;"><!--?lit$075548653$--><div command="locate-in-drive" class=" goog-menuitem " role="menuitem" id=":2" style="user-select: none;"><div class="goog-menuitem-content" style="user-select: none;"><!--?lit$075548653$-->Buscar en Drive<!--?lit$075548653$--></div></div><div command="open-in-playground" class=" goog-menuitem " role="menuitem" id=":3" style="user-select: none;"><div class="goog-menuitem-content" style="user-select: none;"><!--?lit$075548653$-->Abrir en modo de ensayo<!--?lit$075548653$--></div></div><div class="goog-menuseparator goog-menuitem-disabled" aria-disabled="true" role="separator" id=":4" style="user-select: none;"></div><div command="new" class=" goog-menuitem " role="menuitem" id=":5" style="user-select: none;"><div class="goog-menuitem-content" style="user-select: none;"><!--?lit$075548653$-->Cuaderno nuevo en Drive<!--?lit$075548653$--></div></div><div command="open" class=" goog-menuitem " role="menuitem" id=":6" style="user-select: none;"><div class="goog-menuitem-content" style="user-select: none;"><!--?lit$075548653$-->Abrir cuaderno<!--?lit$075548653$--></div></div><div command="import-notebook" class=" goog-menuitem " role="menuitem" id=":7" style="user-select: none;"><div class="goog-menuitem-content" style="user-select: none;"><!--?lit$075548653$-->Subir cuaderno<!--?lit$075548653$--></div></div><div class="goog-menuseparator goog-menuitem-disabled" aria-disabled="true" role="separator" id=":8" style="user-select: none;"></div><div command="rename" class=" goog-menuitem " role="menuitem" id=":9" style="user-select: none;"><div class="goog-menuitem-content" style="user-select: none;"><!--?lit$075548653$-->Cambiar nombre<!--?lit$075548653$--></div></div><div command="move-notebook" class=" goog-menuitem " role="menuitem" id=":a" style="user-select: none;"><div class="goog-menuitem-content" style="user-select: none;"><!--?lit$075548653$-->Mover<!--?lit$075548653$--></div></div><div command="trash" class=" goog-menuitem " role="menuitem" id=":b" style="user-select: none;"><div class="goog-menuitem-content" style="user-select: none;"><!--?lit$075548653$-->Mover a la papelera<!--?lit$075548653$--></div></div><div class="goog-menuseparator goog-menuitem-disabled" aria-disabled="true" role="separator" id=":c" style="user-select: none;"></div><div command="clone" class=" goog-menuitem " role="menuitem" id=":d" style="user-select: none;"><div class="goog-menuitem-content" style="user-select: none;"><!--?lit$075548653$-->Guardar una copia en Drive<!--?lit$075548653$--></div></div><div command="copy-to-gist" class=" goog-menuitem " role="menuitem" id=":e" style="user-select: none;"><div class="goog-menuitem-content" style="user-select: none;"><!--?lit$075548653$-->Guardar una copia como Gist de GitHub<!--?lit$075548653$--></div></div><div command="copy-to-github" class=" goog-menuitem " role="menuitem" id=":f" style="user-select: none;"><div class="goog-menuitem-content" style="user-select: none;"><!--?lit$075548653$-->Guardar una copia en GitHub<!--?lit$075548653$--></div></div><div class="goog-menuseparator goog-menuitem-disabled" aria-disabled="true" role="separator" id=":g" style="user-select: none;"></div><div command="save" class=" goog-menuitem " role="menuitem" id=":h" style="user-select: none;"><div class="goog-menuitem-content" style="user-select: none;"><!--?lit$075548653$-->Guardar<!--?lit$075548653$--></div></div><div command="save-and-checkpoint" class=" goog-menuitem " role="menuitem" id=":i" style="user-select: none;"><div class="goog-menuitem-content" style="user-select: none;"><!--?lit$075548653$-->Guardar y fijar revisión<!--?lit$075548653$--></div></div><div command="show-history" class=" goog-menuitem " role="menuitem" id=":j" style="user-select: none;"><div class="goog-menuitem-content" style="user-select: none;"><!--?lit$075548653$-->Historial de revisiones<!--?lit$075548653$--></div></div><div class="goog-menuseparator goog-menuitem-disabled" aria-disabled="true" role="separator" id=":k" style="user-select: none;"></div><div class="goog-submenu goog-menuitem" id="download-submenu-menu-button" role="menuitem" aria-haspopup="true" style="user-select: none;"><div class="goog-menuitem-content" style="user-select: none;">
      <!--?lit$075548653$-->Descargar
    <span class="goog-submenu-arrow" style="user-select: none;">►</span></div></div><div command="print" class=" goog-menuitem " role="menuitem" id=":o" style="user-select: none;"><div class="goog-menuitem-content" style="user-select: none;"><!--?lit$075548653$-->Imprimir<!--?lit$075548653$--></div></div></div><div class="goog-menu" id="download-submenu-menu" role="menu" aria-haspopup="true" style="display: none; user-select: none;"><!--?lit$075548653$--><div command="download-ipynb" class=" goog-menuitem " role="menuitem" id=":m" style="user-select: none;"><div class="goog-menuitem-content" style="user-select: none;"><!--?lit$075548653$-->Descargar .ipynb<!--?lit$075548653$--></div></div><div command="download-python" class=" goog-menuitem " role="menuitem" id=":n" style="user-select: none;"><div class="goog-menuitem-content" style="user-select: none;"><!--?lit$075548653$-->Descargar .py<!--?lit$075548653$--></div></div></div><div class="goog-menu" id="edit-menu" role="menu" aria-haspopup="true" style="display: none; user-select: none;"><!--?lit$075548653$--><div command="undo" class=" goog-menuitem " role="menuitem" id=":q" style="user-select: none;"><div class="goog-menuitem-content" style="user-select: none;"><!--?lit$075548653$-->Deshacer<!--?lit$075548653$--></div></div><div command="redo" class=" goog-menuitem " role="menuitem" id=":r" style="user-select: none;"><div class="goog-menuitem-content" style="user-select: none;"><!--?lit$075548653$-->Rehacer<!--?lit$075548653$--></div></div><div class="goog-menuseparator goog-menuitem-disabled" aria-disabled="true" role="separator" id=":s" style="user-select: none;"></div><div command="select-all" class=" goog-menuitem " role="menuitem" id=":t" style="user-select: none;"><div class="goog-menuitem-content" style="user-select: none;"><!--?lit$075548653$-->Seleccionar todas las celdas<!--?lit$075548653$--></div></div><div command="cut" class=" goog-menuitem " role="menuitem" id=":u" style="user-select: none;"><div class="goog-menuitem-content" style="user-select: none;"><!--?lit$075548653$-->Cortar celda o selección<!--?lit$075548653$--></div></div><div command="copy" class=" goog-menuitem " role="menuitem" id=":v" style="user-select: none;"><div class="goog-menuitem-content" style="user-select: none;"><!--?lit$075548653$-->Copiar celda o selección<!--?lit$075548653$--></div></div><div command="paste" class=" goog-menuitem " role="menuitem" id=":w" style="user-select: none;"><div class="goog-menuitem-content" style="user-select: none;"><!--?lit$075548653$-->Pegar<!--?lit$075548653$--></div></div><div command="delete-cell-or-selection" class=" goog-menuitem " role="menuitem" id=":x" style="user-select: none;"><div class="goog-menuitem-content" style="user-select: none;"><!--?lit$075548653$-->Eliminar celdas seleccionadas<!--?lit$075548653$--></div></div><div class="goog-menuseparator goog-menuitem-disabled" aria-disabled="true" role="separator" id=":y" style="user-select: none;"></div><div command="find" class=" goog-menuitem " role="menuitem" id=":z" style="user-select: none;"><div class="goog-menuitem-content" style="user-select: none;"><!--?lit$075548653$-->Buscar y reemplazar<!--?lit$075548653$--></div></div><div command="find-next" class=" goog-menuitem " role="menuitem" id=":10" style="user-select: none;"><div class="goog-menuitem-content" style="user-select: none;"><!--?lit$075548653$-->Buscar siguiente<!--?lit$075548653$--></div></div><div command="find-previous" class=" goog-menuitem " role="menuitem" id=":11" style="user-select: none;"><div class="goog-menuitem-content" style="user-select: none;"><!--?lit$075548653$-->Buscar anterior<!--?lit$075548653$--></div></div><div class="goog-menuseparator goog-menuitem-disabled" aria-disabled="true" role="separator" id=":12" style="user-select: none;"></div><div command="notebook-settings" class=" goog-menuitem " role="menuitem" id=":13" style="user-select: none;"><div class="goog-menuitem-content" style="user-select: none;"><!--?lit$075548653$-->Configuración del cuaderno<!--?lit$075548653$--></div></div><div class="goog-menuseparator goog-menuitem-disabled" aria-disabled="true" role="separator" id=":14" style="user-select: none;"></div><div command="clear-outputs" class=" goog-menuitem " role="menuitem" id=":15" style="user-select: none;"><div class="goog-menuitem-content" style="user-select: none;"><!--?lit$075548653$-->Borrar todos los resultados<!--?lit$075548653$--></div></div></div><div class="goog-menu" id="view-menu" role="menu" aria-haspopup="true" style="display: none; user-select: none;"><!--?lit$075548653$--><div command="show-toc-pane" class="goog-menuitem goog-option" role="menuitemcheckbox" aria-checked="false" id=":17" style="user-select: none;"><div class="goog-menuitem-content" style="user-select: none;"><div class="goog-menuitem-checkbox" style="user-select: none;"><!----><md-icon aria-hidden="true"><template shadowrootmode="open"><!----><slot></slot></template>check</md-icon> </div><!--?lit$075548653$-->Índice<!--?lit$075548653$--></div></div><div command="show-fileinfo" class=" goog-menuitem " role="menuitem" id=":18" style="user-select: none;"><div class="goog-menuitem-content" style="user-select: none;"><!--?lit$075548653$-->Información de cuaderno<!--?lit$075548653$--></div></div><div command="show-executedcode" class=" goog-menuitem " role="menuitem" id=":19" style="user-select: none;"><div class="goog-menuitem-content" style="user-select: none;"><!--?lit$075548653$-->Historial de código ejecutado<!--?lit$075548653$--></div></div><div class="goog-submenu goog-menuitem" id="comments-submenu-menu-button" role="menuitem" aria-haspopup="true" style="user-select: none;"><div class="goog-menuitem-content" style="user-select: none;">
      <!--?lit$075548653$-->Comentarios
    <span class="goog-submenu-arrow" style="user-select: none;">►</span></div></div><div class="goog-menuseparator goog-menuitem-disabled" aria-disabled="true" role="separator" id=":1e" style="user-select: none;"></div><div command="collapse-sections" class=" goog-menuitem " role="menuitem" id=":1f" style="user-select: none;"><div class="goog-menuitem-content" style="user-select: none;"><!--?lit$075548653$-->Ocultar secciones<!--?lit$075548653$--></div></div><div command="expand-sections" class=" goog-menuitem " role="menuitem" id=":1g" style="user-select: none;"><div class="goog-menuitem-content" style="user-select: none;"><!--?lit$075548653$-->Mostrar secciones<!--?lit$075548653$--></div></div><div command="save-section-layout" class=" goog-menuitem " role="menuitem" id=":1h" style="user-select: none;"><div class="goog-menuitem-content" style="user-select: none;"><!--?lit$075548653$-->Guardar diseño de secciones ocultas<!--?lit$075548653$--></div></div><div class="goog-menuseparator goog-menuitem-disabled" aria-disabled="true" role="separator" id=":1i" style="user-select: none;"></div><div command="hide-code" class=" goog-menuitem " role="menuitem" id=":1j" style="user-select: none;"><div class="goog-menuitem-content" style="user-select: none;"><!--?lit$075548653$-->Mostrar u ocultar el código<!--?lit$075548653$--></div></div><div command="toggle-output" class=" goog-menuitem " role="menuitem" id=":1k" style="user-select: none;"><div class="goog-menuitem-content" style="user-select: none;"><!--?lit$075548653$-->Mostrar u ocultar resultado<!--?lit$075548653$--></div></div><div class="goog-menuseparator goog-menuitem-disabled" aria-disabled="true" role="separator" id=":1l" style="user-select: none;"></div><div command="focus-next-tab" class=" goog-menuitem " role="menuitem" id=":1m" style="user-select: none;"><div class="goog-menuitem-content" style="user-select: none;"><!--?lit$075548653$-->Fijar la pestaña siguiente<!--?lit$075548653$--></div></div><div command="focus-previous-tab" class=" goog-menuitem " role="menuitem" id=":1n" style="user-select: none;"><div class="goog-menuitem-content" style="user-select: none;"><!--?lit$075548653$-->Fijar la pestaña anterior<!--?lit$075548653$--></div></div><div command="move-tab-to-next" class=" goog-menuitem " role="menuitem" id=":1o" style="user-select: none;"><div class="goog-menuitem-content" style="user-select: none;"><!--?lit$075548653$-->Mover pestaña al siguiente panel<!--?lit$075548653$--></div></div><div command="move-tab-to-prev" class=" goog-menuitem " role="menuitem" id=":1p" style="user-select: none;"><div class="goog-menuitem-content" style="user-select: none;"><!--?lit$075548653$-->Mover pestaña al panel anterior<!--?lit$075548653$--></div></div></div><div class="goog-menu" id="comments-submenu-menu" role="menu" aria-haspopup="true" style="display: none; user-select: none;"><!--?lit$075548653$--><div command="hide-sidebar-comments" class=" goog-menuitem goog-option-selectable " role="menuitem" id=":1b" style="user-select: none;"><div class="goog-menuitem-content" style="user-select: none;"><!--?lit$075548653$-->Ocultar comentarios<!--?lit$075548653$--></div></div><div command="show-minimized-sidebar-comments" class=" goog-menuitem goog-option-selectable " role="menuitem" id=":1c" style="user-select: none;"><div class="goog-menuitem-content" style="user-select: none;"><!--?lit$075548653$-->Minimizar comentarios<!--?lit$075548653$--></div></div><div command="show-expanded-sidebar-comments" class=" goog-menuitem goog-option-selectable " role="menuitem" id=":1d" style="user-select: none;"><div class="goog-menuitem-content" style="user-select: none;"><!--?lit$075548653$-->Desplegar comentarios<!--?lit$075548653$--></div></div></div><div class="goog-menu" id="insert-menu" role="menu" aria-haspopup="true" style="display: none; user-select: none;"><!--?lit$075548653$--><div command="insert-cell-below" class=" goog-menuitem " role="menuitem" id=":1r" style="user-select: none;"><div class="goog-menuitem-content" style="user-select: none;"><!--?lit$075548653$-->Celda de código<!--?lit$075548653$--></div></div><div command="add-text" class=" goog-menuitem " role="menuitem" id=":1s" style="user-select: none;"><div class="goog-menuitem-content" style="user-select: none;"><!--?lit$075548653$-->Celda de texto<!--?lit$075548653$--></div></div><div command="add-section-header" class=" goog-menuitem " role="menuitem" id=":1t" style="user-select: none;"><div class="goog-menuitem-content" style="user-select: none;"><!--?lit$075548653$-->Celda de encabezado de sección<!--?lit$075548653$--></div></div><div class="goog-menuseparator goog-menuitem-disabled" aria-disabled="true" role="separator" id=":1u" style="user-select: none;"></div><div command="open-scratch-code-cell" class=" goog-menuitem " role="menuitem" id=":1v" style="user-select: none;"><div class="goog-menuitem-content" style="user-select: none;"><!--?lit$075548653$-->Celda de código temporal<!--?lit$075548653$--></div></div><div command="snippets" class=" goog-menuitem " role="menuitem" id=":1w" style="user-select: none;"><div class="goog-menuitem-content" style="user-select: none;"><!--?lit$075548653$-->Fragmentos de código<!--?lit$075548653$--></div></div><div class="goog-menuseparator goog-menuitem-disabled" aria-disabled="true" role="separator" id=":1x" style="user-select: none;"></div><div command="add-form-field" class=" goog-menuitem " role="menuitem" id=":1y" style="user-select: none;"><div class="goog-menuitem-content" style="user-select: none;"><!--?lit$075548653$-->Añadir un campo de formulario<!--?lit$075548653$--></div></div></div><div class="goog-menu" id="runtime-menu" role="menu" aria-haspopup="true" style="display: none; user-select: none;"><!--?lit$075548653$--><div command="runall" class=" goog-menuitem " role="menuitem" id=":20" style="user-select: none;"><div class="goog-menuitem-content" style="user-select: none;"><!--?lit$075548653$-->Ejecutar todas<!--?lit$075548653$--></div></div><div command="runbefore" class=" goog-menuitem " role="menuitem" id=":21" style="user-select: none;"><div class="goog-menuitem-content" style="user-select: none;"><!--?lit$075548653$-->Ejecutar anteriores<!--?lit$075548653$--></div></div><div command="runfocused" class=" goog-menuitem " role="menuitem" id=":22" style="user-select: none;"><div class="goog-menuitem-content" style="user-select: none;"><!--?lit$075548653$-->Ejecutar celda seleccionada<!--?lit$075548653$--></div></div><div command="runselected" class=" goog-menuitem " role="menuitem" id=":23" style="user-select: none;"><div class="goog-menuitem-content" style="user-select: none;"><!--?lit$075548653$-->Ejecutar selección<!--?lit$075548653$--></div></div><div command="runafter" class=" goog-menuitem " role="menuitem" id=":24" style="user-select: none;"><div class="goog-menuitem-content" style="user-select: none;"><!--?lit$075548653$-->Ejecutar celda y las de abajo<!--?lit$075548653$--></div></div><div class="goog-menuseparator goog-menuitem-disabled" aria-disabled="true" role="separator" id=":25" style="user-select: none;"></div><div command="interrupt" class=" goog-menuitem " role="menuitem" id=":26" style="user-select: none;"><div class="goog-menuitem-content" style="user-select: none;"><!--?lit$075548653$-->Interrumpir ejecución<!--?lit$075548653$--></div></div><div command="restart" class=" goog-menuitem " role="menuitem" id=":27" style="user-select: none;"><div class="goog-menuitem-content" style="user-select: none;"><!--?lit$075548653$-->Reiniciar sesión<!--?lit$075548653$--></div></div><div command="restart-and-run-all" class=" goog-menuitem " role="menuitem" id=":28" style="user-select: none;"><div class="goog-menuitem-content" style="user-select: none;"><!--?lit$075548653$-->Reiniciar sesión y ejecutar todo<!--?lit$075548653$--></div></div><div command="powerwash-current-vm" class=" goog-menuitem " role="menuitem" id=":29" style="user-select: none;"><div class="goog-menuitem-content" style="user-select: none;"><!--?lit$075548653$-->Desconectarse y eliminar entorno de ejecución<!--?lit$075548653$--></div></div><div class="goog-menuseparator goog-menuitem-disabled" aria-disabled="true" role="separator" id=":2a" style="user-select: none;"></div><div command="change-runtime-type" class=" goog-menuitem " role="menuitem" id=":2b" style="user-select: none;"><div class="goog-menuitem-content" style="user-select: none;"><!--?lit$075548653$-->Cambiar tipo de entorno de ejecución<!--?lit$075548653$--></div></div><div class="goog-menuseparator goog-menuitem-disabled" aria-disabled="true" role="separator" id=":2c" style="user-select: none;"></div><div command="manage-sessions" class=" goog-menuitem " role="menuitem" id=":2d" style="user-select: none;"><div class="goog-menuitem-content" style="user-select: none;"><!--?lit$075548653$-->Gestionar sesiones<!--?lit$075548653$--></div></div><div command="open-resource-viewer" class=" goog-menuitem " role="menuitem" id=":2e" style="user-select: none;"><div class="goog-menuitem-content" style="user-select: none;"><!--?lit$075548653$-->Ver recursos<!--?lit$075548653$--></div></div><div command="view-runtime-logs" class=" goog-menuitem " role="menuitem" id=":2f" style="user-select: none;"><div class="goog-menuitem-content" style="user-select: none;"><!--?lit$075548653$-->Ver registros del entorno de ejecución<!--?lit$075548653$--></div></div></div><div class="goog-menu" id="tools-menu" role="menu" aria-haspopup="true" style="display: none; user-select: none;"><!--?lit$075548653$--><div command="show-command-palette" class=" goog-menuitem " role="menuitem" id=":2h" style="user-select: none;"><div class="goog-menuitem-content" style="user-select: none;"><!--?lit$075548653$-->Paleta de comandos<!--?lit$075548653$--></div></div><div class="goog-menuseparator goog-menuitem-disabled" aria-disabled="true" role="separator" id=":2i" style="user-select: none;"></div><div command="preferences" class=" goog-menuitem " role="menuitem" id=":2j" style="user-select: none;"><div class="goog-menuitem-content" style="user-select: none;"><!--?lit$075548653$-->Configuración<!--?lit$075548653$--></div></div><div command="shortcuts" class=" goog-menuitem " role="menuitem" id=":2k" style="user-select: none;"><div class="goog-menuitem-content" style="user-select: none;"><!--?lit$075548653$-->Combinaciones de teclas<!--?lit$075548653$--></div></div><div class="goog-menuseparator goog-menuitem-disabled" aria-disabled="true" role="separator" id=":2l" style="user-select: none;"></div><div command="open-differ" class=" goog-menuitem " role="menuitem" id=":2m" style="user-select: none;"><div class="goog-menuitem-content" style="user-select: none;"><!--?lit$075548653$-->Diferencias entre cuadernos<!--?lit$075548653$--> <span class="screenreader-only" style="user-select: none;"><!--?lit$075548653$-->(se abre en una nueva pestaña)</span></div></div></div><div class="goog-menu" id="help-menu" role="menu" aria-haspopup="true" style="display: none; user-select: none;"><!--?lit$075548653$--><div command="faq" class=" goog-menuitem " role="menuitem" id=":2o" style="user-select: none;"><div class="goog-menuitem-content" style="user-select: none;"><!--?lit$075548653$-->Preguntas frecuentes<!--?lit$075548653$--></div></div><div command="view-relnotes" class=" goog-menuitem " role="menuitem" id=":2p" style="user-select: none;"><div class="goog-menuitem-content" style="user-select: none;"><!--?lit$075548653$-->Ver notas de la versión<!--?lit$075548653$--></div></div><div command="snippets" class=" goog-menuitem " role="menuitem" id=":2q" style="user-select: none;"><div class="goog-menuitem-content" style="user-select: none;"><!--?lit$075548653$-->Buscar fragmentos de código<!--?lit$075548653$--></div></div><div class="goog-menuseparator goog-menuitem-disabled" aria-disabled="true" role="separator" id=":2r" style="user-select: none;"></div><div command="report-bug" class=" goog-menuitem " role="menuitem" id=":2s" style="user-select: none;"><div class="goog-menuitem-content" style="user-select: none;"><!--?lit$075548653$-->Notificar un problema<!--?lit$075548653$--></div></div><div command="report-abuse" class=" goog-menuitem " role="menuitem" id=":2t" style="user-select: none;"><div class="goog-menuitem-content" style="user-select: none;"><!--?lit$075548653$-->Denunciar uso inadecuado de Drive<!--?lit$075548653$--></div></div><div command="send-feedback" class=" goog-menuitem " role="menuitem" id=":2u" style="user-select: none;"><div class="goog-menuitem-content" style="user-select: none;"><!--?lit$075548653$-->Enviar comentarios<!--?lit$075548653$--></div></div><div command="view-tos" class=" goog-menuitem " role="menuitem" id=":2v" style="user-select: none;"><div class="goog-menuitem-content" style="user-select: none;"><!--?lit$075548653$-->Ver términos del servicio<!--?lit$075548653$--></div></div><div command="view-in-english" class=" goog-menuitem " role="menuitem" id=":2w" style="user-select: none;"><div class="goog-menuitem-content" style="user-select: none;"><!--?lit$075548653$-->Ver en inglés<!--?lit$075548653$--></div></div></div><dialog class="doc-comments-area" aria-label="Comentarios"><!----><div class="doc-comments-buttons">
        <md-text-button command="add-comment" value="" has-icon=""><template shadowrootmode="open" shadowrootdelegatesfocus><!---->
      <!--?lit$075548653$-->
      <div class="background"></div>
      <md-focus-ring part="focus-ring" for="button" aria-hidden="true"><template shadowrootmode="open"><!----></template></md-focus-ring>
      <md-ripple part="ripple" for="button" aria-hidden="true"><template shadowrootmode="open"><!----><div class="surface   "></div></template></md-ripple>
      <!--?lit$075548653$--><button id="button" class="button">
      <!--?lit$075548653$-->
      <span class="touch"></span>
      <!--?lit$075548653$--><slot name="icon"></slot>
      <span class="label"><slot></slot></span>
      <!--?lit$075548653$-->
    
    </button>
    </template>
          <md-icon slot="icon" filled="" aria-hidden="true"><template shadowrootmode="open"><!----><slot></slot></template>comment</md-icon>
          <!--?lit$075548653$-->Añadir un comentario
        </md-text-button>
      </div></dialog><div class="thumbnail"></div><iframe id="apiproxy281d65ffbdb8c750341960e9def7d02a0fe0d9310.1072214925" name="apiproxy281d65ffbdb8c750341960e9def7d02a0fe0d9310.1072214925" src="./SSP_files/proxy.html" tabindex="-1" aria-hidden="true" style="width: 1px; height: 1px; position: absolute; top: -100px; display: none;"></iframe><iframe src="./SSP_files/bscframe.html" style="display: none;"></iframe><div><div class="grecaptcha-badge" data-style="bottomright" style="width: 256px; height: 60px; position: fixed; visibility: hidden; display: block; transition: right 0.3s; bottom: 14px; right: -186px; box-shadow: gray 0px 0px 5px; border-radius: 2px; overflow: hidden;"><div class="grecaptcha-logo"><iframe title="reCAPTCHA" width="256" height="60" role="presentation" name="a-v83nitqrw69i" frameborder="0" scrolling="no" sandbox="allow-forms allow-popups allow-same-origin allow-scripts allow-top-navigation allow-modals allow-popups-to-escape-sandbox allow-storage-access-by-user-activation" src="./SSP_files/anchor.html"></iframe></div><div class="grecaptcha-error"></div><textarea id="g-recaptcha-response-100000" name="g-recaptcha-response" class="g-recaptcha-response" style="width: 250px; height: 40px; border: 1px solid rgb(193, 193, 193); margin: 10px 25px; padding: 0px; resize: none; display: none;"></textarea></div><iframe style="display: none;" src="./SSP_files/saved_resource.html"></iframe></div><div class="monaco-aria-container"><div class="monaco-alert" role="alert" aria-atomic="true"></div><div class="monaco-alert" role="alert" aria-atomic="true"></div><div class="monaco-status" role="complementary" aria-live="polite" aria-atomic="true"></div><div class="monaco-status" role="complementary" aria-live="polite" aria-atomic="true"></div></div></body></html>